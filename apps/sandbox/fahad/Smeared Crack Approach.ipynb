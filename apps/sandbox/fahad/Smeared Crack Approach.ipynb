{
 "cells": [
  {
   "cell_type": "code",
   "execution_count": 1,
   "metadata": {},
   "outputs": [],
   "source": [
    "import sympy as sp\n",
    "import numpy as np"
   ]
  },
  {
   "cell_type": "markdown",
   "metadata": {},
   "source": [
    "# Smeared Crack Models"
   ]
  },
  {
   "cell_type": "markdown",
   "metadata": {},
   "source": [
    "## Introduction\n",
    "The smeared crack models dates back to the 1960s. In the beginning it was assumed that the crack direction is fixed and the shear tractions across the crack were treated with the shear retention factors. Later in the research the rotation of axes of material orthotropy was taken into account and the rotating crack model was developed. However, the rotating crack model suffers stress locking which occurs in the finite element simulations at meshes not aligned with the crack directions. Furthermore, this phenomenon leads to misprediction of structural ductility and the failure pattern. \n",
    "When the material is in uncracked state, the overall response is linearly elastic and the crack strain is zero. A crack is initiated when the stress reaches the tensile strength of the material $f_t$. A constitutive law governing the stress evolution after the crack initiation is depicted as:\n",
    "\\begin{gather*}\n",
    "\\sigma = f^c(\\epsilon^c) \n",
    "\\end{gather*}\n",
    "Here, the cohesive stress is considered as the function of crack strain and the function $f^c$ is obtained from experiments. In real situations, microcrack have different sizes, shapes and orientations. They are not necessariy planar and their faces are rough. However, simplifications are needed for the purpose of modelling. Hence, an equivalent computational crack which is perfectly planar and its direction defined by a unit vector n is assumed. Furthermore, it is assumed that the crack opening and sliding are affected only by traction vector acting on the crack plane i.e by first order tensor:\n",
    "\\begin{gather*}\n",
    "t^c = n \\cdot \\sigma \n",
    "\\end{gather*}"
   ]
  },
  {
   "cell_type": "markdown",
   "metadata": {},
   "source": [
    "The unit vector n lies normal to the crack whereas orthogonal unit vectors m and l lies in the crack plane. According to such local coordinate system,  the traction on the crack plane can be given as:\n",
    "\\begin{gather*}\n",
    "t^c = \\sigma_{nn} n + \\sigma_{nm} m + \\sigma l \n",
    "\\end{gather*}\n",
    "Here, $\\sigma_{nn} = t^c \\cdot n = n \\cdot \\sigma \\cdot n $ is the normal traction $\\sigma_{nm} = t^c \\cdot m = n \\cdot \\sigma \\cdot m $ and $\\sigma_{nl} = t^c \\cdot l = n \\cdot \\sigma \\cdot l $ are the shear tractions. The opening of the crack contributes to the normal strain $\\epsilon^c_{nn}$ which lies in the direction perpendicular to the crack. The sliding of the crack contributes to the shear strains $\\gamma^c_{nm}$ and $\\gamma^c_{nl}$ in planes perpendicular to the crack. In tensorial representation, it will be written as:\n",
    "\\begin{gather*}\n",
    "\\epsilon^c = \\epsilon^c_{nn} n \\otimes n + \\gamma^c_{nm}(n \\otimes m)_{sym} + \\gamma^c_{nl}(n \\otimes l)_{sym} = (n \\otimes \\epsilon^c)_{sym}\n",
    "\\end{gather*}"
   ]
  },
  {
   "cell_type": "markdown",
   "metadata": {},
   "source": [
    "Here, \n",
    "\\begin{gather*}\n",
    "\\boldsymbol{e}^c = \\epsilon^c_{nn} n + \\gamma^c_{nm} m + \\gamma^c_{nl} l\n",
    "\\end{gather*}\n",
    "The equation represents the crack strain vector. Hence, the stress becomes:\n",
    "\\begin{gather*}\n",
    "\\sigma = \\boldsymbol{E} : (\\epsilon - n \\otimes \\boldsymbol{e}^c)\n",
    "\\end{gather*}\n",
    "where, $\\boldsymbol{e}^c$ is the internal variable. Crack initiation is controlled by the smeared crack models using Rankine criterion of maximum principle stress. Under mode I condition the crack propagates in it own plane and normal $n$ doesnot change whereas two different approaches are possible under mixed mode conditions:\n",
    "- The crack direction is freezed and the softening law is postulated in the fied crack models that links crack strain vector to all components of crack traction vector. \n",
    "- An assumption that the crack normal always remain aligned with the current direction of the maximum principal strain is made in Rotating Crack model. Furthermore, the shear components of crack strain and traciton vector are zero. "
   ]
  },
  {
   "cell_type": "markdown",
   "metadata": {},
   "source": [
    "<img src=\"smearedcrackapproach.PNG\" width=\"500\"/>"
   ]
  },
  {
   "cell_type": "markdown",
   "metadata": {},
   "source": [
    "## Single Fixed Crack Approach\n",
    "In this approach in order to define the softening crack-opening relation a linear elastic material tensor is coupled via a static constraint with a local matrix. Even though the principal stresses may rotate during the analysis, the behaviour is defined on principal tensile plane and the orientation of this plane is fixed towards the direciton where trespassing of tensile resistance occured first. As we know that only two stress and strain components exist on the crack plane therefore, the crack stress increment tensor can be written as:\n",
    "\\begin{gather*}\n",
    "\\Delta \\sigma_{cr} = (\\Delta \\sigma_n \\Delta \\sigma_t)\n",
    "\\end{gather*}\n",
    "whereas, $n = (n_x n_y), t = (t_x t_y)$ represents the unit vector normal and tangential to the crack plane respectively. Furthermore, the transformation matrix between the global and the local coordinate system is given as:\n",
    "\\begin{gather*}\n",
    "N_{cr} = \n",
    "\\begin{pmatrix}\n",
    "n_x^2 & n_y^2 & 2 n_x t_x\\\\\n",
    "n_x n_y & t_x t_y & n_x t_y + n_y t_x\n",
    "\\end{pmatrix}\n",
    "\\end{gather*}"
   ]
  },
  {
   "cell_type": "code",
   "execution_count": 2,
   "metadata": {},
   "outputs": [
    {
     "data": {
      "text/latex": [
       "$\\displaystyle \\Delta \\sigma_n \\Delta \\sigma_t$"
      ],
      "text/plain": [
       "\\Delta \\sigma_n*\\Delta \\sigma_t"
      ]
     },
     "execution_count": 2,
     "metadata": {},
     "output_type": "execute_result"
    }
   ],
   "source": [
    "delta_sigma_n = sp.Symbol(r'\\Delta \\sigma_n', nonnegative = True)\n",
    "delta_sigma_t = sp.Symbol(r'\\Delta \\sigma_t', nonnegative = True)\n",
    "n_x = sp.Symbol('n_x', nonnegative = True)\n",
    "n_y = sp.Symbol('n_y', nonnegative = True)\n",
    "t_x = sp.Symbol('t_x', nonnegative = True)\n",
    "t_y = sp.Symbol('t_y', nonnegative = True)\n",
    "delta_sigma_cr = delta_sigma_n * delta_sigma_t\n",
    "delta_sigma_cr"
   ]
  },
  {
   "cell_type": "code",
   "execution_count": 3,
   "metadata": {},
   "outputs": [
    {
     "data": {
      "text/latex": [
       "$\\displaystyle \\left[\\begin{matrix}n_{x}^{2} & n_{y}^{2} & 2 n_{x} t_{x}\\\\n_{x} n_{y} & t_{x} t_{y} & n_{x} t_{y} + n_{y} t_{x}\\end{matrix}\\right]$"
      ],
      "text/plain": [
       "Matrix([\n",
       "[ n_x**2,  n_y**2,         2*n_x*t_x],\n",
       "[n_x*n_y, t_x*t_y, n_x*t_y + n_y*t_x]])"
      ]
     },
     "execution_count": 3,
     "metadata": {},
     "output_type": "execute_result"
    }
   ],
   "source": [
    "N_cr = sp.Matrix([[n_x**2, n_y**2, 2*n_x*t_x],\n",
    "              [n_x*n_y, t_x*t_y, n_x*t_y+n_y*t_x]])\n",
    "N_cr"
   ]
  },
  {
   "cell_type": "markdown",
   "metadata": {},
   "source": [
    "However, the basic concept of single smeared crack approach is defined as:\n",
    "\\begin{gather*}\n",
    "\\Delta \\sigma_{cr} = N_{cr}  \\Delta \\sigma\n",
    "\\end{gather*}\n",
    "This equation shows that the projection of global stress tensor on the crack plane must be in equilibrium with the crack stresses."
   ]
  },
  {
   "cell_type": "code",
   "execution_count": 4,
   "metadata": {},
   "outputs": [
    {
     "data": {
      "text/latex": [
       "$\\displaystyle \\left[\\begin{matrix}\\Delta \\sigma n_{x}^{2} & \\Delta \\sigma n_{y}^{2} & 2 \\Delta \\sigma n_{x} t_{x}\\\\\\Delta \\sigma n_{x} n_{y} & \\Delta \\sigma t_{x} t_{y} & \\Delta \\sigma \\left(n_{x} t_{y} + n_{y} t_{x}\\right)\\end{matrix}\\right]$"
      ],
      "text/plain": [
       "Matrix([\n",
       "[ \\Delta \\sigma*n_x**2,  \\Delta \\sigma*n_y**2,           2*\\Delta \\sigma*n_x*t_x],\n",
       "[\\Delta \\sigma*n_x*n_y, \\Delta \\sigma*t_x*t_y, \\Delta \\sigma*(n_x*t_y + n_y*t_x)]])"
      ]
     },
     "execution_count": 4,
     "metadata": {},
     "output_type": "execute_result"
    }
   ],
   "source": [
    "delta_sigma = sp.Symbol(r'\\Delta \\sigma', nonnegative = True)\n",
    "delta_sigma_cr = N_cr * delta_sigma\n",
    "delta_sigma_cr"
   ]
  },
  {
   "cell_type": "markdown",
   "metadata": {
    "slideshow": {
     "slide_type": "slide"
    }
   },
   "source": [
    "The below mentioned relation is formed to assemble the material stiffness matrix.\n",
    "\\begin{gather*}\n",
    "\\Delta \\sigma_{cr} = K_{cr}  \\Delta \\textbf{e}_{cr}\n",
    "\\end{gather*}\n",
    "Here, $K_{cr}$ shows the tangent stiffness matrix for the crack plane and $\\Delta \\textbf{e}_{cr} = (\\epsilon_n \\epsilon_t)$ depicts the crack strain vectors with normal and tangential components. The crack element is assembled in series as shown in the figure."
   ]
  },
  {
   "cell_type": "markdown",
   "metadata": {},
   "source": [
    "<img src=\"fixedcrackapproach.PNG\" width=\"600\"/>"
   ]
  },
  {
   "cell_type": "markdown",
   "metadata": {},
   "source": [
    "With reference to the above figure the total strain is found as the sum of the elastic and the crack strains given as:\n",
    "\\begin{gather*}\n",
    "\\Delta \\epsilon_{tot} = \\Delta \\epsilon_{el} +  N^T_{cr} \\Delta \\textbf{e}_{cr}\n",
    "\\end{gather*}\n",
    "Here, the second part of the equation represents the crack strain. However, now the total stiffness can be calculated as:\n",
    "\\begin{gather*}\n",
    "K^{tot} = K^{el} - K^{el} N^T_{cr}(K^{cr}+ N_{cr} K^{el} N^T_{cr})^{-1} N_{cr} K^{el}\n",
    "\\end{gather*}\n",
    "This method assembling the material stiffness matrix is quite similar to the discrete crack approach. For the case of plane stress, the typical form of stiffness crack matrix is:\n",
    "\\begin{gather*}\n",
    "K^{cr} = \n",
    "\\begin{pmatrix}\n",
    "\\frac{\\mu}{1-\\mu}E & 0\\\\\n",
    "0 & \\frac{\\beta}{1-\\beta}G\n",
    "\\end{pmatrix}\n",
    "\\end{gather*}"
   ]
  },
  {
   "cell_type": "code",
   "execution_count": 5,
   "metadata": {},
   "outputs": [
    {
     "data": {
      "text/latex": [
       "$\\displaystyle \\left[\\begin{matrix}\\frac{E \\mu}{1 - \\mu} & 0\\\\0 & \\frac{G \\beta}{1 - \\beta}\\end{matrix}\\right]$"
      ],
      "text/plain": [
       "Matrix([\n",
       "[E*\\mu/(1 - \\mu),                   0],\n",
       "[              0, G*\\beta/(1 - \\beta)]])"
      ]
     },
     "execution_count": 5,
     "metadata": {},
     "output_type": "execute_result"
    }
   ],
   "source": [
    "mu = sp.Symbol(r'\\mu', nonnegative = True)\n",
    "beta = sp.Symbol(r'\\beta', nonnegative = True)\n",
    "E = sp.Symbol('E', nonnegative = True)\n",
    "G = sp.Symbol('G', nonnegative = True)\n",
    "K_cr = sp.Matrix([[mu/(1-mu)*E, 0],\n",
    "                 [0, beta/(1-beta)*G]])\n",
    "K_cr"
   ]
  },
  {
   "cell_type": "markdown",
   "metadata": {},
   "source": [
    "By using this relation the opening and the sliding cracks depicting mode I and mode II are related to the elastic stiffness via two coefficients. $\\mu$ depicts mode I behavior, its negative and highlights the softening branch of stress strain curve whereas $\\beta$ represents the shear retention factor. As we know that the crack opening is based on the threshold value for either principal stresses or principal strains and at crack initiation the condition $0 < \\beta \\leq 1$ must be satisfied. The component of shear stress at crack initiation on crack plane is zero and any increment of shear strain on this plan must give a nonnegative value of stress. When we have values for both $mu$ and $beta$ than the principal axes for stressesand strains rotate that results in loss of coaxiality. The term $\\beta$ in this equation is found by:\n",
    "\\begin{gather*}\n",
    "\\beta = \\left( 1 - \\frac{\\epsilon^{cr}_1}{\\epsilon^{cr}_M} \\right)^{p}\n",
    "\\end{gather*}\n",
    "where, $\\epsilon^{cr}_1$ shows strains normal to the crack plane, $\\epsilon^{cr}_M$ depicts strain values at the moment when microcrack coalesce into a continuous macrocrack and $p$ is a positive constant larger than zero. This equation shows that $\\beta$ decreases when we increase the crack width according to the power law which according to experimental observations look logical. "
   ]
  },
  {
   "cell_type": "code",
   "execution_count": 6,
   "metadata": {},
   "outputs": [
    {
     "data": {
      "text/latex": [
       "$\\displaystyle \\left(- \\frac{\\epsilon^{cr}_1}{\\epsilon^{cr}_M} + 1\\right)^{p}$"
      ],
      "text/plain": [
       "(-\\epsilon^{cr}_1/\\epsilon^{cr}_M + 1)**p"
      ]
     },
     "execution_count": 6,
     "metadata": {},
     "output_type": "execute_result"
    }
   ],
   "source": [
    "epsilon_cr_1 = sp.Symbol(r'\\epsilon^{cr}_1', nonnegative = True)\n",
    "epsilon_cr_M = sp.Symbol(r'\\epsilon^{cr}_M', nonnegative = True)\n",
    "p = sp.Symbol('p', nonnegative = True) #only positive according to literature\n",
    "beta = (1 - (epsilon_cr_1/epsilon_cr_M))**p\n",
    "beta"
   ]
  },
  {
   "cell_type": "markdown",
   "metadata": {},
   "source": [
    "## Rotating Crack Models\n",
    "The assembly of the material stiffness matrix is identical to the fixed crack approach and the only difference is the coordinate transformation matrix $N_{cr}$ which is upgraded at every step and follows the principal axes rotation. In this model, the plane of the crack is allowed to rotate and is assumed to remain perpendicular to the direction of maximum principal strain. In the case of the physical crack lying in a certain plane, it is rightly to say that it cannot rotate but in the case of the propagation of the crack under general loading it can deviate from the original plane and can become non planar. Even in RCM, we lost coaxiality due to rotation but this can be overcome if we drop arbitrariness of the shear retention factor and the resulting shear stiffness imposes coaxiality of prinicipal stresses and strain. However, to impose coaxiality the following relation has to be satisfied:\n",
    "\\begin{gather*}\n",
    "k^{tot}_{33} = \\frac{\\sigma_1 - \\sigma_2}{2(\\epsilon_1 - \\epsilon_2)}\n",
    "\\end{gather*} \n",
    "where, $\\sigma_1$ is the stress corresponding to the strain $\\epsilon_1$ which can be smaller than $\\sigma_2$ due to softening. New cracks in plane not parallel to the original crack plane can be created. This can be reflected in the model by the change of the original equivalent computational crack's direction.  By the assumption that the crack is aligned to the principal direction, the shear components of the crack become zero. Hence equation is simplified as:\n",
    "\\begin{gather*}\n",
    "\\boldsymbol{e}^c = \\epsilon^c_{nn} n\n",
    "\\end{gather*} \n",
    "and the stress becomes:\n",
    "\\begin{gather*}\n",
    "\\sigma = {E} : (\\epsilon - {N} \\epsilon^c_{nn} )\n",
    "\\end{gather*}"
   ]
  },
  {
   "cell_type": "code",
   "execution_count": 7,
   "metadata": {},
   "outputs": [
    {
     "data": {
      "text/latex": [
       "$\\displaystyle \\epsilon^{c}_{nn}$"
      ],
      "text/plain": [
       "\\epsilon^{c}_{nn}"
      ]
     },
     "execution_count": 7,
     "metadata": {},
     "output_type": "execute_result"
    }
   ],
   "source": [
    "epsilon_c_nn = sp.Symbol(r'\\epsilon^{c}_{nn}', nonnegative = True)\n",
    "n = sp.Symbol('n', nonnegative = True)\n",
    "E= sp.Symbol('E', nonnegative = True)\n",
    "N= sp.Symbol('N', nonnegative = True)\n",
    "epsilon = sp.Symbol('\\epsilon', nonnegative = True)\n",
    "epsilon_c_nn"
   ]
  },
  {
   "cell_type": "code",
   "execution_count": 8,
   "metadata": {},
   "outputs": [
    {
     "data": {
      "text/latex": [
       "$\\displaystyle \\epsilon^{c}_{nn} n$"
      ],
      "text/plain": [
       "\\epsilon^{c}_{nn}*n"
      ]
     },
     "execution_count": 8,
     "metadata": {},
     "output_type": "execute_result"
    }
   ],
   "source": [
    "e_c = epsilon_c_nn * n\n",
    "e_c"
   ]
  },
  {
   "cell_type": "code",
   "execution_count": 9,
   "metadata": {},
   "outputs": [
    {
     "data": {
      "text/latex": [
       "$\\displaystyle E \\left(- N \\epsilon^{c}_{nn} + \\epsilon\\right)$"
      ],
      "text/plain": [
       "E*(-N*\\epsilon^{c}_{nn} + \\epsilon)"
      ]
     },
     "execution_count": 9,
     "metadata": {},
     "output_type": "execute_result"
    }
   ],
   "source": [
    "sigma = E * (epsilon - N * epsilon_c_nn ) \n",
    "sigma"
   ]
  },
  {
   "cell_type": "markdown",
   "metadata": {},
   "source": [
    "Here, for convenience the second order tensor $n \\otimes n$ is deonted as $N$. Appropriate projection of the stress tensor evaluates the normal traction on the crack plane:\n",
    "\\begin{gather*}\n",
    "\\sigma_{nn} = n \\cdot \\sigma \\cdot n = N : \\sigma = N:{E} : \\epsilon - N:{E} : {N} \\epsilon^c_{nn} \n",
    "\\end{gather*}"
   ]
  },
  {
   "cell_type": "code",
   "execution_count": 10,
   "metadata": {},
   "outputs": [
    {
     "data": {
      "text/latex": [
       "$\\displaystyle - E N^{2} \\epsilon^{c}_{nn} + E N \\epsilon$"
      ],
      "text/plain": [
       "-E*N**2*\\epsilon^{c}_{nn} + E*N*\\epsilon"
      ]
     },
     "execution_count": 10,
     "metadata": {},
     "output_type": "execute_result"
    }
   ],
   "source": [
    "sigma_nn = N*E*epsilon - N*E*N*epsilon_c_nn\n",
    "sigma_nn"
   ]
  },
  {
   "cell_type": "markdown",
   "metadata": {},
   "source": [
    "This traction is linked to the normal crack strain at the same time by the scalar cohesive law:\n",
    "\\begin{gather*}\n",
    "\\sigma_{nn} =  f^c (\\epsilon^c_{nn})\n",
    "\\end{gather*}"
   ]
  },
  {
   "cell_type": "code",
   "execution_count": 11,
   "metadata": {},
   "outputs": [
    {
     "data": {
      "text/latex": [
       "$\\displaystyle \\epsilon^{c}_{nn} f^{c}$"
      ],
      "text/plain": [
       "\\epsilon^{c}_{nn}*f^{c}"
      ]
     },
     "execution_count": 11,
     "metadata": {},
     "output_type": "execute_result"
    }
   ],
   "source": [
    "f_c = sp.Symbol('f^{c}', nonnegative = True) #function  (cohesive law)\n",
    "sigma_nn1 = f_c*(epsilon_c_nn)\n",
    "sigma_nn1"
   ]
  },
  {
   "cell_type": "markdown",
   "metadata": {},
   "source": [
    "Hence, the equation becomes:\n",
    "\\begin{gather*}\n",
    "N:{E} : \\epsilon - N:{E} : {N} \\epsilon^c_{nn} = f^c (\\epsilon^c_{nn})\n",
    "\\end{gather*}"
   ]
  },
  {
   "cell_type": "code",
   "execution_count": 12,
   "metadata": {},
   "outputs": [
    {
     "data": {
      "text/latex": [
       "$\\displaystyle - E N^{2} \\epsilon^{c}_{nn} + E N \\epsilon = \\epsilon^{c}_{nn} f^{c}$"
      ],
      "text/plain": [
       "Eq(-E*N**2*\\epsilon^{c}_{nn} + E*N*\\epsilon, \\epsilon^{c}_{nn}*f^{c})"
      ]
     },
     "execution_count": 12,
     "metadata": {},
     "output_type": "execute_result"
    }
   ],
   "source": [
    "compare = sp.Eq(sigma_nn, sigma_nn1)\n",
    "compare"
   ]
  },
  {
   "cell_type": "markdown",
   "metadata": {},
   "source": [
    "The above equation represents the internal equilibrium condition with only one scalar unknown $\\epsilon^{c}_{nn}$. The crack strain $\\epsilon^{c}_{nn}$ can be obtained by the Newton Method and than by substitution of the results we obtain the stress tensor. To derive the tangent stiffness matrix tensor for the rotating crack model, first the internal equilibrium condition is converted into rate form. An important point to be kept in mind is that crack normal rotates and hence, the second order tensor $N = n \\otimes n$ is variable in time. This needs to be taken into account while differentiating. The Rotating crack mode is the simplest model to take into account the crack induced anisotopy within a framework close to continuum mechanics. However, it has some implications i.e. it is not thermodynamically consistent. Furthermore, in this approach the tangent stiffness remains constant only if tensor $N$ remains constant i.e. if the principal axis do not rotate and in some cases the unloading can also lose positive defiteness which leads to non physica instabilities. "
   ]
  },
  {
   "cell_type": "markdown",
   "metadata": {},
   "source": [
    "## Microplane Material Model"
   ]
  },
  {
   "cell_type": "markdown",
   "metadata": {},
   "source": [
    "<img src=\"microplane.PNG\" width=\"600\"/>"
   ]
  },
  {
   "cell_type": "markdown",
   "metadata": {},
   "source": [
    "In this model a number of fixed planes of various orientations is used where simple uniaxial stress strain relations are monitored. The major difference between microplane model and multiple smeared crack model is the way in which strains on microplanes are found. The microplane strains in the microplane material model are the resolved components of total macroscopic tensor. The strain on differently oriented microplanes is found as:\n",
    "\\begin{gather*}\n",
    "\\Delta \\epsilon_m = N_{m}  \\Delta \\epsilon\n",
    "\\end{gather*}\n",
    "If the above equation is written in two dimension the transformation matrix $N_m$ is attained in the similar fashion as $N_{cr}$"
   ]
  },
  {
   "cell_type": "code",
   "execution_count": 16,
   "metadata": {},
   "outputs": [
    {
     "data": {
      "text/latex": [
       "$\\displaystyle N_{m} \\Delta \\epsilon$"
      ],
      "text/plain": [
       "N_m*\\Delta \\epsilon"
      ]
     },
     "execution_count": 16,
     "metadata": {},
     "output_type": "execute_result"
    }
   ],
   "source": [
    "N_m = sp.Symbol('N_m', nonnegative =True)\n",
    "delta_epsilon = sp.Symbol(r'\\Delta \\epsilon', nonenagitive = True)\n",
    "delta_epsilon_m = N_m * delta_epsilon\n",
    "delta_epsilon_m"
   ]
  },
  {
   "cell_type": "markdown",
   "metadata": {},
   "source": [
    "The material behavior on each microplane is defined for $\\epsilon_n \\geq 0$ as:\n",
    "\\begin{gather*}\n",
    "\\sigma_n = C_{N}^0 (1 - \\omega_N) \\epsilon_n\n",
    "\\end{gather*}\n",
    "\\begin{gather*}\n",
    "\\sigma_t = C_{T}^0 (1 - \\omega_T) \\epsilon_t\n",
    "\\end{gather*}\n",
    "with,\n",
    "\\begin{gather*}\n",
    "w_N = 1 - exp \\left[-\\left(\\frac{\\epsilon_n}{e_1}\\right)^{k}\\right]\n",
    "\\end{gather*}\n",
    "\\begin{gather*}\n",
    "w_T = 1 - exp \\left[-\\left(\\frac{\\epsilon_t}{e_2}\\right)^{r}\\right]\n",
    "\\end{gather*}\n",
    "Here, $e_1,e_2, k, r$ are constants to be specified as input parameters for the model. Once we attain the stresses on microplane from microplane strain components and microplane constitutive relations than the corresponding material stiffness matrix and the macrostresses can be found via the equality of the virtual work on the micro and macroplane level which for two dimensions is given as:\n",
    "\\begin{gather*}\n",
    "\\Delta \\sigma^{T}\\Delta \\epsilon = \\int_S \\Delta \\sigma^{T}_m \\Delta \\epsilon_m dS\n",
    "\\end{gather*}\n",
    "The stress strain relation on the microplane in tangent form is written as:\n",
    "\\begin{equation}\n",
    "\\Delta \\sigma_{m} = K^{m} \\Delta \\epsilon_m + \\Delta \\rho_m\n",
    "\\label{eq:dsm}\n",
    "\\end{equation}\n",
    "here, $\\rho_m$ is nonelastic stress strain vector and $K^{m}$ is tangent stiffness matrix which is given as:\n",
    "\\begin{equation}\n",
    "K^{m} = \n",
    "{\\begin{pmatrix}\n",
    "\\frac{d\\sigma_n}{d\\epsilon_n} & 0 \\\\\n",
    "0 &  \\frac{d\\sigma_t}{d\\epsilon_t}\n",
    "\\end{pmatrix}}\n",
    "\\label{eq:Kcr}\n",
    "\\end{equation}\n",
    "Finally as we can get the macroscopic stress tensor as:\n",
    "\\begin{equation}\n",
    "\\Delta \\sigma = \\left[\\int_s N_m^{T}K^{m}N_m dS\\right]\\Delta \\epsilon +  \\left[\\int_s N_m^{T} +\\Delta \\rho dS\\right]\n",
    "\\label{eq:ds}\n",
    "\\end{equation}\n",
    "Microplane Material model has better convergence rate and improved numerical behavior."
   ]
  },
  {
   "cell_type": "code",
   "execution_count": 17,
   "metadata": {},
   "outputs": [
    {
     "data": {
      "text/latex": [
       "$\\displaystyle C^{0}_T \\epsilon_t e^{- \\left(\\frac{\\epsilon_t}{e_{2}}\\right)^{r}}$"
      ],
      "text/plain": [
       "C^{0}_T*\\epsilon_t*exp(-(\\epsilon_t/e_2)**r)"
      ]
     },
     "execution_count": 17,
     "metadata": {},
     "output_type": "execute_result"
    }
   ],
   "source": [
    "C_0_N = sp.Symbol(r'C^{0}_N', nonnegative = True)\n",
    "C_0_T = sp.Symbol(r'C^{0}_T', nonnegative = True)\n",
    "epsilon_n = sp.Symbol(r'\\epsilon_n', nonnegative = True)\n",
    "epsilon_t = sp.Symbol(r'\\epsilon_t', nonnegative = True)\n",
    "e_1 = sp.Symbol('e_1', nonnegative = True)\n",
    "e_2 = sp.Symbol('e_2', nonnegative = True)\n",
    "k = sp.Symbol('k', nonnegative = True)\n",
    "r = sp.Symbol('r', nonnegative = True)\n",
    "omega_N = 1 - sp.exp(-(epsilon_n/e_1)**k)\n",
    "omega_T = 1 - sp.exp(-(epsilon_t/e_2)**r)\n",
    "sigma_n = C_0_N * (1 - omega_N)*epsilon_n\n",
    "sigma_t = C_0_T * (1 - omega_T)*epsilon_t \n",
    "sigma_t"
   ]
  },
  {
   "cell_type": "code",
   "execution_count": 18,
   "metadata": {},
   "outputs": [
    {
     "data": {
      "text/latex": [
       "$\\displaystyle \\left[\\begin{matrix}N_{m} S \\Delta \\epsilon \\left(N_{m} \\Delta \\epsilon \\left(- C^{0}_N k \\left(\\frac{\\epsilon_n}{e_{1}}\\right)^{k} e^{- \\left(\\frac{\\epsilon_n}{e_{1}}\\right)^{k}} + C^{0}_N e^{- \\left(\\frac{\\epsilon_n}{e_{1}}\\right)^{k}}\\right) + \\Delta \\rho_m\\right) & N_{m} S \\Delta \\epsilon \\Delta \\rho_m\\\\N_{m} S \\Delta \\epsilon \\Delta \\rho_m & N_{m} S \\Delta \\epsilon \\left(N_{m} \\Delta \\epsilon \\left(- C^{0}_T r \\left(\\frac{\\epsilon_t}{e_{2}}\\right)^{r} e^{- \\left(\\frac{\\epsilon_t}{e_{2}}\\right)^{r}} + C^{0}_T e^{- \\left(\\frac{\\epsilon_t}{e_{2}}\\right)^{r}}\\right) + \\Delta \\rho_m\\right)\\end{matrix}\\right]$"
      ],
      "text/plain": [
       "Matrix([\n",
       "[N_m*S*\\Delta \\epsilon*(N_m*\\Delta \\epsilon*(-C^{0}_N*k*(\\epsilon_n/e_1)**k*exp(-(\\epsilon_n/e_1)**k) + C^{0}_N*exp(-(\\epsilon_n/e_1)**k)) + \\Delta \\rho_m),                                                                                                                        N_m*S*\\Delta \\epsilon*\\Delta \\rho_m],\n",
       "[                                                                                                                       N_m*S*\\Delta \\epsilon*\\Delta \\rho_m, N_m*S*\\Delta \\epsilon*(N_m*\\Delta \\epsilon*(-C^{0}_T*r*(\\epsilon_t/e_2)**r*exp(-(\\epsilon_t/e_2)**r) + C^{0}_T*exp(-(\\epsilon_t/e_2)**r)) + \\Delta \\rho_m)]])"
      ]
     },
     "execution_count": 18,
     "metadata": {},
     "output_type": "execute_result"
    }
   ],
   "source": [
    "K_m = sp.Matrix([[sp.diff(sigma_n, epsilon_n), 0],\n",
    "                [0, sp.diff(sigma_t, epsilon_t)]])\n",
    "delta_rho_m = sp.Symbol(r'\\Delta \\rho_m', nonnegative = True)\n",
    "delta_rho_m_v = sp.Matrix([[delta_rho_m, delta_rho_m],\n",
    "                          [delta_rho_m, delta_rho_m]])\n",
    "delta_sigma_m = (K_m * delta_epsilon_m) + delta_rho_m_v\n",
    "S = sp.Symbol('S', nonnegative = True)\n",
    "del_sig_t_del_eps = sp.integrate( delta_sigma_m.T * delta_epsilon_m, S)\n",
    "del_sig_t_del_eps"
   ]
  },
  {
   "cell_type": "code",
   "execution_count": null,
   "metadata": {},
   "outputs": [],
   "source": []
  }
 ],
 "metadata": {
  "kernelspec": {
   "display_name": "Python 3",
   "language": "python",
   "name": "python3"
  },
  "language_info": {
   "codemirror_mode": {
    "name": "ipython",
    "version": 3
   },
   "file_extension": ".py",
   "mimetype": "text/x-python",
   "name": "python",
   "nbconvert_exporter": "python",
   "pygments_lexer": "ipython3",
   "version": "3.7.6"
  },
  "toc": {
   "base_numbering": 1,
   "nav_menu": {},
   "number_sections": true,
   "sideBar": true,
   "skip_h1_title": false,
   "title_cell": "Table of Contents",
   "title_sidebar": "Contents",
   "toc_cell": false,
   "toc_position": {
    "height": "calc(100% - 180px)",
    "left": "10px",
    "top": "150px",
    "width": "210.818px"
   },
   "toc_section_display": true,
   "toc_window_display": true
  }
 },
 "nbformat": 4,
 "nbformat_minor": 4
}
