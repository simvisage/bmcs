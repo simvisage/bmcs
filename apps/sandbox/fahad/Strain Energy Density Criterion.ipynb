{
 "cells": [
  {
   "cell_type": "code",
   "execution_count": 1,
   "metadata": {},
   "outputs": [],
   "source": [
    "import sympy as sp\n",
    "import numpy as np"
   ]
  },
  {
   "cell_type": "markdown",
   "metadata": {},
   "source": [
    "# Strain Based Criterion"
   ]
  },
  {
   "cell_type": "markdown",
   "metadata": {},
   "source": [
    "This concept was introduced by Sih to predict the load at failure. In this approach the continuum is viewed as an assembly of small building blocks. Each of these blocks can store a finite amount of energy and contains a finite volume at a given instant of time. Energy per unit volume is represented as Strain Energy Density function $dW/dV$ and it varies from one location to another. Strain Energy Density function can be found from:\n",
    "\\begin{align}\n",
    "\\label{dwdv}\n",
    "\\frac{dW}{dV} = \\int_{0}^{\\epsilon_{ij}} \\sigma_{ij} d\\epsilon_{ij} + f(\\Delta T, \\Delta C)\n",
    "\\end{align}\n",
    "The terms $\\sigma_{ij}, \\epsilon_{ij}$ represents the stress and strain components whereas $(\\Delta T, \\Delta C)$ depict changes in temperature and moisture respectively. At distance $r$ from the crack tip the strain energy density function decays. The function is assumed to have the form:\n",
    "\\begin{align}\n",
    "\\label{SRdw}\n",
    "\\frac{dW}{dV} = \\frac{S}{r}\n",
    "\\end{align}\n",
    "Here, $S$ is the strain energy density factor and $r$ represents radial distance from the point of initiation of fracture. $S$ is direction sensitive and is somewhat like a vector whereas $K$ is a measure of local stress amplitude and is a scalar quantity. Furthermore, $S$ depends on crack growth $r$ and depicts the local energy release for the same distance. However, this factor gives unstable crack growth when $r_c$ (critical crack size) is reached. \n",
    "The strain energy density is the strength of near tip elastic energy which can be expressed as:\n",
    "\\begin{align}\n",
    "\\label{eq:S}\n",
    "S = a_{11} K_{I}^2 + 2 a_{12} K_{I} K_{II} + a_{22} K_{II}^2\n",
    "\\end{align}\n",
    "In this equation, the coefficients $a_{ij} = (i,j = 1,2)$ are the functions of the anticlockwise angle from the projections of fracture plane and are calculated as:\n",
    "\\begin{align}\n",
    "\\label{eq:a_11}\n",
    "a_{11} = \\frac{1}{16 G \\pi}((1 + \\cos \\theta)(\\kappa - \\cos \\theta))\n",
    "\\end{align}\n",
    "\\begin{align}\n",
    "\\label{eq:a_12}\n",
    "a_{12} = \\frac{1}{16 G \\pi}\\sin \\theta (2 \\cos \\theta - (\\kappa - 1))\n",
    "\\end{align}\n",
    "\\begin{align}\n",
    "\\label{eq:a_22}\n",
    "a_{22} = \\frac{1}{16 G \\pi}((\\kappa + 1)(1 - \\cos \\theta) + (1 + \\cos \\theta)(3 \\cos \\theta -1))\n",
    "\\end{align}\n",
    "$G$ represents the shear modulus whereas $\\kappa$ is $(3 - 4 \\nu)$ and $(3-\\nu)/(1+\\nu)$ for plane strain and plane stress conditions. The theory states the crack propagates after the limiting condition which is:\n",
    "\\begin{align}\n",
    "\\label{eq:SSc}\n",
    "S = S_c \n",
    "\\end{align}\n",
    "Crack growth in the two dimensional stress field can be expressed as:\n",
    "\\begin{align}\n",
    "\\label{eq:Sthe}\n",
    "\\frac{\\partial S}{\\partial \\theta} = 0 \n",
    "\\end{align}"
   ]
  },
  {
   "cell_type": "code",
   "execution_count": 2,
   "metadata": {},
   "outputs": [],
   "source": [
    "c_theta = sp.Symbol('c_theta')\n",
    "s_theta = sp.Symbol('s_theta')"
   ]
  },
  {
   "cell_type": "code",
   "execution_count": 4,
   "metadata": {},
   "outputs": [
    {
     "data": {
      "text/latex": [
       "$\\displaystyle \\left[\\begin{matrix}c_{\\theta}\\\\s_{\\theta}\\end{matrix}\\right]$"
      ],
      "text/plain": [
       "Matrix([\n",
       "[c_theta],\n",
       "[s_theta]])"
      ]
     },
     "execution_count": 4,
     "metadata": {},
     "output_type": "execute_result"
    }
   ],
   "source": [
    "theta = sp.Symbol(r'\\theta', nonnegative = True)\n",
    "cs_theta = sp.Matrix([c_theta, s_theta])\n",
    "cs_theta_ = sp.Matrix([sp.cos(theta), sp.sin(theta)])\n",
    "cs_theta"
   ]
  },
  {
   "cell_type": "code",
   "execution_count": 5,
   "metadata": {},
   "outputs": [
    {
     "data": {
      "text/latex": [
       "$\\displaystyle 0.0625 \\pi G \\left(\\left(1 - c_{\\theta}\\right) \\left(\\kappa + 1\\right) + \\left(1 - c_{\\theta}\\right) \\left(3 c_{\\theta} - 1\\right)\\right)$"
      ],
      "text/plain": [
       "0.0625*pi*G*((1 - c_theta)*(\\kappa + 1) + (1 - c_theta)*(3*c_theta - 1))"
      ]
     },
     "execution_count": 5,
     "metadata": {},
     "output_type": "execute_result"
    }
   ],
   "source": [
    "K_I = sp.Symbol('K_I', nonnegative = True)\n",
    "K_II = sp.Symbol('K_{II}', nonnegative = True)\n",
    "nu = sp.Symbol(r'\\nu', nonnegative = True)\n",
    "kappa = sp.Symbol(r'\\kappa', nonnegative = True)\n",
    "G = sp.Symbol(r'G', nonnegative = True)\n",
    "#kappa = 3 - 4 * nu\n",
    "a_11 = (1/16*G*sp.pi) * ((1 + cs_theta[0]) * (kappa - cs_theta[0]))\n",
    "a_12 = (1/16*G*sp.pi) * cs_theta[1] * (( 2 * cs_theta[0] - (kappa - 1)))\n",
    "a_22 = (1/16*G*sp.pi) * ((kappa + 1)*(1 - cs_theta[0]) + (1 - cs_theta[0])* (3 * cs_theta[0] -1))\n",
    "a_22"
   ]
  },
  {
   "cell_type": "code",
   "execution_count": 6,
   "metadata": {},
   "outputs": [
    {
     "data": {
      "text/latex": [
       "$\\displaystyle 0.0625 \\pi G K_{I}^{2} \\left(\\kappa - c_{\\theta}\\right) \\left(c_{\\theta} + 1\\right) + 0.125 \\pi G K_{I} K_{II} s_{\\theta} \\left(- \\kappa + 2 c_{\\theta} + 1\\right) + 0.0625 \\pi G K_{II}^{2} \\left(\\left(1 - c_{\\theta}\\right) \\left(\\kappa + 1\\right) + \\left(1 - c_{\\theta}\\right) \\left(3 c_{\\theta} - 1\\right)\\right)$"
      ],
      "text/plain": [
       "0.0625*pi*G*K_I**2*(\\kappa - c_theta)*(c_theta + 1) + 0.125*pi*G*K_I*K_{II}*s_theta*(-\\kappa + 2*c_theta + 1) + 0.0625*pi*G*K_{II}**2*((1 - c_theta)*(\\kappa + 1) + (1 - c_theta)*(3*c_theta - 1))"
      ]
     },
     "execution_count": 6,
     "metadata": {},
     "output_type": "execute_result"
    }
   ],
   "source": [
    "#a_11, a_12, a_22 = sp.symbols('a_{11}, a_{12}, a_{22}')\n",
    "S = a_11 * K_I**2 + 2 * a_12 * K_I * K_II + a_22 * K_II**2\n",
    "S"
   ]
  },
  {
   "cell_type": "code",
   "execution_count": 7,
   "metadata": {},
   "outputs": [
    {
     "data": {
      "text/latex": [
       "$\\displaystyle \\left[\\begin{matrix}0.0625 \\pi G K_{I}^{2} \\left(\\kappa - c_{\\theta}\\right) - 0.0625 \\pi G K_{I}^{2} \\left(c_{\\theta} + 1\\right) + 0.25 \\pi G K_{I} K_{II} s_{\\theta} + 0.0625 \\pi G K_{II}^{2} \\left(- \\kappa - 6 c_{\\theta} + 3\\right)\\\\0.125 \\pi G K_{I} K_{II} \\left(- \\kappa + 2 c_{\\theta} + 1\\right)\\end{matrix}\\right]$"
      ],
      "text/plain": [
       "Matrix([\n",
       "[0.0625*pi*G*K_I**2*(\\kappa - c_theta) - 0.0625*pi*G*K_I**2*(c_theta + 1) + 0.25*pi*G*K_I*K_{II}*s_theta + 0.0625*pi*G*K_{II}**2*(-\\kappa - 6*c_theta + 3)],\n",
       "[                                                                                                          0.125*pi*G*K_I*K_{II}*(-\\kappa + 2*c_theta + 1)]])"
      ]
     },
     "execution_count": 7,
     "metadata": {},
     "output_type": "execute_result"
    }
   ],
   "source": [
    "diff_S_cs = S.diff(cs_theta)\n",
    "diff_S_cs"
   ]
  },
  {
   "cell_type": "code",
   "execution_count": 8,
   "metadata": {},
   "outputs": [
    {
     "data": {
      "text/latex": [
       "$\\displaystyle \\left[\\begin{matrix}- \\sin{\\left(\\theta \\right)}\\\\\\cos{\\left(\\theta \\right)}\\end{matrix}\\right]$"
      ],
      "text/plain": [
       "Matrix([\n",
       "[-sin(\\theta)],\n",
       "[ cos(\\theta)]])"
      ]
     },
     "execution_count": 8,
     "metadata": {},
     "output_type": "execute_result"
    }
   ],
   "source": [
    "diff_cs_theta = cs_theta_.diff(theta)\n",
    "diff_cs_theta"
   ]
  },
  {
   "cell_type": "code",
   "execution_count": 9,
   "metadata": {},
   "outputs": [
    {
     "data": {
      "text/latex": [
       "$\\displaystyle \\left[\\begin{matrix}0.125 \\pi G K_{I} K_{II} \\left(- \\kappa + 2 c_{\\theta} + 1\\right) \\cos{\\left(\\theta \\right)} - \\left(0.0625 \\pi G K_{I}^{2} \\left(\\kappa - c_{\\theta}\\right) - 0.0625 \\pi G K_{I}^{2} \\left(c_{\\theta} + 1\\right) + 0.25 \\pi G K_{I} K_{II} s_{\\theta} + 0.0625 \\pi G K_{II}^{2} \\left(- \\kappa - 6 c_{\\theta} + 3\\right)\\right) \\sin{\\left(\\theta \\right)}\\end{matrix}\\right]$"
      ],
      "text/plain": [
       "Matrix([[0.125*pi*G*K_I*K_{II}*(-\\kappa + 2*c_theta + 1)*cos(\\theta) - (0.0625*pi*G*K_I**2*(\\kappa - c_theta) - 0.0625*pi*G*K_I**2*(c_theta + 1) + 0.25*pi*G*K_I*K_{II}*s_theta + 0.0625*pi*G*K_{II}**2*(-\\kappa - 6*c_theta + 3))*sin(\\theta)]])"
      ]
     },
     "execution_count": 9,
     "metadata": {},
     "output_type": "execute_result"
    }
   ],
   "source": [
    "S_diff_theta = diff_S_cs.T * diff_cs_theta\n",
    "S_diff_theta"
   ]
  },
  {
   "cell_type": "code",
   "execution_count": 10,
   "metadata": {},
   "outputs": [
    {
     "data": {
      "text/latex": [
       "$\\displaystyle \\left[\\begin{matrix}0.125 \\pi G K_{I} K_{II} \\left(- \\kappa + 2 \\cos{\\left(\\theta \\right)} + 1\\right) \\cos{\\left(\\theta \\right)} - \\left(0.0625 \\pi G K_{I}^{2} \\left(\\kappa - \\cos{\\left(\\theta \\right)}\\right) - 0.0625 \\pi G K_{I}^{2} \\left(\\cos{\\left(\\theta \\right)} + 1\\right) + 0.25 \\pi G K_{I} K_{II} \\sin{\\left(\\theta \\right)} + 0.0625 \\pi G K_{II}^{2} \\left(- \\kappa - 6 \\cos{\\left(\\theta \\right)} + 3\\right)\\right) \\sin{\\left(\\theta \\right)}\\end{matrix}\\right]$"
      ],
      "text/plain": [
       "Matrix([[0.125*pi*G*K_I*K_{II}*(-\\kappa + 2*cos(\\theta) + 1)*cos(\\theta) - (0.0625*pi*G*K_I**2*(\\kappa - cos(\\theta)) - 0.0625*pi*G*K_I**2*(cos(\\theta) + 1) + 0.25*pi*G*K_I*K_{II}*sin(\\theta) + 0.0625*pi*G*K_{II}**2*(-\\kappa - 6*cos(\\theta) + 3))*sin(\\theta)]])"
      ]
     },
     "execution_count": 10,
     "metadata": {},
     "output_type": "execute_result"
    }
   ],
   "source": [
    "S_val = S_diff_theta.subs(cs_theta[0], cs_theta_[0]).subs(cs_theta[1], cs_theta_[1])\n",
    "S_val"
   ]
  },
  {
   "cell_type": "code",
   "execution_count": 11,
   "metadata": {},
   "outputs": [
    {
     "data": {
      "text/latex": [
       "$\\displaystyle \\left[\\begin{matrix}0.125 \\pi G K_{I} K_{II} \\left(- \\kappa + 2 \\cos{\\left(\\theta \\right)} + 1\\right) \\cos{\\left(\\theta \\right)} - \\sqrt{1 - \\cos^{2}{\\left(\\theta \\right)}} \\left(0.0625 \\pi G K_{I}^{2} \\left(\\kappa - \\cos{\\left(\\theta \\right)}\\right) - 0.0625 \\pi G K_{I}^{2} \\left(\\cos{\\left(\\theta \\right)} + 1\\right) + 0.25 \\pi G K_{I} K_{II} \\sqrt{1 - \\cos^{2}{\\left(\\theta \\right)}} + 0.0625 \\pi G K_{II}^{2} \\left(- \\kappa - 6 \\cos{\\left(\\theta \\right)} + 3\\right)\\right)\\end{matrix}\\right]$"
      ],
      "text/plain": [
       "Matrix([[0.125*pi*G*K_I*K_{II}*(-\\kappa + 2*cos(\\theta) + 1)*cos(\\theta) - sqrt(1 - cos(\\theta)**2)*(0.0625*pi*G*K_I**2*(\\kappa - cos(\\theta)) - 0.0625*pi*G*K_I**2*(cos(\\theta) + 1) + 0.25*pi*G*K_I*K_{II}*sqrt(1 - cos(\\theta)**2) + 0.0625*pi*G*K_{II}**2*(-\\kappa - 6*cos(\\theta) + 3))]])"
      ]
     },
     "execution_count": 11,
     "metadata": {},
     "output_type": "execute_result"
    }
   ],
   "source": [
    "sin = sp.sqrt(1 - (sp.cos(theta))**2)\n",
    "S_val_ = S_val.subs(cs_theta_[1], sin)\n",
    "S_val_"
   ]
  },
  {
   "cell_type": "code",
   "execution_count": 12,
   "metadata": {},
   "outputs": [
    {
     "data": {
      "text/latex": [
       "$\\displaystyle \\left[\\begin{matrix}0.125 \\pi G K_{I} K_{II} c_{\\theta} \\left(- \\kappa + 2 c_{\\theta} + 1\\right) - \\sqrt{1 - c_{\\theta}^{2}} \\left(0.0625 \\pi G K_{I}^{2} \\left(\\kappa - c_{\\theta}\\right) - 0.0625 \\pi G K_{I}^{2} \\left(c_{\\theta} + 1\\right) + 0.25 \\pi G K_{I} K_{II} \\sqrt{1 - c_{\\theta}^{2}} + 0.0625 \\pi G K_{II}^{2} \\left(- \\kappa - 6 c_{\\theta} + 3\\right)\\right)\\end{matrix}\\right]$"
      ],
      "text/plain": [
       "Matrix([[0.125*pi*G*K_I*K_{II}*c_theta*(-\\kappa + 2*c_theta + 1) - sqrt(1 - c_theta**2)*(0.0625*pi*G*K_I**2*(\\kappa - c_theta) - 0.0625*pi*G*K_I**2*(c_theta + 1) + 0.25*pi*G*K_I*K_{II}*sqrt(1 - c_theta**2) + 0.0625*pi*G*K_{II}**2*(-\\kappa - 6*c_theta + 3))]])"
      ]
     },
     "execution_count": 12,
     "metadata": {},
     "output_type": "execute_result"
    }
   ],
   "source": [
    "S_sim = S_val_.subs(cs_theta_[0], cs_theta[0])\n",
    "S_sim"
   ]
  },
  {
   "cell_type": "code",
   "execution_count": 13,
   "metadata": {},
   "outputs": [
    {
     "data": {
      "text/latex": [
       "$\\displaystyle \\left[\\begin{matrix}0.125 \\pi G K_{I} K_{II} \\left(3 - \\kappa\\right)\\end{matrix}\\right]$"
      ],
      "text/plain": [
       "Matrix([[0.125*pi*G*K_I*K_{II}*(3 - \\kappa)]])"
      ]
     },
     "execution_count": 13,
     "metadata": {},
     "output_type": "execute_result"
    }
   ],
   "source": [
    "params = {c_theta : 1}\n",
    "S_final = S_sim.subs(params)\n",
    "S_final"
   ]
  },
  {
   "cell_type": "code",
   "execution_count": null,
   "metadata": {},
   "outputs": [],
   "source": []
  },
  {
   "cell_type": "code",
   "execution_count": null,
   "metadata": {},
   "outputs": [],
   "source": []
  }
 ],
 "metadata": {
  "kernelspec": {
   "display_name": "Python 3",
   "language": "python",
   "name": "python3"
  },
  "language_info": {
   "codemirror_mode": {
    "name": "ipython",
    "version": 3
   },
   "file_extension": ".py",
   "mimetype": "text/x-python",
   "name": "python",
   "nbconvert_exporter": "python",
   "pygments_lexer": "ipython3",
   "version": "3.7.6"
  },
  "toc": {
   "base_numbering": 1,
   "nav_menu": {},
   "number_sections": true,
   "sideBar": true,
   "skip_h1_title": false,
   "title_cell": "Table of Contents",
   "title_sidebar": "Contents",
   "toc_cell": false,
   "toc_position": {},
   "toc_section_display": true,
   "toc_window_display": true
  }
 },
 "nbformat": 4,
 "nbformat_minor": 4
}
