{
 "cells": [
  {
   "cell_type": "code",
   "execution_count": 1,
   "metadata": {},
   "outputs": [],
   "source": [
    "%matplotlib notebook\n",
    "import matplotlib.pyplot as plt\n",
    "import numpy as np\n",
    "import sympy as sp\n",
    "sp.init_printing()\n",
    "import ipywidgets as ipw"
   ]
  },
  {
   "cell_type": "markdown",
   "metadata": {},
   "source": [
    "# Strain Based Criterion"
   ]
  },
  {
   "cell_type": "markdown",
   "metadata": {},
   "source": [
    "This concept was introduced by Sih to predict the load at failure. In this approach the continuum is viewed as an assembly of small building blocks. Each of these blocks can store a finite amount of energy and contains a finite volume at a given instant of time. Energy per unit volume is represented as Strain Energy Density function $dW/dV$ and it varies from one location to another. Strain Energy Density function can be found from:\n",
    "\\begin{align}\n",
    "\\label{dwdv}\n",
    "\\frac{dW}{dV} = \\int_{0}^{\\epsilon_{ij}} \\sigma_{ij} d\\epsilon_{ij} + f(\\Delta T, \\Delta C)\n",
    "\\end{align}\n",
    "The terms $\\sigma_{ij}, \\epsilon_{ij}$ represents the stress and strain components whereas $(\\Delta T, \\Delta C)$ depict changes in temperature and moisture respectively. At distance $r$ from the crack tip the strain energy density function decays. The function is assumed to have the form:\n",
    "\\begin{align}\n",
    "\\label{SRdw}\n",
    "\\frac{dW}{dV} = \\frac{S}{r}\n",
    "\\end{align}\n",
    "Here, $S$ is the strain energy density factor and $r$ represents radial distance from the point of initiation of fracture. $S$ is direction sensitive and is somewhat like a vector whereas $K$ is a measure of local stress amplitude and is a scalar quantity. Furthermore, $S$ depends on crack growth $r$ and depicts the local energy release for the same distance. However, this factor gives unstable crack growth when $r_c$ (critical crack size) is reached. \n",
    "The strain energy density is the strength of near tip elastic energy which can be expressed as:\n",
    "\\begin{align}\n",
    "\\label{eq:S}\n",
    "S = a_{11} K_{I}^2 + 2 a_{12} K_{I} K_{II} + a_{22} K_{II}^2\n",
    "\\end{align}\n",
    "In this equation, the coefficients $a_{ij} = (i,j = 1,2)$ are the functions of the anticlockwise angle from the projections of fracture plane and are calculated as:\n",
    "\\begin{align}\n",
    "\\label{eq:a_11}\n",
    "a_{11} = \\frac{1}{16 G \\pi}((1 + \\cos \\theta)(\\kappa - \\cos \\theta))\n",
    "\\end{align}\n",
    "\\begin{align}\n",
    "\\label{eq:a_12}\n",
    "a_{12} = \\frac{1}{16 G \\pi}\\sin \\theta (2 \\cos \\theta - (\\kappa - 1))\n",
    "\\end{align}\n",
    "\\begin{align}\n",
    "\\label{eq:a_22}\n",
    "a_{22} = \\frac{1}{16 G \\pi}((\\kappa + 1)(1 - \\cos \\theta) + (1 + \\cos \\theta)(3 \\cos \\theta -1))\n",
    "\\end{align}\n",
    "$G$ represents the shear modulus whereas $\\kappa$ is $(3 - 4 \\nu)$ and $(3-\\nu)/(1+\\nu)$ for plane strain and plane stress conditions. The theory states the crack propagates after the limiting condition which is:\n",
    "\\begin{align}\n",
    "\\label{eq:SSc}\n",
    "S = S_c \n",
    "\\end{align}\n",
    "Crack growth in the two dimensional stress field can be expressed as:\n",
    "\\begin{align}\n",
    "\\label{eq:Sthe}\n",
    "\\frac{\\partial S}{\\partial \\theta} = 0 \n",
    "\\end{align}"
   ]
  },
  {
   "cell_type": "code",
   "execution_count": 21,
   "metadata": {},
   "outputs": [],
   "source": [
    "c_t = sp.Symbol('c_t', nonnegative = True)\n",
    "s_t = sp.Symbol('s_t', nonnegative = True)\n",
    "nu = sp.Symbol(r'\\nu', nonnegative = True)\n",
    "E = sp.Symbol('E', nonnegative = True)\n",
    "kappa = sp.Symbol(r'\\kappa', nonnegative = True)\n",
    "G = sp.Symbol(r'G', nonnegative = True)\n",
    "sigma_x =  sp.Symbol(r'\\sigma_x', nonnegative = True)\n",
    "sigma_z =  sp.Symbol(r'\\sigma_z', nonnegative = True)\n",
    "tau_fps = sp.Symbol(r'\\tau_\\mathrm{fps}')\n",
    "a = sp.Symbol('a', nonnegative = True)\n",
    "beta = sp.Symbol(r'\\beta', nonnegative = True)"
   ]
  },
  {
   "cell_type": "code",
   "execution_count": 22,
   "metadata": {},
   "outputs": [
    {
     "data": {
      "image/png": "[encoded data removed]",
      "text/latex": [
       "$\\displaystyle \\left[\\begin{matrix}c_{t}\\\\s_{t}\\end{matrix}\\right]$"
      ],
      "text/plain": [
       "⎡cₜ⎤\n",
       "⎢  ⎥\n",
       "⎣sₜ⎦"
      ]
     },
     "execution_count": 22,
     "metadata": {},
     "output_type": "execute_result"
    }
   ],
   "source": [
    "theta = sp.Symbol(r'\\theta', nonnegative = True)\n",
    "cs_theta = sp.Matrix([c_t, s_t])\n",
    "cs_theta_ = sp.Matrix([sp.cos(theta), sp.sin(theta)])\n",
    "cs_theta"
   ]
  },
  {
   "cell_type": "code",
   "execution_count": 23,
   "metadata": {},
   "outputs": [
    {
     "data": {
      "image/png": "[encoded data removed]",
      "text/latex": [
       "$\\displaystyle s_{b}$"
      ],
      "text/plain": [
       "s_b"
      ]
     },
     "execution_count": 23,
     "metadata": {},
     "output_type": "execute_result"
    }
   ],
   "source": [
    "s_b, c_b = sp.symbols('s_b, c_b')\n",
    "s_b"
   ]
  },
  {
   "cell_type": "code",
   "execution_count": 24,
   "metadata": {},
   "outputs": [
    {
     "data": {
      "image/png": "[encoded data removed]",
      "text/latex": [
       "$\\displaystyle \\sqrt{\\pi} \\sigma_x \\sqrt{a} s_{b}^{2}$"
      ],
      "text/plain": [
       "                 2\n",
       "√π⋅\\sigmaₓ⋅√a⋅s_b "
      ]
     },
     "execution_count": 24,
     "metadata": {},
     "output_type": "execute_result"
    }
   ],
   "source": [
    "K_I = sigma_x * sp.sqrt(sp.pi * a) * s_b**2\n",
    "K_II = sigma_x * sp.sqrt(sp.pi * a) * c_b * s_b\n",
    "K_I"
   ]
  },
  {
   "cell_type": "code",
   "execution_count": 25,
   "metadata": {},
   "outputs": [
    {
     "data": {
      "image/png": "[encoded data removed]",
      "text/latex": [
       "$\\displaystyle \\frac{\\left(1 - c_{t}\\right) \\left(\\kappa + 1\\right) + \\left(c_{t} + 1\\right) \\left(3 c_{t} - 1\\right)}{16 \\pi E \\left(1 - \\nu\\right)}$"
      ],
      "text/plain": [
       "(1 - cₜ)⋅(\\kappa + 1) + (cₜ + 1)⋅(3⋅cₜ - 1)\n",
       "───────────────────────────────────────────\n",
       "              16⋅π⋅E⋅(1 - \\nu)             "
      ]
     },
     "execution_count": 25,
     "metadata": {},
     "output_type": "execute_result"
    }
   ],
   "source": [
    "#kappa = 3 - 4 * nu\n",
    "a_11 = (1/(16*(E*(1 - nu))*sp.pi)) * ((1 + cs_theta[0]) * (kappa - cs_theta[0]))\n",
    "a_12 = (1/(16*(E*(1 - nu))*sp.pi)) * cs_theta[1] * ( 2 * cs_theta[0] - (kappa - 1))\n",
    "a_22 = (1/(16*(E*(1 - nu))*sp.pi)) * ((kappa + 1)*(1 - cs_theta[0]) + (1 + cs_theta[0])* (3 * cs_theta[0] -1))\n",
    "a_22"
   ]
  },
  {
   "cell_type": "code",
   "execution_count": 26,
   "metadata": {},
   "outputs": [],
   "source": [
    "params = {kappa : 2.16, nu : 0.21, E : 1000}"
   ]
  },
  {
   "cell_type": "code",
   "execution_count": 27,
   "metadata": {},
   "outputs": [],
   "source": [
    "a_11_ = a_11.subs(params)\n",
    "a_12_ = a_12.subs(params)\n",
    "a_22_ = a_22.subs(params)"
   ]
  },
  {
   "cell_type": "code",
   "execution_count": 28,
   "metadata": {},
   "outputs": [
    {
     "data": {
      "image/png": "[encoded data removed]",
      "text/latex": [
       "$\\displaystyle 7.91139240506329 \\cdot 10^{-5} \\sigma_x^{2} a c_{b}^{2} s_{b}^{2} \\left(- 3.16 c_{t} + \\left(c_{t} + 1\\right) \\left(3 c_{t} - 1\\right) + 3.16\\right) + 0.000158227848101266 \\sigma_x^{2} a c_{b} s_{b}^{3} s_{t} \\left(2 c_{t} - 1.16\\right) + 7.91139240506329 \\cdot 10^{-5} \\sigma_x^{2} a s_{b}^{4} \\left(2.16 - c_{t}\\right) \\left(c_{t} + 1\\right)$"
      ],
      "text/plain": [
       "                           2      2    2                                      \n",
       "7.91139240506329e-5⋅\\sigmaₓ ⋅a⋅c_b ⋅s_b ⋅(-3.16⋅cₜ + (cₜ + 1)⋅(3⋅cₜ - 1) + 3.1\n",
       "\n",
       "                                 2          3                                 \n",
       "6) + 0.000158227848101266⋅\\sigmaₓ ⋅a⋅c_b⋅s_b ⋅sₜ⋅(2⋅cₜ - 1.16) + 7.91139240506\n",
       "\n",
       "              2      4                     \n",
       "329e-5⋅\\sigmaₓ ⋅a⋅s_b ⋅(2.16 - cₜ)⋅(cₜ + 1)"
      ]
     },
     "execution_count": 28,
     "metadata": {},
     "output_type": "execute_result"
    }
   ],
   "source": [
    "#a_11, a_12, a_22 = sp.symbols('a_{11}, a_{12}, a_{22}')\n",
    "S = a_11_ * K_I**2 + 2 * a_12_ * K_I * K_II + a_22_ * K_II**2\n",
    "S"
   ]
  },
  {
   "cell_type": "code",
   "execution_count": 29,
   "metadata": {},
   "outputs": [
    {
     "data": {
      "image/png": "[encoded data removed]",
      "text/latex": [
       "$\\displaystyle \\sigma_x^{2} a s_{b}^{2} \\left(7.91139240506329 \\cdot 10^{-5} c_{b}^{2} \\left(- 3.16 c_{t} + \\left(c_{t} + 1\\right) \\left(3 c_{t} - 1\\right) + 3.16\\right) + 0.000158227848101266 c_{b} s_{b} \\sqrt{1 - c_{t}^{2}} \\left(2 c_{t} - 1.16\\right) - 7.91139240506329 \\cdot 10^{-5} s_{b}^{2} \\left(c_{t} - 2.16\\right) \\left(c_{t} + 1\\right)\\right)$"
      ],
      "text/plain": [
       "                ⎛                                                             \n",
       "       2      2 ⎜                       2                                     \n",
       "\\sigmaₓ ⋅a⋅s_b ⋅⎝7.91139240506329e-5⋅c_b ⋅(-3.16⋅cₜ + (cₜ + 1)⋅(3⋅cₜ - 1) + 3.\n",
       "\n",
       "                                      _________                               \n",
       "                                     ╱       2                                \n",
       "16) + 0.000158227848101266⋅c_b⋅s_b⋅╲╱  1 - cₜ  ⋅(2⋅cₜ - 1.16) - 7.911392405063\n",
       "\n",
       "                               ⎞\n",
       "         2                     ⎟\n",
       "29e-5⋅s_b ⋅(cₜ - 2.16)⋅(cₜ + 1)⎠"
      ]
     },
     "execution_count": 29,
     "metadata": {},
     "output_type": "execute_result"
    }
   ],
   "source": [
    "s_t_ = sp.sqrt(1 - c_t**2)\n",
    "S_ = S.subs(s_t, s_t_).subs(params)\n",
    "S_sim = sp.simplify(S_)\n",
    "S_sim"
   ]
  },
  {
   "cell_type": "code",
   "execution_count": 30,
   "metadata": {},
   "outputs": [
    {
     "data": {
      "image/png": "[encoded data removed]",
      "text/latex": [
       "$\\displaystyle \\sigma_x^{2} a s_{b}^{2} \\left(7.91139240506329 \\cdot 10^{-5} c_{b}^{2} \\left(\\left(\\cos{\\left(\\theta \\right)} + 1\\right) \\left(3 \\cos{\\left(\\theta \\right)} - 1\\right) - 3.16 \\cos{\\left(\\theta \\right)} + 3.16\\right) + 0.000158227848101266 c_{b} s_{b} \\sqrt{1 - \\cos^{2}{\\left(\\theta \\right)}} \\left(2 \\cos{\\left(\\theta \\right)} - 1.16\\right) - 7.91139240506329 \\cdot 10^{-5} s_{b}^{2} \\left(\\cos{\\left(\\theta \\right)} - 2.16\\right) \\left(\\cos{\\left(\\theta \\right)} + 1\\right)\\right)$"
      ],
      "text/plain": [
       "                ⎛                                                             \n",
       "       2      2 ⎜                       2                                     \n",
       "\\sigmaₓ ⋅a⋅s_b ⋅⎝7.91139240506329e-5⋅c_b ⋅((cos(\\theta) + 1)⋅(3⋅cos(\\theta) - \n",
       "\n",
       "                                                                ______________\n",
       "                                                               ╱        2     \n",
       "1) - 3.16⋅cos(\\theta) + 3.16) + 0.000158227848101266⋅c_b⋅s_b⋅╲╱  1 - cos (\\the\n",
       "\n",
       "____                                                                          \n",
       "                                                     2                        \n",
       "ta) ⋅(2⋅cos(\\theta) - 1.16) - 7.91139240506329e-5⋅s_b ⋅(cos(\\theta) - 2.16)⋅(c\n",
       "\n",
       "               ⎞\n",
       "               ⎟\n",
       "os(\\theta) + 1)⎠"
      ]
     },
     "execution_count": 30,
     "metadata": {},
     "output_type": "execute_result"
    }
   ],
   "source": [
    "S_ct = S_sim.subs(cs_theta[0], cs_theta_[0])\n",
    "S_ct"
   ]
  },
  {
   "cell_type": "code",
   "execution_count": 31,
   "metadata": {},
   "outputs": [
    {
     "data": {
      "image/png": "[encoded data removed]",
      "text/latex": [
       "$\\displaystyle \\frac{\\sigma_x^{2} a s_{b}^{2} \\left(0.000158227848101266 c_{b} s_{b} \\left(2 \\cos{\\left(\\theta \\right)} - 1.16\\right) \\cos{\\left(\\theta \\right)} + \\left(- 0.000474683544303797 c_{b}^{2} \\cos{\\left(\\theta \\right)} + 9.17721518987342 \\cdot 10^{-5} c_{b}^{2} - 0.000316455696202532 c_{b} s_{b} \\left|{\\sin{\\left(\\theta \\right)}}\\right| + 0.000158227848101266 s_{b}^{2} \\cos{\\left(\\theta \\right)} - 9.17721518987342 \\cdot 10^{-5} s_{b}^{2}\\right) \\left|{\\sin{\\left(\\theta \\right)}}\\right|\\right) \\sin{\\left(\\theta \\right)}}{\\left|{\\sin{\\left(\\theta \\right)}}\\right|}$"
      ],
      "text/plain": [
       "       2      2 ⎛                                                             \n",
       "\\sigmaₓ ⋅a⋅s_b ⋅⎝0.000158227848101266⋅c_b⋅s_b⋅(2⋅cos(\\theta) - 1.16)⋅cos(\\thet\n",
       "──────────────────────────────────────────────────────────────────────────────\n",
       "                                                                              \n",
       "\n",
       "     ⎛                          2                                      2      \n",
       "a) + ⎝- 0.000474683544303797⋅c_b ⋅cos(\\theta) + 9.17721518987342e-5⋅c_b  - 0.0\n",
       "──────────────────────────────────────────────────────────────────────────────\n",
       "                                                            │sin(\\theta)│     \n",
       "\n",
       "                                                                  2           \n",
       "00316455696202532⋅c_b⋅s_b⋅│sin(\\theta)│ + 0.000158227848101266⋅s_b ⋅cos(\\theta\n",
       "──────────────────────────────────────────────────────────────────────────────\n",
       "                                                                              \n",
       "\n",
       "                           2⎞              ⎞            \n",
       ") - 9.17721518987342e-5⋅s_b ⎠⋅│sin(\\theta)│⎠⋅sin(\\theta)\n",
       "────────────────────────────────────────────────────────\n",
       "                                                        "
      ]
     },
     "execution_count": 31,
     "metadata": {},
     "output_type": "execute_result"
    }
   ],
   "source": [
    "diff_S_theta = S_ct.diff(theta)\n",
    "diff_S_theta_ = sp.simplify(diff_S_theta)\n",
    "diff_S_theta_"
   ]
  },
  {
   "cell_type": "code",
   "execution_count": 32,
   "metadata": {},
   "outputs": [],
   "source": [
    "#d_S_ct = S_.diff(c_t)\n",
    "#d_S_cos = cs_theta_[0].diff(theta)\n",
    "#d_S_d_theta = d_S_ct * d_S_cos\n",
    "#d_S_d_theta.subs(c_t, cs_theta_[0])"
   ]
  },
  {
   "cell_type": "code",
   "execution_count": null,
   "metadata": {},
   "outputs": [],
   "source": [
    "theta_val = sp.solve(S_ct, theta)\n",
    "theta_val"
   ]
  },
  {
   "cell_type": "code",
   "execution_count": null,
   "metadata": {},
   "outputs": [],
   "source": [
    "theta_val[3]"
   ]
  },
  {
   "cell_type": "code",
   "execution_count": null,
   "metadata": {},
   "outputs": [],
   "source": [
    "theta_val_ = theta_val[2].subs(c_b, sp.cos(beta)).subs(s_b, sp.sin(beta))\n",
    "theta_val_"
   ]
  },
  {
   "cell_type": "code",
   "execution_count": null,
   "metadata": {},
   "outputs": [],
   "source": [
    "theta_val_a = theta_val[3].subs(c_b, sp.cos(beta)).subs(s_b, sp.sin(beta))\n",
    "theta_val_a"
   ]
  },
  {
   "cell_type": "code",
   "execution_count": null,
   "metadata": {},
   "outputs": [],
   "source": [
    "params = {kappa : 2.16}\n",
    "get_theta = sp.lambdify((beta), theta_val_.subs(params), 'numpy')\n",
    "get_theta\n",
    "theta_val_.subs(params)"
   ]
  },
  {
   "cell_type": "code",
   "execution_count": null,
   "metadata": {},
   "outputs": [],
   "source": [
    "get_theta_ = sp.lambdify((beta), theta_val_a.subs(params), 'numpy')\n",
    "get_theta_"
   ]
  },
  {
   "cell_type": "code",
   "execution_count": null,
   "metadata": {},
   "outputs": [],
   "source": [
    "_, (ax1) = plt.subplots(1, 1, figsize=(7,3))\n",
    "beta = np.linspace(0, 90 * np.pi/180, 100)\n",
    "#theta = get_theta(beta)\n",
    "theta_ = get_theta_(beta)\n",
    "#ax1.plot(beta * 180/np.pi, theta * 180/ np.pi, color='blue', lw=2)\n",
    "ax1.plot(beta * 180/np.pi, theta_ * 180/ np.pi, color='blue', lw=2)\n",
    "ax1.set_xlabel(r'$\\beta$'); ax1.set_ylabel(r'$\\theta$')\n",
    "ax1.legend()"
   ]
  },
  {
   "cell_type": "code",
   "execution_count": null,
   "metadata": {},
   "outputs": [],
   "source": []
  }
 ],
 "metadata": {
  "kernelspec": {
   "display_name": "Python 3",
   "language": "python",
   "name": "python3"
  },
  "language_info": {
   "codemirror_mode": {
    "name": "ipython",
    "version": 3
   },
   "file_extension": ".py",
   "mimetype": "text/x-python",
   "name": "python",
   "nbconvert_exporter": "python",
   "pygments_lexer": "ipython3",
   "version": "3.7.6"
  },
  "toc": {
   "base_numbering": 1,
   "nav_menu": {},
   "number_sections": true,
   "sideBar": true,
   "skip_h1_title": false,
   "title_cell": "Table of Contents",
   "title_sidebar": "Contents",
   "toc_cell": false,
   "toc_position": {
    "height": "calc(100% - 180px)",
    "left": "10px",
    "top": "150px",
    "width": "279.273px"
   },
   "toc_section_display": true,
   "toc_window_display": true
  }
 },
 "nbformat": 4,
 "nbformat_minor": 4
}
