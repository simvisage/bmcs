{
 "cells": [
  {
   "cell_type": "code",
   "execution_count": 55,
   "metadata": {},
   "outputs": [],
   "source": [
    "import numpy as np\n",
    "import sympy as sp\n",
    "import matplotlib.pyplot as plt"
   ]
  },
  {
   "cell_type": "markdown",
   "metadata": {},
   "source": [
    "## Problem\n",
    "This sheet is regarded as an example to evaluate damage function and its values using the BMCS course as a reference. The trilinear stress-opening law is given as:\n",
    "\\begin{gather*}\n",
    "\\sigma = E w; \\: \\mathrm{for}\\; 0 \\leq w \\leq w_0\n",
    "\\end{gather*}\n",
    "\\begin{gather*}\n",
    "\\sigma = f_\\mathrm{t} - (f_\\mathrm{t} - \\sigma_s(w_1)) \\frac{w}{w_1} ; \\: \\mathrm{for}\\; w_0 \\leq w \\leq w_1\n",
    "\\end{gather*}\n",
    "\\begin{gather*}\n",
    "\\sigma = \\sigma_s \\frac{w_2 - w}{w_2 - w_1} ; \\: \\mathrm{for}\\; w_1 \\leq w \\leq w_2\n",
    "\\end{gather*}"
   ]
  },
  {
   "cell_type": "markdown",
   "metadata": {},
   "source": [
    "<img src=\"stressopeningrelation.png\" width=\"500\"/> "
   ]
  },
  {
   "cell_type": "markdown",
   "metadata": {},
   "source": [
    "- Derive a damage function which will reproduce the given stress opening relation\n",
    "- Calculate damage and stiffness values at opening $w_{1}$ for the given values:\n",
    "$w_0 = 0.1 \\mathrm{mm}$, $w_1 = 0.2 \\mathrm{mm}$, $w_2 = 1 \\mathrm{mm}$, $\\sigma_s = 5 \\mathrm{MPa}$, and $\\mathrm{E} = 100 \\mathrm{MPa/mm}$\n",
    "- Sketch graphically the derived damage function in a damage opening diagram"
   ]
  },
  {
   "cell_type": "markdown",
   "metadata": {},
   "source": [
    "## Solution\n"
   ]
  },
  {
   "cell_type": "markdown",
   "metadata": {},
   "source": [
    "From BMCS we know that:\n",
    "\\begin{gather*}\n",
    "\\sigma = (1 - \\omega)E w\n",
    "\\end{gather*}"
   ]
  },
  {
   "cell_type": "code",
   "execution_count": 56,
   "metadata": {},
   "outputs": [],
   "source": [
    "omega = sp.Symbol(r'\\omega', nonnegative = True)\n",
    "E = sp.Symbol(r'E', nonnegative = True)\n",
    "w = sp.Symbol(r'w', nonnegative = True)\n",
    "w_0 = sp.Symbol(r'w_0', nonnegative = True)\n",
    "sigma = sp.Symbol(r'\\sigma', nonnegative = True)"
   ]
  },
  {
   "cell_type": "code",
   "execution_count": 57,
   "metadata": {},
   "outputs": [
    {
     "data": {
      "text/latex": [
       "$\\displaystyle E w \\left(1 - \\omega\\right)$"
      ],
      "text/plain": [
       "E*w*(1 - \\omega)"
      ]
     },
     "execution_count": 57,
     "metadata": {},
     "output_type": "execute_result"
    }
   ],
   "source": [
    "sigma_ = (1 - omega) * E * w\n",
    "sigma_"
   ]
  },
  {
   "cell_type": "markdown",
   "metadata": {},
   "source": [
    "### Part 1\n",
    "- Deriving damage function for each case depicted in the figure above:"
   ]
  },
  {
   "cell_type": "code",
   "execution_count": 58,
   "metadata": {},
   "outputs": [
    {
     "data": {
      "text/latex": [
       "$\\displaystyle 1 - \\frac{\\sigma}{E w}$"
      ],
      "text/plain": [
       "1 - \\sigma/(E*w)"
      ]
     },
     "execution_count": 58,
     "metadata": {},
     "output_type": "execute_result"
    }
   ],
   "source": [
    "omega_val = sp.solve(sp.Eq(sigma, sigma_), omega)\n",
    "omega_val[0]"
   ]
  },
  {
   "cell_type": "code",
   "execution_count": 59,
   "metadata": {},
   "outputs": [
    {
     "data": {
      "text/latex": [
       "$\\displaystyle 0$"
      ],
      "text/plain": [
       "0"
      ]
     },
     "execution_count": 59,
     "metadata": {},
     "output_type": "execute_result"
    }
   ],
   "source": [
    "sigma_1 = E * w\n",
    "omega_val_1 = omega_val[0].subs(sigma, sigma_1)\n",
    "omega_val_1"
   ]
  },
  {
   "cell_type": "code",
   "execution_count": 60,
   "metadata": {},
   "outputs": [
    {
     "data": {
      "text/latex": [
       "$\\displaystyle f_{t} - \\frac{w \\left(- \\sigma_s + f_{t}\\right)}{w_{1}}$"
      ],
      "text/plain": [
       "f_t - w*(-\\sigma_s + f_t)/w_1"
      ]
     },
     "execution_count": 60,
     "metadata": {},
     "output_type": "execute_result"
    }
   ],
   "source": [
    "f_t = sp.Symbol('f_t', nonnegative = True)\n",
    "sigma_s = sp.Symbol(r'\\sigma_s', nonnegative = True)\n",
    "w_1 = sp.Symbol('w_1', nonnegative = True)\n",
    "sigma_2 = f_t - (f_t - sigma_s) * (w / w_1) \n",
    "sigma_2"
   ]
  },
  {
   "cell_type": "code",
   "execution_count": 61,
   "metadata": {},
   "outputs": [
    {
     "data": {
      "text/latex": [
       "$\\displaystyle 1 - \\frac{f_{t} - \\frac{w \\left(- \\sigma_s + f_{t}\\right)}{w_{1}}}{E w}$"
      ],
      "text/plain": [
       "1 - (f_t - w*(-\\sigma_s + f_t)/w_1)/(E*w)"
      ]
     },
     "execution_count": 61,
     "metadata": {},
     "output_type": "execute_result"
    }
   ],
   "source": [
    "omega_val_2 = omega_val[0].subs(sigma, sigma_2)\n",
    "omega_val_2"
   ]
  },
  {
   "cell_type": "code",
   "execution_count": 62,
   "metadata": {},
   "outputs": [
    {
     "data": {
      "text/latex": [
       "$\\displaystyle \\frac{\\sigma_s \\left(- w + w_{2}\\right)}{- w_{1} + w_{2}}$"
      ],
      "text/plain": [
       "\\sigma_s*(-w + w_2)/(-w_1 + w_2)"
      ]
     },
     "execution_count": 62,
     "metadata": {},
     "output_type": "execute_result"
    }
   ],
   "source": [
    "w_2 = sp.Symbol('w_2', nonnegative = True)\n",
    "sigma_3 = sigma_s * (w_2 - w) / (w_2 - w_1)\n",
    "sigma_3"
   ]
  },
  {
   "cell_type": "code",
   "execution_count": 63,
   "metadata": {},
   "outputs": [
    {
     "data": {
      "text/latex": [
       "$\\displaystyle 1 - \\frac{\\sigma_s \\left(- w + w_{2}\\right)}{E w \\left(- w_{1} + w_{2}\\right)}$"
      ],
      "text/plain": [
       "1 - \\sigma_s*(-w + w_2)/(E*w*(-w_1 + w_2))"
      ]
     },
     "execution_count": 63,
     "metadata": {},
     "output_type": "execute_result"
    }
   ],
   "source": [
    "omega_val_3 = omega_val[0].subs(sigma, sigma_3)\n",
    "omega_val_3"
   ]
  },
  {
   "cell_type": "markdown",
   "metadata": {},
   "source": [
    "### Part 2\n",
    "- Calculating damage when $w = w_1$"
   ]
  },
  {
   "cell_type": "code",
   "execution_count": 64,
   "metadata": {},
   "outputs": [],
   "source": [
    "params = {w_0 : 0.1, w_1 : 0.2, w_2 : 1, sigma_s : 5, E: 100, f_t: 10}"
   ]
  },
  {
   "cell_type": "code",
   "execution_count": 65,
   "metadata": {},
   "outputs": [
    {
     "data": {
      "text/latex": [
       "$\\displaystyle 0.75$"
      ],
      "text/plain": [
       "0.750000000000000"
      ]
     },
     "execution_count": 65,
     "metadata": {},
     "output_type": "execute_result"
    }
   ],
   "source": [
    "omega_2_rep = omega_val_2.subs(w, w_1)\n",
    "omega_2 = omega_2_rep.subs(params)\n",
    "omega_2"
   ]
  },
  {
   "cell_type": "markdown",
   "metadata": {},
   "source": [
    "Stiffness:\n",
    "\\begin{gather*}\n",
    "\\mathrm{E(w_1)} = (1 - \\omega) \\mathrm{E}\n",
    "\\end{gather*}"
   ]
  },
  {
   "cell_type": "code",
   "execution_count": 66,
   "metadata": {},
   "outputs": [
    {
     "data": {
      "text/latex": [
       "$\\displaystyle 25.0$"
      ],
      "text/plain": [
       "25.0000000000000"
      ]
     },
     "execution_count": 66,
     "metadata": {},
     "output_type": "execute_result"
    }
   ],
   "source": [
    "E_w_1 = (1 - omega_2) * E.subs(params)\n",
    "E_w_1"
   ]
  },
  {
   "cell_type": "markdown",
   "metadata": {},
   "source": [
    "### Part 3\n",
    "- Sketch graphically the derived damage function in a damage opening relation"
   ]
  },
  {
   "cell_type": "code",
   "execution_count": 67,
   "metadata": {},
   "outputs": [
    {
     "data": {
      "text/latex": [
       "$\\displaystyle 1$"
      ],
      "text/plain": [
       "1"
      ]
     },
     "execution_count": 67,
     "metadata": {},
     "output_type": "execute_result"
    }
   ],
   "source": [
    "omega_3_rep = omega_val_3.subs(w, w_2)\n",
    "omega_3 = omega_3_rep.subs(params)\n",
    "omega_3"
   ]
  },
  {
   "cell_type": "code",
   "execution_count": 76,
   "metadata": {},
   "outputs": [
    {
     "name": "stderr",
     "output_type": "stream",
     "text": [
      "No handles with labels found to put in legend.\n"
     ]
    },
    {
     "data": {
      "text/plain": [
       "<matplotlib.legend.Legend at 0x1685d206ac8>"
      ]
     },
     "execution_count": 76,
     "metadata": {},
     "output_type": "execute_result"
    },
    {
     "data": {
      "image/png": "[encoded data removed]",
      "text/plain": [
       "<Figure size 504x288 with 1 Axes>"
      ]
     },
     "metadata": {
      "needs_background": "light"
     },
     "output_type": "display_data"
    }
   ],
   "source": [
    "fig, ((ax1)) = plt.subplots(1,1,figsize=(7,4))\n",
    "omega = (0, omega_val_1, omega_2, omega_3)\n",
    "w = (0, w_0.subs(params), w_1.subs(params), w_2.subs(params))\n",
    "ax1.plot(w, omega, lw =2, color = 'b')\n",
    "ax1.set_xlabel('$w$'); ax1.set_ylabel(r'$\\omega$')\n",
    "ax1.legend()"
   ]
  },
  {
   "cell_type": "code",
   "execution_count": null,
   "metadata": {},
   "outputs": [],
   "source": []
  }
 ],
 "metadata": {
  "kernelspec": {
   "display_name": "Python 3",
   "language": "python",
   "name": "python3"
  },
  "language_info": {
   "codemirror_mode": {
    "name": "ipython",
    "version": 3
   },
   "file_extension": ".py",
   "mimetype": "text/x-python",
   "name": "python",
   "nbconvert_exporter": "python",
   "pygments_lexer": "ipython3",
   "version": "3.7.6"
  },
  "toc": {
   "base_numbering": 1,
   "nav_menu": {},
   "number_sections": true,
   "sideBar": true,
   "skip_h1_title": false,
   "title_cell": "Table of Contents",
   "title_sidebar": "Contents",
   "toc_cell": false,
   "toc_position": {},
   "toc_section_display": true,
   "toc_window_display": true
  }
 },
 "nbformat": 4,
 "nbformat_minor": 4
}
