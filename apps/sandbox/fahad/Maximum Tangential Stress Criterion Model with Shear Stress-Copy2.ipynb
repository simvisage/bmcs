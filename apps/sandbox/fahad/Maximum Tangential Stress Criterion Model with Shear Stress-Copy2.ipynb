{
 "cells": [
  {
   "cell_type": "markdown",
   "metadata": {},
   "source": [
    "# Maximum Stress Criterion"
   ]
  },
  {
   "cell_type": "code",
   "execution_count": 1,
   "metadata": {},
   "outputs": [],
   "source": [
    "%matplotlib notebook\n",
    "import matplotlib.pyplot as plt\n",
    "import numpy as np\n",
    "import sympy as sp\n",
    "sp.init_printing()\n",
    "import ipywidgets as ipw"
   ]
  },
  {
   "cell_type": "markdown",
   "metadata": {},
   "source": [
    "<img src=\"farfieldstress.png\" width=\"500\"/>"
   ]
  },
  {
   "cell_type": "markdown",
   "metadata": {},
   "source": [
    "The figure above shows stresses in the vicinity of crack tip. $\\theta$ depicts crack propagation angle and $r$ represents the radius of fracture propagation segment."
   ]
  },
  {
   "cell_type": "code",
   "execution_count": 2,
   "metadata": {},
   "outputs": [
    {
     "data": {
      "image/png": "[encoded data removed]",
      "text/latex": [
       "$\\displaystyle \\eta$"
      ],
      "text/plain": [
       "\\eta"
      ]
     },
     "execution_count": 2,
     "metadata": {},
     "output_type": "execute_result"
    }
   ],
   "source": [
    "r = sp.Symbol('r', nonnegative = True)\n",
    "theta = sp.Symbol(r'\\theta', nonnegative = True)\n",
    "K_I = sp.Symbol('K_I', nonnegative = True)\n",
    "K_II = sp.Symbol('K_{II}', nonnegative = True)\n",
    "T = sp.Symbol('T', nonnegative = True)\n",
    "sigma_x =  sp.Symbol(r'\\sigma_x', nonnegative = True)\n",
    "eta =  sp.Symbol(r'\\eta', nonnegative = True)\n",
    "sigma_z =  sp.Symbol(r'\\sigma_z', nonnegative = True)\n",
    "tau_fps = sp.Symbol(r'\\tau_\\mathrm{fps}')\n",
    "a = sp.Symbol('a', nonnegative = True)\n",
    "beta = sp.Symbol(r'\\beta', nonnegative = True)\n",
    "f = sp.Symbol(r'f', nonnegative = True)\n",
    "eta"
   ]
  },
  {
   "cell_type": "markdown",
   "metadata": {},
   "source": [
    "## Stress Intensity Factors\n",
    "In this section, the far field stresses will be represented in terms of Stress Intensity factors. The schematics assume that we have a far field stress in the horizontal direction represented as $\\sigma_x$ with respect to an angled crack represent by angle $\\beta$ with respect to this horizontal boundary condition.The stress field in this case will be given as:\n",
    "\\begin{align}\n",
    "\\sigma_{ij} = \n",
    "\\left[\n",
    "\\begin{array}{cc}\n",
    "\\sigma_{X} & \\eta \\sigma_{X} \\\\\n",
    "\\eta \\sigma_{X} & 0\n",
    "\\end{array}\n",
    "\\right]\n",
    "\\end{align}\n",
    "and the rotated stress field depicted in figure below is shown as:\n",
    "\\begin{align}\n",
    "\\sigma^{\\beta}_{ij} = \n",
    "\\left[\n",
    "\\begin{array}{cc}\n",
    "\\sigma_{n} & \\sigma_{np} \\\\\n",
    "\\sigma_{np} & \\sigma_{p}\n",
    "\\end{array}\n",
    "\\right]\n",
    "\\end{align}\n",
    "However, to transform the global stress field into local with respect to the angle $\\beta$ can be done with the help of rotation matrix. Hence,\n",
    "\\begin{align}\n",
    "R_{\\beta} = \n",
    "\\left[\n",
    "\\begin{array}{cc}\n",
    "\\cos \\beta & -\\sin \\beta \\\\\n",
    "\\sin \\beta & \\cos \\beta\n",
    "\\end{array}\n",
    "\\right]\n",
    "\\end{align}\n",
    "\\begin{align}\n",
    "\\sigma^{\\beta}_{ij} = \n",
    "\\left[\n",
    "\\begin{array}{cc}\n",
    "\\sigma_{n} & \\sigma_{np} \\\\\n",
    "\\sigma_{np} & \\sigma_{p}\n",
    "\\end{array}\n",
    "\\right] = \n",
    "R_{\\beta}^T \\sigma_{ij} R_{\\beta}\n",
    "\\end{align}\n",
    "In order to convert the local stress field into SIF's to take into account crack length: \n",
    "\\begin{gather*}\n",
    "K_I = \\sqrt{\\pi a} \\sigma_{n}\\\\\n",
    "K_{II} = \\sqrt{\\pi a} \\sigma_{np}\n",
    "\\end{gather*}\n",
    "Here, $K_I$ represents the mode I opening failure whereas, $K_{II}$ depicts the sliding failure. The positive sign of $K_I$ highlights stress as tension where negative sign shows compression. Similarly, negative sign of $K_{II}$ represents stress in opposite direction. In the case of pure mode I failure, $\\beta$ is $90°$ whereas for failure along pure mode II $\\beta = 0°$"
   ]
  },
  {
   "cell_type": "markdown",
   "metadata": {},
   "source": [
    "<img src=\"transformationofstressfield.png\" width=\"300\"/>"
   ]
  },
  {
   "cell_type": "code",
   "execution_count": 3,
   "metadata": {},
   "outputs": [
    {
     "data": {
      "image/png": "[encoded data removed]",
      "text/latex": [
       "$\\displaystyle s_{b}$"
      ],
      "text/plain": [
       "s_b"
      ]
     },
     "execution_count": 3,
     "metadata": {},
     "output_type": "execute_result"
    }
   ],
   "source": [
    "s_b, c_b = sp.symbols('s_b, c_b')\n",
    "s_b"
   ]
  },
  {
   "cell_type": "code",
   "execution_count": 4,
   "metadata": {},
   "outputs": [
    {
     "data": {
      "image/png": "[encoded data removed]",
      "text/latex": [
       "$\\displaystyle \\left[\\begin{matrix}\\sigma_x & \\eta \\sigma_x\\\\\\eta \\sigma_x & 0\\end{matrix}\\right]$"
      ],
      "text/plain": [
       "⎡  \\sigmaₓ     \\eta⋅\\sigmaₓ⎤\n",
       "⎢                          ⎥\n",
       "⎣\\eta⋅\\sigmaₓ       0      ⎦"
      ]
     },
     "execution_count": 4,
     "metadata": {},
     "output_type": "execute_result"
    }
   ],
   "source": [
    "sigma_ij = sp.Matrix([[sigma_x, eta * sigma_x],\n",
    "                    [ eta * sigma_x, 0]])\n",
    "sigma_ij"
   ]
  },
  {
   "cell_type": "code",
   "execution_count": 5,
   "metadata": {},
   "outputs": [
    {
     "data": {
      "image/png": "[encoded data removed]",
      "text/latex": [
       "$\\displaystyle \\left[\\begin{matrix}c_{b} & - s_{b}\\\\s_{b} & c_{b}\\end{matrix}\\right]$"
      ],
      "text/plain": [
       "⎡c_b  -s_b⎤\n",
       "⎢         ⎥\n",
       "⎣s_b  c_b ⎦"
      ]
     },
     "execution_count": 5,
     "metadata": {},
     "output_type": "execute_result"
    }
   ],
   "source": [
    "R_beta = sp.Matrix([[c_b, -s_b],\n",
    "                    [s_b, c_b]])\n",
    "R_beta"
   ]
  },
  {
   "cell_type": "code",
   "execution_count": 6,
   "metadata": {},
   "outputs": [
    {
     "data": {
      "image/png": "[encoded data removed]",
      "text/latex": [
       "$\\displaystyle \\left[\\begin{matrix}\\eta \\sigma_x c_{b} s_{b} + c_{b} \\left(\\eta \\sigma_x s_{b} + \\sigma_x c_{b}\\right) & \\eta \\sigma_x c_{b}^{2} - s_{b} \\left(\\eta \\sigma_x s_{b} + \\sigma_x c_{b}\\right)\\\\- \\eta \\sigma_x s_{b}^{2} + c_{b} \\left(\\eta \\sigma_x c_{b} - \\sigma_x s_{b}\\right) & - \\eta \\sigma_x c_{b} s_{b} - s_{b} \\left(\\eta \\sigma_x c_{b} - \\sigma_x s_{b}\\right)\\end{matrix}\\right]$"
      ],
      "text/plain": [
       "⎡                                                                             \n",
       "⎢\\eta⋅\\sigmaₓ⋅c_b⋅s_b + c_b⋅(\\eta⋅\\sigmaₓ⋅s_b + \\sigmaₓ⋅c_b)    \\eta⋅\\sigmaₓ⋅c\n",
       "⎢                                                                             \n",
       "⎢                  2                                                          \n",
       "⎣- \\eta⋅\\sigmaₓ⋅s_b  + c_b⋅(\\eta⋅\\sigmaₓ⋅c_b - \\sigmaₓ⋅s_b)   -\\eta⋅\\sigmaₓ⋅c_\n",
       "\n",
       "  2                                         ⎤\n",
       "_b  - s_b⋅(\\eta⋅\\sigmaₓ⋅s_b + \\sigmaₓ⋅c_b)  ⎥\n",
       "                                            ⎥\n",
       "                                            ⎥\n",
       "b⋅s_b - s_b⋅(\\eta⋅\\sigmaₓ⋅c_b - \\sigmaₓ⋅s_b)⎦"
      ]
     },
     "execution_count": 6,
     "metadata": {},
     "output_type": "execute_result"
    }
   ],
   "source": [
    "sigma_beta_ij = R_beta.T * sigma_ij * R_beta\n",
    "sigma_beta_ij"
   ]
  },
  {
   "cell_type": "code",
   "execution_count": 7,
   "metadata": {},
   "outputs": [
    {
     "data": {
      "image/png": "[encoded data removed]",
      "text/latex": [
       "$\\displaystyle \\left[\\begin{matrix}\\sigma_x c_{b} \\left(2 \\eta s_{b} + c_{b}\\right) & \\sigma_x \\left(\\eta c_{b}^{2} - s_{b} \\left(\\eta s_{b} + c_{b}\\right)\\right)\\\\\\sigma_x \\left(- \\eta s_{b}^{2} + c_{b} \\left(\\eta c_{b} - s_{b}\\right)\\right) & \\sigma_x s_{b} \\left(- 2 \\eta c_{b} + s_{b}\\right)\\end{matrix}\\right]$"
      ],
      "text/plain": [
       "⎡                                                      ⎛        2             \n",
       "⎢       \\sigmaₓ⋅c_b⋅(2⋅\\eta⋅s_b + c_b)         \\sigmaₓ⋅⎝\\eta⋅c_b  - s_b⋅(\\eta⋅\n",
       "⎢                                                                             \n",
       "⎢        ⎛          2                       ⎞                                 \n",
       "⎣\\sigmaₓ⋅⎝- \\eta⋅s_b  + c_b⋅(\\eta⋅c_b - s_b)⎠       \\sigmaₓ⋅s_b⋅(-2⋅\\eta⋅c_b +\n",
       "\n",
       "          ⎞⎤\n",
       "s_b + c_b)⎠⎥\n",
       "           ⎥\n",
       "           ⎥\n",
       " s_b)      ⎦"
      ]
     },
     "execution_count": 7,
     "metadata": {},
     "output_type": "execute_result"
    }
   ],
   "source": [
    "sigma_beta_ij_sim_ = sp.simplify(sigma_beta_ij)\n",
    "sigma_beta_ij_sim_"
   ]
  },
  {
   "cell_type": "code",
   "execution_count": 8,
   "metadata": {},
   "outputs": [
    {
     "data": {
      "image/png": "[encoded data removed]",
      "text/latex": [
       "$\\displaystyle \\left( \\sqrt{\\pi} \\sigma_x \\sqrt{a} c_{b} \\left(2 \\eta s_{b} + c_{b}\\right), \\  \\sqrt{\\pi} \\sigma_x \\sqrt{a} \\left(- \\eta s_{b}^{2} + c_{b} \\left(\\eta c_{b} - s_{b}\\right)\\right)\\right)$"
      ],
      "text/plain": [
       "⎛                                                    ⎛          2             \n",
       "⎝√π⋅\\sigmaₓ⋅√a⋅c_b⋅(2⋅\\eta⋅s_b + c_b), √π⋅\\sigmaₓ⋅√a⋅⎝- \\eta⋅s_b  + c_b⋅(\\eta⋅\n",
       "\n",
       "          ⎞⎞\n",
       "c_b - s_b)⎠⎠"
      ]
     },
     "execution_count": 8,
     "metadata": {},
     "output_type": "execute_result"
    }
   ],
   "source": [
    "K_I = sp.sqrt(sp.pi * a) * sigma_beta_ij_sim_[0,0]\n",
    "K_II  = sp.sqrt(sp.pi * a) * sigma_beta_ij_sim_[1,0]\n",
    "K_I, K_II"
   ]
  },
  {
   "cell_type": "code",
   "execution_count": 9,
   "metadata": {},
   "outputs": [],
   "source": [
    "#a = sp.simplify(SIF_field)\n",
    "#l = (Rot.T).inv() * a * Rot.inv()\n",
    "#l"
   ]
  },
  {
   "cell_type": "code",
   "execution_count": 10,
   "metadata": {},
   "outputs": [],
   "source": [
    "#sp.simplify(l)"
   ]
  },
  {
   "cell_type": "code",
   "execution_count": 11,
   "metadata": {},
   "outputs": [],
   "source": [
    "#params1 = {beta:45*np.pi/180}"
   ]
  },
  {
   "cell_type": "code",
   "execution_count": 12,
   "metadata": {},
   "outputs": [],
   "source": [
    "#K_I_ = K_I#.subs(params)\n",
    "#K_II_ = K_II#.subs(params)\n",
    "#K_I_, K_II_"
   ]
  },
  {
   "cell_type": "code",
   "execution_count": 13,
   "metadata": {},
   "outputs": [],
   "source": [
    "## Representation of sin and cos components as s_t and c_t for simplicity.\n",
    "s_t, c_t = sp.symbols('s_t,c_t')\n",
    "#T_t = sp.Matrix([[c_t, -s_t],[s_t, c_t]])\n",
    "#T_t"
   ]
  },
  {
   "cell_type": "code",
   "execution_count": 14,
   "metadata": {},
   "outputs": [
    {
     "data": {
      "image/png": "[encoded data removed]",
      "text/latex": [
       "$\\displaystyle \\left[\\begin{matrix}c_{t}\\\\s_{t}\\end{matrix}\\right]$"
      ],
      "text/plain": [
       "⎡cₜ⎤\n",
       "⎢  ⎥\n",
       "⎣sₜ⎦"
      ]
     },
     "execution_count": 14,
     "metadata": {},
     "output_type": "execute_result"
    }
   ],
   "source": [
    "cs_theta = sp.Matrix([c_t, s_t])\n",
    "cs_theta"
   ]
  },
  {
   "cell_type": "code",
   "execution_count": 15,
   "metadata": {},
   "outputs": [
    {
     "data": {
      "image/png": "[encoded data removed]",
      "text/latex": [
       "$\\displaystyle \\left[\\begin{matrix}\\cos{\\left(\\theta \\right)}\\\\\\sin{\\left(\\theta \\right)}\\end{matrix}\\right]$"
      ],
      "text/plain": [
       "⎡cos(\\theta)⎤\n",
       "⎢           ⎥\n",
       "⎣sin(\\theta)⎦"
      ]
     },
     "execution_count": 15,
     "metadata": {},
     "output_type": "execute_result"
    }
   ],
   "source": [
    "cs_theta_ = sp.Matrix([sp.cos(theta), sp.sin(theta)])\n",
    "cs_theta_"
   ]
  },
  {
   "cell_type": "code",
   "execution_count": 16,
   "metadata": {},
   "outputs": [
    {
     "data": {
      "image/png": "[encoded data removed]",
      "text/latex": [
       "$\\displaystyle \\frac{\\sigma_x z}{\\sqrt{- \\frac{a^{2}}{z^{2}} + 1}}$"
      ],
      "text/plain": [
       "   \\sigmaₓ⋅z    \n",
       "────────────────\n",
       "      __________\n",
       "     ╱    2     \n",
       "    ╱    a      \n",
       "   ╱   - ── + 1 \n",
       "  ╱       2     \n",
       "╲╱       z      "
      ]
     },
     "execution_count": 16,
     "metadata": {},
     "output_type": "execute_result"
    }
   ],
   "source": [
    "iota = sp.Symbol(r'\\iota')\n",
    "e = sp.Symbol(r'e')\n",
    "z = sp.Symbol('z')\n",
    "Z = (sigma_x * z)/(sp.sqrt(1 - (a/z)**2))\n",
    "Z"
   ]
  },
  {
   "cell_type": "code",
   "execution_count": 17,
   "metadata": {},
   "outputs": [
    {
     "data": {
      "image/png": "[encoded data removed]",
      "text/latex": [
       "$\\displaystyle \\frac{\\sigma_x z^{2} \\sqrt{\\frac{- a^{2} + z^{2}}{z^{2}}} \\left(- 2 a^{2} + z^{2}\\right)}{\\left(- a^{2} + z^{2}\\right)^{2}}$"
      ],
      "text/plain": [
       "                 ___________              \n",
       "                ╱    2    2               \n",
       "         2     ╱  - a  + z   ⎛     2    2⎞\n",
       "\\sigmaₓ⋅z ⋅   ╱   ───────── ⋅⎝- 2⋅a  + z ⎠\n",
       "             ╱         2                  \n",
       "           ╲╱         z                   \n",
       "──────────────────────────────────────────\n",
       "                          2               \n",
       "               ⎛   2    2⎞                \n",
       "               ⎝- a  + z ⎠                "
      ]
     },
     "execution_count": 17,
     "metadata": {},
     "output_type": "execute_result"
    }
   ],
   "source": [
    "Z_p = sp.simplify(Z.diff(z))\n",
    "Z_p"
   ]
  },
  {
   "cell_type": "code",
   "execution_count": 18,
   "metadata": {},
   "outputs": [
    {
     "data": {
      "image/png": "[encoded data removed]",
      "text/latex": [
       "$\\displaystyle a + r e^{\\iota \\theta}$"
      ],
      "text/plain": [
       "       \\iota⋅\\theta\n",
       "a + r⋅ℯ            "
      ]
     },
     "execution_count": 18,
     "metadata": {},
     "output_type": "execute_result"
    }
   ],
   "source": [
    "z_ = a + r*sp.exp(1)**(iota * theta)\n",
    "z_"
   ]
  },
  {
   "cell_type": "code",
   "execution_count": 21,
   "metadata": {},
   "outputs": [
    {
     "data": {
      "image/png": "[encoded data removed]",
      "text/latex": [
       "$\\displaystyle \\frac{\\sigma_x \\left(a + r e^{\\iota \\theta}\\right)}{\\sqrt{\\frac{- a^{2} + \\left(a + r e^{\\iota \\theta}\\right)^{2}}{\\left(a + r e^{\\iota \\theta}\\right)^{2}}}}$"
      ],
      "text/plain": [
       "             ⎛       \\iota⋅\\theta⎞     \n",
       "     \\sigmaₓ⋅⎝a + r⋅ℯ            ⎠     \n",
       "───────────────────────────────────────\n",
       "        _______________________________\n",
       "       ╱                             2 \n",
       "      ╱     2   ⎛       \\iota⋅\\theta⎞  \n",
       "     ╱   - a  + ⎝a + r⋅ℯ            ⎠  \n",
       "    ╱    ───────────────────────────── \n",
       "   ╱                              2    \n",
       "  ╱          ⎛       \\iota⋅\\theta⎞     \n",
       "╲╱           ⎝a + r⋅ℯ            ⎠     "
      ]
     },
     "execution_count": 21,
     "metadata": {},
     "output_type": "execute_result"
    }
   ],
   "source": [
    "Z_ = Z.subs(z,z_)\n",
    "sp.simplify(Z_)"
   ]
  },
  {
   "cell_type": "code",
   "execution_count": null,
   "metadata": {},
   "outputs": [],
   "source": [
    "as a**2 >> a*r*sp.exp(1)**(iota * theta) >> r**2:\n",
    "    "
   ]
  },
  {
   "cell_type": "code",
   "execution_count": 22,
   "metadata": {},
   "outputs": [
    {
     "data": {
      "image/png": "[encoded data removed]",
      "text/latex": [
       "$\\displaystyle - \\frac{\\sigma_x \\sqrt{- \\frac{a^{2} - \\left(a + r e^{\\iota \\theta}\\right)^{2}}{\\left(a + r e^{\\iota \\theta}\\right)^{2}}} \\left(a + r e^{\\iota \\theta}\\right)^{2} \\left(2 a^{2} - \\left(a + r e^{\\iota \\theta}\\right)^{2}\\right)}{\\left(a^{2} - \\left(a + r e^{\\iota \\theta}\\right)^{2}\\right)^{2}}$"
      ],
      "text/plain": [
       "                 _________________________________                            \n",
       "                ╱  ⎛                          2⎞                              \n",
       "               ╱   ⎜ 2   ⎛       \\iota⋅\\theta⎞ ⎟                        2 ⎛   \n",
       "              ╱   -⎝a  - ⎝a + r⋅ℯ            ⎠ ⎠   ⎛       \\iota⋅\\theta⎞  ⎜   \n",
       "-\\sigmaₓ⋅    ╱    ─────────────────────────────── ⋅⎝a + r⋅ℯ            ⎠ ⋅⎝2⋅a\n",
       "            ╱                               2                                 \n",
       "           ╱           ⎛       \\iota⋅\\theta⎞                                  \n",
       "         ╲╱            ⎝a + r⋅ℯ            ⎠                                  \n",
       "──────────────────────────────────────────────────────────────────────────────\n",
       "                                                                   2          \n",
       "                                      ⎛                          2⎞           \n",
       "                                      ⎜ 2   ⎛       \\iota⋅\\theta⎞ ⎟           \n",
       "                                      ⎝a  - ⎝a + r⋅ℯ            ⎠ ⎠           \n",
       "\n",
       "                            \n",
       "                            \n",
       "                         2⎞ \n",
       "2   ⎛       \\iota⋅\\theta⎞ ⎟ \n",
       "  - ⎝a + r⋅ℯ            ⎠ ⎠ \n",
       "                            \n",
       "                            \n",
       "                            \n",
       "────────────────────────────\n",
       "                            \n",
       "                            \n",
       "                            \n",
       "                            "
      ]
     },
     "execution_count": 22,
     "metadata": {},
     "output_type": "execute_result"
    }
   ],
   "source": [
    "Z_p_ = Z_p.subs(z,z_)\n",
    "sp.simplify(Z_p_)"
   ]
  },
  {
   "cell_type": "markdown",
   "metadata": {},
   "source": [
    "## Stress at the Crack tip\n",
    "Dominant term for stresses can be obtained as:\n",
    "\\begin{gather*}\n",
    "\\sigma^{tip}_{ij} = \\frac{\\left[ K_I S_{ij}^I(\\theta) + K_{II} S_{ij}^{II}(\\theta) \\right]}{\\sqrt{2\\pi r}} = \n",
    "\\left[\n",
    "\\begin{array}{cc}\n",
    "\\sigma_{x} & \\sigma_{xy} \\\\\n",
    "\\sigma_{xy} &  \\sigma_{y}\n",
    "\\end{array}\n",
    "\\right]\n",
    "\\end{gather*}\n",
    "where $K_I$, $K_{II}$ represents the Stress Intensity Factors for Mode I and Mode II failures and $S^I_{ij}(\\theta)$ , $S_{ij}^{II}(\\theta)$ depicts the Angular functions for Mode I and Mode II which are given as:\n",
    "Angular functions for Mode I:\n",
    "\\begin{align}\n",
    "S^{I} = \n",
    "\\left[\n",
    "\\begin{array}{cc}\n",
    "S^{I}_{11} & S^{I}_{12} \\\\\n",
    "S^{I}_{12} &  S^{I}_{22}\n",
    "\\end{array}\n",
    "\\right] =\n",
    "\\left[\n",
    "\\begin{array}{cc}\n",
    "2 \\cos\\frac{\\theta}{2} -\\cos\\frac{\\theta}{2} \\left[ 1 + \\sin\\frac{\\theta}{2}\\sin\\frac{3\\theta}{2}\\right] & \\cos\\frac{\\theta}{2}\\sin\\frac{\\theta}{2}\\cos\\frac{3\\theta}{2} \\\\\n",
    "\\cos\\frac{\\theta}{2}\\sin\\frac{\\theta}{2}\\cos\\frac{3\\theta}{2} &  \\cos\\frac{\\theta}{2} \\left[ 1 + \\sin\\frac{\\theta}{2}\\sin\\frac{3\\theta}{2}\\right]\n",
    "\\end{array}\n",
    "\\right] \n",
    "\\end{align}\n",
    "Angular functions for Mode II:\n",
    "\\begin{align}\n",
    "S^{II} = \n",
    "\\left[\n",
    "\\begin{array}{cc}\n",
    "S^{II}_{11} & S^{II}_{12} \\\\\n",
    "S^{II}_{12} &  S^{II}_{22}\n",
    "\\end{array}\n",
    "\\right] =\n",
    "\\left[\n",
    "\\begin{array}{cc}\n",
    "-2 \\sin\\frac{\\theta}{2} - \\sin\\frac{\\theta}{2}\\cos\\frac{\\theta}{2}\\cos\\frac{3\\theta}{2} & \\cos\\frac{\\theta}{2}\\left[ 1 - \\sin\\frac{\\theta}{2}\\sin\\frac{3\\theta}{2}\\right] \\\\\n",
    "\\cos\\frac{\\theta}{2}\\left[ 1 - \\sin\\frac{\\theta}{2}\\sin\\frac{3\\theta}{2}\\right] &  \\sin\\frac{\\theta}{2}\\cos\\frac{\\theta}{2}\\cos\\frac{3\\theta}{2}\n",
    "\\end{array}\n",
    "\\right] \n",
    "\\end{align}"
   ]
  },
  {
   "cell_type": "markdown",
   "metadata": {},
   "source": [
    "<img src=\"Transformationfigure.png\" width=\"500\"/>"
   ]
  },
  {
   "cell_type": "markdown",
   "metadata": {},
   "source": [
    "## Angular Function"
   ]
  },
  {
   "cell_type": "code",
   "execution_count": null,
   "metadata": {},
   "outputs": [],
   "source": [
    "s_3t = 3 * s_t - 4 * s_t**3\n",
    "c_3t = 4 * c_t**3 - 3 * c_t\n",
    "S_I_11 = 2 * c_t - c_t * (1 + s_t * s_3t) \n",
    "S_I_22 = c_t * (1 + s_t * s_3t)\n",
    "S_I_12 = c_t * s_t * c_3t\n",
    "S_I = sp.Matrix([[S_I_11, S_I_12],[S_I_12, S_I_22]])\n",
    "S_I_ = sp.simplify(S_I)\n",
    "S_I_"
   ]
  },
  {
   "cell_type": "code",
   "execution_count": null,
   "metadata": {},
   "outputs": [],
   "source": [
    "S_II_11 = - 2 * s_t - s_t * c_t * c_3t  \n",
    "S_II_22 = s_t * c_t * c_3t\n",
    "S_II_12 = c_t * (1 - s_t * s_3t)\n",
    "S_II = sp.Matrix([[S_II_11, S_II_12],[S_II_12, S_II_22]])\n",
    "S_II_ = sp.simplify(S_II)\n",
    "S_II_"
   ]
  },
  {
   "cell_type": "code",
   "execution_count": null,
   "metadata": {},
   "outputs": [],
   "source": [
    "c_t_h = sp.sqrt((1 + c_t)/2)\n",
    "s_t_h = sp.sqrt((1 - c_t)/2)\n",
    "s_t_h"
   ]
  },
  {
   "cell_type": "code",
   "execution_count": null,
   "metadata": {},
   "outputs": [],
   "source": [
    "sigma_tip_ij = sp.Matrix([[K_I * S_I_[0,0] + K_II * S_II_[0,0], K_I * S_I_[0,1] + K_II * S_II_[0,1]],\n",
    "                   [K_I * S_I_[0,1] + K_II * S_II_[0,1], K_I * S_I_[1,1] + K_II * S_II_[1,1]]])\n",
    "sigma_tip_ij_ = sp.simplify(sigma_tip_ij.subs(c_t, c_t_h).subs(s_t, s_t_h))\n",
    "sigma_tip_ij_"
   ]
  },
  {
   "cell_type": "markdown",
   "metadata": {},
   "source": [
    "## Tip Stress Transformation\n",
    "To transform from cartesian to polar coordinates, Transformation Matrix will be taken into account i.e.:\n",
    "\\begin{align}\n",
    "R_{\\theta} = \n",
    "\\left[\n",
    "\\begin{array}{cc}\n",
    "\\cos \\theta & -\\sin \\theta \\\\\n",
    "\\sin \\theta &  \\cos \\theta\n",
    "\\end{array} \\right]\n",
    "\\end{align}\n",
    "Now, in order to transform from cartesian to polar the following transformation will be done. i.e.:\n",
    "\\begin{align}\n",
    "\\sigma^{tip(\\theta)}_{ij} = R_{\\theta}^T \\sigma^{tip}_{ij} R_{\\theta} =\n",
    "\\left[\n",
    "\\begin{array}{cc}\n",
    "\\sigma_{\\rho} & \\sigma_{\\rho \\theta} \\\\\n",
    "\\sigma_{\\rho \\theta} &  \\sigma_{\\theta}\n",
    "\\end{array} \\right]\n",
    "\\end{align}"
   ]
  },
  {
   "cell_type": "code",
   "execution_count": null,
   "metadata": {},
   "outputs": [],
   "source": [
    "R_theta = sp.Matrix([[cs_theta[0], -cs_theta[1]],[cs_theta[1], cs_theta[0]]])\n",
    "R_theta"
   ]
  },
  {
   "cell_type": "code",
   "execution_count": null,
   "metadata": {},
   "outputs": [],
   "source": [
    "sig_tip_theta_ij = R_theta.T * sigma_tip_ij_ * R_theta\n",
    "sig_tip_theta_ij_ = sp.simplify(sig_tip_theta_ij)\n",
    "sig_tip_theta_ij_;"
   ]
  },
  {
   "cell_type": "markdown",
   "metadata": {},
   "source": [
    "Replacing sine component with cosine for transforming the equation into a single trignometric ratio for simpicity."
   ]
  },
  {
   "cell_type": "code",
   "execution_count": null,
   "metadata": {},
   "outputs": [],
   "source": [
    "s_t_ = sp.sqrt(1 - c_t**2)\n",
    "sig_tip_theta_ij_sub = sig_tip_theta_ij_.subs(s_t, s_t_)\n",
    "sig_tip_theta_ij_sub;"
   ]
  },
  {
   "cell_type": "code",
   "execution_count": null,
   "metadata": {
    "scrolled": true
   },
   "outputs": [],
   "source": [
    "sig_tip_theta_ij_sim = sp.simplify(sig_tip_theta_ij_sub)\n",
    "sig_tip_theta_ij_sim;"
   ]
  },
  {
   "cell_type": "markdown",
   "metadata": {},
   "source": [
    "Solving the stress field to calculate angle $\\theta$ following the Maximum Tangential Stress Theory. According to the Maximum Tangental Stress Theory, when the stress $\\sigma_{\\theta}$ is maximum depicting principal stress than $\\sigma_{\\rho \\theta}$ becomes:  \n",
    "\\begin{gather*}\n",
    "\\sigma_{\\rho \\theta} = 0\n",
    "\\end{gather*}"
   ]
  },
  {
   "cell_type": "code",
   "execution_count": null,
   "metadata": {},
   "outputs": [],
   "source": [
    "#sig_tip_theta_sim[1,0].subs(params)"
   ]
  },
  {
   "cell_type": "code",
   "execution_count": null,
   "metadata": {},
   "outputs": [],
   "source": [
    "params = {eta : 0}\n",
    "theta_sigma_xy0 = sp.solve(sig_tip_theta_ij_sim[1,0].subs(params), c_t)\n",
    "theta_sigma_xy0"
   ]
  },
  {
   "cell_type": "code",
   "execution_count": null,
   "metadata": {},
   "outputs": [],
   "source": [
    "params_ = {sigma_x : 1, eta : 0.5} \n",
    "theta_sigma_xy1 = sp.solve(sig_tip_theta_ij_sim[1,0].subs(params_), c_t)\n",
    "theta_sigma_xy1"
   ]
  },
  {
   "cell_type": "code",
   "execution_count": null,
   "metadata": {},
   "outputs": [],
   "source": [
    "#sp.simplify(theta_sigma_xy1[2])"
   ]
  },
  {
   "cell_type": "code",
   "execution_count": null,
   "metadata": {},
   "outputs": [],
   "source": [
    "params_2 = {sigma_x : 1, eta : 1}\n",
    "theta_sigma_xy2 = sp.solve(sig_tip_theta_ij_sim[1,0].subs(params_2), c_t)\n",
    "theta_sigma_xy2"
   ]
  },
  {
   "cell_type": "code",
   "execution_count": null,
   "metadata": {},
   "outputs": [],
   "source": [
    "theta_sig_xy0 = theta_sigma_xy0[2].subs(c_b, sp.cos(beta)).subs(s_b, sp.sin(beta))\n",
    "theta_sig_xy0_ = sp.acos(theta_sig_xy0)\n",
    "get_theta_sig_xy0 = sp.lambdify((beta), theta_sig_xy0_, 'numpy')\n",
    "get_theta_sig_xy0"
   ]
  },
  {
   "cell_type": "code",
   "execution_count": null,
   "metadata": {},
   "outputs": [],
   "source": [
    "theta_sig_xy1 = theta_sigma_xy1[2].subs(c_b, sp.cos(beta)).subs(s_b, sp.sin(beta))\n",
    "theta_sig_xy1_ = sp.acos(theta_sig_xy1)\n",
    "get_theta_sig_xy1 = sp.lambdify((beta), theta_sig_xy1_, 'numpy')\n",
    "get_theta_sig_xy1"
   ]
  },
  {
   "cell_type": "code",
   "execution_count": null,
   "metadata": {},
   "outputs": [],
   "source": [
    "theta_sig_xy2 = theta_sigma_xy2[2].subs(c_b, sp.cos(beta)).subs(s_b, sp.sin(beta))\n",
    "theta_sig_xy2_ = sp.acos(theta_sig_xy2)\n",
    "get_theta_sig_xy2 = sp.lambdify((beta), theta_sig_xy2_, 'numpy')\n",
    "get_theta_sig_xy2"
   ]
  },
  {
   "cell_type": "code",
   "execution_count": null,
   "metadata": {
    "scrolled": true
   },
   "outputs": [],
   "source": [
    "_, (ax1) = plt.subplots(1, 1, figsize=(7,3))\n",
    "beta_0 = np.linspace(0 * np.pi/180, 90 * np.pi/180, 100)\n",
    "#beta_1 = np.linspace(0, 90 * np.pi/180, 100)\n",
    "#beta_2 = np.linspace(0, 90 * np.pi/180, 100)\n",
    "theta_sig_xy0 = get_theta_sig_xy0(beta_0)\n",
    "theta_sig_xy1 = get_theta_sig_xy1(beta_0)\n",
    "theta_sig_xy2 = get_theta_sig_xy2(beta_0)\n",
    "ax1.plot(beta_0 * 180/np.pi, theta_sig_xy0 * 180/ np.pi, color='blue', lw=2, label = r'$\\eta = 0$')\n",
    "ax1.plot(beta_0 * 180/np.pi, theta_sig_xy1 * 180/ np.pi, color='red', lw=2, label = r'$\\eta = 0.5$')\n",
    "ax1.plot(beta_0 * 180/np.pi, theta_sig_xy2 * 180/ np.pi, color='green', lw=2, label = r'$\\eta = 1$')\n",
    "ax1.set_xlabel(r'$\\beta$'); ax1.set_ylabel(r'$\\theta$')\n",
    "ax1.legend()\n",
    "_.savefig(\"pplotMTSvaryingeta.pdf\", bbox_inches='tight')"
   ]
  },
  {
   "cell_type": "code",
   "execution_count": null,
   "metadata": {},
   "outputs": [],
   "source": [
    "theta_sig_xy1 * 180/ np.pi "
   ]
  },
  {
   "cell_type": "code",
   "execution_count": null,
   "metadata": {
    "scrolled": true
   },
   "outputs": [],
   "source": [
    "theta_sig_xy2 * 180/ np.pi "
   ]
  },
  {
   "cell_type": "code",
   "execution_count": null,
   "metadata": {
    "scrolled": true
   },
   "outputs": [],
   "source": [
    "beta_0 * 180/np.pi"
   ]
  },
  {
   "cell_type": "code",
   "execution_count": null,
   "metadata": {},
   "outputs": [],
   "source": [
    "params_x2 = {sigma_x : 2, eta : 0.5}\n",
    "theta_sigma_x2 = sp.solve(sig_tip_theta_ij_sim[1,0].subs(params_x2), c_t)\n",
    "theta_sigma_x2"
   ]
  },
  {
   "cell_type": "code",
   "execution_count": null,
   "metadata": {},
   "outputs": [],
   "source": [
    "params_x3 = {sigma_x : 3, eta : 0.5}\n",
    "theta_sigma_x3 = sp.solve(sig_tip_theta_ij_sim[1,0].subs(params_x3), c_t)\n",
    "theta_sigma_x3"
   ]
  },
  {
   "cell_type": "code",
   "execution_count": null,
   "metadata": {},
   "outputs": [],
   "source": [
    "beta = sp.Symbol(r'\\beta', nonnegative = True)\n",
    "theta_sig_x2 = theta_sigma_x2[2].subs(c_b, sp.cos(beta)).subs(s_b, sp.sin(beta))\n",
    "theta_sig_x2_ = sp.acos(theta_sig_x2)\n",
    "get_theta_sig_x2 = sp.lambdify((beta), theta_sig_x2_, 'numpy')\n",
    "get_theta_sig_x2"
   ]
  },
  {
   "cell_type": "code",
   "execution_count": null,
   "metadata": {},
   "outputs": [],
   "source": [
    "theta_sig_x3 = theta_sigma_x3[2].subs(c_b, sp.cos(beta)).subs(s_b, sp.sin(beta))\n",
    "theta_sig_x3_ = sp.acos(theta_sig_x3)\n",
    "get_theta_sig_x3 = sp.lambdify((beta), theta_sig_x3_, 'numpy')\n",
    "get_theta_sig_x3"
   ]
  },
  {
   "cell_type": "code",
   "execution_count": null,
   "metadata": {},
   "outputs": [],
   "source": [
    "_, (ax1) = plt.subplots(1, 1, figsize=(7,3))\n",
    "beta_ = np.linspace(0, 90 * np.pi/180, 100)\n",
    "theta_sig_x1 = get_theta_sig_xy1(beta_)\n",
    "theta_sig_x2 = get_theta_sig_x2(beta_)\n",
    "theta_sig_x3 = get_theta_sig_x3(beta_)\n",
    "ax1.plot(beta_ * 180/np.pi, theta_sig_x1 * 180/ np.pi, color='blue', lw=2, label = r'$\\eta = 0.5, \\sigma_X = 1$')\n",
    "ax1.plot(beta_ * 180/np.pi, theta_sig_x2 * 180/ np.pi, color='red', lw=2, label = r'$\\eta = 0.5, \\sigma_X = 2$')\n",
    "ax1.plot(beta_ * 180/np.pi, theta_sig_x3 * 180/ np.pi, color='green', lw=2, label = r'$\\eta = 0.5, \\sigma_X = 3$')\n",
    "ax1.set_xlabel(r'$\\beta$'); ax1.set_ylabel(r'$\\theta$')\n",
    "ax1.legend()\n",
    "_.savefig(\"plotMTSvaryingsigma_x.pdf\", bbox_inches='tight')"
   ]
  },
  {
   "cell_type": "markdown",
   "metadata": {},
   "source": [
    "## Mixity Parameter"
   ]
  },
  {
   "cell_type": "markdown",
   "metadata": {},
   "source": [
    "Mode mixity is given as: \n",
    "\\begin{gather*}\n",
    "    M_e = \\frac{2}{\\pi} \\arctan \\left(\\frac{K_I}{K_{II}} \\right)\n",
    "\\end{gather*}\n",
    "where $M_e = 0$ depicts the pure mode II failure and $M_e = 1$ highlights a pure mode I failure."
   ]
  },
  {
   "cell_type": "code",
   "execution_count": null,
   "metadata": {},
   "outputs": [],
   "source": [
    "beta = sp.Symbol(r'\\beta', nonnegative = True)\n",
    "eta = sp.Symbol(r'\\eta', nonnegative = True)"
   ]
  },
  {
   "cell_type": "code",
   "execution_count": null,
   "metadata": {},
   "outputs": [],
   "source": [
    "sigma_ij = sp.Matrix([[sigma_x, eta * sigma_x], #eta * sigma_x\n",
    "                      [-eta * sigma_x, 0]])\n",
    "sigma_ij"
   ]
  },
  {
   "cell_type": "code",
   "execution_count": null,
   "metadata": {},
   "outputs": [],
   "source": [
    "R_beta = sp.Matrix([[c_b, -s_b],\n",
    "                    [s_b, c_b]])\n",
    "R_beta"
   ]
  },
  {
   "cell_type": "code",
   "execution_count": null,
   "metadata": {},
   "outputs": [],
   "source": [
    "sigma_beta_ij = R_beta.T * sigma_ij * R_beta\n",
    "sigma_beta_ij"
   ]
  },
  {
   "cell_type": "code",
   "execution_count": null,
   "metadata": {},
   "outputs": [],
   "source": [
    "sigma_beta_ij_sim_ = sp.simplify(sigma_beta_ij)\n",
    "sigma_beta_ij_sim_"
   ]
  },
  {
   "cell_type": "code",
   "execution_count": null,
   "metadata": {},
   "outputs": [],
   "source": [
    "K_I = sp.sqrt(sp.pi * a) * sigma_beta_ij_sim_[0,0]\n",
    "K_II  = sp.sqrt(sp.pi * a) * sigma_beta_ij_sim_[1,0]\n",
    "K_I, K_II"
   ]
  },
  {
   "cell_type": "code",
   "execution_count": null,
   "metadata": {},
   "outputs": [],
   "source": [
    "M_e = (2 / sp.pi) * sp.atan(K_I/K_II)\n",
    "M_e_eta0 = sp.Abs(M_e.subs(s_b, sp.sin(beta)).subs(c_b, sp.cos(beta)))\n",
    "M_e_eta0"
   ]
  },
  {
   "cell_type": "code",
   "execution_count": null,
   "metadata": {},
   "outputs": [],
   "source": [
    "get_M_e = sp.lambdify((eta, beta), M_e_eta0, 'numpy')\n",
    "get_M_e"
   ]
  },
  {
   "cell_type": "code",
   "execution_count": null,
   "metadata": {},
   "outputs": [],
   "source": [
    "theta_sig_xy0 = theta_sigma_xy0[2].subs(c_b, sp.cos(beta)).subs(s_b, sp.sin( beta)) #90 * np.pi / 180 - \n",
    "theta_sig_xy0_ = sp.acos(theta_sig_xy0)\n",
    "get_theta_sig_xy0_ = sp.lambdify((beta), theta_sig_xy0_, 'numpy')\n",
    "get_theta_sig_xy0_"
   ]
  },
  {
   "cell_type": "code",
   "execution_count": null,
   "metadata": {},
   "outputs": [],
   "source": [
    "theta_sig_xy1 = theta_sigma_xy1[2].subs(c_b, sp.cos(beta)).subs(s_b, sp.sin(beta))\n",
    "theta_sig_xy1_ = sp.acos(theta_sig_xy1)\n",
    "get_theta_sig_xy1_ = sp.lambdify((beta), theta_sig_xy1_, 'numpy')\n",
    "get_theta_sig_xy1_"
   ]
  },
  {
   "cell_type": "code",
   "execution_count": null,
   "metadata": {},
   "outputs": [],
   "source": [
    "theta_sig_xy2 = theta_sigma_xy2[2].subs(c_b, sp.cos(beta)).subs(s_b, sp.sin(beta))\n",
    "theta_sig_xy2_ = sp.acos(theta_sig_xy2)\n",
    "get_theta_sig_xy2_ = sp.lambdify((beta), theta_sig_xy2_, 'numpy')\n",
    "get_theta_sig_xy2_"
   ]
  },
  {
   "cell_type": "code",
   "execution_count": null,
   "metadata": {},
   "outputs": [],
   "source": [
    "_, (ax1) = plt.subplots(1, 1, figsize=(6,4))\n",
    "eta_0 = 0\n",
    "eta_05 = 0.5\n",
    "eta_1 = 1\n",
    "beta_0 = np.linspace(0, 90 * np.pi/180, 100)\n",
    "theta_sig_xy0 = get_theta_sig_xy0_(beta_0)\n",
    "theta_sig_xy1 = get_theta_sig_xy1_(beta_0)\n",
    "theta_sig_xy2 = get_theta_sig_xy2_(beta_0)\n",
    "M_e_xy0 = get_M_e(eta_0,beta_0)\n",
    "M_e_xy1 = get_M_e(eta_05, beta_0)\n",
    "M_e_xy2 = get_M_e(eta_1, beta_0)\n",
    "ax1.plot(M_e_xy0, theta_sig_xy0 * 180/ np.pi, color='blue', lw=2, label = r'$\\eta = 0, \\sigma_X = 1$')\n",
    "ax1.plot(M_e_xy1, theta_sig_xy1 * 180/ np.pi, color='red', lw=2, label = r'$\\eta = 0.5, \\sigma_X = 1$')\n",
    "ax1.plot(M_e_xy2, theta_sig_xy2 * 180/ np.pi, color='yellow', lw=2, label = r'$\\eta = 1, \\sigma_X = 1$')\n",
    "ax1.set_xlabel(r'$M^e$'); ax1.set_ylabel(r'$\\theta$')\n",
    "ax1.legend()\n",
    "_.savefig(\"thetaMe.pdf\", bbox_inches='tight')"
   ]
  },
  {
   "cell_type": "code",
   "execution_count": null,
   "metadata": {},
   "outputs": [],
   "source": [
    "theta_sig_xy1 * 180/ np.pi"
   ]
  },
  {
   "cell_type": "code",
   "execution_count": null,
   "metadata": {},
   "outputs": [],
   "source": [
    "M_e_xy2"
   ]
  },
  {
   "cell_type": "code",
   "execution_count": null,
   "metadata": {},
   "outputs": [],
   "source": [
    "M_e_xy1"
   ]
  },
  {
   "cell_type": "code",
   "execution_count": null,
   "metadata": {},
   "outputs": [],
   "source": [
    "M_e_xy0"
   ]
  },
  {
   "cell_type": "code",
   "execution_count": null,
   "metadata": {},
   "outputs": [],
   "source": [
    "beta_0 * 180/np.pi"
   ]
  },
  {
   "cell_type": "markdown",
   "metadata": {},
   "source": [
    "## Normalized Parameters"
   ]
  },
  {
   "cell_type": "markdown",
   "metadata": {},
   "source": [
    "The critical mode I stress intensity factor is given as:\n",
    "\\begin{gather*}\n",
    "    K_{Ic} = \\sigma_X \\sqrt{\\pi a}\n",
    "\\end{gather*}\n",
    "Now, the stress intensity factors will be normalized with respect to the $K_{Ic}$ to visualize the failure locus."
   ]
  },
  {
   "cell_type": "code",
   "execution_count": null,
   "metadata": {},
   "outputs": [],
   "source": [
    "K_Ic = sigma_x * sp.sqrt( sp.pi * a)\n",
    "K_Ic"
   ]
  },
  {
   "cell_type": "code",
   "execution_count": null,
   "metadata": {},
   "outputs": [],
   "source": [
    "beta = sp.Symbol(r'\\beta', nonnegative = True)\n",
    "eta = sp.Symbol(r'\\eta', nonnegative = True)"
   ]
  },
  {
   "cell_type": "code",
   "execution_count": null,
   "metadata": {},
   "outputs": [],
   "source": [
    "sigma_ij = sp.Matrix([[sigma_x, eta * sigma_x],\n",
    "                    [ -eta * sigma_x, 0]])\n",
    "sigma_ij"
   ]
  },
  {
   "cell_type": "code",
   "execution_count": null,
   "metadata": {},
   "outputs": [],
   "source": [
    "R_beta = sp.Matrix([[c_b, -s_b],\n",
    "                    [s_b, c_b]])\n",
    "R_beta"
   ]
  },
  {
   "cell_type": "code",
   "execution_count": null,
   "metadata": {},
   "outputs": [],
   "source": [
    "sigma_beta_ij = R_beta.T * sigma_ij * R_beta\n",
    "sigma_beta_ij"
   ]
  },
  {
   "cell_type": "code",
   "execution_count": null,
   "metadata": {},
   "outputs": [],
   "source": [
    "sigma_beta_ij_sim_ = sp.simplify(sigma_beta_ij)\n",
    "sigma_beta_ij_sim_"
   ]
  },
  {
   "cell_type": "code",
   "execution_count": null,
   "metadata": {},
   "outputs": [],
   "source": [
    "K_I = sp.sqrt(sp.pi * a) * sigma_beta_ij_sim_[0,0]\n",
    "K_II  = sp.sqrt(sp.pi * a) * sigma_beta_ij_sim_[1,0]\n",
    "K_I, K_II"
   ]
  },
  {
   "cell_type": "code",
   "execution_count": null,
   "metadata": {},
   "outputs": [],
   "source": [
    "Norm_K_I = K_I / K_Ic\n",
    "Norm_K_I_ = Norm_K_I.subs(s_b, sp.sin(beta)).subs(c_b, sp.cos(beta))\n",
    "Norm_K_I_"
   ]
  },
  {
   "cell_type": "code",
   "execution_count": null,
   "metadata": {},
   "outputs": [],
   "source": [
    "get_Norm_K_I = sp.lambdify((eta, beta), Norm_K_I_, 'numpy')\n",
    "get_Norm_K_I"
   ]
  },
  {
   "cell_type": "code",
   "execution_count": null,
   "metadata": {},
   "outputs": [],
   "source": [
    "Norm_K_II = K_II / K_Ic\n",
    "Norm_K_II_ = sp.Abs(Norm_K_II.subs(s_b, sp.sin(beta)).subs(c_b, sp.cos(beta)))\n",
    "Norm_K_II_"
   ]
  },
  {
   "cell_type": "code",
   "execution_count": null,
   "metadata": {},
   "outputs": [],
   "source": [
    "get_Norm_K_II = sp.lambdify((eta, beta), Norm_K_II_, 'numpy')\n",
    "get_Norm_K_II"
   ]
  },
  {
   "cell_type": "code",
   "execution_count": null,
   "metadata": {},
   "outputs": [],
   "source": [
    "_, (ax1) = plt.subplots(1, 1, figsize=(6,4))\n",
    "eta_0 = 0\n",
    "eta_05 = 0.5\n",
    "eta_1 = 1\n",
    "beta_ = np.linspace(0, 90 * np.pi/180, 100)\n",
    "K_I_K_Ic = get_Norm_K_I(eta_0, beta_)\n",
    "K_II_K_Ic = get_Norm_K_II(eta_0, beta_)\n",
    "K_I_K_Ic_ = get_Norm_K_I(eta_05, beta_)\n",
    "K_II_K_Ic_ = get_Norm_K_II(eta_05, beta_)\n",
    "K_I_K_Ic_1 = get_Norm_K_I(eta_1, beta_)\n",
    "K_II_K_Ic_1 = get_Norm_K_II(eta_1, beta_)\n",
    "ax1.plot(K_I_K_Ic, K_II_K_Ic, color='blue', lw=2, label = r'$\\eta = 0, \\sigma_X = 1$')\n",
    "ax1.plot(K_I_K_Ic_, K_II_K_Ic_, color='red', lw=2, label = r'$\\eta = 0.5, \\sigma_X = 1$')\n",
    "ax1.plot(K_I_K_Ic_1, K_II_K_Ic_1, color='yellow', lw=2, label = r'$\\eta = 1, \\sigma_X = 1$')\n",
    "ax1.set_xlabel(r'$K_{If}/K_{Ic}$'); ax1.set_ylabel(r'$K_{IIf}/K_{Ic}$')\n",
    "ax1.legend()\n",
    "_.savefig(\"Failurelocus.pdf\", bbox_inches='tight')"
   ]
  },
  {
   "cell_type": "markdown",
   "metadata": {},
   "source": [
    "## Variation Of SIFs against $\\beta$"
   ]
  },
  {
   "cell_type": "code",
   "execution_count": null,
   "metadata": {},
   "outputs": [],
   "source": [
    "params = {sigma_x : 1, a : 1}\n",
    "K_I_ = K_I.subs(params).subs(s_b, sp.sin(beta)).subs(c_b, sp.cos(beta))\n",
    "K_I_"
   ]
  },
  {
   "cell_type": "code",
   "execution_count": null,
   "metadata": {},
   "outputs": [],
   "source": [
    "K_II_ = sp.Abs(K_II.subs(params).subs(s_b, sp.sin(beta)).subs(c_b, sp.cos(beta)))\n",
    "K_II_"
   ]
  },
  {
   "cell_type": "code",
   "execution_count": null,
   "metadata": {},
   "outputs": [],
   "source": [
    "get_K_I = sp.lambdify((eta, beta), K_I_, 'numpy')\n",
    "get_K_I"
   ]
  },
  {
   "cell_type": "code",
   "execution_count": null,
   "metadata": {},
   "outputs": [],
   "source": [
    "get_K_II = sp.lambdify((eta, beta), K_II_, 'numpy')\n",
    "get_K_II"
   ]
  },
  {
   "cell_type": "code",
   "execution_count": null,
   "metadata": {},
   "outputs": [],
   "source": [
    "_, (ax1) = plt.subplots(1, 1, figsize=(6,4))\n",
    "eta_0 = 0\n",
    "eta_05 = 0.5\n",
    "eta_1 = 1\n",
    "beta_ = np.linspace(0, 90 * np.pi/180, 100)\n",
    "K_I_1 = get_K_I(eta_0, beta_)\n",
    "K_I_2 = get_K_I(eta_05, beta_)\n",
    "K_I_3 = get_K_I(eta_1, beta_)\n",
    "ax1.plot(beta_ * 180/np.pi, K_I_1, color='blue', lw=2, label = r'$\\eta = 0, \\sigma_X = 1$')\n",
    "ax1.plot(beta_ * 180/np.pi, K_I_2, color='red', lw=2, label = r'$\\eta = 0.5, \\sigma_X = 1$')\n",
    "ax1.plot(beta_ * 180/np.pi, K_I_3, color='yellow', lw=2, label = r'$\\eta = 1, \\sigma_X = 1$')\n",
    "ax1.set_xlabel(r'$\\beta$'); ax1.set_ylabel(r'$K_{I}$')\n",
    "ax1.legend()\n",
    "_.savefig(\"KIbeta.pdf\", bbox_inches='tight')"
   ]
  },
  {
   "cell_type": "code",
   "execution_count": null,
   "metadata": {
    "scrolled": true
   },
   "outputs": [],
   "source": [
    "_, (ax1) = plt.subplots(1, 1, figsize=(6,4))\n",
    "eta_0 = 0\n",
    "eta_05 = 0.5\n",
    "eta_1 = 1\n",
    "beta_ = np.linspace(0, 90 * np.pi/180, 100)\n",
    "K_II_1 = get_K_II(eta_0, beta_)\n",
    "K_II_2 = get_K_II(eta_05, beta_)\n",
    "K_II_3 = get_K_II(eta_1, beta_)\n",
    "ax1.plot(beta_ * 180/np.pi, K_II_1, color='blue', lw=2, label = r'$\\eta = 0, \\sigma_X = 1$')\n",
    "ax1.plot(beta_ * 180/np.pi, K_II_2, color='red', lw=2, label = r'$\\eta = 0.5, \\sigma_X = 1$')\n",
    "ax1.plot(beta_ * 180/np.pi, K_II_3, color='yellow', lw=2, label = r'$\\eta = 1, \\sigma_X = 1$')\n",
    "ax1.set_xlabel(r'$\\beta$'); ax1.set_ylabel(r'$K_{II}$')\n",
    "ax1.legend()\n",
    "_.savefig(\"KIIbeta.pdf\", bbox_inches='tight')"
   ]
  },
  {
   "cell_type": "code",
   "execution_count": null,
   "metadata": {},
   "outputs": [],
   "source": [
    "K_II_2"
   ]
  },
  {
   "cell_type": "code",
   "execution_count": null,
   "metadata": {},
   "outputs": [],
   "source": [
    "beta_ * 180/np.pi"
   ]
  },
  {
   "cell_type": "markdown",
   "metadata": {},
   "source": [
    "## R-Curve\n",
    "The fracture of quasi-brittle materials can be depicted by an R-curve which is also termed as fracture resistance. R-Curve is an envelope of energy release rate. For quasi-brittle materials, R is an increasing and convex function. This curve may be dependent on specimen geometry and material. \n",
    "A figure shown below highlights that the convex envelope of R-curve serves as the limit for crack gorwth, beyond which the unstable crack grows.\n"
   ]
  },
  {
   "cell_type": "markdown",
   "metadata": {},
   "source": [
    "<img src=\"Rcurve.png\" width=\"500\"/>"
   ]
  },
  {
   "cell_type": "markdown",
   "metadata": {},
   "source": [
    "For an infinite size specimen, the energy release rate is given by:\n",
    "\\begin{gather*}\n",
    "G = \\frac{\\sigma^2 \\pi a f_1^2}{E}\n",
    "\\end{gather*}\n",
    "where, $\\sigma = \\frac{Ps}{b^2}$ for three point bending beam, $a$, $E$ represent the crack length and the modulus of elasticity respectively. The term $f_1$ in $\\alpha$ equation is a geometry factor for the stress intensity factor and its value is equal to 1.123 for three point beam."
   ]
  },
  {
   "cell_type": "code",
   "execution_count": null,
   "metadata": {},
   "outputs": [],
   "source": [
    "f_1 = sp.Symbol('f_1', nonnegative = True)\n",
    "f_2 = sp.Symbol('f_2', nonnegative = True)\n",
    "E = sp.Symbol('E', nonnegative = True)\n",
    "alpha = sp.Symbol('alpha', nonnegative = True)\n",
    "a_0 = sp.Symbol('a_0', nonnegative = True)\n",
    "a_c = sp.Symbol('a_c', nonnegative = True)\n",
    "pi = sp.Symbol(r'\\pi', nonnegative = True)\n",
    "D = sp.Symbol('D', nonnegative = True)\n",
    "H_0 = sp.Symbol('H_0', nonnegative = True)\n",
    "B = sp.Symbol('B', nonnegative = True)\n",
    "P_max = sp.Symbol('P_max', nonnegative = True)\n",
    "P = sp.Symbol('P', nonnegative = True)\n",
    "S = sp.Symbol('S', nonnegative = True)\n",
    "B = sp.Symbol('B', nonnegative = True)\n",
    "a = sp.Symbol('a', nonnegative = True)\n",
    "COD = sp.Symbol('COD', nonnegative = True)\n",
    "K_Ic = sp.Symbol('K_{Ic}', nonnegative = True)"
   ]
  },
  {
   "cell_type": "code",
   "execution_count": null,
   "metadata": {},
   "outputs": [],
   "source": [
    "params = {f_2 : 1.42, \n",
    "          E: 28900, #N/mm2\n",
    "          P_max : 10, #N \n",
    "          D : 19, #mm\n",
    "          H_0 : 3, #mm\n",
    "          B : 76.2, #mm\n",
    "          S : 304.8, #mm\n",
    "          P : 120, #N\n",
    "          pi : 3.14, \n",
    "          a_0: 16, #mm\n",
    "          f_1: 1.123,\n",
    "          COD : 0.0094, ##mm\n",
    "          K_Ic : 26.3 #N/mm2\n",
    "         }"
   ]
  },
  {
   "cell_type": "code",
   "execution_count": null,
   "metadata": {},
   "outputs": [],
   "source": [
    "sigma_x = (P * S) / B**2\n",
    "sigma_x_ = sigma_x.subs(params)\n",
    "sigma_x_"
   ]
  },
  {
   "cell_type": "code",
   "execution_count": null,
   "metadata": {},
   "outputs": [],
   "source": [
    "G = (sigma_x_ * pi * a * f_1**2)/E\n",
    "G"
   ]
  },
  {
   "cell_type": "code",
   "execution_count": null,
   "metadata": {},
   "outputs": [],
   "source": [
    "G_ = G.subs(params)\n",
    "G_"
   ]
  },
  {
   "cell_type": "code",
   "execution_count": null,
   "metadata": {},
   "outputs": [],
   "source": [
    "get_G = sp.lambdify((a), G_, 'numpy')\n",
    "get_G"
   ]
  },
  {
   "cell_type": "markdown",
   "metadata": {},
   "source": [
    "With reference to Shah, the Crack Mouth Opening Displacement can be calculated as follows:\n",
    "\\begin{gather*}\n",
    "CMOD = \\frac{4 \\sigma f_2}{E}\n",
    "\\end{gather*}"
   ]
  },
  {
   "cell_type": "code",
   "execution_count": null,
   "metadata": {},
   "outputs": [],
   "source": [
    "CMOD = (4 * sigma_x.subs(params) * f_2.subs(params)) / E.subs(params)\n",
    "CMOD"
   ]
  },
  {
   "cell_type": "markdown",
   "metadata": {},
   "source": [
    "For the case, when critical crack mouth opening displacement $CMOD_c$ is known from experiment, the crack opening displacement $COD$ can be obtained from the equation given by Jenq and Shah:\n",
    "\\begin{gather*}\n",
    "COD = CMOD_c\\left[\\left(1 - \\frac{a_0}{a}\\right)^2 + \\left(1.081 - 1.149 \\left(\\frac{a}{D}\\right)\\right)\\left[\\frac{a_0}{a} - \\left(\\frac{a_0}{a}\\right)^2\\right]\\right]^{1/2} \n",
    "\\end{gather*}\n",
    "In order to obtain the $COD_c$ at the tip of the crack we will replace $x$ with $a_0$. "
   ]
  },
  {
   "cell_type": "code",
   "execution_count": null,
   "metadata": {},
   "outputs": [],
   "source": [
    "#COD = CMOD * sp.sqrt((1 - a_0/a)**2 + (1.081 - 1.149*(a/D))*(a_0/a - (a_0/a)**2))\n",
    "#COD_ = COD.subs(params)\n",
    "#a_ = alpha * a_0\n",
    "#COD_a = COD_.subs(a, a_)\n",
    "#COD_a"
   ]
  },
  {
   "cell_type": "markdown",
   "metadata": {},
   "source": [
    "In order to obtain R-Curve the following equation is to be evaluated:\n",
    "\\begin{gather*}\n",
    "R = \\beta_2 \\psi (a - a_0)^{d_{2}}\n",
    "\\end{gather*}\n",
    "The value of $\\psi$ is normally close to one, hence it can be ignored whereas to calculate factor $\\beta_2$ two critical conditions have to be considered i.e. $K_I = K_{IC}$ and $COD = CTOD_c$. Therefore, with reference to Maximum Tangential Stress Criterion $K_{IC}$ will be calculated as:\n",
    "\\begin{gather*}\n",
    "K_{Ic} = \\sigma_x \\sqrt{\\pi a}\n",
    "\\end{gather*}"
   ]
  },
  {
   "cell_type": "code",
   "execution_count": null,
   "metadata": {},
   "outputs": [],
   "source": [
    "#K_Ic = sigma_x_ * sp.sqrt( sp.pi * a)\n",
    "#K_Ic_ = K_Ic.subs(a, a_)\n",
    "#K_Ic_"
   ]
  },
  {
   "cell_type": "markdown",
   "metadata": {},
   "source": [
    "With reference to Shah, the value of $\\beta_2$ can be calculated as:\n",
    "\\begin{gather*}\n",
    "\\beta_2 = \\frac {K_{Ic}^2 (\\alpha a_0 - a_0)^{-d_2}}{E \\left(1 - \\frac{d_2 - \\frac{\\alpha - 1}{\\alpha}}{d_1 - \\frac{\\alpha - 1}{\\alpha}} \\right)}\n",
    "\\end{gather*}\n",
    "and the unknown terms $\\alpha$, $d_{1,2}$ in the above equation can be obtained from:\n",
    "\\begin{gather*}\n",
    "\\alpha = \\frac {\\pi E^2 f_1^2 CTOD_c^2}{32 a_0 K_{Ic}^2 f_2^2} + \\sqrt {\\frac {\\pi E^2 f_1^2 CTOD_c^2}{32 a_0 K_{Ic}^2 f_2^2} + 1} \\\\\n",
    "d_{1,2} = \\frac{1}{2} + \\frac{\\alpha - 1} {\\alpha} \\pm \\sqrt{\\left(\\frac{1}{4} + \\frac{\\alpha - 1} {\\alpha} - \\left(\\frac{\\alpha - 1} {\\alpha}\\right)^2\\right)}\n",
    "\\end{gather*}\n",
    "where, $f_2$ is a geometry parameter ad is equal to 1.42 for three point bend beam. $\\alpha$ is the precritical stable crack growth ($\\alpha \\geq 1$). It is equal to 1 for a pure brittle material whereas it is greater than 1 for quasi-brittle materials. "
   ]
  },
  {
   "cell_type": "code",
   "execution_count": null,
   "metadata": {},
   "outputs": [],
   "source": [
    "alpha = (pi * E**2 * f_1**2 * COD**2) / (32 * a_0 * K_Ic**2 * f_2**2) \\\n",
    "        + sp.sqrt((pi * E**2 * f_1**2 * COD**2) / (32 * a_0 * K_Ic**2 * f_2**2) + 1)\n",
    "alpha_ = sp.simplify(alpha.subs(params))\n",
    "alpha_"
   ]
  },
  {
   "cell_type": "code",
   "execution_count": null,
   "metadata": {},
   "outputs": [],
   "source": [
    "d_1 = (1/2) + ((alpha_ - 1) / alpha_) + sp.sqrt(1/4 + (alpha_ - 1) / alpha_ - ((alpha_ - 1) / alpha_)**2)\n",
    "d_2 = (1/2) + ((alpha_ - 1) / alpha_) - sp.sqrt(1/4 + (alpha_ - 1) / alpha_ - ((alpha_ - 1) / alpha_)**2)\n",
    "d_1_ = d_1.subs(params)\n",
    "d_2_ = d_2.subs(params)\n",
    "d_2_, d_1_"
   ]
  },
  {
   "cell_type": "code",
   "execution_count": null,
   "metadata": {},
   "outputs": [],
   "source": [
    "#get_d_1 = sp.lambdify((a), d_1_, 'numpy')\n",
    "#get_d_1"
   ]
  },
  {
   "cell_type": "code",
   "execution_count": null,
   "metadata": {},
   "outputs": [],
   "source": [
    "#get_d_2 = sp.lambdify((a), d_2_, 'numpy')\n",
    "#get_d_2"
   ]
  },
  {
   "cell_type": "code",
   "execution_count": null,
   "metadata": {
    "slideshow": {
     "slide_type": "subslide"
    }
   },
   "outputs": [],
   "source": [
    "beta_2 = (K_Ic**2 * (alpha_ * a_0 - a_0)**-d_2) / (E * (1 - (d_2 - ((alpha_-1)/alpha_))/(d_1 - ((alpha_-1)/alpha_))))\n",
    "beta_2_ = beta_2.subs(params)\n",
    "beta_2_"
   ]
  },
  {
   "cell_type": "code",
   "execution_count": null,
   "metadata": {},
   "outputs": [],
   "source": [
    "#get_beta_2 = sp.lambdify((a), beta_2_, 'numpy')\n",
    "#get_beta_2"
   ]
  },
  {
   "cell_type": "code",
   "execution_count": null,
   "metadata": {},
   "outputs": [],
   "source": [
    "R = beta_2_ * (a - a_0)**d_2\n",
    "R_ = R.subs(params)\n",
    "#sp.simplify(R_)\n",
    "R_"
   ]
  },
  {
   "cell_type": "code",
   "execution_count": null,
   "metadata": {},
   "outputs": [],
   "source": [
    "get_R = sp.lambdify((a), R_, 'numpy')\n",
    "get_R"
   ]
  },
  {
   "cell_type": "markdown",
   "metadata": {},
   "source": [
    "The value of R must not exceed its maximum value which is:\n",
    "\\begin{gather*}\n",
    "R_{Ic} = \\frac{K_{Ic}^2}{E}\n",
    "\\end{gather*}"
   ]
  },
  {
   "cell_type": "code",
   "execution_count": null,
   "metadata": {},
   "outputs": [],
   "source": [
    "R_Ic = (K_Ic)**2 / E\n",
    "#R_Ic_ =R_Ic.subs(a, a_c_).subs(params)\n",
    "R_Ic_ = R_Ic.subs(params)\n",
    "R_Ic_"
   ]
  },
  {
   "cell_type": "code",
   "execution_count": null,
   "metadata": {},
   "outputs": [],
   "source": [
    "#get_R_Ic = sp.lambdify((s_b), R_Ic_, 'numpy')\n",
    "#get_R_Ic"
   ]
  },
  {
   "cell_type": "code",
   "execution_count": null,
   "metadata": {},
   "outputs": [],
   "source": [
    "_, (ax1) = plt.subplots(1, 1, figsize=(7,3))\n",
    "a = np.linspace(16, 100, 100)\n",
    "a_g = np.linspace(0, 100, 100)\n",
    "R = get_R(a) \n",
    "#R_I_c = R_Ic_\n",
    "G = get_G(a_g)\n",
    "ax1.plot(a , R, color='orange', lw=2, label= 'R-curve')\n",
    "ax1.plot(a_g , G, color='blue', lw=2, label= 'G')\n",
    "#ax1.plot(a , R_I_c, color='yellow', lw=2)\n",
    "ax1.set_xlabel(r'$a$'); ax1.set_ylabel(r'$G$')\n",
    "ax1.legend()"
   ]
  },
  {
   "cell_type": "code",
   "execution_count": null,
   "metadata": {},
   "outputs": [],
   "source": [
    "R"
   ]
  },
  {
   "cell_type": "code",
   "execution_count": null,
   "metadata": {},
   "outputs": [],
   "source": [
    "G"
   ]
  },
  {
   "cell_type": "code",
   "execution_count": null,
   "metadata": {},
   "outputs": [],
   "source": []
  }
 ],
 "metadata": {
  "kernelspec": {
   "display_name": "Python 3",
   "language": "python",
   "name": "python3"
  },
  "language_info": {
   "codemirror_mode": {
    "name": "ipython",
    "version": 3
   },
   "file_extension": ".py",
   "mimetype": "text/x-python",
   "name": "python",
   "nbconvert_exporter": "python",
   "pygments_lexer": "ipython3",
   "version": "3.7.6"
  },
  "toc": {
   "base_numbering": 1,
   "nav_menu": {},
   "number_sections": true,
   "sideBar": true,
   "skip_h1_title": false,
   "title_cell": "Table of Contents",
   "title_sidebar": "Contents",
   "toc_cell": false,
   "toc_position": {
    "height": "calc(100% - 180px)",
    "left": "10px",
    "top": "150px",
    "width": "165px"
   },
   "toc_section_display": true,
   "toc_window_display": true
  }
 },
 "nbformat": 4,
 "nbformat_minor": 2
}
