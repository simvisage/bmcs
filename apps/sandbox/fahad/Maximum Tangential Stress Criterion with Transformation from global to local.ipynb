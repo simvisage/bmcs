{
 "cells": [
  {
   "cell_type": "code",
   "execution_count": null,
   "metadata": {},
   "outputs": [],
   "source": [
    "%matplotlib notebook\n",
    "import matplotlib.pyplot as plt\n",
    "import numpy as np\n",
    "import sympy as sp\n",
    "sp.init_printing()\n",
    "import ipywidgets as ipw"
   ]
  },
  {
   "cell_type": "markdown",
   "metadata": {},
   "source": [
    "# Principal stress directions in FPS"
   ]
  },
  {
   "cell_type": "markdown",
   "metadata": {},
   "source": [
    "The corresponding tensile stress at this position which must be perpendicular to the crack propagation \n",
    "\\begin{align}\n",
    "\\sigma^{fps}_3 = f_t\n",
    "\\end{align}"
   ]
  },
  {
   "cell_type": "markdown",
   "metadata": {},
   "source": [
    "The stresses in the global co-ordinates are expressed as:\n",
    "\\begin{align}\n",
    "\\sigma_{xz} = \n",
    "\\left[\n",
    "\\begin{array}{cc}\n",
    "\\sigma_{xx} & \\tau_{xz} \\\\\n",
    "\\tau_{zx} & \\sigma_{zz}\n",
    "\\end{array}\n",
    "\\right] =\n",
    "\\left[\n",
    "\\begin{array}{cc}\n",
    "\\sigma_{x} & \\tau^\\mathrm{fps} \\\\\n",
    "\\tau^\\mathrm{fps} & \\sigma_{z}\n",
    "\\end{array}\n",
    "\\right]\n",
    "\\end{align}"
   ]
  },
  {
   "cell_type": "markdown",
   "metadata": {},
   "source": [
    "In our case $\\sigma_z = 0$ as the specimen is uniaxially loaded therefore, the stress will be depicted as follows:\n",
    "The stresses in the global co-ordinates are expressed as:\n",
    "\\begin{align}\n",
    "\\sigma_{xz} = \n",
    "\\left[\n",
    "\\begin{array}{cc}\n",
    "\\sigma_{xx} & \\tau_{xz} \\\\\n",
    "\\tau_{zx} & 0\n",
    "\\end{array}\n",
    "\\right] =\n",
    "\\left[\n",
    "\\begin{array}{cc}\n",
    "\\sigma_{x} & \\tau^\\mathrm{fps} \\\\\n",
    "\\tau^\\mathrm{fps} & 0\n",
    "\\end{array}\n",
    "\\right]\n",
    "\\end{align} \n",
    "$\\sigma_x, \\tau_{fps}, \\sigma_z$ represents the stress in x-direction, shear stress in fracture process segment and stress in vertical direction respectively."
   ]
  },
  {
   "cell_type": "markdown",
   "metadata": {},
   "source": [
    "<img src=\"farfieldstress.png\" width=\"500\"/>"
   ]
  },
  {
   "cell_type": "code",
   "execution_count": null,
   "metadata": {},
   "outputs": [],
   "source": [
    "r = sp.Symbol('r', nonnegative = True)\n",
    "theta = sp.Symbol(r'\\theta', nonnegative = True)\n",
    "K_I = sp.Symbol('K_I', nonnegative = True)\n",
    "K_II = sp.Symbol('K_{II}', nonnegative = True)\n",
    "T = sp.Symbol('T', nonnegative = True)\n",
    "sigma_x =  sp.Symbol(r'\\sigma_x', nonnegative = True)\n",
    "sigma_z =  sp.Symbol(r'\\sigma_z', nonnegative = True)\n",
    "tau_fps = sp.Symbol(r'\\tau_\\mathrm{fps}')\n",
    "a = sp.Symbol('a', nonnegative = True)\n",
    "beta = sp.Symbol(r'\\beta', nonnegative = True)\n",
    "tau_fps"
   ]
  },
  {
   "cell_type": "code",
   "execution_count": null,
   "metadata": {},
   "outputs": [],
   "source": [
    "sigma_xz = sp.Matrix([[sigma_x, tau_fps],\n",
    "                     [tau_fps, 0]])\n",
    "#sigma_x0 = sigma_xz.subs(sigma_z,0)\n",
    "sigma_xz#, sigma_x0"
   ]
  },
  {
   "cell_type": "code",
   "execution_count": null,
   "metadata": {},
   "outputs": [],
   "source": [
    "P_xz, D_xz = sigma_xz.diagonalize()\n",
    "P_xz, D_xz"
   ]
  },
  {
   "cell_type": "code",
   "execution_count": null,
   "metadata": {},
   "outputs": [],
   "source": [
    "sp.simplify(P_xz* D_xz * P_xz**(-1))"
   ]
  },
  {
   "cell_type": "markdown",
   "metadata": {},
   "source": [
    "## Representation of Far field stress in terms of Stress Intensity factors\n",
    "In this implementation, the far field stress is represented in  terms of Stress Intensity factors (SIFs) where $K_I$ represents mode I and $K_{II}$ depicts mode II. This terminology of measuring stresses in SIFs for external stress acting in uniaxial direction is shown as:\n",
    "\\begin{gather*}\n",
    "K_I = \\sigma_x \\sqrt{\\pi a}\\sin^2 \\beta  \\\\\n",
    "K_{II} = \\sigma_x \\sqrt{\\pi a}\\sin\\beta \\cos\\beta  \n",
    "\\end{gather*}\n",
    "The positive sign of $K_I$ highlights stress as tension where negative sign shows compression. Similarly, negative sign of $K_{II}$ represents stress in opposite direction. $\\beta$ represents the angle of crack orientation with respect to the vertical direction and $a$ represents the length of crack as depicted in figure. In the case of pure mode I failure, $\\beta$ is $90°$ whereas for failure along pure mode II $\\beta = 0°$"
   ]
  },
  {
   "cell_type": "markdown",
   "metadata": {},
   "source": [
    "The figure above shows stresses in the vicinity of crack tip. $\\theta$ depicts crack propagation angle and $r$ represents the radius of fracture propagation segment."
   ]
  },
  {
   "cell_type": "code",
   "execution_count": 6,
   "metadata": {},
   "outputs": [
    {
     "data": {
      "image/png": "[encoded data removed]",
      "text/latex": [
       "$\\displaystyle s_{b}$"
      ],
      "text/plain": [
       "s_b"
      ]
     },
     "execution_count": 6,
     "metadata": {},
     "output_type": "execute_result"
    }
   ],
   "source": [
    "s_b, c_b = sp.symbols('s_b, c_b')\n",
    "s_b"
   ]
  },
  {
   "cell_type": "code",
   "execution_count": 7,
   "metadata": {},
   "outputs": [
    {
     "data": {
      "image/png": "[encoded data removed]",
      "text/latex": [
       "$\\displaystyle \\left( \\sqrt{\\pi} \\sigma_x \\sqrt{a} s_{b}^{2}, \\  \\sqrt{\\pi} \\sigma_x \\sqrt{a} c_{b} s_{b}\\right)$"
      ],
      "text/plain": [
       "⎛                 2                       ⎞\n",
       "⎝√π⋅\\sigmaₓ⋅√a⋅s_b , √π⋅\\sigmaₓ⋅√a⋅c_b⋅s_b⎠"
      ]
     },
     "execution_count": 7,
     "metadata": {},
     "output_type": "execute_result"
    }
   ],
   "source": [
    "K_I = sigma_x * sp.sqrt(sp.pi * a) * s_b**2\n",
    "K_II  = sigma_x * sp.sqrt(sp.pi * a) * c_b * s_b\n",
    "K_I, K_II"
   ]
  },
  {
   "cell_type": "code",
   "execution_count": 8,
   "metadata": {},
   "outputs": [],
   "source": [
    "params = {beta:45*np.pi/180}"
   ]
  },
  {
   "cell_type": "code",
   "execution_count": 9,
   "metadata": {},
   "outputs": [
    {
     "data": {
      "image/png": "[encoded data removed]",
      "text/latex": [
       "$\\displaystyle \\left( \\sqrt{\\pi} \\sigma_x \\sqrt{a} s_{b}^{2}, \\  \\sqrt{\\pi} \\sigma_x \\sqrt{a} c_{b} s_{b}\\right)$"
      ],
      "text/plain": [
       "⎛                 2                       ⎞\n",
       "⎝√π⋅\\sigmaₓ⋅√a⋅s_b , √π⋅\\sigmaₓ⋅√a⋅c_b⋅s_b⎠"
      ]
     },
     "execution_count": 9,
     "metadata": {},
     "output_type": "execute_result"
    }
   ],
   "source": [
    "K_I_ = K_I#.subs(params)\n",
    "K_II_ = K_II#.subs(params)\n",
    "K_I_, K_II_"
   ]
  },
  {
   "cell_type": "markdown",
   "metadata": {},
   "source": [
    "Conversion of the Stress Intensity factors into stress field. Hence, the Stress field in the cartesian coordinates wil be given as:\n",
    "\\begin{align}\n",
    "\\sigma_b =\n",
    "\\left[\n",
    "\\begin{array}{cc}\n",
    "K_I & K_{II} \\\\\n",
    "K_{II} & 0\n",
    "\\end{array}\n",
    "\\right] \n",
    "\\end{align}\n",
    "The last term of the above matrix is taken as 0 to consider the stress along z-axis to be zero."
   ]
  },
  {
   "cell_type": "code",
   "execution_count": 10,
   "metadata": {},
   "outputs": [
    {
     "data": {
      "image/png": "[encoded data removed]",
      "text/latex": [
       "$\\displaystyle \\left[\\begin{matrix}\\sqrt{\\pi} \\sigma_x \\sqrt{a} s_{b}^{2} & \\sqrt{\\pi} \\sigma_x \\sqrt{a} c_{b} s_{b}\\\\\\sqrt{\\pi} \\sigma_x \\sqrt{a} c_{b} s_{b} & 0\\end{matrix}\\right]$"
      ],
      "text/plain": [
       "⎡                  2                         ⎤\n",
       "⎢ √π⋅\\sigmaₓ⋅√a⋅s_b     √π⋅\\sigmaₓ⋅√a⋅c_b⋅s_b⎥\n",
       "⎢                                            ⎥\n",
       "⎣√π⋅\\sigmaₓ⋅√a⋅c_b⋅s_b            0          ⎦"
      ]
     },
     "execution_count": 10,
     "metadata": {},
     "output_type": "execute_result"
    }
   ],
   "source": [
    "Sigma_b = sp.Matrix([[K_I, K_II],[K_II, 0]])\n",
    "Sigma_b "
   ]
  },
  {
   "cell_type": "markdown",
   "metadata": {},
   "source": [
    "## Transformation of the Stress Function\n",
    "In this part the stress matrix given above is transformed into the polar coordinates by following the steps given below:\n",
    "\\begin{align}\n",
    "T_t = \n",
    "\\left[\n",
    "\\begin{array}{cc}\n",
    "\\cos \\theta & -\\sin \\theta \\\\\n",
    "\\sin \\theta &  \\cos \\theta\n",
    "\\end{array} \\right]\n",
    "\\end{align}\n",
    "Now, in order to transform from cartesian to polar the following transformation will be done. i.e.:\n",
    "\\begin{align}\n",
    "\\sigma_{tb} = T_t^T \\sigma_b T_t \n",
    "\\end{align}"
   ]
  },
  {
   "cell_type": "code",
   "execution_count": 11,
   "metadata": {},
   "outputs": [],
   "source": [
    "## Representation of sin and cos components as s_t and c_t for simplicity.\n",
    "s_t, c_t = sp.symbols('s_t,c_t')\n",
    "#T_t = sp.Matrix([[c_t, -s_t],[s_t, c_t]])\n",
    "#T_t"
   ]
  },
  {
   "cell_type": "code",
   "execution_count": 12,
   "metadata": {},
   "outputs": [
    {
     "data": {
      "image/png": "[encoded data removed]",
      "text/latex": [
       "$\\displaystyle \\left[\\begin{matrix}c_{t}\\\\s_{t}\\end{matrix}\\right]$"
      ],
      "text/plain": [
       "⎡cₜ⎤\n",
       "⎢  ⎥\n",
       "⎣sₜ⎦"
      ]
     },
     "execution_count": 12,
     "metadata": {},
     "output_type": "execute_result"
    }
   ],
   "source": [
    "cs_theta = sp.Matrix([c_t, s_t])\n",
    "cs_theta"
   ]
  },
  {
   "cell_type": "code",
   "execution_count": 19,
   "metadata": {},
   "outputs": [
    {
     "data": {
      "image/png": "[encoded data removed]",
      "text/latex": [
       "$\\displaystyle \\left[\\begin{matrix}c_{t} & - s_{t}\\\\s_{t} & c_{t}\\end{matrix}\\right]$"
      ],
      "text/plain": [
       "⎡cₜ  -sₜ⎤\n",
       "⎢       ⎥\n",
       "⎣sₜ  cₜ ⎦"
      ]
     },
     "execution_count": 19,
     "metadata": {},
     "output_type": "execute_result"
    }
   ],
   "source": [
    "T_t = sp.Matrix([[cs_theta[0], -cs_theta[1]],[cs_theta[1], cs_theta[0]]])\n",
    "T_t"
   ]
  },
  {
   "cell_type": "code",
   "execution_count": 20,
   "metadata": {},
   "outputs": [
    {
     "data": {
      "image/png": "[encoded data removed]",
      "text/latex": [
       "$\\displaystyle \\left[\\begin{matrix}\\cos{\\left(\\theta \\right)}\\\\\\sin{\\left(\\theta \\right)}\\end{matrix}\\right]$"
      ],
      "text/plain": [
       "⎡cos(\\theta)⎤\n",
       "⎢           ⎥\n",
       "⎣sin(\\theta)⎦"
      ]
     },
     "execution_count": 20,
     "metadata": {},
     "output_type": "execute_result"
    }
   ],
   "source": [
    "cs_theta_ = sp.Matrix([sp.cos(theta), sp.sin(theta)])\n",
    "cs_theta_"
   ]
  },
  {
   "cell_type": "code",
   "execution_count": 21,
   "metadata": {},
   "outputs": [
    {
     "data": {
      "image/png": "[encoded data removed]",
      "text/latex": [
       "$\\displaystyle \\left[\\begin{matrix}\\sqrt{\\pi} \\sigma_x \\sqrt{a} c_{t} s_{b} \\left(2 c_{b} s_{t} + c_{t} s_{b}\\right) & \\sqrt{\\pi} \\sigma_x \\sqrt{a} s_{b} \\left(c_{b} c_{t}^{2} - s_{t} \\left(c_{b} s_{t} + c_{t} s_{b}\\right)\\right)\\\\\\sqrt{\\pi} \\sigma_x \\sqrt{a} s_{b} \\left(- c_{b} s_{t}^{2} + c_{t} \\left(c_{b} c_{t} - s_{b} s_{t}\\right)\\right) & \\sqrt{\\pi} \\sigma_x \\sqrt{a} s_{b} s_{t} \\left(- 2 c_{b} c_{t} + s_{b} s_{t}\\right)\\end{matrix}\\right]$"
      ],
      "text/plain": [
       "⎡                                                                        ⎛    \n",
       "⎢      √π⋅\\sigmaₓ⋅√a⋅cₜ⋅s_b⋅(2⋅c_b⋅sₜ + cₜ⋅s_b)        √π⋅\\sigmaₓ⋅√a⋅s_b⋅⎝c_b⋅\n",
       "⎢                                                                             \n",
       "⎢                  ⎛        2                       ⎞                         \n",
       "⎣√π⋅\\sigmaₓ⋅√a⋅s_b⋅⎝- c_b⋅sₜ  + cₜ⋅(c_b⋅cₜ - s_b⋅sₜ)⎠      √π⋅\\sigmaₓ⋅√a⋅s_b⋅s\n",
       "\n",
       "  2                       ⎞⎤\n",
       "cₜ  - sₜ⋅(c_b⋅sₜ + cₜ⋅s_b)⎠⎥\n",
       "                           ⎥\n",
       "                           ⎥\n",
       "ₜ⋅(-2⋅c_b⋅cₜ + s_b⋅sₜ)     ⎦"
      ]
     },
     "execution_count": 21,
     "metadata": {},
     "output_type": "execute_result"
    }
   ],
   "source": [
    "Sigma_tb = T_t.T * Sigma_b * T_t\n",
    "Sig = sp.simplify(Sigma_tb)\n",
    "Sig"
   ]
  },
  {
   "cell_type": "code",
   "execution_count": 22,
   "metadata": {},
   "outputs": [
    {
     "data": {
      "image/png": "[encoded data removed]",
      "text/latex": [
       "$\\displaystyle - \\sqrt{\\pi} \\sigma_x \\sqrt{a} c_{b} c_{t} s_{b} s_{t} - s_{t} \\left(\\sqrt{\\pi} \\sigma_x \\sqrt{a} c_{b} c_{t} s_{b} - \\sqrt{\\pi} \\sigma_x \\sqrt{a} s_{b}^{2} s_{t}\\right)$"
      ],
      "text/plain": [
       "                                  ⎛                                           \n",
       "-√π⋅\\sigmaₓ⋅√a⋅c_b⋅cₜ⋅s_b⋅sₜ - sₜ⋅⎝√π⋅\\sigmaₓ⋅√a⋅c_b⋅cₜ⋅s_b - √π⋅\\sigmaₓ⋅√a⋅s_\n",
       "\n",
       " 2   ⎞\n",
       "b ⋅sₜ⎠"
      ]
     },
     "execution_count": 22,
     "metadata": {},
     "output_type": "execute_result"
    }
   ],
   "source": [
    "Sigma_tb[1,1]"
   ]
  },
  {
   "cell_type": "code",
   "execution_count": 23,
   "metadata": {},
   "outputs": [],
   "source": [
    "#dsigma_d_ct = Sigma_tb.diff(T_t[0,0])\n",
    "#dsigma_d_cs = dsigma_d_ct.diff(T_t[1,0])\n",
    "#dsigma_d_cs_ = sp.simplify(dsigma_d_cs)\n",
    "#dsigma_d_cs_"
   ]
  },
  {
   "cell_type": "code",
   "execution_count": 24,
   "metadata": {},
   "outputs": [],
   "source": [
    "#dsigma_d_cs_[1,1]"
   ]
  },
  {
   "cell_type": "markdown",
   "metadata": {},
   "source": [
    "Solving the stress field to calculate angle $\\theta$ following the Maximum Tangential Stress Theory. According to the Maximum Tangental Stress Theory, the angle will be calculated as:\n",
    "\\begin{gather*}\n",
    "\\frac{\\partial{\\sigma_{\\theta \\theta}}}{\\partial{\\theta}} = 0\n",
    "\\end{gather*}"
   ]
  },
  {
   "cell_type": "code",
   "execution_count": 25,
   "metadata": {},
   "outputs": [
    {
     "data": {
      "image/png": "[encoded data removed]",
      "text/latex": [
       "$\\displaystyle - \\sqrt{\\pi} \\sigma_x \\sqrt{a} c_{b} s_{b} \\sin{\\left(\\theta \\right)} \\cos{\\left(\\theta \\right)} - \\left(\\sqrt{\\pi} \\sigma_x \\sqrt{a} c_{b} s_{b} \\cos{\\left(\\theta \\right)} - \\sqrt{\\pi} \\sigma_x \\sqrt{a} s_{b}^{2} \\sin{\\left(\\theta \\right)}\\right) \\sin{\\left(\\theta \\right)}$"
      ],
      "text/plain": [
       "                                                 ⎛                            \n",
       "-√π⋅\\sigmaₓ⋅√a⋅c_b⋅s_b⋅sin(\\theta)⋅cos(\\theta) - ⎝√π⋅\\sigmaₓ⋅√a⋅c_b⋅s_b⋅cos(\\t\n",
       "\n",
       "                         2            ⎞            \n",
       "heta) - √π⋅\\sigmaₓ⋅√a⋅s_b ⋅sin(\\theta)⎠⋅sin(\\theta)"
      ]
     },
     "execution_count": 25,
     "metadata": {},
     "output_type": "execute_result"
    }
   ],
   "source": [
    "dsigma_d_cs_val = Sigma_tb[1,1].subs(c_t, cs_theta_[0]).subs(s_t, cs_theta_[1])\n",
    "dsigma_d_cs_val"
   ]
  },
  {
   "cell_type": "code",
   "execution_count": 26,
   "metadata": {},
   "outputs": [
    {
     "data": {
      "image/png": "[encoded data removed]",
      "text/latex": [
       "$\\displaystyle \\left[ 0, \\  - 2 \\operatorname{atan}{\\left(\\frac{s_{b} - \\sqrt{4 c_{b}^{2} + s_{b}^{2}}}{2 c_{b}} \\right)}, \\  - 2 \\operatorname{atan}{\\left(\\frac{s_{b} + \\sqrt{4 c_{b}^{2} + s_{b}^{2}}}{2 c_{b}} \\right)}\\right]$"
      ],
      "text/plain": [
       "⎡          ⎛         _______________⎞         ⎛         _______________⎞⎤\n",
       "⎢          ⎜        ╱      2      2 ⎟         ⎜        ╱      2      2 ⎟⎥\n",
       "⎢          ⎜s_b - ╲╱  4⋅c_b  + s_b  ⎟         ⎜s_b + ╲╱  4⋅c_b  + s_b  ⎟⎥\n",
       "⎢0, -2⋅atan⎜────────────────────────⎟, -2⋅atan⎜────────────────────────⎟⎥\n",
       "⎣          ⎝         2⋅c_b          ⎠         ⎝         2⋅c_b          ⎠⎦"
      ]
     },
     "execution_count": 26,
     "metadata": {},
     "output_type": "execute_result"
    }
   ],
   "source": [
    "theta_ = sp.solve(dsigma_d_cs_val, theta)\n",
    "theta_"
   ]
  },
  {
   "cell_type": "code",
   "execution_count": 27,
   "metadata": {},
   "outputs": [
    {
     "data": {
      "image/png": "[encoded data removed]",
      "text/latex": [
       "$\\displaystyle \\left[\\begin{matrix}\\cos{\\left(\\beta \\right)}\\\\\\sin{\\left(\\beta \\right)}\\end{matrix}\\right]$"
      ],
      "text/plain": [
       "⎡cos(\\beta)⎤\n",
       "⎢          ⎥\n",
       "⎣sin(\\beta)⎦"
      ]
     },
     "execution_count": 27,
     "metadata": {},
     "output_type": "execute_result"
    }
   ],
   "source": [
    "cs_beta_ = sp.Matrix([sp.cos(beta), sp.sin(beta)])\n",
    "cs_beta_"
   ]
  },
  {
   "cell_type": "code",
   "execution_count": 28,
   "metadata": {},
   "outputs": [
    {
     "data": {
      "image/png": "[encoded data removed]",
      "text/latex": [
       "$\\displaystyle - 2 \\operatorname{atan}{\\left(\\frac{\\sqrt{\\sin^{2}{\\left(\\beta \\right)} + 4 \\cos^{2}{\\left(\\beta \\right)}} + \\sin{\\left(\\beta \\right)}}{2 \\cos{\\left(\\beta \\right)}} \\right)}$"
      ],
      "text/plain": [
       "       ⎛   _____________________________             ⎞\n",
       "       ⎜  ╱    2               2                     ⎟\n",
       "       ⎜╲╱  sin (\\beta) + 4⋅cos (\\beta)  + sin(\\beta)⎟\n",
       "-2⋅atan⎜─────────────────────────────────────────────⎟\n",
       "       ⎝                 2⋅cos(\\beta)                ⎠"
      ]
     },
     "execution_count": 28,
     "metadata": {},
     "output_type": "execute_result"
    }
   ],
   "source": [
    "theta_val = theta_[2].subs(c_b, cs_beta_[0]).subs(s_b, cs_beta_[1])\n",
    "theta_val"
   ]
  },
  {
   "cell_type": "code",
   "execution_count": 29,
   "metadata": {},
   "outputs": [
    {
     "data": {
      "text/plain": [
       "<function _lambdifygenerated(Dummy_207)>"
      ]
     },
     "execution_count": 29,
     "metadata": {},
     "output_type": "execute_result"
    }
   ],
   "source": [
    "get_theta = sp.lambdify((beta), theta_val, 'numpy')\n",
    "get_theta"
   ]
  },
  {
   "cell_type": "code",
   "execution_count": 30,
   "metadata": {},
   "outputs": [
    {
     "data": {
      "application/javascript": [
       "/* Put everything inside the global mpl namespace */\n",
       "window.mpl = {};\n",
       "\n",
       "\n",
       "mpl.get_websocket_type = function() {\n",
       "    if (typeof(WebSocket) !== 'undefined') {\n",
       "        return WebSocket;\n",
       "    } else if (typeof(MozWebSocket) !== 'undefined') {\n",
       "        return MozWebSocket;\n",
       "    } else {\n",
       "        alert('Your browser does not have WebSocket support. ' +\n",
       "              'Please try Chrome, Safari or Firefox ≥ 6. ' +\n",
       "              'Firefox 4 and 5 are also supported but you ' +\n",
       "              'have to enable WebSockets in about:config.');\n",
       "    };\n",
       "}\n",
       "\n",
       "mpl.figure = function(figure_id, websocket, ondownload, parent_element) {\n",
       "    this.id = figure_id;\n",
       "\n",
       "    this.ws = websocket;\n",
       "\n",
       "    this.supports_binary = (this.ws.binaryType != undefined);\n",
       "\n",
       "    if (!this.supports_binary) {\n",
       "        var warnings = document.getElementById(\"mpl-warnings\");\n",
       "        if (warnings) {\n",
       "            warnings.style.display = 'block';\n",
       "            warnings.textContent = (\n",
       "                \"This browser does not support binary websocket messages. \" +\n",
       "                    \"Performance may be slow.\");\n",
       "        }\n",
       "    }\n",
       "\n",
       "    this.imageObj = new Image();\n",
       "\n",
       "    this.context = undefined;\n",
       "    this.message = undefined;\n",
       "    this.canvas = undefined;\n",
       "    this.rubberband_canvas = undefined;\n",
       "    this.rubberband_context = undefined;\n",
       "    this.format_dropdown = undefined;\n",
       "\n",
       "    this.image_mode = 'full';\n",
       "\n",
       "    this.root = $('<div/>');\n",
       "    this._root_extra_style(this.root)\n",
       "    this.root.attr('style', 'display: inline-block');\n",
       "\n",
       "    $(parent_element).append(this.root);\n",
       "\n",
       "    this._init_header(this);\n",
       "    this._init_canvas(this);\n",
       "    this._init_toolbar(this);\n",
       "\n",
       "    var fig = this;\n",
       "\n",
       "    this.waiting = false;\n",
       "\n",
       "    this.ws.onopen =  function () {\n",
       "            fig.send_message(\"supports_binary\", {value: fig.supports_binary});\n",
       "            fig.send_message(\"send_image_mode\", {});\n",
       "            if (mpl.ratio != 1) {\n",
       "                fig.send_message(\"set_dpi_ratio\", {'dpi_ratio': mpl.ratio});\n",
       "            }\n",
       "            fig.send_message(\"refresh\", {});\n",
       "        }\n",
       "\n",
       "    this.imageObj.onload = function() {\n",
       "            if (fig.image_mode == 'full') {\n",
       "                // Full images could contain transparency (where diff images\n",
       "                // almost always do), so we need to clear the canvas so that\n",
       "                // there is no ghosting.\n",
       "                fig.context.clearRect(0, 0, fig.canvas.width, fig.canvas.height);\n",
       "            }\n",
       "            fig.context.drawImage(fig.imageObj, 0, 0);\n",
       "        };\n",
       "\n",
       "    this.imageObj.onunload = function() {\n",
       "        fig.ws.close();\n",
       "    }\n",
       "\n",
       "    this.ws.onmessage = this._make_on_message_function(this);\n",
       "\n",
       "    this.ondownload = ondownload;\n",
       "}\n",
       "\n",
       "mpl.figure.prototype._init_header = function() {\n",
       "    var titlebar = $(\n",
       "        '<div class=\"ui-dialog-titlebar ui-widget-header ui-corner-all ' +\n",
       "        'ui-helper-clearfix\"/>');\n",
       "    var titletext = $(\n",
       "        '<div class=\"ui-dialog-title\" style=\"width: 100%; ' +\n",
       "        'text-align: center; padding: 3px;\"/>');\n",
       "    titlebar.append(titletext)\n",
       "    this.root.append(titlebar);\n",
       "    this.header = titletext[0];\n",
       "}\n",
       "\n",
       "\n",
       "\n",
       "mpl.figure.prototype._canvas_extra_style = function(canvas_div) {\n",
       "\n",
       "}\n",
       "\n",
       "\n",
       "mpl.figure.prototype._root_extra_style = function(canvas_div) {\n",
       "\n",
       "}\n",
       "\n",
       "mpl.figure.prototype._init_canvas = function() {\n",
       "    var fig = this;\n",
       "\n",
       "    var canvas_div = $('<div/>');\n",
       "\n",
       "    canvas_div.attr('style', 'position: relative; clear: both; outline: 0');\n",
       "\n",
       "    function canvas_keyboard_event(event) {\n",
       "        return fig.key_event(event, event['data']);\n",
       "    }\n",
       "\n",
       "    canvas_div.keydown('key_press', canvas_keyboard_event);\n",
       "    canvas_div.keyup('key_release', canvas_keyboard_event);\n",
       "    this.canvas_div = canvas_div\n",
       "    this._canvas_extra_style(canvas_div)\n",
       "    this.root.append(canvas_div);\n",
       "\n",
       "    var canvas = $('<canvas/>');\n",
       "    canvas.addClass('mpl-canvas');\n",
       "    canvas.attr('style', \"left: 0; top: 0; z-index: 0; outline: 0\")\n",
       "\n",
       "    this.canvas = canvas[0];\n",
       "    this.context = canvas[0].getContext(\"2d\");\n",
       "\n",
       "    var backingStore = this.context.backingStorePixelRatio ||\n",
       "\tthis.context.webkitBackingStorePixelRatio ||\n",
       "\tthis.context.mozBackingStorePixelRatio ||\n",
       "\tthis.context.msBackingStorePixelRatio ||\n",
       "\tthis.context.oBackingStorePixelRatio ||\n",
       "\tthis.context.backingStorePixelRatio || 1;\n",
       "\n",
       "    mpl.ratio = (window.devicePixelRatio || 1) / backingStore;\n",
       "\n",
       "    var rubberband = $('<canvas/>');\n",
       "    rubberband.attr('style', \"position: absolute; left: 0; top: 0; z-index: 1;\")\n",
       "\n",
       "    var pass_mouse_events = true;\n",
       "\n",
       "    canvas_div.resizable({\n",
       "        start: function(event, ui) {\n",
       "            pass_mouse_events = false;\n",
       "        },\n",
       "        resize: function(event, ui) {\n",
       "            fig.request_resize(ui.size.width, ui.size.height);\n",
       "        },\n",
       "        stop: function(event, ui) {\n",
       "            pass_mouse_events = true;\n",
       "            fig.request_resize(ui.size.width, ui.size.height);\n",
       "        },\n",
       "    });\n",
       "\n",
       "    function mouse_event_fn(event) {\n",
       "        if (pass_mouse_events)\n",
       "            return fig.mouse_event(event, event['data']);\n",
       "    }\n",
       "\n",
       "    rubberband.mousedown('button_press', mouse_event_fn);\n",
       "    rubberband.mouseup('button_release', mouse_event_fn);\n",
       "    // Throttle sequential mouse events to 1 every 20ms.\n",
       "    rubberband.mousemove('motion_notify', mouse_event_fn);\n",
       "\n",
       "    rubberband.mouseenter('figure_enter', mouse_event_fn);\n",
       "    rubberband.mouseleave('figure_leave', mouse_event_fn);\n",
       "\n",
       "    canvas_div.on(\"wheel\", function (event) {\n",
       "        event = event.originalEvent;\n",
       "        event['data'] = 'scroll'\n",
       "        if (event.deltaY < 0) {\n",
       "            event.step = 1;\n",
       "        } else {\n",
       "            event.step = -1;\n",
       "        }\n",
       "        mouse_event_fn(event);\n",
       "    });\n",
       "\n",
       "    canvas_div.append(canvas);\n",
       "    canvas_div.append(rubberband);\n",
       "\n",
       "    this.rubberband = rubberband;\n",
       "    this.rubberband_canvas = rubberband[0];\n",
       "    this.rubberband_context = rubberband[0].getContext(\"2d\");\n",
       "    this.rubberband_context.strokeStyle = \"#000000\";\n",
       "\n",
       "    this._resize_canvas = function(width, height) {\n",
       "        // Keep the size of the canvas, canvas container, and rubber band\n",
       "        // canvas in synch.\n",
       "        canvas_div.css('width', width)\n",
       "        canvas_div.css('height', height)\n",
       "\n",
       "        canvas.attr('width', width * mpl.ratio);\n",
       "        canvas.attr('height', height * mpl.ratio);\n",
       "        canvas.attr('style', 'width: ' + width + 'px; height: ' + height + 'px;');\n",
       "\n",
       "        rubberband.attr('width', width);\n",
       "        rubberband.attr('height', height);\n",
       "    }\n",
       "\n",
       "    // Set the figure to an initial 600x600px, this will subsequently be updated\n",
       "    // upon first draw.\n",
       "    this._resize_canvas(600, 600);\n",
       "\n",
       "    // Disable right mouse context menu.\n",
       "    $(this.rubberband_canvas).bind(\"contextmenu\",function(e){\n",
       "        return false;\n",
       "    });\n",
       "\n",
       "    function set_focus () {\n",
       "        canvas.focus();\n",
       "        canvas_div.focus();\n",
       "    }\n",
       "\n",
       "    window.setTimeout(set_focus, 100);\n",
       "}\n",
       "\n",
       "mpl.figure.prototype._init_toolbar = function() {\n",
       "    var fig = this;\n",
       "\n",
       "    var nav_element = $('<div/>');\n",
       "    nav_element.attr('style', 'width: 100%');\n",
       "    this.root.append(nav_element);\n",
       "\n",
       "    // Define a callback function for later on.\n",
       "    function toolbar_event(event) {\n",
       "        return fig.toolbar_button_onclick(event['data']);\n",
       "    }\n",
       "    function toolbar_mouse_event(event) {\n",
       "        return fig.toolbar_button_onmouseover(event['data']);\n",
       "    }\n",
       "\n",
       "    for(var toolbar_ind in mpl.toolbar_items) {\n",
       "        var name = mpl.toolbar_items[toolbar_ind][0];\n",
       "        var tooltip = mpl.toolbar_items[toolbar_ind][1];\n",
       "        var image = mpl.toolbar_items[toolbar_ind][2];\n",
       "        var method_name = mpl.toolbar_items[toolbar_ind][3];\n",
       "\n",
       "        if (!name) {\n",
       "            // put a spacer in here.\n",
       "            continue;\n",
       "        }\n",
       "        var button = $('<button/>');\n",
       "        button.addClass('ui-button ui-widget ui-state-default ui-corner-all ' +\n",
       "                        'ui-button-icon-only');\n",
       "        button.attr('role', 'button');\n",
       "        button.attr('aria-disabled', 'false');\n",
       "        button.click(method_name, toolbar_event);\n",
       "        button.mouseover(tooltip, toolbar_mouse_event);\n",
       "\n",
       "        var icon_img = $('<span/>');\n",
       "        icon_img.addClass('ui-button-icon-primary ui-icon');\n",
       "        icon_img.addClass(image);\n",
       "        icon_img.addClass('ui-corner-all');\n",
       "\n",
       "        var tooltip_span = $('<span/>');\n",
       "        tooltip_span.addClass('ui-button-text');\n",
       "        tooltip_span.html(tooltip);\n",
       "\n",
       "        button.append(icon_img);\n",
       "        button.append(tooltip_span);\n",
       "\n",
       "        nav_element.append(button);\n",
       "    }\n",
       "\n",
       "    var fmt_picker_span = $('<span/>');\n",
       "\n",
       "    var fmt_picker = $('<select/>');\n",
       "    fmt_picker.addClass('mpl-toolbar-option ui-widget ui-widget-content');\n",
       "    fmt_picker_span.append(fmt_picker);\n",
       "    nav_element.append(fmt_picker_span);\n",
       "    this.format_dropdown = fmt_picker[0];\n",
       "\n",
       "    for (var ind in mpl.extensions) {\n",
       "        var fmt = mpl.extensions[ind];\n",
       "        var option = $(\n",
       "            '<option/>', {selected: fmt === mpl.default_extension}).html(fmt);\n",
       "        fmt_picker.append(option);\n",
       "    }\n",
       "\n",
       "    // Add hover states to the ui-buttons\n",
       "    $( \".ui-button\" ).hover(\n",
       "        function() { $(this).addClass(\"ui-state-hover\");},\n",
       "        function() { $(this).removeClass(\"ui-state-hover\");}\n",
       "    );\n",
       "\n",
       "    var status_bar = $('<span class=\"mpl-message\"/>');\n",
       "    nav_element.append(status_bar);\n",
       "    this.message = status_bar[0];\n",
       "}\n",
       "\n",
       "mpl.figure.prototype.request_resize = function(x_pixels, y_pixels) {\n",
       "    // Request matplotlib to resize the figure. Matplotlib will then trigger a resize in the client,\n",
       "    // which will in turn request a refresh of the image.\n",
       "    this.send_message('resize', {'width': x_pixels, 'height': y_pixels});\n",
       "}\n",
       "\n",
       "mpl.figure.prototype.send_message = function(type, properties) {\n",
       "    properties['type'] = type;\n",
       "    properties['figure_id'] = this.id;\n",
       "    this.ws.send(JSON.stringify(properties));\n",
       "}\n",
       "\n",
       "mpl.figure.prototype.send_draw_message = function() {\n",
       "    if (!this.waiting) {\n",
       "        this.waiting = true;\n",
       "        this.ws.send(JSON.stringify({type: \"draw\", figure_id: this.id}));\n",
       "    }\n",
       "}\n",
       "\n",
       "\n",
       "mpl.figure.prototype.handle_save = function(fig, msg) {\n",
       "    var format_dropdown = fig.format_dropdown;\n",
       "    var format = format_dropdown.options[format_dropdown.selectedIndex].value;\n",
       "    fig.ondownload(fig, format);\n",
       "}\n",
       "\n",
       "\n",
       "mpl.figure.prototype.handle_resize = function(fig, msg) {\n",
       "    var size = msg['size'];\n",
       "    if (size[0] != fig.canvas.width || size[1] != fig.canvas.height) {\n",
       "        fig._resize_canvas(size[0], size[1]);\n",
       "        fig.send_message(\"refresh\", {});\n",
       "    };\n",
       "}\n",
       "\n",
       "mpl.figure.prototype.handle_rubberband = function(fig, msg) {\n",
       "    var x0 = msg['x0'] / mpl.ratio;\n",
       "    var y0 = (fig.canvas.height - msg['y0']) / mpl.ratio;\n",
       "    var x1 = msg['x1'] / mpl.ratio;\n",
       "    var y1 = (fig.canvas.height - msg['y1']) / mpl.ratio;\n",
       "    x0 = Math.floor(x0) + 0.5;\n",
       "    y0 = Math.floor(y0) + 0.5;\n",
       "    x1 = Math.floor(x1) + 0.5;\n",
       "    y1 = Math.floor(y1) + 0.5;\n",
       "    var min_x = Math.min(x0, x1);\n",
       "    var min_y = Math.min(y0, y1);\n",
       "    var width = Math.abs(x1 - x0);\n",
       "    var height = Math.abs(y1 - y0);\n",
       "\n",
       "    fig.rubberband_context.clearRect(\n",
       "        0, 0, fig.canvas.width / mpl.ratio, fig.canvas.height / mpl.ratio);\n",
       "\n",
       "    fig.rubberband_context.strokeRect(min_x, min_y, width, height);\n",
       "}\n",
       "\n",
       "mpl.figure.prototype.handle_figure_label = function(fig, msg) {\n",
       "    // Updates the figure title.\n",
       "    fig.header.textContent = msg['label'];\n",
       "}\n",
       "\n",
       "mpl.figure.prototype.handle_cursor = function(fig, msg) {\n",
       "    var cursor = msg['cursor'];\n",
       "    switch(cursor)\n",
       "    {\n",
       "    case 0:\n",
       "        cursor = 'pointer';\n",
       "        break;\n",
       "    case 1:\n",
       "        cursor = 'default';\n",
       "        break;\n",
       "    case 2:\n",
       "        cursor = 'crosshair';\n",
       "        break;\n",
       "    case 3:\n",
       "        cursor = 'move';\n",
       "        break;\n",
       "    }\n",
       "    fig.rubberband_canvas.style.cursor = cursor;\n",
       "}\n",
       "\n",
       "mpl.figure.prototype.handle_message = function(fig, msg) {\n",
       "    fig.message.textContent = msg['message'];\n",
       "}\n",
       "\n",
       "mpl.figure.prototype.handle_draw = function(fig, msg) {\n",
       "    // Request the server to send over a new figure.\n",
       "    fig.send_draw_message();\n",
       "}\n",
       "\n",
       "mpl.figure.prototype.handle_image_mode = function(fig, msg) {\n",
       "    fig.image_mode = msg['mode'];\n",
       "}\n",
       "\n",
       "mpl.figure.prototype.updated_canvas_event = function() {\n",
       "    // Called whenever the canvas gets updated.\n",
       "    this.send_message(\"ack\", {});\n",
       "}\n",
       "\n",
       "// A function to construct a web socket function for onmessage handling.\n",
       "// Called in the figure constructor.\n",
       "mpl.figure.prototype._make_on_message_function = function(fig) {\n",
       "    return function socket_on_message(evt) {\n",
       "        if (evt.data instanceof Blob) {\n",
       "            /* FIXME: We get \"Resource interpreted as Image but\n",
       "             * transferred with MIME type text/plain:\" errors on\n",
       "             * Chrome.  But how to set the MIME type?  It doesn't seem\n",
       "             * to be part of the websocket stream */\n",
       "            evt.data.type = \"image/png\";\n",
       "\n",
       "            /* Free the memory for the previous frames */\n",
       "            if (fig.imageObj.src) {\n",
       "                (window.URL || window.webkitURL).revokeObjectURL(\n",
       "                    fig.imageObj.src);\n",
       "            }\n",
       "\n",
       "            fig.imageObj.src = (window.URL || window.webkitURL).createObjectURL(\n",
       "                evt.data);\n",
       "            fig.updated_canvas_event();\n",
       "            fig.waiting = false;\n",
       "            return;\n",
       "        }\n",
       "        else if (typeof evt.data === 'string' && evt.data.slice(0, 21) == \"data:image/png;base64\") {\n",
       "            fig.imageObj.src = evt.data;\n",
       "            fig.updated_canvas_event();\n",
       "            fig.waiting = false;\n",
       "            return;\n",
       "        }\n",
       "\n",
       "        var msg = JSON.parse(evt.data);\n",
       "        var msg_type = msg['type'];\n",
       "\n",
       "        // Call the  \"handle_{type}\" callback, which takes\n",
       "        // the figure and JSON message as its only arguments.\n",
       "        try {\n",
       "            var callback = fig[\"handle_\" + msg_type];\n",
       "        } catch (e) {\n",
       "            console.log(\"No handler for the '\" + msg_type + \"' message type: \", msg);\n",
       "            return;\n",
       "        }\n",
       "\n",
       "        if (callback) {\n",
       "            try {\n",
       "                // console.log(\"Handling '\" + msg_type + \"' message: \", msg);\n",
       "                callback(fig, msg);\n",
       "            } catch (e) {\n",
       "                console.log(\"Exception inside the 'handler_\" + msg_type + \"' callback:\", e, e.stack, msg);\n",
       "            }\n",
       "        }\n",
       "    };\n",
       "}\n",
       "\n",
       "// from http://stackoverflow.com/questions/1114465/getting-mouse-location-in-canvas\n",
       "mpl.findpos = function(e) {\n",
       "    //this section is from http://www.quirksmode.org/js/events_properties.html\n",
       "    var targ;\n",
       "    if (!e)\n",
       "        e = window.event;\n",
       "    if (e.target)\n",
       "        targ = e.target;\n",
       "    else if (e.srcElement)\n",
       "        targ = e.srcElement;\n",
       "    if (targ.nodeType == 3) // defeat Safari bug\n",
       "        targ = targ.parentNode;\n",
       "\n",
       "    // jQuery normalizes the pageX and pageY\n",
       "    // pageX,Y are the mouse positions relative to the document\n",
       "    // offset() returns the position of the element relative to the document\n",
       "    var x = e.pageX - $(targ).offset().left;\n",
       "    var y = e.pageY - $(targ).offset().top;\n",
       "\n",
       "    return {\"x\": x, \"y\": y};\n",
       "};\n",
       "\n",
       "/*\n",
       " * return a copy of an object with only non-object keys\n",
       " * we need this to avoid circular references\n",
       " * http://stackoverflow.com/a/24161582/3208463\n",
       " */\n",
       "function simpleKeys (original) {\n",
       "  return Object.keys(original).reduce(function (obj, key) {\n",
       "    if (typeof original[key] !== 'object')\n",
       "        obj[key] = original[key]\n",
       "    return obj;\n",
       "  }, {});\n",
       "}\n",
       "\n",
       "mpl.figure.prototype.mouse_event = function(event, name) {\n",
       "    var canvas_pos = mpl.findpos(event)\n",
       "\n",
       "    if (name === 'button_press')\n",
       "    {\n",
       "        this.canvas.focus();\n",
       "        this.canvas_div.focus();\n",
       "    }\n",
       "\n",
       "    var x = canvas_pos.x * mpl.ratio;\n",
       "    var y = canvas_pos.y * mpl.ratio;\n",
       "\n",
       "    this.send_message(name, {x: x, y: y, button: event.button,\n",
       "                             step: event.step,\n",
       "                             guiEvent: simpleKeys(event)});\n",
       "\n",
       "    /* This prevents the web browser from automatically changing to\n",
       "     * the text insertion cursor when the button is pressed.  We want\n",
       "     * to control all of the cursor setting manually through the\n",
       "     * 'cursor' event from matplotlib */\n",
       "    event.preventDefault();\n",
       "    return false;\n",
       "}\n",
       "\n",
       "mpl.figure.prototype._key_event_extra = function(event, name) {\n",
       "    // Handle any extra behaviour associated with a key event\n",
       "}\n",
       "\n",
       "mpl.figure.prototype.key_event = function(event, name) {\n",
       "\n",
       "    // Prevent repeat events\n",
       "    if (name == 'key_press')\n",
       "    {\n",
       "        if (event.which === this._key)\n",
       "            return;\n",
       "        else\n",
       "            this._key = event.which;\n",
       "    }\n",
       "    if (name == 'key_release')\n",
       "        this._key = null;\n",
       "\n",
       "    var value = '';\n",
       "    if (event.ctrlKey && event.which != 17)\n",
       "        value += \"ctrl+\";\n",
       "    if (event.altKey && event.which != 18)\n",
       "        value += \"alt+\";\n",
       "    if (event.shiftKey && event.which != 16)\n",
       "        value += \"shift+\";\n",
       "\n",
       "    value += 'k';\n",
       "    value += event.which.toString();\n",
       "\n",
       "    this._key_event_extra(event, name);\n",
       "\n",
       "    this.send_message(name, {key: value,\n",
       "                             guiEvent: simpleKeys(event)});\n",
       "    return false;\n",
       "}\n",
       "\n",
       "mpl.figure.prototype.toolbar_button_onclick = function(name) {\n",
       "    if (name == 'download') {\n",
       "        this.handle_save(this, null);\n",
       "    } else {\n",
       "        this.send_message(\"toolbar_button\", {name: name});\n",
       "    }\n",
       "};\n",
       "\n",
       "mpl.figure.prototype.toolbar_button_onmouseover = function(tooltip) {\n",
       "    this.message.textContent = tooltip;\n",
       "};\n",
       "mpl.toolbar_items = [[\"Home\", \"Reset original view\", \"fa fa-home icon-home\", \"home\"], [\"Back\", \"Back to previous view\", \"fa fa-arrow-left icon-arrow-left\", \"back\"], [\"Forward\", \"Forward to next view\", \"fa fa-arrow-right icon-arrow-right\", \"forward\"], [\"\", \"\", \"\", \"\"], [\"Pan\", \"Pan axes with left mouse, zoom with right\", \"fa fa-arrows icon-move\", \"pan\"], [\"Zoom\", \"Zoom to rectangle\", \"fa fa-square-o icon-check-empty\", \"zoom\"], [\"\", \"\", \"\", \"\"], [\"Download\", \"Download plot\", \"fa fa-floppy-o icon-save\", \"download\"]];\n",
       "\n",
       "mpl.extensions = [\"eps\", \"jpeg\", \"pdf\", \"png\", \"ps\", \"raw\", \"svg\", \"tif\"];\n",
       "\n",
       "mpl.default_extension = \"png\";var comm_websocket_adapter = function(comm) {\n",
       "    // Create a \"websocket\"-like object which calls the given IPython comm\n",
       "    // object with the appropriate methods. Currently this is a non binary\n",
       "    // socket, so there is still some room for performance tuning.\n",
       "    var ws = {};\n",
       "\n",
       "    ws.close = function() {\n",
       "        comm.close()\n",
       "    };\n",
       "    ws.send = function(m) {\n",
       "        //console.log('sending', m);\n",
       "        comm.send(m);\n",
       "    };\n",
       "    // Register the callback with on_msg.\n",
       "    comm.on_msg(function(msg) {\n",
       "        //console.log('receiving', msg['content']['data'], msg);\n",
       "        // Pass the mpl event to the overridden (by mpl) onmessage function.\n",
       "        ws.onmessage(msg['content']['data'])\n",
       "    });\n",
       "    return ws;\n",
       "}\n",
       "\n",
       "mpl.mpl_figure_comm = function(comm, msg) {\n",
       "    // This is the function which gets called when the mpl process\n",
       "    // starts-up an IPython Comm through the \"matplotlib\" channel.\n",
       "\n",
       "    var id = msg.content.data.id;\n",
       "    // Get hold of the div created by the display call when the Comm\n",
       "    // socket was opened in Python.\n",
       "    var element = $(\"#\" + id);\n",
       "    var ws_proxy = comm_websocket_adapter(comm)\n",
       "\n",
       "    function ondownload(figure, format) {\n",
       "        window.open(figure.imageObj.src);\n",
       "    }\n",
       "\n",
       "    var fig = new mpl.figure(id, ws_proxy,\n",
       "                           ondownload,\n",
       "                           element.get(0));\n",
       "\n",
       "    // Call onopen now - mpl needs it, as it is assuming we've passed it a real\n",
       "    // web socket which is closed, not our websocket->open comm proxy.\n",
       "    ws_proxy.onopen();\n",
       "\n",
       "    fig.parent_element = element.get(0);\n",
       "    fig.cell_info = mpl.find_output_cell(\"<div id='\" + id + \"'></div>\");\n",
       "    if (!fig.cell_info) {\n",
       "        console.error(\"Failed to find cell for figure\", id, fig);\n",
       "        return;\n",
       "    }\n",
       "\n",
       "    var output_index = fig.cell_info[2]\n",
       "    var cell = fig.cell_info[0];\n",
       "\n",
       "};\n",
       "\n",
       "mpl.figure.prototype.handle_close = function(fig, msg) {\n",
       "    var width = fig.canvas.width/mpl.ratio\n",
       "    fig.root.unbind('remove')\n",
       "\n",
       "    // Update the output cell to use the data from the current canvas.\n",
       "    fig.push_to_output();\n",
       "    var dataURL = fig.canvas.toDataURL();\n",
       "    // Re-enable the keyboard manager in IPython - without this line, in FF,\n",
       "    // the notebook keyboard shortcuts fail.\n",
       "    IPython.keyboard_manager.enable()\n",
       "    $(fig.parent_element).html('<img src=\"' + dataURL + '\" width=\"' + width + '\">');\n",
       "    fig.close_ws(fig, msg);\n",
       "}\n",
       "\n",
       "mpl.figure.prototype.close_ws = function(fig, msg){\n",
       "    fig.send_message('closing', msg);\n",
       "    // fig.ws.close()\n",
       "}\n",
       "\n",
       "mpl.figure.prototype.push_to_output = function(remove_interactive) {\n",
       "    // Turn the data on the canvas into data in the output cell.\n",
       "    var width = this.canvas.width/mpl.ratio\n",
       "    var dataURL = this.canvas.toDataURL();\n",
       "    this.cell_info[1]['text/html'] = '<img src=\"' + dataURL + '\" width=\"' + width + '\">';\n",
       "}\n",
       "\n",
       "mpl.figure.prototype.updated_canvas_event = function() {\n",
       "    // Tell IPython that the notebook contents must change.\n",
       "    IPython.notebook.set_dirty(true);\n",
       "    this.send_message(\"ack\", {});\n",
       "    var fig = this;\n",
       "    // Wait a second, then push the new image to the DOM so\n",
       "    // that it is saved nicely (might be nice to debounce this).\n",
       "    setTimeout(function () { fig.push_to_output() }, 1000);\n",
       "}\n",
       "\n",
       "mpl.figure.prototype._init_toolbar = function() {\n",
       "    var fig = this;\n",
       "\n",
       "    var nav_element = $('<div/>');\n",
       "    nav_element.attr('style', 'width: 100%');\n",
       "    this.root.append(nav_element);\n",
       "\n",
       "    // Define a callback function for later on.\n",
       "    function toolbar_event(event) {\n",
       "        return fig.toolbar_button_onclick(event['data']);\n",
       "    }\n",
       "    function toolbar_mouse_event(event) {\n",
       "        return fig.toolbar_button_onmouseover(event['data']);\n",
       "    }\n",
       "\n",
       "    for(var toolbar_ind in mpl.toolbar_items){\n",
       "        var name = mpl.toolbar_items[toolbar_ind][0];\n",
       "        var tooltip = mpl.toolbar_items[toolbar_ind][1];\n",
       "        var image = mpl.toolbar_items[toolbar_ind][2];\n",
       "        var method_name = mpl.toolbar_items[toolbar_ind][3];\n",
       "\n",
       "        if (!name) { continue; };\n",
       "\n",
       "        var button = $('<button class=\"btn btn-default\" href=\"#\" title=\"' + name + '\"><i class=\"fa ' + image + ' fa-lg\"></i></button>');\n",
       "        button.click(method_name, toolbar_event);\n",
       "        button.mouseover(tooltip, toolbar_mouse_event);\n",
       "        nav_element.append(button);\n",
       "    }\n",
       "\n",
       "    // Add the status bar.\n",
       "    var status_bar = $('<span class=\"mpl-message\" style=\"text-align:right; float: right;\"/>');\n",
       "    nav_element.append(status_bar);\n",
       "    this.message = status_bar[0];\n",
       "\n",
       "    // Add the close button to the window.\n",
       "    var buttongrp = $('<div class=\"btn-group inline pull-right\"></div>');\n",
       "    var button = $('<button class=\"btn btn-mini btn-primary\" href=\"#\" title=\"Stop Interaction\"><i class=\"fa fa-power-off icon-remove icon-large\"></i></button>');\n",
       "    button.click(function (evt) { fig.handle_close(fig, {}); } );\n",
       "    button.mouseover('Stop Interaction', toolbar_mouse_event);\n",
       "    buttongrp.append(button);\n",
       "    var titlebar = this.root.find($('.ui-dialog-titlebar'));\n",
       "    titlebar.prepend(buttongrp);\n",
       "}\n",
       "\n",
       "mpl.figure.prototype._root_extra_style = function(el){\n",
       "    var fig = this\n",
       "    el.on(\"remove\", function(){\n",
       "\tfig.close_ws(fig, {});\n",
       "    });\n",
       "}\n",
       "\n",
       "mpl.figure.prototype._canvas_extra_style = function(el){\n",
       "    // this is important to make the div 'focusable\n",
       "    el.attr('tabindex', 0)\n",
       "    // reach out to IPython and tell the keyboard manager to turn it's self\n",
       "    // off when our div gets focus\n",
       "\n",
       "    // location in version 3\n",
       "    if (IPython.notebook.keyboard_manager) {\n",
       "        IPython.notebook.keyboard_manager.register_events(el);\n",
       "    }\n",
       "    else {\n",
       "        // location in version 2\n",
       "        IPython.keyboard_manager.register_events(el);\n",
       "    }\n",
       "\n",
       "}\n",
       "\n",
       "mpl.figure.prototype._key_event_extra = function(event, name) {\n",
       "    var manager = IPython.notebook.keyboard_manager;\n",
       "    if (!manager)\n",
       "        manager = IPython.keyboard_manager;\n",
       "\n",
       "    // Check for shift+enter\n",
       "    if (event.shiftKey && event.which == 13) {\n",
       "        this.canvas_div.blur();\n",
       "        // select the cell after this one\n",
       "        var index = IPython.notebook.find_cell_index(this.cell_info[0]);\n",
       "        IPython.notebook.select(index + 1);\n",
       "    }\n",
       "}\n",
       "\n",
       "mpl.figure.prototype.handle_save = function(fig, msg) {\n",
       "    fig.ondownload(fig, null);\n",
       "}\n",
       "\n",
       "\n",
       "mpl.find_output_cell = function(html_output) {\n",
       "    // Return the cell and output element which can be found *uniquely* in the notebook.\n",
       "    // Note - this is a bit hacky, but it is done because the \"notebook_saving.Notebook\"\n",
       "    // IPython event is triggered only after the cells have been serialised, which for\n",
       "    // our purposes (turning an active figure into a static one), is too late.\n",
       "    var cells = IPython.notebook.get_cells();\n",
       "    var ncells = cells.length;\n",
       "    for (var i=0; i<ncells; i++) {\n",
       "        var cell = cells[i];\n",
       "        if (cell.cell_type === 'code'){\n",
       "            for (var j=0; j<cell.output_area.outputs.length; j++) {\n",
       "                var data = cell.output_area.outputs[j];\n",
       "                if (data.data) {\n",
       "                    // IPython >= 3 moved mimebundle to data attribute of output\n",
       "                    data = data.data;\n",
       "                }\n",
       "                if (data['text/html'] == html_output) {\n",
       "                    return [cell, data, j];\n",
       "                }\n",
       "            }\n",
       "        }\n",
       "    }\n",
       "}\n",
       "\n",
       "// Register the function which deals with the matplotlib target/channel.\n",
       "// The kernel may be null if the page has been refreshed.\n",
       "if (IPython.notebook.kernel != null) {\n",
       "    IPython.notebook.kernel.comm_manager.register_target('matplotlib', mpl.mpl_figure_comm);\n",
       "}\n"
      ],
      "text/plain": [
       "<IPython.core.display.Javascript object>"
      ]
     },
     "metadata": {},
     "output_type": "display_data"
    },
    {
     "data": {
      "text/html": [
       "<img src=\"data:image/png;base64,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\" width=\"1000\">"
      ],
      "text/plain": [
       "<IPython.core.display.HTML object>"
      ]
     },
     "metadata": {},
     "output_type": "display_data"
    },
    {
     "name": "stderr",
     "output_type": "stream",
     "text": [
      "No handles with labels found to put in legend.\n"
     ]
    },
    {
     "data": {
      "text/plain": [
       "<matplotlib.legend.Legend at 0x22a96fa1048>"
      ]
     },
     "execution_count": 30,
     "metadata": {},
     "output_type": "execute_result"
    }
   ],
   "source": [
    "_, (ax1) = plt.subplots(1, 1, figsize=(10,5))\n",
    "beta = np.linspace(0, 90 * np.pi/180, 100)\n",
    "theta = get_theta(beta) \n",
    "ax1.plot(beta * 180/np.pi, theta * 180/ np.pi, color='blue', lw=2)\n",
    "ax1.set_xlabel(r'$\\beta$'); ax1.set_ylabel(r'$\\theta$')\n",
    "ax1.legend()"
   ]
  },
  {
   "cell_type": "code",
   "execution_count": 32,
   "metadata": {},
   "outputs": [
    {
     "data": {
      "text/plain": [
       "array([ -90.        ,  -90.45457406,  -90.90931983,  -91.36440922,\n",
       "        -91.82001457,  -92.2763089 ,  -92.73346607,  -93.19166104,\n",
       "        -93.65107008,  -94.111871  ,  -94.57424338,  -95.03836877,\n",
       "        -95.50443099,  -95.97261631,  -96.44311371,  -96.91611514,\n",
       "        -97.39181576,  -97.87041424,  -98.35211296,  -98.83711834,\n",
       "        -99.32564109,  -99.81789652, -100.31410482, -100.81449137,\n",
       "       -101.31928706, -101.82872862, -102.34305891, -102.86252733,\n",
       "       -103.38739009, -103.91791066, -104.45436008, -104.99701736,\n",
       "       -105.54616987, -106.10211375, -106.66515433, -107.23560652,\n",
       "       -107.81379528, -108.40005601, -108.99473504, -109.59819005,\n",
       "       -110.21079056, -110.83291831, -111.46496781, -112.1073467 ,\n",
       "       -112.76047627, -113.42479185, -114.1007432 , -114.78879497,\n",
       "       -115.48942702, -116.20313478, -116.93042947, -117.67183844,\n",
       "       -118.42790524, -119.19918976, -119.98626822, -120.78973303,\n",
       "       -121.6101926 , -122.44827093, -123.30460703, -124.17985422,\n",
       "       -125.07467912, -125.98976042, -126.92578741, -127.88345809,\n",
       "       -128.86347703, -129.86655274, -130.89339465, -131.94470961,\n",
       "       -133.02119783, -134.12354828, -135.25243347, -136.40850358,\n",
       "       -137.59237995, -138.80464781, -140.04584836, -141.31647011,\n",
       "       -142.61693958, -143.94761127, -145.30875712, -146.70055549,\n",
       "       -148.12307977, -149.57628674, -151.06000505, -152.57392386,\n",
       "       -154.117582  , -155.69035803, -157.29146136, -158.91992494,\n",
       "       -160.57459986, -162.25415212, -163.95706202, -165.68162637,\n",
       "       -167.42596386, -169.18802362, -170.96559715, -172.75633349,\n",
       "       -174.55775747, -176.36729082, -178.18227568, -180.        ])"
      ]
     },
     "execution_count": 32,
     "metadata": {},
     "output_type": "execute_result"
    }
   ],
   "source": [
    "theta * 180/np.pi"
   ]
  },
  {
   "cell_type": "code",
   "execution_count": 33,
   "metadata": {},
   "outputs": [
    {
     "data": {
      "text/plain": [
       "array([ 0.        ,  0.90909091,  1.81818182,  2.72727273,  3.63636364,\n",
       "        4.54545455,  5.45454545,  6.36363636,  7.27272727,  8.18181818,\n",
       "        9.09090909, 10.        , 10.90909091, 11.81818182, 12.72727273,\n",
       "       13.63636364, 14.54545455, 15.45454545, 16.36363636, 17.27272727,\n",
       "       18.18181818, 19.09090909, 20.        , 20.90909091, 21.81818182,\n",
       "       22.72727273, 23.63636364, 24.54545455, 25.45454545, 26.36363636,\n",
       "       27.27272727, 28.18181818, 29.09090909, 30.        , 30.90909091,\n",
       "       31.81818182, 32.72727273, 33.63636364, 34.54545455, 35.45454545,\n",
       "       36.36363636, 37.27272727, 38.18181818, 39.09090909, 40.        ,\n",
       "       40.90909091, 41.81818182, 42.72727273, 43.63636364, 44.54545455,\n",
       "       45.45454545, 46.36363636, 47.27272727, 48.18181818, 49.09090909,\n",
       "       50.        , 50.90909091, 51.81818182, 52.72727273, 53.63636364,\n",
       "       54.54545455, 55.45454545, 56.36363636, 57.27272727, 58.18181818,\n",
       "       59.09090909, 60.        , 60.90909091, 61.81818182, 62.72727273,\n",
       "       63.63636364, 64.54545455, 65.45454545, 66.36363636, 67.27272727,\n",
       "       68.18181818, 69.09090909, 70.        , 70.90909091, 71.81818182,\n",
       "       72.72727273, 73.63636364, 74.54545455, 75.45454545, 76.36363636,\n",
       "       77.27272727, 78.18181818, 79.09090909, 80.        , 80.90909091,\n",
       "       81.81818182, 82.72727273, 83.63636364, 84.54545455, 85.45454545,\n",
       "       86.36363636, 87.27272727, 88.18181818, 89.09090909, 90.        ])"
      ]
     },
     "execution_count": 33,
     "metadata": {},
     "output_type": "execute_result"
    }
   ],
   "source": [
    "beta * 180/np.pi"
   ]
  },
  {
   "cell_type": "code",
   "execution_count": null,
   "metadata": {},
   "outputs": [],
   "source": []
  }
 ],
 "metadata": {
  "kernelspec": {
   "display_name": "Python 3",
   "language": "python",
   "name": "python3"
  },
  "language_info": {
   "codemirror_mode": {
    "name": "ipython",
    "version": 3
   },
   "file_extension": ".py",
   "mimetype": "text/x-python",
   "name": "python",
   "nbconvert_exporter": "python",
   "pygments_lexer": "ipython3",
   "version": "3.7.6"
  },
  "toc": {
   "base_numbering": 1,
   "nav_menu": {},
   "number_sections": true,
   "sideBar": true,
   "skip_h1_title": false,
   "title_cell": "Table of Contents",
   "title_sidebar": "Contents",
   "toc_cell": false,
   "toc_position": {
    "height": "calc(100% - 180px)",
    "left": "10px",
    "top": "150px",
    "width": "165px"
   },
   "toc_section_display": true,
   "toc_window_display": true
  }
 },
 "nbformat": 4,
 "nbformat_minor": 2
}
