{
 "cells": [
  {
   "cell_type": "markdown",
   "metadata": {},
   "source": [
    "# Maximum Tangential Stress Theory"
   ]
  },
  {
   "cell_type": "markdown",
   "metadata": {},
   "source": [
    "\\begin{align*} \n",
    "\\sigma_{\\theta\\theta} \n",
    "& = \\frac{1}{\\sqrt{2 \\pi r}}\\left( K_I \\left( \\cos^3 \\frac{\\theta}{2} \\right) - K_{II}\\left(3 \\sin \\frac{\\theta}{2} \\cos^2 \\frac{\\theta}{2} \\right) \\right) + T \\sin^2 \\theta + O(r^\\frac{1}{2}) + \\ldots \\label{eq:sigtt} \\tag{1}\n",
    "\\end{align*}\n",
    "\\begin{align*}\n",
    "\\frac{\\partial \\sigma_{\\theta\\theta}}{\\partial \\theta}=0 \\label{eq:Con2} \\tag{2}\n",
    "\\end{align*}"
   ]
  },
  {
   "cell_type": "markdown",
   "metadata": {},
   "source": [
    "The maximum tangential theory states that crack propagates in the direction of maximum tangent stress which is calculated as shown in \\ref{eq:sigtt} whereas the direction of initiation can be found from the condition depicted in equation \\ref{eq:Con2}. However, the latter one yields following result:\n",
    "\n",
    "\\begin{equation*}\n",
    "[K_I \\sin \\theta + K_{II}(3 \\cos \\theta -1)]-\\gamma \\sin \\frac{\\theta}{2} \\cos \\theta = 0\n",
    "\\label{eq:conditionresult} \\tag{3}\n",
    "\\end{equation*}\n",
    "\n",
    "where,\n",
    "\n",
    "\\begin{equation*}\n",
    "\\gamma = \\frac{16 \\left(T \\sqrt{2 \\pi r_c}\\right)}{3}\n",
    "\\label{eq:thetao} \\tag{4}\n",
    "\\end{equation*}\n",
    "\n",
    "If critical radius ($r_c$) from the tip of the crack is represented in the dimensionless form $\\alpha$ as:\n",
    "\n",
    "\\begin{equation*}\n",
    "\\alpha =  \\sqrt{\\frac{2  r_c}{a}}\n",
    "\\label{eq:alpha} \\tag{5}\n",
    "\\end{equation*}\n",
    "\n",
    "then $\\gamma$ can be written in terms of B as:\n",
    "\n",
    "\\begin{equation*}\n",
    "\\gamma=   \\frac{16 (B \\alpha K_{eff})}{3}\n",
    "\\label{eq:gamma} \\tag{6}\n",
    "\\end{equation*}\n",
    "\n",
    "$K_{eff}$ is given as:\n",
    "\\begin{equation*}\n",
    "K_{eff} = \\sqrt{K_I^2 + K_{II}^2}\n",
    "\\label{eq:Keff} \\tag{7}\n",
    "\\end{equation*}"
   ]
  },
  {
   "cell_type": "markdown",
   "metadata": {},
   "source": [
    "The term $B$ in equation 6 denotes the biaxiality ratio which normalizes the effect of T stress in relation to the stress intensity factors and is given as follows for mixed mode case:\n",
    "\\begin{equation*}\n",
    "B = \\frac{T \\sqrt{ \\pi a}}{K_{eff}}\n",
    "\\label{eq:B} \\tag{8}\n",
    "\\end{equation*}\n",
    "\n",
    "Here, $a$ represents the crack length. The crack initiation angle is denoted by $\\theta$ and $K_I$ and $K_{II}$ denotes the mode I and mode II stress intensity factors."
   ]
  },
  {
   "cell_type": "code",
   "execution_count": null,
   "metadata": {},
   "outputs": [],
   "source": [
    "K_I = sp.Symbol"
   ]
  }
 ],
 "metadata": {
  "kernelspec": {
   "display_name": "Python 3",
   "language": "python",
   "name": "python3"
  },
  "language_info": {
   "codemirror_mode": {
    "name": "ipython",
    "version": 3
   },
   "file_extension": ".py",
   "mimetype": "text/x-python",
   "name": "python",
   "nbconvert_exporter": "python",
   "pygments_lexer": "ipython3",
   "version": "3.7.6"
  }
 },
 "nbformat": 4,
 "nbformat_minor": 4
}
