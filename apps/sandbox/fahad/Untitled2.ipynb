{
 "cells": [
  {
   "cell_type": "code",
   "execution_count": 1,
   "metadata": {},
   "outputs": [],
   "source": [
    "import sympy as sp\n",
    "import numpy as np"
   ]
  },
  {
   "cell_type": "code",
   "execution_count": null,
   "metadata": {},
   "outputs": [],
   "source": [
    "r = sp.Symbol('r', nonnegative = True)\n",
    "theta = sp.Symbol(r'\\theta', nonnegative = True)\n",
    "K_I = sp.Symbol('K_I', nonnegative = True)\n",
    "K_II = sp.Symbol('K_{II}', nonnegative = True)\n",
    "T = sp.Symbol('T', nonnegative = True)\n",
    "theta"
   ]
  },
  {
   "cell_type": "code",
   "execution_count": 14,
   "metadata": {},
   "outputs": [],
   "source": [
    "s_t, c_t = sp.symbols('s_t,c_t')"
   ]
  },
  {
   "cell_type": "markdown",
   "metadata": {},
   "source": []
  },
  {
   "cell_type": "code",
   "execution_count": 15,
   "metadata": {},
   "outputs": [
    {
     "data": {
      "text/latex": [
       "$\\displaystyle \\frac{\\sqrt{2} \\left(K_{I} c_{t} \\left(s_{t}^{2} + 1\\right) + K_{II} s_{t} \\left(1 - 3 s_{t}^{2}\\right)\\right)}{2 \\sqrt{\\pi} \\sqrt{r}}$"
      ],
      "text/plain": [
       "sqrt(2)*(K_I*c_t*(s_t**2 + 1) + K_{II}*s_t*(1 - 3*s_t**2))/(2*sqrt(pi)*sqrt(r))"
      ]
     },
     "execution_count": 15,
     "metadata": {},
     "output_type": "execute_result"
    }
   ],
   "source": [
    "sigma_rr = 1/sp.sqrt(2 * sp.pi *r) * (K_I*c_t*(1 + (s_t)**2) \\\n",
    "                                      + (K_II*s_t)*(1 - 3*(s_t)**2)) #+ T*(sp.cos(theta))**2\n",
    "sigma_rr"
   ]
  },
  {
   "cell_type": "code",
   "execution_count": 16,
   "metadata": {},
   "outputs": [
    {
     "data": {
      "text/latex": [
       "$\\displaystyle \\frac{\\sqrt{2} \\left(K_{I} c_{t}^{3} - 3 K_{II} c_{t}^{2} s_{t}\\right)}{2 \\sqrt{\\pi} \\sqrt{r}}$"
      ],
      "text/plain": [
       "sqrt(2)*(K_I*c_t**3 - 3*K_{II}*c_t**2*s_t)/(2*sqrt(pi)*sqrt(r))"
      ]
     },
     "execution_count": 16,
     "metadata": {},
     "output_type": "execute_result"
    }
   ],
   "source": [
    "sigma_tt = 1/sp.sqrt(2 * sp.pi *r) * (K_I*(c_t)**3 \\\n",
    "                                      - (K_II*(3*s_t*(c_t)**2))) #+ T*sp.sin(theta)**2\n",
    "sigma_tt"
   ]
  },
  {
   "cell_type": "code",
   "execution_count": 5,
   "metadata": {},
   "outputs": [
    {
     "data": {
      "text/latex": [
       "$\\displaystyle \\frac{\\sqrt{2} \\left(3 K_{I} \\sin{\\left(\\frac{\\theta}{2} \\right)} \\cos^{2}{\\left(\\frac{\\theta}{2} \\right)} + K_{II} \\left(1 - 3 \\sin^{2}{\\left(\\frac{\\theta}{2} \\right)}\\right) \\cos{\\left(\\frac{\\theta}{2} \\right)}\\right)}{2 \\sqrt{\\pi} \\sqrt{r}}$"
      ],
      "text/plain": [
       "sqrt(2)*(3*K_I*sin(\\theta/2)*cos(\\theta/2)**2 + K_{II}*(1 - 3*sin(\\theta/2)**2)*cos(\\theta/2))/(2*sqrt(pi)*sqrt(r))"
      ]
     },
     "execution_count": 5,
     "metadata": {},
     "output_type": "execute_result"
    }
   ],
   "source": [
    "sigma_rt = 1/sp.sqrt(2 * sp.pi *r) * ((K_I*(3*s_t(**2)) \\\n",
    "                                      + ((K_II*sp.cos(theta/2))*(1 - 3*(sp.sin(theta/2))**2))) # T*sp.sin(theta)*sp.cos(theta)\n",
    "sigma_rt"
   ]
  },
  {
   "cell_type": "code",
   "execution_count": 6,
   "metadata": {},
   "outputs": [
    {
     "data": {
      "text/latex": [
       "$\\displaystyle \\left[\\begin{matrix}\\frac{\\sqrt{2} \\left(K_{I} \\left(\\sin^{2}{\\left(\\frac{\\theta}{2} \\right)} + 1\\right) \\cos{\\left(\\frac{\\theta}{2} \\right)} + K_{II} \\left(1 - 3 \\sin^{2}{\\left(\\frac{\\theta}{2} \\right)}\\right) \\sin{\\left(\\frac{\\theta}{2} \\right)}\\right)}{2 \\sqrt{\\pi} \\sqrt{r}} & \\frac{\\sqrt{2} \\left(3 K_{I} \\sin{\\left(\\frac{\\theta}{2} \\right)} \\cos^{2}{\\left(\\frac{\\theta}{2} \\right)} + K_{II} \\left(1 - 3 \\sin^{2}{\\left(\\frac{\\theta}{2} \\right)}\\right) \\cos{\\left(\\frac{\\theta}{2} \\right)}\\right)}{2 \\sqrt{\\pi} \\sqrt{r}}\\\\\\frac{\\sqrt{2} \\left(3 K_{I} \\sin{\\left(\\frac{\\theta}{2} \\right)} \\cos^{2}{\\left(\\frac{\\theta}{2} \\right)} + K_{II} \\left(1 - 3 \\sin^{2}{\\left(\\frac{\\theta}{2} \\right)}\\right) \\cos{\\left(\\frac{\\theta}{2} \\right)}\\right)}{2 \\sqrt{\\pi} \\sqrt{r}} & \\frac{\\sqrt{2} \\left(K_{I} \\cos^{3}{\\left(\\frac{\\theta}{2} \\right)} - 3 K_{II} \\sin{\\left(\\frac{\\theta}{2} \\right)} \\cos^{2}{\\left(\\frac{\\theta}{2} \\right)}\\right)}{2 \\sqrt{\\pi} \\sqrt{r}}\\end{matrix}\\right]$"
      ],
      "text/plain": [
       "Matrix([\n",
       "[sqrt(2)*(K_I*(sin(\\theta/2)**2 + 1)*cos(\\theta/2) + K_{II}*(1 - 3*sin(\\theta/2)**2)*sin(\\theta/2))/(2*sqrt(pi)*sqrt(r)), sqrt(2)*(3*K_I*sin(\\theta/2)*cos(\\theta/2)**2 + K_{II}*(1 - 3*sin(\\theta/2)**2)*cos(\\theta/2))/(2*sqrt(pi)*sqrt(r))],\n",
       "[    sqrt(2)*(3*K_I*sin(\\theta/2)*cos(\\theta/2)**2 + K_{II}*(1 - 3*sin(\\theta/2)**2)*cos(\\theta/2))/(2*sqrt(pi)*sqrt(r)),                       sqrt(2)*(K_I*cos(\\theta/2)**3 - 3*K_{II}*sin(\\theta/2)*cos(\\theta/2)**2)/(2*sqrt(pi)*sqrt(r))]])"
      ]
     },
     "execution_count": 6,
     "metadata": {},
     "output_type": "execute_result"
    }
   ],
   "source": [
    "sigma = sp.Matrix([[sigma_rr, sigma_rt],\n",
    "                     [sigma_rt, sigma_tt]])\n",
    "sigma"
   ]
  },
  {
   "cell_type": "code",
   "execution_count": 7,
   "metadata": {},
   "outputs": [
    {
     "data": {
      "text/latex": [
       "$\\displaystyle \\left[\\begin{matrix}\\frac{\\sqrt{2} \\left(K_{I} \\left(\\sin^{2}{\\left(\\frac{\\theta}{2} \\right)} + 1\\right) \\cos{\\left(\\frac{\\theta}{2} \\right)} + K_{II} \\left(1 - 3 \\sin^{2}{\\left(\\frac{\\theta}{2} \\right)}\\right) \\sin{\\left(\\frac{\\theta}{2} \\right)}\\right)}{2 \\sqrt{\\pi} \\sqrt{r}} & \\frac{\\sqrt{2} \\left(3 K_{I} \\sin{\\left(\\frac{\\theta}{2} \\right)} \\cos^{2}{\\left(\\frac{\\theta}{2} \\right)} + K_{II} \\left(1 - 3 \\sin^{2}{\\left(\\frac{\\theta}{2} \\right)}\\right) \\cos{\\left(\\frac{\\theta}{2} \\right)}\\right)}{2 \\sqrt{\\pi} \\sqrt{r}}\\\\\\frac{\\sqrt{2} \\left(3 K_{I} \\sin{\\left(\\frac{\\theta}{2} \\right)} \\cos^{2}{\\left(\\frac{\\theta}{2} \\right)} + K_{II} \\left(1 - 3 \\sin^{2}{\\left(\\frac{\\theta}{2} \\right)}\\right) \\cos{\\left(\\frac{\\theta}{2} \\right)}\\right)}{2 \\sqrt{\\pi} \\sqrt{r}} & 0\\end{matrix}\\right]$"
      ],
      "text/plain": [
       "Matrix([\n",
       "[sqrt(2)*(K_I*(sin(\\theta/2)**2 + 1)*cos(\\theta/2) + K_{II}*(1 - 3*sin(\\theta/2)**2)*sin(\\theta/2))/(2*sqrt(pi)*sqrt(r)), sqrt(2)*(3*K_I*sin(\\theta/2)*cos(\\theta/2)**2 + K_{II}*(1 - 3*sin(\\theta/2)**2)*cos(\\theta/2))/(2*sqrt(pi)*sqrt(r))],\n",
       "[    sqrt(2)*(3*K_I*sin(\\theta/2)*cos(\\theta/2)**2 + K_{II}*(1 - 3*sin(\\theta/2)**2)*cos(\\theta/2))/(2*sqrt(pi)*sqrt(r)),                                                                                                                   0]])"
      ]
     },
     "execution_count": 7,
     "metadata": {},
     "output_type": "execute_result"
    }
   ],
   "source": [
    "sigma_0 = sigma.subs(sigma_tt,0)\n",
    "sigma_0"
   ]
  },
  {
   "cell_type": "code",
   "execution_count": 8,
   "metadata": {},
   "outputs": [
    {
     "ename": "NotImplementedError",
     "evalue": "Can't evaluate eigenvector for eigenvalue (-2*sqrt(((cos(\\theta) - 1)*(-K_I**2*cos(\\theta) - 2*K_I**2*cos(2*\\theta) + K_I**2 + 2*K_I*K_{II}*sin(\\theta) + 3*K_I*K_{II}*sin(2*\\theta) + 3*K_{II}**2*cos(\\theta) - K_{II}**2)*cos(\\theta/2)**2 - (K_I*sin(\\theta) + K_{II}*cos(\\theta) - K_{II})**2)/(cos(\\theta) - 1))*sin(\\theta/2) + sqrt(2)*(K_I*sin(\\theta) + K_{II}*cos(\\theta) - K_{II}))/(4*sqrt(pi)*sqrt(r)*sin(\\theta/2))",
     "output_type": "error",
     "traceback": [
      "\u001b[1;31m---------------------------------------------------------------------------\u001b[0m",
      "\u001b[1;31mNotImplementedError\u001b[0m                       Traceback (most recent call last)",
      "\u001b[1;32m<ipython-input-8-d20737ada45e>\u001b[0m in \u001b[0;36m<module>\u001b[1;34m\u001b[0m\n\u001b[0;32m      1\u001b[0m \u001b[0msig_sim\u001b[0m \u001b[1;33m=\u001b[0m \u001b[0msp\u001b[0m\u001b[1;33m.\u001b[0m\u001b[0msimplify\u001b[0m\u001b[1;33m(\u001b[0m\u001b[0msigma\u001b[0m\u001b[1;33m)\u001b[0m\u001b[1;33m\u001b[0m\u001b[1;33m\u001b[0m\u001b[0m\n\u001b[1;32m----> 2\u001b[1;33m \u001b[0mP_rt\u001b[0m\u001b[1;33m,\u001b[0m \u001b[0mD_rt\u001b[0m \u001b[1;33m=\u001b[0m \u001b[0msig_sim\u001b[0m\u001b[1;33m.\u001b[0m\u001b[0mdiagonalize\u001b[0m\u001b[1;33m(\u001b[0m\u001b[1;33m)\u001b[0m\u001b[1;33m\u001b[0m\u001b[1;33m\u001b[0m\u001b[0m\n\u001b[0m\u001b[0;32m      3\u001b[0m \u001b[0mP_rt\u001b[0m\u001b[1;33m,\u001b[0m \u001b[0mD_rt\u001b[0m\u001b[1;33m\u001b[0m\u001b[1;33m\u001b[0m\u001b[0m\n",
      "\u001b[1;32m~\\anaconda3\\lib\\site-packages\\sympy\\matrices\\matrices.py\u001b[0m in \u001b[0;36mdiagonalize\u001b[1;34m(self, reals_only, sort, normalize)\u001b[0m\n\u001b[0;32m   1164\u001b[0m             \u001b[1;32mraise\u001b[0m \u001b[0mNonSquareMatrixError\u001b[0m\u001b[1;33m(\u001b[0m\u001b[1;33m)\u001b[0m\u001b[1;33m\u001b[0m\u001b[1;33m\u001b[0m\u001b[0m\n\u001b[0;32m   1165\u001b[0m \u001b[1;33m\u001b[0m\u001b[0m\n\u001b[1;32m-> 1166\u001b[1;33m         \u001b[1;32mif\u001b[0m \u001b[1;32mnot\u001b[0m \u001b[0mself\u001b[0m\u001b[1;33m.\u001b[0m\u001b[0mis_diagonalizable\u001b[0m\u001b[1;33m(\u001b[0m\u001b[0mreals_only\u001b[0m\u001b[1;33m=\u001b[0m\u001b[0mreals_only\u001b[0m\u001b[1;33m)\u001b[0m\u001b[1;33m:\u001b[0m\u001b[1;33m\u001b[0m\u001b[1;33m\u001b[0m\u001b[0m\n\u001b[0m\u001b[0;32m   1167\u001b[0m             \u001b[1;32mraise\u001b[0m \u001b[0mMatrixError\u001b[0m\u001b[1;33m(\u001b[0m\u001b[1;34m\"Matrix is not diagonalizable\"\u001b[0m\u001b[1;33m)\u001b[0m\u001b[1;33m\u001b[0m\u001b[1;33m\u001b[0m\u001b[0m\n\u001b[0;32m   1168\u001b[0m \u001b[1;33m\u001b[0m\u001b[0m\n",
      "\u001b[1;32m~\\anaconda3\\lib\\site-packages\\sympy\\matrices\\immutable.py\u001b[0m in \u001b[0;36mis_diagonalizable\u001b[1;34m(self, reals_only, **kwargs)\u001b[0m\n\u001b[0;32m    116\u001b[0m     \u001b[1;32mdef\u001b[0m \u001b[0mis_diagonalizable\u001b[0m\u001b[1;33m(\u001b[0m\u001b[0mself\u001b[0m\u001b[1;33m,\u001b[0m \u001b[0mreals_only\u001b[0m\u001b[1;33m=\u001b[0m\u001b[1;32mFalse\u001b[0m\u001b[1;33m,\u001b[0m \u001b[1;33m**\u001b[0m\u001b[0mkwargs\u001b[0m\u001b[1;33m)\u001b[0m\u001b[1;33m:\u001b[0m\u001b[1;33m\u001b[0m\u001b[1;33m\u001b[0m\u001b[0m\n\u001b[0;32m    117\u001b[0m         return super(ImmutableDenseMatrix, self).is_diagonalizable(\n\u001b[1;32m--> 118\u001b[1;33m             reals_only=reals_only, **kwargs)\n\u001b[0m\u001b[0;32m    119\u001b[0m     \u001b[0mis_diagonalizable\u001b[0m\u001b[1;33m.\u001b[0m\u001b[0m__doc__\u001b[0m \u001b[1;33m=\u001b[0m \u001b[0mDenseMatrix\u001b[0m\u001b[1;33m.\u001b[0m\u001b[0mis_diagonalizable\u001b[0m\u001b[1;33m.\u001b[0m\u001b[0m__doc__\u001b[0m\u001b[1;33m\u001b[0m\u001b[1;33m\u001b[0m\u001b[0m\n\u001b[0;32m    120\u001b[0m     \u001b[0mis_diagonalizable\u001b[0m \u001b[1;33m=\u001b[0m \u001b[0mcacheit\u001b[0m\u001b[1;33m(\u001b[0m\u001b[0mis_diagonalizable\u001b[0m\u001b[1;33m)\u001b[0m\u001b[1;33m\u001b[0m\u001b[1;33m\u001b[0m\u001b[0m\n",
      "\u001b[1;32m~\\anaconda3\\lib\\site-packages\\sympy\\matrices\\matrices.py\u001b[0m in \u001b[0;36mis_diagonalizable\u001b[1;34m(self, reals_only, **kwargs)\u001b[0m\n\u001b[0;32m   1471\u001b[0m             \u001b[1;32mreturn\u001b[0m \u001b[1;32mTrue\u001b[0m\u001b[1;33m\u001b[0m\u001b[1;33m\u001b[0m\u001b[0m\n\u001b[0;32m   1472\u001b[0m \u001b[1;33m\u001b[0m\u001b[0m\n\u001b[1;32m-> 1473\u001b[1;33m         \u001b[0meigenvecs\u001b[0m \u001b[1;33m=\u001b[0m \u001b[0mself\u001b[0m\u001b[1;33m.\u001b[0m\u001b[0meigenvects\u001b[0m\u001b[1;33m(\u001b[0m\u001b[0msimplify\u001b[0m\u001b[1;33m=\u001b[0m\u001b[1;32mTrue\u001b[0m\u001b[1;33m)\u001b[0m\u001b[1;33m\u001b[0m\u001b[1;33m\u001b[0m\u001b[0m\n\u001b[0m\u001b[0;32m   1474\u001b[0m \u001b[1;33m\u001b[0m\u001b[0m\n\u001b[0;32m   1475\u001b[0m         \u001b[0mret\u001b[0m \u001b[1;33m=\u001b[0m \u001b[1;32mTrue\u001b[0m\u001b[1;33m\u001b[0m\u001b[1;33m\u001b[0m\u001b[0m\n",
      "\u001b[1;32m~\\anaconda3\\lib\\site-packages\\sympy\\matrices\\matrices.py\u001b[0m in \u001b[0;36meigenvects\u001b[1;34m(self, error_when_incomplete, iszerofunc, **flags)\u001b[0m\n\u001b[0;32m   1388\u001b[0m                                   **flags)\n\u001b[0;32m   1389\u001b[0m         ret = [(val, mult, eigenspace(val)) for val, mult in\n\u001b[1;32m-> 1390\u001b[1;33m                     sorted(eigenvals.items(), key=default_sort_key)]\n\u001b[0m\u001b[0;32m   1391\u001b[0m         \u001b[1;32mif\u001b[0m \u001b[0mprimitive\u001b[0m\u001b[1;33m:\u001b[0m\u001b[1;33m\u001b[0m\u001b[1;33m\u001b[0m\u001b[0m\n\u001b[0;32m   1392\u001b[0m             \u001b[1;31m# if the primitive flag is set, get rid of any common\u001b[0m\u001b[1;33m\u001b[0m\u001b[1;33m\u001b[0m\u001b[1;33m\u001b[0m\u001b[0m\n",
      "\u001b[1;32m~\\anaconda3\\lib\\site-packages\\sympy\\matrices\\matrices.py\u001b[0m in \u001b[0;36m<listcomp>\u001b[1;34m(.0)\u001b[0m\n\u001b[0;32m   1387\u001b[0m                                   \u001b[0merror_when_incomplete\u001b[0m\u001b[1;33m=\u001b[0m\u001b[0merror_when_incomplete\u001b[0m\u001b[1;33m,\u001b[0m\u001b[1;33m\u001b[0m\u001b[1;33m\u001b[0m\u001b[0m\n\u001b[0;32m   1388\u001b[0m                                   **flags)\n\u001b[1;32m-> 1389\u001b[1;33m         ret = [(val, mult, eigenspace(val)) for val, mult in\n\u001b[0m\u001b[0;32m   1390\u001b[0m                     sorted(eigenvals.items(), key=default_sort_key)]\n\u001b[0;32m   1391\u001b[0m         \u001b[1;32mif\u001b[0m \u001b[0mprimitive\u001b[0m\u001b[1;33m:\u001b[0m\u001b[1;33m\u001b[0m\u001b[1;33m\u001b[0m\u001b[0m\n",
      "\u001b[1;32m~\\anaconda3\\lib\\site-packages\\sympy\\matrices\\matrices.py\u001b[0m in \u001b[0;36meigenspace\u001b[1;34m(eigenval)\u001b[0m\n\u001b[0;32m   1381\u001b[0m             \u001b[1;32mif\u001b[0m \u001b[0mlen\u001b[0m\u001b[1;33m(\u001b[0m\u001b[0mret\u001b[0m\u001b[1;33m)\u001b[0m \u001b[1;33m==\u001b[0m \u001b[1;36m0\u001b[0m\u001b[1;33m:\u001b[0m\u001b[1;33m\u001b[0m\u001b[1;33m\u001b[0m\u001b[0m\n\u001b[0;32m   1382\u001b[0m                 raise NotImplementedError(\n\u001b[1;32m-> 1383\u001b[1;33m                         \"Can't evaluate eigenvector for eigenvalue %s\" % eigenval)\n\u001b[0m\u001b[0;32m   1384\u001b[0m             \u001b[1;32mreturn\u001b[0m \u001b[0mret\u001b[0m\u001b[1;33m\u001b[0m\u001b[1;33m\u001b[0m\u001b[0m\n\u001b[0;32m   1385\u001b[0m \u001b[1;33m\u001b[0m\u001b[0m\n",
      "\u001b[1;31mNotImplementedError\u001b[0m: Can't evaluate eigenvector for eigenvalue (-2*sqrt(((cos(\\theta) - 1)*(-K_I**2*cos(\\theta) - 2*K_I**2*cos(2*\\theta) + K_I**2 + 2*K_I*K_{II}*sin(\\theta) + 3*K_I*K_{II}*sin(2*\\theta) + 3*K_{II}**2*cos(\\theta) - K_{II}**2)*cos(\\theta/2)**2 - (K_I*sin(\\theta) + K_{II}*cos(\\theta) - K_{II})**2)/(cos(\\theta) - 1))*sin(\\theta/2) + sqrt(2)*(K_I*sin(\\theta) + K_{II}*cos(\\theta) - K_{II}))/(4*sqrt(pi)*sqrt(r)*sin(\\theta/2))"
     ]
    }
   ],
   "source": [
    "sig_sim = sp.simplify(sigma)\n",
    "P_rt, D_rt = sig_sim.diagonalize()\n",
    "P_rt, D_rt"
   ]
  },
  {
   "cell_type": "code",
   "execution_count": null,
   "metadata": {},
   "outputs": [],
   "source": [
    "P_rt0, D_rt0 = P_rt.subs(sigma_tt,0), D_rt.subs(sigma_tt,0)"
   ]
  },
  {
   "cell_type": "code",
   "execution_count": null,
   "metadata": {},
   "outputs": [],
   "source": []
  }
 ],
 "metadata": {
  "kernelspec": {
   "display_name": "Python 3",
   "language": "python",
   "name": "python3"
  },
  "language_info": {
   "codemirror_mode": {
    "name": "ipython",
    "version": 3
   },
   "file_extension": ".py",
   "mimetype": "text/x-python",
   "name": "python",
   "nbconvert_exporter": "python",
   "pygments_lexer": "ipython3",
   "version": "3.7.6"
  },
  "toc": {
   "base_numbering": 1,
   "nav_menu": {},
   "number_sections": true,
   "sideBar": true,
   "skip_h1_title": false,
   "title_cell": "Table of Contents",
   "title_sidebar": "Contents",
   "toc_cell": false,
   "toc_position": {
    "height": "calc(100% - 180px)",
    "left": "10px",
    "top": "150px",
    "width": "307.2px"
   },
   "toc_section_display": true,
   "toc_window_display": true
  }
 },
 "nbformat": 4,
 "nbformat_minor": 4
}
