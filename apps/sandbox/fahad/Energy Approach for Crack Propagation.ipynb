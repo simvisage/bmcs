{
 "cells": [
  {
   "cell_type": "markdown",
   "metadata": {},
   "source": [
    "# Energy Approach For Crack Propagation"
   ]
  },
  {
   "cell_type": "code",
   "execution_count": 1,
   "metadata": {},
   "outputs": [],
   "source": [
    "import sympy as sp\n",
    "import numpy as np"
   ]
  },
  {
   "cell_type": "markdown",
   "metadata": {},
   "source": [
    "As the fracture process zone exists ahead of the stress-free crack tip, the classical linear elastic fracture mechanics cannot be applied to concrete like materials. Several fracture models applicable for concrete have been proposed in the last decade that includes:\n",
    "- Two Parameter Fracture Model (TPFM)\n",
    "- Size Effect Model (SEM)\n",
    "- Effective Crack Model (ECM)\n",
    "- Double K-Fracture Model (DKFM)\n",
    "\n",
    "With reference to experimental investigations using different approaches have highlighted that crack propagation in concrete experiences three stages:\n",
    "- Crack Initiation \n",
    "- Stable Crack Propagation\n",
    "- Unstable Fracture\n",
    "\n",
    "In terms of conception of energy relesase rate, double G-Fracture model is proposed and hence, two governing parameters i.e. the initiation fracture energy release $G^{ini}_{ic}$ which depicts the Griffith fracture energy of mortar matrix and the unstable fracture energy release $G^{un}_{ic}$ representing the energy required to overcome the common resistance of mortar matrix and aggregates at the critical unstable rate are introduced in this model. This model helps in predicting the stage of occurence of crack propagation. "
   ]
  },
  {
   "cell_type": "markdown",
   "metadata": {},
   "source": [
    "## Determination of Double G-Fracture Parameter\n",
    "\n",
    "The definiton of energy release rate states the energy required to drive a unit area of crack propagation. Energy release rate for a cracked elastic solid body having thickness $B$ can be obtained as:\n",
    "\\begin{gather*}\n",
    "G = \\frac{P^2 dC}{2 B d \\alpha}\n",
    "\\end{gather*}\n",
    "Here, $dC/d\\alpha$ represents the change of compliance with crack propagation."
   ]
  },
  {
   "cell_type": "markdown",
   "metadata": {},
   "source": [
    "Compliance expression for a three point bending beam shown in figure is obtained from the Tada's crack analysis Handbook and hence is given by:\n",
    "\\begin{gather*}\n",
    "C = \\frac{\\delta}{P} = \\frac{3 S^2}{2 B D^2 E} V(\\alpha)\n",
    "\\end{gather*}\n",
    "whereas,\n",
    "\\begin{gather*}\n",
    "V(\\alpha) = \\left( \\frac{\\alpha}{1 - \\alpha} \\right)^2 [5.58 - 19.57 \\alpha + 36.82 \\alpha^2 - 34.94 \\alpha^3 + 12.77 \\alpha^4]\n",
    "\\end{gather*}\n",
    "and,\n",
    "\\begin{gather*}\n",
    "\\alpha = \\frac{(a + H_0)}{(D + H_0)}\n",
    "\\end{gather*}\n",
    "$a, H_0$ is the effective crack length and thickness of knife edge for clip extension guage holder respectively. $S$ and $D$ are the span and depth of the specimen shown in the figure. $E$ represents the elastic modulus. "
   ]
  },
  {
   "cell_type": "markdown",
   "metadata": {},
   "source": [
    "<img src=\"Threepointbendingbeam.PNG\" width=\"550\"/>"
   ]
  },
  {
   "cell_type": "code",
   "execution_count": 2,
   "metadata": {},
   "outputs": [
    {
     "data": {
      "text/latex": [
       "$\\displaystyle \\alpha$"
      ],
      "text/plain": [
       "\\alpha"
      ]
     },
     "execution_count": 2,
     "metadata": {},
     "output_type": "execute_result"
    }
   ],
   "source": [
    "P = sp.Symbol('P', nonnegative = True)\n",
    "B = sp.Symbol('B', nonnegative = True)\n",
    "a = sp.Symbol('a', nonnegative = True)\n",
    "D = sp.Symbol('D', nonnegative = True)\n",
    "S = sp.Symbol('S', nonnegative = True)\n",
    "E = sp.Symbol('E', nonnegative = True)\n",
    "H_0 = sp.Symbol('H_0', nonnegative = True)\n",
    "alpha = sp.Symbol(r'\\alpha', nonnegative = True)\n",
    "alpha"
   ]
  },
  {
   "cell_type": "code",
   "execution_count": 3,
   "metadata": {},
   "outputs": [
    {
     "data": {
      "text/latex": [
       "$\\displaystyle \\frac{\\alpha^{2} \\left(12.77 \\alpha^{4} - 34.94 \\alpha^{3} + 36.82 \\alpha^{2} - 19.57 \\alpha + 5.58\\right)}{\\left(1 - \\alpha\\right)^{2}}$"
      ],
      "text/plain": [
       "\\alpha**2*(12.77*\\alpha**4 - 34.94*\\alpha**3 + 36.82*\\alpha**2 - 19.57*\\alpha + 5.58)/(1 - \\alpha)**2"
      ]
     },
     "execution_count": 3,
     "metadata": {},
     "output_type": "execute_result"
    }
   ],
   "source": [
    "V_alpha = (alpha / (1 - alpha))**2 * (5.58 - 19.57* alpha + 36.82 * alpha**2 - 34.94 * alpha**3 + 12.77 * alpha**4)\n",
    "V_alpha"
   ]
  },
  {
   "cell_type": "code",
   "execution_count": 4,
   "metadata": {},
   "outputs": [
    {
     "data": {
      "text/latex": [
       "$\\displaystyle \\frac{3 S^{2} \\alpha^{2} \\left(12.77 \\alpha^{4} - 34.94 \\alpha^{3} + 36.82 \\alpha^{2} - 19.57 \\alpha + 5.58\\right)}{2 B D^{2} E \\left(1 - \\alpha\\right)^{2}}$"
      ],
      "text/plain": [
       "3*S**2*\\alpha**2*(12.77*\\alpha**4 - 34.94*\\alpha**3 + 36.82*\\alpha**2 - 19.57*\\alpha + 5.58)/(2*B*D**2*E*(1 - \\alpha)**2)"
      ]
     },
     "execution_count": 4,
     "metadata": {},
     "output_type": "execute_result"
    }
   ],
   "source": [
    "#V_alpha = sp.Symbol('V_alpha', nonnegative = True)\n",
    "C = ((3*S**2) / (2 * B * D**2 * E)) * (V_alpha)\n",
    "C"
   ]
  },
  {
   "cell_type": "code",
   "execution_count": 5,
   "metadata": {},
   "outputs": [
    {
     "data": {
      "text/latex": [
       "$\\displaystyle \\frac{1.0 S^{2} \\alpha \\left(153.24 \\alpha^{5} - 544.32 \\alpha^{4} + 745.02 \\alpha^{3} - 500.55 \\alpha^{2} + 176.13 \\alpha - 33.48\\right)}{B D^{2} E \\left(2.0 \\alpha^{3} - 6.0 \\alpha^{2} + 6.0 \\alpha - 2.0\\right)}$"
      ],
      "text/plain": [
       "1.0*S**2*\\alpha*(153.24*\\alpha**5 - 544.32*\\alpha**4 + 745.02*\\alpha**3 - 500.55*\\alpha**2 + 176.13*\\alpha - 33.48)/(B*D**2*E*(2.0*\\alpha**3 - 6.0*\\alpha**2 + 6.0*\\alpha - 2.0))"
      ]
     },
     "execution_count": 5,
     "metadata": {},
     "output_type": "execute_result"
    }
   ],
   "source": [
    "C_diff = C.diff(alpha)\n",
    "C_diff_sim = sp.simplify(C_diff)\n",
    "C_diff_sim"
   ]
  },
  {
   "cell_type": "code",
   "execution_count": 6,
   "metadata": {},
   "outputs": [
    {
     "data": {
      "text/latex": [
       "$\\displaystyle \\frac{0.5 P^{2} S^{2} \\alpha \\left(153.24 \\alpha^{5} - 544.32 \\alpha^{4} + 745.02 \\alpha^{3} - 500.55 \\alpha^{2} + 176.13 \\alpha - 33.48\\right)}{B^{2} D^{2} E \\left(2.0 \\alpha^{3} - 6.0 \\alpha^{2} + 6.0 \\alpha - 2.0\\right)}$"
      ],
      "text/plain": [
       "0.5*P**2*S**2*\\alpha*(153.24*\\alpha**5 - 544.32*\\alpha**4 + 745.02*\\alpha**3 - 500.55*\\alpha**2 + 176.13*\\alpha - 33.48)/(B**2*D**2*E*(2.0*\\alpha**3 - 6.0*\\alpha**2 + 6.0*\\alpha - 2.0))"
      ]
     },
     "execution_count": 6,
     "metadata": {},
     "output_type": "execute_result"
    }
   ],
   "source": [
    "G = ((P**2) / (2*B)) * C_diff_sim\n",
    "G"
   ]
  },
  {
   "cell_type": "markdown",
   "metadata": {},
   "source": [
    "<img src=\"LoadDeflectionPlot.PNG\" width=\"550\"/>"
   ]
  },
  {
   "cell_type": "markdown",
   "metadata": {},
   "source": [
    "The figure shown above depicts a typical load deflection curve for Three Point Bending Test. In the figure, a deviation in tangent is observed on every point on AB curve in comparison to the initial line segment OA. The reason for this change in tangent along line AB is due to the presence of fracture process zone that resulted from bridging cohesive action of aggregate. Hence, A can be considered as the point of initiation of fracture process zone. This implies that if the point lies within the OA segment than the body behaves in elastic manner and the initial crack length remains unchanged and once the load deflection curve coincides with A than the macro cracking occurs in fracture matrix and the development of fracture process zone begins. With reference to this observation, the value of initial fracture energy release rate in double-G model is considered to be equal to energy dissipated at point A. Therefore, $P$ will be replaced by $P_{ini}$ in the initial G equation given above and $a$ will also be replaced by $a_0$ in the above equations. \n",
    "\n",
    "\\begin{gather*}\n",
    "G^{ini}_{Ic} = \\frac{3 P^2_{ini}}{4 B^2 D^3 E} V'(\\alpha)\n",
    "\\end{gather*}"
   ]
  },
  {
   "cell_type": "code",
   "execution_count": 7,
   "metadata": {},
   "outputs": [
    {
     "data": {
      "text/latex": [
       "$\\displaystyle \\frac{1.0 P_{ini}^{2} \\alpha \\left(153.24 \\alpha^{5} - 544.32 \\alpha^{4} + 745.02 \\alpha^{3} - 500.55 \\alpha^{2} + 176.13 \\alpha - 33.48\\right)}{B^{2} D^{3} E \\left(4.0 \\alpha^{3} - 12.0 \\alpha^{2} + 12.0 \\alpha - 4.0\\right)}$"
      ],
      "text/plain": [
       "1.0*P_{ini}**2*\\alpha*(153.24*\\alpha**5 - 544.32*\\alpha**4 + 745.02*\\alpha**3 - 500.55*\\alpha**2 + 176.13*\\alpha - 33.48)/(B**2*D**3*E*(4.0*\\alpha**3 - 12.0*\\alpha**2 + 12.0*\\alpha - 4.0))"
      ]
     },
     "execution_count": 7,
     "metadata": {},
     "output_type": "execute_result"
    }
   ],
   "source": [
    "P_ini = sp.Symbol('P_{ini}', nonnegative = True)\n",
    "G_ini = sp.simplify((3*P_ini**2)/(4*B**2*D**3*E) * V_alpha.diff(alpha))\n",
    "G_ini"
   ]
  },
  {
   "cell_type": "code",
   "execution_count": 8,
   "metadata": {},
   "outputs": [
    {
     "data": {
      "text/latex": [
       "$\\displaystyle \\frac{H_{0} + a}{D + H_{0}}$"
      ],
      "text/plain": [
       "(H_0 + a)/(D + H_0)"
      ]
     },
     "execution_count": 8,
     "metadata": {},
     "output_type": "execute_result"
    }
   ],
   "source": [
    "alpha = (a + H_0) / (D + H_0)\n",
    "alpha"
   ]
  },
  {
   "cell_type": "markdown",
   "metadata": {
    "slideshow": {
     "slide_type": "slide"
    }
   },
   "source": [
    "In order to understand the unstable fracture energy release rate, the critical effective crack length has to be known. For three point bending beam the crack can be obtained as:\n",
    "\\begin{gather*}\n",
    "a_i = \\frac{2}{\\pi}(D + H_0) \\arctan{\\sqrt{\\frac{B E C_{si}}{32.6} - 0.1135}} - H_0\n",
    "\\end{gather*}\n",
    "where, $C_{si}$ is the secant compliance at any crack propagation. The critical effective crack length $a_c$ can be derived by setting:\n",
    "\\begin{gather*}\n",
    "C_{si}= \\frac{CMOD_c}{P_{max}}\n",
    "\\end{gather*}\n",
    "Hence, the unstable fracture energy can be obtained as:\n",
    "\\begin{gather*}\n",
    "G^{un}_{Ic} = \\frac{3 P^2_{un}}{4 B^2 D^3 E} V'(\\alpha)\n",
    "\\end{gather*}"
   ]
  },
  {
   "cell_type": "code",
   "execution_count": 9,
   "metadata": {},
   "outputs": [
    {
     "data": {
      "text/latex": [
       "$\\displaystyle - H_{0} + \\frac{2 \\left(D + H_{0}\\right) \\operatorname{atan}{\\left(0.33689761055846 \\sqrt{\\frac{0.270262965865787 B CMOD_{c} E}{P_{max}} - 1} \\right)}}{\\pi}$"
      ],
      "text/plain": [
       "-H_0 + 2*(D + H_0)*atan(0.33689761055846*sqrt(0.270262965865787*B*CMOD_c*E/P_max - 1))/pi"
      ]
     },
     "execution_count": 9,
     "metadata": {},
     "output_type": "execute_result"
    }
   ],
   "source": [
    "CMOD_c = sp.Symbol('CMOD_c', nonnegative = True)\n",
    "P_max = sp.Symbol('P_max', nonnegative = True)\n",
    "C_si = CMOD_c / P_max\n",
    "a_i = (2/sp.pi) * (D + H_0) * sp.atan(sp.sqrt((B*E*C_si)/(32.6)-0.1135)) - H_0\n",
    "a_i"
   ]
  },
  {
   "cell_type": "code",
   "execution_count": 10,
   "metadata": {},
   "outputs": [
    {
     "data": {
      "text/latex": [
       "$\\displaystyle \\frac{1.0 P_{max}^{2} \\alpha \\left(153.24 \\alpha^{5} - 544.32 \\alpha^{4} + 745.02 \\alpha^{3} - 500.55 \\alpha^{2} + 176.13 \\alpha - 33.48\\right)}{B^{2} D^{3} E \\left(4.0 \\alpha^{3} - 12.0 \\alpha^{2} + 12.0 \\alpha - 4.0\\right)}$"
      ],
      "text/plain": [
       "1.0*P_max**2*\\alpha*(153.24*\\alpha**5 - 544.32*\\alpha**4 + 745.02*\\alpha**3 - 500.55*\\alpha**2 + 176.13*\\alpha - 33.48)/(B**2*D**3*E*(4.0*\\alpha**3 - 12.0*\\alpha**2 + 12.0*\\alpha - 4.0))"
      ]
     },
     "execution_count": 10,
     "metadata": {},
     "output_type": "execute_result"
    }
   ],
   "source": [
    "G_max = G_ini.subs(P_ini, P_max)\n",
    "G_max"
   ]
  },
  {
   "cell_type": "markdown",
   "metadata": {},
   "source": [
    "The cracking load can be measured by two methods other than the experimental approach. These approaches are load displacement curve and inverse analysis method. The first method is easy but the accuracy of picked crack load in this approach is less than maximum load. However, the second approach being already used in double K model and will be used here to evaluate double G. In the linear stage of Load deflection curve, solid remains elastic and propagation of crack doesnot start and the crack driving energy is found to be less than the energy necessary to form the new surface. However, at turning point from linear to nonlinear, crack energy is assumed to coincide with the Griffith surface energy and the nonlinear fracture process zone starts. When the macro cracking starts, cohesive stress of aggregate interlock will resist crack propagation and will result in another energy consumption termed as cohesive breaking energy. Hence, the magnitude of the total energy release rate i.e. unstable critical energy release rate can be taken as the sum of initial energy release and critical cohesive energy therefore,\n",
    "\n",
    "\\begin{gather*}\n",
    "G^{ini}_{Ic} = G^{un}_{Ic}  - G^{c}_{Ic}\n",
    "\\end{gather*}\n",
    "\n",
    "where, $G^{c}_{Ic}$ represents the cohesive energy and is equal to the average value of energy dissipation in FPZ at maximum load moment as shown in figure by the shaded area. At certain given crack location x in FPZ, the crack opening rises from zero to $w_x$ and the cohesive stress at this location drops from $f_t$ to $\\sigma(w_x)$ as shown in figure. According to fracture energy definition given by Hillerborg, the local cohesive breaking energy at x is given as:\n",
    "\n",
    "\\begin{gather*}\n",
    "g(f_x) =\\int_{0}^{w_s} \\sigma(w)dw\n",
    "\\end{gather*}"
   ]
  },
  {
   "cell_type": "markdown",
   "metadata": {},
   "source": [
    "<img src=\"cmodfig.PNG\" width=\"650\"/>\n",
    "The first figure shows the distribution of cohesive stress along FPZ when Critical Crack Tip Opening Displacement $(CTOD_c) \\leq w_s$ whereas the second figure shows distribution of stresses for the range $w_s \\leq CTOD_c \\leq w_0$. The figure shows the distribution of local cohesive breaking energy along FPZ $a-a_0$. To find the energy dissipation at any crack extension $a$ in the FPZ, addition of the values of local cohesive breaking energy at every location in the range of $a-a_0$ is calculated as:\n",
    "\\begin{gather*}\n",
    "\\Pi = \\int_{a_0}^{a} g(f_x)dx\n",
    "\\end{gather*}"
   ]
  },
  {
   "cell_type": "code",
   "execution_count": 11,
   "metadata": {},
   "outputs": [
    {
     "data": {
      "text/latex": [
       "$\\displaystyle \\sigma w_{s}$"
      ],
      "text/plain": [
       "\\sigma*w_s"
      ]
     },
     "execution_count": 11,
     "metadata": {},
     "output_type": "execute_result"
    }
   ],
   "source": [
    "w_s = sp.Symbol('w_s', nonnegative = True)\n",
    "w = sp.Symbol('w', nonnegative = True)\n",
    "sigma = sp.Symbol(r'\\sigma', nonnegative = True)\n",
    "g_f_x = sp.integrate(sigma, (w, 0, w_s))\n",
    "g_f_x"
   ]
  },
  {
   "cell_type": "code",
   "execution_count": 12,
   "metadata": {},
   "outputs": [
    {
     "data": {
      "text/latex": [
       "$\\displaystyle \\sigma a w_{s} - \\sigma a_{0} w_{s}$"
      ],
      "text/plain": [
       "\\sigma*a*w_s - \\sigma*a_0*w_s"
      ]
     },
     "execution_count": 12,
     "metadata": {},
     "output_type": "execute_result"
    }
   ],
   "source": [
    "x = sp.Symbol('x', nonnegative = True)\n",
    "a_0 = sp.Symbol('a_0', nonnegative = True)\n",
    "Pi = sp.integrate(g_f_x ,(x,a_0,a))\n",
    "Pi"
   ]
  },
  {
   "cell_type": "markdown",
   "metadata": {
    "slideshow": {
     "slide_type": "fragment"
    }
   },
   "source": [
    "$G_{I-cohesive}$ is defined as the average energy dissipation per unit length due to bridging cohesive action:\n",
    "\\begin{gather*}\n",
    "G_{I-cohesive} = \\frac{1}{a - a_0} \\int_{a_0}^{a} \\int_{0}^{w} \\sigma(w_x) dw dx\n",
    "\\end{gather*} \n",
    "especially when crack length $a$ reaches critical effective crack propagation length $a_c$, $G_{I-cohesive}$ becomes critical cohesive crack breaking energy $G^c_{Ic}$ and is given as:\n",
    "\\begin{gather*}\n",
    "G_{Ic} = \\frac{1}{a_c - a_0} \\int_{a}^{a_c} \\int_{0}^{w} \\sigma(w_x) dw dx\n",
    "\\end{gather*} "
   ]
  },
  {
   "cell_type": "markdown",
   "metadata": {},
   "source": [
    "<img src=\"distributionofcohesiveenergy.PNG\" width=\"500\"/>\n",
    "The figure shows the distribution of local cohesive breaking energy along FPZ. In the equation given above, the terms $w_x$ and $\\sigma(w_x)$ are unknown but if the critical mouth opening displacement $CMOD_c$ is measured from experiment than $w_x$ is measured by using the following expression:\n",
    "\\begin{gather*}\n",
    "w_x = CMOD_c\\left[\\left(1 - \\frac{x}{a_c}\\right)^2 + \\left(1.081 - 1.149 \\left(\\frac{a_c}{D}\\right)\\right)\\left[\\frac{x}{a_c} - \\left(\\frac{a_0}{a_c}\\right)^2\\right]\\right]^{1/2} \n",
    "\\end{gather*}"
   ]
  },
  {
   "cell_type": "code",
   "execution_count": 13,
   "metadata": {},
   "outputs": [
    {
     "data": {
      "text/latex": [
       "$\\displaystyle \\frac{- \\sigma_w a w + \\sigma_w a_{c} w}{- a_{0} + a_{c}}$"
      ],
      "text/plain": [
       "(-\\sigma_w*a*w + \\sigma_w*a_c*w)/(-a_0 + a_c)"
      ]
     },
     "execution_count": 13,
     "metadata": {},
     "output_type": "execute_result"
    }
   ],
   "source": [
    "a_c  = sp.Symbol('a_c', nonnegative = True)\n",
    "sigma_w = sp.Symbol(r'\\sigma_w', nonnegative = True)\n",
    "G_Ic = (1/(a_c - a_0)) * sp.integrate(sp.integrate( sigma_w,(w, 0, w)),(x, a, a_c))\n",
    "G_Ic"
   ]
  },
  {
   "cell_type": "code",
   "execution_count": 14,
   "metadata": {},
   "outputs": [
    {
     "data": {
      "text/latex": [
       "$\\displaystyle CMOD_{c} \\sqrt{\\left(- \\frac{a_{0}^{2}}{a_{c}^{2}} + \\frac{x}{a_{c}}\\right) \\left(\\left(1 - \\frac{x}{a_{c}}\\right)^{2} + 1.081 - \\frac{1.149 a_{c}}{D}\\right)}$"
      ],
      "text/plain": [
       "CMOD_c*sqrt((-a_0**2/a_c**2 + x/a_c)*((1 - x/a_c)**2 + 1.081 - 1.149*a_c/D))"
      ]
     },
     "execution_count": 14,
     "metadata": {},
     "output_type": "execute_result"
    }
   ],
   "source": [
    "w_x = CMOD_c * sp.sqrt(((1 - x/a_c)**2 + (1.081 - 1.149*(a_c/D)))*(x/a_c - (a_0/a_c)**2))\n",
    "w_x"
   ]
  },
  {
   "cell_type": "markdown",
   "metadata": {},
   "source": [
    "The equation for $G_{Ic}$ can be solved if the relationship between crack opening and cohesive stress in concrete is given. The corresponding relation for the bilinear softening cohesive stress is:\n",
    "\\begin{gather*}\n",
    "\\sigma = f_t - (f_t - \\sigma_s(w_s)) \\frac{w}{w_s} ; \\: \\mathrm{for}\\; 0 \\leq w \\leq w_s\n",
    "\\end{gather*}\n",
    "\\begin{gather*}\n",
    "\\sigma = \\sigma_s \\frac{w_0 - w}{w_0 - w_s} ; for\\ w_s \\leq w \\leq w_0\n",
    "\\end{gather*}\n",
    "\\begin{gather*}\n",
    "\\sigma = 0 ; for\\ w_0 \\leq w\n",
    "\\end{gather*}\n",
    "However, the parameters used in the bilinear softening curve can be evaluated by using formula by Xu. Hence,\n",
    "\\begin{gather*}\n",
    "\\sigma_s (CTOD_c) = \\frac{f_t(2 - f_t \\frac{CTOD_c}{G_f})}{\\alpha_f} \\\\\n",
    "w_s = CTOD_c \\\\\n",
    "w_0 = \\alpha_f \\frac{G_f}{f_t} \\\\\n",
    "\\alpha_f = \\lambda - \\frac{d_{max}}{8} \\\\\n",
    "\\end{gather*}\n",
    "where, $f_t$ represents tensile strength that can be obtained by either splitting tests or by the formula $f_t = 0.4983 \\sqrt f_c$ . Here, $G_f$, $\\lambda$, $\\alpha_f$ represents Fracture Energy, calibration factor, deformation coefficient of concrete respectively. Furthermore, $d_{max}$ depicts maximum size of coarse aggregate and $CTOD_c$ is the critical crack tip opening displacement which can be determined by replacing $x = a_0$ in the equation for $w_x$."
   ]
  },
  {
   "cell_type": "markdown",
   "metadata": {},
   "source": [
    "For the case where $P-\\delta$ is known, the double-G fracture parameters may be determined by inverse analysis and the involved steps are summarized below:\n",
    "- Calculate critical effective crack length $a_c$ using the equation of $a_i$\n",
    "- Determine governing parameters in tension softening curve from $\\sigma_s, w_s, w_0, \\alpha_f$ equations given above and then rewrite tension softening equation for the bilinear case shown above.\n",
    "- Subsititute all the obtained results to determine the cohesive breaking energy $G^c_{Ic}$ by using the numerical integration approach.\n",
    "- Now replace the maximum recorded load and the critical computed effective crack length $a_c$ into $G^{un}_{Ic}$ to obtain the unstable fracture energy release.\n",
    "- Now determine the initial fracture energy. "
   ]
  },
  {
   "cell_type": "code",
   "execution_count": null,
   "metadata": {},
   "outputs": [],
   "source": []
  }
 ],
 "metadata": {
  "kernelspec": {
   "display_name": "Python 3",
   "language": "python",
   "name": "python3"
  },
  "language_info": {
   "codemirror_mode": {
    "name": "ipython",
    "version": 3
   },
   "file_extension": ".py",
   "mimetype": "text/x-python",
   "name": "python",
   "nbconvert_exporter": "python",
   "pygments_lexer": "ipython3",
   "version": "3.7.6"
  },
  "toc": {
   "base_numbering": 1,
   "nav_menu": {},
   "number_sections": true,
   "sideBar": true,
   "skip_h1_title": false,
   "title_cell": "Table of Contents",
   "title_sidebar": "Contents",
   "toc_cell": false,
   "toc_position": {
    "height": "calc(100% - 180px)",
    "left": "10px",
    "top": "150px",
    "width": "341.333px"
   },
   "toc_section_display": true,
   "toc_window_display": true
  }
 },
 "nbformat": 4,
 "nbformat_minor": 4
}
