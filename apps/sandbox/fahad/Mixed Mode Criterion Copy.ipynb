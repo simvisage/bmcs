{
 "cells": [
  {
   "cell_type": "code",
   "execution_count": 1,
   "metadata": {},
   "outputs": [],
   "source": [
    "import numpy as np\n",
    "import sympy as sp\n",
    "from scipy.optimize import root\n",
    "import matplotlib.pyplot as plt"
   ]
  },
  {
   "cell_type": "markdown",
   "metadata": {},
   "source": [
    "# Determination of Crack Tip Stress Field\n",
    "In order to calculate crack tip stress field, an infinite stress field under uniform compressive load is assumed. The location of crack is supposed to be at the center having a length of $2a$. The angle of inclination of this crack to the direction of applied load is considered to be $\\beta$ as described in figure below. the figure shows a far field stress condition where $\\sigma_y$ is normal to the crack, $\\sigma_x$ is parallel and $\\tau_{xy}$ denotes the shear stress. These stresses are written as:\n",
    "\\begin{gather*}\n",
    "\\sigma_y= - \\sigma sin^2\\beta    \\\\\n",
    "\\sigma_x= - \\sigma cos^2\\beta    \\\\\n",
    "\\tau_{xy}= - \\sigma sin\\beta cos\\beta  \n",
    "\\end{gather*}\n",
    "Here, $\\sigma > 0$ for compressive stresses.  "
   ]
  },
  {
   "cell_type": "markdown",
   "metadata": {},
   "source": [
    "<img src=\"mixedmodecriterion.png\" width=\"500\"/>"
   ]
  },
  {
   "cell_type": "code",
   "execution_count": 2,
   "metadata": {},
   "outputs": [],
   "source": [
    "sigma = sp.Symbol(r'\\sigma', nonnegative = True)\n",
    "beta = sp.Symbol(r'\\beta', nonnegative = True)\n",
    "rho = sp.Symbol(r'\\rho', nonnegative = True)\n",
    "a = sp.Symbol('a', nonnegative = True)\n",
    "theta = sp.Symbol(r'\\theta', nonnegative = True)\n",
    "r = sp.Symbol('r', nonnegative = True) #Distance from the crack tip\n",
    "E = sp.Symbol('E', nonnegative = True)\n",
    "nu = sp.Symbol('r\\nu', nonnegative = True)\n",
    "mu = sp.Symbol('r\\mu', nonnegative = True)\n",
    "K_I = sp.Symbol('K_I', real = True)\n",
    "K_II = sp.Symbol('K_{II}', real = True)"
   ]
  },
  {
   "cell_type": "code",
   "execution_count": 3,
   "metadata": {},
   "outputs": [],
   "source": [
    "sig_y = - sigma * (sp.sin(beta))**2\n",
    "sig_x = - sigma * (sp.cos(beta))**2\n",
    "tau_xy = - sigma * sp.sin(beta) * sp.cos(beta)\n",
    "tau_xy;"
   ]
  },
  {
   "cell_type": "markdown",
   "metadata": {},
   "source": [
    "## Kink Initiation Direction\n",
    "The direction of initiation of a kink crack can be attained from the given stress Intensity factors at tip of the notch. Moreover, the theories involved in evaluating the direction are:\n",
    "1. Maximum Stress Criteria\n",
    "2. Energy Release Rate Theory\n",
    "3. Kink Initiation Stress"
   ]
  },
  {
   "cell_type": "markdown",
   "metadata": {},
   "source": [
    "### Maximum Stress Criteria\n",
    "The theory states that the crack propagates in the radial direction. This direction of crack elongation is dependent on the maximum tangential stress and lies normal to the MTS $\\sigma_{\\theta}$. The simplified equation taken from the Erdogan an Sih concept are:\n",
    "\\begin{align}\n",
    "\\sigma_{\\theta} = \\frac{cos\\frac{\\theta}{2}}{\\sqrt{2\\pi r}}\\left(K_I\\cos^2\\frac{\\theta}{2} - \\frac{3}{2} K_{II} \\sin \\theta \\right) - \\sigma \\cos^2 \\beta \\sin^2 \\beta   \\\\\n",
    "\\end{align}\n",
    "This equation contains an additional term at the end which is taken from William's analysis and represents the crack tip curvature. Therefore, the direction of crack propagation is given as follows:\n",
    "\\begin{gather*}\n",
    "\\frac{\\partial \\sigma_{\\theta}}{\\partial \\theta} = 0   \\\\\n",
    "\\end{gather*}\n",
    "From Shah's paper, the value for $\\rho = 1 mm$ and $a = 25.4 mm$ which would yield $\\frac{\\rho}{a} = 0.039$.  The mode I SIF in direction of crack propagation angle $\\theta$ in terms of Maximum stress criteria is:\n",
    "\\begin{align}\n",
    "K_I(\\theta) = \\sigma_{\\theta} \\sqrt{2 \\pi r} \n",
    "\\end{align}"
   ]
  },
  {
   "cell_type": "markdown",
   "metadata": {},
   "source": [
    "The enlargement of crack tip in the figure shows that $\\sigma_x$ represents the stress at the crack tip. Assuming that the tip of the crack has a sharp edge than $\\sigma_x$ will be neglected and the SIFs $K_I$ and $K_{II}$ are expressed as given:\n",
    "\\begin{gather*}\n",
    "K_I = - \\sigma \\sqrt{\\pi a}\\sin^2 \\beta  \\\\\n",
    "K_{II} = - \\sigma \\sqrt{\\pi a}\\sin\\beta \\cos\\beta  \n",
    "\\end{gather*}\n",
    "The negative value of $K_I$ represents the closure of the crack whereas the negative value of $K_{II}$ depicts that shear stress lies in the opposite direction."
   ]
  },
  {
   "cell_type": "code",
   "execution_count": 53,
   "metadata": {},
   "outputs": [
    {
     "data": {
      "text/latex": [
       "$\\displaystyle \\frac{\\sqrt{2} \\left(K_{I} \\cos^{2}{\\left(\\frac{\\theta}{2} \\right)} - \\frac{3 K_{II} \\sin{\\left(\\theta \\right)}}{2}\\right) \\cos{\\left(\\frac{\\theta}{2} \\right)}}{2 \\sqrt{\\pi} \\sqrt{r}}$"
      ],
      "text/plain": [
       "sqrt(2)*(K_I*cos(\\theta/2)**2 - 3*K_{II}*sin(\\theta)/2)*cos(\\theta/2)/(2*sqrt(pi)*sqrt(r))"
      ]
     },
     "execution_count": 53,
     "metadata": {},
     "output_type": "execute_result"
    }
   ],
   "source": [
    "sig_the = sp.cos((theta/2)) / sp.sqrt(2*sp.pi*r) *(K_I *(sp.cos((theta/2)))**2 - sp.Rational(3,2) * K_II * sp.sin(theta)) #-  \\\n",
    "            #(sigma * (sp.cos(beta))**2 * (sp.sin(theta))**2)\n",
    "sig_the"
   ]
  },
  {
   "cell_type": "code",
   "execution_count": 58,
   "metadata": {},
   "outputs": [
    {
     "data": {
      "text/latex": [
       "$\\displaystyle - \\frac{3 \\sqrt{2} \\left(2 K_{I} \\sin{\\left(\\frac{\\theta}{2} \\right)} \\cos^{2}{\\left(\\frac{\\theta}{2} \\right)} - K_{II} \\sin{\\left(\\frac{\\theta}{2} \\right)} \\sin{\\left(\\theta \\right)} + 2 K_{II} \\cos{\\left(\\frac{\\theta}{2} \\right)} \\cos{\\left(\\theta \\right)}\\right)}{8 \\sqrt{\\pi} \\sqrt{r}}$"
      ],
      "text/plain": [
       "-3*sqrt(2)*(2*K_I*sin(\\theta/2)*cos(\\theta/2)**2 - K_{II}*sin(\\theta/2)*sin(\\theta) + 2*K_{II}*cos(\\theta/2)*cos(\\theta))/(8*sqrt(pi)*sqrt(r))"
      ]
     },
     "execution_count": 58,
     "metadata": {},
     "output_type": "execute_result"
    }
   ],
   "source": [
    "diff_sig_the = sig_the.diff(theta)\n",
    "diff_sig_the2 = sp.simplify(diff_sig_the)\n",
    "diff_sig_the2"
   ]
  },
  {
   "cell_type": "code",
   "execution_count": 62,
   "metadata": {},
   "outputs": [],
   "source": [
    "diff_sig_the3= sp.trigsimp(diff_sig_the)"
   ]
  },
  {
   "cell_type": "code",
   "execution_count": 66,
   "metadata": {},
   "outputs": [
    {
     "data": {
      "text/latex": [
       "$\\displaystyle - \\frac{\\sqrt{2} \\left(K_{I} \\cos^{2}{\\left(\\frac{\\theta}{2} \\right)} - \\frac{3 K_{II} \\sin{\\left(\\theta \\right)}}{2}\\right) \\sin{\\left(\\frac{\\theta}{2} \\right)}}{4 \\sqrt{\\pi} \\sqrt{r}} + \\frac{\\sqrt{2} \\left(- K_{I} \\sin{\\left(\\frac{\\theta}{2} \\right)} \\cos{\\left(\\frac{\\theta}{2} \\right)} - \\frac{3 K_{II} \\cos{\\left(\\theta \\right)}}{2}\\right) \\cos{\\left(\\frac{\\theta}{2} \\right)}}{2 \\sqrt{\\pi} \\sqrt{r}}$"
      ],
      "text/plain": [
       "-sqrt(2)*(K_I*cos(\\theta/2)**2 - 3*K_{II}*sin(\\theta)/2)*sin(\\theta/2)/(4*sqrt(pi)*sqrt(r)) + sqrt(2)*(-K_I*sin(\\theta/2)*cos(\\theta/2) - 3*K_{II}*cos(\\theta)/2)*cos(\\theta/2)/(2*sqrt(pi)*sqrt(r))"
      ]
     },
     "execution_count": 66,
     "metadata": {},
     "output_type": "execute_result"
    }
   ],
   "source": [
    "diff_sig_the4 = sp.expand_trig(diff_sig_the)\n",
    "diff_sig_the4"
   ]
  },
  {
   "cell_type": "code",
   "execution_count": 67,
   "metadata": {},
   "outputs": [],
   "source": [
    "params = {sigma : 1.14, r : 38.1, a : 25.4}"
   ]
  },
  {
   "cell_type": "code",
   "execution_count": 7,
   "metadata": {},
   "outputs": [
    {
     "data": {
      "text/latex": [
       "$\\displaystyle \\frac{\\sqrt{2} \\left(0.0151882867736328 K_{I} \\cos{\\left(2 \\theta \\right)} - 0.0151882867736328 K_{I} + 0.0303765735472657 K_{II} \\sin{\\left(\\theta \\right)} - 0.0455648603208985 K_{II} \\sin{\\left(2 \\theta \\right)}\\right)}{\\sqrt{\\pi} \\sin{\\left(\\frac{\\theta}{2} \\right)}}$"
      ],
      "text/plain": [
       "sqrt(2)*(0.0151882867736328*K_I*cos(2*\\theta) - 0.0151882867736328*K_I + 0.0303765735472657*K_{II}*sin(\\theta) - 0.0455648603208985*K_{II}*sin(2*\\theta))/(sqrt(pi)*sin(\\theta/2))"
      ]
     },
     "execution_count": 7,
     "metadata": {},
     "output_type": "execute_result"
    }
   ],
   "source": [
    "b = sp.trigsimp(diff_sig_the.subs(params)) \n",
    "g = sp.collect(b, theta)\n",
    "g"
   ]
  },
  {
   "cell_type": "code",
   "execution_count": 8,
   "metadata": {},
   "outputs": [],
   "source": [
    "#a = sp.simplify(sp.expand_trig(diff_sig_the))\n",
    "#a"
   ]
  },
  {
   "cell_type": "code",
   "execution_count": null,
   "metadata": {},
   "outputs": [],
   "source": [
    "#sol = sp.solve(diff_sig_the.subs(params), theta)\n",
    "sol = sp.solve(diff_sig_the4.subs(params), theta)\n",
    "sol[1]"
   ]
  },
  {
   "cell_type": "code",
   "execution_count": 10,
   "metadata": {},
   "outputs": [
    {
     "data": {
      "text/latex": [
       "$\\displaystyle - 1.77245385090552 \\sigma \\sqrt{a} \\sin{\\left(\\beta \\right)} \\cos{\\left(\\beta \\right)}$"
      ],
      "text/plain": [
       "-1.77245385090552*\\sigma*sqrt(a)*sin(\\beta)*cos(\\beta)"
      ]
     },
     "execution_count": 10,
     "metadata": {},
     "output_type": "execute_result"
    }
   ],
   "source": [
    "K_I_ = - sigma * sp.sqrt(np.pi * a) * (sp.sin(beta))**2\n",
    "K_II_ = - sigma * sp.sqrt(np.pi * a) * sp.sin(beta) * sp.cos(beta)\n",
    "K_II_"
   ]
  },
  {
   "cell_type": "code",
   "execution_count": 11,
   "metadata": {},
   "outputs": [
    {
     "data": {
      "text/latex": [
       "$\\displaystyle - i \\log{\\left(\\frac{0.5 \\left(- 538410747611657.0 i \\sigma \\sqrt{a} \\sin{\\left(\\beta \\right)} \\cos{\\left(\\beta \\right)} - 1.52285556279968 \\cdot 10^{15} \\sqrt{0.124999999999999 \\sigma^{2} a \\sin^{4}{\\left(\\beta \\right)} + \\sigma^{2} a \\sin^{2}{\\left(\\beta \\right)} \\cos^{2}{\\left(\\beta \\right)}}\\right)}{- 269205373805828.0 \\sigma \\sqrt{a} \\sin^{2}{\\left(\\beta \\right)} - 807616121417485.0 i \\sigma \\sqrt{a} \\sin{\\left(\\beta \\right)} \\cos{\\left(\\beta \\right)}} \\right)}$"
      ],
      "text/plain": [
       "-I*log(0.5*(-538410747611657.0*I*\\sigma*sqrt(a)*sin(\\beta)*cos(\\beta) - 1.52285556279968e+15*sqrt(0.124999999999999*\\sigma**2*a*sin(\\beta)**4 + \\sigma**2*a*sin(\\beta)**2*cos(\\beta)**2))/(-269205373805828.0*\\sigma*sqrt(a)*sin(\\beta)**2 - 807616121417485.0*I*\\sigma*sqrt(a)*sin(\\beta)*cos(\\beta)))"
      ]
     },
     "execution_count": 11,
     "metadata": {},
     "output_type": "execute_result"
    }
   ],
   "source": [
    "sol_subs = sol[1].subs(list(zip([K_I, K_II], [K_I_, K_II_])))\n",
    "sol_subs"
   ]
  },
  {
   "cell_type": "code",
   "execution_count": 12,
   "metadata": {},
   "outputs": [
    {
     "data": {
      "text/latex": [
       "$\\displaystyle - i \\log{\\left(\\frac{0.5 \\left(- 8.74944335294247 \\cdot 10^{15} \\sqrt{0.124999999999999 \\sin^{4}{\\left(\\beta \\right)} + \\sin^{2}{\\left(\\beta \\right)} \\cos^{2}{\\left(\\beta \\right)}} - 3.0933953632366 \\cdot 10^{15} i \\sin{\\left(\\beta \\right)} \\cos{\\left(\\beta \\right)}\\right)}{- 1.54669768161829 \\cdot 10^{15} \\sin^{2}{\\left(\\beta \\right)} - 4.64009304485489 \\cdot 10^{15} i \\sin{\\left(\\beta \\right)} \\cos{\\left(\\beta \\right)}} \\right)}$"
      ],
      "text/plain": [
       "-I*log(0.5*(-8.74944335294247e+15*sqrt(0.124999999999999*sin(\\beta)**4 + sin(\\beta)**2*cos(\\beta)**2) - 3.0933953632366e+15*I*sin(\\beta)*cos(\\beta))/(-1.54669768161829e+15*sin(\\beta)**2 - 4.64009304485489e+15*I*sin(\\beta)*cos(\\beta)))"
      ]
     },
     "execution_count": 12,
     "metadata": {},
     "output_type": "execute_result"
    }
   ],
   "source": [
    "get_sig_the = sp.lambdify((beta), sol_subs.subs(params), 'numpy')\n",
    "sol_subs.subs(params)"
   ]
  },
  {
   "cell_type": "code",
   "execution_count": 13,
   "metadata": {},
   "outputs": [],
   "source": [
    "def get_response(beta=90*np.pi/180, n_steps=8): #,n_steps=4\n",
    "    theta_rec = [] \n",
    "    beta_o = np.linspace(15*np.pi/180,beta,n_steps+1)\n",
    "    for be in beta_o:\n",
    "        theta = get_sig_the(be)\n",
    "        theta_rec.append(theta)\n",
    "        #print(theta*180/np.pi)\n",
    "        #print(be)\n",
    "    return (\n",
    "        beta_o, np.array(theta_rec,dtype=np.float_)\n",
    "    )"
   ]
  },
  {
   "cell_type": "code",
   "execution_count": 14,
   "metadata": {},
   "outputs": [
    {
     "name": "stderr",
     "output_type": "stream",
     "text": [
      "C:\\Users\\Fahad\\anaconda3\\lib\\site-packages\\ipykernel_launcher.py:10: ComplexWarning: Casting complex values to real discards the imaginary part\n",
      "  # Remove the CWD from sys.path while we load stuff.\n"
     ]
    },
    {
     "data": {
      "image/png": "[encoded data removed]",
      "text/plain": [
       "<Figure size 504x288 with 1 Axes>"
      ]
     },
     "metadata": {
      "needs_background": "light"
     },
     "output_type": "display_data"
    }
   ],
   "source": [
    "import matplotlib.pyplot as plt\n",
    "fig, ((ax1)) = plt.subplots(1,1,figsize=(7,4))\n",
    "colors = ['blue','red', 'green', 'black', 'magenta', 'pink']\n",
    "n_step_range = np.arange(1,2)*20\n",
    "beta = 90*np.pi/180\n",
    "for n_step, color in zip(n_step_range, colors):\n",
    "    beta_o, theta_arr = get_response(beta,n_step) \n",
    "    ax1.plot(beta_o*180/np.pi, theta_arr[:]*180/np.pi, color=color, \n",
    "         label='theta')\n",
    "    ax1.set_xlabel(r'$\\beta$'); ax1.set_ylabel(r'$\\theta$')\n",
    "    ax1.legend()"
   ]
  },
  {
   "cell_type": "markdown",
   "metadata": {},
   "source": [
    "When the crack tip possess a finite curvature $\\rho$, it is observed that $\\sigma_x$ would produce tensile stresses close to the crack tip. Hence, \n",
    "\\begin{align}\n",
    "\\sigma_{max} = {\\lVert}{\\sigma_x}{\\rVert}  \n",
    "\\end{align}\n",
    "For this case, SIF will be written as:\n",
    "\\begin{gather*}\n",
    "K_I = \\sigma \\sqrt{\\pi a}\\left(\\frac{1}{2}\\sqrt{\\frac{\\rho}{a} }\\cos^2 \\beta - \\sin^2 \\beta \\right)  \\\\\n",
    "K_{II} = - \\sigma \\sqrt{\\pi a}\\sin\\beta \\cos\\beta  \n",
    "\\end{gather*}"
   ]
  },
  {
   "cell_type": "code",
   "execution_count": 15,
   "metadata": {},
   "outputs": [],
   "source": [
    "K_I_rho = sigma * sp.sqrt(np.pi * a) * (1/2 * sp.sqrt(rho / a) * (sp.cos(beta))**2 - (sp.sin(beta))**2)  \n",
    "K_I_rho;"
   ]
  },
  {
   "cell_type": "markdown",
   "metadata": {},
   "source": [
    "### The Energy Release Rate Theory\n",
    "Hussain et al. used this theroy to find the energ release rate $G$. It calculates $G$ at the crack which moves from the main crack in direction of $\\theta$.\n",
    "1. The direction of the crack propagation is the one in which the maximum energy release rate occurs.\n",
    "2. the propagation of the crack starts when energy release rate reaches a limit value. \n",
    "\n",
    "It is given by:\n",
    "\\begin{align}\n",
    "G(\\theta) = \\frac{4}{E} \\frac{1}{(3 + cos^2\\theta)^2} \\left(\\frac{1 + \\frac{\\theta}{\\pi}}{1 - \\frac{\\theta}{\\pi}}\\right)^\\frac{-\\theta}{\\pi}((1 + 3 cos^2\\theta)K_I^2 - 8 K_I K_{II} sin\\theta cos\\theta + (9 - 5 cos^2\\theta)K_{II}^2) \n",
    "\\end{align}\n",
    "Here, $\\theta$ is obtained by the following condition:\n",
    "\\begin{gather*}\n",
    "\\frac{\\partial G}{\\partial \\theta} = 0  \n",
    "\\end{gather*}"
   ]
  },
  {
   "cell_type": "code",
   "execution_count": 16,
   "metadata": {},
   "outputs": [
    {
     "data": {
      "text/latex": [
       "$\\displaystyle \\frac{4 \\left(\\frac{\\frac{\\theta}{\\pi} + 1}{- \\frac{\\theta}{\\pi} + 1}\\right)^{- \\frac{\\theta}{\\pi}} \\left(K_{I}^{2} \\left(3 \\cos^{2}{\\left(\\theta \\right)} + 1\\right) - 8 K_{I} K_{II} \\sin{\\left(\\theta \\right)} \\cos{\\left(\\theta \\right)} + K_{II}^{2} \\left(9 - 5 \\cos^{2}{\\left(\\theta \\right)}\\right)\\right)}{E \\left(\\cos^{2}{\\left(\\theta \\right)} + 3\\right)}$"
      ],
      "text/plain": [
       "4*((\\theta/pi + 1)/(-\\theta/pi + 1))**(-\\theta/pi)*(K_I**2*(3*cos(\\theta)**2 + 1) - 8*K_I*K_{II}*sin(\\theta)*cos(\\theta) + K_{II}**2*(9 - 5*cos(\\theta)**2))/(E*(cos(\\theta)**2 + 3))"
      ]
     },
     "execution_count": 16,
     "metadata": {},
     "output_type": "execute_result"
    }
   ],
   "source": [
    "G_the = (4/E) * (1/(3 + (sp.cos(theta))**2)) * ((1 + (theta/sp.pi))/(1 - (theta/sp.pi)))**(- theta/sp.pi) * \\\n",
    "((1 + 3 * (sp.cos(theta))**2)* K_I**2 - 8*K_I*K_II*sp.sin(theta)*sp.cos(theta) + (9 - 5 * (sp.cos(theta))**2)*K_II**2)\n",
    "G_the"
   ]
  },
  {
   "cell_type": "code",
   "execution_count": 17,
   "metadata": {},
   "outputs": [
    {
     "data": {
      "text/latex": [
       "$\\displaystyle \\frac{4 \\left(\\frac{\\frac{\\theta}{\\pi} + 1}{- \\frac{\\theta}{\\pi} + 1}\\right)^{- \\frac{\\theta}{\\pi}} \\left(- \\frac{\\theta \\left(- \\frac{\\theta}{\\pi} + 1\\right) \\left(\\frac{1}{\\pi \\left(- \\frac{\\theta}{\\pi} + 1\\right)} + \\frac{\\frac{\\theta}{\\pi} + 1}{\\pi \\left(- \\frac{\\theta}{\\pi} + 1\\right)^{2}}\\right)}{\\pi \\left(\\frac{\\theta}{\\pi} + 1\\right)} - \\frac{\\log{\\left(\\frac{\\frac{\\theta}{\\pi} + 1}{- \\frac{\\theta}{\\pi} + 1} \\right)}}{\\pi}\\right) \\left(K_{I}^{2} \\left(3 \\cos^{2}{\\left(\\theta \\right)} + 1\\right) - 8 K_{I} K_{II} \\sin{\\left(\\theta \\right)} \\cos{\\left(\\theta \\right)} + K_{II}^{2} \\left(9 - 5 \\cos^{2}{\\left(\\theta \\right)}\\right)\\right)}{E \\left(\\cos^{2}{\\left(\\theta \\right)} + 3\\right)} + \\frac{4 \\left(\\frac{\\frac{\\theta}{\\pi} + 1}{- \\frac{\\theta}{\\pi} + 1}\\right)^{- \\frac{\\theta}{\\pi}} \\left(- 6 K_{I}^{2} \\sin{\\left(\\theta \\right)} \\cos{\\left(\\theta \\right)} + 8 K_{I} K_{II} \\sin^{2}{\\left(\\theta \\right)} - 8 K_{I} K_{II} \\cos^{2}{\\left(\\theta \\right)} + 10 K_{II}^{2} \\sin{\\left(\\theta \\right)} \\cos{\\left(\\theta \\right)}\\right)}{E \\left(\\cos^{2}{\\left(\\theta \\right)} + 3\\right)} + \\frac{8 \\left(\\frac{\\frac{\\theta}{\\pi} + 1}{- \\frac{\\theta}{\\pi} + 1}\\right)^{- \\frac{\\theta}{\\pi}} \\left(K_{I}^{2} \\left(3 \\cos^{2}{\\left(\\theta \\right)} + 1\\right) - 8 K_{I} K_{II} \\sin{\\left(\\theta \\right)} \\cos{\\left(\\theta \\right)} + K_{II}^{2} \\left(9 - 5 \\cos^{2}{\\left(\\theta \\right)}\\right)\\right) \\sin{\\left(\\theta \\right)} \\cos{\\left(\\theta \\right)}}{E \\left(\\cos^{2}{\\left(\\theta \\right)} + 3\\right)^{2}}$"
      ],
      "text/plain": [
       "4*((\\theta/pi + 1)/(-\\theta/pi + 1))**(-\\theta/pi)*(-\\theta*(-\\theta/pi + 1)*(1/(pi*(-\\theta/pi + 1)) + (\\theta/pi + 1)/(pi*(-\\theta/pi + 1)**2))/(pi*(\\theta/pi + 1)) - log((\\theta/pi + 1)/(-\\theta/pi + 1))/pi)*(K_I**2*(3*cos(\\theta)**2 + 1) - 8*K_I*K_{II}*sin(\\theta)*cos(\\theta) + K_{II}**2*(9 - 5*cos(\\theta)**2))/(E*(cos(\\theta)**2 + 3)) + 4*((\\theta/pi + 1)/(-\\theta/pi + 1))**(-\\theta/pi)*(-6*K_I**2*sin(\\theta)*cos(\\theta) + 8*K_I*K_{II}*sin(\\theta)**2 - 8*K_I*K_{II}*cos(\\theta)**2 + 10*K_{II}**2*sin(\\theta)*cos(\\theta))/(E*(cos(\\theta)**2 + 3)) + 8*((\\theta/pi + 1)/(-\\theta/pi + 1))**(-\\theta/pi)*(K_I**2*(3*cos(\\theta)**2 + 1) - 8*K_I*K_{II}*sin(\\theta)*cos(\\theta) + K_{II}**2*(9 - 5*cos(\\theta)**2))*sin(\\theta)*cos(\\theta)/(E*(cos(\\theta)**2 + 3)**2)"
      ]
     },
     "execution_count": 17,
     "metadata": {},
     "output_type": "execute_result"
    }
   ],
   "source": [
    "G_d_the = G_the.diff(theta)\n",
    "G_d_the"
   ]
  },
  {
   "cell_type": "code",
   "execution_count": 18,
   "metadata": {},
   "outputs": [],
   "source": [
    "params_ = {E: 20000}"
   ]
  },
  {
   "cell_type": "code",
   "execution_count": 19,
   "metadata": {},
   "outputs": [
    {
     "data": {
      "text/latex": [
       "$\\displaystyle \\frac{\\left(\\frac{\\frac{\\theta}{\\pi} + 1}{- \\frac{\\theta}{\\pi} + 1}\\right)^{- \\frac{\\theta}{\\pi}} \\left(- \\frac{\\theta \\left(- \\frac{\\theta}{\\pi} + 1\\right) \\left(\\frac{1}{\\pi \\left(- \\frac{\\theta}{\\pi} + 1\\right)} + \\frac{\\frac{\\theta}{\\pi} + 1}{\\pi \\left(- \\frac{\\theta}{\\pi} + 1\\right)^{2}}\\right)}{\\pi \\left(\\frac{\\theta}{\\pi} + 1\\right)} - \\frac{\\log{\\left(\\frac{\\frac{\\theta}{\\pi} + 1}{- \\frac{\\theta}{\\pi} + 1} \\right)}}{\\pi}\\right) \\left(K_{I}^{2} \\left(3 \\cos^{2}{\\left(\\theta \\right)} + 1\\right) - 4 K_{I} K_{II} \\sin{\\left(2 \\theta \\right)} + K_{II}^{2} \\left(9 - 5 \\cos^{2}{\\left(\\theta \\right)}\\right)\\right)}{5000 \\left(\\cos^{2}{\\left(\\theta \\right)} + 3\\right)} + \\frac{\\left(\\frac{\\frac{\\theta}{\\pi} + 1}{- \\frac{\\theta}{\\pi} + 1}\\right)^{- \\frac{\\theta}{\\pi}} \\left(- 3 K_{I}^{2} \\sin{\\left(2 \\theta \\right)} - 8 K_{I} K_{II} \\cos{\\left(2 \\theta \\right)} + 5 K_{II}^{2} \\sin{\\left(2 \\theta \\right)}\\right)}{5000 \\left(\\cos^{2}{\\left(\\theta \\right)} + 3\\right)} + \\frac{\\left(\\frac{\\frac{\\theta}{\\pi} + 1}{- \\frac{\\theta}{\\pi} + 1}\\right)^{- \\frac{\\theta}{\\pi}} \\left(K_{I}^{2} \\left(3 \\cos^{2}{\\left(\\theta \\right)} + 1\\right) - 4 K_{I} K_{II} \\sin{\\left(2 \\theta \\right)} + K_{II}^{2} \\left(9 - 5 \\cos^{2}{\\left(\\theta \\right)}\\right)\\right) \\sin{\\left(\\theta \\right)} \\cos{\\left(\\theta \\right)}}{2500 \\left(\\cos^{2}{\\left(\\theta \\right)} + 3\\right)^{2}}$"
      ],
      "text/plain": [
       "((\\theta/pi + 1)/(-\\theta/pi + 1))**(-\\theta/pi)*(-\\theta*(-\\theta/pi + 1)*(1/(pi*(-\\theta/pi + 1)) + (\\theta/pi + 1)/(pi*(-\\theta/pi + 1)**2))/(pi*(\\theta/pi + 1)) - log((\\theta/pi + 1)/(-\\theta/pi + 1))/pi)*(K_I**2*(3*cos(\\theta)**2 + 1) - 4*K_I*K_{II}*sin(2*\\theta) + K_{II}**2*(9 - 5*cos(\\theta)**2))/(5000*(cos(\\theta)**2 + 3)) + ((\\theta/pi + 1)/(-\\theta/pi + 1))**(-\\theta/pi)*(-3*K_I**2*sin(2*\\theta) - 8*K_I*K_{II}*cos(2*\\theta) + 5*K_{II}**2*sin(2*\\theta))/(5000*(cos(\\theta)**2 + 3)) + ((\\theta/pi + 1)/(-\\theta/pi + 1))**(-\\theta/pi)*(K_I**2*(3*cos(\\theta)**2 + 1) - 4*K_I*K_{II}*sin(2*\\theta) + K_{II}**2*(9 - 5*cos(\\theta)**2))*sin(\\theta)*cos(\\theta)/(2500*(cos(\\theta)**2 + 3)**2)"
      ]
     },
     "execution_count": 19,
     "metadata": {},
     "output_type": "execute_result"
    }
   ],
   "source": [
    "b = sp.trigsimp(G_d_the.subs(params_)) \n",
    "g_ = sp.collect(b, theta)\n",
    "g_"
   ]
  },
  {
   "cell_type": "code",
   "execution_count": 20,
   "metadata": {},
   "outputs": [
    {
     "data": {
      "text/latex": [
       "$\\displaystyle \\left\\{\\theta \\mid \\theta \\in \\mathbb{R} \\wedge \\pi \\left(\\pi - \\theta\\right) \\left(\\theta + \\pi\\right) \\left(\\cos^{2}{\\left(\\theta \\right)} + 3\\right) \\left(- 3 K_{I}^{2} \\sin{\\left(2 \\theta \\right)} - 8 K_{I} K_{II} \\cos{\\left(2 \\theta \\right)} + 5 K_{II}^{2} \\sin{\\left(2 \\theta \\right)}\\right) + 2 \\pi \\left(\\pi - \\theta\\right) \\left(\\theta + \\pi\\right) \\left(K_{I}^{2} \\left(3 \\cos^{2}{\\left(\\theta \\right)} + 1\\right) - 4 K_{I} K_{II} \\sin{\\left(2 \\theta \\right)} + K_{II}^{2} \\left(9 - 5 \\cos^{2}{\\left(\\theta \\right)}\\right)\\right) \\sin{\\left(\\theta \\right)} \\cos{\\left(\\theta \\right)} + \\left(- 2 \\pi \\theta - \\left(\\pi - \\theta\\right) \\left(\\theta + \\pi\\right) \\log{\\left(\\frac{\\theta + \\pi}{\\pi - \\theta} \\right)}\\right) \\left(\\cos^{2}{\\left(\\theta \\right)} + 3\\right) \\left(K_{I}^{2} \\left(3 \\cos^{2}{\\left(\\theta \\right)} + 1\\right) - 4 K_{I} K_{II} \\sin{\\left(2 \\theta \\right)} + K_{II}^{2} \\left(9 - 5 \\cos^{2}{\\left(\\theta \\right)}\\right)\\right) = 0 \\right\\} \\setminus \\left\\{\\theta \\mid \\theta \\in \\mathbb{R} \\wedge \\left(\\frac{\\theta + \\pi}{\\pi - \\theta}\\right)^{\\frac{\\theta}{\\pi}} \\left(\\pi - \\theta\\right) \\left(\\theta + \\pi\\right) \\left(\\cos^{2}{\\left(\\theta \\right)} + 3\\right)^{2} = 0 \\right\\}$"
      ],
      "text/plain": [
       "Complement(ConditionSet(\\theta, Eq(pi*(pi - \\theta)*(\\theta + pi)*(cos(\\theta)**2 + 3)*(-3*K_I**2*sin(2*\\theta) - 8*K_I*K_{II}*cos(2*\\theta) + 5*K_{II}**2*sin(2*\\theta)) + 2*pi*(pi - \\theta)*(\\theta + pi)*(K_I**2*(3*cos(\\theta)**2 + 1) - 4*K_I*K_{II}*sin(2*\\theta) + K_{II}**2*(9 - 5*cos(\\theta)**2))*sin(\\theta)*cos(\\theta) + (-2*pi*\\theta - (pi - \\theta)*(\\theta + pi)*log((\\theta + pi)/(pi - \\theta)))*(cos(\\theta)**2 + 3)*(K_I**2*(3*cos(\\theta)**2 + 1) - 4*K_I*K_{II}*sin(2*\\theta) + K_{II}**2*(9 - 5*cos(\\theta)**2)), 0), Reals), ConditionSet(\\theta, Eq(((\\theta + pi)/(pi - \\theta))**(\\theta/pi)*(pi - \\theta)*(\\theta + pi)*(cos(\\theta)**2 + 3)**2, 0), Reals))"
      ]
     },
     "execution_count": 20,
     "metadata": {},
     "output_type": "execute_result"
    }
   ],
   "source": [
    "sol_er = sp.solveset(g_, theta, sp.S.Reals)\n",
    "sol_er"
   ]
  },
  {
   "cell_type": "code",
   "execution_count": 21,
   "metadata": {},
   "outputs": [
    {
     "data": {
      "text/latex": [
       "$\\displaystyle - 1.77245385090552 \\sigma \\sqrt{a} \\sin{\\left(\\beta \\right)} \\cos{\\left(\\beta \\right)}$"
      ],
      "text/plain": [
       "-1.77245385090552*\\sigma*sqrt(a)*sin(\\beta)*cos(\\beta)"
      ]
     },
     "execution_count": 21,
     "metadata": {},
     "output_type": "execute_result"
    }
   ],
   "source": [
    "beta = sp.Symbol(r'\\beta', real = True)\n",
    "K_I_ = - sigma * sp.sqrt(np.pi * a) * (sp.sin(beta))**2\n",
    "K_II_ = - sigma * sp.sqrt(np.pi * a) * sp.sin(beta) * sp.cos(beta)\n",
    "K_II_"
   ]
  },
  {
   "cell_type": "code",
   "execution_count": 22,
   "metadata": {},
   "outputs": [
    {
     "data": {
      "text/latex": [
       "$\\displaystyle \\left\\{\\theta \\mid \\theta \\in \\mathbb{R} \\wedge \\pi \\left(\\pi - \\theta\\right) \\left(\\theta + \\pi\\right) \\left(\\cos^{2}{\\left(\\theta \\right)} + 3\\right) \\left(- 9.42477796076938 \\sigma^{2} a \\sin^{4}{\\left(\\beta \\right)} \\sin{\\left(2 \\theta \\right)} - 25.1327412287183 \\sigma^{2} a \\sin^{3}{\\left(\\beta \\right)} \\cos{\\left(\\beta \\right)} \\cos{\\left(2 \\theta \\right)} + 15.707963267949 \\sigma^{2} a \\sin^{2}{\\left(\\beta \\right)} \\sin{\\left(2 \\theta \\right)} \\cos^{2}{\\left(\\beta \\right)}\\right) + 2 \\pi \\left(\\pi - \\theta\\right) \\left(\\theta + \\pi\\right) \\left(3.14159265358979 \\sigma^{2} a \\left(9 - 5 \\cos^{2}{\\left(\\theta \\right)}\\right) \\sin^{2}{\\left(\\beta \\right)} \\cos^{2}{\\left(\\beta \\right)} + 3.14159265358979 \\sigma^{2} a \\left(3 \\cos^{2}{\\left(\\theta \\right)} + 1\\right) \\sin^{4}{\\left(\\beta \\right)} - 12.5663706143592 \\sigma^{2} a \\sin^{3}{\\left(\\beta \\right)} \\sin{\\left(2 \\theta \\right)} \\cos{\\left(\\beta \\right)}\\right) \\sin{\\left(\\theta \\right)} \\cos{\\left(\\theta \\right)} + \\left(- 2 \\pi \\theta - \\left(\\pi - \\theta\\right) \\left(\\theta + \\pi\\right) \\log{\\left(\\frac{\\theta + \\pi}{\\pi - \\theta} \\right)}\\right) \\left(\\cos^{2}{\\left(\\theta \\right)} + 3\\right) \\left(3.14159265358979 \\sigma^{2} a \\left(9 - 5 \\cos^{2}{\\left(\\theta \\right)}\\right) \\sin^{2}{\\left(\\beta \\right)} \\cos^{2}{\\left(\\beta \\right)} + 3.14159265358979 \\sigma^{2} a \\left(3 \\cos^{2}{\\left(\\theta \\right)} + 1\\right) \\sin^{4}{\\left(\\beta \\right)} - 12.5663706143592 \\sigma^{2} a \\sin^{3}{\\left(\\beta \\right)} \\sin{\\left(2 \\theta \\right)} \\cos{\\left(\\beta \\right)}\\right) = 0 \\right\\} \\setminus \\left\\{\\theta \\mid \\theta \\in \\mathbb{R} \\wedge \\left(\\frac{\\theta + \\pi}{\\pi - \\theta}\\right)^{\\frac{\\theta}{\\pi}} \\left(\\pi - \\theta\\right) \\left(\\theta + \\pi\\right) \\left(\\cos^{2}{\\left(\\theta \\right)} + 3\\right)^{2} = 0 \\right\\}$"
      ],
      "text/plain": [
       "Complement(ConditionSet(\\theta, Eq(pi*(pi - \\theta)*(\\theta + pi)*(cos(\\theta)**2 + 3)*(-9.42477796076938*\\sigma**2*a*sin(\\beta)**4*sin(2*\\theta) - 25.1327412287183*\\sigma**2*a*sin(\\beta)**3*cos(\\beta)*cos(2*\\theta) + 15.707963267949*\\sigma**2*a*sin(\\beta)**2*sin(2*\\theta)*cos(\\beta)**2) + 2*pi*(pi - \\theta)*(\\theta + pi)*(3.14159265358979*\\sigma**2*a*(9 - 5*cos(\\theta)**2)*sin(\\beta)**2*cos(\\beta)**2 + 3.14159265358979*\\sigma**2*a*(3*cos(\\theta)**2 + 1)*sin(\\beta)**4 - 12.5663706143592*\\sigma**2*a*sin(\\beta)**3*sin(2*\\theta)*cos(\\beta))*sin(\\theta)*cos(\\theta) + (-2*pi*\\theta - (pi - \\theta)*(\\theta + pi)*log((\\theta + pi)/(pi - \\theta)))*(cos(\\theta)**2 + 3)*(3.14159265358979*\\sigma**2*a*(9 - 5*cos(\\theta)**2)*sin(\\beta)**2*cos(\\beta)**2 + 3.14159265358979*\\sigma**2*a*(3*cos(\\theta)**2 + 1)*sin(\\beta)**4 - 12.5663706143592*\\sigma**2*a*sin(\\beta)**3*sin(2*\\theta)*cos(\\beta)), 0), Reals), ConditionSet(\\theta, Eq(((\\theta + pi)/(pi - \\theta))**(\\theta/pi)*(pi - \\theta)*(\\theta + pi)*(cos(\\theta)**2 + 3)**2, 0), Reals))"
      ]
     },
     "execution_count": 22,
     "metadata": {},
     "output_type": "execute_result"
    }
   ],
   "source": [
    "sol_subs_er = sol_er.subs(list(zip([K_I, K_II], [K_I_, K_II_])))\n",
    "sol_subs_er"
   ]
  },
  {
   "cell_type": "code",
   "execution_count": 23,
   "metadata": {},
   "outputs": [
    {
     "data": {
      "text/latex": [
       "$\\displaystyle \\left\\{\\theta \\mid \\theta \\in \\mathbb{R} \\wedge \\pi \\left(\\pi - \\theta\\right) \\left(\\theta + \\pi\\right) \\left(\\cos^{2}{\\left(\\theta \\right)} + 3\\right) \\left(- 311.110412520523 \\sin^{4}{\\left(\\beta \\right)} \\sin{\\left(2 \\theta \\right)} - 829.627766721396 \\sin^{3}{\\left(\\beta \\right)} \\cos{\\left(\\beta \\right)} \\cos{\\left(2 \\theta \\right)} + 518.517354200872 \\sin^{2}{\\left(\\beta \\right)} \\sin{\\left(2 \\theta \\right)} \\cos^{2}{\\left(\\beta \\right)}\\right) + 2 \\pi \\left(\\pi - \\theta\\right) \\left(\\theta + \\pi\\right) \\left(103.703470840174 \\left(9 - 5 \\cos^{2}{\\left(\\theta \\right)}\\right) \\sin^{2}{\\left(\\beta \\right)} \\cos^{2}{\\left(\\beta \\right)} + 103.703470840174 \\left(3 \\cos^{2}{\\left(\\theta \\right)} + 1\\right) \\sin^{4}{\\left(\\beta \\right)} - 414.813883360698 \\sin^{3}{\\left(\\beta \\right)} \\sin{\\left(2 \\theta \\right)} \\cos{\\left(\\beta \\right)}\\right) \\sin{\\left(\\theta \\right)} \\cos{\\left(\\theta \\right)} + \\left(- 2 \\pi \\theta - \\left(\\pi - \\theta\\right) \\left(\\theta + \\pi\\right) \\log{\\left(\\frac{\\theta + \\pi}{\\pi - \\theta} \\right)}\\right) \\left(\\cos^{2}{\\left(\\theta \\right)} + 3\\right) \\left(103.703470840174 \\left(9 - 5 \\cos^{2}{\\left(\\theta \\right)}\\right) \\sin^{2}{\\left(\\beta \\right)} \\cos^{2}{\\left(\\beta \\right)} + 103.703470840174 \\left(3 \\cos^{2}{\\left(\\theta \\right)} + 1\\right) \\sin^{4}{\\left(\\beta \\right)} - 414.813883360698 \\sin^{3}{\\left(\\beta \\right)} \\sin{\\left(2 \\theta \\right)} \\cos{\\left(\\beta \\right)}\\right) = 0 \\right\\} \\setminus \\left\\{\\theta \\mid \\theta \\in \\mathbb{R} \\wedge \\left(\\frac{\\theta + \\pi}{\\pi - \\theta}\\right)^{\\frac{\\theta}{\\pi}} \\left(\\pi - \\theta\\right) \\left(\\theta + \\pi\\right) \\left(\\cos^{2}{\\left(\\theta \\right)} + 3\\right)^{2} = 0 \\right\\}$"
      ],
      "text/plain": [
       "Complement(ConditionSet(\\theta, Eq(pi*(pi - \\theta)*(\\theta + pi)*(cos(\\theta)**2 + 3)*(-311.110412520523*sin(\\beta)**4*sin(2*\\theta) - 829.627766721396*sin(\\beta)**3*cos(\\beta)*cos(2*\\theta) + 518.517354200872*sin(\\beta)**2*sin(2*\\theta)*cos(\\beta)**2) + 2*pi*(pi - \\theta)*(\\theta + pi)*(103.703470840174*(9 - 5*cos(\\theta)**2)*sin(\\beta)**2*cos(\\beta)**2 + 103.703470840174*(3*cos(\\theta)**2 + 1)*sin(\\beta)**4 - 414.813883360698*sin(\\beta)**3*sin(2*\\theta)*cos(\\beta))*sin(\\theta)*cos(\\theta) + (-2*pi*\\theta - (pi - \\theta)*(\\theta + pi)*log((\\theta + pi)/(pi - \\theta)))*(cos(\\theta)**2 + 3)*(103.703470840174*(9 - 5*cos(\\theta)**2)*sin(\\beta)**2*cos(\\beta)**2 + 103.703470840174*(3*cos(\\theta)**2 + 1)*sin(\\beta)**4 - 414.813883360698*sin(\\beta)**3*sin(2*\\theta)*cos(\\beta)), 0), Reals), ConditionSet(\\theta, Eq(((\\theta + pi)/(pi - \\theta))**(\\theta/pi)*(pi - \\theta)*(\\theta + pi)*(cos(\\theta)**2 + 3)**2, 0), Reals))"
      ]
     },
     "execution_count": 23,
     "metadata": {},
     "output_type": "execute_result"
    }
   ],
   "source": [
    "get_sig_the = sp.lambdify((beta, theta), sol_subs_er.subs(params), 'numpy')\n",
    "sol_subs_er.subs(params)"
   ]
  },
  {
   "cell_type": "markdown",
   "metadata": {},
   "source": [
    "### Strain Energy Density\n",
    "The strain energy density can be written as:\n",
    "\\begin{align}\n",
    "S(\\theta) = a_{11}K_I^2 + 2 a_{12}K_I K_{II} + a_{22}K_{II}^2\n",
    "\\end{align}\n",
    "where:\n",
    "\\begin{gather*}\n",
    "a_{11} = \\frac{(\\kappa - cos\\theta)(1 + cos\\theta)}{16 \\pi \\mu} \\\\\n",
    "a_{12} = \\frac{(2 cos\\theta - \\kappa + 1)}{16 \\pi \\mu} \\\\\n",
    "a_{22} = \\frac{(\\kappa + 1)(1 - cos\\theta) + (1 + cos\\theta)(3 cos\\theta -1)}{16 \\pi \\mu}\n",
    "\\end{gather*}\n",
    "and:\n",
    "\\begin{gather*}\n",
    "\\kappa = 3 - 4 \\nu \\\\\n",
    "\\mu = E(2(1+\\nu)) \\\\\n",
    "\\end{gather*}"
   ]
  },
  {
   "cell_type": "code",
   "execution_count": 24,
   "metadata": {},
   "outputs": [
    {
     "data": {
      "text/latex": [
       "$\\displaystyle \\frac{K_{I}^{2} \\left(\\kappa - \\cos{\\left(\\theta \\right)}\\right) \\left(\\cos{\\left(\\theta \\right)} + 1\\right)}{16 \\pi \\mu} + \\frac{K_{I} K_{II} \\left(- \\kappa + 2 \\cos{\\left(\\theta \\right)} + 1\\right) \\sin{\\left(\\theta \\right)}}{8 \\pi \\mu} + \\frac{K_{II}^{2} \\left(\\left(1 - \\cos{\\left(\\theta \\right)}\\right) \\left(\\kappa + 1\\right) + \\left(\\cos{\\left(\\theta \\right)} + 1\\right) \\left(3 \\cos{\\left(\\theta \\right)} - 1\\right)\\right)}{16 \\pi \\mu}$"
      ],
      "text/plain": [
       "K_I**2*(\\kappa - cos(\\theta))*(cos(\\theta) + 1)/(16*pi*\\mu) + K_I*K_{II}*(-\\kappa + 2*cos(\\theta) + 1)*sin(\\theta)/(8*pi*\\mu) + K_{II}**2*((1 - cos(\\theta))*(\\kappa + 1) + (cos(\\theta) + 1)*(3*cos(\\theta) - 1))/(16*pi*\\mu)"
      ]
     },
     "execution_count": 24,
     "metadata": {},
     "output_type": "execute_result"
    }
   ],
   "source": [
    "#mu = E * (2 * (1 + nu))\n",
    "#kappa = 3 - 4 * nu\n",
    "kappa = sp.Symbol(r'\\kappa', real = True)\n",
    "mu = sp.Symbol(r'\\mu', real = True)\n",
    "a_11 = ((kappa - sp.cos(theta))*(1 + sp.cos(theta))) / (16 * sp.pi * mu)\n",
    "a_12 = ((2 * sp.cos(theta) - kappa + 1) * sp.sin(theta)) / (16 * sp.pi * mu)\n",
    "a_22 = ((kappa + 1) * (1 - sp.cos(theta)) + (1 + sp.cos(theta))*(3 * sp.cos(theta) - 1)) / (16 * sp.pi * mu)\n",
    "S_the = a_11 * K_I**2 + 2 * a_12 * K_I * K_II + a_22 * K_II**2\n",
    "S_the"
   ]
  },
  {
   "cell_type": "markdown",
   "metadata": {},
   "source": [
    "The crack initiation angle direction can be obtained as follows:\n",
    "\\begin{gather*}\n",
    "\\frac{\\partial S}{\\partial \\theta} = 0   \n",
    "\\end{gather*}"
   ]
  },
  {
   "cell_type": "code",
   "execution_count": 25,
   "metadata": {},
   "outputs": [
    {
     "data": {
      "text/latex": [
       "$\\displaystyle - \\frac{K_{I}^{2} \\left(\\kappa - \\cos{\\left(\\theta \\right)}\\right) \\sin{\\left(\\theta \\right)}}{16 \\pi \\mu} + \\frac{K_{I}^{2} \\left(\\cos{\\left(\\theta \\right)} + 1\\right) \\sin{\\left(\\theta \\right)}}{16 \\pi \\mu} + \\frac{K_{I} K_{II} \\left(- \\kappa + 2 \\cos{\\left(\\theta \\right)} + 1\\right) \\cos{\\left(\\theta \\right)}}{8 \\pi \\mu} - \\frac{K_{I} K_{II} \\sin^{2}{\\left(\\theta \\right)}}{4 \\pi \\mu} + \\frac{K_{II}^{2} \\left(\\left(\\kappa + 1\\right) \\sin{\\left(\\theta \\right)} - 3 \\left(\\cos{\\left(\\theta \\right)} + 1\\right) \\sin{\\left(\\theta \\right)} - \\left(3 \\cos{\\left(\\theta \\right)} - 1\\right) \\sin{\\left(\\theta \\right)}\\right)}{16 \\pi \\mu}$"
      ],
      "text/plain": [
       "-K_I**2*(\\kappa - cos(\\theta))*sin(\\theta)/(16*pi*\\mu) + K_I**2*(cos(\\theta) + 1)*sin(\\theta)/(16*pi*\\mu) + K_I*K_{II}*(-\\kappa + 2*cos(\\theta) + 1)*cos(\\theta)/(8*pi*\\mu) - K_I*K_{II}*sin(\\theta)**2/(4*pi*\\mu) + K_{II}**2*((\\kappa + 1)*sin(\\theta) - 3*(cos(\\theta) + 1)*sin(\\theta) - (3*cos(\\theta) - 1)*sin(\\theta))/(16*pi*\\mu)"
      ]
     },
     "execution_count": 25,
     "metadata": {},
     "output_type": "execute_result"
    }
   ],
   "source": [
    "diff_S_the = S_the.diff(theta)\n",
    "diff_S_the"
   ]
  },
  {
   "cell_type": "code",
   "execution_count": 26,
   "metadata": {},
   "outputs": [],
   "source": [
    "mat_params = {kappa: 0.2, mu: 0.2}"
   ]
  },
  {
   "cell_type": "code",
   "execution_count": 38,
   "metadata": {},
   "outputs": [
    {
     "data": {
      "text/latex": [
       "$\\displaystyle \\frac{K_{I}^{2} \\left(0.625 \\sin{\\left(\\theta \\right)} \\cos{\\left(\\theta \\right)} + 0.25 \\sin{\\left(\\theta \\right)}\\right) + K_{I} K_{II} \\left(2.5 \\cos^{2}{\\left(\\theta \\right)} + 0.5 \\cos{\\left(\\theta \\right)} - 1.25\\right) + K_{II}^{2} \\left(- 1.875 \\sin{\\left(\\theta \\right)} \\cos{\\left(\\theta \\right)} - 0.25 \\sin{\\left(\\theta \\right)}\\right)}{\\pi}$"
      ],
      "text/plain": [
       "(K_I**2*(0.625*sin(\\theta)*cos(\\theta) + 0.25*sin(\\theta)) + K_I*K_{II}*(2.5*cos(\\theta)**2 + 0.5*cos(\\theta) - 1.25) + K_{II}**2*(-1.875*sin(\\theta)*cos(\\theta) - 0.25*sin(\\theta)))/pi"
      ]
     },
     "execution_count": 38,
     "metadata": {},
     "output_type": "execute_result"
    }
   ],
   "source": [
    "b = sp.trigsimp(diff_S_the.subs(mat_params)) \n",
    "s_ = sp.collect(b, K_I)\n",
    "ss = sp.collect(s_,K_II)\n",
    "se = sp.expand_trig(ss)\n",
    "st = sp.collect(se, theta)\n",
    "st"
   ]
  },
  {
   "cell_type": "code",
   "execution_count": 45,
   "metadata": {},
   "outputs": [
    {
     "data": {
      "text/latex": [
       "$\\displaystyle \\left\\{\\left( \\left\\{\\theta \\mid \\theta \\in \\mathbb{R} \\wedge K_{I}^{2} \\left(0.625 \\cos{\\left(\\theta \\right)} + 0.25\\right) \\sin{\\left(\\theta \\right)} + K_{I} K_{II} \\left(0.5 \\cos{\\left(\\theta \\right)} + 1.25 \\cos{\\left(2 \\theta \\right)}\\right) - K_{II}^{2} \\left(1.875 \\cos{\\left(\\theta \\right)} + 0.25\\right) \\sin{\\left(\\theta \\right)} = 0 \\right\\}\\right)\\right\\}$"
      ],
      "text/plain": [
       "FiniteSet((ConditionSet(\\theta, Eq(K_I**2*(0.625*cos(\\theta) + 0.25)*sin(\\theta) + K_I*K_{II}*(0.5*cos(\\theta) + 1.25*cos(2*\\theta)) - K_{II}**2*(1.875*cos(\\theta) + 0.25)*sin(\\theta), 0), Reals),))"
      ]
     },
     "execution_count": 45,
     "metadata": {},
     "output_type": "execute_result"
    }
   ],
   "source": [
    "from sympy.solvers.solveset import solvify, nonlinsolve\n",
    "theta_val_S = nonlinsolve([st], [theta])\n",
    "theta_val_S"
   ]
  },
  {
   "cell_type": "code",
   "execution_count": 46,
   "metadata": {},
   "outputs": [],
   "source": [
    "#mu = E * (2 * (1 + nu))\n",
    "#kappa = 3 - 4 * nu"
   ]
  },
  {
   "cell_type": "code",
   "execution_count": 48,
   "metadata": {},
   "outputs": [
    {
     "data": {
      "text/latex": [
       "$\\displaystyle - 1.77245385090552 \\sigma \\sqrt{a} \\sin{\\left(\\beta \\right)} \\cos{\\left(\\beta \\right)}$"
      ],
      "text/plain": [
       "-1.77245385090552*\\sigma*sqrt(a)*sin(\\beta)*cos(\\beta)"
      ]
     },
     "execution_count": 48,
     "metadata": {},
     "output_type": "execute_result"
    }
   ],
   "source": [
    "beta = sp.Symbol(r'\\beta', real = True)\n",
    "K_I_ = - sigma * sp.sqrt(np.pi * a) * (sp.sin(beta))**2\n",
    "K_II_ = - sigma * sp.sqrt(np.pi * a) * sp.sin(beta) * sp.cos(beta)\n",
    "K_II_"
   ]
  },
  {
   "cell_type": "code",
   "execution_count": 49,
   "metadata": {},
   "outputs": [
    {
     "data": {
      "text/latex": [
       "$\\displaystyle \\left\\{\\left( \\left\\{\\theta \\mid \\theta \\in \\mathbb{R} \\wedge 3.14159265358979 \\sigma^{2} a \\left(0.5 \\cos{\\left(\\theta \\right)} + 1.25 \\cos{\\left(2 \\theta \\right)}\\right) \\sin^{3}{\\left(\\beta \\right)} \\cos{\\left(\\beta \\right)} + 3.14159265358979 \\sigma^{2} a \\left(0.625 \\cos{\\left(\\theta \\right)} + 0.25\\right) \\sin^{4}{\\left(\\beta \\right)} \\sin{\\left(\\theta \\right)} - 3.14159265358979 \\sigma^{2} a \\left(1.875 \\cos{\\left(\\theta \\right)} + 0.25\\right) \\sin^{2}{\\left(\\beta \\right)} \\sin{\\left(\\theta \\right)} \\cos^{2}{\\left(\\beta \\right)} = 0 \\right\\}\\right)\\right\\}$"
      ],
      "text/plain": [
       "FiniteSet((ConditionSet(\\theta, Eq(3.14159265358979*\\sigma**2*a*(0.5*cos(\\theta) + 1.25*cos(2*\\theta))*sin(\\beta)**3*cos(\\beta) + 3.14159265358979*\\sigma**2*a*(0.625*cos(\\theta) + 0.25)*sin(\\beta)**4*sin(\\theta) - 3.14159265358979*\\sigma**2*a*(1.875*cos(\\theta) + 0.25)*sin(\\beta)**2*sin(\\theta)*cos(\\beta)**2, 0), Reals),))"
      ]
     },
     "execution_count": 49,
     "metadata": {},
     "output_type": "execute_result"
    }
   ],
   "source": [
    "sol_subs_se = theta_val_S.subs(list(zip([K_I, K_II], [K_I_, K_II_])))\n",
    "sol_subs_se"
   ]
  },
  {
   "cell_type": "code",
   "execution_count": 50,
   "metadata": {},
   "outputs": [],
   "source": [
    "params_ = {sigma:1, a:1}"
   ]
  },
  {
   "cell_type": "code",
   "execution_count": 52,
   "metadata": {},
   "outputs": [
    {
     "data": {
      "text/latex": [
       "$\\displaystyle \\left\\{\\left( \\left\\{\\theta \\mid \\theta \\in \\mathbb{R} \\wedge 3.14159265358979 \\left(0.5 \\cos{\\left(\\theta \\right)} + 1.25 \\cos{\\left(2 \\theta \\right)}\\right) \\sin^{3}{\\left(\\beta \\right)} \\cos{\\left(\\beta \\right)} + 3.14159265358979 \\left(0.625 \\cos{\\left(\\theta \\right)} + 0.25\\right) \\sin^{4}{\\left(\\beta \\right)} \\sin{\\left(\\theta \\right)} - 3.14159265358979 \\left(1.875 \\cos{\\left(\\theta \\right)} + 0.25\\right) \\sin^{2}{\\left(\\beta \\right)} \\sin{\\left(\\theta \\right)} \\cos^{2}{\\left(\\beta \\right)} = 0 \\right\\}\\right)\\right\\}$"
      ],
      "text/plain": [
       "FiniteSet((ConditionSet(\\theta, Eq(3.14159265358979*(0.5*cos(\\theta) + 1.25*cos(2*\\theta))*sin(\\beta)**3*cos(\\beta) + 3.14159265358979*(0.625*cos(\\theta) + 0.25)*sin(\\beta)**4*sin(\\theta) - 3.14159265358979*(1.875*cos(\\theta) + 0.25)*sin(\\beta)**2*sin(\\theta)*cos(\\beta)**2, 0), Reals),))"
      ]
     },
     "execution_count": 52,
     "metadata": {},
     "output_type": "execute_result"
    }
   ],
   "source": [
    "get_S_the = sp.lambdify((beta, theta), sol_subs_se.subs(params_), 'numpy')\n",
    "sol_subs_se.subs(params_)"
   ]
  },
  {
   "cell_type": "code",
   "execution_count": null,
   "metadata": {},
   "outputs": [],
   "source": []
  }
 ],
 "metadata": {
  "kernelspec": {
   "display_name": "Python 3",
   "language": "python",
   "name": "python3"
  },
  "language_info": {
   "codemirror_mode": {
    "name": "ipython",
    "version": 3
   },
   "file_extension": ".py",
   "mimetype": "text/x-python",
   "name": "python",
   "nbconvert_exporter": "python",
   "pygments_lexer": "ipython3",
   "version": "3.7.6"
  }
 },
 "nbformat": 4,
 "nbformat_minor": 2
}
