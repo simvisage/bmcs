{
 "cells": [
  {
   "cell_type": "code",
   "execution_count": 2,
   "metadata": {},
   "outputs": [],
   "source": [
    "%matplotlib notebook\n",
    "import matplotlib.pyplot as plt\n",
    "import numpy as np\n",
    "import sympy as sp\n",
    "sp.init_printing()\n",
    "import ipywidgets as ipw"
   ]
  },
  {
   "cell_type": "markdown",
   "metadata": {},
   "source": [
    "# Principal stress directions in FPS"
   ]
  },
  {
   "cell_type": "markdown",
   "metadata": {},
   "source": [
    "The corresponding tensile stress at this position which must be perpendicular to the crack propagation \n",
    "\\begin{align}\n",
    "\\sigma^{fps}_3 = f_t\n",
    "\\end{align}"
   ]
  },
  {
   "cell_type": "markdown",
   "metadata": {},
   "source": [
    "The stresses in the global co-ordinates are expressed as:\n",
    "\\begin{align}\n",
    "\\sigma_{xz} = \n",
    "\\left[\n",
    "\\begin{array}{cc}\n",
    "\\sigma_{xx} & \\tau_{xz} \\\\\n",
    "\\tau_{zx} & \\sigma_{zz}\n",
    "\\end{array}\n",
    "\\right] =\n",
    "\\left[\n",
    "\\begin{array}{cc}\n",
    "\\sigma_{x} & \\tau^\\mathrm{fps} \\\\\n",
    "\\tau^\\mathrm{fps} & \\sigma_{z}\n",
    "\\end{array}\n",
    "\\right]\n",
    "\\end{align}"
   ]
  },
  {
   "cell_type": "markdown",
   "metadata": {},
   "source": [
    "In our case $\\sigma_z = 0$ as the specimen is uniaxially loaded therefore, the stress will be depicted as follows:\n",
    "The stresses in the global co-ordinates are expressed as:\n",
    "\\begin{align}\n",
    "\\sigma_{xz} = \n",
    "\\left[\n",
    "\\begin{array}{cc}\n",
    "\\sigma_{xx} & \\tau_{xz} \\\\\n",
    "\\tau_{zx} & 0\n",
    "\\end{array}\n",
    "\\right] =\n",
    "\\left[\n",
    "\\begin{array}{cc}\n",
    "\\sigma_{x} & \\tau^\\mathrm{fps} \\\\\n",
    "\\tau^\\mathrm{fps} & 0\n",
    "\\end{array}\n",
    "\\right]\n",
    "\\end{align} \n",
    "$\\sigma_x, \\tau_{fps}, \\sigma_z$ represents the stress in x-direction, shear stress in fracture process segment and stress in vertical direction respectively."
   ]
  },
  {
   "cell_type": "markdown",
   "metadata": {},
   "source": [
    "<img src=\"farfieldstress.png\" width=\"500\"/>"
   ]
  },
  {
   "cell_type": "code",
   "execution_count": 3,
   "metadata": {},
   "outputs": [
    {
     "data": {
      "image/png": "[encoded data removed]",
      "text/latex": [
       "$\\displaystyle \\tau_\\mathrm{fps}$"
      ],
      "text/plain": [
       "\\tau_\\mathrm{fps}"
      ]
     },
     "execution_count": 3,
     "metadata": {},
     "output_type": "execute_result"
    }
   ],
   "source": [
    "r = sp.Symbol('r', nonnegative = True)\n",
    "theta = sp.Symbol(r'\\theta', nonnegative = True)\n",
    "K_I = sp.Symbol('K_I', nonnegative = True)\n",
    "K_II = sp.Symbol('K_{II}', nonnegative = True)\n",
    "T = sp.Symbol('T', nonnegative = True)\n",
    "sigma_x =  sp.Symbol(r'\\sigma_x', nonnegative = True)\n",
    "sigma_z =  sp.Symbol(r'\\sigma_z', nonnegative = True)\n",
    "tau_fps = sp.Symbol(r'\\tau_\\mathrm{fps}')\n",
    "a = sp.Symbol('a', nonnegative = True)\n",
    "beta = sp.Symbol(r'\\beta', nonnegative = True)\n",
    "tau_fps"
   ]
  },
  {
   "cell_type": "code",
   "execution_count": 4,
   "metadata": {},
   "outputs": [
    {
     "data": {
      "image/png": "[encoded data removed]",
      "text/latex": [
       "$\\displaystyle \\left[\\begin{matrix}\\sigma_x & \\tau_\\mathrm{fps}\\\\\\tau_\\mathrm{fps} & 0\\end{matrix}\\right]$"
      ],
      "text/plain": [
       "⎡     \\sigmaₓ       \\tau_\\mathrm{fps}⎤\n",
       "⎢                                    ⎥\n",
       "⎣\\tau_\\mathrm{fps}          0        ⎦"
      ]
     },
     "execution_count": 4,
     "metadata": {},
     "output_type": "execute_result"
    }
   ],
   "source": [
    "sigma_xz = sp.Matrix([[sigma_x, tau_fps],\n",
    "                     [tau_fps, 0]])\n",
    "#sigma_x0 = sigma_xz.subs(sigma_z,0)\n",
    "sigma_xz#, sigma_x0"
   ]
  },
  {
   "cell_type": "code",
   "execution_count": 5,
   "metadata": {},
   "outputs": [
    {
     "data": {
      "image/png": "[encoded data removed]",
      "text/latex": [
       "$\\displaystyle \\left( \\left[\\begin{matrix}- \\frac{2 \\tau_\\mathrm{fps}}{\\sigma_x + \\sqrt{\\sigma_x^{2} + 4 \\tau_\\mathrm{fps}^{2}}} & - \\frac{2 \\tau_\\mathrm{fps}}{\\sigma_x - \\sqrt{\\sigma_x^{2} + 4 \\tau_\\mathrm{fps}^{2}}}\\\\1 & 1\\end{matrix}\\right], \\  \\left[\\begin{matrix}\\frac{\\sigma_x}{2} - \\frac{\\sqrt{\\sigma_x^{2} + 4 \\tau_\\mathrm{fps}^{2}}}{2} & 0\\\\0 & \\frac{\\sigma_x}{2} + \\frac{\\sqrt{\\sigma_x^{2} + 4 \\tau_\\mathrm{fps}^{2}}}{2}\\end{matrix}\\right]\\right)$"
      ],
      "text/plain": [
       "⎛                                                                             \n",
       "⎜                                                                             \n",
       "⎜⎡            -2⋅\\tau_\\mathrm{fps}                            -2⋅\\tau_\\mathrm{\n",
       "⎜⎢──────────────────────────────────────────────  ────────────────────────────\n",
       "⎜⎢             _________________________________               _______________\n",
       "⎜⎢            ╱        2                      2               ╱        2      \n",
       "⎜⎢\\sigmaₓ + ╲╱  \\sigmaₓ  + 4⋅\\tau_\\mathrm{fps}    \\sigmaₓ - ╲╱  \\sigmaₓ  + 4⋅\\\n",
       "⎜⎢                                                                            \n",
       "⎜⎣                      1                                               1     \n",
       "⎜                                                                             \n",
       "⎝                                                                             \n",
       "\n",
       "                     ⎡             _________________________________          \n",
       "                     ⎢            ╱        2                      2           \n",
       "fps}              ⎤  ⎢\\sigmaₓ   ╲╱  \\sigmaₓ  + 4⋅\\tau_\\mathrm{fps}            \n",
       "──────────────────⎥  ⎢─────── - ────────────────────────────────────          \n",
       "__________________⎥  ⎢   2                       2                            \n",
       "                2 ⎥, ⎢                                                        \n",
       "tau_\\mathrm{fps}  ⎥  ⎢                                                        \n",
       "                  ⎥  ⎢                                                        \n",
       "                  ⎦  ⎢                                                \\sigmaₓ \n",
       "                     ⎢                      0                         ─────── \n",
       "                     ⎣                                                   2    \n",
       "\n",
       "                                      ⎤⎞\n",
       "                                      ⎥⎟\n",
       "                                      ⎥⎟\n",
       "              0                       ⎥⎟\n",
       "                                      ⎥⎟\n",
       "                                      ⎥⎟\n",
       "     _________________________________⎥⎟\n",
       "    ╱        2                      2 ⎥⎟\n",
       "  ╲╱  \\sigmaₓ  + 4⋅\\tau_\\mathrm{fps}  ⎥⎟\n",
       "+ ────────────────────────────────────⎥⎟\n",
       "                   2                  ⎦⎠"
      ]
     },
     "execution_count": 5,
     "metadata": {},
     "output_type": "execute_result"
    }
   ],
   "source": [
    "P_xz, D_xz = sigma_xz.diagonalize()\n",
    "P_xz, D_xz"
   ]
  },
  {
   "cell_type": "code",
   "execution_count": 6,
   "metadata": {},
   "outputs": [
    {
     "data": {
      "image/png": "[encoded data removed]",
      "text/latex": [
       "$\\displaystyle \\left[\\begin{matrix}\\sigma_x & \\tau_\\mathrm{fps}\\\\\\tau_\\mathrm{fps} & 0\\end{matrix}\\right]$"
      ],
      "text/plain": [
       "⎡     \\sigmaₓ       \\tau_\\mathrm{fps}⎤\n",
       "⎢                                    ⎥\n",
       "⎣\\tau_\\mathrm{fps}          0        ⎦"
      ]
     },
     "execution_count": 6,
     "metadata": {},
     "output_type": "execute_result"
    }
   ],
   "source": [
    "sp.simplify(P_xz* D_xz * P_xz**(-1))"
   ]
  },
  {
   "cell_type": "markdown",
   "metadata": {},
   "source": [
    "## Representation of Far field stress in terms of Stress Intensity factors\n",
    "In this implementation, the far field stress is represented in  terms of Stress Intensity factors (SIFs) where $K_I$ represents mode I and $K_{II}$ depicts mode II. This terminology of measuring stresses in SIFs for external stress acting in uniaxial direction is shown as:\n",
    "\\begin{gather*}\n",
    "K_I = \\sigma_x \\sqrt{\\pi a}\\sin^2 \\beta  \\\\\n",
    "K_{II} = \\sigma_x \\sqrt{\\pi a}\\sin\\beta \\cos\\beta  \n",
    "\\end{gather*}\n",
    "The positive sign of $K_I$ highlights stress as tension where negative sign shows compression. Similarly, negative sign of $K_{II}$ represents stress in opposite direction. $\\beta$ represents the angle of crack orientation with respect to the vertical direction and $a$ represents the length of crack as depicted in figure. In the case of pure mode I failure, $\\beta$ is $90°$ whereas for failure along pure mode II $\\beta = 0°$"
   ]
  },
  {
   "cell_type": "markdown",
   "metadata": {},
   "source": [
    "The figure above shows stresses in the vicinity of crack tip. $\\theta$ depicts crack propagation angle and $r$ represents the radius of fracture propagation segment."
   ]
  },
  {
   "cell_type": "code",
   "execution_count": 7,
   "metadata": {},
   "outputs": [
    {
     "data": {
      "image/png": "[encoded data removed]",
      "text/latex": [
       "$\\displaystyle s_{b}$"
      ],
      "text/plain": [
       "s_b"
      ]
     },
     "execution_count": 7,
     "metadata": {},
     "output_type": "execute_result"
    }
   ],
   "source": [
    "s_b, c_b = sp.symbols('s_b, c_b')\n",
    "s_b"
   ]
  },
  {
   "cell_type": "code",
   "execution_count": 8,
   "metadata": {},
   "outputs": [
    {
     "data": {
      "image/png": "[encoded data removed]",
      "text/latex": [
       "$\\displaystyle \\left( \\sqrt{\\pi} \\sigma_x \\sqrt{a} s_{b}^{2}, \\  \\sqrt{\\pi} \\sigma_x \\sqrt{a} c_{b} s_{b}\\right)$"
      ],
      "text/plain": [
       "⎛                 2                       ⎞\n",
       "⎝√π⋅\\sigmaₓ⋅√a⋅s_b , √π⋅\\sigmaₓ⋅√a⋅c_b⋅s_b⎠"
      ]
     },
     "execution_count": 8,
     "metadata": {},
     "output_type": "execute_result"
    }
   ],
   "source": [
    "K_I = sigma_x * sp.sqrt(sp.pi * a) * s_b**2\n",
    "K_II  = sigma_x * sp.sqrt(sp.pi * a) * c_b * s_b\n",
    "K_I, K_II"
   ]
  },
  {
   "cell_type": "code",
   "execution_count": 9,
   "metadata": {},
   "outputs": [
    {
     "data": {
      "image/png": "[encoded data removed]",
      "text/latex": [
       "$\\displaystyle \\left( \\sqrt{\\pi} \\sigma_x \\sqrt{a} s_{b}^{2}, \\  \\sqrt{\\pi} \\sigma_x \\sqrt{a} c_{b} s_{b}\\right)$"
      ],
      "text/plain": [
       "⎛                 2                       ⎞\n",
       "⎝√π⋅\\sigmaₓ⋅√a⋅s_b , √π⋅\\sigmaₓ⋅√a⋅c_b⋅s_b⎠"
      ]
     },
     "execution_count": 9,
     "metadata": {},
     "output_type": "execute_result"
    }
   ],
   "source": [
    "K_I_ = K_I#.subs(params)\n",
    "K_II_ = K_II#.subs(params)\n",
    "K_I_, K_II_"
   ]
  },
  {
   "cell_type": "markdown",
   "metadata": {},
   "source": [
    "## Maximum Stress Theory\n",
    "This theory was given by Sih and Erdogan. It is based on the two dimensional stresses acting on the vicinity of the crack. These stresses are given in the figure below. Moreover, they are represented as:\n",
    "\\begin{align}\n",
    "\\label{eq:sigrr}\n",
    "\\sigma_{rr} &= \\frac{1}{\\sqrt{2 \\pi r}}\\left( K_I \\left( \\cos \\frac{\\theta}{2}\\left(1 + \\sin^2 \\frac{\\theta}{2}\\right)\\right) + K_{II}\\left(\\sin \\frac{\\theta}{2}\\left(1 - \n",
    "3 \\sin^2 \\frac{\\theta}{2} \\right) \\right) \\right) + T \\cos^2 \\theta \n",
    "\\end{align}\n",
    "\\begin{align}\n",
    "\\label{eq:sigtt}\n",
    "\\sigma_{\\theta\\theta} \n",
    "& = \\frac{1}{\\sqrt{2 \\pi r}}\\left( K_I \\left( \\cos^3 \\frac{\\theta}{2} \\right) - K_{II}\\left(3 \\sin \\frac{\\theta}{2} \\cos^2 \\frac{\\theta}{2} \\right) \\right) + T \\sin^2 \\theta\n",
    "\\end{align}\n",
    "\\begin{align}\n",
    "\\label{eq:sigtr}\n",
    "\\sigma_{r\\theta} \n",
    "& = \\frac{1}{\\sqrt{2 \\pi r}}\\left( K_I \\left(\\sin \\frac{\\theta}{2} \\cos^2 \\frac{\\theta}{2} \\right) + K_{II}\\left(\\cos \\frac{\\theta}{2}\\left(1 - 3 \\sin^2 \\frac{\\theta}{2} \\right) \\right) \\right) + T \\sin \\theta \\cos \\theta\n",
    "\\end{align}\n",
    "For simplicity T-Stress is neglected."
   ]
  },
  {
   "cell_type": "code",
   "execution_count": 10,
   "metadata": {},
   "outputs": [],
   "source": [
    "## Representation of sin and cos components as s_t and c_t for simplicity.\n",
    "s_t, c_t = sp.symbols('s_t,c_t')\n",
    "#T_t = sp.Matrix([[c_t, -s_t],[s_t, c_t]])\n",
    "#T_t"
   ]
  },
  {
   "cell_type": "code",
   "execution_count": 11,
   "metadata": {},
   "outputs": [
    {
     "data": {
      "image/png": "[encoded data removed]",
      "text/latex": [
       "$\\displaystyle \\left[\\begin{matrix}c_{t}\\\\s_{t}\\end{matrix}\\right]$"
      ],
      "text/plain": [
       "⎡cₜ⎤\n",
       "⎢  ⎥\n",
       "⎣sₜ⎦"
      ]
     },
     "execution_count": 11,
     "metadata": {},
     "output_type": "execute_result"
    }
   ],
   "source": [
    "cs_theta = sp.Matrix([c_t, s_t])\n",
    "cs_theta"
   ]
  },
  {
   "cell_type": "code",
   "execution_count": 12,
   "metadata": {},
   "outputs": [
    {
     "data": {
      "image/png": "[encoded data removed]",
      "text/latex": [
       "$\\displaystyle \\left[\\begin{matrix}c_{b} & - s_{b}\\\\s_{b} & c_{b}\\end{matrix}\\right]$"
      ],
      "text/plain": [
       "⎡c_b  -s_b⎤\n",
       "⎢         ⎥\n",
       "⎣s_b  c_b ⎦"
      ]
     },
     "execution_count": 12,
     "metadata": {},
     "output_type": "execute_result"
    }
   ],
   "source": [
    "T_t = sp.Matrix([[c_b, -s_b],[s_b, c_b]])\n",
    "T_t"
   ]
  },
  {
   "cell_type": "code",
   "execution_count": 14,
   "metadata": {},
   "outputs": [
    {
     "data": {
      "image/png": "[encoded data removed]",
      "text/latex": [
       "$\\displaystyle \\left[\\begin{matrix}\\cos{\\left(\\beta \\right)}\\\\\\sin{\\left(\\beta \\right)}\\end{matrix}\\right]$"
      ],
      "text/plain": [
       "⎡cos(\\beta)⎤\n",
       "⎢          ⎥\n",
       "⎣sin(\\beta)⎦"
      ]
     },
     "execution_count": 14,
     "metadata": {},
     "output_type": "execute_result"
    }
   ],
   "source": [
    "cs_beta_ = sp.Matrix([sp.cos(beta), sp.sin(beta)])\n",
    "cs_beta_"
   ]
  },
  {
   "cell_type": "code",
   "execution_count": 16,
   "metadata": {},
   "outputs": [
    {
     "data": {
      "image/png": "[encoded data removed]",
      "text/latex": [
       "$\\displaystyle \\sqrt{\\pi} \\sigma_x \\sqrt{a} c_{b} c_{t} s_{b} s_{t} + c_{t} \\left(\\sqrt{\\pi} \\sigma_x \\sqrt{a} c_{b} s_{b} s_{t} + \\sqrt{\\pi} \\sigma_x \\sqrt{a} c_{t} s_{b}^{2}\\right)$"
      ],
      "text/plain": [
       "                                 ⎛                                            \n",
       "√π⋅\\sigmaₓ⋅√a⋅c_b⋅cₜ⋅s_b⋅sₜ + cₜ⋅⎝√π⋅\\sigmaₓ⋅√a⋅c_b⋅s_b⋅sₜ + √π⋅\\sigmaₓ⋅√a⋅cₜ⋅\n",
       "\n",
       "   2⎞\n",
       "s_b ⎠"
      ]
     },
     "execution_count": 16,
     "metadata": {},
     "output_type": "execute_result"
    }
   ],
   "source": [
    "Sigma_tb[0,0]"
   ]
  },
  {
   "cell_type": "code",
   "execution_count": 16,
   "metadata": {},
   "outputs": [
    {
     "data": {
      "image/png": "[encoded data removed]",
      "text/latex": [
       "$\\displaystyle \\frac{\\sqrt{2} \\left(\\sqrt{\\pi} \\sigma_x \\sqrt{a} c_{b} s_{b} s_{t} \\left(1 - 3 s_{t}^{2}\\right) + \\sqrt{\\pi} \\sigma_x \\sqrt{a} c_{t} s_{b}^{2} \\left(s_{t}^{2} + 1\\right)\\right)}{2 \\sqrt{\\pi} \\sqrt{r}}$"
      ],
      "text/plain": [
       "   ⎛                         ⎛        2⎞                       2 ⎛  2    ⎞⎞\n",
       "√2⋅⎝√π⋅\\sigmaₓ⋅√a⋅c_b⋅s_b⋅sₜ⋅⎝1 - 3⋅sₜ ⎠ + √π⋅\\sigmaₓ⋅√a⋅cₜ⋅s_b ⋅⎝sₜ  + 1⎠⎠\n",
       "───────────────────────────────────────────────────────────────────────────\n",
       "                                  2⋅√π⋅√r                                  "
      ]
     },
     "execution_count": 16,
     "metadata": {},
     "output_type": "execute_result"
    }
   ],
   "source": [
    "sigma_rr = 1/sp.sqrt(2 * sp.pi *r) * (K_I_*c_t*(1 + (s_t)**2) \\\n",
    "                                      + (K_II_*s_t)*(1 - 3*(s_t)**2)) #+ T*(c_t)**2\n",
    "#s_rr = sigma_rr.subs(c_t, c_t_).subs(s_t, s_t_)\n",
    "#s_rr\n",
    "sigma_rr"
   ]
  },
  {
   "cell_type": "code",
   "execution_count": 17,
   "metadata": {},
   "outputs": [
    {
     "data": {
      "image/png": "[encoded data removed]",
      "text/latex": [
       "$\\displaystyle \\frac{\\sqrt{2} \\left(- 3 \\sqrt{\\pi} \\sigma_x \\sqrt{a} c_{b} c_{t}^{2} s_{b} s_{t} + \\sqrt{\\pi} \\sigma_x \\sqrt{a} c_{t}^{3} s_{b}^{2}\\right)}{2 \\sqrt{\\pi} \\sqrt{r}}$"
      ],
      "text/plain": [
       "   ⎛                        2                          3    2⎞\n",
       "√2⋅⎝- 3⋅√π⋅\\sigmaₓ⋅√a⋅c_b⋅cₜ ⋅s_b⋅sₜ + √π⋅\\sigmaₓ⋅√a⋅cₜ ⋅s_b ⎠\n",
       "──────────────────────────────────────────────────────────────\n",
       "                           2⋅√π⋅√r                            "
      ]
     },
     "execution_count": 17,
     "metadata": {},
     "output_type": "execute_result"
    }
   ],
   "source": [
    "sigma_tt = 1/sp.sqrt(2 * sp.pi *r) * (K_I_*(c_t)**3 \\\n",
    "                                      - (K_II_*(3*s_t*(c_t)**2))) #+ T*s_t**2\n",
    "#s_tt = sigma_tt.subs(c_t, c_t_).subs(s_t, s_t_)\n",
    "#s_tt\n",
    "sigma_tt"
   ]
  },
  {
   "cell_type": "code",
   "execution_count": 18,
   "metadata": {},
   "outputs": [
    {
     "data": {
      "image/png": "[encoded data removed]",
      "text/latex": [
       "$\\displaystyle \\frac{\\sqrt{2} \\left(\\sqrt{\\pi} \\sigma_x \\sqrt{a} c_{b} c_{t} s_{b} \\left(1 - 3 s_{t}^{2}\\right) + \\sqrt{\\pi} \\sigma_x \\sqrt{a} c_{t}^{2} s_{b}^{2} s_{t}\\right)}{2 \\sqrt{\\pi} \\sqrt{r}}$"
      ],
      "text/plain": [
       "   ⎛                         ⎛        2⎞                   2    2   ⎞\n",
       "√2⋅⎝√π⋅\\sigmaₓ⋅√a⋅c_b⋅cₜ⋅s_b⋅⎝1 - 3⋅sₜ ⎠ + √π⋅\\sigmaₓ⋅√a⋅cₜ ⋅s_b ⋅sₜ⎠\n",
       "─────────────────────────────────────────────────────────────────────\n",
       "                               2⋅√π⋅√r                               "
      ]
     },
     "execution_count": 18,
     "metadata": {},
     "output_type": "execute_result"
    }
   ],
   "source": [
    "sigma_rt = 1/sp.sqrt(2 * sp.pi *r) * ((K_I_*(s_t*(c_t)**2)) \\\n",
    "                                      + ((K_II_*c_t)*(1 - 3*(s_t)**2))) #+ T*s_t*c_t\n",
    "#s_rt = sigma_rt.subs(c_t, c_t_).subs(s_t, s_t_)\n",
    "#s_rt\n",
    "sigma_rt"
   ]
  },
  {
   "cell_type": "code",
   "execution_count": 19,
   "metadata": {},
   "outputs": [
    {
     "data": {
      "image/png": "[encoded data removed]",
      "text/latex": [
       "$\\displaystyle \\left[\\begin{matrix}\\frac{\\sqrt{2} \\left(\\sqrt{\\pi} \\sigma_x \\sqrt{a} c_{b} s_{b} s_{t} \\left(1 - 3 s_{t}^{2}\\right) + \\sqrt{\\pi} \\sigma_x \\sqrt{a} c_{t} s_{b}^{2} \\left(s_{t}^{2} + 1\\right)\\right)}{2 \\sqrt{\\pi} \\sqrt{r}} & \\frac{\\sqrt{2} \\left(\\sqrt{\\pi} \\sigma_x \\sqrt{a} c_{b} c_{t} s_{b} \\left(1 - 3 s_{t}^{2}\\right) + \\sqrt{\\pi} \\sigma_x \\sqrt{a} c_{t}^{2} s_{b}^{2} s_{t}\\right)}{2 \\sqrt{\\pi} \\sqrt{r}}\\\\\\frac{\\sqrt{2} \\left(\\sqrt{\\pi} \\sigma_x \\sqrt{a} c_{b} c_{t} s_{b} \\left(1 - 3 s_{t}^{2}\\right) + \\sqrt{\\pi} \\sigma_x \\sqrt{a} c_{t}^{2} s_{b}^{2} s_{t}\\right)}{2 \\sqrt{\\pi} \\sqrt{r}} & \\frac{\\sqrt{2} \\left(- 3 \\sqrt{\\pi} \\sigma_x \\sqrt{a} c_{b} c_{t}^{2} s_{b} s_{t} + \\sqrt{\\pi} \\sigma_x \\sqrt{a} c_{t}^{3} s_{b}^{2}\\right)}{2 \\sqrt{\\pi} \\sqrt{r}}\\end{matrix}\\right]$"
      ],
      "text/plain": [
       "⎡   ⎛                         ⎛        2⎞                       2 ⎛  2    ⎞⎞  \n",
       "⎢√2⋅⎝√π⋅\\sigmaₓ⋅√a⋅c_b⋅s_b⋅sₜ⋅⎝1 - 3⋅sₜ ⎠ + √π⋅\\sigmaₓ⋅√a⋅cₜ⋅s_b ⋅⎝sₜ  + 1⎠⎠  \n",
       "⎢───────────────────────────────────────────────────────────────────────────  \n",
       "⎢                                  2⋅√π⋅√r                                    \n",
       "⎢                                                                             \n",
       "⎢      ⎛                         ⎛        2⎞                   2    2   ⎞     \n",
       "⎢   √2⋅⎝√π⋅\\sigmaₓ⋅√a⋅c_b⋅cₜ⋅s_b⋅⎝1 - 3⋅sₜ ⎠ + √π⋅\\sigmaₓ⋅√a⋅cₜ ⋅s_b ⋅sₜ⎠     \n",
       "⎢   ─────────────────────────────────────────────────────────────────────     \n",
       "⎣                                  2⋅√π⋅√r                                    \n",
       "\n",
       "   ⎛                         ⎛        2⎞                   2    2   ⎞⎤\n",
       "√2⋅⎝√π⋅\\sigmaₓ⋅√a⋅c_b⋅cₜ⋅s_b⋅⎝1 - 3⋅sₜ ⎠ + √π⋅\\sigmaₓ⋅√a⋅cₜ ⋅s_b ⋅sₜ⎠⎥\n",
       "─────────────────────────────────────────────────────────────────────⎥\n",
       "                               2⋅√π⋅√r                               ⎥\n",
       "                                                                     ⎥\n",
       "      ⎛                        2                          3    2⎞    ⎥\n",
       "   √2⋅⎝- 3⋅√π⋅\\sigmaₓ⋅√a⋅c_b⋅cₜ ⋅s_b⋅sₜ + √π⋅\\sigmaₓ⋅√a⋅cₜ ⋅s_b ⎠    ⎥\n",
       "   ──────────────────────────────────────────────────────────────    ⎥\n",
       "                              2⋅√π⋅√r                                ⎦"
      ]
     },
     "execution_count": 19,
     "metadata": {},
     "output_type": "execute_result"
    }
   ],
   "source": [
    "sigma = sp.Matrix([[sigma_rr, sigma_rt],\n",
    "                     [sigma_rt, sigma_tt]])\n",
    "sigma"
   ]
  },
  {
   "cell_type": "code",
   "execution_count": 20,
   "metadata": {},
   "outputs": [
    {
     "data": {
      "image/png": "[encoded data removed]",
      "text/latex": [
       "$\\displaystyle \\left[\\begin{matrix}\\frac{\\sqrt{2} \\sigma_x \\sqrt{a} s_{b} \\left(- c_{b} s_{t} \\left(3 s_{t}^{2} - 1\\right) + c_{t} s_{b} \\left(s_{t}^{2} + 1\\right)\\right)}{2 \\sqrt{r}} & \\frac{\\sqrt{2} \\sigma_x \\sqrt{a} c_{t} s_{b} \\left(- c_{b} \\left(3 s_{t}^{2} - 1\\right) + c_{t} s_{b} s_{t}\\right)}{2 \\sqrt{r}}\\\\\\frac{\\sqrt{2} \\sigma_x \\sqrt{a} c_{t} s_{b} \\left(- c_{b} \\left(3 s_{t}^{2} - 1\\right) + c_{t} s_{b} s_{t}\\right)}{2 \\sqrt{r}} & \\frac{\\sqrt{2} \\sigma_x \\sqrt{a} c_{t}^{2} s_{b} \\left(- 3 c_{b} s_{t} + c_{t} s_{b}\\right)}{2 \\sqrt{r}}\\end{matrix}\\right]$"
      ],
      "text/plain": [
       "⎡                  ⎛         ⎛    2    ⎞          ⎛  2    ⎞⎞                  \n",
       "⎢√2⋅\\sigmaₓ⋅√a⋅s_b⋅⎝- c_b⋅sₜ⋅⎝3⋅sₜ  - 1⎠ + cₜ⋅s_b⋅⎝sₜ  + 1⎠⎠  √2⋅\\sigmaₓ⋅√a⋅cₜ\n",
       "⎢───────────────────────────────────────────────────────────  ────────────────\n",
       "⎢                            2⋅√r                                             \n",
       "⎢                                                                             \n",
       "⎢                        ⎛      ⎛    2    ⎞            ⎞                      \n",
       "⎢   √2⋅\\sigmaₓ⋅√a⋅cₜ⋅s_b⋅⎝- c_b⋅⎝3⋅sₜ  - 1⎠ + cₜ⋅s_b⋅sₜ⎠           √2⋅\\sigmaₓ⋅\n",
       "⎢   ────────────────────────────────────────────────────           ───────────\n",
       "⎣                           2⋅√r                                              \n",
       "\n",
       "     ⎛      ⎛    2    ⎞            ⎞⎤\n",
       "⋅s_b⋅⎝- c_b⋅⎝3⋅sₜ  - 1⎠ + cₜ⋅s_b⋅sₜ⎠⎥\n",
       "────────────────────────────────────⎥\n",
       "        2⋅√r                        ⎥\n",
       "                                    ⎥\n",
       "     2                              ⎥\n",
       "√a⋅cₜ ⋅s_b⋅(-3⋅c_b⋅sₜ + cₜ⋅s_b)     ⎥\n",
       "───────────────────────────────     ⎥\n",
       "        2⋅√r                        ⎦"
      ]
     },
     "execution_count": 20,
     "metadata": {},
     "output_type": "execute_result"
    }
   ],
   "source": [
    "sigma_ = sp.simplify(sigma)\n",
    "sigma_"
   ]
  },
  {
   "cell_type": "code",
   "execution_count": 22,
   "metadata": {},
   "outputs": [
    {
     "data": {
      "image/png": "[encoded data removed]",
      "text/latex": [
       "$\\displaystyle \\left[\\begin{matrix}- \\frac{\\sqrt{2} \\sigma_x \\sqrt{a} s_{b} \\left(3 c_{b}^{3} s_{t}^{3} - c_{b}^{3} s_{t} + 5 c_{b}^{2} c_{t} s_{b} s_{t}^{2} - 3 c_{b}^{2} c_{t} s_{b} + c_{b} c_{t}^{2} s_{b}^{2} s_{t} - c_{t}^{3} s_{b}^{3}\\right)}{2 \\sqrt{r}} & \\frac{\\sqrt{2} \\sigma_x \\sqrt{a} s_{b} \\left(- c_{b} c_{t} \\left(c_{b} \\left(c_{b} \\left(3 s_{t}^{2} - 1\\right) - c_{t} s_{b} s_{t}\\right) + c_{t} s_{b} \\left(3 c_{b} s_{t} - c_{t} s_{b}\\right)\\right) + s_{b} \\left(c_{b} \\left(c_{b} s_{t} \\left(3 s_{t}^{2} - 1\\right) - c_{t} s_{b} \\left(s_{t}^{2} + 1\\right)\\right) + c_{t} s_{b} \\left(c_{b} \\left(3 s_{t}^{2} - 1\\right) - c_{t} s_{b} s_{t}\\right)\\right)\\right)}{2 \\sqrt{r}}\\\\- \\frac{\\sqrt{2} \\sigma_x \\sqrt{a} s_{b} \\left(c_{b} \\left(c_{b} c_{t} \\left(c_{b} \\left(3 s_{t}^{2} - 1\\right) - c_{t} s_{b} s_{t}\\right) - s_{b} \\left(c_{b} s_{t} \\left(3 s_{t}^{2} - 1\\right) - c_{t} s_{b} \\left(s_{t}^{2} + 1\\right)\\right)\\right) + c_{t} s_{b} \\left(c_{b} c_{t} \\left(3 c_{b} s_{t} - c_{t} s_{b}\\right) - s_{b} \\left(c_{b} \\left(3 s_{t}^{2} - 1\\right) - c_{t} s_{b} s_{t}\\right)\\right)\\right)}{2 \\sqrt{r}} & \\frac{\\sqrt{2} \\sigma_x \\sqrt{a} s_{b} \\left(- c_{b} c_{t} \\left(c_{b} c_{t} \\left(3 c_{b} s_{t} - c_{t} s_{b}\\right) - s_{b} \\left(c_{b} \\left(3 s_{t}^{2} - 1\\right) - c_{t} s_{b} s_{t}\\right)\\right) + s_{b} \\left(c_{b} c_{t} \\left(c_{b} \\left(3 s_{t}^{2} - 1\\right) - c_{t} s_{b} s_{t}\\right) - s_{b} \\left(c_{b} s_{t} \\left(3 s_{t}^{2} - 1\\right) - c_{t} s_{b} \\left(s_{t}^{2} + 1\\right)\\right)\\right)\\right)}{2 \\sqrt{r}}\\end{matrix}\\right]$"
      ],
      "text/plain": [
       "⎡                                                         ⎛     3   3      3  \n",
       "⎢                                      -√2⋅\\sigmaₓ⋅√a⋅s_b⋅⎝3⋅c_b ⋅sₜ  - c_b ⋅s\n",
       "⎢                                      ───────────────────────────────────────\n",
       "⎢                                                                             \n",
       "⎢                                                                             \n",
       "⎢                   ⎛    ⎛       ⎛    ⎛    2    ⎞            ⎞       ⎛       ⎛\n",
       "⎢-√2⋅\\sigmaₓ⋅√a⋅s_b⋅⎝c_b⋅⎝c_b⋅cₜ⋅⎝c_b⋅⎝3⋅sₜ  - 1⎠ - cₜ⋅s_b⋅sₜ⎠ - s_b⋅⎝c_b⋅sₜ⋅⎝\n",
       "⎢─────────────────────────────────────────────────────────────────────────────\n",
       "⎣                                                                             \n",
       "\n",
       "         2          2        2                2    2        3    3⎞           \n",
       "ₜ + 5⋅c_b ⋅cₜ⋅s_b⋅sₜ  - 3⋅c_b ⋅cₜ⋅s_b + c_b⋅cₜ ⋅s_b ⋅sₜ - cₜ ⋅s_b ⎠           \n",
       "────────────────────────────────────────────────────────────────────          \n",
       "             2⋅√r                                                             \n",
       "                                                                              \n",
       "    2    ⎞          ⎛  2    ⎞⎞⎞          ⎛                                 ⎛  \n",
       "3⋅sₜ  - 1⎠ - cₜ⋅s_b⋅⎝sₜ  + 1⎠⎠⎠ + cₜ⋅s_b⋅⎝c_b⋅cₜ⋅(3⋅c_b⋅sₜ - cₜ⋅s_b) - s_b⋅⎝c_\n",
       "──────────────────────────────────────────────────────────────────────────────\n",
       "             2⋅√r                                                             \n",
       "\n",
       "                                                 ⎛         ⎛    ⎛    ⎛    2   \n",
       "                               √2⋅\\sigmaₓ⋅√a⋅s_b⋅⎝- c_b⋅cₜ⋅⎝c_b⋅⎝c_b⋅⎝3⋅sₜ  - \n",
       "                               ───────────────────────────────────────────────\n",
       "                                                                              \n",
       "                                                                              \n",
       "  ⎛    2    ⎞            ⎞⎞⎞                     ⎛         ⎛                  \n",
       "b⋅⎝3⋅sₜ  - 1⎠ - cₜ⋅s_b⋅sₜ⎠⎠⎠   √2⋅\\sigmaₓ⋅√a⋅s_b⋅⎝- c_b⋅cₜ⋅⎝c_b⋅cₜ⋅(3⋅c_b⋅sₜ -\n",
       "─────────────────────────────  ───────────────────────────────────────────────\n",
       "                                                                              \n",
       "\n",
       " ⎞            ⎞                             ⎞       ⎛    ⎛       ⎛    2    ⎞  \n",
       "1⎠ - cₜ⋅s_b⋅sₜ⎠ + cₜ⋅s_b⋅(3⋅c_b⋅sₜ - cₜ⋅s_b)⎠ + s_b⋅⎝c_b⋅⎝c_b⋅sₜ⋅⎝3⋅sₜ  - 1⎠ -\n",
       "──────────────────────────────────────────────────────────────────────────────\n",
       "                                           2⋅√r                               \n",
       "                                                                              \n",
       "               ⎛    ⎛    2    ⎞            ⎞⎞       ⎛       ⎛    ⎛    2    ⎞  \n",
       " cₜ⋅s_b) - s_b⋅⎝c_b⋅⎝3⋅sₜ  - 1⎠ - cₜ⋅s_b⋅sₜ⎠⎠ + s_b⋅⎝c_b⋅cₜ⋅⎝c_b⋅⎝3⋅sₜ  - 1⎠ -\n",
       "──────────────────────────────────────────────────────────────────────────────\n",
       "                                           2⋅√r                               \n",
       "\n",
       "        ⎛  2    ⎞⎞          ⎛    ⎛    2    ⎞            ⎞⎞⎞⎤\n",
       " cₜ⋅s_b⋅⎝sₜ  + 1⎠⎠ + cₜ⋅s_b⋅⎝c_b⋅⎝3⋅sₜ  - 1⎠ - cₜ⋅s_b⋅sₜ⎠⎠⎠⎥\n",
       "───────────────────────────────────────────────────────────⎥\n",
       "                                                           ⎥\n",
       "                                                           ⎥\n",
       "          ⎞       ⎛       ⎛    2    ⎞          ⎛  2    ⎞⎞⎞⎞⎥\n",
       " cₜ⋅s_b⋅sₜ⎠ - s_b⋅⎝c_b⋅sₜ⋅⎝3⋅sₜ  - 1⎠ - cₜ⋅s_b⋅⎝sₜ  + 1⎠⎠⎠⎠⎥\n",
       "───────────────────────────────────────────────────────────⎥\n",
       "                                                           ⎦"
      ]
     },
     "execution_count": 22,
     "metadata": {},
     "output_type": "execute_result"
    }
   ],
   "source": [
    "Sigma_tb = T_t.T * sigma_ * T_t\n",
    "Sig_tb = sp.simplify(Sigma_tb)\n",
    "Sig_tb"
   ]
  },
  {
   "cell_type": "code",
   "execution_count": 25,
   "metadata": {},
   "outputs": [
    {
     "data": {
      "image/png": "[encoded data removed]",
      "text/latex": [
       "$\\displaystyle \\left[\\begin{matrix}- \\frac{\\sqrt{2} \\sigma_x \\sqrt{a} \\left(9 c_{b}^{2} s_{t}^{3} - 3 c_{b}^{2} s_{t} + 20 c_{b} c_{t} s_{b} s_{t}^{2} - 12 c_{b} c_{t} s_{b} + 3 c_{t}^{2} s_{b}^{2} s_{t}\\right)}{2 \\sqrt{r}} & - \\frac{\\sqrt{2} \\sigma_x \\sqrt{a} \\left(9 c_{b}^{2} c_{t} s_{t}^{2} - 3 c_{b}^{2} c_{t} + 8 c_{b} c_{t}^{2} s_{b} s_{t} - 12 c_{b} s_{b} s_{t}^{3} + 4 c_{b} s_{b} s_{t} - 3 c_{t}^{3} s_{b}^{2} - 6 c_{t} s_{b}^{2} s_{t}^{2} + 6 c_{t} s_{b}^{2}\\right)}{2 \\sqrt{r}}\\\\- \\frac{\\sqrt{2} \\sigma_x \\sqrt{a} \\left(9 c_{b}^{2} c_{t} s_{t}^{2} - 3 c_{b}^{2} c_{t} + 8 c_{b} c_{t}^{2} s_{b} s_{t} - 12 c_{b} s_{b} s_{t}^{3} + 4 c_{b} s_{b} s_{t} - 3 c_{t}^{3} s_{b}^{2} - 6 c_{t} s_{b}^{2} s_{t}^{2} + 6 c_{t} s_{b}^{2}\\right)}{2 \\sqrt{r}} & - \\frac{\\sqrt{2} \\sigma_x \\sqrt{a} \\left(9 c_{b}^{2} c_{t}^{2} s_{t} - 4 c_{b} c_{t}^{3} s_{b} - 24 c_{b} c_{t} s_{b} s_{t}^{2} + 8 c_{b} c_{t} s_{b} + 6 c_{t}^{2} s_{b}^{2} s_{t} + 9 s_{b}^{2} s_{t}^{3} - 3 s_{b}^{2} s_{t}\\right)}{2 \\sqrt{r}}\\end{matrix}\\right]$"
      ],
      "text/plain": [
       "⎡                                    ⎛     2   3        2                     \n",
       "⎢                     -√2⋅\\sigmaₓ⋅√a⋅⎝9⋅c_b ⋅sₜ  - 3⋅c_b ⋅sₜ + 20⋅c_b⋅cₜ⋅s_b⋅s\n",
       "⎢                     ────────────────────────────────────────────────────────\n",
       "⎢                                                                 2⋅√r        \n",
       "⎢                                                                             \n",
       "⎢               ⎛     2      2        2              2                       3\n",
       "⎢-√2⋅\\sigmaₓ⋅√a⋅⎝9⋅c_b ⋅cₜ⋅sₜ  - 3⋅c_b ⋅cₜ + 8⋅c_b⋅cₜ ⋅s_b⋅sₜ - 12⋅c_b⋅s_b⋅sₜ \n",
       "⎢─────────────────────────────────────────────────────────────────────────────\n",
       "⎣                                                                  2⋅√r       \n",
       "\n",
       " 2                       2    2   ⎞                                        ⎛  \n",
       "ₜ  - 12⋅c_b⋅cₜ⋅s_b + 3⋅cₜ ⋅s_b ⋅sₜ⎠                         -√2⋅\\sigmaₓ⋅√a⋅⎝9⋅\n",
       "────────────────────────────────────                        ──────────────────\n",
       "                                                                              \n",
       "                                                                              \n",
       "                      3    2           2   2           2⎞                     \n",
       " + 4⋅c_b⋅s_b⋅sₜ - 3⋅cₜ ⋅s_b  - 6⋅cₜ⋅s_b ⋅sₜ  + 6⋅cₜ⋅s_b ⎠         -√2⋅\\sigmaₓ⋅\n",
       "──────────────────────────────────────────────────────────        ────────────\n",
       "                                                                              \n",
       "\n",
       "   2      2        2              2                       3                   \n",
       "c_b ⋅cₜ⋅sₜ  - 3⋅c_b ⋅cₜ + 8⋅c_b⋅cₜ ⋅s_b⋅sₜ - 12⋅c_b⋅s_b⋅sₜ  + 4⋅c_b⋅s_b⋅sₜ - 3\n",
       "──────────────────────────────────────────────────────────────────────────────\n",
       "                                                2⋅√r                          \n",
       "                                                                              \n",
       "   ⎛     2   2              3                       2                      2  \n",
       "√a⋅⎝9⋅c_b ⋅cₜ ⋅sₜ - 4⋅c_b⋅cₜ ⋅s_b - 24⋅c_b⋅cₜ⋅s_b⋅sₜ  + 8⋅c_b⋅cₜ⋅s_b + 6⋅cₜ ⋅s\n",
       "──────────────────────────────────────────────────────────────────────────────\n",
       "                                                2⋅√r                          \n",
       "\n",
       "   3    2           2   2           2⎞ ⎤\n",
       "⋅cₜ ⋅s_b  - 6⋅cₜ⋅s_b ⋅sₜ  + 6⋅cₜ⋅s_b ⎠ ⎥\n",
       "───────────────────────────────────────⎥\n",
       "                                       ⎥\n",
       "                                       ⎥\n",
       "  2           2   3        2   ⎞       ⎥\n",
       "_b ⋅sₜ + 9⋅s_b ⋅sₜ  - 3⋅s_b ⋅sₜ⎠       ⎥\n",
       "─────────────────────────────────      ⎥\n",
       "                                       ⎦"
      ]
     },
     "execution_count": 25,
     "metadata": {},
     "output_type": "execute_result"
    }
   ],
   "source": [
    "dsigma_d_ct = Sig_tb.diff(T_t[0,0])\n",
    "dsigma_d_cs = dsigma_d_ct.diff(T_t[1,0])\n",
    "dsigma_d_cs_ = sp.simplify(dsigma_d_cs)\n",
    "dsigma_d_cs_"
   ]
  },
  {
   "cell_type": "code",
   "execution_count": 26,
   "metadata": {},
   "outputs": [
    {
     "data": {
      "image/png": "[encoded data removed]",
      "text/latex": [
       "$\\displaystyle - \\frac{\\sqrt{2} \\sigma_x \\sqrt{a} \\left(9 c_{b}^{2} c_{t}^{2} s_{t} - 4 c_{b} c_{t}^{3} s_{b} - 24 c_{b} c_{t} s_{b} s_{t}^{2} + 8 c_{b} c_{t} s_{b} + 6 c_{t}^{2} s_{b}^{2} s_{t} + 9 s_{b}^{2} s_{t}^{3} - 3 s_{b}^{2} s_{t}\\right)}{2 \\sqrt{r}}$"
      ],
      "text/plain": [
       "               ⎛     2   2              3                       2             \n",
       "-√2⋅\\sigmaₓ⋅√a⋅⎝9⋅c_b ⋅cₜ ⋅sₜ - 4⋅c_b⋅cₜ ⋅s_b - 24⋅c_b⋅cₜ⋅s_b⋅sₜ  + 8⋅c_b⋅cₜ⋅s\n",
       "──────────────────────────────────────────────────────────────────────────────\n",
       "                                                            2⋅√r              \n",
       "\n",
       "         2    2           2   3        2   ⎞ \n",
       "_b + 6⋅cₜ ⋅s_b ⋅sₜ + 9⋅s_b ⋅sₜ  - 3⋅s_b ⋅sₜ⎠ \n",
       "─────────────────────────────────────────────\n",
       "                                             "
      ]
     },
     "execution_count": 26,
     "metadata": {},
     "output_type": "execute_result"
    }
   ],
   "source": [
    "dsigma_d_cs_[1,1]"
   ]
  },
  {
   "cell_type": "code",
   "execution_count": 28,
   "metadata": {},
   "outputs": [
    {
     "data": {
      "image/png": "[encoded data removed]",
      "text/latex": [
       "$\\displaystyle \\left[\\begin{matrix}\\cos{\\left(\\theta \\right)}\\\\\\sin{\\left(\\theta \\right)}\\end{matrix}\\right]$"
      ],
      "text/plain": [
       "⎡cos(\\theta)⎤\n",
       "⎢           ⎥\n",
       "⎣sin(\\theta)⎦"
      ]
     },
     "execution_count": 28,
     "metadata": {},
     "output_type": "execute_result"
    }
   ],
   "source": [
    "cs_theta_ = sp.Matrix([sp.cos(theta), sp.sin(theta)])\n",
    "cs_theta_"
   ]
  },
  {
   "cell_type": "code",
   "execution_count": 34,
   "metadata": {},
   "outputs": [
    {
     "data": {
      "image/png": "[encoded data removed]",
      "text/latex": [
       "$\\displaystyle - \\frac{\\sqrt{2} \\sigma_x \\sqrt{a} \\left(9 c_{b}^{2} \\sin^{2}{\\left(\\theta \\right)} \\cos{\\left(\\theta \\right)} - 3 c_{b}^{2} \\cos{\\left(\\theta \\right)} - 12 c_{b} s_{b} \\sin^{3}{\\left(\\theta \\right)} + 8 c_{b} s_{b} \\sin{\\left(\\theta \\right)} \\cos^{2}{\\left(\\theta \\right)} + 4 c_{b} s_{b} \\sin{\\left(\\theta \\right)} - 6 s_{b}^{2} \\sin^{2}{\\left(\\theta \\right)} \\cos{\\left(\\theta \\right)} - 3 s_{b}^{2} \\cos^{3}{\\left(\\theta \\right)} + 6 s_{b}^{2} \\cos{\\left(\\theta \\right)}\\right)}{2 \\sqrt{r}}$"
      ],
      "text/plain": [
       "               ⎛     2    2                            2                      \n",
       "-√2⋅\\sigmaₓ⋅√a⋅⎝9⋅c_b ⋅sin (\\theta)⋅cos(\\theta) - 3⋅c_b ⋅cos(\\theta) - 12⋅c_b⋅\n",
       "──────────────────────────────────────────────────────────────────────────────\n",
       "                                                                              \n",
       "\n",
       "       3                                    2                                 \n",
       "s_b⋅sin (\\theta) + 8⋅c_b⋅s_b⋅sin(\\theta)⋅cos (\\theta) + 4⋅c_b⋅s_b⋅sin(\\theta) \n",
       "──────────────────────────────────────────────────────────────────────────────\n",
       "                                     2⋅√r                                     \n",
       "\n",
       "       2    2                            2    3                2            ⎞ \n",
       "- 6⋅s_b ⋅sin (\\theta)⋅cos(\\theta) - 3⋅s_b ⋅cos (\\theta) + 6⋅s_b ⋅cos(\\theta)⎠ \n",
       "──────────────────────────────────────────────────────────────────────────────\n",
       "                                                                              "
      ]
     },
     "execution_count": 34,
     "metadata": {},
     "output_type": "execute_result"
    }
   ],
   "source": [
    "dsigma_d_cs_val = dsigma_d_cs_[1,0].subs(c_t, cs_theta_[0]).subs(s_t, cs_theta_[1])\n",
    "dsigma_d_cs_val"
   ]
  },
  {
   "cell_type": "code",
   "execution_count": 35,
   "metadata": {},
   "outputs": [
    {
     "data": {
      "image/png": "[encoded data removed]",
      "text/latex": [
       "$\\displaystyle - \\frac{\\sqrt{2} \\sigma_x \\sqrt{a} \\left(- 9 c_{b}^{2} \\cos^{3}{\\left(\\theta \\right)} + 6 c_{b}^{2} \\cos{\\left(\\theta \\right)} - 20 c_{b} s_{b} \\sin^{3}{\\left(\\theta \\right)} + 12 c_{b} s_{b} \\sin{\\left(\\theta \\right)} + 3 s_{b}^{2} \\cos^{3}{\\left(\\theta \\right)}\\right)}{2 \\sqrt{r}}$"
      ],
      "text/plain": [
       "               ⎛       2    3                2                             3  \n",
       "-√2⋅\\sigmaₓ⋅√a⋅⎝- 9⋅c_b ⋅cos (\\theta) + 6⋅c_b ⋅cos(\\theta) - 20⋅c_b⋅s_b⋅sin (\\\n",
       "──────────────────────────────────────────────────────────────────────────────\n",
       "                                                                 2⋅√r         \n",
       "\n",
       "                                       2    3        ⎞ \n",
       "theta) + 12⋅c_b⋅s_b⋅sin(\\theta) + 3⋅s_b ⋅cos (\\theta)⎠ \n",
       "───────────────────────────────────────────────────────\n",
       "                                                       "
      ]
     },
     "execution_count": 35,
     "metadata": {},
     "output_type": "execute_result"
    }
   ],
   "source": [
    "d = dsigma_d_cs_val.simplify()\n",
    "d"
   ]
  },
  {
   "cell_type": "code",
   "execution_count": 62,
   "metadata": {},
   "outputs": [
    {
     "data": {
      "image/png": "[encoded data removed]",
      "text/latex": [
       "$\\displaystyle \\left[\\begin{matrix}\\cos{\\left(\\beta \\right)}\\\\\\sin{\\left(\\beta \\right)}\\end{matrix}\\right]$"
      ],
      "text/plain": [
       "⎡cos(\\beta)⎤\n",
       "⎢          ⎥\n",
       "⎣sin(\\beta)⎦"
      ]
     },
     "execution_count": 62,
     "metadata": {},
     "output_type": "execute_result"
    }
   ],
   "source": [
    "cs_beta_ = sp.Matrix([sp.cos(beta), sp.sin(beta)])\n",
    "cs_beta_"
   ]
  },
  {
   "cell_type": "code",
   "execution_count": 37,
   "metadata": {},
   "outputs": [
    {
     "data": {
      "image/png": "[encoded data removed]",
      "text/latex": [
       "$\\displaystyle - \\frac{\\sqrt{2} \\sigma_x \\sqrt{a} \\left(3 \\sin^{2}{\\left(\\beta \\right)} \\cos^{3}{\\left(\\theta \\right)} - 20 \\sin{\\left(\\beta \\right)} \\sin^{3}{\\left(\\theta \\right)} \\cos{\\left(\\beta \\right)} + 12 \\sin{\\left(\\beta \\right)} \\sin{\\left(\\theta \\right)} \\cos{\\left(\\beta \\right)} - 9 \\cos^{2}{\\left(\\beta \\right)} \\cos^{3}{\\left(\\theta \\right)} + 6 \\cos^{2}{\\left(\\beta \\right)} \\cos{\\left(\\theta \\right)}\\right)}{2 \\sqrt{r}}$"
      ],
      "text/plain": [
       "               ⎛     2           3                            3               \n",
       "-√2⋅\\sigmaₓ⋅√a⋅⎝3⋅sin (\\beta)⋅cos (\\theta) - 20⋅sin(\\beta)⋅sin (\\theta)⋅cos(\\b\n",
       "──────────────────────────────────────────────────────────────────────────────\n",
       "                                                                              \n",
       "\n",
       "                                                   2           3              \n",
       "eta) + 12⋅sin(\\beta)⋅sin(\\theta)⋅cos(\\beta) - 9⋅cos (\\beta)⋅cos (\\theta) + 6⋅c\n",
       "──────────────────────────────────────────────────────────────────────────────\n",
       "          2⋅√r                                                                \n",
       "\n",
       "  2                   ⎞ \n",
       "os (\\beta)⋅cos(\\theta)⎠ \n",
       "────────────────────────\n",
       "                        "
      ]
     },
     "execution_count": 37,
     "metadata": {},
     "output_type": "execute_result"
    }
   ],
   "source": [
    "theta_val = d.subs(c_b, cs_beta_[0]).subs(s_b, cs_beta_[1])\n",
    "theta_val"
   ]
  },
  {
   "cell_type": "code",
   "execution_count": 38,
   "metadata": {},
   "outputs": [
    {
     "data": {
      "image/png": "[encoded data removed]",
      "text/latex": [
       "$\\displaystyle \\left[ \\right]$"
      ],
      "text/plain": [
       "[]"
      ]
     },
     "execution_count": 38,
     "metadata": {},
     "output_type": "execute_result"
    }
   ],
   "source": [
    "sp.solve(theta_val, theta)"
   ]
  },
  {
   "cell_type": "code",
   "execution_count": 92,
   "metadata": {},
   "outputs": [
    {
     "data": {
      "text/plain": [
       "<function _lambdifygenerated(Dummy_274)>"
      ]
     },
     "execution_count": 92,
     "metadata": {},
     "output_type": "execute_result"
    }
   ],
   "source": [
    "get_theta = sp.lambdify((beta), theta_val, 'numpy')\n",
    "get_theta"
   ]
  },
  {
   "cell_type": "code",
   "execution_count": 96,
   "metadata": {},
   "outputs": [
    {
     "data": {
      "application/javascript": [
       "/* Put everything inside the global mpl namespace */\n",
       "window.mpl = {};\n",
       "\n",
       "\n",
       "mpl.get_websocket_type = function() {\n",
       "    if (typeof(WebSocket) !== 'undefined') {\n",
       "        return WebSocket;\n",
       "    } else if (typeof(MozWebSocket) !== 'undefined') {\n",
       "        return MozWebSocket;\n",
       "    } else {\n",
       "        alert('Your browser does not have WebSocket support. ' +\n",
       "              'Please try Chrome, Safari or Firefox ≥ 6. ' +\n",
       "              'Firefox 4 and 5 are also supported but you ' +\n",
       "              'have to enable WebSockets in about:config.');\n",
       "    };\n",
       "}\n",
       "\n",
       "mpl.figure = function(figure_id, websocket, ondownload, parent_element) {\n",
       "    this.id = figure_id;\n",
       "\n",
       "    this.ws = websocket;\n",
       "\n",
       "    this.supports_binary = (this.ws.binaryType != undefined);\n",
       "\n",
       "    if (!this.supports_binary) {\n",
       "        var warnings = document.getElementById(\"mpl-warnings\");\n",
       "        if (warnings) {\n",
       "            warnings.style.display = 'block';\n",
       "            warnings.textContent = (\n",
       "                \"This browser does not support binary websocket messages. \" +\n",
       "                    \"Performance may be slow.\");\n",
       "        }\n",
       "    }\n",
       "\n",
       "    this.imageObj = new Image();\n",
       "\n",
       "    this.context = undefined;\n",
       "    this.message = undefined;\n",
       "    this.canvas = undefined;\n",
       "    this.rubberband_canvas = undefined;\n",
       "    this.rubberband_context = undefined;\n",
       "    this.format_dropdown = undefined;\n",
       "\n",
       "    this.image_mode = 'full';\n",
       "\n",
       "    this.root = $('<div/>');\n",
       "    this._root_extra_style(this.root)\n",
       "    this.root.attr('style', 'display: inline-block');\n",
       "\n",
       "    $(parent_element).append(this.root);\n",
       "\n",
       "    this._init_header(this);\n",
       "    this._init_canvas(this);\n",
       "    this._init_toolbar(this);\n",
       "\n",
       "    var fig = this;\n",
       "\n",
       "    this.waiting = false;\n",
       "\n",
       "    this.ws.onopen =  function () {\n",
       "            fig.send_message(\"supports_binary\", {value: fig.supports_binary});\n",
       "            fig.send_message(\"send_image_mode\", {});\n",
       "            if (mpl.ratio != 1) {\n",
       "                fig.send_message(\"set_dpi_ratio\", {'dpi_ratio': mpl.ratio});\n",
       "            }\n",
       "            fig.send_message(\"refresh\", {});\n",
       "        }\n",
       "\n",
       "    this.imageObj.onload = function() {\n",
       "            if (fig.image_mode == 'full') {\n",
       "                // Full images could contain transparency (where diff images\n",
       "                // almost always do), so we need to clear the canvas so that\n",
       "                // there is no ghosting.\n",
       "                fig.context.clearRect(0, 0, fig.canvas.width, fig.canvas.height);\n",
       "            }\n",
       "            fig.context.drawImage(fig.imageObj, 0, 0);\n",
       "        };\n",
       "\n",
       "    this.imageObj.onunload = function() {\n",
       "        fig.ws.close();\n",
       "    }\n",
       "\n",
       "    this.ws.onmessage = this._make_on_message_function(this);\n",
       "\n",
       "    this.ondownload = ondownload;\n",
       "}\n",
       "\n",
       "mpl.figure.prototype._init_header = function() {\n",
       "    var titlebar = $(\n",
       "        '<div class=\"ui-dialog-titlebar ui-widget-header ui-corner-all ' +\n",
       "        'ui-helper-clearfix\"/>');\n",
       "    var titletext = $(\n",
       "        '<div class=\"ui-dialog-title\" style=\"width: 100%; ' +\n",
       "        'text-align: center; padding: 3px;\"/>');\n",
       "    titlebar.append(titletext)\n",
       "    this.root.append(titlebar);\n",
       "    this.header = titletext[0];\n",
       "}\n",
       "\n",
       "\n",
       "\n",
       "mpl.figure.prototype._canvas_extra_style = function(canvas_div) {\n",
       "\n",
       "}\n",
       "\n",
       "\n",
       "mpl.figure.prototype._root_extra_style = function(canvas_div) {\n",
       "\n",
       "}\n",
       "\n",
       "mpl.figure.prototype._init_canvas = function() {\n",
       "    var fig = this;\n",
       "\n",
       "    var canvas_div = $('<div/>');\n",
       "\n",
       "    canvas_div.attr('style', 'position: relative; clear: both; outline: 0');\n",
       "\n",
       "    function canvas_keyboard_event(event) {\n",
       "        return fig.key_event(event, event['data']);\n",
       "    }\n",
       "\n",
       "    canvas_div.keydown('key_press', canvas_keyboard_event);\n",
       "    canvas_div.keyup('key_release', canvas_keyboard_event);\n",
       "    this.canvas_div = canvas_div\n",
       "    this._canvas_extra_style(canvas_div)\n",
       "    this.root.append(canvas_div);\n",
       "\n",
       "    var canvas = $('<canvas/>');\n",
       "    canvas.addClass('mpl-canvas');\n",
       "    canvas.attr('style', \"left: 0; top: 0; z-index: 0; outline: 0\")\n",
       "\n",
       "    this.canvas = canvas[0];\n",
       "    this.context = canvas[0].getContext(\"2d\");\n",
       "\n",
       "    var backingStore = this.context.backingStorePixelRatio ||\n",
       "\tthis.context.webkitBackingStorePixelRatio ||\n",
       "\tthis.context.mozBackingStorePixelRatio ||\n",
       "\tthis.context.msBackingStorePixelRatio ||\n",
       "\tthis.context.oBackingStorePixelRatio ||\n",
       "\tthis.context.backingStorePixelRatio || 1;\n",
       "\n",
       "    mpl.ratio = (window.devicePixelRatio || 1) / backingStore;\n",
       "\n",
       "    var rubberband = $('<canvas/>');\n",
       "    rubberband.attr('style', \"position: absolute; left: 0; top: 0; z-index: 1;\")\n",
       "\n",
       "    var pass_mouse_events = true;\n",
       "\n",
       "    canvas_div.resizable({\n",
       "        start: function(event, ui) {\n",
       "            pass_mouse_events = false;\n",
       "        },\n",
       "        resize: function(event, ui) {\n",
       "            fig.request_resize(ui.size.width, ui.size.height);\n",
       "        },\n",
       "        stop: function(event, ui) {\n",
       "            pass_mouse_events = true;\n",
       "            fig.request_resize(ui.size.width, ui.size.height);\n",
       "        },\n",
       "    });\n",
       "\n",
       "    function mouse_event_fn(event) {\n",
       "        if (pass_mouse_events)\n",
       "            return fig.mouse_event(event, event['data']);\n",
       "    }\n",
       "\n",
       "    rubberband.mousedown('button_press', mouse_event_fn);\n",
       "    rubberband.mouseup('button_release', mouse_event_fn);\n",
       "    // Throttle sequential mouse events to 1 every 20ms.\n",
       "    rubberband.mousemove('motion_notify', mouse_event_fn);\n",
       "\n",
       "    rubberband.mouseenter('figure_enter', mouse_event_fn);\n",
       "    rubberband.mouseleave('figure_leave', mouse_event_fn);\n",
       "\n",
       "    canvas_div.on(\"wheel\", function (event) {\n",
       "        event = event.originalEvent;\n",
       "        event['data'] = 'scroll'\n",
       "        if (event.deltaY < 0) {\n",
       "            event.step = 1;\n",
       "        } else {\n",
       "            event.step = -1;\n",
       "        }\n",
       "        mouse_event_fn(event);\n",
       "    });\n",
       "\n",
       "    canvas_div.append(canvas);\n",
       "    canvas_div.append(rubberband);\n",
       "\n",
       "    this.rubberband = rubberband;\n",
       "    this.rubberband_canvas = rubberband[0];\n",
       "    this.rubberband_context = rubberband[0].getContext(\"2d\");\n",
       "    this.rubberband_context.strokeStyle = \"#000000\";\n",
       "\n",
       "    this._resize_canvas = function(width, height) {\n",
       "        // Keep the size of the canvas, canvas container, and rubber band\n",
       "        // canvas in synch.\n",
       "        canvas_div.css('width', width)\n",
       "        canvas_div.css('height', height)\n",
       "\n",
       "        canvas.attr('width', width * mpl.ratio);\n",
       "        canvas.attr('height', height * mpl.ratio);\n",
       "        canvas.attr('style', 'width: ' + width + 'px; height: ' + height + 'px;');\n",
       "\n",
       "        rubberband.attr('width', width);\n",
       "        rubberband.attr('height', height);\n",
       "    }\n",
       "\n",
       "    // Set the figure to an initial 600x600px, this will subsequently be updated\n",
       "    // upon first draw.\n",
       "    this._resize_canvas(600, 600);\n",
       "\n",
       "    // Disable right mouse context menu.\n",
       "    $(this.rubberband_canvas).bind(\"contextmenu\",function(e){\n",
       "        return false;\n",
       "    });\n",
       "\n",
       "    function set_focus () {\n",
       "        canvas.focus();\n",
       "        canvas_div.focus();\n",
       "    }\n",
       "\n",
       "    window.setTimeout(set_focus, 100);\n",
       "}\n",
       "\n",
       "mpl.figure.prototype._init_toolbar = function() {\n",
       "    var fig = this;\n",
       "\n",
       "    var nav_element = $('<div/>');\n",
       "    nav_element.attr('style', 'width: 100%');\n",
       "    this.root.append(nav_element);\n",
       "\n",
       "    // Define a callback function for later on.\n",
       "    function toolbar_event(event) {\n",
       "        return fig.toolbar_button_onclick(event['data']);\n",
       "    }\n",
       "    function toolbar_mouse_event(event) {\n",
       "        return fig.toolbar_button_onmouseover(event['data']);\n",
       "    }\n",
       "\n",
       "    for(var toolbar_ind in mpl.toolbar_items) {\n",
       "        var name = mpl.toolbar_items[toolbar_ind][0];\n",
       "        var tooltip = mpl.toolbar_items[toolbar_ind][1];\n",
       "        var image = mpl.toolbar_items[toolbar_ind][2];\n",
       "        var method_name = mpl.toolbar_items[toolbar_ind][3];\n",
       "\n",
       "        if (!name) {\n",
       "            // put a spacer in here.\n",
       "            continue;\n",
       "        }\n",
       "        var button = $('<button/>');\n",
       "        button.addClass('ui-button ui-widget ui-state-default ui-corner-all ' +\n",
       "                        'ui-button-icon-only');\n",
       "        button.attr('role', 'button');\n",
       "        button.attr('aria-disabled', 'false');\n",
       "        button.click(method_name, toolbar_event);\n",
       "        button.mouseover(tooltip, toolbar_mouse_event);\n",
       "\n",
       "        var icon_img = $('<span/>');\n",
       "        icon_img.addClass('ui-button-icon-primary ui-icon');\n",
       "        icon_img.addClass(image);\n",
       "        icon_img.addClass('ui-corner-all');\n",
       "\n",
       "        var tooltip_span = $('<span/>');\n",
       "        tooltip_span.addClass('ui-button-text');\n",
       "        tooltip_span.html(tooltip);\n",
       "\n",
       "        button.append(icon_img);\n",
       "        button.append(tooltip_span);\n",
       "\n",
       "        nav_element.append(button);\n",
       "    }\n",
       "\n",
       "    var fmt_picker_span = $('<span/>');\n",
       "\n",
       "    var fmt_picker = $('<select/>');\n",
       "    fmt_picker.addClass('mpl-toolbar-option ui-widget ui-widget-content');\n",
       "    fmt_picker_span.append(fmt_picker);\n",
       "    nav_element.append(fmt_picker_span);\n",
       "    this.format_dropdown = fmt_picker[0];\n",
       "\n",
       "    for (var ind in mpl.extensions) {\n",
       "        var fmt = mpl.extensions[ind];\n",
       "        var option = $(\n",
       "            '<option/>', {selected: fmt === mpl.default_extension}).html(fmt);\n",
       "        fmt_picker.append(option);\n",
       "    }\n",
       "\n",
       "    // Add hover states to the ui-buttons\n",
       "    $( \".ui-button\" ).hover(\n",
       "        function() { $(this).addClass(\"ui-state-hover\");},\n",
       "        function() { $(this).removeClass(\"ui-state-hover\");}\n",
       "    );\n",
       "\n",
       "    var status_bar = $('<span class=\"mpl-message\"/>');\n",
       "    nav_element.append(status_bar);\n",
       "    this.message = status_bar[0];\n",
       "}\n",
       "\n",
       "mpl.figure.prototype.request_resize = function(x_pixels, y_pixels) {\n",
       "    // Request matplotlib to resize the figure. Matplotlib will then trigger a resize in the client,\n",
       "    // which will in turn request a refresh of the image.\n",
       "    this.send_message('resize', {'width': x_pixels, 'height': y_pixels});\n",
       "}\n",
       "\n",
       "mpl.figure.prototype.send_message = function(type, properties) {\n",
       "    properties['type'] = type;\n",
       "    properties['figure_id'] = this.id;\n",
       "    this.ws.send(JSON.stringify(properties));\n",
       "}\n",
       "\n",
       "mpl.figure.prototype.send_draw_message = function() {\n",
       "    if (!this.waiting) {\n",
       "        this.waiting = true;\n",
       "        this.ws.send(JSON.stringify({type: \"draw\", figure_id: this.id}));\n",
       "    }\n",
       "}\n",
       "\n",
       "\n",
       "mpl.figure.prototype.handle_save = function(fig, msg) {\n",
       "    var format_dropdown = fig.format_dropdown;\n",
       "    var format = format_dropdown.options[format_dropdown.selectedIndex].value;\n",
       "    fig.ondownload(fig, format);\n",
       "}\n",
       "\n",
       "\n",
       "mpl.figure.prototype.handle_resize = function(fig, msg) {\n",
       "    var size = msg['size'];\n",
       "    if (size[0] != fig.canvas.width || size[1] != fig.canvas.height) {\n",
       "        fig._resize_canvas(size[0], size[1]);\n",
       "        fig.send_message(\"refresh\", {});\n",
       "    };\n",
       "}\n",
       "\n",
       "mpl.figure.prototype.handle_rubberband = function(fig, msg) {\n",
       "    var x0 = msg['x0'] / mpl.ratio;\n",
       "    var y0 = (fig.canvas.height - msg['y0']) / mpl.ratio;\n",
       "    var x1 = msg['x1'] / mpl.ratio;\n",
       "    var y1 = (fig.canvas.height - msg['y1']) / mpl.ratio;\n",
       "    x0 = Math.floor(x0) + 0.5;\n",
       "    y0 = Math.floor(y0) + 0.5;\n",
       "    x1 = Math.floor(x1) + 0.5;\n",
       "    y1 = Math.floor(y1) + 0.5;\n",
       "    var min_x = Math.min(x0, x1);\n",
       "    var min_y = Math.min(y0, y1);\n",
       "    var width = Math.abs(x1 - x0);\n",
       "    var height = Math.abs(y1 - y0);\n",
       "\n",
       "    fig.rubberband_context.clearRect(\n",
       "        0, 0, fig.canvas.width / mpl.ratio, fig.canvas.height / mpl.ratio);\n",
       "\n",
       "    fig.rubberband_context.strokeRect(min_x, min_y, width, height);\n",
       "}\n",
       "\n",
       "mpl.figure.prototype.handle_figure_label = function(fig, msg) {\n",
       "    // Updates the figure title.\n",
       "    fig.header.textContent = msg['label'];\n",
       "}\n",
       "\n",
       "mpl.figure.prototype.handle_cursor = function(fig, msg) {\n",
       "    var cursor = msg['cursor'];\n",
       "    switch(cursor)\n",
       "    {\n",
       "    case 0:\n",
       "        cursor = 'pointer';\n",
       "        break;\n",
       "    case 1:\n",
       "        cursor = 'default';\n",
       "        break;\n",
       "    case 2:\n",
       "        cursor = 'crosshair';\n",
       "        break;\n",
       "    case 3:\n",
       "        cursor = 'move';\n",
       "        break;\n",
       "    }\n",
       "    fig.rubberband_canvas.style.cursor = cursor;\n",
       "}\n",
       "\n",
       "mpl.figure.prototype.handle_message = function(fig, msg) {\n",
       "    fig.message.textContent = msg['message'];\n",
       "}\n",
       "\n",
       "mpl.figure.prototype.handle_draw = function(fig, msg) {\n",
       "    // Request the server to send over a new figure.\n",
       "    fig.send_draw_message();\n",
       "}\n",
       "\n",
       "mpl.figure.prototype.handle_image_mode = function(fig, msg) {\n",
       "    fig.image_mode = msg['mode'];\n",
       "}\n",
       "\n",
       "mpl.figure.prototype.updated_canvas_event = function() {\n",
       "    // Called whenever the canvas gets updated.\n",
       "    this.send_message(\"ack\", {});\n",
       "}\n",
       "\n",
       "// A function to construct a web socket function for onmessage handling.\n",
       "// Called in the figure constructor.\n",
       "mpl.figure.prototype._make_on_message_function = function(fig) {\n",
       "    return function socket_on_message(evt) {\n",
       "        if (evt.data instanceof Blob) {\n",
       "            /* FIXME: We get \"Resource interpreted as Image but\n",
       "             * transferred with MIME type text/plain:\" errors on\n",
       "             * Chrome.  But how to set the MIME type?  It doesn't seem\n",
       "             * to be part of the websocket stream */\n",
       "            evt.data.type = \"image/png\";\n",
       "\n",
       "            /* Free the memory for the previous frames */\n",
       "            if (fig.imageObj.src) {\n",
       "                (window.URL || window.webkitURL).revokeObjectURL(\n",
       "                    fig.imageObj.src);\n",
       "            }\n",
       "\n",
       "            fig.imageObj.src = (window.URL || window.webkitURL).createObjectURL(\n",
       "                evt.data);\n",
       "            fig.updated_canvas_event();\n",
       "            fig.waiting = false;\n",
       "            return;\n",
       "        }\n",
       "        else if (typeof evt.data === 'string' && evt.data.slice(0, 21) == \"data:image/png;base64\") {\n",
       "            fig.imageObj.src = evt.data;\n",
       "            fig.updated_canvas_event();\n",
       "            fig.waiting = false;\n",
       "            return;\n",
       "        }\n",
       "\n",
       "        var msg = JSON.parse(evt.data);\n",
       "        var msg_type = msg['type'];\n",
       "\n",
       "        // Call the  \"handle_{type}\" callback, which takes\n",
       "        // the figure and JSON message as its only arguments.\n",
       "        try {\n",
       "            var callback = fig[\"handle_\" + msg_type];\n",
       "        } catch (e) {\n",
       "            console.log(\"No handler for the '\" + msg_type + \"' message type: \", msg);\n",
       "            return;\n",
       "        }\n",
       "\n",
       "        if (callback) {\n",
       "            try {\n",
       "                // console.log(\"Handling '\" + msg_type + \"' message: \", msg);\n",
       "                callback(fig, msg);\n",
       "            } catch (e) {\n",
       "                console.log(\"Exception inside the 'handler_\" + msg_type + \"' callback:\", e, e.stack, msg);\n",
       "            }\n",
       "        }\n",
       "    };\n",
       "}\n",
       "\n",
       "// from http://stackoverflow.com/questions/1114465/getting-mouse-location-in-canvas\n",
       "mpl.findpos = function(e) {\n",
       "    //this section is from http://www.quirksmode.org/js/events_properties.html\n",
       "    var targ;\n",
       "    if (!e)\n",
       "        e = window.event;\n",
       "    if (e.target)\n",
       "        targ = e.target;\n",
       "    else if (e.srcElement)\n",
       "        targ = e.srcElement;\n",
       "    if (targ.nodeType == 3) // defeat Safari bug\n",
       "        targ = targ.parentNode;\n",
       "\n",
       "    // jQuery normalizes the pageX and pageY\n",
       "    // pageX,Y are the mouse positions relative to the document\n",
       "    // offset() returns the position of the element relative to the document\n",
       "    var x = e.pageX - $(targ).offset().left;\n",
       "    var y = e.pageY - $(targ).offset().top;\n",
       "\n",
       "    return {\"x\": x, \"y\": y};\n",
       "};\n",
       "\n",
       "/*\n",
       " * return a copy of an object with only non-object keys\n",
       " * we need this to avoid circular references\n",
       " * http://stackoverflow.com/a/24161582/3208463\n",
       " */\n",
       "function simpleKeys (original) {\n",
       "  return Object.keys(original).reduce(function (obj, key) {\n",
       "    if (typeof original[key] !== 'object')\n",
       "        obj[key] = original[key]\n",
       "    return obj;\n",
       "  }, {});\n",
       "}\n",
       "\n",
       "mpl.figure.prototype.mouse_event = function(event, name) {\n",
       "    var canvas_pos = mpl.findpos(event)\n",
       "\n",
       "    if (name === 'button_press')\n",
       "    {\n",
       "        this.canvas.focus();\n",
       "        this.canvas_div.focus();\n",
       "    }\n",
       "\n",
       "    var x = canvas_pos.x * mpl.ratio;\n",
       "    var y = canvas_pos.y * mpl.ratio;\n",
       "\n",
       "    this.send_message(name, {x: x, y: y, button: event.button,\n",
       "                             step: event.step,\n",
       "                             guiEvent: simpleKeys(event)});\n",
       "\n",
       "    /* This prevents the web browser from automatically changing to\n",
       "     * the text insertion cursor when the button is pressed.  We want\n",
       "     * to control all of the cursor setting manually through the\n",
       "     * 'cursor' event from matplotlib */\n",
       "    event.preventDefault();\n",
       "    return false;\n",
       "}\n",
       "\n",
       "mpl.figure.prototype._key_event_extra = function(event, name) {\n",
       "    // Handle any extra behaviour associated with a key event\n",
       "}\n",
       "\n",
       "mpl.figure.prototype.key_event = function(event, name) {\n",
       "\n",
       "    // Prevent repeat events\n",
       "    if (name == 'key_press')\n",
       "    {\n",
       "        if (event.which === this._key)\n",
       "            return;\n",
       "        else\n",
       "            this._key = event.which;\n",
       "    }\n",
       "    if (name == 'key_release')\n",
       "        this._key = null;\n",
       "\n",
       "    var value = '';\n",
       "    if (event.ctrlKey && event.which != 17)\n",
       "        value += \"ctrl+\";\n",
       "    if (event.altKey && event.which != 18)\n",
       "        value += \"alt+\";\n",
       "    if (event.shiftKey && event.which != 16)\n",
       "        value += \"shift+\";\n",
       "\n",
       "    value += 'k';\n",
       "    value += event.which.toString();\n",
       "\n",
       "    this._key_event_extra(event, name);\n",
       "\n",
       "    this.send_message(name, {key: value,\n",
       "                             guiEvent: simpleKeys(event)});\n",
       "    return false;\n",
       "}\n",
       "\n",
       "mpl.figure.prototype.toolbar_button_onclick = function(name) {\n",
       "    if (name == 'download') {\n",
       "        this.handle_save(this, null);\n",
       "    } else {\n",
       "        this.send_message(\"toolbar_button\", {name: name});\n",
       "    }\n",
       "};\n",
       "\n",
       "mpl.figure.prototype.toolbar_button_onmouseover = function(tooltip) {\n",
       "    this.message.textContent = tooltip;\n",
       "};\n",
       "mpl.toolbar_items = [[\"Home\", \"Reset original view\", \"fa fa-home icon-home\", \"home\"], [\"Back\", \"Back to previous view\", \"fa fa-arrow-left icon-arrow-left\", \"back\"], [\"Forward\", \"Forward to next view\", \"fa fa-arrow-right icon-arrow-right\", \"forward\"], [\"\", \"\", \"\", \"\"], [\"Pan\", \"Pan axes with left mouse, zoom with right\", \"fa fa-arrows icon-move\", \"pan\"], [\"Zoom\", \"Zoom to rectangle\", \"fa fa-square-o icon-check-empty\", \"zoom\"], [\"\", \"\", \"\", \"\"], [\"Download\", \"Download plot\", \"fa fa-floppy-o icon-save\", \"download\"]];\n",
       "\n",
       "mpl.extensions = [\"eps\", \"jpeg\", \"pdf\", \"png\", \"ps\", \"raw\", \"svg\", \"tif\"];\n",
       "\n",
       "mpl.default_extension = \"png\";var comm_websocket_adapter = function(comm) {\n",
       "    // Create a \"websocket\"-like object which calls the given IPython comm\n",
       "    // object with the appropriate methods. Currently this is a non binary\n",
       "    // socket, so there is still some room for performance tuning.\n",
       "    var ws = {};\n",
       "\n",
       "    ws.close = function() {\n",
       "        comm.close()\n",
       "    };\n",
       "    ws.send = function(m) {\n",
       "        //console.log('sending', m);\n",
       "        comm.send(m);\n",
       "    };\n",
       "    // Register the callback with on_msg.\n",
       "    comm.on_msg(function(msg) {\n",
       "        //console.log('receiving', msg['content']['data'], msg);\n",
       "        // Pass the mpl event to the overridden (by mpl) onmessage function.\n",
       "        ws.onmessage(msg['content']['data'])\n",
       "    });\n",
       "    return ws;\n",
       "}\n",
       "\n",
       "mpl.mpl_figure_comm = function(comm, msg) {\n",
       "    // This is the function which gets called when the mpl process\n",
       "    // starts-up an IPython Comm through the \"matplotlib\" channel.\n",
       "\n",
       "    var id = msg.content.data.id;\n",
       "    // Get hold of the div created by the display call when the Comm\n",
       "    // socket was opened in Python.\n",
       "    var element = $(\"#\" + id);\n",
       "    var ws_proxy = comm_websocket_adapter(comm)\n",
       "\n",
       "    function ondownload(figure, format) {\n",
       "        window.open(figure.imageObj.src);\n",
       "    }\n",
       "\n",
       "    var fig = new mpl.figure(id, ws_proxy,\n",
       "                           ondownload,\n",
       "                           element.get(0));\n",
       "\n",
       "    // Call onopen now - mpl needs it, as it is assuming we've passed it a real\n",
       "    // web socket which is closed, not our websocket->open comm proxy.\n",
       "    ws_proxy.onopen();\n",
       "\n",
       "    fig.parent_element = element.get(0);\n",
       "    fig.cell_info = mpl.find_output_cell(\"<div id='\" + id + \"'></div>\");\n",
       "    if (!fig.cell_info) {\n",
       "        console.error(\"Failed to find cell for figure\", id, fig);\n",
       "        return;\n",
       "    }\n",
       "\n",
       "    var output_index = fig.cell_info[2]\n",
       "    var cell = fig.cell_info[0];\n",
       "\n",
       "};\n",
       "\n",
       "mpl.figure.prototype.handle_close = function(fig, msg) {\n",
       "    var width = fig.canvas.width/mpl.ratio\n",
       "    fig.root.unbind('remove')\n",
       "\n",
       "    // Update the output cell to use the data from the current canvas.\n",
       "    fig.push_to_output();\n",
       "    var dataURL = fig.canvas.toDataURL();\n",
       "    // Re-enable the keyboard manager in IPython - without this line, in FF,\n",
       "    // the notebook keyboard shortcuts fail.\n",
       "    IPython.keyboard_manager.enable()\n",
       "    $(fig.parent_element).html('<img src=\"' + dataURL + '\" width=\"' + width + '\">');\n",
       "    fig.close_ws(fig, msg);\n",
       "}\n",
       "\n",
       "mpl.figure.prototype.close_ws = function(fig, msg){\n",
       "    fig.send_message('closing', msg);\n",
       "    // fig.ws.close()\n",
       "}\n",
       "\n",
       "mpl.figure.prototype.push_to_output = function(remove_interactive) {\n",
       "    // Turn the data on the canvas into data in the output cell.\n",
       "    var width = this.canvas.width/mpl.ratio\n",
       "    var dataURL = this.canvas.toDataURL();\n",
       "    this.cell_info[1]['text/html'] = '<img src=\"' + dataURL + '\" width=\"' + width + '\">';\n",
       "}\n",
       "\n",
       "mpl.figure.prototype.updated_canvas_event = function() {\n",
       "    // Tell IPython that the notebook contents must change.\n",
       "    IPython.notebook.set_dirty(true);\n",
       "    this.send_message(\"ack\", {});\n",
       "    var fig = this;\n",
       "    // Wait a second, then push the new image to the DOM so\n",
       "    // that it is saved nicely (might be nice to debounce this).\n",
       "    setTimeout(function () { fig.push_to_output() }, 1000);\n",
       "}\n",
       "\n",
       "mpl.figure.prototype._init_toolbar = function() {\n",
       "    var fig = this;\n",
       "\n",
       "    var nav_element = $('<div/>');\n",
       "    nav_element.attr('style', 'width: 100%');\n",
       "    this.root.append(nav_element);\n",
       "\n",
       "    // Define a callback function for later on.\n",
       "    function toolbar_event(event) {\n",
       "        return fig.toolbar_button_onclick(event['data']);\n",
       "    }\n",
       "    function toolbar_mouse_event(event) {\n",
       "        return fig.toolbar_button_onmouseover(event['data']);\n",
       "    }\n",
       "\n",
       "    for(var toolbar_ind in mpl.toolbar_items){\n",
       "        var name = mpl.toolbar_items[toolbar_ind][0];\n",
       "        var tooltip = mpl.toolbar_items[toolbar_ind][1];\n",
       "        var image = mpl.toolbar_items[toolbar_ind][2];\n",
       "        var method_name = mpl.toolbar_items[toolbar_ind][3];\n",
       "\n",
       "        if (!name) { continue; };\n",
       "\n",
       "        var button = $('<button class=\"btn btn-default\" href=\"#\" title=\"' + name + '\"><i class=\"fa ' + image + ' fa-lg\"></i></button>');\n",
       "        button.click(method_name, toolbar_event);\n",
       "        button.mouseover(tooltip, toolbar_mouse_event);\n",
       "        nav_element.append(button);\n",
       "    }\n",
       "\n",
       "    // Add the status bar.\n",
       "    var status_bar = $('<span class=\"mpl-message\" style=\"text-align:right; float: right;\"/>');\n",
       "    nav_element.append(status_bar);\n",
       "    this.message = status_bar[0];\n",
       "\n",
       "    // Add the close button to the window.\n",
       "    var buttongrp = $('<div class=\"btn-group inline pull-right\"></div>');\n",
       "    var button = $('<button class=\"btn btn-mini btn-primary\" href=\"#\" title=\"Stop Interaction\"><i class=\"fa fa-power-off icon-remove icon-large\"></i></button>');\n",
       "    button.click(function (evt) { fig.handle_close(fig, {}); } );\n",
       "    button.mouseover('Stop Interaction', toolbar_mouse_event);\n",
       "    buttongrp.append(button);\n",
       "    var titlebar = this.root.find($('.ui-dialog-titlebar'));\n",
       "    titlebar.prepend(buttongrp);\n",
       "}\n",
       "\n",
       "mpl.figure.prototype._root_extra_style = function(el){\n",
       "    var fig = this\n",
       "    el.on(\"remove\", function(){\n",
       "\tfig.close_ws(fig, {});\n",
       "    });\n",
       "}\n",
       "\n",
       "mpl.figure.prototype._canvas_extra_style = function(el){\n",
       "    // this is important to make the div 'focusable\n",
       "    el.attr('tabindex', 0)\n",
       "    // reach out to IPython and tell the keyboard manager to turn it's self\n",
       "    // off when our div gets focus\n",
       "\n",
       "    // location in version 3\n",
       "    if (IPython.notebook.keyboard_manager) {\n",
       "        IPython.notebook.keyboard_manager.register_events(el);\n",
       "    }\n",
       "    else {\n",
       "        // location in version 2\n",
       "        IPython.keyboard_manager.register_events(el);\n",
       "    }\n",
       "\n",
       "}\n",
       "\n",
       "mpl.figure.prototype._key_event_extra = function(event, name) {\n",
       "    var manager = IPython.notebook.keyboard_manager;\n",
       "    if (!manager)\n",
       "        manager = IPython.keyboard_manager;\n",
       "\n",
       "    // Check for shift+enter\n",
       "    if (event.shiftKey && event.which == 13) {\n",
       "        this.canvas_div.blur();\n",
       "        // select the cell after this one\n",
       "        var index = IPython.notebook.find_cell_index(this.cell_info[0]);\n",
       "        IPython.notebook.select(index + 1);\n",
       "    }\n",
       "}\n",
       "\n",
       "mpl.figure.prototype.handle_save = function(fig, msg) {\n",
       "    fig.ondownload(fig, null);\n",
       "}\n",
       "\n",
       "\n",
       "mpl.find_output_cell = function(html_output) {\n",
       "    // Return the cell and output element which can be found *uniquely* in the notebook.\n",
       "    // Note - this is a bit hacky, but it is done because the \"notebook_saving.Notebook\"\n",
       "    // IPython event is triggered only after the cells have been serialised, which for\n",
       "    // our purposes (turning an active figure into a static one), is too late.\n",
       "    var cells = IPython.notebook.get_cells();\n",
       "    var ncells = cells.length;\n",
       "    for (var i=0; i<ncells; i++) {\n",
       "        var cell = cells[i];\n",
       "        if (cell.cell_type === 'code'){\n",
       "            for (var j=0; j<cell.output_area.outputs.length; j++) {\n",
       "                var data = cell.output_area.outputs[j];\n",
       "                if (data.data) {\n",
       "                    // IPython >= 3 moved mimebundle to data attribute of output\n",
       "                    data = data.data;\n",
       "                }\n",
       "                if (data['text/html'] == html_output) {\n",
       "                    return [cell, data, j];\n",
       "                }\n",
       "            }\n",
       "        }\n",
       "    }\n",
       "}\n",
       "\n",
       "// Register the function which deals with the matplotlib target/channel.\n",
       "// The kernel may be null if the page has been refreshed.\n",
       "if (IPython.notebook.kernel != null) {\n",
       "    IPython.notebook.kernel.comm_manager.register_target('matplotlib', mpl.mpl_figure_comm);\n",
       "}\n"
      ],
      "text/plain": [
       "<IPython.core.display.Javascript object>"
      ]
     },
     "metadata": {},
     "output_type": "display_data"
    },
    {
     "data": {
      "text/html": [
       "<img src=\"data:image/png;base64,iVBORw0KGgoAAAANSUhEUgAABOIAAAJxCAYAAADvpB2RAAAgAElEQVR4XuzdCdgdZXk//m/IQoCwqmCEsKtFBCW4gNg/ili0WjfwV7aWfRUIW4CAIggkQsIaBILRgAVcKtS6VOpCSwU3QEUoFIQIiIBsJuyQ7X/NewR5OVne5bxnzpz5zHVxlfrOPM99f+7p0+u5nTkzbNGiRYviIECAAAECBAgQIECAAAECBAgQIEBgSAWGacQNqa/BCRAgQIAAAQIECBAgQIAAAQIECPQIaMS5EQgQIECAAAECBAgQIECAAAECBAi0QUAjrg3IpiBAgAABAgQIECBAgAABAgQIECCgEeceIECAAAECBAgQIECAAAECBAgQINAGAY24NiCbggABAgQIECBAgAABAgQIECBAgIBGnHuAAAECBAgQIECAAAECBAgQIECAQBsENOLagGwKAgQIECBAgAABAgQIECBAgAABAhpx7gECBAgQIECAAAECBAgQIECAAAECbRDQiGsDsikIECBAgAABAgQIECBAgAABAgQIaMS5BwgQIECAAAECBAgQIECAAAECBAi0QUAjrg3IpiBAgAABAgQIECBAgAABAgQIECCgEeceIECAAAECBAgQIECAAAECBAgQINAGAY24NiCbggABAgQIECBAgAABAgQIECBAgIBGnHuAAAECBAgQIECAAAECBAgQIECAQBsENOLagGwKAgQIECBAgAABAgQIECBAgAABAhpx7gECBAgQIECAAAECBAgQIECAAAECbRDQiGsDsikIECBAgAABAgQIECBAgAABAgQIaMS5BwgQIECAAAECBAgQIECAAAECBAi0QUAjrg3IpiBAgAABAgQIECBAgAABAgQIECCgEeceIECAAAECBAgQIECAAAECBAgQINAGAY24NiCbggABAgQIECBAgAABAgQIECBAgIBGnHuAAAECBAgQIECAAAECBAgQIECAQBsENOLagGwKAgQIECBAgAABAgQIECBAgAABAhpx7gECBAgQIECAAAECBAgQIECAAAECbRDQiGsDsikIECBAgAABAgQIECBAgAABAgQIaMS5BwgQIECAAAECBAgQIECAAAECBAi0QUAjrg3IpiBAgAABAgQIECBAgAABAgQIECCgEeceIECAAAECBAgQIECAAAECBAgQINAGAY24NiCbggABAgQIECBAgAABAgQIECBAgIBGnHuAAAECBAgQIECAAAECBAgQIECAQBsENOLagGwKAgQIECBAgAABAgQIECBAgAABAhpx7gECBAgQIECAAAECBAgQIECAAAECbRDQiGsDsikIECBAgAABAgQIECBAgAABAgQIaMS5BwgQIECAAAECBAgQIECAAAECBAi0QUAjrg3IpiBAgAABAgQIECBAgAABAgQIECCgEeceIECAAAECBAgQIECAAAECBAgQINAGAY24NiCbggABAgQIECBAgAABAgQIECBAgIBGnHuAAAECBAgQIECAAAECBAgQIECAQBsENOLagGwKAgQIECBAgAABAgQIECBAgAABAhpx7gECBAgQIECAAAECBAgQIECAAAECbRDQiGsDsikIECBAgAABAgQIECBAgAABAgQIaMS5BwgQIECAAAECBAgQIECAAAECBAi0QUAjrg3IpiBAgAABAgQIECBAgAABAgQIECCgEeceIECAAAECBAgQIECAAAECBAgQINAGAY24NiCbggABAgQIECBAgAABAgQIECBAgIBGnHuAAAECBAgQIECAAAECBAgQIECAQBsENOLagGwKAgQIECBAgAABAgQIECBAgAABAhpx7gECBAgQIECAAAECBAgQIECAAAECbRDQiGsDsikIECBAgAABAgQIECBAgAABAgQIaMS5BwgQIECAAAECBAgQIECAAAECBAi0QUAjrg3IpiBAgAABAgQIECBAgAABAgQIECCgEeceIECAAAECBAgQIECAAAECBAgQINAGAY24NiCbggABAgQIECBAgAABAgQIECBAgIBGnHuAAAECBAgQIECAAAECBAgQIECAQBsENOLagGwKAgQIECBAgAABAgQIECBAgAABAhpx7gECBAgQIECAAAECBAgQIECAAAECbRDQiGsDsikIECBAgAABAgQIECBAgAABAgQIaMS5BwgQIECAAAECBAgQIECAAAECBAi0QUAjrg3IpiBAgAABAgQIECBAgAABAgQIECCgEeceIECAAAECBAgQIECAAAECBAgQINAGAY24NiCbggABAgQIECBAgAABAgQIECBAgIBGnHuAAAECBAgQIECAAAECBAgQIECAQBsENOLagGwKAgQIECBAgAABAgQIECBAgAABAhpx7gECBAgQIECAAAECBAgQIECAAAECbRDQiGsDsikIECBAgAABAgQIECBAgAABAgQIaMS5BwgQIECAAAECBAgQIECAAAECBAi0QUAjrg3IpiBAgAABAgQIECBAgAABAgQIECCgEeceIECAAAECBAgQIECAAAECBAgQINAGAY24NiCbggABAgQIECBAgAABAgQIECBAgIBGnHuAAAECBAgQIECAAAECBAgQIECAQBsENOLagGwKAgQIECBAgAABAgQIECBAgAABAhpx7gECBAgQIECAAAECBAgQIECAAAECbRDQiGsDsikIECBAgAABAgQIECBAgAABAgQIaMS5B9om8Oijj+Y///M/s/7662eFFVZo27wmIkCAAAECBAgQIECAAAECnSbw7LPP5p577skOO+yQV7/61Z0WnniGSEAjbohgDdsscPnll2f33XdHQ4AAAQIECBAgQIAAAQIECPxF4LLLLstuu+3GoyYCGnE1KXQnpHn99dfn3e9+d4pFZpNNNumEkMRAgAABAgQIECBAgAABAgRKEbj99tt7Hla57rrrss0225QSg0nbL6AR137z2s74q1/9KltuuWVuuummjB8/vrYOEidAgAABAgQIECBAgAABAvbI9bwHNOLqWfdSsrbIlMJuUgIECBAgQIAAAQIECBDoQAF75A4sShtC0ohrA7IpGgIWGXcCAQIECBAgQIAAAQIECBCwR67zPaARV+fqtzl3jbg2g5uOAAECBAgQIECAAAECBDpWwB65Y0szpIFpxA0pr8FfLmCRcT8QIECAAAECBAgQIECAAIGGgD1yPe8Ejbh61r2UrC0ypbCblAABAgQIECBAgAABAgQ6UMAeuQOL0oaQNOLagGwK3X73AAECBAgQIECAAAECBAhUU2DRokWZO3dunnjiicyfPz8LFy5cYiLLLbdcRo8enbXWWivDhw9fasIacdW8HwYbtUbcYAVd32cBi0yfqZxIgAABAgQIECBAgAABAh0gMG/evNx///157rnneqIpmmtFs21Jx4IFC3oadUUzbt11111qM84euQMKXEIIGnEloNd1SotMXSsvbwIECBAgQIAAAQIECFRT4OGHH85jjz2WVVZZJWuuuWZGjhy51ESKp+ceeuihzJkzJ6uuumpe97rXLfF8e+Rq3hODjVojbrCCru+zgEWmz1ROJECAAAECBAgQIECAAIEOEJg9e3aKp+Le8IY3ZNiwYX2KqGjG3XnnnT1Nuw033FAjrk9q9TlJI64+tS49U4240ksgAAIECBAgQIAAAQIECBDoh8Bdd93Vc/bGG2/cj6uSvlxnj9wv0q45WSOua0rZ+YlYZDq/RiIkQIAAAQIECBAgQIAAgb8K9KWhtjivvlxnj1zPO00jrp51LyVri0wp7CYlQIAAAQIECBAgQIAAgQEK9KWhphE3QNyaXqYRV9PCl5G2RlwZ6uYkQIAAAQIECBAgQIAAgYEKaMQNVM51SxLQiHNvtE1AI65t1CYiQIAAAQIECBAgQIAAgRYIaMS1ANEQvQQ04twQbRPQiGsbtYkIECBAgAABAgQIECBAoAUCGnEtQDSERpx7oBwBjbhy3M1KgAABAgQIECBAgAABAgMT0IgbmJurlizgiTh3R9sEqtaIu+22ZPjw5I1vbBuRiQgQIECAAAECBAgQIECggwTuvvvuLFiwIG94wxv6FdWdd96ZESNGZMMNN1zidVXbI/cLwMlLFNCIq9HNceONN+ayyy7LNddck9///vdZaaWVsummm2bSpEnZfvvtX5K45557ssEGGyxWZp999snMmTMHpFalReaZZ5K3vz25557k3HOTffZJhg0bUNouIkCAAAECBAgQIECAAIGKCtx///158sknexpqyy+/fJ+ymDdvXoon6Yo997rrrqsR1ye1+pykEVefWmennXbKtddemx133DHjx4/PU089lVmzZuXWW2/NBRdckIMOOqhH48VG3Ec/+tGea15+bLzxxtlqq60GpFalRlxBcdFFf02zYLj44mT11QeUuosIECBAgAABAgQIECBAoIICTzzxRP74xz9m9OjRed3rXrfMZtzChQvz4IMPprhu7NixWW211TTiKlj3oQxZI24odTts7Ouvvz5ve9vbei0czz77bN761rfmkUceycMPP9zz6OyLjbgTTjghp556asuyqEoj7oUXkn/4h+QHP+id+rhxyeWXJ3/7ty0jMRABAgQIECBAgAABAgQIdLDAokWL8tBDD2XOnDk9UQ4fPjzLLbfcEiMuXmMtmnFF42799dfPsKW8WlWVPXIHl6eSoWnEVbJsrQ36qKOOyllnnZX77rsv48aN69WIK5pxxbHCCisMetIqLTILFyZnnZUcf3wyb95fUy/W24LkxBOTESMGTWIAAgQIECBAgAABAgQIEOhwgaIZV7yeWjzl9vzzz6f435d0FE26MWPGZI011uh50GVpR5X2yB1eokqFpxFXqXINTbC77LJLvvnNb/Z0+It32F98Iq5YPIrXV4ujeCX18MMPz6c+9akBB1HFReamm5Jddkl+97veaW+9dXLFFcn66w+Yw4UECBAgQIAAAQIECBAgUGOBKu6Ra1yulqWuEdcyymoOdPvtt/e8mvrhD384V155ZU8SxZNxe++9dz72sY9lvfXWywMPPNDzgYbiYw9HH310pk6dusxki3fii39efhRz7b777rnpppt6fqOuKkfRi5wwIfnyl3tHvMoqyYwZyc47VyUTcRIgQIAAAQIECBAgQIBApwhoxHVKJdobh0Zce707ara5c+dm66237mmY3XzzzUv9mkvxnvt2222X6667LsVnmDfaaKOl5nLSSSfl5JNPXuw5VWvEvZjEN76R7L9/Mndu77T22COZPj1ZeeWOKq9gCBAgQIAAAQIECBAgQKCDBTTiOrg4QxiaRtwQ4nby0MVHGnbYYYfccMMNufrqq7PtttsuM9zvfOc7+chHPpIZM2Zk/6IjtZSjm56Ie3ma996b7LZbcv31vZMv+pLFq6rveMcyGZ1AgAABAgQIECBAgAABAgSiEVfPm0AjroZ1f+GFF3oaatdcc02uuuqqntdS+3L89re/zVve8pacdtppOb74ikE/j25ZZObPT047Lfnc55Liow4vHsOHJ8VDgMcdV3xJp584TidAgAABAgQIECBAgACBWgl0yx65VkVrQbIacS1ArNIQ8+fPz0477ZTi6bbLL788O/fjB86Kpt2OO+7Y83tx++yzT7/T7rZF5rrrGk/H3Xdfb4q//dvkssuSddftN5ELCBAgQIAAAQIECBAgQKAmAt22R65J2QadpkbcoAmrM8DChQuz66675utf/3ouvvji7LfffosN/vHHH+/51PLLj+JV1m222Sa33npr7r777owbN67fiXfjIjNnTnLQQcnXvtabY9VVGx9y+Md/7DeTCwgQIECAAAECBAgQIECgBgLduEeuQdkGnaJG3KAJqzPAkUcembPPPrvn9+D23XffpsDf//73Z6211sonPvGJPPPMM9lqq62yzjrr9Hw19dJLL83s2bMzZcqUHFe8ezmAo1sXmUWLkssvTw4+OHnyyd4w//zPyfnn+5DDAG4XlxAgQIAAAQIECBAgQKCrBbp1j9zVRWtBchpxLUCsyhDvec97cu211y4x3P/6r/9Kcc6XvvSlnsbbHXfckeLpuDFjxmT8+PGZMGFCz2/LDfTo9kVm9uxk992Tn/2st9CGGzYadVttNVA51xEgQIAAAQIECBAgQIBAtwl0+x652+rVqnw04lolaZxlCtRhkSk+5HDqqckppzR/yOHEE5PiGxcjRiyTygkECBAgQIAAAQIECBAg0OUCddgjd3kJB5SeRtyA2Fw0EIE6LTLXX994Ou6ee3pLbb1140MOxVNyDgIECBAgQIAAAQIECBCor0Cd9sj1rXJz5hpx7oa2CdRtkZk7N/nUpxqvpb78GDMmmT492WOPZNiwtvGbiAABAgQIECBAgAABAgQ6SKBue+QOoi81FI24UvnrNXldF5krrmh8WfWJJ3rXe6edGl9WfcUHaut1U8iWAAECBAgQIECAAAECNRWo6x65puV+KW2NuLrfAW3Mv86LzL33JsUXVP/nf3qDv+51yaWXJttv38ZCmIoAAQIECBAgQIAAAQIESheo8x65dPwSA9CIKxG/blPXfZFZsCCZOjX5zGeS4qMOLz+OPDKZPDlZfvm63RXyJUCAAAECBAgQIECAQD0F6r5HrmfVE424ula+hLwtMg30X/0q2XXX5I47ehdh880bH3LYbLMSimNKAgQIECBAgAABAgQIEGirgD1yW7k7ZjKNuI4pRfcHYpH5a42feSaZODG54ILedR81KpkyJTn88GS55br/npAhAQIECBAgQIAAAQIE6ipgj1zPymvE1bPupWRtkWlm/973kr33Th5+uPffttsuueSSZNy4UkplUgIECBAgQIAAAQIECBAYYgF75CEG7tDhNeI6tDDdGJZFZvFV/dOfkv32S77znd5/X221xhNzu+zSjXeDnAgQIECAAAECBAgQIFBvAXvketZfI66edS8la4vMktkXLUpmzmy8klq8tvryY+edGw251VcvpWwmJUCAAAECBAgQIECAAIEhELBHHgLUCgypEVeBInVLiBaZZVfyrruS3XdPfvGL3ueuvXZy6aXJ+9637DGcQYAAAQIECBAgQIAAAQKdL2CP3Pk1GooINeKGQtWYixWwyPTtxpg/P5k8Ofnc55IFC3pfUzwxV3zMYfTovo3lLAIECBAgQIAAAQIECBDoTAF75M6sy1BHpRE31MLGf0nAItO/m+GXv2w8Hfe73/W+7k1vSv7lX5Lx4/s3nrMJECBAgAABAgQIECBAoHME7JE7pxbtjEQjrp3aNZ/LItP/G+Dpp5OJE5MLL+x97YgRyUknJccemxT/7iBAgAABAgQIECBAgACBagnYI1erXq2KViOuVZLGWaaARWaZREs84T/+I9l776T4wurLj622Sr7yleT1rx/42K4kQIAAAQIECBAgQIAAgfYL2CO337wTZtSI64Qq1CQGi8zgCv3oo8mBByZXXtl7nBVXTKZNa/xt2LDBzeFqAgQIECBAgAABAgQIEGiPgD1ye5w7bRaNuE6rSBfHY5EZfHEXLUouvzw55JBk7tze433gA8mXvpS87nWDn8cIBAgQIECAAAECBAgQIDC0AvbIQ+vbqaNrxHVqZbowLotM64r6hz8ke+6ZXHNN7zHXWKPxe3L/7/+1bi4jESBAgAABAgQIECBAgEDrBeyRW29ahRE14qpQpS6J0SLT2kIuXJhMn54cd1zy3HO9x9555+QLX0iKxpyDAAECBAgQIECAAAECBDpPwB6582rSjog04tqhbI4eAYvM0NwIt9+e/NM/JTfd1Hv8sWMbr6p+8INDM69RCRAgQIAAAQIECBAgQGDgAvbIA7er8pUacVWuXsVit8gMXcHmzUtOOSWZPDlZsKD3PPvtl5x5ZrLyykM3v5EJECBAgAABAgQIECBAoH8C9sj98+qWszXiuqWSFcjDIjP0RfrlL5M99kj+7/96z7XBBskllyT/3/839DGYgQABAgQIECBAgAABAgSWLWCPvGyjbjxDI64bq9qhOVlk2lOYZ59Njj8+Oeec3vMNG5YccURy2mnJ6NHticUsBAgQIECAAAECBAgQILB4AXvket4ZGnH1rHspWVtk2sv+3//d+LLqvff2nneTTZKvfCV529vaG4/ZCBAgQIAAAQIECBAgQOCvAvbI9bwbNOLqWfdSsrbItJ/9iSeSI49sfLTh5cfw4ckJJzT+GTWq/XGZkQABAgQIECBAgAABAnUXsEeu5x2gEVfPupeStUWmFPaeSb/73WTffZM//al3DFtskVx6abLZZuXFZmYCBAgQIECAAAECBAjUUcAeuY5VTzTi6ln3UrK2yJTC/tKkjz2WHHxw8o1v9I5j5Mjk5JOTiROTESPKjdHsBAgQIECAAAECBAgQqIuAPXJdKt07T424eta9lKwtMqWwN0369a83GnKPP977T+94R+PpuL/5m86IUxQECBAgQIAAAQIECBDoZgF75G6u7pJz04irZ91LydoiUwr7Yid96KHkgAOSb3+795+Lr6lOnpxMmJAst1znxCsSAgQIECBAgAABAgQIdJuAPXK3VbRv+WjE9c3JWS0QsMi0ALGFQyxa1Ph6atF0mzu398B/+7fJrFnJRhu1cEJDESBAgAABAgQIECBAgMBLAvbI9bwZNOLqWfdSsrbIlMK+zEnvvz/ZZ5/kBz/ofepKKyWnn54cdJCn45aJ6AQCBAgQIECAAAECBAj0U8AeuZ9gXXK6RlyXFLIKaVhkOrdKxdNxX/xictRRyVNP9Y7zPe9JvvzlZIMNOjd+kREgQIAAAQIECBAgQKBqAvbIVatYa+LViGuNo1H6IGCR6QNSyafcc0+y117Jf/9370CKp+OmTm38rpzfjiu5SKYnQIAAAQIECBAgQKArBOyRu6KM/U5CI67fZC4YqIBFZqBy7b1u4cLkgguSY49Nnnmm99zve1/ypS8l663X3pjMRoAAAQIECBAgQIAAgW4TsEfutor2LR+NuL45OasFAhaZFiC2cYi77248HfeTn/SedMyYZNq0ZP/9k2HD2hiQqQgQIECAAAECBAgQINBFAvbIXVTMfqSiEdcPLKcOTsAiMzi/Mq4uno47//zkuOOSZ5/tHcH735/MnJmsu24ZkZmTAAECBAgQIECAAAEC1RawR652/QYavUbcQOVc128Bi0y/yTrmgt/9rvF03PXX9w5p5ZUbT8ftt5+n4zqmWAIhQIAAAQIECBAgQKASAvbIlShTy4PUiGs5qQGXJGCRqfa9sWBBct55yfHHJ8891zuX7bdvfHV1/fWrnaPoCRAgQIAAAQIECBAg0C4Be+R2SXfWPBpxnVWPro7GItMd5b3jjsbTcT/7We98it+OO+MMX1btjirLggABAgQIECBAgACBoRawRx5q4c4cXyOuM+vSlVFZZLqnrMXTceeem5xwQvPTce99b+PLqhts0D35yoQAAQIECBAgQIAAAQKtFrBHbrVoNcbTiKtGnboiSotMV5SxVxJ33pnsvXfzb8ettFJy+unJQQclyy3XfXnLiAABAgQIECBAgAABAoMVsEcerGA1r9eIq2bdKhm1RaaSZVtm0MXTccWXVSdNav6y6rbbNp6O22ijZQ7jBAIECBAgQIAAAQIECNRKwB65VuV+KVmNuHrWvZSsLTKlsLdt0rvuajwd95Of9J5yhRWSyZOTQw9Nhg9vWzgmIkCAAAECBAgQIECAQEcL2CN3dHmGLDiNuCGjNfArBSwy3X9PLFyYXHBBcuyxyTPP9M53662TL385+Zu/6X4HGRIgQIAAAQIECBAgQGBZAvbIyxLqzr9rxHVnXTsyK4tMR5ZlSIKaPTvZZ5/kv/+79/DLL5+cdFJy9NHJiBFDMrVBCRAgQIAAAQIECBAgUAkBe+RKlKnlQWrEtZzUgEsSsMjU694ono774heTiROTJ5/snfuWWzaejtt883qZyJYAAQIECBAgQIAAAQIvCtgj1/Ne0IirZ91LydoiUwp76ZPed19ywAHJ1Vf3DqV4Iu6EE5Ljj09GjSo9TAEQIECAAAECBAgQIECgrQL2yG3l7pjJNOI6phTdH4hFpvtrvKQMFy1KvvKV5PDDkzlzep/15jc3no57+9vr6yNzAgQIECBAgAABAgTqJ2CPXL+aFxlrxNWz7qVkbZEphb2jJn3wweSgg5J///feYS23XHLUUY3fj1txxY4KWTAECBAgQIAAAQIECBAYEgF75CFh7fhBNeI6vkTdE6BFpntqOZhMiqfjvvGN5JBDkkcf7T3Sxhs3flfuPe8ZzAyuJUCAAAECBAgQIECAQOcL2CN3fo2GIkKNuKFQNeZiBSwyboyXCzzySHLYYcnXvtbsUvym3OmnJ6uuyowAAQIECBAgQIAAAQLdKWCP3J11XVZWGnHLEvL3lglYZFpG2VUDffvbjddVH3igd1prr53MmJF86ENdla5kCBAgQIAAAQIECBAg0CNgj1zPG0Ejrp51LyVri0wp7JWYdO7cZOLExmuprzx23TU555zkNa+pRCqCJECAAAECBAgQIECAQJ8E7JH7xNR1J2nEdV1JOzchi0zn1qZTIrvmmmS//ZLZs3tH9OpXJ+edl+y8czJsWKdEKw4CBAgQIECAAAECBAgMXMAeeeB2Vb5SI67K1atY7BaZihWspHCfeSb5zGcaT8EtXNg7iOI11QsvTMaNKyk40xIgQIAAAQIECBAgQKBFAvbILYKs2DAacRUrWJXDtchUuXrtj/0Xv0j22Sf53//tPfeYMcnnP9/4Xbnllmt/XGYkQIAAAQIECBAgQIBAKwTskVuhWL0xNOKqV7PKRmyRqWzpSgv8hReSKVOS005L5s3rHca73pXMnJlssklp4ZmYAAECBAgQIECAAAECAxawRx4wXaUv1IirdPmqFbxFplr16qRoi6fi9t03+fnPe0c1alTy6U8nxx6bFP/uIECAAAECBAgQIECAQFUE7JGrUqnWxqkR11pPoy1FwCLj9hiMwIIFyQUXJJMmJU8/3XukN7+58XTcO985mDTj6KUAACAASURBVBlcS4AAAQIECBAgQIAAgfYJ2CO3z7qTZtKI66RqdHksFpkuL3Cb0rv33sbvw33/+70nLL6methhyamnJsXvyDkIECBAgAABAgQIECDQyQL2yJ1cnaGLTSNu6GyN/AoBi4xbolUCixYlV1yRTJiQPPZY71HXXbfxZdW///tWzWYcAgQIECBAgAABAgQItF7AHrn1plUYUSOuClXqkhgtMl1SyA5K45FHkiOOSC6/vDmonXdOzjknWWutDgpYKAQIECBAgAABAgQIEPiLgD1yPW8Fjbh61r2UrC0ypbDXYtKrr04OPDApXlt9+bH66smZZyZ77pkUr646CBAgQIAAAQIECBAg0CkC9sidUon2xqER117vWs9mkal1+Yc8+aeeSk48MTn33GThwt7TbbddMmNGsvHGQx6GCQgQIECAAAECBAgQINAnAXvkPjF13UkacV1X0s5NyCLTubXppshuuCHZb7/k5pt7ZzV6dPLZzyZHHZWMHNlNGcuFAAECBAgQIECAAIEqCtgjV7Fqg49ZI27whkboo4BFpo9QThu0wLx5yVlnJSedlDz3XO/hNt88ufji5J3vHPQ0BiBAgAABAgQIECBAgMCABeyRB0xX6Qs14ipdvmoFb5GpVr26Idq77koOOCC55pre2RS/F3fwwcnkyckqq3RDpnIgQIAAAQIECBAgQKBqAvbIVatYa+LViGuNo1H6IGCR6QOSU1ousGhRcumljVdSH3+89/Brr51Mn558/OMtn9aABAgQIECAAAECBAgQWKqAPXI9bxCNuHrWvZSsLTKlsJv0LwKPPJIceWRy2WXNJB/7WKMht846uAgQIECAAAECBAgQINAeAXvk9jh32iwacZ1WkS6OxyLTxcWtUGo//GFy4IHJ7Nm9g1555eS00xqvrA4fXqGEhEqAAAECBAgQIECAQCUF7JErWbZBB60RN2hCA/RVwCLTVynnDbXAM88kp5ySTJ2aLFjQe7Z3vCOZMSN561uHOgrjEyBAgAABAgQIECBQZwF75HpWXyOunnUvJWuLTCnsJl2KwG9/m+y/f/KLX/Q+qXgi7ogjGl9dXWklhAQIECBAgAABAgQIEGi9gD1y602rMKJGXBWq1CUxWmS6pJBdlkbxRNyFFybHH588+WTv5NZdN/nCF5IPf7jLkpYOAQIECBAgQIAAAQKlC9gjl16CUgLQiCuFvZxJb7zxxlx22WW55ppr8vvf/z4rrbRSNt1000yaNCnbb799r6AWLFiQqVOnZubMmfnDH/6QcePGZd99983EiRMzfIA/oGWRKafuZu2bwP33JxMmJFdd1Xz+jjsm556bFF9ZdRAgQIAAAQIECBAgQKAVAvbIrVCs3hgacdWr2YAj3mmnnXLttddmxx13zPjx4/PUU09l1qxZufXWW3PBBRfkoIMOemnsgw8+OBdeeGH22muvvOtd78pPf/rTnnOL//wLxSNCAzgsMgNAc0nbBb797eSQQ5I//KH31MXHHCZPTor/MxlgL7rtuZiQAAECBAgQIECAAIHOFbBH7tzaDGVkGnFDqdthY19//fV529veluWXX/6lyJ599tm89a1vzSOPPJKHH344I0aMyC233JK3vOUtOfTQQ3Nu8RjQX44JEyZk+vTpufnmm7PZZpv1OzuLTL/JXFCSwFNPJZ/9bHLOOcnChb2DePvbk4sv9jGHkkpjWgIECBAgQIAAAQJdI2CP3DWl7FciGnH94urOk4866qicddZZue+++3peQT3hhBMyefLkzJ49OxtssMFLSRevs2644YY5/vjjc9ppp/UbwyLTbzIXlCzw618nBxyQ3HBD70CWW67xGuvJJyfFk3IOAgQIECBAgAABAgQI9FfAHrm/Yt1xvkZcd9RxUFnssssu+eY3v5k5c+b0/G7cDjvs0PPU20MPPdQ07lprrZUtttgiV199db/ntMj0m8wFHSCwtI85FL8Zd955ycc/ngwb1gHBCoEAAQIECBAgQIAAgcoI2CNXplQtDVQjrqWc1Rvs9ttv73k19cMf/nCuvPLKngSK105HjRqVm266qSmh4rfl5s2b1/P66tKOBx98MMU/Lz+KuXbfffeecYtxHASqJPDHPyaHHbb4jzkUX1WdPj1Zf/0qZSRWAgQIECBAgAABAgTKFNCIK1O/vLk14sqzL33muXPnZuutt+5pmBVPwK277ro9MW200UYpnnwrPtDwyqP4cEPxW3J33XXXUuM/6aSTcnLx3t5iDo240ksvgEEIfPe7jY853Htv70FWWKHxu3JHHpmMHDmICVxKgAABAgQIECBAgEAtBDTialHmpiQ14upZ9xQfaSheQb3hhht6XjPddtttX5LwRFxNbwpp91ngmWeSU05Jpk1L5s/vfdmmmyYXXZS8+919Hs6JBAgQIECAAAECBAjUUEAjroZFT6IRV8O6v/DCC/nIRz6Sa665JldddVXPa6kvP/xGXA1vCikPSOB//zc58MDkuuuaL9977+T005NXv3pAQ7uIAAECBAgQIECAAIEuF9CI6/ICLyE9jbia1X3+/PnZaaed8p3vfCeXX355dt555yaB4quoU6ZM8dXUmt0b0h2YwMKFySWXJBMnJo8/3nuMNdZIzjgj2WuvpPjSqoMAAQIECBAgQIAAAQIvCmjE1fNe0IirUd0XLlyYXXfdNV//+tdz8cUXZ7/99lts9sXvxRVfRj300ENz7rnnvnTOhAkTMn369PzmN7/J5ptv3m85i0y/yVxQIYFHH02OOSaZNas56He9K7nwwmQA/2dTIQGhEiBAgAABAgQIECDQHwF75P5odc+5GnHdU8tlZnLkkUfm7LPP7vk9uH333bfp/Pe///09H2kojgMPPDAzZszIXnvtlW222SbXX399Zs2alQMOOCAXFT+ANYDDIjMANJdUTuB//ic5+OCkeG315cfw4cmECclJJyUrr1y5tARMgAABAgQIECBAgECLBeyRWwxakeE04ipSqFaE+Z73vCfXXnvtEof6r//6rxTnFEfxCusZZ5yRmTNn5v77788666zT07w75phjMmLEiAGFY5EZEJuLKigwb15y9tlJ8eHg4sMOLz/WXjs555xkxx2TYcMqmJyQCRAgQIAAAQIECBBoiYA9cksYKzeIRlzlSlbdgC0y1a2dyAcmcO+9jafg/v3fm6//wAeS889PNtpoYGO7igABAgQIECBAgACBagvYI1e7fgONXiNuoHKu67eARabfZC7oEoHvfCc59NCkaMy9/Fh++WTSpOTYY5PRo7skWWkQIECAAAECBAgQINAnAXvkPjF13UkacV1X0s5NyCLTubUR2dALPP10cuqpybRpxavfvecrnoqbPj354AeHPg4zECBAgAABAgQIECDQGQL2yJ1Rh3ZHoRHXbvEaz2eRqXHxpf6SwG23NT7msLifa/zEJxq/HzduHDACBAgQIECAAAECBLpdwB652yu8+Pw04upZ91KytsiUwm7SDhRYtCi54orkqKOSP/2pd4ArrpiceGJyxBHJqFEdGLyQCBAgQIAAAQIECBBoiYA9cksYKzeIRlzlSlbdgC0y1a2dyIdGYO7cRtOt+GjDwoW959hkk+QLX0je+96hmduoBAgQIECAAAECBAiUK2CPXK5/WbNrxJUlX8N5LTI1LLqU+yTw6183Xlf9+c+bT99ll8bvyr3udX0aykkECBAgQIAAAQIECFREwB65IoVqcZgacS0GNdySBSwy7g4CSxYonoibNavxBdXHHut93sorJyed1Pjy6siRFAkQIECAAAECBAgQ6AYBe+RuqGL/c9CI67+ZKwYoYJEZIJzLaiVQNOGOPz754heT4rfkXn5sumnjddVtt60ViWQJECBAgAABAgQIdKWAPXJXlnWZSWnELZPICa0SsMi0StI4dRD4xS+ST30quemm5mx33bXxuurYsXWQkCMBAgQIECBAgACB7hSwR+7Oui4rK424ZQn5e8sELDItozRQTQQWLGg8GVc8IffnP/dOunhd9eSTk0MO8bpqTW4HaRIgQIAAAQIECHSZgD1ylxW0j+loxPURymmDF7DIDN7QCPUUePTRZNKkZObM5vzf/ObGV1e9rlrPe0PWBAgQIECAAAEC1RWwR65u7QYTuUbcYPRc2y8Bi0y/uJxMoEmg+Kpq8brqr37VjFN8XXXq1GTttcERIECAAAECBAgQIFAFAXvkKlSp9TFqxLXe1IhLELDIuDUIDF6geF314osbr6vOmdN7vDFjkhNPTCZMSEaNGvxcRiBAgAABAgQIECBAYOgE7JGHzraTR9aI6+TqdFlsFpkuK6h0ShV45JHG66pf+lJzGG98YzJ9evL+95caoskJECBAgAABAgQIEFiKgD1yPW8Pjbh61r2UrC0ypbCbtMsFfvnLxuuqN97YnOgnPpGcdVay3npdjiA9AgQIECBAgAABAhUUsEeuYNFaELJGXAsQDdE3AYtM35ycRaC/AgsXNp6MK56Qe+yx3levsELjP584MRk9ur8jO58AAQIECBAgQIAAgaESsEceKtnOHlcjrrPr01XRWWS6qpyS6UCBxx9PPvOZ5KKLkqI59/Jjww2Ts89O/uEfkmHDOjB4IREgQIAAAQIECBComYA9cs0K/pd0NeLqWfdSsrbIlMJu0hoK/PrXySGHJD/9aXPyH/hAcu65yRveUEMYKRMgQIAAAQIECBDoIAF75A4qRhtD0YhrI3bdp7LI1P0OkH87BRYtSi67rPFK6p/+1HvmkSOTI45IPv3pZOWV2xmVuQgQIECAAAECBAgQeFHAHrme94JGXD3rXkrWFplS2E1ac4G5c5PPfS4577xk/vzeGGPHJmeckey2m9dVa36bSJ8AAQIECBAgQKAEAXvkEtA7YEqNuA4oQl1CsMjUpdLy7ESB229PDjss+dGPmqPbZptk+vRkiy06MXIxESBAgAABAgQIEOhOAXvk7qzrsrLSiFuWkL+3TMAi0zJKAxEYkEDxuuq3vtV4LfXee3sPsdxyyX77Jaeemrz61QMa3kUECBAgQIAAAQIECPRDwB65H1hddKpGXBcVs9NTsch0eoXEVxeBZ59tvJL6+c8nzz3XO+vVVmu8ynrQQcmIEXURkScBAgQIECBAgACB9gvYI7ffvBNm1IjrhCrUJAaLTE0KLc3KCNxzT3LUUclVVzWH/OY3N76uut12lUlHoAQIECBAgAABAgQqJWCPXKlytSxYjbiWURpoWQIWmWUJ+TuBcgR+/OPG78fddlvz/DvumEyblqy/fjmxmZUAAQIECBAgQIBAtwrYI3drZZeel0ZcPeteStYWmVLYTUqgTwLz5iUXXpiceGJSfGn15cfo0ckxxyTHHpusuGKfhnMSAQIECBAgQIAAAQLLELBHructohFXz7qXkrVFphR2kxLol8AjjySf/nTyxS8mxccdXn6MG5dMnZr8v/+XDBvWr2GdTIAAAQIECBAgQIDAKwTsket5S2jE1bPupWRtkSmF3aQEBiTwq18lhx6a/PSnzZe/+92N348bP35AQ7uIAAECBAgQIECAAIEk9sj1vA004upZ91KytsiUwm5SAgMWKJ6I++pXk4kTkwce6D1M8UTcPvskp52WrLnmgKdwIQECBAgQIECAAIHaCtgj17P0GnH1rHspWVtkSmE3KYFBCzz1VDJlSnLmmcnzz/cebpVVGr8rVzw9N2rUoKcyAAECBAgQIECAAIHaCNgj16bUvRLViKtn3UvJ2iJTCrtJCbRMYPbsxtNxV13VPOTrX5+cfXby93/v9+NaBm4gAgQIECBAgACBrhawR+7q8i4xOY24eta9lKwtMqWwm5RAywWuuSY5/PDklluah/7AB5Kzzko22aTl0xqQAAECBAgQIECAQFcJ2CN3VTn7nIxGXJ+pnDhYAYvMYAVdT6BzBObPb3xZ9TOfSR57rHdcw4cnBx+cnHRSssYanROzSAgQIECAAAECBAh0koA9cidVo32xaMS1z7r2M1lkan8LAOhCgccfT04+OfnCF5IFC3onWDThir8deGAyYkQXJi8lAgQIECBAgAABAoMQsEceBF6FL9WIq3Dxqha6RaZqFRMvgb4L3HZbcsQRyQ9+0HzNm97UeF11hx36Pp4zCRAgQIAAAQIECHS7gD1yt1d48flpxNWz7qVkbZEphd2kBNomsGhR8h//kRx5ZHLnnc3TfuhDjS+vvvGNbQvJRAQIECBAgAABAgQ6VsAeuWNLM6SBacQNKa/BXy5gkXE/EKiHwAsvNF5VLV5LnTu3d87FK6qHHJKceGKy+ur18JAlAQIECBAgQIAAgcUJ2CPX877QiKtn3UvJ2iJTCrtJCZQm8OijjYbbjBnJwoW9w3jVqxofczjggGTkyNJCNDEBAgQIECBAgACB0gTskUujL3VijbhS+es1uUWmXvWWLYEXBW65pfH7cT/+cbPJJps0fj/uAx/gRYAAAQIECBAgQKBeAvbI9ar3i9lqxNWz7qVkbZEphd2kBDpCoPj9uG9/Ozn66OSuu5pDKhpxxe/HFR92cBAgQIAAAQIECBCog4A9ch2q3JyjRlw9615K1haZUthNSqCjBJb2+3HDhycHHth4ZfXVr+6osAVDgAABAgQIECBAoOUC9sgtJ63EgBpxlShTdwRpkemOOsqCQCsEit+PKxpuF12ULFjQe8TVVks+85nGRx1GjWrFbMYgQIAAAQIECBAg0HkC9sidV5N2RKQR1w5lc/QIWGTcCAQIvFLgttuSo45Krr662WbjjZOpU5OPfjQZNowdAQIECBAgQIAAge4SsEfurnr2NRuNuL5KOW/QAhaZQRMagEDXCnz/+42G3O23N6e47baNDzqMH9+16UuMAAECBAgQIECghgL2yDUsehKNuHrWvZSsLTKlsJuUQGUE5s1LLr44+exnk8ce6x128UTcP/9zctppydprVyYlgRIgQIAAAQIECBBYooA9cj1vDo24eta9lKwtMqWwm5RA5QTmzGk03M49Nymacy8/VlghOeaYZOLEZKWVKpeagAkQIECAAAECBAi8JGCPXM+bQSOunnUvJWuLTCnsJiVQWYG7706OOy755jebUxg7ttGsK56SK7626iBAgAABAgQIECBQNQF75KpVrDXxasS1xtEofRCwyPQBySkECDQJXHddcsQRyY03NuO89a3JtGnJ+94HjgABAgQIECBAgEC1BOyRq1WvVkWrEdcqSeMsU8Ais0wiJxAgsASBhQuTr3618YTc/fc3n/ShDyVnnJG86U0ICRAgQIAAAQIECFRDwB65GnVqdZQaca0WNd4SBSwybg4CBAYr8MwzjS+ofv7zydNP9x6teEV1v/2Sk09O1lxzsDO5ngABAgQIECBAgMDQCtgjD61vp46uEdeplenCuCwyXVhUKREoSeChhxpfV505Mymelnv5sfLKyaRJyeGHJ8XHHRwECBAgQIAAAQIEOlHAHrkTqzL0MWnEDb2xGf4iYJFxKxAg0GqBW29tfEH16qubRx43Lpk8Odl112S55Vo9s/EIECBAgAABAgQIDE7AHnlwflW9WiOuqpWrYNwWmQoWTcgEKiLwgx8kRx+d3HJLc8Djxzc+6PDe91YkGWESIECAAAECBAjUQsAeuRZlbkpSI66edS8la4tMKewmJVAbgQULkksuST796aR4dfWVx4c/nJx+ug861OaGkCgBAgQIECBAoMMF7JE7vEBDFJ5G3BDBGrZZwCLjriBAoB0CTz2VTJ3aeAqu+LjDy4/iFdXigw4nnZS89rXtiMYcBAgQIECAAAECBBYvYI9czztDI66edS8la4tMKewmJVBbgQceSE48Mfnyl5NFi3ozrLRScswxyVFHJcW/OwgQIECAAAECBAi0W8Aeud3inTGfRlxn1KEWUVhkalFmSRLoOIHid+OKptviPugwdmxyyinJnnsmw4d3XOgCIkCAAAECBAgQ6GIBe+QuLu5SUtOIq2fdS8naIlMKu0kJEPiLwA9/2Pigw29/20yy6abJGWckH/xgMmwYMgIECBAgQIAAAQJDL2CPPPTGnTiDRlwnVqVLY7LIdGlhpUWgQgLFBx3+5V8aH3T44x+bAy++rFr8vtyWW1YoKaESIECAAAECBAhUUsAeuZJlG3TQGnGDJjRAXwUsMn2Vch4BAkMtUHzE4eyzG19RffLJ5tl23TU57bRk/fWHOhLjEyBAgAABAgQI1FXAHrmeldeIq2fdS8naIlMKu0kJEFiKwMMPJ5/7XDJjRjJ/fu8TR41KDj00Of74ZI01MBIgQIAAAQIECBBorYA9cms9qzKaRlxVKtUFcVpkuqCIUiDQpQJ33tlouF15ZXOCq62WnHBCcsghyejRXQogLQIECBAgQIAAgbYL2CO3nbwjJtSI64gy1CMIi0w96ixLAlUW+OlPk4kTk+J/vvJYd93GF1Z3280XVqtcY7ETIECAAAECBDpFwB65UyrR3jg04trrXevZLDK1Lr/kCVRGYNGi5FvfSo49Nvnd75rD3nzzxm/L7bCDL6xWpqgCJUCAAAECBAh0oIA9cgcWpQ0hacS1AdkUDQGLjDuBAIEqCcybl3zxi8nJJyfFb8m98thuu+SMM3xhtUo1FSsBAgQIECBAoJME7JE7qRrti0Ujrn3WtZ/JIlP7WwAAgUoKFF9VPfPMZNq05Omnm1PYeefGF1Y33LCS6QmaAAECBAgQIECgJAF75JLgS55WI67kAtRpeotMnaotVwLdJ/DQQ40vrF58cbJgQe/8Ro5MDjoo+fSnk9e8pvtylxEBAgQIECBAgEDrBeyRW29ahRE14qpQpS6J0SLTJYWUBoGaCyztC6srr9z42MMRRyRjxtQcSvoECBAgQIAAAQJLFbBHrucNohFXz7qXkrVFphR2kxIgMEQCP/tZcswxyXXXNU+w1lrJiScm++2XFE/LOQgQIECAAAECBAi8UsAeuZ73hEZcPeteStYWmVLYTUqAwBAKFF9Y/c53kkmTkttua55o440bvx/3yU/6wuoQlsHQBAgQIECAAIFKCtgjV7Jsgw5aI27QhAboq4BFpq9SziNAoGoCxW/GfeUrjafg7r+/Ofq3vS05/fSk+NKqgwABAgQIECBAgEAhYI9cz/tAI66edS8la4tMKewmJUCgjQLPPpucf34yeXIyZ07zxH/3d8mUKcn48W0MylQECBAgQIAAAQIdKWCP3JFlGfKgNOKGnLizJnjqqacybdq03HTTTbnxxhvz0EMPZY899sgll1zSK9B77rknG2ywwWKD32effTJz5sx+J2aR6TeZCwgQqKjAn//ceALu3HOT555rTuIf/zE59dSkeHXVQYAAAQIECBAgUE8Be+R61l0jrmZ1f7HBNnbs2Gy55Zb57ne/u9RG3Ec/+tHstNNOvZQ23njjbLXVVv2Ws8j0m8wFBAhUXKB4TfWkk5JZs5KFC3snM2JE42MOxeusr31txRMVPgECBAgQIECAQL8F7JH7TdYVF2jEdUUZ+57E888/n0cffTRrr7125s+fn5EjRy61EXfCCSfk1OKxjRYcFpkWIBqCAIFKChQfcjjhhORb32oOf8UVkyOOSCZOTFZdtZLpCZoAAQIECBAgQGAAAvbIA0Drgks04rqgiANNoa+NuKIZVxwrrLDCQKfquc4iMyg+FxMg0AUCP/tZctxxyf/8T3Mya6yRHH988qlPJaNHd0GyUiBAgAABAgQIEFiqgD1yPW8Qjbh61r0n67404saMGZPid+WKo3gl9fDDD8+nil3iAA6LzADQXEKAQNcJLFqUfP/7yaRJyW9/25zeOus0XmfdY4+keH3VQYAAAQIECBAg0J0C9sjdWddlZaURtyyhLv770hpx9913X/bee+987GMfy3rrrZcHHnig5wMNxQcejj766EydOnWpMg8++GCKf15+3H777dl99917PhQx3icDu/jOkhoBAn0RKH4z7qtfTT7zmeT3v2++4o1vbHzQYccdk2HD+jKicwgQIECAAAECBKokoBFXpWq1LlaNuNZZVm6kpTXiFpfMggULst122+W6667LnXfemY022miJOZ900kk5+eSTF/t3jbjK3SoCJkBgCAVeeCG5+OLklFOShx9unmjLLZMpU5Ltt9eQG8IyGJoAAQIECBAg0HYBjbi2k3fEhBpxHVGGcoLobyOuiPI73/lOPvKRj2TGjBnZf//9lxi4J+LKqalZCRCorkDxKwDnnJMUDxw/8URzHu99b6Mh9853VjdHkRMgQIAAAQIECPxVQCOunneDRlw9696T9UAacb/97W/zlre8JaeddlqOL35VvB+HRaYfWE4lQKC2Ao8+mnz+88n55yfPP9/M8LGPNV5Z3XTT2hJJnAABAgQIECDQFQL2yF1Rxn4noRHXb7LuuWAgjbirrroqO+64Y8/vxe2zzz79wrDI9IvLyQQI1FzgD39IPve5ZNasZMGC3hjFb8btvntS/ALABhvUHEr6BAgQIECAAIGKCtgjV7RwgwxbI26QgFW+fGmNuMcffzxrrLFGr/SeffbZbLPNNrn11ltz9913Z9y4cf1K3yLTLy4nEyBAoEfgjjsaH3T4139tBhk5Mil+JeCEE5KxY4ERIECAAAECBAhUScAeuUrVal2sGnGts6zMSOeff37mzJmThQsX5rOf/Wy22GKLfOITn+iJv/j9t80337znf3/mmWey1VZbZZ111un5auqll16a2bNnZ8qUKTnuuOP6na9Fpt9kLiBAgMBLAjfdlBS/CPCDHzSjrLBCMmFCcswxyeqrQyNAgAABAgQIEKiCgD1yFarU+hg14lpv2vEjrr/++rn33nsXG+esWbOy55575ktf+lJP4+2OO+5I8XTcmDFjMn78+EyYMKGnWTeQwyIzEDXXECBAoLfAtdc2GnI//WmzzKqrNppxhx2WjBlDjgABAgQIECBAoJMF7JE7uTpDF5tG3NDZGvkVKYUeRwAAIABJREFUAhYZtwQBAgRaI7BoUfIf/9FoyP32t81jrrlm428HHJCMHt2aOY1CgAABAgQIECDQWgF75NZ6VmU0jbiqVKoL4rTIdEERpUCAQEcJLFyYfOMbjd+Qu+uu5tCKn/I88cRkzz2TESM6KnTBECBAgAABAgRqL2CPXM9bQCOunnUvJWuLTCnsJiVAoAYC8+Yll1zS+IrqH//YnPDGGze+wPqP/5gst1wNQKRIgAABAgQIEKiAgD1yBYo0BCFqxA0BqiEXL2CRcWcQIEBgaAWefTa56KJk8uTk0Ueb59pss+SUU4oP8yTDhg1tLEYnQIAAAQIECBBYuoA9cj3vEI24eta9lKwtMqWwm5QAgRoKPPlkcu65ybRpydy5zQDveEdy6qnJ9ttryNXw9pAyAQIECBAg0CEC9sgdUog2h6ER12bwOk9nkalz9eVOgEAZAo8/nkydmpx3XvLMM80RbLttctppyTbblBGdOQkQIECAAAEC9RawR65n/TXi6ln3UrK2yJTCblICBAjkoYcar6vOmJG88EIzyAc+0Hhl9W1vg0WAAAECBAgQINAuAXvkdkl31jwacZ1Vj66OxiLT1eWVHAECFRC4777GRxuKDzssWNAc8Mc/3vj7m99cgWSESIAAAQIECBCouIA9csULOMDwNeIGCOey/gtYZPpv5goCBAgMhcCddza+sPrVryaLFvWeofiIw847N/7++tcPxezGJECAAAECBAgQKATsket5H2jE1bPupWRtkSmF3aQECBBYosAttySf/Wzyb//WfMrw4ckeeySf+Uyy/voQCRAgQIAAAQIEWi1gj9xq0WqMpxFXjTp1RZQWma4ooyQIEOhCgRtvTE48Mfn+95uTGzky2Wef5IQTknXW6cLkpUSAAAECBAgQKEnAHrkk+JKn1YgruQB1mt4iU6dqy5UAgSoKXHdd8ulPJ9de2xz98ssnBx6YHHdc8trXVjE7MRMgQIAAAQIEOkvAHrmz6tGuaDTi2iVtHu+/uwcIECBQAYHiN+N+/OPGK6k//3lzwCuskBxySHLMMcmrX12BhIRIgAABAgQIEOhQAY24Di3MEIelETfEwIb/q4BFxt1AgACB6ggUDbniVdWiIferXzXHPWZMMmFCctRRyeqrVycvkRIgQIAAAQIEOkXAHrlTKtHeODTi2utd69ksMrUuv+QJEKioQNGQ+9a3Gr8hd+utzUmsumpy5JGNplzx7w4CBAgQIECAAIG+Cdgj982p287SiOu2inZwPhaZDi6O0AgQILAMgYULk298IznppOSOO5pPLp6KO/ro5NBDk5VXxkmAAAECBAgQILAsAXvkZQl159814rqzrh2ZlUWmI8siKAIECPRLYP785IorkpNPTmbPbr70Va9q/H7cpz6VrLRSv4Z2MgECBAgQIECgVgL2yLUq90vJasTVs+6lZG2RKYXdpAQIEBgSgXnzkq98JTnllOTee5unWHPNxhdWiy+tFh94cBAgQIAAAQIECPQWsEeu5x2hEVfPupeStUWmFHaTEiBAYEgFXngh+fKXk9NOS+6/v3mqsWOTSZOS/fZLRo8e0lAMToAAAQIECBColIA9cqXK1bJgNeJaRmmgZQlYZJYl5O8ECBCorsBzzyUzZyaTJycPPticx9prNxpy++6bLL98dfMUOQECBAgQIECgVQL2yK2SrNY4GnHVqlelo7XIVLp8gidAgECfBJ59NpkxI5kyJXn44eZL1lknOf74ZO+9NeT6BOokAgQIECBAoGsF7JG7trRLTUwjrp51LyVri0wp7CYlQIBAKQJPP51ccEFyxhnJo482hzBuXPLpTyd77pmMGlVKiCYlQIAAAQIECJQqYI9cKn9pk2vElUZfv4ktMvWruYwJECDw1FPJ+ecnU6cmjz/e7LHeeo2G3B57JCNH8iJAgAABAgQI1EfAHrk+tX55phpx9ax7KVlbZEphNykBAgQ6QuDJJ5Pp05Np05I//7k5pPXXbzTk/vmfNeQ6omCCIECAAAECBIZcwB55yIk7cgKNuI4sS3cGZZHpzrrKigABAv0ReOKJ5LzzkjPPTObMab5ygw0aDbl/+icNuf64OpcAAQIECBConoA9cvVq1oqINeJaoWiMPglYZPrE5CQCBAjUQmDu3OScc5Kzz06Kf3/loSFXi9tAkgQIECBAoNYC9sj1LL9GXD3rXkrWFplS2E1KgACBjhYonoorGnLFPxpyHV0qwREgQIAAAQItFrBHbjFoRYbTiKtIobohTItMN1RRDgQIEBgagWU15DbcMDnhBK+sDo2+UQkQIECAAIEyBOyRy1Avf06NuPJrUJsILDK1KbVECRAgMGCBFxtyxSurxe/JvfIoXlk9/nhfWR0wsAsJECBAgACBjhGwR+6YUrQ1EI24tnLXezKLTL3rL3sCBAj0R6D4suq55zZ+Q25xDbn11ms8IbfHHsmoUf0Z2bkECBAgQIAAgc4QsEfujDq0OwqNuHaL13g+i0yNiy91AgQIDFCgaMgVvx9XNOUW9xty667beEJur7005AZI7DICBAgQIECgJAF75JLgS55WI67kAhTTX3PNNbngggvym9/8Jk888URWXnnlbLjhhnnrW9+abbfdNn/3d3+XUV3wX/dbZDrgZhMCAQIEKipQvLL64hNyi2vIjRuXTJqU7L13svzyFU1S2AQIECBAgECtBOyRa1Xul5LViCu57pdeemn23nvvrLTSStlss816Gm5z5szJzTff3BPZsGHDssoqq+SAAw7Icccdl9VWW63kiAc+vUVm4HauJECAAIGGQNGQO++8xiurxb+/8lhnneS445J99klGj6ZGgAABAgQIEOhcAXvkzq3NUEamETeUun0Y+/Wvf33WWmutfO9738uqq67ac8Wjjz6aNddcMzNmzMiCBQty1VVX5cc//nHGjh2bK6+8Mu985zv7MHLnnWKR6byaiIgAAQJVFSieips+PTnrrKR4ffWVx9ixybHHJvvvn6ywQlWzFDcBAgQIECDQzQL2yN1c3SXnphFXct1XXHHFnHfeedl3331fiuSxxx7La17zmvzoRz/Kdttt1/Of/9///V8OPPDA/PrXv86NN96YooFXtcMiU7WKiZcAAQKdL1B8yOHFhtzjjzfHu9ZayTHHJAcckKy0UufnI0ICBAgQIECgPgL2yPWp9csz1Ygrue7jx4/Pe9/73px55plLbcQVf5w/f37e/e53Z5111sk3v/nNkiPv//QWmf6buYIAAQIE+ibw5JPJBRck06YVT5Y3X/Oa1yRHH50cfHAyZkzfxnQWAQIECBAgQGAoBeyRh1K3c8fWiCu5NsVvxBW///Zv//Zv+eAHP9gTzeKeiHsxzOJ11UmTJuXxxf3X/iXnsqzpLTLLEvJ3AgQIEBiswFNPJRddlEydmjz8cPNor3pVcuSRySGHJKusMtjZXE+AAAECBAgQGLiAPfLA7ap8pUZcB1RvwoQJOf/88/PJT34yBx98cDbZZJOe3417+aupL4ZZnPsv//IvGnEdUDchECBAgEDnCjzzTDJjRnLGGclDDzXHWXz76PDDk8MOS1ZfvXPzEBkBAgQIECDQvQIacd1b26VlphHXIXW//PLLe76K+sADD/R8tGHu3Lk9X1N917velZVXXjlPPvlkfvjDH+brX/969tprr8ycObNDIu97GBaZvls5kwABAgRaI/Dss0nx/zI///nkgQeaxyyeiiuejjviiOTVr27NnEYhQIAAAQIECPRFwB65L0rdd45GXAfV9IUXXuj57bd//dd/zU9+8pOmp95GjhyZ3XbbrefpueIjD1U7LDJVq5h4CRAg0D0Czz2XzJrVaMjdd19zXsWHHIrfjzvqqKT4wIODAAECBAgQIDDUAvbIQy3cmeNrxHVmXXqiuu+++3LPPffk6aefziqrrJLNNtus539W9bDIVLVy4iZAgED3CLzwQvKVryRTpiSzZzfntcIKyf77JxMnJmuv3T15y4QAAQIECBDoPAF75M6rSTsi0ohrh7I5egQsMm4EAgQIEOgUgfnzkyuuSE49Nfnd75qjGjUq2Wef5Nhjk/XW65SoxUGAAAECBAh0k4A9cjdVs++5aMT13cqZgxSwyAwS0OUECBAg0HKBBQuSb3yj0ZC77bbm4UeMSP7pn5JJk5LXv77l0xuQAAECBAgQqLGAPXI9i68RV8+6l5K1RaYUdpMSIECAQB8EFi5Mrrqq0ZC7+ebmC5ZbLtl55+T445NNN+3DgE4hQIAAAQIECCxDwB65nreIRlw9615K1haZUthNSoAAAQL9EFi0KPnud5NTTkluuGHxF+64Y3LCCckWW/RjYKcSIECAAAECBF4hYI9cz1tCI66edS8la4tMKewmJUCAAIEBCBQNuR/+sNGQu+66xQ/woQ81GnJbbz2ACVxCgAABAgQI1F7AHrmet4BGXD3rXkrWFplS2E1KgAABAoMUuPbaxiurP/rR4gfabrtGQ+69702GDRvkZC4nQIAAAQIEaiNgj1ybUvdKVCOunnUvJWuLTCnsJiVAgACBFgn8/OeNhtz3vrf4AYsn44qG3N//vYZci8gNQ4AAAQIEulrAHrmry7vE5DTi6ln3UrK2yJTCblICBAgQaLHAr3+dTJ6cXHllUrzC+srjrW9tNOQ+8Ymk+MiDgwABAgQIECCwOAF75HreFxpx9ax7KVlbZEphNykBAgQIDJHA7bcnU6YkV1yRLFjQPMnf/E0yaVKyyy7JyJFDFIRhCRAgQIAAgcoK2CNXtnSDClwjblB8Lu6PgEWmP1rOJUCAAIGqCNx9d3L66ckllyTz5jVHvf76yTHHJHvtlYweXZWsxEmAAAECBAgMtYA98lALd+b4GnGdWZeujMoi05VllRQBAgQI/EXg/vuTadOSiy9Onn22mWXs2OSoo5IDDkjGjMFGgAABAgQI1F3AHrmed4BGXD3rXkrWFplS2E1KgAABAm0WePjh5Oyzky98IXnyyebJ11gjmTAhOfTQZPXV2xyc6QgQIECAAIGOEbBH7phStDUQjbi2ctd7MotMvesvewIECNRN4M9/Ts4/PznnnOTxx5uzL56KO/jg5Igjkte+tm468iVAgAABAgTsket5D2jE1bPupWRtkSmF3aQECBAgULLAU081XlctXlt98MHmYJZfPtlnn2TixKT4PTkHAQIECBAgUA8Be+R61PmVWWrE1bPupWRtkSmF3aQECBAg0CECzz/f+KBD8WGH3/++Oajhw5PddkuOPTZ505s6JGhhECBAgAABAkMmYI88ZLQdPbBGXEeXp7uCs8h0Vz1lQ4AAAQIDE5g/P/nqV5PPfz657bbFj/HxjyeTJiVvf/vA5nAVAQIECBAg0PkC9sidX6OhiFAjbihUjblYAYuMG4MAAQIECPxVYOHC5NvfTiZPTm64YfEy739/oyH3nvckw4bRI0CAAAECBLpJwB65m6rZ91w04vpu5cxBClhkBgnocgIECBDoSoFFi5If/ziZMiW55prFp/jOdzYacv/wD8lyy3Ulg6QIECBAgEDtBOyRa1fynoQ14upZ91KytsiUwm5SAgQIEKiQwM9/3mjIFU/KLe7YdNPGb8jtvHMycmSFEhMqAQIECBAg0CRgj1zPm0Ijrp51LyVri0wp7CYlQIAAgQoK3HJL4zfkvva1pHiF9ZXHeus1vrK6997JCitUMEEhEyBAgAABArFHrudNoBFXz7qXkrVFphR2kxIgQIBAhQVmz06mTk1mzUqKr66+8njNa5LDD08OPjhZbbUKJyp0AgQIECBQQwF75BoW3aup9Sx6WVlbZMqSNy8BAgQIVF3gwQeTc85JLrwwefLJ5mxWWSU56KBkwoRk7NiqZyt+AgQIECBQDwF75HrU+ZVZeiKunnUvJWuLTCnsJiVAgACBLhKYMye54IJGU+6RR5oTW375ZM89k6OPTjbeuIsSlwoBAgQIEOhCAXvkLixqH1LSiOsDklNaI2CRaY2jUQgQIECAwDPPJF/+cuO11fvua/Yovqz6yU82PuywxRa8CBAgQIAAgU4UsEfuxKoMfUwacUNvbIa/CFhk3AoECBAgQKC1AvPmNT7oUHzY4bbbFj/2Djskxx2XbLttMmxYa+c3GgECBAgQIDBwAXvkgdtV+UqNuCpXr2KxW2QqVjDhEiBAgEBlBIovq373u8mUKcnPf774sN/xjkZD7qMfTYon5hwECBAgQIBAuQL2yOX6lzW7RlxZ8jWc1yJTw6JLmQABAgTaKrBoUfKTnzSekPv+9xc/9RvfmBxzTLLbbknxm3IOAgQIECBAoBwBe+Ry3MueVSOu7ArUaH6LTI2KLVUCBAgQKF3gN79JTj89+cY3kuKJuVcer3tdcuSRyf77JyuvXHq4AiBAgAABArUTsEeuXcl7EtaIq2fdS8naIlMKu0kJECBAoOYCd9+dnHlm4+MOzz/fjLHaasmnPpUcdliy5po1x5I+AQIECBBoo4A9chuxO2gqjbgOKka3h2KR6fYKy48AAQIEOlngT39Kzjsv+cIXkrlzmyMdPTrZa6/kqKOSjTbq5EzERoAAAQIEukPAHrk76tjfLDTi+ivm/AELWGQGTOdCAgQIECDQMoEnnkguvjg5++zkgQeahy0+5LDTTo3fkdtyy5ZNayACBAgQIEDgFQL2yPW8JTTi6ln3UrK2yJTCblICBAgQILBYgeI11csuS6ZOTe64Y/FI73tfcuyxyfbbJ8OGgSRAgAABAgRaKWCP3ErN6oylEVedWlU+UotM5UsoAQIECBDoQoHiQw7//u+NDzv84heLT3CLLRpPyBVPyo0Y0YUIUiJAgAABAiUI2COXgN4BU2rEdUAR2hnCU089lWnTpuWmm27KjTfemIceeih77LFHLrnkkqYwFixYkKlTp2bmzJn5wx/+kHHjxmXffffNxIkTM3z48H6HbZHpN5kLCBAgQIBA2wQWLUp+8pPkjDOS731v8dNusEHjS6t7752suGLbQjMRAQIECBDoSgF75K4s6zKT0ohbJlF3nXDPPfdkgw02yNixY7Plllvmu9/97hIbcQcffHAuvPDC7LXXXnnXu96Vn/70p5k1a1aK//wLxS899/OwyPQTzOkECBAgQKAkgVtuSaZNS664Ipk/vzmIV70qOeSQxtdWX/OakoI0LQECBAgQqLiAPXLFCzjA8DXiBghX1cuef/75PProo1l77bUzf/78jBw5crGNuFtuuSVvectbcuihh+bcc899Kd0JEyZk+vTpufnmm7PZZpv1i8Ei0y8uJxMgQIAAgdIF7rsvOeecxscdnn66OZwVVmg8HVc8JbfhhqWHKwACBAgQIFApAXvkSpWrZcFqxLWMsnoDLa0Rd8IJJ2Ty5MmZPXt2zxN0Lx6///3vs+GGG+b444/Paaed1q+kLTL94nIyAQIECBDoGIHHH08uuCCZPj15+OHmsHxptWNKJRACBAgQqJCAPXKFitXCUDXiWohZtaGW1ojbYYcdep56K35D7pXHWmutlS222CJXX311v1K2yPSLy8kECBAgQKDjBJ59NvnKVxqvrd511+LD2267ZOLEZIcdfGm14wooIAIECBDoKAF75I4qR9uC0YhrG3XnTbS0Rlzx2umoUaN6PurwymP8+PGZN29eitdXl3Q8+OCDKf55+XH77bdn99137xmzGMNBgAABAgQIVFNgwYK/fmn1l79cfA7FL1gcfXSy887JqFHVzFPUBAgQIEBgKAU04oZSt3PH1ojr3NoMeWRLa8RttNFGKZ58Kz7Q8Mqj+HDDww8/nLuW9F+FJznppJNy8sknLzYHjbghL60JCBAgQIBAWwT68qXVtddODj882W+/ZNVV2xKWSQgQIECAQCUENOIqUaaWB6kR13LS6gzoibjq1EqkBAgQIECg0wX+938br6xefnkyb15ztKuskuy/fzJhQrLOOp2ejfgIECBAgMDQC2jEDb1xJ86gEdeJVWlTTH4jrk3QpiFAgAABAjUS+OMfk+KD6zNmJE880Zz4iBHJrrs2Xlvt5wfYa6QoVQIECBCog4BGXB2q3JyjRlw9696T9dIaccVXUadMmeKrqTW+P6ROgAABAgQGI1A04S6+ODnnnKRozi3u+MAHGg254gMPw4YNZjbXEiBAgACB6gloxFWvZq2IWCOuFYoVHWNpjbjii6nFl1EPPfTQnFv819p/OSZMmJDp06fnN7/5TTbffPN+ZW6R6ReXkwkQIECAQFcIvPBC8rWvJVOnJrfeuviUttii0ZD75CeTkSO7Im1JECBAgACBZQrYIy+TqCtP0IjryrIuPanzzz8/c+bMycKFC/PZz362p+H2iU98oueij3zkIy812A488MDMmDEje+21V7bZZptcf/31mTVrVg444IBcdNFF/ZazyPSbzAUECBAgQKBrBIoPO/znfzYactdcs/i01l238WGHffdNVl65a1KXCAECBAgQWKyAPXI9bwyNuBrWff3118+999672MyLRtuee+7Z87fiibkzzjgjM2fOzP3335911lkn++67b4455piMKH7gpZ+HRaafYE4nQIAAAQJdKvCrXyVnnpl8/evJggXNSRZfVz3ggOSww5Liq6sOAgQIECDQjQL2yN1Y1WXnpBG3bCNntEjAItMiSMMQIECAAIEuESj+e8HiFzC++MXkqaeak3rxww5HHZX08xcxukRIGgQIECDQzQL2yN1c3SXnphFXz7qXkrVFphR2kxIgQIAAgY4XmDOn8ZXVoin34IOLD/f970+Khtzf/Z0PO3R8QQVIgAABAn0SsEfuE1PXnaQR13Ul7dyELDKdWxuRESBAgACBThAoPuxwxRWN11aX9GGHzTZLjjwy2WWXZPnlOyFqMRAgQIAAgYEJ2CMPzK3qV2nEVb2CFYrfIlOhYgmVAAECBAiUKFB82OEHP0imTUt+9KPFBzJ2bHLooY3fkltjjRKDNTUBAgQIEBiggD3yAOEqfplGXMULWKXwLTJVqpZYCRAgQIBAZwjcfHPjCbmvfrX4kFRzTCuumOy9d+Nrqxtt1Bkxi4IAAQIECPRFwB65L0rdd45GXPfVtGMzssh0bGkERoAAAQIEOl7g/vuT6dOTiy5KnniiOdzllks+9rHG78i9610dn44ACRAgQIBA7JHreRNoxNWz7qVkbZEphd2kBAgQIECgqwSKJtyXvpScc05y332LT23rrRsNuaIxN3x4V6UvGQIECBDoIgF75C4qZj9S0YjrB5ZTBydgkRmcn6sJECBAgACBvwoUr6leeWXjtdUbbli8zIYbNl5Z3WuvZMwYegQIECBAoLME7JE7qx7tikYjrl3S5vHYrXuAAAECBAgQaLlA8WGH665rNOS+/e2k+N9feay2WrL//o2PO6yzTstDMCABAgQIEPj/27sTaCuKO4/jvwcIgogbi0aQRXDDFWJQUEFcMKKAgCKb+NgRCeokmahzzkiORqMzUSIuwEMgAm5gcEFBcNAoigqKQkBQBFzYRCLIvs6pWwFZ+vHufe/e7q6ub5/jmTD07frX59+3ePV/1V3FEqAQVyw25z9EIc75FLrTAQYZd3JFpAgggAACCLgosGiRfWR11Chp8+aDe1CmjNShg3THHVKDBi72kJgRQAABBJIkwBw5SdlMvy8U4tK34swSCjDIlBCQjyOAAAIIIIBAWgJr1thNHYYMkVatCv5I06a2IHfNNZLZ6IEDAQQQQACBsAWYI4ctHo/2KMTFIw9eRMEg40Wa6SQCCCCAAAKxEdi6VXrmGekvf5Hmzg0Oq1496fbbpZtuko44IjahEwgCCCCAgAcCzJE9SHJAFynE+Zn3SHrNIBMJO40igAACCCDgvYB5b9y0abYgN3lyMMcxx0h9+0r9+0snnug9GQAIIIAAAiEIMEcOATmGTVCIi2FSkhoSg0xSM0u/EEAAAQQQcEfgn/+UHn5YGjNGMivmDjzMe+RuvNGukuM9cu7klUgRQAABFwWYI7uYtZLHTCGu5IZcIU0BBpk0oTgNAQQQQAABBHIuYN4d9/jj0hNPSN9/H9wc75HLeRpoAAEEEPBagDmyn+mnEOdn3iPpNYNMJOw0igACCCCAAAKHEDC7q44da1fJzZ8ffGLdutLAgdLNN0sVK8KJAAIIIIBAdgSYI2fH0bWrUIhzLWMOx8sg43DyCB0BBBBAAIGEC5j3yL3xhi3ITZkS3Nmjj5Z69ZIGDJBq1Eg4CN1DAAEEEMi5AHPknBPHsgEKcbFMSzKDYpBJZl7pFQIIIIAAAkkTmDdPeuSRwt8jV7q01L69fY9co0ZJ6z39QQABBBAIS4A5cljS8WqHQly88pHoaBhkEp1eOocAAggggEDiBFavtu+QM++SM/876LjwQluQu+46yWz0wIEAAggggEC6AsyR05VK1nkU4pKVz1j3hkEm1ukhOAQQQAABBBAoRGDLFumZZ+xjq3PnBp9Us6Z9ZLVHD8k8wsqBAAIIIIBAUQLMkYsSSubfU4hLZl5j2SsGmVimhaAQQAABBBBAIE0B8x65N9+0BbnXXgv+kNnMIT9f+s1vJLPJAwcCCCCAAAKFCTBH9vPeoBDnZ94j6TWDTCTsNIoAAggggAACORD4/HNp8GBp9GjJ7Lx64JGXJ117rX1stWlTyfyZAwEEEEAAgX0FmCP7eT9QiPMz75H0mkEmEnYaRQABBBBAAIEcCvzwgzRsmPTYY9J33wU3dM450m23SR07SuXK5TAYLo0AAggg4JQAc2Sn0pW1YCnEZY2SCxUlwCBTlBB/jwACCCCAAAKuCmzfLo0fbx9b/eij4F5Uqyb16yf17SuZ/82BAAIIIOC3AHNkP/NPIc7PvEfSawaZSNhpFAEEEEAAAQRCFDDvkXv/femRR6QJE6Rduw5uvGxZqVMnaeBA6dxzQwyOphBAAAEEYiXAHDlW6QgtGApxoVHTEIMM9wACCCCAAAII+CSwbJmqpD7YAAAgAElEQVQ0ZIg0fLi0bl1wz83748xjq+Z9cqVL+6RDXxFAAAEEmCP7eQ9QiPMz75H0mkEmEnYaRQABBBBAAIGIBTZskEaNkv76V+mLL4KDqV1bGjBA6t5dOuqoiAOmeQQQQACBUASYI4fCHLtGKMTFLiXJDYhBJrm5pWcIIIAAAgggULSAeUz19dftY6vTpgWfX7GilJ9vi3L16hV9Tc5AAAEEEHBXgDmyu7krSeQU4kqix2czEmCQyYiLkxFAAAEEEEAgwQLz5tkVck8/LW3ZcnBH8/Kkq6+2j61edplk/syBAAIIIJAsAebIycpnur2hEJeuFOeVWIBBpsSEXAABBBBAAAEEEiawZo00bJj02GPS8uXBnatfX/rNb6QuXaQKFRIGQHcQQAABjwWYI/uZfApxfuY9kl4zyETCTqMIIIAAAggg4IDAtm3S+PHS4MHShx8GB3zssVLv3lL//lL16g50ihARQAABBA4pwBzZzxuEQpyfeY+k1wwykbDTKAIIIIAAAgg4JjBzpi3ImcLcjh0HB292V23Xzq6Sa9yYx1YdSy/hIoAAAnsFmCP7eTNQiPMz75H0mkEmEnYaRQABBBBAAAFHBb77Tnr8cWnoUOmHH4I70bChNHCgdMMNUrlyjnaUsBFAAAFPBZgj+5l4CnF+5j2SXjPIRMJOowgggAACCCDguMDmzdLYsXaVnNnkIeioVk3q29f+d/zxjneY8BFAAAFPBJgje5LoA7pJIc7PvEfSawaZSNhpFAEEEEAAAQQSIrB7tzR9ut1t9eWXJfPnA4/DDpM6dLCr5H75y4R0nG4ggAACCRVgjpzQxBbRLQpxfuY9kl4zyETCTqMIIIAAAgggkECBr76ShgyRRoyQ1q8P7uCFF9r3yJn3yZkCHQcCCCCAQLwEmCPHKx9hRUMhLixp2hGDDDcBAggggAACCCCQXYENG6TRo+0quUWLgq/9i19I/fpJffpIVapkt32uhgACCCBQfAHmyMW3c/mTFOJczp5jsTPIOJYwwkUAAQQQQAABZwR27ZLeeMO+R27y5OCwzWYOHTvaVXLnnedM1wgUAQQQSKwAc+TEpvaQHaMQ52feI+k1g0wk7DSKAAIIIIAAAp4JLFwoPfqoNGqUtHFjcOcvusgW5Nq04bFVz24PuosAAjESYI4co2SEGAqFuBCxfW+KQcb3O4D+I4AAAggggECYAuvWSSNH2qKceadc0HHiidItt0i9evHYapi5oS0EEEDACDBH9vM+oBDnZ94j6TWDTCTsNIoAAggggAACngvs3Cm9/rp9j9zUqcEYex5bHTBAatDAczC6jwACCIQkwBw5JOiYNUMhLmYJSXI4DDJJzi59QwABBBBAAAEXBObPtyvk/vY3adOm4IibNJFMQa5tWx5bdSGnxIgAAu4KMEd2N3cliZxCXEn0+GxGAgwyGXFxMgIIIIAAAgggkDOBf/3LPrY6ZIi0ZElwM3t2W+3dW6paNWehcGEEEEDAWwHmyH6mnkKcn3mPpNcMMpGw0ygCCCCAAAIIIFCogHls9bXX7GOr06YFn1a2rNShg10ld/75YCKAAAIIZEuAOXK2JN26DoU4t/LldLQMMk6nj+ARQAABBBBAIOEC5rFVs0Ju9OjCH1tt1MgW5K6/XjIFOg4EEEAAgeILMEcuvp3Ln6QQ53L2HIudQcaxhBEuAggggAACCHgp8OOPPz+2Wthuq9WqSX36SH37Siec4CUTnUYAAQRKLMAcucSETl6AQpyTaXMzaAYZN/NG1AgggAACCCDgp8CuXXa3VbO5w5QpwQZlykjt29tVchdeKOXl+WlFrxFAAIHiCDBHLo6a+5+hEOd+Dp3pAYOMM6kiUAQQQAABBBBAYD+BhQvtY6ujRkkbNgTjNGgg3XqrdOONUvnyACKAAAIIFCXAHLkooWT+PYW4ZOY1lr1ikIllWggKAQQQQAABBBBIW2D9evsOOVOUW7Qo+GPHHSf16iX16yeddFLal+ZEBBBAwDsB5sjepTzVYQpxfuY9kl4zyETCTqMIIIAAAggggEDWBcxjq1On2oLcpEnS7t0HN1GqlNS6tV0ld+mlPLaa9SRwQQQQcF6AObLzKSxWByjEFYuNDxVHgEGmOGp8BgEEEEAAAQQQiLfA4sXSE09II0ZIZqOHoOOMM2xBrmtXqWLFePeH6BBAAIGwBJgjhyUdr3YoxMUrH4mOhkEm0emlcwgggAACCCDgucDGjdK4cXZzh7lzgzEqVZJuvlnq31865RTPweg+Agh4L8Ac2c9bgEKcn3mPpNcMMpGw0ygCCCCAAAIIIBCqgHlM9Z13bEHu73+Xdu4Mbr5FC7tK7te/lkqXDjVEGkMAAQRiIcAcORZpCD0ICnGhk/vbIIOMv7mn5wgggAACCCDgp8C330pDh0rDhkmrVwcb1Kol3XKL1L27ZDZ64EAAAQR8EWCO7Eum9+8nhTg/8x5JrxlkImGnUQQQQAABBBBAIHKBrVulF16wmzt88EFwOIcfLnXqZB9bbdAg8pAJAAEEEMi5AHPknBPHsgEKcbFMSzKDYpBJZl7pFQIIIIAAAgggkInARx9Jjz0mPfusZAp0QceFF9qCXPv2UrlymVydcxFAAAF3BJgju5OrbEZKIS6bmlzrkAIMMtwgCCCAAAIIIIAAAnsEvv/e7rT6+OPSN98Eu1StKvXuLfXpI1Wvjh0CCCCQLAHmyMnKZ7q9oRCXrhTnlViAQabEhFwAAQQQQAABBBBInMCOHdKrr9rHVt98M7h7ZjOHNm3sKrlmzaS8vMQx0CEEEPBQgDmyh0mXRCHOz7xH0msGmUjYaRQBBBBAAAEEEHBGYMECu0Ju9Gjpp5+Cwz7jDFuQ69pVOvJIZ7pGoAgggMBBAsyR/bwpKMT5mfdIes0gEwk7jSKAAAIIIIAAAs4JmCLc00/bd8nNnx8cvinC3XST3XHVFOc4EEAAAdcEmCO7lrHsxEshLjuOXCUNAQaZNJA4BQEEEEAAAQQQQGCvwO7d0ltv2cdWX3pJ2rkzGOfSS+0qudatpTJlAEQAAQTcEGCO7Eaesh0lhbhsi3K9QgUYZLg5EEAAAQQQQAABBIor8O230tCh0rBh0urVwVc58US7sUOvXtLxxxe3JT6HAAIIhCPAHDkc57i1QiEubhlJcDwMMglOLl1DAAEEEEAAAQRCEti2TZowwa6Se++94EYPO0xq186ukmvShM0dQkoNzSCAQIYCzJEzBEvI6RTiEpJIF7rBIONClogRAQQQQAABBBBwR2DOHPseubFjpc2bg+M++2z7HrnOnaWKFd3pG5EigEDyBZgjJz/HQT2kEOdn3iPpNYNMJOw0igACCCCAAAIIJF7gX/+SRo2yO65++WVwdytVkrp1s0W5005LPAkdRAABBwSYIzuQpByESCEuB6hcMliAQYY7AwEEEEAAAQQQQCCXArt2SVOn2oLcq69K5s9BR/Pm9rHVVq3Y3CGX+eDaCCBwaAHmyH7eIRTi/Mx7JL1mkImEnUYRQAABBBBAAAEvBZYutZs7FBRIa9YEE5jNHXr3tps7nHCCl0x0GgEEIhRgjhwhfoRNU4iLEN+3phlkfMs4/UUAAQQQQAABBKIX2LJFGj/evktu5szgeMqUkdq2tY+tXnIJmztEnzUiQMAPAebIfuT5wF5SiPMz75H0mkEmEnYaRQABBBBAAAEEEPi3wMcf28dWx40rfHOHM86wBbmuXSXzXjkOBBBAIFcCzJFzJRvv61KIi3d+EhUdg0yi0klnEEAAAQQQQAABZwXS2dzB7LDapYstyp11lrNdJXAEEIixAHPkGCcnh6FRiMshLpfeX4BBhjsCAQQQQAABBBBAIE4CZjOHadPsKrlXXil8c4eLLrIFOfP4arlyceoBsSCAgMsCzJFdzl7xY6cQV3w7PpmhAINMhmCcjgACCCCAAAIIIBCawNdfS8OGScOHS6tXBzdbtarUs6fd4KFmzdBCoyEEEEioAHPkhCa2iG5RiPMz75H0mkEmEnYaRQABBBBAAAEEEMhAYNs26cUX7Sq5d94J/mCpUlLLlnaV3JVXSubPHAgggECmAsyRMxVLxvkU4pKRRyd6wSDjRJoIEgEEEEAAAQQQQODfAnPnSk88IT39tLRhQzBLnTpS375Sfr5UuTJ0CCCAQPoCzJHTt0rSmRTikpTNLPZl6dKlql27duAVe/TooYKCgoxbY5DJmIwPIIAAAggggAACCMRAYP16acwYu0run/8MDsi8O+6GG+wquUaNpLy8GAROCAggEGsB5sixTk/OgqMQlzNaty+8pxDXunVrtW/ffr/O1K1bVxdccEHGHWSQyZiMDyCAAAIIIIAAAgjESGD3bvu4qinImcdXt28PDu6886R+/aROnaQjjohRBwgFAQRiJcAcOVbpCC0YCnGhUbvV0J5C3N1336177703K8EzyGSFkYsggAACCCCAAAIIxEBg5UppxAhp6FDpm2+CA6pUSerWzT66esYZMQiaEBBAIFYCzJFjlY7QgqEQFxq1Ww3tW4gzxThzlC9fvkSdYJApER8fRgABBBBAAAEEEIihwM6d0qRJ9l1ykycXHmDTpnaV3HXXSWXLxrAjhIQAAqELMEcOnTwWDVKIi0Ua4hfEnkJcxYoVteHfb6Y1j6Tedttt6t+/f7ECZpApFhsfQgABBBBAAAEEEHBEYPFiu0LOrJRbuzY46GrVpB49pN69pZo1HekYYSKAQE4EmCPnhDX2F6UQF/sURRPg119/re7du6tNmzaqWbOmli9fntqgYdasWfrtb3+rhx566JCBrVixQua/fY8FCxaoS5cumj17tho0aBBNx2gVAQQQQAABBBBAAIEcC2zZIr3wgl0l9/77wY2VKiVdfbVdJdeihVS6dI6D4vIIIBA7AQpxsUtJKAFRiAuFORmN7Ny5U82bN9e7776rRYsW6eSTTy60Y/fcc48GDRoU+PcU4pJxP9ALBBBAAAEEEEAAgaIF5syxBbmxY6WNG4PPr1VL6tNH6t5dqlq16GtyBgIIJEOAQlwy8phpLyjEZSrm+fmvvPKKWrVqpaFDh6q3WU9fyMGKOM9vFLqPAAIIIIAAAgggsJ/AunXSmDG2KPfPfwbjHHaY1L693dzh4oulvDwQEUAgyQIU4pKc3cL7RiHOz7wXu9efffaZzjnnHN1333266667MroOg0xGXJyMAAIIIIAAAgggkECB3buld96xBbkJE6Tt24M7Wb++Lch17SoddVQCIegSAgiIObKfNwGFOD/zXuxev/jii2rXrl3qfXE9zFtmMzgYZDLA4lQEEEAAAQQQQACBxAusXi099ZTd4GHp0uDuVqggdepk3yXHa5YTf0vQQc8EmCN7lvB/d5dCnJ95L7LXa9eu1bHHHrvfeZs3b1aTJk00b948LV68WDVq1CjyOvuewCCTERcnI4AAAggggAACCHgisHOnNGWKXSU3aZJkVs0FHeefbwtyHTpIpkDHgQACbgswR3Y7f8WNnkJcceUS/rm2bdtq06ZNuuCCC1S9evXUrqmjR4/WV199pfvvv19/+MMfMhZgkMmYjA8ggAACCCCAAAIIeCawbJk0fLhUUCCtWhXc+aOPlrp1sxs8nH66Z0B0F4EECTBHTlAyM+gKhbgMsHw6dcSIEanC28KFC2VWx1WsWFENGjTQwIEDU5s1FOdgkCmOGp9BAAEEEEAAAQQQ8FFg2zZp4kTpySel6dMLF2jWzL5L7rrrpLJlfZSizwi4K8Ac2d3clSRyCnEl0eOzGQkwyGTExckIIIAAAggggAACCKQEPv9cGjZMGjVK+te/glGqVpXMK5x79ZJq1wYOAQRcEGCO7EKWsh8jhbjsm3LFQgQYZLg1EEAAAQQQQAABBBAovsDmzdLzz9t3yX3wQfB18vKkq66yq+SuvloqU6b47fFJBBDIrQBz5Nz6xvXqFOLimpkExsUgk8Ck0iUEEEAAAQQQQACBSAQ++cQ+tjp2rLRxY3AI1avbFXJmpdyJJ0YSJo0igMAhBJgj+3l7UIjzM++R9JpBJhJ2GkUAAQQQQAABBBBIsMD69bYYZ1bJzZ0b3NHSpSXzmmezSu7yy6VSpRIMQtcQcEiAObJDycpiqBTisojJpQ4twCDDHYIAAggggAACCCCAQG4Edu+WZs60BTnz+OrWrcHt1Kljd1vNz5eqVMlNLFwVAQTSE2COnJ5T0s6iEJe0jMa4PwwyMU4OoSGAAAIIIIAAAggkRuCHH6TRo+2jq198Edwts8Nqu3Z2ldzFF0vm3XIcCCAQrgBz5HC949Iahbi4ZMKDOBhkPEgyXUQAAQQQQAABBBCIjcCuXdL06bYgN3GitGNHcGinn25Xyd10k3TMMbEJn0AQSLwAc+TEpziwgxTi/Mx7JL1mkImEnUYRQAABBBBAAAEEENDKldJTT0nDhknLlgWDHH64dOONdpXcr37FKjluGwRyLcAcOdfC8bw+hbh45iWRUTHIJDKtdAoBBBBAAAEEEEDAIYGdO6UpU+wquUmTJLNqLug45xxbkOvcWTrySIc6SKgIOCTAHNmhZGUxVApxWcTkUocWYJDhDkEAAQQQQAABBBBAID4CX38tFRTY/1asCI7riCNsMc48utqgQXxiJxIEkiDAHDkJWcy8DxTiMjfjE8UUYJApJhwfQwABBBBAAAEEEEAghwLbt0uvvCINHSq98UbhDZ1/vi3ImcdXTYGOAwEESibAHLlkfq5+mkKcq5lzMG4GGQeTRsgIIIAAAggggAACXgksXiwNH27fJ/f998Fdr1RJ6trVFuXOOssrHjqLQFYFmCNnldOZi1GIcyZV7gfKION+DukBAggggAACCCCAgB8CW7fanVbNu+TeeqvwPl94oS3I3XCDVL68Hzb0EoFsCTBHzpakW9ehEOdWvpyOlkHG6fQRPAIIIIAAAggggICnAp9/bndbHT1aWrs2GOHoo6Vu3WxR7vTTPYWi2whkKMAcOUOwhJxOIS4hiXShGwwyLmSJGBFAAAEEEEAAAQQQCBbYskUaP96ukpsxo3Cliy+2Bbl27aTDD0cTAQQKE2CO7Oe9QSHOz7xH0msGmUjYaRQBBBBAAAEEEEAAgawLzJtnV8n97W/SunXBlz/uOLtKrndv6dRTsx4CF0TAeQHmyM6nsFgdoBBXLDY+VBwBBpniqPEZBBBAAAEEEEAAAQTiK7Bpk/Tcc3bH1Q8+KDzOZs3sKrnrrpPKlYtvf4gMgTAFmCOHqR2ftijExScXiY+EQSbxKaaDCCCAAAIIIIAAAh4LzJljC3Jjx0o//RQMUbmylJ9vV8nVresxFl1HQBJzZD9vAwpxfuY9kl4zyETCTqMIIIAAAggggAACCIQqsGGD9Mwztig3e3bhTV92mS3ItWkjlS0baog0hkAsBJgjxyINoQdBIS50cn8bZJDxN/f0HAEEEEAAAQQQQMBPAVOIMwW5ceOkjRuDDapWtavkevWSTj7ZTyd67acAc2Q/804hzs+8R9JrBplI2GkUAQQQQAABBBBAAIHIBdavt8U4U5Qzj7AWdlx+uX2XXOvW0mGHRR42ASCQUwHmyDnlje3FKcTFNjXJC4xBJnk5pUcIIIAAAggggAACCGQisHu3NGuWLciZx1fNZg9BR7VqUvfuUs+eUp06mbTAuQi4I8Ac2Z1cZTNSCnHZ1ORahxRgkOEGQQABBBBAAAEEEEAAgT0C69b9vEru008Ld7nySvsuuVatWCXH3ZMsAebIycpnur2hEJeuFOeVWIBBpsSEXAABBBBAAAEEEEAAgcQJmFVyH35oV8k9+6y0eXNwF48//udVcrVrJ46BDnkowBzZw6RLohDnZ94j6TWDTCTsNIoAAggggAACCCCAgDMCZpXcmDG2KDd3bnDYeXnSnlVy117LKjlnkkugBwkwR/bzpqAQ52feI+k1g0wk7DSKAAIIIIAAAggggIBzAmaV3AcfSMOGsUrOueQRcNoCzJHTpkrUiRTiEpXOeHeGQSbe+SE6BBBAAAEEEEAAAQTiKPDjjz+vkps3LzhCVsnFMXPEVJQAc+SihJL59xTikpnXWPaKQSaWaSEoBBBAAAEEEEAAAQScEDCr5GbOtKvknnuOd8k5kTSCPKQAc2Q/bxAKcX7mPZJeM8hEwk6jCCCAAAIIIIAAAggkTiDdVXJXXMGOq4lLfoI6xBw5QcnMoCsU4jLA4tSSCTDIlMyPTyOAAAIIIIAAAggggMD+AnveJWc2dzjUKrlq1X7ecbVOHRQRiIcAc+R45CHsKCjEhS3ucXsMMh4nn64jgAACCCCAAAIIIJBjAbNKbuzYQ++4akLYd5Vc2bI5DorLI3AIAebIft4eFOL8zHskvWaQiYSdRhFAAAEEEEAAAQQQ8Eog3VVyVatK+flSz55S3bpeEdHZmAgwR45JIkIOg0JcyOA+N8cg43P26TsCCCCAAAIIIIAAAuELmFVy48bZVXKffVZ4+5ddZt8l16aNxCq58PPka4vMkf3MPIU4P/MeSa8ZZCJhp1EEEEAAAQQQQAABBLwXMKvkPvzQ7rj67LPSpk3BJFWqSDffbFfJnXKK92wA5FiAOXKOgWN6eQpxMU1MEsNikEliVukTAggggAACCCCAAAJuCaxb9/MquU8/LTz2Sy+VevWS2raVypVzq49E64YAc2Q38pTtKCnEZVuU6xUqwCDDzYEAAggggAACCCCAAAJxETCr5D76SBo+XHrmGWnjxuDIjjtO6tbNFuVOOy0u0RNHEgSYIychi5n3gUJc5mZ8opgCDDLFhONjCCCAAAIIIIAAAgggkFOB9ettMc68S+6TTwpv6pJLbEGuXTupfPmchsTFPRBgjuxBkgO6SCHOz7xH0msGmUjYaRQBBBBAAAEEEEAAAQQyEJg9275LzmzysGFD8AePOUa66SZblKtfP4OLcyoC+wgwR/bzdqAQ52feI+k1g0wk7DSKAAIIIIAAAggggAACxRAwRTizsYNZJTdrVuEXaNzY7rh6/fVShQrFaIiPeCvAHNnP1FOI8zPvkfSaQSYSdhpFAAEEEEAAAQQQQACBEgqYx1XNu+TGjpXMY6xBx1FHSV262KLc2WeXsEE+7oUAc2Qv0nxQJynE+Zn3SHrNIBMJO40igAACCCCAAAIIIIBAlgTMhg7PP28fXZ05s/CLNmpkH1vt0EGqWDFLjXOZxAkwR05cStPqEIW4tJg4KRsCDDLZUOQaCCCAAAIIIIAAAgggEAeBuXPtKrm//U1aty44oiOPlDp1sqvkGjSIQ9TEECcB5shxykZ4sVCIC8/a+5YYZLy/BQBAAAEEEEAAAQQQQCBxAps2SePH26Lcu+8W3r2GDe0quY4dpUqVEsdAh4ohwBy5GGgJ+AiFuAQk0ZUuMMi4kiniRAABBBBAAAEEEEAAgeIIzJ//8yq5tWuDr3DEEdKNN9pVcuefL+XlFaclPpMEAebISchi5n2gEJe5GZ8opgCDTDHh+BgCCCCAAAIIIIAAAgg4JbBli/Tii7Yo99ZbhYduNnUwq+TMJg9HH+1UFwk2CwLMkbOA6OAlKMQ5mDRXQ2aQcTVzxI0AAggggAACCCCAAALFFVi4UCookEaNktasCb5K+fLS9dfbVXKNG7NKrrjWrn2OObJrGctOvBTisuPIVdIQYJBJA4lTEEAAAQQQQAABBBBAIJECW7dKL71kV8lNm1Z4F08/3a6Su+km6bjjEklBp/4twBzZz1uBQpyfeY+k1wwykbDTKAIIIIAAAggggAACCMRMYPFiacQIaeRIaeXK4ODKlpXatbNFuWbNWCUXsxRmJRzmyFlhdO4iFOKcS5m7ATPIuJs7IkcAAQQQQAABBBBAAIHsC2zfLr36ql0lN3mytHt3cBt169qCXLduUrVq2Y+DK0YjwBw5GveoW6UQF3UGPGqfQcajZNNVBBBAAAEEEEAAAQQQyEhg2TLpqafsf99+G/zRMmWk1q3tu+Quv1wqVSqjJjg5ZgLMkWOWkJDCoRAXEjTNSAwy3AUIIIAAAggggAACCCCAwKEFdu60q+OGDZMmTZLMn4OOWrWkHj2k/HzpxBNRdVGAObKLWSt5zBTiSm7IFdIUYJBJE4rTEEAAAQQQQAABBBBAAAFJ331n3yNndl01K+aCDrMqrmVLu0ruqqsks2qOww0B5shu5CnbUVKIy7Yo1ytUgEGGmwMBBBBAAAEEEEAAAQQQyFxg1y5p6lT7Ljmz8+qOHcHXMCvjune3K+Vq1sy8HT4RrgBz5HC949Iahbi4ZMKDOBhkPEgyXUQAAQQQQAABBBBAAIGcCqxaJY0aZVfJffllcFN5edKVV9oNHlq1kg47LKchcfFiCjBHLiac4x+jEOd4Al0Kn0HGpWwRKwIIIIAAAggggAACCMRZwKySe/ttu0puwgRp27bgaKtWlW6+WerZU6pXL8498i825sj+5dz0mEKcn3mPpNcMMpGw0ygCCCCAAAIIIIAAAggkXGDNGunpp21RbsGCwjvbrJldJde2rXT44QlHcaB7zJEdSFIOQqQQlwNULhkswCDDnYEAAggggAACCCCAAAII5E5g927pvfdsQe7556XNm4PbOvZYqWtXW5SrXz938XDlQwswR/bzDqEQ52feI+k1g0wk7DSKAAIIIIAAAggggAACHgr8+KM0bpwtys2ZUzhA48a2IHf99dIRR3gIFWGXmSNHiB9h0xTiIsT3rWkGGd8yTn8RQAABBBBAAAEEEEAgagGzSm72bFuQM4W5DRuCI6pUSerc2Rblzjsv6qj9aJ85sh95PrCXFOL8zHskvWaQiYSdRhFAAAEEEEAAAQQQQACBlIApwj33nC3KffBB4SgNG9qCXMeOkinQceRGgDlyblzjflUKcXHPUILiY5BJUDLpCgIIIIAAAggggAACCDgt8NlnUkGB3eTBPMYadJhHVTt0sEW5Ro2kvDynuxy74Jkjxy4loaWOJ+AAABypSURBVAREIS4UZhoxAgwy3AcIIIAAAggggAACCCCAQLwEzIYOEybYVXL/+EfhsZ15pi3Idekimc0eOEouwBy55IYuXoFCnItZczRmBhlHE0fYCCCAAAIIIIAAAggg4IXAwoV2ldzo0dL33wd3uVw5qV07W5Rr2pRVciW5MZgjl0TP3c9SiHM3d85FziDjXMoIGAEEEEAAAQQQQAABBDwU2LZNeuklu0pu6tTCAerVk3r2lLp1k6pV8xCqhF1mjlxCQEc/TiHO0cS5GDaDjItZI2YEEEAAAQQQQAABBBDwWWDJEmnECGnkSGn58mCJMmWk1q3tKrkrrpBKlfJZLP2+M0dO3ypJZ1KIS1I2Y94XBpmYJ4jwEEAAAQQQQAABBBBAAIFCBHbskF57zT66OmmStGtX8Ik1a0o9ekj5+VL16nAeSoA5sp/3B4U4P/MeSa8ZZCJhp1EEEEAAAQQQQAABBBBAIKsC331nV8iZlXJLlwZf2qyK+/Wv7Sq5li0ls2qOY38B5sh+3hEU4vzMeyS9ZpCJhJ1GEUAAAQQQQAABBBBAAIGcCJhVcdOm2XfJTZwomVVzQccJJ9gVcmalXJ06OQnFyYsyR3YybSUOmkJciQm5QLoCDDLpSnEeAggggAACCCCAAAIIIOCWwOrVdrdVU5T74ovCY7/8crtKzrxTzuzA6vPBHNnP7FOI8zPvkfSaQSYSdhpFAAEEEEAAAQQQQAABBEIT2L1b+sc/bEFu/Hhp69bgpitXlm66ye66evrpoYUXq4aYI8cqHaEFQyEuNGoaYpDhHkAAAQQQQAABBBBAAAEE/BFYu1YaM8YW5ebNK7zfF11kC3LXXy9VqOCPD3Nkf3K9b08pxPmZ90h6zSATCTuNIoAAAggggAACCCCAAAKRCphVch9+aAtyzz4rbdwYHM5RR0mdO9tHV889N9KQQ2mcOXIozLFrhEJc7FKS3IAYZJKbW3qGAAIIIIAAAggggAACCKQj8NNPthhninIffVT4Jxo2tAW5jh2lSpXSubJ75zBHdi9n2YiYQlw2FBN6jZ07d+qhhx5SQUGBvvnmG9WoUUM9e/bU7373O5UuXTrjXjPIZEzGBxBAAAEEEEAAAQQQQACBxAp8+qlUUGAfX/3xx+BumkdVb7zRFuUaNZLy8pLDwRw5ObnMpCcU4jLR8uzcW265RU888YTy8/PVuHFjvffeexo5cqTM//+xxx7LWINBJmMyPoAAAggggAACCCCAAAIIJF5g82a7sYNZJffOO4V398wz7bvkunaVjj3WfRbmyO7nsDg9oBBXHDUPPjN37lydc845GjBggAYPHry3xwMHDtSjjz6qTz/9VGeddVZGEgwyGXFxMgIIIIAAAggggAACCCDgncDnn9tVcqNHS2vWBHe/XDmpXTtblGvWzN1VcsyRvbu9Ux2mEOdn3ovs9d13360//elP+uqrr1S7du295y9ZskR16tTRXXfdpfvuu6/I6+x7AoNMRlycjAACCCCAAAIIIIAAAgh4K7B1q/Tyy3aV3NSphTPUrWsLcjffLFWr5hYXc2S38pWtaCnEZUsyYddp0aJFatXbypUrD+pZtWrVdN5552ny5MkZ9ZpBJiMuTkYAAQQQQAABBBBAAAEEEJC0ZIk0YoQ0cqS0fHkwSZkyUqtWtih35ZVSMV5rHro1c+TQyWPRIIW4WKQhfkGYx07Lli2r2bNnHxRcgwYNtH37dpnHVws7VqxYIfPfvseCBQvUpUuX1DXNNTgQQAABBBBAAAEEEEAAAQQQSFdgxw7p9dftKrlJk6Rdu4I/WaOGNGdO/N8jRyEu3cwn6zwKccnKZ9Z6c/LJJ8usfDMbNBx4mI0bVq9erS+//LLQ9u655x4NGjQo8O8pxGUtTVwIAQQQQAABBBBAAAEEEPBS4Lvv7Ao5s1Ju6dL9CczuqjNnxp+FQlz8c5SLCCnE5UI1AddkRVwCkkgXEEAAAQQQQAABBBBAAIGEC5hVcW++aVfJTZwobd9uN3vo0SP+HacQF/8c5SJCCnG5UE3ANXlHXAKSSBcQQAABBBBAAAEEEEAAAY8Evv9eevppqXdvqWLF+HecQlz8c5SLCCnE5UI1Adc0u6Lef//97JqagFzSBQQQQAABBBBAAAEEEEAAgfgJUIiLX07CiIhCXBjKDrZhdkw1O6MOGDBAgwcP3tuDgQMH6tFHH9WcOXN09tlnZ9QzBpmMuDgZAQQQQAABBBBAAAEEEEAgwQLMkROc3EN0jUKcn3lPq9d9+/bV0KFDlZ+fryZNmmjGjBkaOXKk+vTpoyeffDKta+x7EoNMxmR8AAEEEEAAAQQQQAABBBBAIKECzJETmtgiukUhzs+8p9XrHTt26MEHH1RBQYG+/fZbVa9eXT179tTvf/97lSlTJq1rUIjLmIkPIIAAAggggAACCCCAAAIIeCBAIc6DJAd0kUKcn3mPpNcMMpGw0ygCCCCAAAIIIIAAAggggEAMBZgjxzApIYREIS4EZJqwAgwy3AkIIIAAAggggAACCCCAAAIIMEf2+R6gEOdz9kPuO4W4kMFpDgEEEEAAAQQQQAABBBBAILYCzJFjm5qcBkYhLqe8XHxfAQYZ7gcEEEAAAQQQQAABBBBAAAEErABzZD/vBApxfuY9kl4zyETCTqMIIIAAAggggAACCCCAAAIxFGCOHMOkhBAShbgQkGmCaj/3AAIIIIAAAggggAACCCCAAAL7ClCI8/N+oBDnZ94j6TWDTCTsNIoAAggggAACCCCAAAIIIBBDAebIMUxKCCFRiAsBmSasAIMMdwICCCCAAAIIIIAAAggggAACzJF9vgcoxPmc/ZD7TiEuZHCaQwABBBBAAAEEEEAAAQQQiK0Ac+TYpiangVGIyykvF99XgEGG+wEBBBBAAAEEEEAAAQQQQAABK8Ac2c87gUKcn3mPpNcMMpGw0ygCCCCAAAIIIIAAAggggEAMBZgjxzApIYREIS4EZJqg2s89gAACCCCAAAIIIIAAAggggMC+AhTi/LwfKMT5mfdIes0gEwk7jSKAAAIIIIAAAggggAACCMRQgDlyDJMSQkgU4kJApgkrwCDDnYAAAggggAACCCCAAAIIIIAAc2Sf7wEKcT5nP+S+z5gxQxdddJHGjBmj008/PeTWaQ4BBBBAAAEEEEAAAQQQQACB+AgsWLBAXbp00bvvvqsmTZrEJzAiyakAhbic8nLxfQXGjh2bGmQ4EEAAAQQQQAABBBBAAAEEEEDACpjFKp07d4bDEwEKcZ4kOg7dXLNmjaZMmaJatWqpfPnycQjpkDHs+e0EK/hinyoCDEGA70MIyDThjADfB2dSRaA5FuC7kGNgLu+UAN8Hp9IVm2A3b96spUuXqkWLFqpcuXJs4iKQ3ApQiMutL1d3WIB32jmcPELPugDfh6yTckGHBfg+OJw8Qs+qAN+FrHJyMccF+D44nkDCRyBEAQpxIWLTlFsC/GPqVr6INrcCfB9y68vV3RLg++BWvog2dwJ8F3Jny5XdE+D74F7OiBiBqAQoxEUlT7uxF+Af09iniABDFOD7ECI2TcVegO9D7FNEgCEJ8F0ICZpmnBDg++BEmggSgVgIUIiLRRoIIo4C/GMax6wQU1QCfB+ikqfdOArwfYhjVogpCgG+C1Go02ZcBfg+xDUzxIVA/AQoxMUvJ0QUE4EVK1Zo6NCh6tOnj0444YSYREUYCEQjwPchGndajacA34d45oWowhfguxC+OS3GV4DvQ3xzQ2QIxE2AQlzcMkI8CCCAAAIIIIAAAggggAACCCCAAAKJFKAQl8i00ikEEEAAAQQQQAABBBBAAAEEEEAAgbgJUIiLW0aIBwEEEEAAAQQQQAABBBBAAAEEEEAgkQIU4hKZVjqFAAIIIIAAAggggAACCCCAAAIIIBA3AQpxccsI8SCAAAIIIIAAAggggAACCCCAAAIIJFKAQlwi00qnEEAAAQQQQAABBBBAAAEEEEAAAQTiJkAhLm4ZIZ7IBXbu3KmHHnpIBQUF+uabb1SjRg317NlTv/vd71S6dOnI4yMABLItMGvWLI0ZM0b/93//pyVLluiII45Q/fr1deedd+ryyy/frzm+H9nW53ouCJjvxmWXXZYK9YsvvlDdunX3hr1582bdc889GjdunL7//vvU3w0cOFC9evVyoWvEiEBaAitWrNAf//hHTZo0SatWrdJxxx2nX/3qVxo6dKiqVau29xrDhw/X4MGD9eWXX6pKlSrq1KlT6vtRvnz5tNrhJATiLGDmBeZ78Oabb8p8J8y937RpU91999065ZRT9obOz0pxziKxIRAPAQpx8cgDUcRI4JZbbtETTzyh/Px8NW7cWO+9955Gjhwp8/9/7LHHYhQpoSCQHYH27dvr7bffVrt27dSgQQNt2LAhdc/PmzdPjz/+uPr167e3Ib4f2THnKu4IbNu2Teecc07qFzMbN248qBDXsmVLvfHGG7r11lt1xhlnpAoVL730kh588MHUL3A4EHBdwBSfL7nkklQx7eabb1b16tVTRef3338/9YvLevXqpbpo7vn//M//VOvWrWW+F/Pnz9ejjz6qq666Sq+++qrrDMTvucAPP/ygM888U+bfBPNzUe3atVMFZzNnyMvL09y5c1PfDXPws5LnNwvdRyANAQpxaSBxij8C5h9RM+EaMGBA6je6ew6zusH8MPnpp5/qrLPO8geEnnohMGPGDP3yl79UuXLl9vbXrPI599xzU5Ot1atXq0yZMqkfMvl+eHFL0Ml9BO6//3498sgjqZU95v/uuyLOFBeuvfZa/eUvf9Htt9++91OmEDF16lQtW7YstSqIAwFXBXbv3q1GjRrJrPAxv7CpWLFiYFfMvxU1a9bUFVdckSpE7zkefvhh3XHHHalCnCnOcSDgqoD5xWT//v318ssvp8b9PceECRNkfqFp7vXbbruNn5VcTTBxIxCyAIW4kMFpLt4CZmn5n/70J3311Vep33TtOczjenXq1NFdd92l++67L96dIDoEsiTwH//xH6kCw9dff516RJvvR5ZguYwzAqaQZla5DRkyJFVUGzRo0H6FuM6dO+vFF1/U2rVr93v0bvr06WrevLmGDRvGI6rOZJtAgwT2PJb9yiuv6JprrtGWLVtUqlQplS1bdr/TzSOpvXv3Tr3i4NJLL937d5s2bUo9xtq2bVuNHTsWZAScFXjggQdSr+z46KOPUr+83HOYlaHmCRrzmLb5DvCzkrMpJnAEQhWgEBcqN43FXaBFixapVW8rV648KFTzHojzzjtPkydPjns3iA+BrAh07NhR48eP148//ph6bxzfj6ywchGHBMzKNrMi1LyiwBThDizEnXrqqTrmmGM0c+bM/XplVpRWqFBBffr00ZNPPulQjwkVgf0Ffv/736ceP33rrbdSv4w03wXzGJ5ZJWd+UXPhhRemPmDudVN4NoW3A98HZ85dt26dPv/8c3gRcFbAFODMexEvuOAC/c///I9q1aqVejTVrPg0r/Qwf1+pUiV+VnI2wwSOQLgCFOLC9aa1mAuYx07Nb3lnz559UKTm3Vnbt29PLTnnQCDpAgsWLEg9mmpWQJjHLszB9yPpWad/+wqYR+lMIe7DDz9Uw4YNUy+cP7AQd+SRR+rKK6/c+x3Z9/PHHnusmjRpIrOSiAMBVwXatGmTetS0cuXKuvjii2V+QbN8+fLUC+tN0c18P8y/DeZRPVOkM+/ROvAwq+HMo9o//fSTqwzEjUBKwBSbTUF63/vcvD/RrIw2Kz/5WYkbBQEE0hWgEJeuFOd5IXDyySendkAyP0weeJhl52ZlhPntFwcCSRYwKxfMKgezI5hZIXrSSSelusv3I8lZp2/7CpgVbWbnYPO+K/O4kTmCCnFmJ+0OHTqkdkw98PjFL36Reqx12rRp4CLgrIDZOdvsEGl2Dd73Xn7nnXdSGzhcf/31ev7551N/b36BY4p0Bx7m/YrmnB07djjrQOAIGIG///3vqVXO5gkBs0O2+eW8WTFqNnGYMmVK6ukBflbiXkEAgXQEKMSlo8Q53giw4sebVNPRQgRMAcL8gGkesTCPYTdt2nTvmXw/uG18Efiv//qv1I7BixYtSq0EKqwQx4o4X+4If/tpVrqZ1aGjRo1St27d9oMwj+aZfzNWrVrFijh/bxFvem5WvZlfvHz88cf7bdxmds02Pzf9+c9/lnmUm5+VvLkl6CgCJRKgEFciPj6cNAHegZW0jNKfTAS2bdumVq1apV62bX7gNI+l7nvw/chEk3NdFTAreszmPGb3u549e+7txl//+tfU7tlmdZApQJhzeEecq1km7nQF+vbtm1oV+vrrr+uqq67a72PmXVmmKGH+7eAdcemKcp6rAuYXk2Z34Pnz5x/UBfNuOLNC1BSt+VnJ1QwTNwLhClCIC9eb1mIuYN77cP/997NraszzRHjZFzCPDLVv3z71Piuzs92NN954UCN8P7LvzhXjJzBnzpzUxjyHOszjR+bl3OaRO/OoErumxi+PRJQdgREjRqQK0mZX1H0L0+bq1atXTzXy7bffpt6dZYpxB+6aalbMmfclsmtqdvLBVaITML94McfChQv3C2L37t0yq6Mvuuii1JME/KwUXY5oGQGXBCjEuZQtYs25gHkflpmADRgwQIMHD97b3sCBA1MrIcwE7eyzz855HDSAQJgCu3btShUUnnvuudRkqlevXoHN8/0IMyu0FZWAeUeiebH8gYd5x9ULL7yQ+rfAFCDMS+xN4dqsIjW7R95+++17P2I2eTDXWLp0qapWrRpVV2gXgRILrFmzRjVr1kw9bjdjxgyZ9yKaw6z8MY+t9ujRQwUFBal36JrzzGqgiRMn7m334YcfTu0q+fLLL6fO50DAVQEzrpsx33wP9uwWbPpidpc370q8++67de+996berctcwtUsEzcC4QlQiAvPmpYcEdjzGEZ+fn5qxzvzD+7IkSNTv+k1L2jlQCBpAmaSZCZL5rGLA1c8mL6aF9abTUzMwfcjadmnP+kKBG3WYD5rHtczj6uaX+CYzRlMgcLsMmlWV//hD39I9/Kch0BsBcwvJs2j2mbX1BtuuEHfffedzKPaZmWo2WW+Ro0aqdgfeOAB3XnnnakidcuWLVOP8JnCtdnwwTzayoGAywJmI7dmzZqpXLlyuuWWW1KbMpjNGswvMM2qz08++UTHH388Pyu5nGRiRyBEAQpxIWLTlBsC5hG9Bx98MPUbXvO4hVn5YIoT5gWsZcqUcaMTRIlABgLmB8u333670E9Mnz499cOnOfh+ZADLqYkSKKwQt2nTJv33f/+3nnnmmdT7g8zkzKyiNr+84UAgKQJjxoxJrfw0xbUKFSqkfkFjis3mXYn7HuZ9cqZwt3jxYlWpUkUdO3bUoEGDUp/hQMB1gc8++0x//OMfNWvWrNQOwaYAZ74LZiWcWRG65+BnJdczTfwI5F6AQlzujWkBAQQQQAABBBBAAAEEEEAAAQQQQAABUYjjJkAAAQQQQAABBBBAAAEEEEAAAQQQQCAEAQpxISDTBAIIIIAAAggggAACCCCAAAIIIIAAAhTiuAcQQAABBBBAAAEEEEAAAQQQQAABBBAIQYBCXAjINIEAAggggAACCCCAAAIIIIAAAggggACFOO4BBBBAAAEEEEAAAQQQQAABBBBAAAEEQhCgEBcCMk0ggAACCCCAAAIIIIAAAggggAACCCBAIY57AAEEEEAAAQQQQAABBBBAAAEEEEAAgRAEKMSFgEwTCCCAAAIIIIAAAggggAACCCCAAAIIUIjjHkAAAQQQQAABBBBAAAEEEEAAAQQQQCAEAQpxISDTBAIIIIAAAggggAACCCCAAAIIIIAAAhTiuAcQQAABBBBAAAEEEEAAAQQQQAABBBAIQYBCXAjINIEAAggggAACCCCAAAIIIIAAAggggACFOO4BBBBAAAEEEEDAI4Hnn39eDz30kObOnauyZcvqkksu0ZAhQ1SrVi2PFOgqAggggAACCCAQjQCFuGjcaRUBBBBAAAEEEAhdYOjQoerbt68uu+wyXXfddVq1alWqKNeoUSO99dZbocdDgwgggAACCCCAgG8CFOJ8yzj9RQABBBBAAAEvBTZs2KATTzxRTZo00WuvvbbXoGfPnho9erS2b9/upQudRgABBBBAAAEEwhSgEBemNm0hgAACCCCAAAIRCZhHUjt06KA333xTzZs33xuFWSE3btw4rV+/PqLIaBYBBBBAAAEEEPBHgEKcP7mmpwgggAACCCDgscAdd9yRehecWRln3g235zjttNNUrVo1vf322x7r0HUEEEAAAQQQQCAcAQpx4TjTCgIIIIAAAgggEKmAeS/cDz/8oDlz5uyNY8KECWrfvr0eeeQRDRw4MNL4aBwBBBBAAAEEEPBBgEKcD1mmjwgggAACCCDgvUCVKlXUsmVLFRQUaMGCBZo0aZLuvfdenXTSSZo1a5YqVKjgvREACCCAAAIIIIBArgUoxOVamOsjgAACCCCAAAIRCyxfvjy1UcPDDz+sevXq6ZprrklFVLp06VRBrkWLFhFHSPMIIIAAAggggIAfAhTi/MgzvUQAAQQQQAABjwVef/11XX311Zo+fbrq1Kmjjz/+WIsWLdJTTz2lL774QhMnTtS1117rsRBdRwABBBBAAAEEwhGgEBeOM60ggAACCCCAAAKRCTzwwAO68847tXbtWh1zzDF741i3bp2OP/54tW7dWs8++2xk8dEwAggggAACCCDgiwCFOF8yTT8RQAABBBBAwFuBTp06acaMGVq2bNl+BuvXr5d5d9ytt96q//3f//XWh44jgAACCCCAAAJhCVCIC0uadhBAAAEEEEAAgYgE6tevr5UrV2rhwoWqXLny3igGDRqke+65R7Nnz1aDBg0iio5mEUAAAQQQQAABfwQoxPmTa3qKAAIIIIAAAh4KbN26VRUrVtSOHTtUt25d9evXT+XLl0+9L278+PH67W9/qwcffNBDGbqMAAIIIIAAAgiEL0AhLnxzWkQAAQQQQAABBEITMBszNGzYUN26ddP777+vJUuWpN4Td+qpp6p///664YYblJeXF1o8NIQAAggggAACCPgsQCHO5+zTdwQQQAABBBBIvMDIkSPVvXv31O6oZkUcBwIIIIAAAggggEB0AhTiorOnZQQQQAABBBBAIOcCt912m4YNG6YNGzaoVKlSOW+PBhBAAAEEEEAAAQQKF6AQx92BAAIIIIAAAggkWKB58+Zat25dakMGDgQQQAABBBBAAIFoBSjERetP6wgggAACCCCAQE4FzC6pLVu21OjRo3PaDhdHAAEEEEAAAQQQKFqAQlzRRpyBAAIIIIAAAggggAACCCCAAAIIIIBAiQUoxJWYkAsggAACCCCAAAIIIIAAAggggAACCCBQtACFuKKNOAMBBBBAAAEEEEAAAQQQQAABBBBAAIESC1CIKzEhF0AAAQQQQAABBBBAAAEEEEAAAQQQQKBoAQpxRRtxBgIIIIAAAggggAACCCCAAAIIIIAAAiUWoBBXYkIugAACCCCAAAIIIIAAAggggAACCCCAQNECFOKKNuIMBBBAAAEEEEAAAQQQQAABBBBAAAEESixAIa7EhFwAAQQQQAABBBBAAAEEEEAAAQQQQACBogUoxBVtxBkIIIAAAggggAACCCCAAAIIIIAAAgiUWIBCXIkJuQACCCCAAAIIIIAAAggggAACCCCAAAJFC1CIK9qIMxBAAAEEEEAAAQQQQAABBBBAAAEEECixAIW4EhNyAQQQQAABBBBAAAEEEEAAAQQQQAABBIoW+H/CqSQUOXNeqAAAAABJRU5ErkJggg==\" width=\"1000\">"
      ],
      "text/plain": [
       "<IPython.core.display.HTML object>"
      ]
     },
     "metadata": {},
     "output_type": "display_data"
    },
    {
     "name": "stderr",
     "output_type": "stream",
     "text": [
      "No handles with labels found to put in legend.\n"
     ]
    },
    {
     "data": {
      "text/plain": [
       "<matplotlib.legend.Legend at 0x2983caf94c8>"
      ]
     },
     "execution_count": 96,
     "metadata": {},
     "output_type": "execute_result"
    }
   ],
   "source": [
    "_, (ax1) = plt.subplots(1, 1, figsize=(10,5))\n",
    "beta = np.linspace(0, 90 * np.pi/180, 100)\n",
    "theta = get_theta(beta) \n",
    "ax1.plot(beta * 180/np.pi, theta * 180/ np.pi, color='blue', lw=2)\n",
    "ax1.set_xlabel(r'$\\beta$'); ax1.set_ylabel(r'$\\theta$')\n",
    "ax1.legend()"
   ]
  },
  {
   "cell_type": "code",
   "execution_count": 97,
   "metadata": {},
   "outputs": [
    {
     "data": {
      "text/plain": [
       "array([25.23940182, 24.86948213, 24.50348373, 24.14134565, 23.7830075 ,\n",
       "       23.42840952, 23.07749255, 22.73019801, 22.38646796, 22.04624501,\n",
       "       21.7094724 , 21.37609394, 21.04605402, 20.7192976 , 20.39577022,\n",
       "       20.07541799, 19.75818756, 19.44402615, 19.13288152, 18.82470197,\n",
       "       18.51943634, 18.21703398, 17.91744478, 17.62061914, 17.32650796,\n",
       "       17.03506266, 16.74623514, 16.45997779, 16.17624349, 15.8949856 ,\n",
       "       15.61615793, 15.33971479, 15.06561091, 14.7938015 , 14.5242422 ,\n",
       "       14.2568891 , 13.99169872, 13.72862801, 13.46763432, 13.20867546,\n",
       "       12.95170962, 12.69669539, 12.44359177, 12.19235816, 11.94295432,\n",
       "       11.69534043, 11.449477  , 11.20532494, 10.96284552, 10.72200035,\n",
       "       10.4827514 , 10.245061  , 10.00889179,  9.77420676,  9.54096923,\n",
       "        9.30914284,  9.07869153,  8.84957957,  8.6217715 ,  8.3952322 ,\n",
       "        8.16992681,  7.94582075,  7.72287973,  7.50106974,  7.28035702,\n",
       "        7.06070805,  6.8420896 ,  6.62446866,  6.40781246,  6.19208847,\n",
       "        5.97726437,  5.76330807,  5.55018769,  5.33787155,  5.12632816,\n",
       "        4.91552625,  4.70543468,  4.49602255,  4.28725907,  4.07911366,\n",
       "        3.87155586,  3.66455537,  3.45808204,  3.25210585,  3.04659689,\n",
       "        2.84152538,  2.63686165,  2.43257615,  2.22863941,  2.02502204,\n",
       "        1.82169475,  1.61862831,  1.41579359,  1.21316147,  1.01070293,\n",
       "        0.80838895,  0.60619059,  0.40407892,  0.20202502,  0.        ])"
      ]
     },
     "execution_count": 97,
     "metadata": {},
     "output_type": "execute_result"
    }
   ],
   "source": [
    "theta * 180/np.pi"
   ]
  },
  {
   "cell_type": "code",
   "execution_count": null,
   "metadata": {},
   "outputs": [],
   "source": []
  }
 ],
 "metadata": {
  "kernelspec": {
   "display_name": "Python 3",
   "language": "python",
   "name": "python3"
  },
  "language_info": {
   "codemirror_mode": {
    "name": "ipython",
    "version": 3
   },
   "file_extension": ".py",
   "mimetype": "text/x-python",
   "name": "python",
   "nbconvert_exporter": "python",
   "pygments_lexer": "ipython3",
   "version": "3.7.6"
  },
  "toc": {
   "base_numbering": 1,
   "nav_menu": {},
   "number_sections": true,
   "sideBar": true,
   "skip_h1_title": false,
   "title_cell": "Table of Contents",
   "title_sidebar": "Contents",
   "toc_cell": false,
   "toc_position": {
    "height": "calc(100% - 180px)",
    "left": "10px",
    "top": "150px",
    "width": "165px"
   },
   "toc_section_display": true,
   "toc_window_display": true
  }
 },
 "nbformat": 4,
 "nbformat_minor": 2
}
