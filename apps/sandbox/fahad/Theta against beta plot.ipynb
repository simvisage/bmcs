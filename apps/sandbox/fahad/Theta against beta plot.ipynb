{
 "cells": [
  {
   "cell_type": "code",
   "execution_count": 3,
   "metadata": {},
   "outputs": [],
   "source": [
    "import sympy as sp\n",
    "import numpy as np"
   ]
  },
  {
   "cell_type": "code",
   "execution_count": 4,
   "metadata": {},
   "outputs": [],
   "source": [
    "r = sp.Symbol('r', real = True)\n",
    "theta =sp.Symbol(r'\\theta', real = True)\n",
    "K_I = sp.Symbol('K_I', real = True)\n",
    "K_II = sp.Symbol('K_{II}', real = True)\n",
    "sigma = sp.Symbol(r'\\sigma', real = True)\n",
    "a = sp.Symbol('a', real = True)\n",
    "beta = sp.Symbol(r'\\beta', real = True)"
   ]
  },
  {
   "cell_type": "code",
   "execution_count": 5,
   "metadata": {},
   "outputs": [
    {
     "data": {
      "text/latex": [
       "$\\displaystyle \\sqrt{\\pi} \\sigma \\sqrt{a} \\sin{\\left(\\beta \\right)} \\cos{\\left(\\beta \\right)}$"
      ],
      "text/plain": [
       "sqrt(pi)*\\sigma*sqrt(a)*sin(\\beta)*cos(\\beta)"
      ]
     },
     "execution_count": 5,
     "metadata": {},
     "output_type": "execute_result"
    }
   ],
   "source": [
    "K_I = sigma * (sp.sin(beta))**2 * sp.sqrt(sp.pi * a)\n",
    "K_I\n",
    "K_II = sigma * sp.sin(beta) * sp.cos(beta) * sp.sqrt(sp.pi * a)\n",
    "K_II"
   ]
  },
  {
   "cell_type": "code",
   "execution_count": 6,
   "metadata": {},
   "outputs": [
    {
     "data": {
      "text/latex": [
       "$\\displaystyle \\frac{\\sqrt{2} \\left(\\sqrt{\\pi} \\sigma \\sqrt{a} \\left(\\cos{\\left(\\theta \\right)} + 1\\right) \\sin^{2}{\\left(\\beta \\right)} - 3 \\sqrt{\\pi} \\sigma \\sqrt{a} \\sin{\\left(\\beta \\right)} \\sin{\\left(\\theta \\right)} \\cos{\\left(\\beta \\right)}\\right) \\cos{\\left(\\frac{\\theta}{2} \\right)}}{4 \\sqrt{\\pi} \\sqrt{r}}$"
      ],
      "text/plain": [
       "sqrt(2)*(sqrt(pi)*\\sigma*sqrt(a)*(cos(\\theta) + 1)*sin(\\beta)**2 - 3*sqrt(pi)*\\sigma*sqrt(a)*sin(\\beta)*sin(\\theta)*cos(\\beta))*cos(\\theta/2)/(4*sqrt(pi)*sqrt(r))"
      ]
     },
     "execution_count": 6,
     "metadata": {},
     "output_type": "execute_result"
    }
   ],
   "source": [
    "sig_the = (1/(2 * sp.sqrt(2 * sp.pi *r)))* sp.cos(theta/2)* (K_I * (1+sp.cos(theta)) - 3 * K_II * sp.sin(theta))\n",
    "sig_the"
   ]
  },
  {
   "cell_type": "code",
   "execution_count": 7,
   "metadata": {},
   "outputs": [
    {
     "data": {
      "text/latex": [
       "$\\displaystyle \\frac{3 \\sqrt{2} \\sigma \\sqrt{a} \\left(- 2 \\cos{\\left(\\beta - \\frac{3 \\theta}{2} \\right)} + 2 \\cos{\\left(\\beta + \\frac{\\theta}{2} \\right)} + \\frac{\\sin{\\left(\\beta - 2 \\theta \\right)}}{\\sin{\\left(\\frac{\\theta}{2} \\right)}} - \\frac{\\sin{\\left(\\beta + 2 \\theta \\right)}}{\\sin{\\left(\\frac{\\theta}{2} \\right)}}\\right) \\sin{\\left(\\beta \\right)}}{32 \\sqrt{r}}$"
      ],
      "text/plain": [
       "3*sqrt(2)*\\sigma*sqrt(a)*(-2*cos(\\beta - 3*\\theta/2) + 2*cos(\\beta + \\theta/2) + sin(\\beta - 2*\\theta)/sin(\\theta/2) - sin(\\beta + 2*\\theta)/sin(\\theta/2))*sin(\\beta)/(32*sqrt(r))"
      ]
     },
     "execution_count": 7,
     "metadata": {},
     "output_type": "execute_result"
    }
   ],
   "source": [
    "d_sig_the = sig_the.diff(theta)\n",
    "d_sig_theta = sp.simplify(d_sig_the)\n",
    "d_sig_theta"
   ]
  },
  {
   "cell_type": "code",
   "execution_count": 11,
   "metadata": {},
   "outputs": [],
   "source": [
    "params = {sigma: 1, a: 1, r: 1}"
   ]
  },
  {
   "cell_type": "code",
   "execution_count": 12,
   "metadata": {},
   "outputs": [
    {
     "data": {
      "text/latex": [
       "$\\displaystyle \\frac{3 \\sqrt{2} \\left(- 2 \\cos{\\left(\\beta - \\frac{3 \\theta}{2} \\right)} + 2 \\cos{\\left(\\beta + \\frac{\\theta}{2} \\right)} + \\frac{\\sin{\\left(\\beta - 2 \\theta \\right)}}{\\sin{\\left(\\frac{\\theta}{2} \\right)}} - \\frac{\\sin{\\left(\\beta + 2 \\theta \\right)}}{\\sin{\\left(\\frac{\\theta}{2} \\right)}}\\right) \\sin{\\left(\\beta \\right)}}{32}$"
      ],
      "text/plain": [
       "3*sqrt(2)*(-2*cos(\\beta - 3*\\theta/2) + 2*cos(\\beta + \\theta/2) + sin(\\beta - 2*\\theta)/sin(\\theta/2) - sin(\\beta + 2*\\theta)/sin(\\theta/2))*sin(\\beta)/32"
      ]
     },
     "execution_count": 12,
     "metadata": {},
     "output_type": "execute_result"
    }
   ],
   "source": [
    "b = sp.trigsimp(d_sig_theta.subs(params)) \n",
    "g = sp.collect(b, theta)\n",
    "g"
   ]
  },
  {
   "cell_type": "code",
   "execution_count": 26,
   "metadata": {},
   "outputs": [],
   "source": [
    "from sympy.solvers.solveset import solvify, nonlinsolve\n",
    "#solvify(b, theta, sp.S.Reals)\n",
    "#ab = sp.solve(g, theta) #exclude = [beta] ,  quick = True\n",
    "#ab =sp.solveset(g, theta, sp.S.Reals)\n",
    "#nonlinsolve([g], [theta])\n",
    "#ab[2]"
   ]
  },
  {
   "cell_type": "code",
   "execution_count": 14,
   "metadata": {},
   "outputs": [],
   "source": [
    "#K_I = sp.Function(r'K_I')(sigma, beta, a)\n",
    "#subs_K_I = {K_I : sigma * (sp.sin(beta))**2 * sp.sqrt(sp.pi * a)}\n",
    "#K_II = sp.Function(r'K_{II}')(sigma, beta, a) #sigma * sp.sin(beta) * sp.cos(beta) * sp.sqrt(sp.pi * a)\n",
    "#subs_K_II = {K_II: sigma * sp.sin(beta) * sp.cos(beta) * sp.sqrt(sp.pi * a)}\n",
    "#subs_K_I"
   ]
  },
  {
   "cell_type": "code",
   "execution_count": 15,
   "metadata": {},
   "outputs": [],
   "source": [
    "#p = ab[2].xreplace(list(zip([K_I, K_II], [K_I_, K_II_])))\n",
    "#p = ab[2].subs(list(zip([K_I, K_II], [K_I_, K_II_])))\n",
    "#p"
   ]
  },
  {
   "cell_type": "code",
   "execution_count": 16,
   "metadata": {},
   "outputs": [],
   "source": [
    "#get_the = sp.lambdify(beta,p,'numpy')"
   ]
  },
  {
   "cell_type": "code",
   "execution_count": 17,
   "metadata": {},
   "outputs": [
    {
     "data": {
      "text/latex": [
       "$\\displaystyle \\sqrt{\\pi} \\sigma \\sqrt{a} \\left(3 \\cos{\\left(\\theta \\right)} - 1\\right) \\sin{\\left(\\beta \\right)} \\cos{\\left(\\beta \\right)} + \\sqrt{\\pi} \\sigma \\sqrt{a} \\sin^{2}{\\left(\\beta \\right)} \\sin{\\left(\\theta \\right)}$"
      ],
      "text/plain": [
       "sqrt(pi)*\\sigma*sqrt(a)*(3*cos(\\theta) - 1)*sin(\\beta)*cos(\\beta) + sqrt(pi)*\\sigma*sqrt(a)*sin(\\beta)**2*sin(\\theta)"
      ]
     },
     "execution_count": 17,
     "metadata": {},
     "output_type": "execute_result"
    }
   ],
   "source": [
    "#from paper\n",
    "d_s_d_t = K_I*sp.sin(theta) + K_II * (3*sp.cos(theta) - 1)\n",
    "d_s_d_t"
   ]
  },
  {
   "cell_type": "code",
   "execution_count": 18,
   "metadata": {},
   "outputs": [
    {
     "data": {
      "text/latex": [
       "$\\displaystyle \\left(- \\cos{\\left(\\beta \\right)} + 2 \\cos{\\left(\\beta - \\theta \\right)} + \\cos{\\left(\\beta + \\theta \\right)}\\right) \\sin{\\left(\\beta \\right)}$"
      ],
      "text/plain": [
       "(-cos(\\beta) + 2*cos(\\beta - \\theta) + cos(\\beta + \\theta))*sin(\\beta)"
      ]
     },
     "execution_count": 18,
     "metadata": {},
     "output_type": "execute_result"
    }
   ],
   "source": [
    "final = sp.simplify(d_s_d_t / (sigma * sp.sqrt(sp.pi * a)))\n",
    "final"
   ]
  },
  {
   "cell_type": "code",
   "execution_count": 19,
   "metadata": {},
   "outputs": [
    {
     "data": {
      "text/latex": [
       "$\\displaystyle \\left(\\sin{\\left(\\beta \\right)} \\sin{\\left(\\theta \\right)} + 3 \\cos{\\left(\\beta \\right)} \\cos{\\left(\\theta \\right)} - \\cos{\\left(\\beta \\right)}\\right) \\sin{\\left(\\beta \\right)}$"
      ],
      "text/plain": [
       "(sin(\\beta)*sin(\\theta) + 3*cos(\\beta)*cos(\\theta) - cos(\\beta))*sin(\\beta)"
      ]
     },
     "execution_count": 19,
     "metadata": {},
     "output_type": "execute_result"
    }
   ],
   "source": [
    "a = sp.expand_trig(final)\n",
    "a"
   ]
  },
  {
   "cell_type": "code",
   "execution_count": 20,
   "metadata": {},
   "outputs": [
    {
     "data": {
      "text/latex": [
       "$\\displaystyle 2 \\operatorname{atan}{\\left(\\frac{\\sqrt{2 \\tan^{4}{\\left(\\frac{\\beta}{2} \\right)} - 3 \\tan^{2}{\\left(\\frac{\\beta}{2} \\right)} + 2} - \\tan{\\left(\\frac{\\beta}{2} \\right)}}{2 \\left(\\tan^{2}{\\left(\\frac{\\beta}{2} \\right)} - 1\\right)} \\right)}$"
      ],
      "text/plain": [
       "2*atan((sqrt(2*tan(\\beta/2)**4 - 3*tan(\\beta/2)**2 + 2) - tan(\\beta/2))/(2*(tan(\\beta/2)**2 - 1)))"
      ]
     },
     "execution_count": 20,
     "metadata": {},
     "output_type": "execute_result"
    }
   ],
   "source": [
    "sol = sp.solve(a, theta)\n",
    "sol[0]"
   ]
  },
  {
   "cell_type": "code",
   "execution_count": 22,
   "metadata": {},
   "outputs": [
    {
     "data": {
      "text/latex": [
       "$\\displaystyle 2 \\operatorname{atan}{\\left(\\frac{\\sqrt{2 \\tan^{4}{\\left(\\frac{\\beta}{2} \\right)} - 3 \\tan^{2}{\\left(\\frac{\\beta}{2} \\right)} + 2} - \\tan{\\left(\\frac{\\beta}{2} \\right)}}{2 \\left(\\tan^{2}{\\left(\\frac{\\beta}{2} \\right)} - 1\\right)} \\right)}$"
      ],
      "text/plain": [
       "2*atan((sqrt(2*tan(\\beta/2)**4 - 3*tan(\\beta/2)**2 + 2) - tan(\\beta/2))/(2*(tan(\\beta/2)**2 - 1)))"
      ]
     },
     "execution_count": 22,
     "metadata": {},
     "output_type": "execute_result"
    }
   ],
   "source": [
    "sol_ = sol[0]\n",
    "sol_"
   ]
  },
  {
   "cell_type": "code",
   "execution_count": 23,
   "metadata": {},
   "outputs": [
    {
     "data": {
      "text/plain": [
       "<function _lambdifygenerated(Dummy_171)>"
      ]
     },
     "execution_count": 23,
     "metadata": {},
     "output_type": "execute_result"
    }
   ],
   "source": [
    "get_theta = sp.lambdify(beta, sol_, 'numpy')\n",
    "get_theta"
   ]
  },
  {
   "cell_type": "code",
   "execution_count": 24,
   "metadata": {},
   "outputs": [],
   "source": [
    "def get_response(beta=90*np.pi/180, n_steps=8): #,n_steps=4\n",
    "    theta_rec = [] \n",
    "    beta_o = np.linspace(0,beta,n_steps+1)\n",
    "    for be in beta_o:\n",
    "        theta = get_theta(be)\n",
    "        theta_rec.append(theta)\n",
    "        #print(theta*180/np.pi)\n",
    "        #print(be)\n",
    "    return (\n",
    "        beta_o, np.array(theta_rec,dtype=np.float_)\n",
    "    )"
   ]
  },
  {
   "cell_type": "code",
   "execution_count": 25,
   "metadata": {},
   "outputs": [
    {
     "data": {
      "image/png": "[encoded data removed]",
      "text/plain": [
       "<Figure size 504x288 with 1 Axes>"
      ]
     },
     "metadata": {
      "needs_background": "light"
     },
     "output_type": "display_data"
    }
   ],
   "source": [
    "import matplotlib.pyplot as plt\n",
    "fig, ((ax1)) = plt.subplots(1,1,figsize=(7,4))\n",
    "colors = ['blue','red', 'green', 'black', 'magenta', 'pink']\n",
    "n_step_range = np.arange(1,2)*20\n",
    "beta = 90*np.pi/180\n",
    "for n_step, color in zip(n_step_range, colors):\n",
    "    beta_o, theta_arr = get_response(beta,n_step) \n",
    "    ax1.plot(beta_o*180/np.pi, theta_arr[:]*180/np.pi, color=color, \n",
    "         label='theta')\n",
    "    ax1.set_xlabel(r'$\\beta$'); ax1.set_ylabel(r'$\\theta$')\n",
    "    ax1.legend()"
   ]
  },
  {
   "cell_type": "code",
   "execution_count": null,
   "metadata": {},
   "outputs": [],
   "source": []
  },
  {
   "cell_type": "code",
   "execution_count": null,
   "metadata": {},
   "outputs": [],
   "source": []
  },
  {
   "cell_type": "code",
   "execution_count": null,
   "metadata": {},
   "outputs": [],
   "source": []
  },
  {
   "cell_type": "code",
   "execution_count": null,
   "metadata": {},
   "outputs": [],
   "source": []
  }
 ],
 "metadata": {
  "kernelspec": {
   "display_name": "Python 3",
   "language": "python",
   "name": "python3"
  },
  "language_info": {
   "codemirror_mode": {
    "name": "ipython",
    "version": 3
   },
   "file_extension": ".py",
   "mimetype": "text/x-python",
   "name": "python",
   "nbconvert_exporter": "python",
   "pygments_lexer": "ipython3",
   "version": "3.7.6"
  }
 },
 "nbformat": 4,
 "nbformat_minor": 4
}
