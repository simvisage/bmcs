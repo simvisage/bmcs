{
 "cells": [
  {
   "cell_type": "code",
   "execution_count": 22,
   "metadata": {},
   "outputs": [],
   "source": [
    "%matplotlib notebook\n",
    "import matplotlib.pyplot as plt\n",
    "import numpy as np\n",
    "import sympy as sp\n",
    "sp.init_printing()\n",
    "import ipywidgets as ipw"
   ]
  },
  {
   "cell_type": "code",
   "execution_count": 28,
   "metadata": {},
   "outputs": [
    {
     "data": {
      "text/plain": [
       "array([[[1. , 0. ],\n",
       "        [0. , 0. ]],\n",
       "\n",
       "       [[1. , 0.1],\n",
       "        [0. , 0. ]],\n",
       "\n",
       "       [[1. , 0.2],\n",
       "        [0. , 0. ]],\n",
       "\n",
       "       [[1. , 0.3],\n",
       "        [0. , 0. ]],\n",
       "\n",
       "       [[1. , 0.4],\n",
       "        [0. , 0. ]],\n",
       "\n",
       "       [[1. , 0.5],\n",
       "        [0. , 0. ]],\n",
       "\n",
       "       [[1. , 0.6],\n",
       "        [0. , 0. ]],\n",
       "\n",
       "       [[1. , 0.7],\n",
       "        [0. , 0. ]],\n",
       "\n",
       "       [[1. , 0.8],\n",
       "        [0. , 0. ]],\n",
       "\n",
       "       [[1. , 0.9],\n",
       "        [0. , 0. ]],\n",
       "\n",
       "       [[1. , 1. ],\n",
       "        [0. , 0. ]]])"
      ]
     },
     "execution_count": 28,
     "metadata": {},
     "output_type": "execute_result"
    }
   ],
   "source": [
    "sigma_x = 1\n",
    "eta = np.arange(0,1.1,0.1)\n",
    "sigma_ij = np.zeros((len(eta),2,2))\n",
    "sigma_ij[:,0,0] = sigma_x\n",
    "sigma_ij[:,0,1] = eta[:] * sigma_x\n",
    "sigma_ij"
   ]
  },
  {
   "cell_type": "code",
   "execution_count": 45,
   "metadata": {},
   "outputs": [
    {
     "data": {
      "text/plain": [
       "array([[[ 1.        , -0.        ],\n",
       "        [ 0.        ,  1.        ]],\n",
       "\n",
       "       [[ 0.98877108, -0.14943813],\n",
       "        [ 0.14943813,  0.98877108]],\n",
       "\n",
       "       [[ 0.95533649, -0.29552021],\n",
       "        [ 0.29552021,  0.95533649]],\n",
       "\n",
       "       [[ 0.9004471 , -0.43496553],\n",
       "        [ 0.43496553,  0.9004471 ]],\n",
       "\n",
       "       [[ 0.82533561, -0.56464247],\n",
       "        [ 0.56464247,  0.82533561]],\n",
       "\n",
       "       [[ 0.73168887, -0.68163876],\n",
       "        [ 0.68163876,  0.73168887]],\n",
       "\n",
       "       [[ 0.62160997, -0.78332691],\n",
       "        [ 0.78332691,  0.62160997]],\n",
       "\n",
       "       [[ 0.49757105, -0.86742323],\n",
       "        [ 0.86742323,  0.49757105]],\n",
       "\n",
       "       [[ 0.36235775, -0.93203909],\n",
       "        [ 0.93203909,  0.36235775]],\n",
       "\n",
       "       [[ 0.21900669, -0.97572336],\n",
       "        [ 0.97572336,  0.21900669]],\n",
       "\n",
       "       [[ 0.0707372 , -0.99749499],\n",
       "        [ 0.99749499,  0.0707372 ]]])"
      ]
     },
     "execution_count": 45,
     "metadata": {},
     "output_type": "execute_result"
    }
   ],
   "source": [
    "beta = np.arange(0,1.60,0.15) #beta in radians\n",
    "R_beta = np.zeros((len(eta),2,2))\n",
    "R_beta[:,0,0] = np.cos(beta[:])\n",
    "R_beta[:,0,1] = - np.sin(beta[:])\n",
    "R_beta[:,1,0] = np.sin(beta[:])\n",
    "R_beta[:,1,1] = np.cos(beta[:])\n",
    "R_beta"
   ]
  },
  {
   "cell_type": "code",
   "execution_count": 52,
   "metadata": {},
   "outputs": [
    {
     "data": {
      "text/plain": [
       "array([[[ 1.        ,  0.        ],\n",
       "        [ 0.        ,  0.        ]],\n",
       "\n",
       "       [[ 0.97766824, -0.1477601 ],\n",
       "        [ 0.1477601 , -0.02233176]],\n",
       "\n",
       "       [[ 0.91266781, -0.28232124],\n",
       "        [ 0.28232124, -0.08733219]],\n",
       "\n",
       "       [[ 0.81080498, -0.39166345],\n",
       "        [ 0.39166345, -0.18919502]],\n",
       "\n",
       "       [[ 0.68117888, -0.46601954],\n",
       "        [ 0.46601954, -0.31882112]],\n",
       "\n",
       "       [[ 0.5353686 , -0.49874749],\n",
       "        [ 0.49874749, -0.4646314 ]],\n",
       "\n",
       "       [[ 0.38639895, -0.48692382],\n",
       "        [ 0.48692382, -0.61360105]],\n",
       "\n",
       "       [[ 0.24757695, -0.43160468],\n",
       "        [ 0.43160468, -0.75242305]],\n",
       "\n",
       "       [[ 0.13130314, -0.33773159],\n",
       "        [ 0.33773159, -0.86869686]],\n",
       "\n",
       "       [[ 0.04796393, -0.21368994],\n",
       "        [ 0.21368994, -0.95203607]],\n",
       "\n",
       "       [[ 0.00500375, -0.07056   ],\n",
       "        [ 0.07056   , -0.99499625]]])"
      ]
     },
     "execution_count": 52,
     "metadata": {},
     "output_type": "execute_result"
    }
   ],
   "source": [
    "bar_sigma_beta_kl = np.einsum('...ki,...ij,...jl -> ...kl', R_beta, sigma_ij[0], R_beta)\n",
    "bar_sigma_beta_kl"
   ]
  },
  {
   "cell_type": "code",
   "execution_count": 58,
   "metadata": {},
   "outputs": [
    {
     "data": {
      "text/plain": [
       "array([1.77245385, 1.73287184, 1.61766157, 1.43711442, 1.20735812,\n",
       "       0.94891614, 0.68487431, 0.43881871, 0.23272876, 0.08501385,\n",
       "       0.00886892])"
      ]
     },
     "execution_count": 58,
     "metadata": {},
     "output_type": "execute_result"
    }
   ],
   "source": [
    "a = 1\n",
    "K_I = np.sqrt(np.pi * a) * bar_sigma_beta_kl[:,0,0]\n",
    "K_I"
   ]
  },
  {
   "cell_type": "code",
   "execution_count": 60,
   "metadata": {},
   "outputs": [
    {
     "data": {
      "text/plain": [
       "array([ 0.        , -0.26189796, -0.50040136, -0.6942054 , -0.82599813,\n",
       "       -0.88400692, -0.86304999, -0.76499938, -0.59861366, -0.37875556,\n",
       "       -0.12506435])"
      ]
     },
     "execution_count": 60,
     "metadata": {},
     "output_type": "execute_result"
    }
   ],
   "source": [
    "K_II = np.sqrt(np.pi * a) * bar_sigma_beta_kl[:,0,1]\n",
    "K_II"
   ]
  },
  {
   "cell_type": "code",
   "execution_count": null,
   "metadata": {},
   "outputs": [],
   "source": []
  }
 ],
 "metadata": {
  "kernelspec": {
   "display_name": "Python 3",
   "language": "python",
   "name": "python3"
  },
  "language_info": {
   "codemirror_mode": {
    "name": "ipython",
    "version": 3
   },
   "file_extension": ".py",
   "mimetype": "text/x-python",
   "name": "python",
   "nbconvert_exporter": "python",
   "pygments_lexer": "ipython3",
   "version": "3.7.6"
  },
  "toc": {
   "base_numbering": 1,
   "nav_menu": {},
   "number_sections": true,
   "sideBar": true,
   "skip_h1_title": false,
   "title_cell": "Table of Contents",
   "title_sidebar": "Contents",
   "toc_cell": false,
   "toc_position": {},
   "toc_section_display": true,
   "toc_window_display": false
  }
 },
 "nbformat": 4,
 "nbformat_minor": 4
}
