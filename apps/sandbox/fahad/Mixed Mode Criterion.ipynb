{
 "cells": [
  {
   "cell_type": "code",
   "execution_count": 1,
   "metadata": {},
   "outputs": [],
   "source": [
    "import numpy as np\n",
    "import sympy as sp\n",
    "from scipy.optimize import root\n",
    "import matplotlib.pyplot as plt"
   ]
  },
  {
   "cell_type": "markdown",
   "metadata": {},
   "source": [
    "# Determination of Crack Tip Stress Field\n",
    "In order to calculate crack tip stress field, an infinite stress field under uniform compressive load is assumed. The location of crack is supposed to be at the center having a length of $2a$. The angle of inclination of this crack to the direction of applied load is considered to be $\\beta$ as described in figure below. the figure shows a far field stress condition where $\\sigma_y$ is normal to the crack, $\\sigma_x$ is parallel and $\\tau_{xy}$ denotes the shear stress. These stresses are written as:\n",
    "\\begin{gather*}\n",
    "\\sigma_y= - \\sigma sin^2\\beta    \\\\\n",
    "\\sigma_x= - \\sigma cos^2\\beta    \\\\\n",
    "\\tau_{xy}= - \\sigma sin\\beta cos\\beta  \n",
    "\\end{gather*}\n",
    "Here, $\\sigma > 0$ for compressive stresses.  "
   ]
  },
  {
   "cell_type": "markdown",
   "metadata": {},
   "source": [
    "<img src=\"mixedmodecriterion.png\" width=\"500\"/>"
   ]
  },
  {
   "cell_type": "code",
   "execution_count": 2,
   "metadata": {},
   "outputs": [],
   "source": [
    "sigma = sp.Symbol(r'\\sigma', real = True)\n",
    "beta = sp.Symbol(r'\\beta', real = True)\n",
    "rho = sp.Symbol(r'\\rho', real = True)\n",
    "a = sp.Symbol('a', real = True)\n",
    "theta = sp.Symbol(r'\\theta', real = True)\n",
    "r = sp.Symbol('r', real = True) #Distance from the crack tip\n",
    "E = sp.Symbol('E', real = True)\n",
    "nu = sp.Symbol('r\\nu', real = True)\n",
    "mu = sp.Symbol('r\\mu', real = True)"
   ]
  },
  {
   "cell_type": "code",
   "execution_count": 3,
   "metadata": {},
   "outputs": [],
   "source": [
    "sig_y = - sigma * (sp.sin(beta))**2\n",
    "sig_x = - sigma * (sp.cos(beta))**2\n",
    "tau_xy = - sigma * sp.sin(beta) * sp.cos(beta)\n",
    "tau_xy;"
   ]
  },
  {
   "cell_type": "markdown",
   "metadata": {},
   "source": [
    "The enlargement of crack tip in the figure shows that $\\sigma_x$ represents the stress at the crack tip. Assuming that the tip of the crack has a sharp edge than $\\sigma_x$ will be neglected and the SIFs $K_I$ and $K_{II}$ are expressed as given:\n",
    "\\begin{gather*}\n",
    "K_I = - \\sigma \\sqrt{\\pi a}\\sin^2 \\beta  \\\\\n",
    "K_{II} = - \\sigma \\sqrt{\\pi a}\\sin\\beta \\cos\\beta  \n",
    "\\end{gather*}\n",
    "The negative value of $K_I$ represents the closure of the crack whereas the negative value of $K_{II}$ depicts that shear stress lies in the opposite direction."
   ]
  },
  {
   "cell_type": "code",
   "execution_count": 4,
   "metadata": {},
   "outputs": [],
   "source": [
    "K_I = - sigma * sp.sqrt(np.pi * a) * (sp.sin(beta))**2\n",
    "K_II = - sigma * sp.sqrt(np.pi * a) * sp.sin(beta) * sp.cos(beta)\n",
    "K_II;"
   ]
  },
  {
   "cell_type": "markdown",
   "metadata": {},
   "source": [
    "When the crack tip possess a finite curvature $\\rho$, it is observed that $\\sigma_x$ would produce tensile stresses close to the crack tip. Hence, \n",
    "\\begin{align}\n",
    "\\sigma_{max} = {\\lVert}{\\sigma_x}{\\rVert}  \n",
    "\\end{align}\n",
    "For this case, SIF will be written as:\n",
    "\\begin{gather*}\n",
    "K_I = \\sigma \\sqrt{\\pi a}\\left(\\frac{1}{2}\\sqrt{\\frac{\\rho}{a} }\\cos^2 \\beta - \\sin^2 \\beta \\right)  \\\\\n",
    "K_{II} = - \\sigma \\sqrt{\\pi a}\\sin\\beta \\cos\\beta  \n",
    "\\end{gather*}"
   ]
  },
  {
   "cell_type": "code",
   "execution_count": 5,
   "metadata": {},
   "outputs": [],
   "source": [
    "K_I_rho = sigma * sp.sqrt(np.pi * a) * (1/2 * sp.sqrt(rho / a) * (sp.cos(beta))**2 - (sp.sin(beta))**2)  \n",
    "K_I_rho;"
   ]
  },
  {
   "cell_type": "code",
   "execution_count": 6,
   "metadata": {},
   "outputs": [],
   "source": [
    "params = {\n",
    "    a : 25.4,\n",
    "    rho : 1,\n",
    "    sigma : 1.14,\n",
    "    r : 38.1,\n",
    "    nu : 0.21,\n",
    "    E : 20000,\n",
    "    #beta : 36\n",
    "       }"
   ]
  },
  {
   "cell_type": "code",
   "execution_count": 7,
   "metadata": {},
   "outputs": [
    {
     "data": {
      "text/latex": [
       "$\\displaystyle - 1.14 \\sin^{2}{\\left(\\beta \\right)}$"
      ],
      "text/plain": [
       "-1.14*sin(\\beta)**2"
      ]
     },
     "execution_count": 7,
     "metadata": {},
     "output_type": "execute_result"
    }
   ],
   "source": [
    "get_sig_y = sp.lambdify((beta), sig_y.subs(params),'numpy')\n",
    "sig_y.subs(params)"
   ]
  },
  {
   "cell_type": "code",
   "execution_count": 8,
   "metadata": {},
   "outputs": [
    {
     "data": {
      "text/latex": [
       "$\\displaystyle - 1.14 \\cos^{2}{\\left(\\beta \\right)}$"
      ],
      "text/plain": [
       "-1.14*cos(\\beta)**2"
      ]
     },
     "execution_count": 8,
     "metadata": {},
     "output_type": "execute_result"
    }
   ],
   "source": [
    "get_sig_x = sp.lambdify((beta), sig_x.subs(params),'numpy')\n",
    "sig_x.subs(params)"
   ]
  },
  {
   "cell_type": "code",
   "execution_count": 9,
   "metadata": {},
   "outputs": [],
   "source": [
    "get_tau_xy = sp.lambdify((beta), tau_xy.subs(params),'numpy')\n",
    "tau_xy.subs(params);"
   ]
  },
  {
   "cell_type": "code",
   "execution_count": 10,
   "metadata": {},
   "outputs": [
    {
     "data": {
      "text/latex": [
       "$\\displaystyle - 10.1834901109676 \\sin^{2}{\\left(\\beta \\right)}$"
      ],
      "text/plain": [
       "-10.1834901109676*sin(\\beta)**2"
      ]
     },
     "execution_count": 10,
     "metadata": {},
     "output_type": "execute_result"
    }
   ],
   "source": [
    "get_K_I = sp.lambdify((beta), K_I.subs(params),'numpy')\n",
    "K_I.subs(params)"
   ]
  },
  {
   "cell_type": "code",
   "execution_count": 11,
   "metadata": {},
   "outputs": [],
   "source": [
    "get_K_II = sp.lambdify((beta), K_II.subs(params),'numpy')\n",
    "K_II.subs(params);"
   ]
  },
  {
   "cell_type": "code",
   "execution_count": 12,
   "metadata": {},
   "outputs": [
    {
     "data": {
      "text/latex": [
       "$\\displaystyle - 10.1834901109676 \\sin^{2}{\\left(\\beta \\right)} + 1.01029869501614 \\cos^{2}{\\left(\\beta \\right)}$"
      ],
      "text/plain": [
       "-10.1834901109676*sin(\\beta)**2 + 1.01029869501614*cos(\\beta)**2"
      ]
     },
     "execution_count": 12,
     "metadata": {},
     "output_type": "execute_result"
    }
   ],
   "source": [
    "get_K_I_rho = sp.lambdify((beta), K_I_rho.subs(params),'numpy')\n",
    "K_I_rho.subs(params)"
   ]
  },
  {
   "cell_type": "markdown",
   "metadata": {},
   "source": [
    "## Kink Initiation Direction\n",
    "The direction of initiation of a kink crack can be attained from the given stress Intensity factors at tip of the notch. Moreover, the theories involved in evaluating the direction are:\n",
    "1. Maximum Stress Criteria\n",
    "2. Energy Release Rate Theory\n",
    "3. Kink Initiation Stress"
   ]
  },
  {
   "cell_type": "markdown",
   "metadata": {},
   "source": [
    "### Maximum Stress Criteria\n",
    "The theory states that the crack propagates in the radial direction. This direction of crack elongation is dependent on the maximum tangential stress and lies normal to the MTS $\\sigma_{\\theta}$. The simplified equation taken from the Erdogan an Sih concept are:\n",
    "\\begin{align}\n",
    "\\sigma_{\\theta} = \\frac{cos\\frac{\\theta}{2}}{\\sqrt{2\\pi r}}\\left(K_I\\cos^2\\frac{\\theta}{2} - \\frac{3}{2} K_{II} \\sin \\theta \\right) - \\sigma \\cos^2 \\beta \\sin^2 \\beta   \\\\\n",
    "\\end{align}\n",
    "This equation contains an additional term at the end which is taken from William's analysis and represents the crack tip curvature. Therefore, the direction of crack propagation is given as follows:\n",
    "\\begin{gather*}\n",
    "\\frac{\\partial \\sigma_{\\theta}}{\\partial \\theta} = 0   \\\\\n",
    "\\end{gather*}\n",
    "From Shah's paper, the value for $\\rho = 1 mm$ and $a = 25.4 mm$ which would yield $\\frac{\\rho}{a} = 0.039$.  The mode I SIF in direction of crack propagation angle $\\theta$ in terms of Maximum stress criteria is:\n",
    "\\begin{align}\n",
    "K_I(\\theta) = \\sigma_{\\theta} \\sqrt{2 \\pi r} \n",
    "\\end{align}"
   ]
  },
  {
   "cell_type": "code",
   "execution_count": 13,
   "metadata": {},
   "outputs": [],
   "source": [
    "sig_the = sp.cos(theta/2) / sp.sqrt(2*sp.pi*r) *(K_I_rho *(sp.cos(theta/2))**2 - (3/2) * K_II * sp.sin(theta)) -  \\\n",
    "            (sigma * (sp.cos(beta))**2 * (sp.sin(theta))**2)\n",
    "sig_the;"
   ]
  },
  {
   "cell_type": "code",
   "execution_count": 14,
   "metadata": {},
   "outputs": [],
   "source": [
    "get_sig_the = sp.lambdify((beta, theta), sig_the.subs(params), 'numpy')\n",
    "sig_the.subs(params);"
   ]
  },
  {
   "cell_type": "code",
   "execution_count": 15,
   "metadata": {},
   "outputs": [
    {
     "data": {
      "text/latex": [
       "$\\displaystyle - 2 \\sigma \\sin{\\left(\\theta \\right)} \\cos^{2}{\\left(\\beta \\right)} \\cos{\\left(\\theta \\right)} - \\frac{\\sqrt{2} \\left(1.77245385090552 \\sigma \\sqrt{a} \\left(0.5 \\sqrt{\\frac{\\rho}{a}} \\cos^{2}{\\left(\\beta \\right)} - \\sin^{2}{\\left(\\beta \\right)}\\right) \\cos^{2}{\\left(\\frac{\\theta}{2} \\right)} + 2.65868077635827 \\sigma \\sqrt{a} \\sin{\\left(\\beta \\right)} \\sin{\\left(\\theta \\right)} \\cos{\\left(\\beta \\right)}\\right) \\sin{\\left(\\frac{\\theta}{2} \\right)}}{4 \\sqrt{\\pi} \\sqrt{r}} + \\frac{\\sqrt{2} \\left(- 1.77245385090552 \\sigma \\sqrt{a} \\left(0.5 \\sqrt{\\frac{\\rho}{a}} \\cos^{2}{\\left(\\beta \\right)} - \\sin^{2}{\\left(\\beta \\right)}\\right) \\sin{\\left(\\frac{\\theta}{2} \\right)} \\cos{\\left(\\frac{\\theta}{2} \\right)} + 2.65868077635827 \\sigma \\sqrt{a} \\sin{\\left(\\beta \\right)} \\cos{\\left(\\beta \\right)} \\cos{\\left(\\theta \\right)}\\right) \\cos{\\left(\\frac{\\theta}{2} \\right)}}{2 \\sqrt{\\pi} \\sqrt{r}}$"
      ],
      "text/plain": [
       "-2*\\sigma*sin(\\theta)*cos(\\beta)**2*cos(\\theta) - sqrt(2)*(1.77245385090552*\\sigma*sqrt(a)*(0.5*sqrt(\\rho/a)*cos(\\beta)**2 - sin(\\beta)**2)*cos(\\theta/2)**2 + 2.65868077635827*\\sigma*sqrt(a)*sin(\\beta)*sin(\\theta)*cos(\\beta))*sin(\\theta/2)/(4*sqrt(pi)*sqrt(r)) + sqrt(2)*(-1.77245385090552*\\sigma*sqrt(a)*(0.5*sqrt(\\rho/a)*cos(\\beta)**2 - sin(\\beta)**2)*sin(\\theta/2)*cos(\\theta/2) + 2.65868077635827*\\sigma*sqrt(a)*sin(\\beta)*cos(\\beta)*cos(\\theta))*cos(\\theta/2)/(2*sqrt(pi)*sqrt(r))"
      ]
     },
     "execution_count": 15,
     "metadata": {},
     "output_type": "execute_result"
    }
   ],
   "source": [
    "diff_sig_the = sig_the.diff(theta)\n",
    "diff_sig_the"
   ]
  },
  {
   "cell_type": "code",
   "execution_count": 16,
   "metadata": {},
   "outputs": [],
   "source": [
    "get_diff_sig_the = sp.lambdify((beta, theta), diff_sig_the.subs(params),'numpy')\n",
    "diff_sig_the.subs(params);"
   ]
  },
  {
   "cell_type": "code",
   "execution_count": 17,
   "metadata": {},
   "outputs": [
    {
     "data": {
      "text/latex": [
       "$\\displaystyle - 2 \\sigma \\sin{\\left(\\theta \\right)} \\cos^{2}{\\left(\\beta \\right)} \\cos{\\left(\\theta \\right)} - \\frac{\\sqrt{2} \\left(1.77245385090552 \\sigma \\sqrt{a} \\left(0.5 \\sqrt{\\frac{\\rho}{a}} \\cos^{2}{\\left(\\beta \\right)} - \\sin^{2}{\\left(\\beta \\right)}\\right) \\cos^{2}{\\left(\\frac{\\theta}{2} \\right)} + 2.65868077635827 \\sigma \\sqrt{a} \\sin{\\left(\\beta \\right)} \\sin{\\left(\\theta \\right)} \\cos{\\left(\\beta \\right)}\\right) \\sin{\\left(\\frac{\\theta}{2} \\right)}}{4 \\sqrt{\\pi} \\sqrt{r}} + \\frac{\\sqrt{2} \\left(- 1.77245385090552 \\sigma \\sqrt{a} \\left(0.5 \\sqrt{\\frac{\\rho}{a}} \\cos^{2}{\\left(\\beta \\right)} - \\sin^{2}{\\left(\\beta \\right)}\\right) \\sin{\\left(\\frac{\\theta}{2} \\right)} \\cos{\\left(\\frac{\\theta}{2} \\right)} + 2.65868077635827 \\sigma \\sqrt{a} \\sin{\\left(\\beta \\right)} \\cos{\\left(\\beta \\right)} \\cos{\\left(\\theta \\right)}\\right) \\cos{\\left(\\frac{\\theta}{2} \\right)}}{2 \\sqrt{\\pi} \\sqrt{r}} = 0$"
      ],
      "text/plain": [
       "Eq(-2*\\sigma*sin(\\theta)*cos(\\beta)**2*cos(\\theta) - sqrt(2)*(1.77245385090552*\\sigma*sqrt(a)*(0.5*sqrt(\\rho/a)*cos(\\beta)**2 - sin(\\beta)**2)*cos(\\theta/2)**2 + 2.65868077635827*\\sigma*sqrt(a)*sin(\\beta)*sin(\\theta)*cos(\\beta))*sin(\\theta/2)/(4*sqrt(pi)*sqrt(r)) + sqrt(2)*(-1.77245385090552*\\sigma*sqrt(a)*(0.5*sqrt(\\rho/a)*cos(\\beta)**2 - sin(\\beta)**2)*sin(\\theta/2)*cos(\\theta/2) + 2.65868077635827*\\sigma*sqrt(a)*sin(\\beta)*cos(\\beta)*cos(\\theta))*cos(\\theta/2)/(2*sqrt(pi)*sqrt(r)), 0)"
      ]
     },
     "execution_count": 17,
     "metadata": {},
     "output_type": "execute_result"
    }
   ],
   "source": [
    "sp.Eq(diff_sig_the,0)"
   ]
  },
  {
   "cell_type": "code",
   "execution_count": 51,
   "metadata": {},
   "outputs": [
    {
     "ename": "ValueError",
     "evalue": "Both eqs and symbols must be iterable",
     "output_type": "error",
     "traceback": [
      "\u001b[1;31m---------------------------------------------------------------------------\u001b[0m",
      "\u001b[1;31mValueError\u001b[0m                                Traceback (most recent call last)",
      "\u001b[1;32m<ipython-input-51-5f698e7a903f>\u001b[0m in \u001b[0;36m<module>\u001b[1;34m\u001b[0m\n\u001b[0;32m      1\u001b[0m \u001b[1;32mfrom\u001b[0m \u001b[0msympy\u001b[0m\u001b[1;33m.\u001b[0m\u001b[0msolvers\u001b[0m\u001b[1;33m.\u001b[0m\u001b[0msolveset\u001b[0m \u001b[1;32mimport\u001b[0m \u001b[0mnonlinsolve\u001b[0m\u001b[1;33m\u001b[0m\u001b[1;33m\u001b[0m\u001b[0m\n\u001b[1;32m----> 2\u001b[1;33m \u001b[0mtheta_val\u001b[0m \u001b[1;33m=\u001b[0m \u001b[0mnonlinsolve\u001b[0m\u001b[1;33m(\u001b[0m\u001b[0mdiff_sig_the\u001b[0m\u001b[1;33m,\u001b[0m \u001b[0mtheta\u001b[0m\u001b[1;33m)\u001b[0m\u001b[1;33m\u001b[0m\u001b[1;33m\u001b[0m\u001b[0m\n\u001b[0m\u001b[0;32m      3\u001b[0m \u001b[1;31m#theta_val =sp.solvers.solve(diff_sig_the, theta, simplify=False, rational=False)\u001b[0m\u001b[1;33m\u001b[0m\u001b[1;33m\u001b[0m\u001b[1;33m\u001b[0m\u001b[0m\n\u001b[0;32m      4\u001b[0m \u001b[1;31m#theta_val =sp.solve_linear(diff_sig_the, rhs =0, symbols=[beta,a, sigma,rho,r], exclude=[theta])\u001b[0m\u001b[1;33m\u001b[0m\u001b[1;33m\u001b[0m\u001b[1;33m\u001b[0m\u001b[0m\n\u001b[0;32m      5\u001b[0m \u001b[0mtheta_val\u001b[0m\u001b[1;33m\u001b[0m\u001b[1;33m\u001b[0m\u001b[0m\n",
      "\u001b[1;32m~\\anaconda3\\lib\\site-packages\\sympy\\solvers\\solveset.py\u001b[0m in \u001b[0;36mnonlinsolve\u001b[1;34m(system, *symbols)\u001b[0m\n\u001b[0;32m   3369\u001b[0m         \u001b[1;32mraise\u001b[0m \u001b[0mIndexError\u001b[0m\u001b[1;33m(\u001b[0m\u001b[0mfilldedent\u001b[0m\u001b[1;33m(\u001b[0m\u001b[0mmsg\u001b[0m\u001b[1;33m)\u001b[0m\u001b[1;33m)\u001b[0m\u001b[1;33m\u001b[0m\u001b[1;33m\u001b[0m\u001b[0m\n\u001b[0;32m   3370\u001b[0m \u001b[1;33m\u001b[0m\u001b[0m\n\u001b[1;32m-> 3371\u001b[1;33m     \u001b[0msystem\u001b[0m\u001b[1;33m,\u001b[0m \u001b[0msymbols\u001b[0m\u001b[1;33m,\u001b[0m \u001b[0mswap\u001b[0m \u001b[1;33m=\u001b[0m \u001b[0mrecast_to_symbols\u001b[0m\u001b[1;33m(\u001b[0m\u001b[0msystem\u001b[0m\u001b[1;33m,\u001b[0m \u001b[0msymbols\u001b[0m\u001b[1;33m)\u001b[0m\u001b[1;33m\u001b[0m\u001b[1;33m\u001b[0m\u001b[0m\n\u001b[0m\u001b[0;32m   3372\u001b[0m     \u001b[1;32mif\u001b[0m \u001b[0mswap\u001b[0m\u001b[1;33m:\u001b[0m\u001b[1;33m\u001b[0m\u001b[1;33m\u001b[0m\u001b[0m\n\u001b[0;32m   3373\u001b[0m         \u001b[0msoln\u001b[0m \u001b[1;33m=\u001b[0m \u001b[0mnonlinsolve\u001b[0m\u001b[1;33m(\u001b[0m\u001b[0msystem\u001b[0m\u001b[1;33m,\u001b[0m \u001b[0msymbols\u001b[0m\u001b[1;33m)\u001b[0m\u001b[1;33m\u001b[0m\u001b[1;33m\u001b[0m\u001b[0m\n",
      "\u001b[1;32m~\\anaconda3\\lib\\site-packages\\sympy\\solvers\\solvers.py\u001b[0m in \u001b[0;36mrecast_to_symbols\u001b[1;34m(eqs, symbols)\u001b[0m\n\u001b[0;32m     86\u001b[0m     \"\"\"\n\u001b[0;32m     87\u001b[0m     \u001b[1;32mif\u001b[0m \u001b[1;32mnot\u001b[0m \u001b[0miterable\u001b[0m\u001b[1;33m(\u001b[0m\u001b[0meqs\u001b[0m\u001b[1;33m)\u001b[0m \u001b[1;32mand\u001b[0m \u001b[0miterable\u001b[0m\u001b[1;33m(\u001b[0m\u001b[0msymbols\u001b[0m\u001b[1;33m)\u001b[0m\u001b[1;33m:\u001b[0m\u001b[1;33m\u001b[0m\u001b[1;33m\u001b[0m\u001b[0m\n\u001b[1;32m---> 88\u001b[1;33m         \u001b[1;32mraise\u001b[0m \u001b[0mValueError\u001b[0m\u001b[1;33m(\u001b[0m\u001b[1;34m'Both eqs and symbols must be iterable'\u001b[0m\u001b[1;33m)\u001b[0m\u001b[1;33m\u001b[0m\u001b[1;33m\u001b[0m\u001b[0m\n\u001b[0m\u001b[0;32m     89\u001b[0m     \u001b[0mnew_symbols\u001b[0m \u001b[1;33m=\u001b[0m \u001b[0mlist\u001b[0m\u001b[1;33m(\u001b[0m\u001b[0msymbols\u001b[0m\u001b[1;33m)\u001b[0m\u001b[1;33m\u001b[0m\u001b[1;33m\u001b[0m\u001b[0m\n\u001b[0;32m     90\u001b[0m     \u001b[0mswap_sym\u001b[0m \u001b[1;33m=\u001b[0m \u001b[1;33m{\u001b[0m\u001b[1;33m}\u001b[0m\u001b[1;33m\u001b[0m\u001b[1;33m\u001b[0m\u001b[0m\n",
      "\u001b[1;31mValueError\u001b[0m: Both eqs and symbols must be iterable"
     ]
    }
   ],
   "source": [
    "from sympy.solvers.solveset import nonlinsolve\n",
    "theta_val = nonlinsolve(sp.Eq(diff_sig_the,0), theta)\n",
    "#theta_val =sp.solvers.solve(diff_sig_the, theta, simplify=False, rational=False)\n",
    "#theta_val =sp.solve_linear(diff_sig_the, rhs =0, symbols=[beta,a, sigma,rho,r], exclude=[theta])\n",
    "theta_val"
   ]
  },
  {
   "cell_type": "code",
   "execution_count": 19,
   "metadata": {},
   "outputs": [],
   "source": [
    "#from scipy.optimize import fsolve, root\n",
    "#x0 = 90\n",
    "#theta_val = root(get_diff_sig_the, x0)\n",
    "#theta_val.x"
   ]
  },
  {
   "cell_type": "code",
   "execution_count": 20,
   "metadata": {},
   "outputs": [],
   "source": [
    "#sigma_the = sig_the.subs(params).subs(theta, theta_val.x)\n",
    "#sigma_the"
   ]
  },
  {
   "cell_type": "code",
   "execution_count": 21,
   "metadata": {},
   "outputs": [],
   "source": [
    "get_sig_the = sp.lambdify((beta, theta), sig_the.subs(params), 'numpy')\n",
    "get_sig_the;"
   ]
  },
  {
   "cell_type": "code",
   "execution_count": 22,
   "metadata": {},
   "outputs": [],
   "source": [
    "sig_theta = sp.Symbol(r'\\sigma_{theta}', real = True)\n",
    "K_I_theta = sig_theta *sp.sqrt(2 * sp.pi * r)\n",
    "K_I_theta.subs(sig_theta, sig_the).subs(params);\n",
    "#get_K_I_the = sp.lambdify((beta), K_I_theta.subs(sig_theta, sig_the).subs(params), 'numpy')\n",
    "#K_I_theta.subs(sig_theta, sig_the).subs(params)"
   ]
  },
  {
   "cell_type": "markdown",
   "metadata": {},
   "source": [
    "### The Energy Release Rate Theory\n",
    "Hussain et al. used this theroy to find the energ release rate $G$. It calculates $G$ at the crack which moves from the main crack in direction of $\\theta$.\n",
    "1. The direction of the crack propagation is the one in which the maximum energy release rate occurs.\n",
    "2. the propagation of the crack starts when energy release rate reaches a limit value. \n",
    "\n",
    "It is given by:\n",
    "\\begin{align}\n",
    "G(\\theta) = \\frac{4}{E} \\frac{1}{(3 + cos^2\\theta)^2} \\left(\\frac{1 + \\frac{\\theta}{\\pi}}{1 - \\frac{\\theta}{\\pi}}\\right)^\\frac{-\\theta}{\\pi}((1 + 3 cos^2\\theta)K_I^2 - 8 K_I K_{II} sin\\theta cos\\theta + (9 - 5 cos^2\\theta)K_{II}^2) \n",
    "\\end{align}\n",
    "Here, $\\theta$ is obtained by the following condition:\n",
    "\\begin{gather*}\n",
    "\\frac{\\partial G}{\\partial \\theta} = 0  \n",
    "\\end{gather*}"
   ]
  },
  {
   "cell_type": "code",
   "execution_count": 23,
   "metadata": {},
   "outputs": [],
   "source": [
    "G_the = (4/E) * (1/(3 + (sp.cos(theta))**2)) * ((1 + (theta/sp.pi))/(1 - (theta/sp.pi)))**(- theta/sp.pi) * \\\n",
    "((1 + 3 * (sp.cos(theta))**2)* K_I**2 - 8*K_I*K_II*sp.sin(theta)*sp.cos(theta) + (9 - 5 * (sp.cos(theta))**2)*K_II**2)\n",
    "G_the;"
   ]
  },
  {
   "cell_type": "code",
   "execution_count": 24,
   "metadata": {},
   "outputs": [],
   "source": [
    "get_G_the = sp.lambdify((beta, theta), G_the.subs(params), 'numpy')\n",
    "G_the.subs(params);"
   ]
  },
  {
   "cell_type": "code",
   "execution_count": 25,
   "metadata": {},
   "outputs": [],
   "source": [
    "G_d_the = G_the.diff(theta)\n",
    "G_d_the;"
   ]
  },
  {
   "cell_type": "code",
   "execution_count": 43,
   "metadata": {},
   "outputs": [
    {
     "data": {
      "text/latex": [
       "$\\displaystyle \\frac{4 \\left(\\frac{\\frac{\\theta}{\\pi} + 1}{- \\frac{\\theta}{\\pi} + 1}\\right)^{- \\frac{\\theta}{\\pi}} \\left(- \\frac{\\theta \\left(- \\frac{\\theta}{\\pi} + 1\\right) \\left(\\frac{1}{\\pi \\left(- \\frac{\\theta}{\\pi} + 1\\right)} + \\frac{\\frac{\\theta}{\\pi} + 1}{\\pi \\left(- \\frac{\\theta}{\\pi} + 1\\right)^{2}}\\right)}{\\pi \\left(\\frac{\\theta}{\\pi} + 1\\right)} - \\frac{\\log{\\left(\\frac{\\frac{\\theta}{\\pi} + 1}{- \\frac{\\theta}{\\pi} + 1} \\right)}}{\\pi}\\right) \\left(3.14159265358979 \\sigma^{2} a \\left(9 - 5 \\cos^{2}{\\left(\\theta \\right)}\\right) \\sin^{2}{\\left(\\beta \\right)} \\cos^{2}{\\left(\\beta \\right)} + 3.14159265358979 \\sigma^{2} a \\left(3 \\cos^{2}{\\left(\\theta \\right)} + 1\\right) \\sin^{4}{\\left(\\beta \\right)} - 25.1327412287183 \\sigma^{2} a \\sin^{3}{\\left(\\beta \\right)} \\sin{\\left(\\theta \\right)} \\cos{\\left(\\beta \\right)} \\cos{\\left(\\theta \\right)}\\right)}{E \\left(\\cos^{2}{\\left(\\theta \\right)} + 3\\right)} + \\frac{4 \\left(\\frac{\\frac{\\theta}{\\pi} + 1}{- \\frac{\\theta}{\\pi} + 1}\\right)^{- \\frac{\\theta}{\\pi}} \\left(- 18.8495559215388 \\sigma^{2} a \\sin^{4}{\\left(\\beta \\right)} \\sin{\\left(\\theta \\right)} \\cos{\\left(\\theta \\right)} + 25.1327412287183 \\sigma^{2} a \\sin^{3}{\\left(\\beta \\right)} \\sin^{2}{\\left(\\theta \\right)} \\cos{\\left(\\beta \\right)} - 25.1327412287183 \\sigma^{2} a \\sin^{3}{\\left(\\beta \\right)} \\cos{\\left(\\beta \\right)} \\cos^{2}{\\left(\\theta \\right)} + 31.4159265358979 \\sigma^{2} a \\sin^{2}{\\left(\\beta \\right)} \\sin{\\left(\\theta \\right)} \\cos^{2}{\\left(\\beta \\right)} \\cos{\\left(\\theta \\right)}\\right)}{E \\left(\\cos^{2}{\\left(\\theta \\right)} + 3\\right)} + \\frac{8 \\left(\\frac{\\frac{\\theta}{\\pi} + 1}{- \\frac{\\theta}{\\pi} + 1}\\right)^{- \\frac{\\theta}{\\pi}} \\left(3.14159265358979 \\sigma^{2} a \\left(9 - 5 \\cos^{2}{\\left(\\theta \\right)}\\right) \\sin^{2}{\\left(\\beta \\right)} \\cos^{2}{\\left(\\beta \\right)} + 3.14159265358979 \\sigma^{2} a \\left(3 \\cos^{2}{\\left(\\theta \\right)} + 1\\right) \\sin^{4}{\\left(\\beta \\right)} - 25.1327412287183 \\sigma^{2} a \\sin^{3}{\\left(\\beta \\right)} \\sin{\\left(\\theta \\right)} \\cos{\\left(\\beta \\right)} \\cos{\\left(\\theta \\right)}\\right) \\sin{\\left(\\theta \\right)} \\cos{\\left(\\theta \\right)}}{E \\left(\\cos^{2}{\\left(\\theta \\right)} + 3\\right)^{2}} = 0$"
      ],
      "text/plain": [
       "Eq(4*((\\theta/pi + 1)/(-\\theta/pi + 1))**(-\\theta/pi)*(-\\theta*(-\\theta/pi + 1)*(1/(pi*(-\\theta/pi + 1)) + (\\theta/pi + 1)/(pi*(-\\theta/pi + 1)**2))/(pi*(\\theta/pi + 1)) - log((\\theta/pi + 1)/(-\\theta/pi + 1))/pi)*(3.14159265358979*\\sigma**2*a*(9 - 5*cos(\\theta)**2)*sin(\\beta)**2*cos(\\beta)**2 + 3.14159265358979*\\sigma**2*a*(3*cos(\\theta)**2 + 1)*sin(\\beta)**4 - 25.1327412287183*\\sigma**2*a*sin(\\beta)**3*sin(\\theta)*cos(\\beta)*cos(\\theta))/(E*(cos(\\theta)**2 + 3)) + 4*((\\theta/pi + 1)/(-\\theta/pi + 1))**(-\\theta/pi)*(-18.8495559215388*\\sigma**2*a*sin(\\beta)**4*sin(\\theta)*cos(\\theta) + 25.1327412287183*\\sigma**2*a*sin(\\beta)**3*sin(\\theta)**2*cos(\\beta) - 25.1327412287183*\\sigma**2*a*sin(\\beta)**3*cos(\\beta)*cos(\\theta)**2 + 31.4159265358979*\\sigma**2*a*sin(\\beta)**2*sin(\\theta)*cos(\\beta)**2*cos(\\theta))/(E*(cos(\\theta)**2 + 3)) + 8*((\\theta/pi + 1)/(-\\theta/pi + 1))**(-\\theta/pi)*(3.14159265358979*\\sigma**2*a*(9 - 5*cos(\\theta)**2)*sin(\\beta)**2*cos(\\beta)**2 + 3.14159265358979*\\sigma**2*a*(3*cos(\\theta)**2 + 1)*sin(\\beta)**4 - 25.1327412287183*\\sigma**2*a*sin(\\beta)**3*sin(\\theta)*cos(\\beta)*cos(\\theta))*sin(\\theta)*cos(\\theta)/(E*(cos(\\theta)**2 + 3)**2), 0)"
      ]
     },
     "execution_count": 43,
     "metadata": {},
     "output_type": "execute_result"
    }
   ],
   "source": [
    "q = sp.Eq(G_d_the,0)\n",
    "q"
   ]
  },
  {
   "cell_type": "code",
   "execution_count": 26,
   "metadata": {},
   "outputs": [],
   "source": [
    "get_G_d_the = sp.lambdify((beta, theta), G_d_the.subs(params),'numpy')\n",
    "G_d_the.subs(params);"
   ]
  },
  {
   "cell_type": "code",
   "execution_count": 27,
   "metadata": {},
   "outputs": [],
   "source": [
    "#from scipy.optimize import fsolve, root\n",
    "#x0 = 90\n",
    "#theta_val_G = root(get_G_d_the, x0)\n",
    "#theta_val_G.x"
   ]
  },
  {
   "cell_type": "code",
   "execution_count": 44,
   "metadata": {},
   "outputs": [
    {
     "ename": "KeyboardInterrupt",
     "evalue": "",
     "output_type": "error",
     "traceback": [
      "\u001b[1;31m---------------------------------------------------------------------------\u001b[0m",
      "\u001b[1;31mKeyboardInterrupt\u001b[0m                         Traceback (most recent call last)",
      "\u001b[1;32m<ipython-input-44-88b9c39dbe0a>\u001b[0m in \u001b[0;36m<module>\u001b[1;34m\u001b[0m\n\u001b[1;32m----> 1\u001b[1;33m \u001b[0mtheta_val_G\u001b[0m \u001b[1;33m=\u001b[0m \u001b[0msp\u001b[0m\u001b[1;33m.\u001b[0m\u001b[0msolve\u001b[0m\u001b[1;33m(\u001b[0m\u001b[0mq\u001b[0m\u001b[1;33m,\u001b[0m \u001b[0mtheta\u001b[0m\u001b[1;33m)\u001b[0m\u001b[1;33m\u001b[0m\u001b[1;33m\u001b[0m\u001b[0m\n\u001b[0m\u001b[0;32m      2\u001b[0m \u001b[0mtheta_val_G\u001b[0m\u001b[1;33m\u001b[0m\u001b[1;33m\u001b[0m\u001b[0m\n",
      "\u001b[1;32m~\\anaconda3\\lib\\site-packages\\sympy\\solvers\\solvers.py\u001b[0m in \u001b[0;36msolve\u001b[1;34m(f, *symbols, **flags)\u001b[0m\n\u001b[0;32m   1172\u001b[0m     \u001b[1;31m###########################################################################\u001b[0m\u001b[1;33m\u001b[0m\u001b[1;33m\u001b[0m\u001b[1;33m\u001b[0m\u001b[0m\n\u001b[0;32m   1173\u001b[0m     \u001b[1;32mif\u001b[0m \u001b[0mbare_f\u001b[0m\u001b[1;33m:\u001b[0m\u001b[1;33m\u001b[0m\u001b[1;33m\u001b[0m\u001b[0m\n\u001b[1;32m-> 1174\u001b[1;33m         \u001b[0msolution\u001b[0m \u001b[1;33m=\u001b[0m \u001b[0m_solve\u001b[0m\u001b[1;33m(\u001b[0m\u001b[0mf\u001b[0m\u001b[1;33m[\u001b[0m\u001b[1;36m0\u001b[0m\u001b[1;33m]\u001b[0m\u001b[1;33m,\u001b[0m \u001b[1;33m*\u001b[0m\u001b[0msymbols\u001b[0m\u001b[1;33m,\u001b[0m \u001b[1;33m**\u001b[0m\u001b[0mflags\u001b[0m\u001b[1;33m)\u001b[0m\u001b[1;33m\u001b[0m\u001b[1;33m\u001b[0m\u001b[0m\n\u001b[0m\u001b[0;32m   1175\u001b[0m     \u001b[1;32melse\u001b[0m\u001b[1;33m:\u001b[0m\u001b[1;33m\u001b[0m\u001b[1;33m\u001b[0m\u001b[0m\n\u001b[0;32m   1176\u001b[0m         \u001b[0msolution\u001b[0m \u001b[1;33m=\u001b[0m \u001b[0m_solve_system\u001b[0m\u001b[1;33m(\u001b[0m\u001b[0mf\u001b[0m\u001b[1;33m,\u001b[0m \u001b[0msymbols\u001b[0m\u001b[1;33m,\u001b[0m \u001b[1;33m**\u001b[0m\u001b[0mflags\u001b[0m\u001b[1;33m)\u001b[0m\u001b[1;33m\u001b[0m\u001b[1;33m\u001b[0m\u001b[0m\n",
      "\u001b[1;32m~\\anaconda3\\lib\\site-packages\\sympy\\solvers\\solvers.py\u001b[0m in \u001b[0;36m_solve\u001b[1;34m(f, *symbols, **flags)\u001b[0m\n\u001b[0;32m   1738\u001b[0m         \u001b[0mflags\u001b[0m\u001b[1;33m.\u001b[0m\u001b[0mpop\u001b[0m\u001b[1;33m(\u001b[0m\u001b[1;34m'tsolve'\u001b[0m\u001b[1;33m,\u001b[0m \u001b[1;32mNone\u001b[0m\u001b[1;33m)\u001b[0m  \u001b[1;31m# allow tsolve to be used on next pass\u001b[0m\u001b[1;33m\u001b[0m\u001b[1;33m\u001b[0m\u001b[0m\n\u001b[0;32m   1739\u001b[0m         \u001b[1;32mtry\u001b[0m\u001b[1;33m:\u001b[0m\u001b[1;33m\u001b[0m\u001b[1;33m\u001b[0m\u001b[0m\n\u001b[1;32m-> 1740\u001b[1;33m             \u001b[0msoln\u001b[0m \u001b[1;33m=\u001b[0m \u001b[0m_tsolve\u001b[0m\u001b[1;33m(\u001b[0m\u001b[0mf_num\u001b[0m\u001b[1;33m,\u001b[0m \u001b[0msymbol\u001b[0m\u001b[1;33m,\u001b[0m \u001b[1;33m**\u001b[0m\u001b[0mflags\u001b[0m\u001b[1;33m)\u001b[0m\u001b[1;33m\u001b[0m\u001b[1;33m\u001b[0m\u001b[0m\n\u001b[0m\u001b[0;32m   1741\u001b[0m             \u001b[1;32mif\u001b[0m \u001b[0msoln\u001b[0m \u001b[1;32mis\u001b[0m \u001b[1;32mnot\u001b[0m \u001b[1;32mNone\u001b[0m\u001b[1;33m:\u001b[0m\u001b[1;33m\u001b[0m\u001b[1;33m\u001b[0m\u001b[0m\n\u001b[0;32m   1742\u001b[0m                 \u001b[0mresult\u001b[0m \u001b[1;33m=\u001b[0m \u001b[0msoln\u001b[0m\u001b[1;33m\u001b[0m\u001b[1;33m\u001b[0m\u001b[0m\n",
      "\u001b[1;32m~\\anaconda3\\lib\\site-packages\\sympy\\solvers\\solvers.py\u001b[0m in \u001b[0;36m_tsolve\u001b[1;34m(eq, sym, **flags)\u001b[0m\n\u001b[0;32m   2840\u001b[0m         \u001b[1;32mif\u001b[0m \u001b[0mpos\u001b[0m\u001b[1;33m.\u001b[0m\u001b[0mhas\u001b[0m\u001b[1;33m(\u001b[0m\u001b[0mu\u001b[0m\u001b[1;33m)\u001b[0m\u001b[1;33m:\u001b[0m\u001b[1;33m\u001b[0m\u001b[1;33m\u001b[0m\u001b[0m\n\u001b[0;32m   2841\u001b[0m             \u001b[1;32mtry\u001b[0m\u001b[1;33m:\u001b[0m\u001b[1;33m\u001b[0m\u001b[1;33m\u001b[0m\u001b[0m\n\u001b[1;32m-> 2842\u001b[1;33m                 \u001b[0msoln\u001b[0m \u001b[1;33m=\u001b[0m \u001b[0m_solve\u001b[0m\u001b[1;33m(\u001b[0m\u001b[0mpos\u001b[0m\u001b[1;33m,\u001b[0m \u001b[0mu\u001b[0m\u001b[1;33m,\u001b[0m \u001b[1;33m**\u001b[0m\u001b[0mflags\u001b[0m\u001b[1;33m)\u001b[0m\u001b[1;33m\u001b[0m\u001b[1;33m\u001b[0m\u001b[0m\n\u001b[0m\u001b[0;32m   2843\u001b[0m                 \u001b[1;32mreturn\u001b[0m \u001b[0mlist\u001b[0m\u001b[1;33m(\u001b[0m\u001b[0mordered\u001b[0m\u001b[1;33m(\u001b[0m\u001b[1;33m[\u001b[0m\u001b[0ms\u001b[0m\u001b[1;33m.\u001b[0m\u001b[0msubs\u001b[0m\u001b[1;33m(\u001b[0m\u001b[0mreps\u001b[0m\u001b[1;33m)\u001b[0m \u001b[1;32mfor\u001b[0m \u001b[0ms\u001b[0m \u001b[1;32min\u001b[0m \u001b[0msoln\u001b[0m\u001b[1;33m]\u001b[0m\u001b[1;33m)\u001b[0m\u001b[1;33m)\u001b[0m\u001b[1;33m\u001b[0m\u001b[1;33m\u001b[0m\u001b[0m\n\u001b[0;32m   2844\u001b[0m             \u001b[1;32mexcept\u001b[0m \u001b[0mNotImplementedError\u001b[0m\u001b[1;33m:\u001b[0m\u001b[1;33m\u001b[0m\u001b[1;33m\u001b[0m\u001b[0m\n",
      "\u001b[1;32m~\\anaconda3\\lib\\site-packages\\sympy\\solvers\\solvers.py\u001b[0m in \u001b[0;36m_solve\u001b[1;34m(f, *symbols, **flags)\u001b[0m\n\u001b[0;32m   1454\u001b[0m                 \u001b[0mresult\u001b[0m \u001b[1;33m=\u001b[0m \u001b[0mset\u001b[0m\u001b[1;33m(\u001b[0m\u001b[1;33m)\u001b[0m\u001b[1;33m\u001b[0m\u001b[1;33m\u001b[0m\u001b[0m\n\u001b[0;32m   1455\u001b[0m                 \u001b[1;32mbreak\u001b[0m\u001b[1;33m\u001b[0m\u001b[1;33m\u001b[0m\u001b[0m\n\u001b[1;32m-> 1456\u001b[1;33m             \u001b[0msoln\u001b[0m \u001b[1;33m=\u001b[0m \u001b[0m_solve\u001b[0m\u001b[1;33m(\u001b[0m\u001b[0mm\u001b[0m\u001b[1;33m,\u001b[0m \u001b[0msymbol\u001b[0m\u001b[1;33m,\u001b[0m \u001b[1;33m**\u001b[0m\u001b[0mflags\u001b[0m\u001b[1;33m)\u001b[0m\u001b[1;33m\u001b[0m\u001b[1;33m\u001b[0m\u001b[0m\n\u001b[0m\u001b[0;32m   1457\u001b[0m             \u001b[0mresult\u001b[0m\u001b[1;33m.\u001b[0m\u001b[0mupdate\u001b[0m\u001b[1;33m(\u001b[0m\u001b[0mset\u001b[0m\u001b[1;33m(\u001b[0m\u001b[0msoln\u001b[0m\u001b[1;33m)\u001b[0m\u001b[1;33m)\u001b[0m\u001b[1;33m\u001b[0m\u001b[1;33m\u001b[0m\u001b[0m\n\u001b[0;32m   1458\u001b[0m         \u001b[0mresult\u001b[0m \u001b[1;33m=\u001b[0m \u001b[0mlist\u001b[0m\u001b[1;33m(\u001b[0m\u001b[0mresult\u001b[0m\u001b[1;33m)\u001b[0m\u001b[1;33m\u001b[0m\u001b[1;33m\u001b[0m\u001b[0m\n",
      "\u001b[1;32m~\\anaconda3\\lib\\site-packages\\sympy\\solvers\\solvers.py\u001b[0m in \u001b[0;36m_solve\u001b[1;34m(f, *symbols, **flags)\u001b[0m\n\u001b[0;32m   1738\u001b[0m         \u001b[0mflags\u001b[0m\u001b[1;33m.\u001b[0m\u001b[0mpop\u001b[0m\u001b[1;33m(\u001b[0m\u001b[1;34m'tsolve'\u001b[0m\u001b[1;33m,\u001b[0m \u001b[1;32mNone\u001b[0m\u001b[1;33m)\u001b[0m  \u001b[1;31m# allow tsolve to be used on next pass\u001b[0m\u001b[1;33m\u001b[0m\u001b[1;33m\u001b[0m\u001b[0m\n\u001b[0;32m   1739\u001b[0m         \u001b[1;32mtry\u001b[0m\u001b[1;33m:\u001b[0m\u001b[1;33m\u001b[0m\u001b[1;33m\u001b[0m\u001b[0m\n\u001b[1;32m-> 1740\u001b[1;33m             \u001b[0msoln\u001b[0m \u001b[1;33m=\u001b[0m \u001b[0m_tsolve\u001b[0m\u001b[1;33m(\u001b[0m\u001b[0mf_num\u001b[0m\u001b[1;33m,\u001b[0m \u001b[0msymbol\u001b[0m\u001b[1;33m,\u001b[0m \u001b[1;33m**\u001b[0m\u001b[0mflags\u001b[0m\u001b[1;33m)\u001b[0m\u001b[1;33m\u001b[0m\u001b[1;33m\u001b[0m\u001b[0m\n\u001b[0m\u001b[0;32m   1741\u001b[0m             \u001b[1;32mif\u001b[0m \u001b[0msoln\u001b[0m \u001b[1;32mis\u001b[0m \u001b[1;32mnot\u001b[0m \u001b[1;32mNone\u001b[0m\u001b[1;33m:\u001b[0m\u001b[1;33m\u001b[0m\u001b[1;33m\u001b[0m\u001b[0m\n\u001b[0;32m   1742\u001b[0m                 \u001b[0mresult\u001b[0m \u001b[1;33m=\u001b[0m \u001b[0msoln\u001b[0m\u001b[1;33m\u001b[0m\u001b[1;33m\u001b[0m\u001b[0m\n",
      "\u001b[1;32m~\\anaconda3\\lib\\site-packages\\sympy\\solvers\\solvers.py\u001b[0m in \u001b[0;36m_tsolve\u001b[1;34m(eq, sym, **flags)\u001b[0m\n\u001b[0;32m   2770\u001b[0m         \u001b[0mrewrite\u001b[0m \u001b[1;33m=\u001b[0m \u001b[0mlhs\u001b[0m\u001b[1;33m.\u001b[0m\u001b[0mrewrite\u001b[0m\u001b[1;33m(\u001b[0m\u001b[0mexp\u001b[0m\u001b[1;33m)\u001b[0m\u001b[1;33m\u001b[0m\u001b[1;33m\u001b[0m\u001b[0m\n\u001b[0;32m   2771\u001b[0m         \u001b[1;32mif\u001b[0m \u001b[0mrewrite\u001b[0m \u001b[1;33m!=\u001b[0m \u001b[0mlhs\u001b[0m\u001b[1;33m:\u001b[0m\u001b[1;33m\u001b[0m\u001b[1;33m\u001b[0m\u001b[0m\n\u001b[1;32m-> 2772\u001b[1;33m             \u001b[1;32mreturn\u001b[0m \u001b[0m_solve\u001b[0m\u001b[1;33m(\u001b[0m\u001b[0mrewrite\u001b[0m \u001b[1;33m-\u001b[0m \u001b[0mrhs\u001b[0m\u001b[1;33m,\u001b[0m \u001b[0msym\u001b[0m\u001b[1;33m,\u001b[0m \u001b[1;33m**\u001b[0m\u001b[0mflags\u001b[0m\u001b[1;33m)\u001b[0m\u001b[1;33m\u001b[0m\u001b[1;33m\u001b[0m\u001b[0m\n\u001b[0m\u001b[0;32m   2773\u001b[0m     \u001b[1;32mexcept\u001b[0m \u001b[0mNotImplementedError\u001b[0m\u001b[1;33m:\u001b[0m\u001b[1;33m\u001b[0m\u001b[1;33m\u001b[0m\u001b[0m\n\u001b[0;32m   2774\u001b[0m         \u001b[1;32mpass\u001b[0m\u001b[1;33m\u001b[0m\u001b[1;33m\u001b[0m\u001b[0m\n",
      "\u001b[1;32m~\\anaconda3\\lib\\site-packages\\sympy\\solvers\\solvers.py\u001b[0m in \u001b[0;36m_solve\u001b[1;34m(f, *symbols, **flags)\u001b[0m\n\u001b[0;32m   1738\u001b[0m         \u001b[0mflags\u001b[0m\u001b[1;33m.\u001b[0m\u001b[0mpop\u001b[0m\u001b[1;33m(\u001b[0m\u001b[1;34m'tsolve'\u001b[0m\u001b[1;33m,\u001b[0m \u001b[1;32mNone\u001b[0m\u001b[1;33m)\u001b[0m  \u001b[1;31m# allow tsolve to be used on next pass\u001b[0m\u001b[1;33m\u001b[0m\u001b[1;33m\u001b[0m\u001b[0m\n\u001b[0;32m   1739\u001b[0m         \u001b[1;32mtry\u001b[0m\u001b[1;33m:\u001b[0m\u001b[1;33m\u001b[0m\u001b[1;33m\u001b[0m\u001b[0m\n\u001b[1;32m-> 1740\u001b[1;33m             \u001b[0msoln\u001b[0m \u001b[1;33m=\u001b[0m \u001b[0m_tsolve\u001b[0m\u001b[1;33m(\u001b[0m\u001b[0mf_num\u001b[0m\u001b[1;33m,\u001b[0m \u001b[0msymbol\u001b[0m\u001b[1;33m,\u001b[0m \u001b[1;33m**\u001b[0m\u001b[0mflags\u001b[0m\u001b[1;33m)\u001b[0m\u001b[1;33m\u001b[0m\u001b[1;33m\u001b[0m\u001b[0m\n\u001b[0m\u001b[0;32m   1741\u001b[0m             \u001b[1;32mif\u001b[0m \u001b[0msoln\u001b[0m \u001b[1;32mis\u001b[0m \u001b[1;32mnot\u001b[0m \u001b[1;32mNone\u001b[0m\u001b[1;33m:\u001b[0m\u001b[1;33m\u001b[0m\u001b[1;33m\u001b[0m\u001b[0m\n\u001b[0;32m   1742\u001b[0m                 \u001b[0mresult\u001b[0m \u001b[1;33m=\u001b[0m \u001b[0msoln\u001b[0m\u001b[1;33m\u001b[0m\u001b[1;33m\u001b[0m\u001b[0m\n",
      "\u001b[1;32m~\\anaconda3\\lib\\site-packages\\sympy\\solvers\\solvers.py\u001b[0m in \u001b[0;36m_tsolve\u001b[1;34m(eq, sym, **flags)\u001b[0m\n\u001b[0;32m   2797\u001b[0m                 \u001b[0mg\u001b[0m \u001b[1;33m=\u001b[0m \u001b[0m_filtered_gens\u001b[0m\u001b[1;33m(\u001b[0m\u001b[0mpoly\u001b[0m\u001b[1;33m,\u001b[0m \u001b[0msym\u001b[0m\u001b[1;33m)\u001b[0m\u001b[1;33m\u001b[0m\u001b[1;33m\u001b[0m\u001b[0m\n\u001b[0;32m   2798\u001b[0m                 \u001b[0m_eq\u001b[0m \u001b[1;33m=\u001b[0m \u001b[0mlhs\u001b[0m \u001b[1;33m-\u001b[0m \u001b[0mrhs\u001b[0m\u001b[1;33m\u001b[0m\u001b[1;33m\u001b[0m\u001b[0m\n\u001b[1;32m-> 2799\u001b[1;33m                 \u001b[0msols\u001b[0m \u001b[1;33m=\u001b[0m \u001b[0m_solve_lambert\u001b[0m\u001b[1;33m(\u001b[0m\u001b[0m_eq\u001b[0m\u001b[1;33m,\u001b[0m \u001b[0msym\u001b[0m\u001b[1;33m,\u001b[0m \u001b[0mg\u001b[0m\u001b[1;33m)\u001b[0m\u001b[1;33m\u001b[0m\u001b[1;33m\u001b[0m\u001b[0m\n\u001b[0m\u001b[0;32m   2800\u001b[0m                 \u001b[1;31m# use a simplified form if it satisfies eq\u001b[0m\u001b[1;33m\u001b[0m\u001b[1;33m\u001b[0m\u001b[1;33m\u001b[0m\u001b[0m\n\u001b[0;32m   2801\u001b[0m                 \u001b[1;31m# and has fewer operations\u001b[0m\u001b[1;33m\u001b[0m\u001b[1;33m\u001b[0m\u001b[1;33m\u001b[0m\u001b[0m\n",
      "\u001b[1;32m~\\anaconda3\\lib\\site-packages\\sympy\\solvers\\bivariate.py\u001b[0m in \u001b[0;36m_solve_lambert\u001b[1;34m(f, symbol, gens)\u001b[0m\n\u001b[0;32m    323\u001b[0m         \u001b[0mlhs\u001b[0m \u001b[1;33m=\u001b[0m \u001b[0mlhs\u001b[0m\u001b[1;33m.\u001b[0m\u001b[0mxreplace\u001b[0m\u001b[1;33m(\u001b[0m\u001b[1;33m{\u001b[0m\u001b[0mt\u001b[0m\u001b[1;33m:\u001b[0m \u001b[0msymbol\u001b[0m\u001b[1;33m}\u001b[0m\u001b[1;33m)\u001b[0m\u001b[1;33m\u001b[0m\u001b[1;33m\u001b[0m\u001b[0m\n\u001b[0;32m    324\u001b[0m \u001b[1;33m\u001b[0m\u001b[0m\n\u001b[1;32m--> 325\u001b[1;33m     \u001b[0mlhs\u001b[0m \u001b[1;33m=\u001b[0m \u001b[0mpowsimp\u001b[0m\u001b[1;33m(\u001b[0m\u001b[0mfactor\u001b[0m\u001b[1;33m(\u001b[0m\u001b[0mlhs\u001b[0m\u001b[1;33m,\u001b[0m \u001b[0mdeep\u001b[0m\u001b[1;33m=\u001b[0m\u001b[1;32mTrue\u001b[0m\u001b[1;33m)\u001b[0m\u001b[1;33m)\u001b[0m\u001b[1;33m\u001b[0m\u001b[1;33m\u001b[0m\u001b[0m\n\u001b[0m\u001b[0;32m    326\u001b[0m \u001b[1;33m\u001b[0m\u001b[0m\n\u001b[0;32m    327\u001b[0m     \u001b[1;31m# make sure we have inverted as completely as possible\u001b[0m\u001b[1;33m\u001b[0m\u001b[1;33m\u001b[0m\u001b[1;33m\u001b[0m\u001b[0m\n",
      "\u001b[1;32m~\\anaconda3\\lib\\site-packages\\sympy\\polys\\polytools.py\u001b[0m in \u001b[0;36mfactor\u001b[1;34m(f, *gens, **args)\u001b[0m\n\u001b[0;32m   6344\u001b[0m         \u001b[0mmuladd\u001b[0m \u001b[1;33m=\u001b[0m \u001b[0mf\u001b[0m\u001b[1;33m.\u001b[0m\u001b[0matoms\u001b[0m\u001b[1;33m(\u001b[0m\u001b[0mMul\u001b[0m\u001b[1;33m,\u001b[0m \u001b[0mAdd\u001b[0m\u001b[1;33m)\u001b[0m\u001b[1;33m\u001b[0m\u001b[1;33m\u001b[0m\u001b[0m\n\u001b[0;32m   6345\u001b[0m         \u001b[1;32mfor\u001b[0m \u001b[0mp\u001b[0m \u001b[1;32min\u001b[0m \u001b[0mmuladd\u001b[0m\u001b[1;33m:\u001b[0m\u001b[1;33m\u001b[0m\u001b[1;33m\u001b[0m\u001b[0m\n\u001b[1;32m-> 6346\u001b[1;33m             \u001b[0mfac\u001b[0m \u001b[1;33m=\u001b[0m \u001b[0mfactor\u001b[0m\u001b[1;33m(\u001b[0m\u001b[0mp\u001b[0m\u001b[1;33m,\u001b[0m \u001b[1;33m*\u001b[0m\u001b[0mgens\u001b[0m\u001b[1;33m,\u001b[0m \u001b[1;33m**\u001b[0m\u001b[0margs\u001b[0m\u001b[1;33m)\u001b[0m\u001b[1;33m\u001b[0m\u001b[1;33m\u001b[0m\u001b[0m\n\u001b[0m\u001b[0;32m   6347\u001b[0m             \u001b[1;32mif\u001b[0m \u001b[1;33m(\u001b[0m\u001b[0mfac\u001b[0m\u001b[1;33m.\u001b[0m\u001b[0mis_Mul\u001b[0m \u001b[1;32mor\u001b[0m \u001b[0mfac\u001b[0m\u001b[1;33m.\u001b[0m\u001b[0mis_Pow\u001b[0m\u001b[1;33m)\u001b[0m \u001b[1;32mand\u001b[0m \u001b[0mfac\u001b[0m \u001b[1;33m!=\u001b[0m \u001b[0mp\u001b[0m\u001b[1;33m:\u001b[0m\u001b[1;33m\u001b[0m\u001b[1;33m\u001b[0m\u001b[0m\n\u001b[0;32m   6348\u001b[0m                 \u001b[0mpartials\u001b[0m\u001b[1;33m[\u001b[0m\u001b[0mp\u001b[0m\u001b[1;33m]\u001b[0m \u001b[1;33m=\u001b[0m \u001b[0mfac\u001b[0m\u001b[1;33m\u001b[0m\u001b[1;33m\u001b[0m\u001b[0m\n",
      "\u001b[1;32m~\\anaconda3\\lib\\site-packages\\sympy\\polys\\polytools.py\u001b[0m in \u001b[0;36mfactor\u001b[1;34m(f, *gens, **args)\u001b[0m\n\u001b[0;32m   6350\u001b[0m \u001b[1;33m\u001b[0m\u001b[0m\n\u001b[0;32m   6351\u001b[0m     \u001b[1;32mtry\u001b[0m\u001b[1;33m:\u001b[0m\u001b[1;33m\u001b[0m\u001b[1;33m\u001b[0m\u001b[0m\n\u001b[1;32m-> 6352\u001b[1;33m         \u001b[1;32mreturn\u001b[0m \u001b[0m_generic_factor\u001b[0m\u001b[1;33m(\u001b[0m\u001b[0mf\u001b[0m\u001b[1;33m,\u001b[0m \u001b[0mgens\u001b[0m\u001b[1;33m,\u001b[0m \u001b[0margs\u001b[0m\u001b[1;33m,\u001b[0m \u001b[0mmethod\u001b[0m\u001b[1;33m=\u001b[0m\u001b[1;34m'factor'\u001b[0m\u001b[1;33m)\u001b[0m\u001b[1;33m\u001b[0m\u001b[1;33m\u001b[0m\u001b[0m\n\u001b[0m\u001b[0;32m   6353\u001b[0m     \u001b[1;32mexcept\u001b[0m \u001b[0mPolynomialError\u001b[0m \u001b[1;32mas\u001b[0m \u001b[0mmsg\u001b[0m\u001b[1;33m:\u001b[0m\u001b[1;33m\u001b[0m\u001b[1;33m\u001b[0m\u001b[0m\n\u001b[0;32m   6354\u001b[0m         \u001b[1;32mif\u001b[0m \u001b[1;32mnot\u001b[0m \u001b[0mf\u001b[0m\u001b[1;33m.\u001b[0m\u001b[0mis_commutative\u001b[0m\u001b[1;33m:\u001b[0m\u001b[1;33m\u001b[0m\u001b[1;33m\u001b[0m\u001b[0m\n",
      "\u001b[1;32m~\\anaconda3\\lib\\site-packages\\sympy\\polys\\polytools.py\u001b[0m in \u001b[0;36m_generic_factor\u001b[1;34m(expr, gens, args, method)\u001b[0m\n\u001b[0;32m   6022\u001b[0m     \u001b[0mopt\u001b[0m \u001b[1;33m=\u001b[0m \u001b[0moptions\u001b[0m\u001b[1;33m.\u001b[0m\u001b[0mbuild_options\u001b[0m\u001b[1;33m(\u001b[0m\u001b[0mgens\u001b[0m\u001b[1;33m,\u001b[0m \u001b[0margs\u001b[0m\u001b[1;33m)\u001b[0m\u001b[1;33m\u001b[0m\u001b[1;33m\u001b[0m\u001b[0m\n\u001b[0;32m   6023\u001b[0m     \u001b[0mopt\u001b[0m\u001b[1;33m[\u001b[0m\u001b[1;34m'fraction'\u001b[0m\u001b[1;33m]\u001b[0m \u001b[1;33m=\u001b[0m \u001b[0mfraction\u001b[0m\u001b[1;33m\u001b[0m\u001b[1;33m\u001b[0m\u001b[0m\n\u001b[1;32m-> 6024\u001b[1;33m     \u001b[1;32mreturn\u001b[0m \u001b[0m_symbolic_factor\u001b[0m\u001b[1;33m(\u001b[0m\u001b[0msympify\u001b[0m\u001b[1;33m(\u001b[0m\u001b[0mexpr\u001b[0m\u001b[1;33m)\u001b[0m\u001b[1;33m,\u001b[0m \u001b[0mopt\u001b[0m\u001b[1;33m,\u001b[0m \u001b[0mmethod\u001b[0m\u001b[1;33m)\u001b[0m\u001b[1;33m\u001b[0m\u001b[1;33m\u001b[0m\u001b[0m\n\u001b[0m\u001b[0;32m   6025\u001b[0m \u001b[1;33m\u001b[0m\u001b[0m\n\u001b[0;32m   6026\u001b[0m \u001b[1;33m\u001b[0m\u001b[0m\n",
      "\u001b[1;32m~\\anaconda3\\lib\\site-packages\\sympy\\polys\\polytools.py\u001b[0m in \u001b[0;36m_symbolic_factor\u001b[1;34m(expr, opt, method)\u001b[0m\n\u001b[0;32m   5965\u001b[0m         \u001b[1;32mif\u001b[0m \u001b[0mhasattr\u001b[0m\u001b[1;33m(\u001b[0m\u001b[0mexpr\u001b[0m\u001b[1;33m,\u001b[0m\u001b[1;34m'_eval_factor'\u001b[0m\u001b[1;33m)\u001b[0m\u001b[1;33m:\u001b[0m\u001b[1;33m\u001b[0m\u001b[1;33m\u001b[0m\u001b[0m\n\u001b[0;32m   5966\u001b[0m             \u001b[1;32mreturn\u001b[0m \u001b[0mexpr\u001b[0m\u001b[1;33m.\u001b[0m\u001b[0m_eval_factor\u001b[0m\u001b[1;33m(\u001b[0m\u001b[1;33m)\u001b[0m\u001b[1;33m\u001b[0m\u001b[1;33m\u001b[0m\u001b[0m\n\u001b[1;32m-> 5967\u001b[1;33m         \u001b[0mcoeff\u001b[0m\u001b[1;33m,\u001b[0m \u001b[0mfactors\u001b[0m \u001b[1;33m=\u001b[0m \u001b[0m_symbolic_factor_list\u001b[0m\u001b[1;33m(\u001b[0m\u001b[0mtogether\u001b[0m\u001b[1;33m(\u001b[0m\u001b[0mexpr\u001b[0m\u001b[1;33m,\u001b[0m \u001b[0mfraction\u001b[0m\u001b[1;33m=\u001b[0m\u001b[0mopt\u001b[0m\u001b[1;33m[\u001b[0m\u001b[1;34m'fraction'\u001b[0m\u001b[1;33m]\u001b[0m\u001b[1;33m)\u001b[0m\u001b[1;33m,\u001b[0m \u001b[0mopt\u001b[0m\u001b[1;33m,\u001b[0m \u001b[0mmethod\u001b[0m\u001b[1;33m)\u001b[0m\u001b[1;33m\u001b[0m\u001b[1;33m\u001b[0m\u001b[0m\n\u001b[0m\u001b[0;32m   5968\u001b[0m         \u001b[1;32mreturn\u001b[0m \u001b[0m_keep_coeff\u001b[0m\u001b[1;33m(\u001b[0m\u001b[0mcoeff\u001b[0m\u001b[1;33m,\u001b[0m \u001b[0m_factors_product\u001b[0m\u001b[1;33m(\u001b[0m\u001b[0mfactors\u001b[0m\u001b[1;33m)\u001b[0m\u001b[1;33m)\u001b[0m\u001b[1;33m\u001b[0m\u001b[1;33m\u001b[0m\u001b[0m\n\u001b[0;32m   5969\u001b[0m     \u001b[1;32melif\u001b[0m \u001b[0mhasattr\u001b[0m\u001b[1;33m(\u001b[0m\u001b[0mexpr\u001b[0m\u001b[1;33m,\u001b[0m \u001b[1;34m'args'\u001b[0m\u001b[1;33m)\u001b[0m\u001b[1;33m:\u001b[0m\u001b[1;33m\u001b[0m\u001b[1;33m\u001b[0m\u001b[0m\n",
      "\u001b[1;32m~\\anaconda3\\lib\\site-packages\\sympy\\polys\\polytools.py\u001b[0m in \u001b[0;36m_symbolic_factor_list\u001b[1;34m(expr, opt, method)\u001b[0m\n\u001b[0;32m   5933\u001b[0m             \u001b[0mfunc\u001b[0m \u001b[1;33m=\u001b[0m \u001b[0mgetattr\u001b[0m\u001b[1;33m(\u001b[0m\u001b[0mpoly\u001b[0m\u001b[1;33m,\u001b[0m \u001b[0mmethod\u001b[0m \u001b[1;33m+\u001b[0m \u001b[1;34m'_list'\u001b[0m\u001b[1;33m)\u001b[0m\u001b[1;33m\u001b[0m\u001b[1;33m\u001b[0m\u001b[0m\n\u001b[0;32m   5934\u001b[0m \u001b[1;33m\u001b[0m\u001b[0m\n\u001b[1;32m-> 5935\u001b[1;33m             \u001b[0m_coeff\u001b[0m\u001b[1;33m,\u001b[0m \u001b[0m_factors\u001b[0m \u001b[1;33m=\u001b[0m \u001b[0mfunc\u001b[0m\u001b[1;33m(\u001b[0m\u001b[1;33m)\u001b[0m\u001b[1;33m\u001b[0m\u001b[1;33m\u001b[0m\u001b[0m\n\u001b[0m\u001b[0;32m   5936\u001b[0m             \u001b[1;32mif\u001b[0m \u001b[0m_coeff\u001b[0m \u001b[1;32mis\u001b[0m \u001b[1;32mnot\u001b[0m \u001b[0mS\u001b[0m\u001b[1;33m.\u001b[0m\u001b[0mOne\u001b[0m\u001b[1;33m:\u001b[0m\u001b[1;33m\u001b[0m\u001b[1;33m\u001b[0m\u001b[0m\n\u001b[0;32m   5937\u001b[0m                 \u001b[1;32mif\u001b[0m \u001b[0mexp\u001b[0m\u001b[1;33m.\u001b[0m\u001b[0mis_Integer\u001b[0m\u001b[1;33m:\u001b[0m\u001b[1;33m\u001b[0m\u001b[1;33m\u001b[0m\u001b[0m\n",
      "\u001b[1;32m~\\anaconda3\\lib\\site-packages\\sympy\\polys\\polytools.py\u001b[0m in \u001b[0;36mfactor_list\u001b[1;34m(f)\u001b[0m\n\u001b[0;32m   3238\u001b[0m         \u001b[1;32mif\u001b[0m \u001b[0mhasattr\u001b[0m\u001b[1;33m(\u001b[0m\u001b[0mf\u001b[0m\u001b[1;33m.\u001b[0m\u001b[0mrep\u001b[0m\u001b[1;33m,\u001b[0m \u001b[1;34m'factor_list'\u001b[0m\u001b[1;33m)\u001b[0m\u001b[1;33m:\u001b[0m\u001b[1;33m\u001b[0m\u001b[1;33m\u001b[0m\u001b[0m\n\u001b[0;32m   3239\u001b[0m             \u001b[1;32mtry\u001b[0m\u001b[1;33m:\u001b[0m\u001b[1;33m\u001b[0m\u001b[1;33m\u001b[0m\u001b[0m\n\u001b[1;32m-> 3240\u001b[1;33m                 \u001b[0mcoeff\u001b[0m\u001b[1;33m,\u001b[0m \u001b[0mfactors\u001b[0m \u001b[1;33m=\u001b[0m \u001b[0mf\u001b[0m\u001b[1;33m.\u001b[0m\u001b[0mrep\u001b[0m\u001b[1;33m.\u001b[0m\u001b[0mfactor_list\u001b[0m\u001b[1;33m(\u001b[0m\u001b[1;33m)\u001b[0m\u001b[1;33m\u001b[0m\u001b[1;33m\u001b[0m\u001b[0m\n\u001b[0m\u001b[0;32m   3241\u001b[0m             \u001b[1;32mexcept\u001b[0m \u001b[0mDomainError\u001b[0m\u001b[1;33m:\u001b[0m\u001b[1;33m\u001b[0m\u001b[1;33m\u001b[0m\u001b[0m\n\u001b[0;32m   3242\u001b[0m                 \u001b[1;32mreturn\u001b[0m \u001b[0mS\u001b[0m\u001b[1;33m.\u001b[0m\u001b[0mOne\u001b[0m\u001b[1;33m,\u001b[0m \u001b[1;33m[\u001b[0m\u001b[1;33m(\u001b[0m\u001b[0mf\u001b[0m\u001b[1;33m,\u001b[0m \u001b[1;36m1\u001b[0m\u001b[1;33m)\u001b[0m\u001b[1;33m]\u001b[0m\u001b[1;33m\u001b[0m\u001b[1;33m\u001b[0m\u001b[0m\n",
      "\u001b[1;32m~\\anaconda3\\lib\\site-packages\\sympy\\polys\\polyclasses.py\u001b[0m in \u001b[0;36mfactor_list\u001b[1;34m(f)\u001b[0m\n\u001b[0;32m    794\u001b[0m     \u001b[1;32mdef\u001b[0m \u001b[0mfactor_list\u001b[0m\u001b[1;33m(\u001b[0m\u001b[0mf\u001b[0m\u001b[1;33m)\u001b[0m\u001b[1;33m:\u001b[0m\u001b[1;33m\u001b[0m\u001b[1;33m\u001b[0m\u001b[0m\n\u001b[0;32m    795\u001b[0m         \u001b[1;34m\"\"\"Returns a list of irreducible factors of ``f``. \"\"\"\u001b[0m\u001b[1;33m\u001b[0m\u001b[1;33m\u001b[0m\u001b[0m\n\u001b[1;32m--> 796\u001b[1;33m         \u001b[0mcoeff\u001b[0m\u001b[1;33m,\u001b[0m \u001b[0mfactors\u001b[0m \u001b[1;33m=\u001b[0m \u001b[0mdmp_factor_list\u001b[0m\u001b[1;33m(\u001b[0m\u001b[0mf\u001b[0m\u001b[1;33m.\u001b[0m\u001b[0mrep\u001b[0m\u001b[1;33m,\u001b[0m \u001b[0mf\u001b[0m\u001b[1;33m.\u001b[0m\u001b[0mlev\u001b[0m\u001b[1;33m,\u001b[0m \u001b[0mf\u001b[0m\u001b[1;33m.\u001b[0m\u001b[0mdom\u001b[0m\u001b[1;33m)\u001b[0m\u001b[1;33m\u001b[0m\u001b[1;33m\u001b[0m\u001b[0m\n\u001b[0m\u001b[0;32m    797\u001b[0m         \u001b[1;32mreturn\u001b[0m \u001b[0mcoeff\u001b[0m\u001b[1;33m,\u001b[0m \u001b[1;33m[\u001b[0m \u001b[1;33m(\u001b[0m\u001b[0mf\u001b[0m\u001b[1;33m.\u001b[0m\u001b[0mper\u001b[0m\u001b[1;33m(\u001b[0m\u001b[0mg\u001b[0m\u001b[1;33m)\u001b[0m\u001b[1;33m,\u001b[0m \u001b[0mk\u001b[0m\u001b[1;33m)\u001b[0m \u001b[1;32mfor\u001b[0m \u001b[0mg\u001b[0m\u001b[1;33m,\u001b[0m \u001b[0mk\u001b[0m \u001b[1;32min\u001b[0m \u001b[0mfactors\u001b[0m \u001b[1;33m]\u001b[0m\u001b[1;33m\u001b[0m\u001b[1;33m\u001b[0m\u001b[0m\n\u001b[0;32m    798\u001b[0m \u001b[1;33m\u001b[0m\u001b[0m\n",
      "\u001b[1;32m~\\anaconda3\\lib\\site-packages\\sympy\\polys\\factortools.py\u001b[0m in \u001b[0;36mdmp_factor_list\u001b[1;34m(f, u, K0)\u001b[0m\n\u001b[0;32m   1287\u001b[0m         \u001b[1;32mif\u001b[0m \u001b[0mK\u001b[0m\u001b[1;33m.\u001b[0m\u001b[0mis_ZZ\u001b[0m\u001b[1;33m:\u001b[0m\u001b[1;33m\u001b[0m\u001b[1;33m\u001b[0m\u001b[0m\n\u001b[0;32m   1288\u001b[0m             \u001b[0mlevels\u001b[0m\u001b[1;33m,\u001b[0m \u001b[0mf\u001b[0m\u001b[1;33m,\u001b[0m \u001b[0mv\u001b[0m \u001b[1;33m=\u001b[0m \u001b[0mdmp_exclude\u001b[0m\u001b[1;33m(\u001b[0m\u001b[0mf\u001b[0m\u001b[1;33m,\u001b[0m \u001b[0mu\u001b[0m\u001b[1;33m,\u001b[0m \u001b[0mK\u001b[0m\u001b[1;33m)\u001b[0m\u001b[1;33m\u001b[0m\u001b[1;33m\u001b[0m\u001b[0m\n\u001b[1;32m-> 1289\u001b[1;33m             \u001b[0mcoeff\u001b[0m\u001b[1;33m,\u001b[0m \u001b[0mfactors\u001b[0m \u001b[1;33m=\u001b[0m \u001b[0mdmp_zz_factor\u001b[0m\u001b[1;33m(\u001b[0m\u001b[0mf\u001b[0m\u001b[1;33m,\u001b[0m \u001b[0mv\u001b[0m\u001b[1;33m,\u001b[0m \u001b[0mK\u001b[0m\u001b[1;33m)\u001b[0m\u001b[1;33m\u001b[0m\u001b[1;33m\u001b[0m\u001b[0m\n\u001b[0m\u001b[0;32m   1290\u001b[0m \u001b[1;33m\u001b[0m\u001b[0m\n\u001b[0;32m   1291\u001b[0m             \u001b[1;32mfor\u001b[0m \u001b[0mi\u001b[0m\u001b[1;33m,\u001b[0m \u001b[1;33m(\u001b[0m\u001b[0mf\u001b[0m\u001b[1;33m,\u001b[0m \u001b[0mk\u001b[0m\u001b[1;33m)\u001b[0m \u001b[1;32min\u001b[0m \u001b[0menumerate\u001b[0m\u001b[1;33m(\u001b[0m\u001b[0mfactors\u001b[0m\u001b[1;33m)\u001b[0m\u001b[1;33m:\u001b[0m\u001b[1;33m\u001b[0m\u001b[1;33m\u001b[0m\u001b[0m\n",
      "\u001b[1;32m~\\anaconda3\\lib\\site-packages\\sympy\\polys\\factortools.py\u001b[0m in \u001b[0;36mdmp_zz_factor\u001b[1;34m(f, u, K)\u001b[0m\n\u001b[0;32m   1092\u001b[0m         \u001b[1;32mreturn\u001b[0m \u001b[0mcont\u001b[0m\u001b[1;33m,\u001b[0m \u001b[1;33m[\u001b[0m\u001b[1;33m]\u001b[0m\u001b[1;33m\u001b[0m\u001b[1;33m\u001b[0m\u001b[0m\n\u001b[0;32m   1093\u001b[0m \u001b[1;33m\u001b[0m\u001b[0m\n\u001b[1;32m-> 1094\u001b[1;33m     \u001b[0mG\u001b[0m\u001b[1;33m,\u001b[0m \u001b[0mg\u001b[0m \u001b[1;33m=\u001b[0m \u001b[0mdmp_primitive\u001b[0m\u001b[1;33m(\u001b[0m\u001b[0mg\u001b[0m\u001b[1;33m,\u001b[0m \u001b[0mu\u001b[0m\u001b[1;33m,\u001b[0m \u001b[0mK\u001b[0m\u001b[1;33m)\u001b[0m\u001b[1;33m\u001b[0m\u001b[1;33m\u001b[0m\u001b[0m\n\u001b[0m\u001b[0;32m   1095\u001b[0m \u001b[1;33m\u001b[0m\u001b[0m\n\u001b[0;32m   1096\u001b[0m     \u001b[0mfactors\u001b[0m \u001b[1;33m=\u001b[0m \u001b[1;33m[\u001b[0m\u001b[1;33m]\u001b[0m\u001b[1;33m\u001b[0m\u001b[1;33m\u001b[0m\u001b[0m\n",
      "\u001b[1;32m~\\anaconda3\\lib\\site-packages\\sympy\\polys\\euclidtools.py\u001b[0m in \u001b[0;36mdmp_primitive\u001b[1;34m(f, u, K)\u001b[0m\n\u001b[0;32m   1818\u001b[0m \u001b[1;33m\u001b[0m\u001b[0m\n\u001b[0;32m   1819\u001b[0m     \"\"\"\n\u001b[1;32m-> 1820\u001b[1;33m     \u001b[0mcont\u001b[0m\u001b[1;33m,\u001b[0m \u001b[0mv\u001b[0m \u001b[1;33m=\u001b[0m \u001b[0mdmp_content\u001b[0m\u001b[1;33m(\u001b[0m\u001b[0mf\u001b[0m\u001b[1;33m,\u001b[0m \u001b[0mu\u001b[0m\u001b[1;33m,\u001b[0m \u001b[0mK\u001b[0m\u001b[1;33m)\u001b[0m\u001b[1;33m,\u001b[0m \u001b[0mu\u001b[0m \u001b[1;33m-\u001b[0m \u001b[1;36m1\u001b[0m\u001b[1;33m\u001b[0m\u001b[1;33m\u001b[0m\u001b[0m\n\u001b[0m\u001b[0;32m   1821\u001b[0m \u001b[1;33m\u001b[0m\u001b[0m\n\u001b[0;32m   1822\u001b[0m     \u001b[1;32mif\u001b[0m \u001b[0mdmp_zero_p\u001b[0m\u001b[1;33m(\u001b[0m\u001b[0mf\u001b[0m\u001b[1;33m,\u001b[0m \u001b[0mu\u001b[0m\u001b[1;33m)\u001b[0m \u001b[1;32mor\u001b[0m \u001b[0mdmp_one_p\u001b[0m\u001b[1;33m(\u001b[0m\u001b[0mcont\u001b[0m\u001b[1;33m,\u001b[0m \u001b[0mv\u001b[0m\u001b[1;33m,\u001b[0m \u001b[0mK\u001b[0m\u001b[1;33m)\u001b[0m\u001b[1;33m:\u001b[0m\u001b[1;33m\u001b[0m\u001b[1;33m\u001b[0m\u001b[0m\n",
      "\u001b[1;32m~\\anaconda3\\lib\\site-packages\\sympy\\polys\\euclidtools.py\u001b[0m in \u001b[0;36mdmp_content\u001b[1;34m(f, u, K)\u001b[0m\n\u001b[0;32m   1793\u001b[0m \u001b[1;33m\u001b[0m\u001b[0m\n\u001b[0;32m   1794\u001b[0m     \u001b[1;32mfor\u001b[0m \u001b[0mc\u001b[0m \u001b[1;32min\u001b[0m \u001b[0mf\u001b[0m\u001b[1;33m[\u001b[0m\u001b[1;36m1\u001b[0m\u001b[1;33m:\u001b[0m\u001b[1;33m]\u001b[0m\u001b[1;33m:\u001b[0m\u001b[1;33m\u001b[0m\u001b[1;33m\u001b[0m\u001b[0m\n\u001b[1;32m-> 1795\u001b[1;33m         \u001b[0mcont\u001b[0m \u001b[1;33m=\u001b[0m \u001b[0mdmp_gcd\u001b[0m\u001b[1;33m(\u001b[0m\u001b[0mcont\u001b[0m\u001b[1;33m,\u001b[0m \u001b[0mc\u001b[0m\u001b[1;33m,\u001b[0m \u001b[0mv\u001b[0m\u001b[1;33m,\u001b[0m \u001b[0mK\u001b[0m\u001b[1;33m)\u001b[0m\u001b[1;33m\u001b[0m\u001b[1;33m\u001b[0m\u001b[0m\n\u001b[0m\u001b[0;32m   1796\u001b[0m \u001b[1;33m\u001b[0m\u001b[0m\n\u001b[0;32m   1797\u001b[0m         \u001b[1;32mif\u001b[0m \u001b[0mdmp_one_p\u001b[0m\u001b[1;33m(\u001b[0m\u001b[0mcont\u001b[0m\u001b[1;33m,\u001b[0m \u001b[0mv\u001b[0m\u001b[1;33m,\u001b[0m \u001b[0mK\u001b[0m\u001b[1;33m)\u001b[0m\u001b[1;33m:\u001b[0m\u001b[1;33m\u001b[0m\u001b[1;33m\u001b[0m\u001b[0m\n",
      "\u001b[1;32m~\\anaconda3\\lib\\site-packages\\sympy\\polys\\euclidtools.py\u001b[0m in \u001b[0;36mdmp_gcd\u001b[1;34m(f, g, u, K)\u001b[0m\n\u001b[0;32m   1625\u001b[0m \u001b[1;33m\u001b[0m\u001b[0m\n\u001b[0;32m   1626\u001b[0m     \"\"\"\n\u001b[1;32m-> 1627\u001b[1;33m     \u001b[1;32mreturn\u001b[0m \u001b[0mdmp_inner_gcd\u001b[0m\u001b[1;33m(\u001b[0m\u001b[0mf\u001b[0m\u001b[1;33m,\u001b[0m \u001b[0mg\u001b[0m\u001b[1;33m,\u001b[0m \u001b[0mu\u001b[0m\u001b[1;33m,\u001b[0m \u001b[0mK\u001b[0m\u001b[1;33m)\u001b[0m\u001b[1;33m[\u001b[0m\u001b[1;36m0\u001b[0m\u001b[1;33m]\u001b[0m\u001b[1;33m\u001b[0m\u001b[1;33m\u001b[0m\u001b[0m\n\u001b[0m\u001b[0;32m   1628\u001b[0m \u001b[1;33m\u001b[0m\u001b[0m\n\u001b[0;32m   1629\u001b[0m \u001b[1;33m\u001b[0m\u001b[0m\n",
      "\u001b[1;32m~\\anaconda3\\lib\\site-packages\\sympy\\polys\\euclidtools.py\u001b[0m in \u001b[0;36mdmp_inner_gcd\u001b[1;34m(f, g, u, K)\u001b[0m\n\u001b[0;32m   1584\u001b[0m \u001b[1;33m\u001b[0m\u001b[0m\n\u001b[0;32m   1585\u001b[0m     \u001b[0mJ\u001b[0m\u001b[1;33m,\u001b[0m \u001b[1;33m(\u001b[0m\u001b[0mf\u001b[0m\u001b[1;33m,\u001b[0m \u001b[0mg\u001b[0m\u001b[1;33m)\u001b[0m \u001b[1;33m=\u001b[0m \u001b[0mdmp_multi_deflate\u001b[0m\u001b[1;33m(\u001b[0m\u001b[1;33m(\u001b[0m\u001b[0mf\u001b[0m\u001b[1;33m,\u001b[0m \u001b[0mg\u001b[0m\u001b[1;33m)\u001b[0m\u001b[1;33m,\u001b[0m \u001b[0mu\u001b[0m\u001b[1;33m,\u001b[0m \u001b[0mK\u001b[0m\u001b[1;33m)\u001b[0m\u001b[1;33m\u001b[0m\u001b[1;33m\u001b[0m\u001b[0m\n\u001b[1;32m-> 1586\u001b[1;33m     \u001b[0mh\u001b[0m\u001b[1;33m,\u001b[0m \u001b[0mcff\u001b[0m\u001b[1;33m,\u001b[0m \u001b[0mcfg\u001b[0m \u001b[1;33m=\u001b[0m \u001b[0m_dmp_inner_gcd\u001b[0m\u001b[1;33m(\u001b[0m\u001b[0mf\u001b[0m\u001b[1;33m,\u001b[0m \u001b[0mg\u001b[0m\u001b[1;33m,\u001b[0m \u001b[0mu\u001b[0m\u001b[1;33m,\u001b[0m \u001b[0mK\u001b[0m\u001b[1;33m)\u001b[0m\u001b[1;33m\u001b[0m\u001b[1;33m\u001b[0m\u001b[0m\n\u001b[0m\u001b[0;32m   1587\u001b[0m \u001b[1;33m\u001b[0m\u001b[0m\n\u001b[0;32m   1588\u001b[0m     return (dmp_inflate(h, J, u, K),\n",
      "\u001b[1;32m~\\anaconda3\\lib\\site-packages\\sympy\\polys\\euclidtools.py\u001b[0m in \u001b[0;36m_dmp_inner_gcd\u001b[1;34m(f, g, u, K)\u001b[0m\n\u001b[0;32m   1553\u001b[0m         \u001b[1;32mif\u001b[0m \u001b[0mK\u001b[0m\u001b[1;33m.\u001b[0m\u001b[0mis_ZZ\u001b[0m \u001b[1;32mand\u001b[0m \u001b[0mquery\u001b[0m\u001b[1;33m(\u001b[0m\u001b[1;34m'USE_HEU_GCD'\u001b[0m\u001b[1;33m)\u001b[0m\u001b[1;33m:\u001b[0m\u001b[1;33m\u001b[0m\u001b[1;33m\u001b[0m\u001b[0m\n\u001b[0;32m   1554\u001b[0m             \u001b[1;32mtry\u001b[0m\u001b[1;33m:\u001b[0m\u001b[1;33m\u001b[0m\u001b[1;33m\u001b[0m\u001b[0m\n\u001b[1;32m-> 1555\u001b[1;33m                 \u001b[1;32mreturn\u001b[0m \u001b[0mdmp_zz_heu_gcd\u001b[0m\u001b[1;33m(\u001b[0m\u001b[0mf\u001b[0m\u001b[1;33m,\u001b[0m \u001b[0mg\u001b[0m\u001b[1;33m,\u001b[0m \u001b[0mu\u001b[0m\u001b[1;33m,\u001b[0m \u001b[0mK\u001b[0m\u001b[1;33m)\u001b[0m\u001b[1;33m\u001b[0m\u001b[1;33m\u001b[0m\u001b[0m\n\u001b[0m\u001b[0;32m   1556\u001b[0m             \u001b[1;32mexcept\u001b[0m \u001b[0mHeuristicGCDFailed\u001b[0m\u001b[1;33m:\u001b[0m\u001b[1;33m\u001b[0m\u001b[1;33m\u001b[0m\u001b[0m\n\u001b[0;32m   1557\u001b[0m                 \u001b[1;32mpass\u001b[0m\u001b[1;33m\u001b[0m\u001b[1;33m\u001b[0m\u001b[0m\n",
      "\u001b[1;32m~\\anaconda3\\lib\\site-packages\\sympy\\polys\\euclidtools.py\u001b[0m in \u001b[0;36mdmp_zz_heu_gcd\u001b[1;34m(f, g, u, K)\u001b[0m\n\u001b[0;32m   1342\u001b[0m \u001b[1;33m\u001b[0m\u001b[0m\n\u001b[0;32m   1343\u001b[0m             \u001b[1;32mif\u001b[0m \u001b[0mdmp_zero_p\u001b[0m\u001b[1;33m(\u001b[0m\u001b[0mr\u001b[0m\u001b[1;33m,\u001b[0m \u001b[0mu\u001b[0m\u001b[1;33m)\u001b[0m\u001b[1;33m:\u001b[0m\u001b[1;33m\u001b[0m\u001b[1;33m\u001b[0m\u001b[0m\n\u001b[1;32m-> 1344\u001b[1;33m                 \u001b[0mcfg_\u001b[0m\u001b[1;33m,\u001b[0m \u001b[0mr\u001b[0m \u001b[1;33m=\u001b[0m \u001b[0mdmp_div\u001b[0m\u001b[1;33m(\u001b[0m\u001b[0mg\u001b[0m\u001b[1;33m,\u001b[0m \u001b[0mh\u001b[0m\u001b[1;33m,\u001b[0m \u001b[0mu\u001b[0m\u001b[1;33m,\u001b[0m \u001b[0mK\u001b[0m\u001b[1;33m)\u001b[0m\u001b[1;33m\u001b[0m\u001b[1;33m\u001b[0m\u001b[0m\n\u001b[0m\u001b[0;32m   1345\u001b[0m \u001b[1;33m\u001b[0m\u001b[0m\n\u001b[0;32m   1346\u001b[0m                 \u001b[1;32mif\u001b[0m \u001b[0mdmp_zero_p\u001b[0m\u001b[1;33m(\u001b[0m\u001b[0mr\u001b[0m\u001b[1;33m,\u001b[0m \u001b[0mu\u001b[0m\u001b[1;33m)\u001b[0m\u001b[1;33m:\u001b[0m\u001b[1;33m\u001b[0m\u001b[1;33m\u001b[0m\u001b[0m\n",
      "\u001b[1;32m~\\anaconda3\\lib\\site-packages\\sympy\\polys\\densearith.py\u001b[0m in \u001b[0;36mdmp_div\u001b[1;34m(f, g, u, K)\u001b[0m\n\u001b[0;32m   1629\u001b[0m         \u001b[1;32mreturn\u001b[0m \u001b[0mdmp_ff_div\u001b[0m\u001b[1;33m(\u001b[0m\u001b[0mf\u001b[0m\u001b[1;33m,\u001b[0m \u001b[0mg\u001b[0m\u001b[1;33m,\u001b[0m \u001b[0mu\u001b[0m\u001b[1;33m,\u001b[0m \u001b[0mK\u001b[0m\u001b[1;33m)\u001b[0m\u001b[1;33m\u001b[0m\u001b[1;33m\u001b[0m\u001b[0m\n\u001b[0;32m   1630\u001b[0m     \u001b[1;32melse\u001b[0m\u001b[1;33m:\u001b[0m\u001b[1;33m\u001b[0m\u001b[1;33m\u001b[0m\u001b[0m\n\u001b[1;32m-> 1631\u001b[1;33m         \u001b[1;32mreturn\u001b[0m \u001b[0mdmp_rr_div\u001b[0m\u001b[1;33m(\u001b[0m\u001b[0mf\u001b[0m\u001b[1;33m,\u001b[0m \u001b[0mg\u001b[0m\u001b[1;33m,\u001b[0m \u001b[0mu\u001b[0m\u001b[1;33m,\u001b[0m \u001b[0mK\u001b[0m\u001b[1;33m)\u001b[0m\u001b[1;33m\u001b[0m\u001b[1;33m\u001b[0m\u001b[0m\n\u001b[0m\u001b[0;32m   1632\u001b[0m \u001b[1;33m\u001b[0m\u001b[0m\n\u001b[0;32m   1633\u001b[0m \u001b[1;33m\u001b[0m\u001b[0m\n",
      "\u001b[1;32m~\\anaconda3\\lib\\site-packages\\sympy\\polys\\densearith.py\u001b[0m in \u001b[0;36mdmp_rr_div\u001b[1;34m(f, g, u, K)\u001b[0m\n\u001b[0;32m   1397\u001b[0m \u001b[1;33m\u001b[0m\u001b[0m\n\u001b[0;32m   1398\u001b[0m         \u001b[0mq\u001b[0m \u001b[1;33m=\u001b[0m \u001b[0mdmp_add_term\u001b[0m\u001b[1;33m(\u001b[0m\u001b[0mq\u001b[0m\u001b[1;33m,\u001b[0m \u001b[0mc\u001b[0m\u001b[1;33m,\u001b[0m \u001b[0mj\u001b[0m\u001b[1;33m,\u001b[0m \u001b[0mu\u001b[0m\u001b[1;33m,\u001b[0m \u001b[0mK\u001b[0m\u001b[1;33m)\u001b[0m\u001b[1;33m\u001b[0m\u001b[1;33m\u001b[0m\u001b[0m\n\u001b[1;32m-> 1399\u001b[1;33m         \u001b[0mh\u001b[0m \u001b[1;33m=\u001b[0m \u001b[0mdmp_mul_term\u001b[0m\u001b[1;33m(\u001b[0m\u001b[0mg\u001b[0m\u001b[1;33m,\u001b[0m \u001b[0mc\u001b[0m\u001b[1;33m,\u001b[0m \u001b[0mj\u001b[0m\u001b[1;33m,\u001b[0m \u001b[0mu\u001b[0m\u001b[1;33m,\u001b[0m \u001b[0mK\u001b[0m\u001b[1;33m)\u001b[0m\u001b[1;33m\u001b[0m\u001b[1;33m\u001b[0m\u001b[0m\n\u001b[0m\u001b[0;32m   1400\u001b[0m         \u001b[0mr\u001b[0m \u001b[1;33m=\u001b[0m \u001b[0mdmp_sub\u001b[0m\u001b[1;33m(\u001b[0m\u001b[0mr\u001b[0m\u001b[1;33m,\u001b[0m \u001b[0mh\u001b[0m\u001b[1;33m,\u001b[0m \u001b[0mu\u001b[0m\u001b[1;33m,\u001b[0m \u001b[0mK\u001b[0m\u001b[1;33m)\u001b[0m\u001b[1;33m\u001b[0m\u001b[1;33m\u001b[0m\u001b[0m\n\u001b[0;32m   1401\u001b[0m \u001b[1;33m\u001b[0m\u001b[0m\n",
      "\u001b[1;32m~\\anaconda3\\lib\\site-packages\\sympy\\polys\\densearith.py\u001b[0m in \u001b[0;36mdmp_mul_term\u001b[1;34m(f, c, i, u, K)\u001b[0m\n\u001b[0;32m    184\u001b[0m         \u001b[1;32mreturn\u001b[0m \u001b[0mdmp_zero\u001b[0m\u001b[1;33m(\u001b[0m\u001b[0mu\u001b[0m\u001b[1;33m)\u001b[0m\u001b[1;33m\u001b[0m\u001b[1;33m\u001b[0m\u001b[0m\n\u001b[0;32m    185\u001b[0m     \u001b[1;32melse\u001b[0m\u001b[1;33m:\u001b[0m\u001b[1;33m\u001b[0m\u001b[1;33m\u001b[0m\u001b[0m\n\u001b[1;32m--> 186\u001b[1;33m         \u001b[1;32mreturn\u001b[0m \u001b[1;33m[\u001b[0m \u001b[0mdmp_mul\u001b[0m\u001b[1;33m(\u001b[0m\u001b[0mcf\u001b[0m\u001b[1;33m,\u001b[0m \u001b[0mc\u001b[0m\u001b[1;33m,\u001b[0m \u001b[0mv\u001b[0m\u001b[1;33m,\u001b[0m \u001b[0mK\u001b[0m\u001b[1;33m)\u001b[0m \u001b[1;32mfor\u001b[0m \u001b[0mcf\u001b[0m \u001b[1;32min\u001b[0m \u001b[0mf\u001b[0m \u001b[1;33m]\u001b[0m \u001b[1;33m+\u001b[0m \u001b[0mdmp_zeros\u001b[0m\u001b[1;33m(\u001b[0m\u001b[0mi\u001b[0m\u001b[1;33m,\u001b[0m \u001b[0mv\u001b[0m\u001b[1;33m,\u001b[0m \u001b[0mK\u001b[0m\u001b[1;33m)\u001b[0m\u001b[1;33m\u001b[0m\u001b[1;33m\u001b[0m\u001b[0m\n\u001b[0m\u001b[0;32m    187\u001b[0m \u001b[1;33m\u001b[0m\u001b[0m\n\u001b[0;32m    188\u001b[0m \u001b[1;33m\u001b[0m\u001b[0m\n",
      "\u001b[1;32m~\\anaconda3\\lib\\site-packages\\sympy\\polys\\densearith.py\u001b[0m in \u001b[0;36m<listcomp>\u001b[1;34m(.0)\u001b[0m\n\u001b[0;32m    184\u001b[0m         \u001b[1;32mreturn\u001b[0m \u001b[0mdmp_zero\u001b[0m\u001b[1;33m(\u001b[0m\u001b[0mu\u001b[0m\u001b[1;33m)\u001b[0m\u001b[1;33m\u001b[0m\u001b[1;33m\u001b[0m\u001b[0m\n\u001b[0;32m    185\u001b[0m     \u001b[1;32melse\u001b[0m\u001b[1;33m:\u001b[0m\u001b[1;33m\u001b[0m\u001b[1;33m\u001b[0m\u001b[0m\n\u001b[1;32m--> 186\u001b[1;33m         \u001b[1;32mreturn\u001b[0m \u001b[1;33m[\u001b[0m \u001b[0mdmp_mul\u001b[0m\u001b[1;33m(\u001b[0m\u001b[0mcf\u001b[0m\u001b[1;33m,\u001b[0m \u001b[0mc\u001b[0m\u001b[1;33m,\u001b[0m \u001b[0mv\u001b[0m\u001b[1;33m,\u001b[0m \u001b[0mK\u001b[0m\u001b[1;33m)\u001b[0m \u001b[1;32mfor\u001b[0m \u001b[0mcf\u001b[0m \u001b[1;32min\u001b[0m \u001b[0mf\u001b[0m \u001b[1;33m]\u001b[0m \u001b[1;33m+\u001b[0m \u001b[0mdmp_zeros\u001b[0m\u001b[1;33m(\u001b[0m\u001b[0mi\u001b[0m\u001b[1;33m,\u001b[0m \u001b[0mv\u001b[0m\u001b[1;33m,\u001b[0m \u001b[0mK\u001b[0m\u001b[1;33m)\u001b[0m\u001b[1;33m\u001b[0m\u001b[1;33m\u001b[0m\u001b[0m\n\u001b[0m\u001b[0;32m    187\u001b[0m \u001b[1;33m\u001b[0m\u001b[0m\n\u001b[0;32m    188\u001b[0m \u001b[1;33m\u001b[0m\u001b[0m\n",
      "\u001b[1;32m~\\anaconda3\\lib\\site-packages\\sympy\\polys\\densearith.py\u001b[0m in \u001b[0;36mdmp_mul\u001b[1;34m(f, g, u, K)\u001b[0m\n\u001b[0;32m    828\u001b[0m \u001b[1;33m\u001b[0m\u001b[0m\n\u001b[0;32m    829\u001b[0m         \u001b[1;32mfor\u001b[0m \u001b[0mj\u001b[0m \u001b[1;32min\u001b[0m \u001b[0mrange\u001b[0m\u001b[1;33m(\u001b[0m\u001b[0mmax\u001b[0m\u001b[1;33m(\u001b[0m\u001b[1;36m0\u001b[0m\u001b[1;33m,\u001b[0m \u001b[0mi\u001b[0m \u001b[1;33m-\u001b[0m \u001b[0mdg\u001b[0m\u001b[1;33m)\u001b[0m\u001b[1;33m,\u001b[0m \u001b[0mmin\u001b[0m\u001b[1;33m(\u001b[0m\u001b[0mdf\u001b[0m\u001b[1;33m,\u001b[0m \u001b[0mi\u001b[0m\u001b[1;33m)\u001b[0m \u001b[1;33m+\u001b[0m \u001b[1;36m1\u001b[0m\u001b[1;33m)\u001b[0m\u001b[1;33m:\u001b[0m\u001b[1;33m\u001b[0m\u001b[1;33m\u001b[0m\u001b[0m\n\u001b[1;32m--> 830\u001b[1;33m             \u001b[0mcoeff\u001b[0m \u001b[1;33m=\u001b[0m \u001b[0mdmp_add\u001b[0m\u001b[1;33m(\u001b[0m\u001b[0mcoeff\u001b[0m\u001b[1;33m,\u001b[0m \u001b[0mdmp_mul\u001b[0m\u001b[1;33m(\u001b[0m\u001b[0mf\u001b[0m\u001b[1;33m[\u001b[0m\u001b[0mj\u001b[0m\u001b[1;33m]\u001b[0m\u001b[1;33m,\u001b[0m \u001b[0mg\u001b[0m\u001b[1;33m[\u001b[0m\u001b[0mi\u001b[0m \u001b[1;33m-\u001b[0m \u001b[0mj\u001b[0m\u001b[1;33m]\u001b[0m\u001b[1;33m,\u001b[0m \u001b[0mv\u001b[0m\u001b[1;33m,\u001b[0m \u001b[0mK\u001b[0m\u001b[1;33m)\u001b[0m\u001b[1;33m,\u001b[0m \u001b[0mv\u001b[0m\u001b[1;33m,\u001b[0m \u001b[0mK\u001b[0m\u001b[1;33m)\u001b[0m\u001b[1;33m\u001b[0m\u001b[1;33m\u001b[0m\u001b[0m\n\u001b[0m\u001b[0;32m    831\u001b[0m \u001b[1;33m\u001b[0m\u001b[0m\n\u001b[0;32m    832\u001b[0m         \u001b[0mh\u001b[0m\u001b[1;33m.\u001b[0m\u001b[0mappend\u001b[0m\u001b[1;33m(\u001b[0m\u001b[0mcoeff\u001b[0m\u001b[1;33m)\u001b[0m\u001b[1;33m\u001b[0m\u001b[1;33m\u001b[0m\u001b[0m\n",
      "\u001b[1;32m~\\anaconda3\\lib\\site-packages\\sympy\\polys\\densearith.py\u001b[0m in \u001b[0;36mdmp_mul\u001b[1;34m(f, g, u, K)\u001b[0m\n\u001b[0;32m    828\u001b[0m \u001b[1;33m\u001b[0m\u001b[0m\n\u001b[0;32m    829\u001b[0m         \u001b[1;32mfor\u001b[0m \u001b[0mj\u001b[0m \u001b[1;32min\u001b[0m \u001b[0mrange\u001b[0m\u001b[1;33m(\u001b[0m\u001b[0mmax\u001b[0m\u001b[1;33m(\u001b[0m\u001b[1;36m0\u001b[0m\u001b[1;33m,\u001b[0m \u001b[0mi\u001b[0m \u001b[1;33m-\u001b[0m \u001b[0mdg\u001b[0m\u001b[1;33m)\u001b[0m\u001b[1;33m,\u001b[0m \u001b[0mmin\u001b[0m\u001b[1;33m(\u001b[0m\u001b[0mdf\u001b[0m\u001b[1;33m,\u001b[0m \u001b[0mi\u001b[0m\u001b[1;33m)\u001b[0m \u001b[1;33m+\u001b[0m \u001b[1;36m1\u001b[0m\u001b[1;33m)\u001b[0m\u001b[1;33m:\u001b[0m\u001b[1;33m\u001b[0m\u001b[1;33m\u001b[0m\u001b[0m\n\u001b[1;32m--> 830\u001b[1;33m             \u001b[0mcoeff\u001b[0m \u001b[1;33m=\u001b[0m \u001b[0mdmp_add\u001b[0m\u001b[1;33m(\u001b[0m\u001b[0mcoeff\u001b[0m\u001b[1;33m,\u001b[0m \u001b[0mdmp_mul\u001b[0m\u001b[1;33m(\u001b[0m\u001b[0mf\u001b[0m\u001b[1;33m[\u001b[0m\u001b[0mj\u001b[0m\u001b[1;33m]\u001b[0m\u001b[1;33m,\u001b[0m \u001b[0mg\u001b[0m\u001b[1;33m[\u001b[0m\u001b[0mi\u001b[0m \u001b[1;33m-\u001b[0m \u001b[0mj\u001b[0m\u001b[1;33m]\u001b[0m\u001b[1;33m,\u001b[0m \u001b[0mv\u001b[0m\u001b[1;33m,\u001b[0m \u001b[0mK\u001b[0m\u001b[1;33m)\u001b[0m\u001b[1;33m,\u001b[0m \u001b[0mv\u001b[0m\u001b[1;33m,\u001b[0m \u001b[0mK\u001b[0m\u001b[1;33m)\u001b[0m\u001b[1;33m\u001b[0m\u001b[1;33m\u001b[0m\u001b[0m\n\u001b[0m\u001b[0;32m    831\u001b[0m \u001b[1;33m\u001b[0m\u001b[0m\n\u001b[0;32m    832\u001b[0m         \u001b[0mh\u001b[0m\u001b[1;33m.\u001b[0m\u001b[0mappend\u001b[0m\u001b[1;33m(\u001b[0m\u001b[0mcoeff\u001b[0m\u001b[1;33m)\u001b[0m\u001b[1;33m\u001b[0m\u001b[1;33m\u001b[0m\u001b[0m\n",
      "\u001b[1;32m~\\anaconda3\\lib\\site-packages\\sympy\\polys\\densearith.py\u001b[0m in \u001b[0;36mdmp_add\u001b[1;34m(f, g, u, K)\u001b[0m\n\u001b[0;32m    567\u001b[0m     \u001b[0mdf\u001b[0m \u001b[1;33m=\u001b[0m \u001b[0mdmp_degree\u001b[0m\u001b[1;33m(\u001b[0m\u001b[0mf\u001b[0m\u001b[1;33m,\u001b[0m \u001b[0mu\u001b[0m\u001b[1;33m)\u001b[0m\u001b[1;33m\u001b[0m\u001b[1;33m\u001b[0m\u001b[0m\n\u001b[0;32m    568\u001b[0m \u001b[1;33m\u001b[0m\u001b[0m\n\u001b[1;32m--> 569\u001b[1;33m     \u001b[1;32mif\u001b[0m \u001b[0mdf\u001b[0m \u001b[1;33m<\u001b[0m \u001b[1;36m0\u001b[0m\u001b[1;33m:\u001b[0m\u001b[1;33m\u001b[0m\u001b[1;33m\u001b[0m\u001b[0m\n\u001b[0m\u001b[0;32m    570\u001b[0m         \u001b[1;32mreturn\u001b[0m \u001b[0mg\u001b[0m\u001b[1;33m\u001b[0m\u001b[1;33m\u001b[0m\u001b[0m\n\u001b[0;32m    571\u001b[0m \u001b[1;33m\u001b[0m\u001b[0m\n",
      "\u001b[1;32m~\\anaconda3\\lib\\site-packages\\sympy\\core\\expr.py\u001b[0m in \u001b[0;36m__lt__\u001b[1;34m(self, other)\u001b[0m\n\u001b[0;32m    397\u001b[0m     \u001b[1;32mdef\u001b[0m \u001b[0m__lt__\u001b[0m\u001b[1;33m(\u001b[0m\u001b[0mself\u001b[0m\u001b[1;33m,\u001b[0m \u001b[0mother\u001b[0m\u001b[1;33m)\u001b[0m\u001b[1;33m:\u001b[0m\u001b[1;33m\u001b[0m\u001b[1;33m\u001b[0m\u001b[0m\n\u001b[0;32m    398\u001b[0m         \u001b[1;32mfrom\u001b[0m \u001b[0msympy\u001b[0m \u001b[1;32mimport\u001b[0m \u001b[0mStrictLessThan\u001b[0m\u001b[1;33m\u001b[0m\u001b[1;33m\u001b[0m\u001b[0m\n\u001b[1;32m--> 399\u001b[1;33m         \u001b[1;32mreturn\u001b[0m \u001b[0mself\u001b[0m\u001b[1;33m.\u001b[0m\u001b[0m_cmp\u001b[0m\u001b[1;33m(\u001b[0m\u001b[0mother\u001b[0m\u001b[1;33m,\u001b[0m \u001b[1;34m\"<\"\u001b[0m\u001b[1;33m,\u001b[0m \u001b[0mStrictLessThan\u001b[0m\u001b[1;33m)\u001b[0m\u001b[1;33m\u001b[0m\u001b[1;33m\u001b[0m\u001b[0m\n\u001b[0m\u001b[0;32m    400\u001b[0m \u001b[1;33m\u001b[0m\u001b[0m\n\u001b[0;32m    401\u001b[0m     \u001b[1;32mdef\u001b[0m \u001b[0m__trunc__\u001b[0m\u001b[1;33m(\u001b[0m\u001b[0mself\u001b[0m\u001b[1;33m)\u001b[0m\u001b[1;33m:\u001b[0m\u001b[1;33m\u001b[0m\u001b[1;33m\u001b[0m\u001b[0m\n",
      "\u001b[1;32m~\\anaconda3\\lib\\site-packages\\sympy\\core\\expr.py\u001b[0m in \u001b[0;36m_cmp\u001b[1;34m(self, other, op, cls)\u001b[0m\n\u001b[0;32m    333\u001b[0m         \u001b[1;32massert\u001b[0m \u001b[0mop\u001b[0m \u001b[1;32min\u001b[0m \u001b[1;33m(\u001b[0m\u001b[1;34m\"<\"\u001b[0m\u001b[1;33m,\u001b[0m \u001b[1;34m\">\"\u001b[0m\u001b[1;33m,\u001b[0m \u001b[1;34m\"<=\"\u001b[0m\u001b[1;33m,\u001b[0m \u001b[1;34m\">=\"\u001b[0m\u001b[1;33m)\u001b[0m\u001b[1;33m\u001b[0m\u001b[1;33m\u001b[0m\u001b[0m\n\u001b[0;32m    334\u001b[0m         \u001b[1;32mtry\u001b[0m\u001b[1;33m:\u001b[0m\u001b[1;33m\u001b[0m\u001b[1;33m\u001b[0m\u001b[0m\n\u001b[1;32m--> 335\u001b[1;33m             \u001b[0mother\u001b[0m \u001b[1;33m=\u001b[0m \u001b[0m_sympify\u001b[0m\u001b[1;33m(\u001b[0m\u001b[0mother\u001b[0m\u001b[1;33m)\u001b[0m\u001b[1;33m\u001b[0m\u001b[1;33m\u001b[0m\u001b[0m\n\u001b[0m\u001b[0;32m    336\u001b[0m         \u001b[1;32mexcept\u001b[0m \u001b[0mSympifyError\u001b[0m\u001b[1;33m:\u001b[0m\u001b[1;33m\u001b[0m\u001b[1;33m\u001b[0m\u001b[0m\n\u001b[0;32m    337\u001b[0m             \u001b[1;32mraise\u001b[0m \u001b[0mTypeError\u001b[0m\u001b[1;33m(\u001b[0m\u001b[1;34m\"Invalid comparison %s %s %s\"\u001b[0m \u001b[1;33m%\u001b[0m \u001b[1;33m(\u001b[0m\u001b[0mself\u001b[0m\u001b[1;33m,\u001b[0m \u001b[0mop\u001b[0m\u001b[1;33m,\u001b[0m \u001b[0mother\u001b[0m\u001b[1;33m)\u001b[0m\u001b[1;33m)\u001b[0m\u001b[1;33m\u001b[0m\u001b[1;33m\u001b[0m\u001b[0m\n",
      "\u001b[1;32m~\\anaconda3\\lib\\site-packages\\sympy\\core\\sympify.py\u001b[0m in \u001b[0;36m_sympify\u001b[1;34m(a)\u001b[0m\n\u001b[0;32m    416\u001b[0m \u001b[1;33m\u001b[0m\u001b[0m\n\u001b[0;32m    417\u001b[0m     \"\"\"\n\u001b[1;32m--> 418\u001b[1;33m     \u001b[1;32mreturn\u001b[0m \u001b[0msympify\u001b[0m\u001b[1;33m(\u001b[0m\u001b[0ma\u001b[0m\u001b[1;33m,\u001b[0m \u001b[0mstrict\u001b[0m\u001b[1;33m=\u001b[0m\u001b[1;32mTrue\u001b[0m\u001b[1;33m)\u001b[0m\u001b[1;33m\u001b[0m\u001b[1;33m\u001b[0m\u001b[0m\n\u001b[0m\u001b[0;32m    419\u001b[0m \u001b[1;33m\u001b[0m\u001b[0m\n\u001b[0;32m    420\u001b[0m \u001b[1;33m\u001b[0m\u001b[0m\n",
      "\u001b[1;32m~\\anaconda3\\lib\\site-packages\\sympy\\core\\sympify.py\u001b[0m in \u001b[0;36msympify\u001b[1;34m(a, locals, convert_xor, strict, rational, evaluate)\u001b[0m\n\u001b[0;32m    263\u001b[0m \u001b[1;33m\u001b[0m\u001b[0m\n\u001b[0;32m    264\u001b[0m     \"\"\"\n\u001b[1;32m--> 265\u001b[1;33m     \u001b[0mis_sympy\u001b[0m \u001b[1;33m=\u001b[0m \u001b[0mgetattr\u001b[0m\u001b[1;33m(\u001b[0m\u001b[0ma\u001b[0m\u001b[1;33m,\u001b[0m \u001b[1;34m'__sympy__'\u001b[0m\u001b[1;33m,\u001b[0m \u001b[1;32mNone\u001b[0m\u001b[1;33m)\u001b[0m\u001b[1;33m\u001b[0m\u001b[1;33m\u001b[0m\u001b[0m\n\u001b[0m\u001b[0;32m    266\u001b[0m     \u001b[1;32mif\u001b[0m \u001b[0mis_sympy\u001b[0m \u001b[1;32mis\u001b[0m \u001b[1;32mnot\u001b[0m \u001b[1;32mNone\u001b[0m\u001b[1;33m:\u001b[0m\u001b[1;33m\u001b[0m\u001b[1;33m\u001b[0m\u001b[0m\n\u001b[0;32m    267\u001b[0m         \u001b[1;32mreturn\u001b[0m \u001b[0ma\u001b[0m\u001b[1;33m\u001b[0m\u001b[1;33m\u001b[0m\u001b[0m\n",
      "\u001b[1;31mKeyboardInterrupt\u001b[0m: "
     ]
    }
   ],
   "source": [
    "theta_val_G = sp.solve(q, theta)\n",
    "theta_val_G"
   ]
  },
  {
   "cell_type": "markdown",
   "metadata": {},
   "source": [
    "### Strain Energy Density\n",
    "The strain energy density can be written as:\n",
    "\\begin{align}\n",
    "S(\\theta) = a_{11}K_I^2 + 2 a_{12}K_I K_{II} + a_{22}K_{II}^2\n",
    "\\end{align}\n",
    "where:\n",
    "\\begin{gather*}\n",
    "a_{11} = \\frac{(\\kappa - cos\\theta)(1 + cos\\theta)}{16 \\pi \\mu} \\\\\n",
    "a_{12} = \\frac{(2 cos\\theta - \\kappa + 1}{16 \\pi \\mu} \\\\\n",
    "a_{22} = \\frac{(\\kappa + 1)(1 - cos\\theta) + (1 + cos\\theta)(3 cos\\theta -1)}{16 \\pi \\mu}\n",
    "\\end{gather*}\n",
    "and:\n",
    "\\begin{gather*}\n",
    "\\kappa = 3 - 4 \\nu \\\\\n",
    "\\mu = E(2(1+\\nu)) \\\\\n",
    "\\end{gather*}"
   ]
  },
  {
   "cell_type": "code",
   "execution_count": 29,
   "metadata": {},
   "outputs": [],
   "source": [
    "mu = E * (2 * (1 + nu))\n",
    "kappa = 3 - 4 * nu\n",
    "a_11 = ((kappa - sp.cos(theta))*(1 + sp.cos(theta))) / (16 * sp.pi * mu)\n",
    "a_12 = ((2 * sp.cos(theta) - kappa + 1) * sp.sin(theta)) / (16 * sp.pi * mu)\n",
    "a_22 = ((kappa + 1) * (1 - sp.cos(theta)) + (1 + sp.cos(theta))*(3 * sp.cos(theta) - 1)) / (16 * sp.pi * mu)\n",
    "S_the = a_11 * K_I**2 + 2 * a_12 * K_I * K_II + a_22 * K_II**2\n",
    "S_the;"
   ]
  },
  {
   "cell_type": "code",
   "execution_count": 30,
   "metadata": {},
   "outputs": [],
   "source": [
    "get_S_the = sp.lambdify((beta, theta), S_the.subs(params), 'numpy')\n",
    "S_the.subs(params);"
   ]
  },
  {
   "cell_type": "markdown",
   "metadata": {},
   "source": [
    "The crack initiation angle direction can be obtained as follows:\n",
    "\\begin{gather*}\n",
    "\\frac{\\partial S}{\\partial \\theta} = 0   \n",
    "\\end{gather*}"
   ]
  },
  {
   "cell_type": "code",
   "execution_count": 31,
   "metadata": {},
   "outputs": [],
   "source": [
    "diff_S_the = S_the.diff(theta)\n",
    "diff_S_the;"
   ]
  },
  {
   "cell_type": "code",
   "execution_count": 38,
   "metadata": {},
   "outputs": [
    {
     "data": {
      "text/latex": [
       "$\\displaystyle \\frac{0.196349540849362 \\sigma^{2} a \\left(\\cos{\\left(\\theta \\right)} + 1\\right) \\sin^{4}{\\left(\\beta \\right)} \\sin{\\left(\\theta \\right)}}{\\pi E \\left(2 r\n",
       "u + 2\\right)} - \\frac{0.196349540849362 \\sigma^{2} a \\left(- 4 r\n",
       "u - \\cos{\\left(\\theta \\right)} + 3\\right) \\sin^{4}{\\left(\\beta \\right)} \\sin{\\left(\\theta \\right)}}{\\pi E \\left(2 r\n",
       "u + 2\\right)} + \\frac{0.392699081698724 \\sigma^{2} a \\left(4 r\n",
       "u + 2 \\cos{\\left(\\theta \\right)} - 2\\right) \\sin^{3}{\\left(\\beta \\right)} \\cos{\\left(\\beta \\right)} \\cos{\\left(\\theta \\right)}}{\\pi E \\left(2 r\n",
       "u + 2\\right)} + \\frac{0.196349540849362 \\sigma^{2} a \\left(\\left(4 - 4 r\n",
       "u\\right) \\sin{\\left(\\theta \\right)} - 3 \\left(\\cos{\\left(\\theta \\right)} + 1\\right) \\sin{\\left(\\theta \\right)} - \\left(3 \\cos{\\left(\\theta \\right)} - 1\\right) \\sin{\\left(\\theta \\right)}\\right) \\sin^{2}{\\left(\\beta \\right)} \\cos^{2}{\\left(\\beta \\right)}}{\\pi E \\left(2 r\n",
       "u + 2\\right)} - \\frac{0.785398163397448 \\sigma^{2} a \\sin^{3}{\\left(\\beta \\right)} \\sin^{2}{\\left(\\theta \\right)} \\cos{\\left(\\beta \\right)}}{\\pi E \\left(2 r\n",
       "u + 2\\right)} = 0$"
      ],
      "text/plain": [
       "Eq(0.196349540849362*\\sigma**2*a*(cos(\\theta) + 1)*sin(\\beta)**4*sin(\\theta)/(pi*E*(2*r\n",
       "u + 2)) - 0.196349540849362*\\sigma**2*a*(-4*r\n",
       "u - cos(\\theta) + 3)*sin(\\beta)**4*sin(\\theta)/(pi*E*(2*r\n",
       "u + 2)) + 0.392699081698724*\\sigma**2*a*(4*r\n",
       "u + 2*cos(\\theta) - 2)*sin(\\beta)**3*cos(\\beta)*cos(\\theta)/(pi*E*(2*r\n",
       "u + 2)) + 0.196349540849362*\\sigma**2*a*((4 - 4*r\n",
       "u)*sin(\\theta) - 3*(cos(\\theta) + 1)*sin(\\theta) - (3*cos(\\theta) - 1)*sin(\\theta))*sin(\\beta)**2*cos(\\beta)**2/(pi*E*(2*r\n",
       "u + 2)) - 0.785398163397448*\\sigma**2*a*sin(\\beta)**3*sin(\\theta)**2*cos(\\beta)/(pi*E*(2*r\n",
       "u + 2)), 0)"
      ]
     },
     "execution_count": 38,
     "metadata": {},
     "output_type": "execute_result"
    }
   ],
   "source": [
    "a = sp.Eq(diff_S_the,0)"
   ]
  },
  {
   "cell_type": "code",
   "execution_count": 32,
   "metadata": {},
   "outputs": [],
   "source": [
    "get_diff_S_the = sp.lambdify((beta, theta), diff_S_the.subs(params),'numpy')\n",
    "diff_S_the.subs(params);"
   ]
  },
  {
   "cell_type": "code",
   "execution_count": 33,
   "metadata": {},
   "outputs": [],
   "source": [
    "#from scipy.optimize import fsolve, root\n",
    "#x0 = 90\n",
    "#theta_val_S = root(get_diff_S_the, x0)\n",
    "#theta_val_S.x"
   ]
  },
  {
   "cell_type": "code",
   "execution_count": 41,
   "metadata": {},
   "outputs": [
    {
     "ename": "AttributeError",
     "evalue": "'NoneType' object has no attribute 'groups'",
     "output_type": "error",
     "traceback": [
      "\u001b[1;31m---------------------------------------------------------------------------\u001b[0m",
      "\u001b[1;31mAttributeError\u001b[0m                            Traceback (most recent call last)",
      "\u001b[1;32m<ipython-input-41-14062ea396bc>\u001b[0m in \u001b[0;36m<module>\u001b[1;34m\u001b[0m\n\u001b[1;32m----> 1\u001b[1;33m \u001b[0mtheta_val_S\u001b[0m \u001b[1;33m=\u001b[0m \u001b[0msp\u001b[0m\u001b[1;33m.\u001b[0m\u001b[0msolve\u001b[0m\u001b[1;33m(\u001b[0m\u001b[0mdiff_S_the\u001b[0m\u001b[1;33m,\u001b[0m \u001b[0mtheta\u001b[0m\u001b[1;33m)\u001b[0m\u001b[1;33m\u001b[0m\u001b[1;33m\u001b[0m\u001b[0m\n\u001b[0m\u001b[0;32m      2\u001b[0m \u001b[0mtheta_val_S\u001b[0m\u001b[1;33m\u001b[0m\u001b[1;33m\u001b[0m\u001b[0m\n",
      "\u001b[1;32m~\\anaconda3\\lib\\site-packages\\sympy\\solvers\\solvers.py\u001b[0m in \u001b[0;36msolve\u001b[1;34m(f, *symbols, **flags)\u001b[0m\n\u001b[0;32m   1172\u001b[0m     \u001b[1;31m###########################################################################\u001b[0m\u001b[1;33m\u001b[0m\u001b[1;33m\u001b[0m\u001b[1;33m\u001b[0m\u001b[0m\n\u001b[0;32m   1173\u001b[0m     \u001b[1;32mif\u001b[0m \u001b[0mbare_f\u001b[0m\u001b[1;33m:\u001b[0m\u001b[1;33m\u001b[0m\u001b[1;33m\u001b[0m\u001b[0m\n\u001b[1;32m-> 1174\u001b[1;33m         \u001b[0msolution\u001b[0m \u001b[1;33m=\u001b[0m \u001b[0m_solve\u001b[0m\u001b[1;33m(\u001b[0m\u001b[0mf\u001b[0m\u001b[1;33m[\u001b[0m\u001b[1;36m0\u001b[0m\u001b[1;33m]\u001b[0m\u001b[1;33m,\u001b[0m \u001b[1;33m*\u001b[0m\u001b[0msymbols\u001b[0m\u001b[1;33m,\u001b[0m \u001b[1;33m**\u001b[0m\u001b[0mflags\u001b[0m\u001b[1;33m)\u001b[0m\u001b[1;33m\u001b[0m\u001b[1;33m\u001b[0m\u001b[0m\n\u001b[0m\u001b[0;32m   1175\u001b[0m     \u001b[1;32melse\u001b[0m\u001b[1;33m:\u001b[0m\u001b[1;33m\u001b[0m\u001b[1;33m\u001b[0m\u001b[0m\n\u001b[0;32m   1176\u001b[0m         \u001b[0msolution\u001b[0m \u001b[1;33m=\u001b[0m \u001b[0m_solve_system\u001b[0m\u001b[1;33m(\u001b[0m\u001b[0mf\u001b[0m\u001b[1;33m,\u001b[0m \u001b[0msymbols\u001b[0m\u001b[1;33m,\u001b[0m \u001b[1;33m**\u001b[0m\u001b[0mflags\u001b[0m\u001b[1;33m)\u001b[0m\u001b[1;33m\u001b[0m\u001b[1;33m\u001b[0m\u001b[0m\n",
      "\u001b[1;32m~\\anaconda3\\lib\\site-packages\\sympy\\solvers\\solvers.py\u001b[0m in \u001b[0;36m_solve\u001b[1;34m(f, *symbols, **flags)\u001b[0m\n\u001b[0;32m   1531\u001b[0m \u001b[1;33m\u001b[0m\u001b[0m\n\u001b[0;32m   1532\u001b[0m         \u001b[1;32mtry\u001b[0m\u001b[1;33m:\u001b[0m\u001b[1;33m\u001b[0m\u001b[1;33m\u001b[0m\u001b[0m\n\u001b[1;32m-> 1533\u001b[1;33m             \u001b[0mpoly\u001b[0m \u001b[1;33m=\u001b[0m \u001b[0mPoly\u001b[0m\u001b[1;33m(\u001b[0m\u001b[0mf_num\u001b[0m\u001b[1;33m)\u001b[0m\u001b[1;33m\u001b[0m\u001b[1;33m\u001b[0m\u001b[0m\n\u001b[0m\u001b[0;32m   1534\u001b[0m             \u001b[1;32mif\u001b[0m \u001b[0mpoly\u001b[0m \u001b[1;32mis\u001b[0m \u001b[1;32mNone\u001b[0m\u001b[1;33m:\u001b[0m\u001b[1;33m\u001b[0m\u001b[1;33m\u001b[0m\u001b[0m\n\u001b[0;32m   1535\u001b[0m                 \u001b[1;32mraise\u001b[0m \u001b[0mValueError\u001b[0m\u001b[1;33m(\u001b[0m\u001b[1;34m'could not convert %s to Poly'\u001b[0m \u001b[1;33m%\u001b[0m \u001b[0mf_num\u001b[0m\u001b[1;33m)\u001b[0m\u001b[1;33m\u001b[0m\u001b[1;33m\u001b[0m\u001b[0m\n",
      "\u001b[1;32m~\\anaconda3\\lib\\site-packages\\sympy\\polys\\polytools.py\u001b[0m in \u001b[0;36m__new__\u001b[1;34m(cls, rep, *gens, **args)\u001b[0m\n\u001b[0;32m    123\u001b[0m                 \u001b[1;32mreturn\u001b[0m \u001b[0mcls\u001b[0m\u001b[1;33m.\u001b[0m\u001b[0m_from_poly\u001b[0m\u001b[1;33m(\u001b[0m\u001b[0mrep\u001b[0m\u001b[1;33m,\u001b[0m \u001b[0mopt\u001b[0m\u001b[1;33m)\u001b[0m\u001b[1;33m\u001b[0m\u001b[1;33m\u001b[0m\u001b[0m\n\u001b[0;32m    124\u001b[0m             \u001b[1;32melse\u001b[0m\u001b[1;33m:\u001b[0m\u001b[1;33m\u001b[0m\u001b[1;33m\u001b[0m\u001b[0m\n\u001b[1;32m--> 125\u001b[1;33m                 \u001b[1;32mreturn\u001b[0m \u001b[0mcls\u001b[0m\u001b[1;33m.\u001b[0m\u001b[0m_from_expr\u001b[0m\u001b[1;33m(\u001b[0m\u001b[0mrep\u001b[0m\u001b[1;33m,\u001b[0m \u001b[0mopt\u001b[0m\u001b[1;33m)\u001b[0m\u001b[1;33m\u001b[0m\u001b[1;33m\u001b[0m\u001b[0m\n\u001b[0m\u001b[0;32m    126\u001b[0m \u001b[1;33m\u001b[0m\u001b[0m\n\u001b[0;32m    127\u001b[0m     \u001b[1;33m@\u001b[0m\u001b[0mclassmethod\u001b[0m\u001b[1;33m\u001b[0m\u001b[1;33m\u001b[0m\u001b[0m\n",
      "\u001b[1;32m~\\anaconda3\\lib\\site-packages\\sympy\\polys\\polytools.py\u001b[0m in \u001b[0;36m_from_expr\u001b[1;34m(cls, rep, opt)\u001b[0m\n\u001b[0;32m    233\u001b[0m     \u001b[1;32mdef\u001b[0m \u001b[0m_from_expr\u001b[0m\u001b[1;33m(\u001b[0m\u001b[0mcls\u001b[0m\u001b[1;33m,\u001b[0m \u001b[0mrep\u001b[0m\u001b[1;33m,\u001b[0m \u001b[0mopt\u001b[0m\u001b[1;33m)\u001b[0m\u001b[1;33m:\u001b[0m\u001b[1;33m\u001b[0m\u001b[1;33m\u001b[0m\u001b[0m\n\u001b[0;32m    234\u001b[0m         \u001b[1;34m\"\"\"Construct a polynomial from an expression. \"\"\"\u001b[0m\u001b[1;33m\u001b[0m\u001b[1;33m\u001b[0m\u001b[0m\n\u001b[1;32m--> 235\u001b[1;33m         \u001b[0mrep\u001b[0m\u001b[1;33m,\u001b[0m \u001b[0mopt\u001b[0m \u001b[1;33m=\u001b[0m \u001b[0m_dict_from_expr\u001b[0m\u001b[1;33m(\u001b[0m\u001b[0mrep\u001b[0m\u001b[1;33m,\u001b[0m \u001b[0mopt\u001b[0m\u001b[1;33m)\u001b[0m\u001b[1;33m\u001b[0m\u001b[1;33m\u001b[0m\u001b[0m\n\u001b[0m\u001b[0;32m    236\u001b[0m         \u001b[1;32mreturn\u001b[0m \u001b[0mcls\u001b[0m\u001b[1;33m.\u001b[0m\u001b[0m_from_dict\u001b[0m\u001b[1;33m(\u001b[0m\u001b[0mrep\u001b[0m\u001b[1;33m,\u001b[0m \u001b[0mopt\u001b[0m\u001b[1;33m)\u001b[0m\u001b[1;33m\u001b[0m\u001b[1;33m\u001b[0m\u001b[0m\n\u001b[0;32m    237\u001b[0m \u001b[1;33m\u001b[0m\u001b[0m\n",
      "\u001b[1;32m~\\anaconda3\\lib\\site-packages\\sympy\\polys\\polyutils.py\u001b[0m in \u001b[0;36m_dict_from_expr\u001b[1;34m(expr, opt)\u001b[0m\n\u001b[0;32m    369\u001b[0m         \u001b[0mrep\u001b[0m\u001b[1;33m,\u001b[0m \u001b[0mgens\u001b[0m \u001b[1;33m=\u001b[0m \u001b[0m_dict_from_expr_if_gens\u001b[0m\u001b[1;33m(\u001b[0m\u001b[0mexpr\u001b[0m\u001b[1;33m,\u001b[0m \u001b[0mopt\u001b[0m\u001b[1;33m)\u001b[0m\u001b[1;33m\u001b[0m\u001b[1;33m\u001b[0m\u001b[0m\n\u001b[0;32m    370\u001b[0m     \u001b[1;32melse\u001b[0m\u001b[1;33m:\u001b[0m\u001b[1;33m\u001b[0m\u001b[1;33m\u001b[0m\u001b[0m\n\u001b[1;32m--> 371\u001b[1;33m         \u001b[0mrep\u001b[0m\u001b[1;33m,\u001b[0m \u001b[0mgens\u001b[0m \u001b[1;33m=\u001b[0m \u001b[0m_dict_from_expr_no_gens\u001b[0m\u001b[1;33m(\u001b[0m\u001b[0mexpr\u001b[0m\u001b[1;33m,\u001b[0m \u001b[0mopt\u001b[0m\u001b[1;33m)\u001b[0m\u001b[1;33m\u001b[0m\u001b[1;33m\u001b[0m\u001b[0m\n\u001b[0m\u001b[0;32m    372\u001b[0m \u001b[1;33m\u001b[0m\u001b[0m\n\u001b[0;32m    373\u001b[0m     \u001b[1;32mreturn\u001b[0m \u001b[0mrep\u001b[0m\u001b[1;33m,\u001b[0m \u001b[0mopt\u001b[0m\u001b[1;33m.\u001b[0m\u001b[0mclone\u001b[0m\u001b[1;33m(\u001b[0m\u001b[1;33m{\u001b[0m\u001b[1;34m'gens'\u001b[0m\u001b[1;33m:\u001b[0m \u001b[0mgens\u001b[0m\u001b[1;33m}\u001b[0m\u001b[1;33m)\u001b[0m\u001b[1;33m\u001b[0m\u001b[1;33m\u001b[0m\u001b[0m\n",
      "\u001b[1;32m~\\anaconda3\\lib\\site-packages\\sympy\\polys\\polyutils.py\u001b[0m in \u001b[0;36m_dict_from_expr_no_gens\u001b[1;34m(expr, opt)\u001b[0m\n\u001b[0;32m    312\u001b[0m \u001b[1;32mdef\u001b[0m \u001b[0m_dict_from_expr_no_gens\u001b[0m\u001b[1;33m(\u001b[0m\u001b[0mexpr\u001b[0m\u001b[1;33m,\u001b[0m \u001b[0mopt\u001b[0m\u001b[1;33m)\u001b[0m\u001b[1;33m:\u001b[0m\u001b[1;33m\u001b[0m\u001b[1;33m\u001b[0m\u001b[0m\n\u001b[0;32m    313\u001b[0m     \u001b[1;34m\"\"\"Transform an expression into a multinomial form and figure out generators. \"\"\"\u001b[0m\u001b[1;33m\u001b[0m\u001b[1;33m\u001b[0m\u001b[0m\n\u001b[1;32m--> 314\u001b[1;33m     \u001b[1;33m(\u001b[0m\u001b[0mpoly\u001b[0m\u001b[1;33m,\u001b[0m\u001b[1;33m)\u001b[0m\u001b[1;33m,\u001b[0m \u001b[0mgens\u001b[0m \u001b[1;33m=\u001b[0m \u001b[0m_parallel_dict_from_expr_no_gens\u001b[0m\u001b[1;33m(\u001b[0m\u001b[1;33m(\u001b[0m\u001b[0mexpr\u001b[0m\u001b[1;33m,\u001b[0m\u001b[1;33m)\u001b[0m\u001b[1;33m,\u001b[0m \u001b[0mopt\u001b[0m\u001b[1;33m)\u001b[0m\u001b[1;33m\u001b[0m\u001b[1;33m\u001b[0m\u001b[0m\n\u001b[0m\u001b[0;32m    315\u001b[0m     \u001b[1;32mreturn\u001b[0m \u001b[0mpoly\u001b[0m\u001b[1;33m,\u001b[0m \u001b[0mgens\u001b[0m\u001b[1;33m\u001b[0m\u001b[1;33m\u001b[0m\u001b[0m\n\u001b[0;32m    316\u001b[0m \u001b[1;33m\u001b[0m\u001b[0m\n",
      "\u001b[1;32m~\\anaconda3\\lib\\site-packages\\sympy\\polys\\polyutils.py\u001b[0m in \u001b[0;36m_parallel_dict_from_expr_no_gens\u001b[1;34m(exprs, opt)\u001b[0m\n\u001b[0;32m    275\u001b[0m         \u001b[0mreprs\u001b[0m\u001b[1;33m.\u001b[0m\u001b[0mappend\u001b[0m\u001b[1;33m(\u001b[0m\u001b[0mterms\u001b[0m\u001b[1;33m)\u001b[0m\u001b[1;33m\u001b[0m\u001b[1;33m\u001b[0m\u001b[0m\n\u001b[0;32m    276\u001b[0m \u001b[1;33m\u001b[0m\u001b[0m\n\u001b[1;32m--> 277\u001b[1;33m     \u001b[0mgens\u001b[0m \u001b[1;33m=\u001b[0m \u001b[0m_sort_gens\u001b[0m\u001b[1;33m(\u001b[0m\u001b[0mgens\u001b[0m\u001b[1;33m,\u001b[0m \u001b[0mopt\u001b[0m\u001b[1;33m=\u001b[0m\u001b[0mopt\u001b[0m\u001b[1;33m)\u001b[0m\u001b[1;33m\u001b[0m\u001b[1;33m\u001b[0m\u001b[0m\n\u001b[0m\u001b[0;32m    278\u001b[0m     \u001b[0mk\u001b[0m\u001b[1;33m,\u001b[0m \u001b[0mindices\u001b[0m \u001b[1;33m=\u001b[0m \u001b[0mlen\u001b[0m\u001b[1;33m(\u001b[0m\u001b[0mgens\u001b[0m\u001b[1;33m)\u001b[0m\u001b[1;33m,\u001b[0m \u001b[1;33m{\u001b[0m\u001b[1;33m}\u001b[0m\u001b[1;33m\u001b[0m\u001b[1;33m\u001b[0m\u001b[0m\n\u001b[0;32m    279\u001b[0m \u001b[1;33m\u001b[0m\u001b[0m\n",
      "\u001b[1;32m~\\anaconda3\\lib\\site-packages\\sympy\\polys\\polyutils.py\u001b[0m in \u001b[0;36m_sort_gens\u001b[1;34m(gens, **args)\u001b[0m\n\u001b[0;32m    102\u001b[0m \u001b[1;33m\u001b[0m\u001b[0m\n\u001b[0;32m    103\u001b[0m     \u001b[1;32mtry\u001b[0m\u001b[1;33m:\u001b[0m\u001b[1;33m\u001b[0m\u001b[1;33m\u001b[0m\u001b[0m\n\u001b[1;32m--> 104\u001b[1;33m         \u001b[0mgens\u001b[0m \u001b[1;33m=\u001b[0m \u001b[0msorted\u001b[0m\u001b[1;33m(\u001b[0m\u001b[0mgens\u001b[0m\u001b[1;33m,\u001b[0m \u001b[0mkey\u001b[0m\u001b[1;33m=\u001b[0m\u001b[0morder_key\u001b[0m\u001b[1;33m)\u001b[0m\u001b[1;33m\u001b[0m\u001b[1;33m\u001b[0m\u001b[0m\n\u001b[0m\u001b[0;32m    105\u001b[0m     \u001b[1;32mexcept\u001b[0m \u001b[0mTypeError\u001b[0m\u001b[1;33m:\u001b[0m  \u001b[1;31m# pragma: no cover\u001b[0m\u001b[1;33m\u001b[0m\u001b[1;33m\u001b[0m\u001b[0m\n\u001b[0;32m    106\u001b[0m         \u001b[1;32mpass\u001b[0m\u001b[1;33m\u001b[0m\u001b[1;33m\u001b[0m\u001b[0m\n",
      "\u001b[1;32m~\\anaconda3\\lib\\site-packages\\sympy\\polys\\polyutils.py\u001b[0m in \u001b[0;36morder_key\u001b[1;34m(gen)\u001b[0m\n\u001b[0;32m     82\u001b[0m                 \u001b[1;32mpass\u001b[0m\u001b[1;33m\u001b[0m\u001b[1;33m\u001b[0m\u001b[0m\n\u001b[0;32m     83\u001b[0m \u001b[1;33m\u001b[0m\u001b[0m\n\u001b[1;32m---> 84\u001b[1;33m         \u001b[0mname\u001b[0m\u001b[1;33m,\u001b[0m \u001b[0mindex\u001b[0m \u001b[1;33m=\u001b[0m \u001b[0m_re_gen\u001b[0m\u001b[1;33m.\u001b[0m\u001b[0mmatch\u001b[0m\u001b[1;33m(\u001b[0m\u001b[0mgen\u001b[0m\u001b[1;33m)\u001b[0m\u001b[1;33m.\u001b[0m\u001b[0mgroups\u001b[0m\u001b[1;33m(\u001b[0m\u001b[1;33m)\u001b[0m\u001b[1;33m\u001b[0m\u001b[1;33m\u001b[0m\u001b[0m\n\u001b[0m\u001b[0;32m     85\u001b[0m \u001b[1;33m\u001b[0m\u001b[0m\n\u001b[0;32m     86\u001b[0m         \u001b[1;32mif\u001b[0m \u001b[0mindex\u001b[0m\u001b[1;33m:\u001b[0m\u001b[1;33m\u001b[0m\u001b[1;33m\u001b[0m\u001b[0m\n",
      "\u001b[1;31mAttributeError\u001b[0m: 'NoneType' object has no attribute 'groups'"
     ]
    }
   ],
   "source": [
    "theta_val_S = sp.solve(diff_S_the, theta)\n",
    "theta_val_S"
   ]
  },
  {
   "cell_type": "markdown",
   "metadata": {},
   "source": [
    "### Graphical Study"
   ]
  },
  {
   "cell_type": "code",
   "execution_count": 35,
   "metadata": {},
   "outputs": [],
   "source": [
    "def get_response(beta_val = 18, x0 = 90 , n_steps=3):\n",
    "    sig_y_r, sig_x_r, tau_xy_r, K_I_rho_r, K_II_r, theta_val_sig_r, theta_val_G_r, theta_val_S_r = [],[],[],[],[],[],[],[]\n",
    "    beta = np.linspace(beta_val,n_steps+1)\n",
    "    \n",
    "    for beta_n in beta: \n",
    "        sig_y = get_sig_y(beta_n)\n",
    "        sig_x = get_sig_x(beta_n)\n",
    "        tau_xy = get_tau_xy(beta_n)\n",
    "        K_I_rho = get_K_I_rho(beta_n)\n",
    "        K_II = get_K_II(beta_n)\n",
    "        theta_val_sig = root(get_diff_sig_the, x0)\n",
    "        print(theta_val_sig)\n",
    "        theta_val_G = root(get_G_d_the, x0)\n",
    "        theta_val_S = root(get_diff_S_the, x0)\n",
    "        sig_the = get_sig_the(beta_n,theta_val_sig)\n",
    "        G_the = get_G_the(beta_n,theta_val_G)\n",
    "        S_the = get_S_the(beta_n,theta_val_S)\n",
    "        #print(R)\n",
    "        #print(Si)\n",
    "        sig_y_r.append(sig_y)\n",
    "        sig_x_r.append(sig_x)\n",
    "        tau_xy_r.append(tau_xy)\n",
    "        K_I_rho_r.append(K_I_rho)\n",
    "        K_II_r.append(K_II)\n",
    "        theta_val_sig_r.append(theta_val_sig)\n",
    "        theta_val_G_r.append(theta_val_G)\n",
    "        theta_val_S_r.append(theta_val_S)\n",
    "    return (\n",
    "        beta,np.array(sig_y_r,dtype=np.float_),\n",
    "        np.array(sig_x_r,dtype=np.float_),\n",
    "        np.array(tau_xy_r,dtype=np.float_),\n",
    "        np.array(K_I_rho_r,dtype=np.float_),\n",
    "        np.array(K_II_r,dtype=np.float_),\n",
    "        np.array(theta_val_sig_r,dtype=np.float_),\n",
    "        np.array(theta_val_G_r,dtype=np.float_),\n",
    "        np.array(theta_val_S_r,dtype=np.float_)\n",
    "    )"
   ]
  },
  {
   "cell_type": "code",
   "execution_count": 36,
   "metadata": {},
   "outputs": [
    {
     "ename": "TypeError",
     "evalue": "_lambdifygenerated() missing 1 required positional argument: 'Dummy_174'",
     "output_type": "error",
     "traceback": [
      "\u001b[1;31m---------------------------------------------------------------------------\u001b[0m",
      "\u001b[1;31mTypeError\u001b[0m                                 Traceback (most recent call last)",
      "\u001b[1;32m<ipython-input-36-fb9d3226ea92>\u001b[0m in \u001b[0;36m<module>\u001b[1;34m\u001b[0m\n\u001b[0;32m      6\u001b[0m \u001b[0mbeta\u001b[0m \u001b[1;33m=\u001b[0m \u001b[1;36m18\u001b[0m\u001b[1;33m\u001b[0m\u001b[1;33m\u001b[0m\u001b[0m\n\u001b[0;32m      7\u001b[0m \u001b[1;32mfor\u001b[0m \u001b[0mn_step\u001b[0m\u001b[1;33m,\u001b[0m \u001b[0mcolor\u001b[0m \u001b[1;32min\u001b[0m \u001b[0mzip\u001b[0m\u001b[1;33m(\u001b[0m\u001b[0mn_step_range\u001b[0m\u001b[1;33m,\u001b[0m \u001b[0mcolors\u001b[0m\u001b[1;33m)\u001b[0m\u001b[1;33m:\u001b[0m\u001b[1;33m\u001b[0m\u001b[1;33m\u001b[0m\u001b[0m\n\u001b[1;32m----> 8\u001b[1;33m     \u001b[0mbeta\u001b[0m\u001b[1;33m,\u001b[0m \u001b[0msig_y_arr\u001b[0m\u001b[1;33m,\u001b[0m \u001b[0msig_x_arr\u001b[0m\u001b[1;33m,\u001b[0m \u001b[0mtau_xy_arr\u001b[0m\u001b[1;33m,\u001b[0m \u001b[0mK_I_rho_arr\u001b[0m\u001b[1;33m,\u001b[0m \u001b[0mK_II_arr\u001b[0m\u001b[1;33m,\u001b[0m \u001b[0mtheta_val_sig_arr\u001b[0m\u001b[1;33m,\u001b[0m \u001b[0mtheta_val_G_arr\u001b[0m\u001b[1;33m,\u001b[0m \u001b[0mtheta_val_S_arr\u001b[0m \u001b[1;33m=\u001b[0m \u001b[0mget_response\u001b[0m\u001b[1;33m(\u001b[0m\u001b[0mbeta\u001b[0m\u001b[1;33m,\u001b[0m \u001b[0mn_step\u001b[0m\u001b[1;33m)\u001b[0m\u001b[1;33m\u001b[0m\u001b[1;33m\u001b[0m\u001b[0m\n\u001b[0m\u001b[0;32m      9\u001b[0m     ax1.plot(beta, theta_val_sig_arr[:], color=color, \n\u001b[0;32m     10\u001b[0m              label='n_steps = %g' % n_step)\n",
      "\u001b[1;32m<ipython-input-35-058c136fa4aa>\u001b[0m in \u001b[0;36mget_response\u001b[1;34m(beta_val, x0, n_steps)\u001b[0m\n\u001b[0;32m      9\u001b[0m         \u001b[0mK_I_rho\u001b[0m \u001b[1;33m=\u001b[0m \u001b[0mget_K_I_rho\u001b[0m\u001b[1;33m(\u001b[0m\u001b[0mbeta_n\u001b[0m\u001b[1;33m)\u001b[0m\u001b[1;33m\u001b[0m\u001b[1;33m\u001b[0m\u001b[0m\n\u001b[0;32m     10\u001b[0m         \u001b[0mK_II\u001b[0m \u001b[1;33m=\u001b[0m \u001b[0mget_K_II\u001b[0m\u001b[1;33m(\u001b[0m\u001b[0mbeta_n\u001b[0m\u001b[1;33m)\u001b[0m\u001b[1;33m\u001b[0m\u001b[1;33m\u001b[0m\u001b[0m\n\u001b[1;32m---> 11\u001b[1;33m         \u001b[0mtheta_val_sig\u001b[0m \u001b[1;33m=\u001b[0m \u001b[0mroot\u001b[0m\u001b[1;33m(\u001b[0m\u001b[0mget_diff_sig_the\u001b[0m\u001b[1;33m,\u001b[0m \u001b[0mx0\u001b[0m\u001b[1;33m)\u001b[0m\u001b[1;33m\u001b[0m\u001b[1;33m\u001b[0m\u001b[0m\n\u001b[0m\u001b[0;32m     12\u001b[0m         \u001b[0mprint\u001b[0m\u001b[1;33m(\u001b[0m\u001b[0mtheta_val_sig\u001b[0m\u001b[1;33m)\u001b[0m\u001b[1;33m\u001b[0m\u001b[1;33m\u001b[0m\u001b[0m\n\u001b[0;32m     13\u001b[0m         \u001b[0mtheta_val_G\u001b[0m \u001b[1;33m=\u001b[0m \u001b[0mroot\u001b[0m\u001b[1;33m(\u001b[0m\u001b[0mget_G_d_the\u001b[0m\u001b[1;33m,\u001b[0m \u001b[0mx0\u001b[0m\u001b[1;33m)\u001b[0m\u001b[1;33m\u001b[0m\u001b[1;33m\u001b[0m\u001b[0m\n",
      "\u001b[1;32m~\\anaconda3\\lib\\site-packages\\scipy\\optimize\\_root.py\u001b[0m in \u001b[0;36mroot\u001b[1;34m(fun, x0, args, method, jac, tol, callback, options)\u001b[0m\n\u001b[0;32m    185\u001b[0m \u001b[1;33m\u001b[0m\u001b[0m\n\u001b[0;32m    186\u001b[0m     \u001b[1;32mif\u001b[0m \u001b[0mmeth\u001b[0m \u001b[1;33m==\u001b[0m \u001b[1;34m'hybr'\u001b[0m\u001b[1;33m:\u001b[0m\u001b[1;33m\u001b[0m\u001b[1;33m\u001b[0m\u001b[0m\n\u001b[1;32m--> 187\u001b[1;33m         \u001b[0msol\u001b[0m \u001b[1;33m=\u001b[0m \u001b[0m_root_hybr\u001b[0m\u001b[1;33m(\u001b[0m\u001b[0mfun\u001b[0m\u001b[1;33m,\u001b[0m \u001b[0mx0\u001b[0m\u001b[1;33m,\u001b[0m \u001b[0margs\u001b[0m\u001b[1;33m=\u001b[0m\u001b[0margs\u001b[0m\u001b[1;33m,\u001b[0m \u001b[0mjac\u001b[0m\u001b[1;33m=\u001b[0m\u001b[0mjac\u001b[0m\u001b[1;33m,\u001b[0m \u001b[1;33m**\u001b[0m\u001b[0moptions\u001b[0m\u001b[1;33m)\u001b[0m\u001b[1;33m\u001b[0m\u001b[1;33m\u001b[0m\u001b[0m\n\u001b[0m\u001b[0;32m    188\u001b[0m     \u001b[1;32melif\u001b[0m \u001b[0mmeth\u001b[0m \u001b[1;33m==\u001b[0m \u001b[1;34m'lm'\u001b[0m\u001b[1;33m:\u001b[0m\u001b[1;33m\u001b[0m\u001b[1;33m\u001b[0m\u001b[0m\n\u001b[0;32m    189\u001b[0m         \u001b[0msol\u001b[0m \u001b[1;33m=\u001b[0m \u001b[0m_root_leastsq\u001b[0m\u001b[1;33m(\u001b[0m\u001b[0mfun\u001b[0m\u001b[1;33m,\u001b[0m \u001b[0mx0\u001b[0m\u001b[1;33m,\u001b[0m \u001b[0margs\u001b[0m\u001b[1;33m=\u001b[0m\u001b[0margs\u001b[0m\u001b[1;33m,\u001b[0m \u001b[0mjac\u001b[0m\u001b[1;33m=\u001b[0m\u001b[0mjac\u001b[0m\u001b[1;33m,\u001b[0m \u001b[1;33m**\u001b[0m\u001b[0moptions\u001b[0m\u001b[1;33m)\u001b[0m\u001b[1;33m\u001b[0m\u001b[1;33m\u001b[0m\u001b[0m\n",
      "\u001b[1;32m~\\anaconda3\\lib\\site-packages\\scipy\\optimize\\minpack.py\u001b[0m in \u001b[0;36m_root_hybr\u001b[1;34m(func, x0, args, jac, col_deriv, xtol, maxfev, band, eps, factor, diag, **unknown_options)\u001b[0m\n\u001b[0;32m    211\u001b[0m     \u001b[1;32mif\u001b[0m \u001b[1;32mnot\u001b[0m \u001b[0misinstance\u001b[0m\u001b[1;33m(\u001b[0m\u001b[0margs\u001b[0m\u001b[1;33m,\u001b[0m \u001b[0mtuple\u001b[0m\u001b[1;33m)\u001b[0m\u001b[1;33m:\u001b[0m\u001b[1;33m\u001b[0m\u001b[1;33m\u001b[0m\u001b[0m\n\u001b[0;32m    212\u001b[0m         \u001b[0margs\u001b[0m \u001b[1;33m=\u001b[0m \u001b[1;33m(\u001b[0m\u001b[0margs\u001b[0m\u001b[1;33m,\u001b[0m\u001b[1;33m)\u001b[0m\u001b[1;33m\u001b[0m\u001b[1;33m\u001b[0m\u001b[0m\n\u001b[1;32m--> 213\u001b[1;33m     \u001b[0mshape\u001b[0m\u001b[1;33m,\u001b[0m \u001b[0mdtype\u001b[0m \u001b[1;33m=\u001b[0m \u001b[0m_check_func\u001b[0m\u001b[1;33m(\u001b[0m\u001b[1;34m'fsolve'\u001b[0m\u001b[1;33m,\u001b[0m \u001b[1;34m'func'\u001b[0m\u001b[1;33m,\u001b[0m \u001b[0mfunc\u001b[0m\u001b[1;33m,\u001b[0m \u001b[0mx0\u001b[0m\u001b[1;33m,\u001b[0m \u001b[0margs\u001b[0m\u001b[1;33m,\u001b[0m \u001b[0mn\u001b[0m\u001b[1;33m,\u001b[0m \u001b[1;33m(\u001b[0m\u001b[0mn\u001b[0m\u001b[1;33m,\u001b[0m\u001b[1;33m)\u001b[0m\u001b[1;33m)\u001b[0m\u001b[1;33m\u001b[0m\u001b[1;33m\u001b[0m\u001b[0m\n\u001b[0m\u001b[0;32m    214\u001b[0m     \u001b[1;32mif\u001b[0m \u001b[0mepsfcn\u001b[0m \u001b[1;32mis\u001b[0m \u001b[1;32mNone\u001b[0m\u001b[1;33m:\u001b[0m\u001b[1;33m\u001b[0m\u001b[1;33m\u001b[0m\u001b[0m\n\u001b[0;32m    215\u001b[0m         \u001b[0mepsfcn\u001b[0m \u001b[1;33m=\u001b[0m \u001b[0mfinfo\u001b[0m\u001b[1;33m(\u001b[0m\u001b[0mdtype\u001b[0m\u001b[1;33m)\u001b[0m\u001b[1;33m.\u001b[0m\u001b[0meps\u001b[0m\u001b[1;33m\u001b[0m\u001b[1;33m\u001b[0m\u001b[0m\n",
      "\u001b[1;32m~\\anaconda3\\lib\\site-packages\\scipy\\optimize\\minpack.py\u001b[0m in \u001b[0;36m_check_func\u001b[1;34m(checker, argname, thefunc, x0, args, numinputs, output_shape)\u001b[0m\n\u001b[0;32m     24\u001b[0m def _check_func(checker, argname, thefunc, x0, args, numinputs,\n\u001b[0;32m     25\u001b[0m                 output_shape=None):\n\u001b[1;32m---> 26\u001b[1;33m     \u001b[0mres\u001b[0m \u001b[1;33m=\u001b[0m \u001b[0matleast_1d\u001b[0m\u001b[1;33m(\u001b[0m\u001b[0mthefunc\u001b[0m\u001b[1;33m(\u001b[0m\u001b[1;33m*\u001b[0m\u001b[1;33m(\u001b[0m\u001b[1;33m(\u001b[0m\u001b[0mx0\u001b[0m\u001b[1;33m[\u001b[0m\u001b[1;33m:\u001b[0m\u001b[0mnuminputs\u001b[0m\u001b[1;33m]\u001b[0m\u001b[1;33m,\u001b[0m\u001b[1;33m)\u001b[0m \u001b[1;33m+\u001b[0m \u001b[0margs\u001b[0m\u001b[1;33m)\u001b[0m\u001b[1;33m)\u001b[0m\u001b[1;33m)\u001b[0m\u001b[1;33m\u001b[0m\u001b[1;33m\u001b[0m\u001b[0m\n\u001b[0m\u001b[0;32m     27\u001b[0m     \u001b[1;32mif\u001b[0m \u001b[1;33m(\u001b[0m\u001b[0moutput_shape\u001b[0m \u001b[1;32mis\u001b[0m \u001b[1;32mnot\u001b[0m \u001b[1;32mNone\u001b[0m\u001b[1;33m)\u001b[0m \u001b[1;32mand\u001b[0m \u001b[1;33m(\u001b[0m\u001b[0mshape\u001b[0m\u001b[1;33m(\u001b[0m\u001b[0mres\u001b[0m\u001b[1;33m)\u001b[0m \u001b[1;33m!=\u001b[0m \u001b[0moutput_shape\u001b[0m\u001b[1;33m)\u001b[0m\u001b[1;33m:\u001b[0m\u001b[1;33m\u001b[0m\u001b[1;33m\u001b[0m\u001b[0m\n\u001b[0;32m     28\u001b[0m         \u001b[1;32mif\u001b[0m \u001b[1;33m(\u001b[0m\u001b[0moutput_shape\u001b[0m\u001b[1;33m[\u001b[0m\u001b[1;36m0\u001b[0m\u001b[1;33m]\u001b[0m \u001b[1;33m!=\u001b[0m \u001b[1;36m1\u001b[0m\u001b[1;33m)\u001b[0m\u001b[1;33m:\u001b[0m\u001b[1;33m\u001b[0m\u001b[1;33m\u001b[0m\u001b[0m\n",
      "\u001b[1;31mTypeError\u001b[0m: _lambdifygenerated() missing 1 required positional argument: 'Dummy_174'"
     ]
    },
    {
     "data": {
      "image/png": "[encoded data removed]",
      "text/plain": [
       "<Figure size 720x576 with 8 Axes>"
      ]
     },
     "metadata": {
      "needs_background": "light"
     },
     "output_type": "display_data"
    }
   ],
   "source": [
    "fig, ((ax1,ax2),(ax3,ax4),(ax5,ax6)) = plt.subplots(3,2,figsize=(10,8))\n",
    "ax11 = ax1.twinx()\n",
    "ax22 = ax2.twinx()\n",
    "colors = ['blue','red', 'green', 'black', 'magenta' ]\n",
    "n_step_range = np.arange(1,5)*18\n",
    "beta = 18\n",
    "for n_step, color in zip(n_step_range, colors):\n",
    "    beta, sig_y_arr, sig_x_arr, tau_xy_arr, K_I_rho_arr, K_II_arr, theta_val_sig_arr, theta_val_G_arr, theta_val_S_arr = get_response(beta, n_step)\n",
    "    ax1.plot(beta, theta_val_sig_arr[:], color=color, \n",
    "             label='n_steps = %g' % n_step)\n",
    "    ax1.set_xlabel(r'$\\beta$'); ax1.set_ylabel(r'$\\theta$')\n",
    "    ax1.legend()\n",
    "    ax1.plot(beta, theta_val_G_arr[:], '-.', color=color, \n",
    "             label='n_steps = %g' % n_step)\n",
    "    ax1.plot(beta, theta_val_S_arr[:], '-..', color=color, \n",
    "             label='n_steps = %g' % n_step)\n",
    "    #print(a_t)\n",
    "    #ax2.plot(a_t, R_arr[:], color=color, \n",
    "     #        label='n_steps = %g' % n_step)\n",
    "    #ax2.set_xlabel('$a$'); ax2.set_ylabel(r'$R$')\n",
    "    #ax2.legend()\n",
    "    #ax22.plot(a_t, G_general_arr[:], '-.', color=color )"
   ]
  },
  {
   "cell_type": "markdown",
   "metadata": {},
   "source": [
    "### Kink Initiation Stress\n",
    "The kink initiation stress for the maximum hoop stress theory is given as:\n",
    "\\begin{gather*}\n",
    "\\sigma_i = K_{Ic} \\frac{2}{\\sqrt{\\pi a}}\\left( \\sqrt{\\frac{\\rho}{a}} cos^2\\beta cos^3\\frac{\\theta}{2} -2 sin^2\\beta cos^3\\frac{\\theta}{2} + 3 sin\\beta cos \\beta sin\\theta cos\\frac{\\theta}{2} - 2 \\sqrt{2\\frac{\\rho}{a}}cos^2\\beta sin^2\\theta\\right)^{-1}\n",
    "\\end{gather*}"
   ]
  },
  {
   "cell_type": "code",
   "execution_count": null,
   "metadata": {},
   "outputs": [],
   "source": [
    "K_ic = sp.Symbol(r'K_ic', real = True)\n",
    "sigma_i = K_ic * (2 / sp.sqrt(np.pi * a)) * (sp.sqrt(rho/a)* (sp.cos(beta))**2 * (sp.cos(theta/2))**3 - \\\n",
    "                                             2*(sp.sin(beta))**2 * (sp.cos(theta/2))**3 + 3*sp.sin(beta)*sp.cos(beta) *\\\n",
    "                                              sp.sin(theta)*sp.cos(theta/2) - 2 *sp.sqrt(2* (rho/a)) * (sp.cos(beta))**2 * \\\n",
    "                                             (sp.sin(theta))**2)**(-1)\n",
    "sigma_i;"
   ]
  },
  {
   "cell_type": "code",
   "execution_count": null,
   "metadata": {},
   "outputs": [],
   "source": []
  }
 ],
 "metadata": {
  "kernelspec": {
   "display_name": "Python 3",
   "language": "python",
   "name": "python3"
  },
  "language_info": {
   "codemirror_mode": {
    "name": "ipython",
    "version": 3
   },
   "file_extension": ".py",
   "mimetype": "text/x-python",
   "name": "python",
   "nbconvert_exporter": "python",
   "pygments_lexer": "ipython3",
   "version": "3.7.6"
  }
 },
 "nbformat": 4,
 "nbformat_minor": 2
}
