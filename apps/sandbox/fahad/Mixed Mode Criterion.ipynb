{
 "cells": [
  {
   "cell_type": "code",
   "execution_count": 1,
   "metadata": {},
   "outputs": [],
   "source": [
    "import numpy as np\n",
    "import sympy as sp\n",
    "from scipy.optimize import root\n",
    "import matplotlib.pyplot as plt"
   ]
  },
  {
   "cell_type": "markdown",
   "metadata": {},
   "source": [
    "# Determination of Crack Tip Stress Field\n",
    "In order to calculate crack tip stress field, an infinite stress field under uniform compressive load is assumed. The location of crack is supposed to be at the center having a length of $2a$. The angle of inclination of this crack to the direction of applied load is considered to be $\\beta$ as described in figure below. the figure shows a far field stress condition where $\\sigma_y$ is normal to the crack, $\\sigma_x$ is parallel and $\\tau_{xy}$ denotes the shear stress. These stresses are written as:\n",
    "\\begin{gather*}\n",
    "\\sigma_y= - \\sigma sin^2\\beta    \\\\\n",
    "\\sigma_x= - \\sigma cos^2\\beta    \\\\\n",
    "\\tau_{xy}= - \\sigma sin\\beta cos\\beta  \n",
    "\\end{gather*}\n",
    "Here, $\\sigma > 0$ for compressive stresses.  "
   ]
  },
  {
   "cell_type": "markdown",
   "metadata": {},
   "source": [
    "<img src=\"mixedmodecriterion.png\" width=\"500\"/>"
   ]
  },
  {
   "cell_type": "code",
   "execution_count": 2,
   "metadata": {},
   "outputs": [],
   "source": [
    "sigma = sp.Symbol(r'\\sigma', nonnegative = True)\n",
    "beta = sp.Symbol(r'\\beta', nonnegative = True)\n",
    "rho = sp.Symbol(r'\\rho', nonnegative = True)\n",
    "a = sp.Symbol('a', nonnegative = True)\n",
    "theta = sp.Symbol(r'\\theta', nonnegative = True)\n",
    "r = sp.Symbol('r', nonnegative = True) #Distance from the crack tip\n",
    "E = sp.Symbol('E', nonnegative = True)\n",
    "nu = sp.Symbol('r\\nu', nonnegative = True)\n",
    "mu = sp.Symbol('r\\mu', nonnegative = True)"
   ]
  },
  {
   "cell_type": "code",
   "execution_count": 3,
   "metadata": {},
   "outputs": [],
   "source": [
    "sig_y = - sigma * (sp.sin(beta))**2\n",
    "sig_x = - sigma * (sp.cos(beta))**2\n",
    "tau_xy = - sigma * sp.sin(beta) * sp.cos(beta)\n",
    "tau_xy;"
   ]
  },
  {
   "cell_type": "markdown",
   "metadata": {},
   "source": [
    "## Kink Initiation Direction\n",
    "The direction of initiation of a kink crack can be attained from the given stress Intensity factors at tip of the notch. Moreover, the theories involved in evaluating the direction are:\n",
    "1. Maximum Stress Criteria\n",
    "2. Energy Release Rate Theory\n",
    "3. Kink Initiation Stress"
   ]
  },
  {
   "cell_type": "code",
   "execution_count": 31,
   "metadata": {},
   "outputs": [
    {
     "data": {
      "text/latex": [
       "$\\displaystyle - 2 \\sigma \\sin{\\left(\\theta \\right)} \\cos^{2}{\\left(\\beta \\right)} \\cos{\\left(\\theta \\right)} - \\frac{\\sqrt{2} \\left(- 1.77245385090552 \\sigma \\sqrt{a} \\sin^{2}{\\left(\\beta \\right)} \\cos^{2}{\\left(\\frac{\\theta}{2} \\right)} + 2.65868077635827 \\sigma \\sqrt{a} \\sin{\\left(\\beta \\right)} \\sin{\\left(\\theta \\right)} \\cos{\\left(\\beta \\right)}\\right) \\sin{\\left(\\frac{\\theta}{2} \\right)}}{4 \\sqrt{\\pi} \\sqrt{r}} + \\frac{\\sqrt{2} \\left(1.77245385090552 \\sigma \\sqrt{a} \\sin^{2}{\\left(\\beta \\right)} \\sin{\\left(\\frac{\\theta}{2} \\right)} \\cos{\\left(\\frac{\\theta}{2} \\right)} + 2.65868077635827 \\sigma \\sqrt{a} \\sin{\\left(\\beta \\right)} \\cos{\\left(\\beta \\right)} \\cos{\\left(\\theta \\right)}\\right) \\cos{\\left(\\frac{\\theta}{2} \\right)}}{2 \\sqrt{\\pi} \\sqrt{r}}$"
      ],
      "text/plain": [
       "-2*\\sigma*sin(\\theta)*cos(\\beta)**2*cos(\\theta) - sqrt(2)*(-1.77245385090552*\\sigma*sqrt(a)*sin(\\beta)**2*cos(\\theta/2)**2 + 2.65868077635827*\\sigma*sqrt(a)*sin(\\beta)*sin(\\theta)*cos(\\beta))*sin(\\theta/2)/(4*sqrt(pi)*sqrt(r)) + sqrt(2)*(1.77245385090552*\\sigma*sqrt(a)*sin(\\beta)**2*sin(\\theta/2)*cos(\\theta/2) + 2.65868077635827*\\sigma*sqrt(a)*sin(\\beta)*cos(\\beta)*cos(\\theta))*cos(\\theta/2)/(2*sqrt(pi)*sqrt(r))"
      ]
     },
     "execution_count": 31,
     "metadata": {},
     "output_type": "execute_result"
    }
   ],
   "source": [
    "diff_sig_the = sig_the.diff(theta)\n",
    "diff_sig_the"
   ]
  },
  {
   "cell_type": "markdown",
   "metadata": {},
   "source": [
    "### Maximum Stress Criteria\n",
    "The theory states that the crack propagates in the radial direction. This direction of crack elongation is dependent on the maximum tangential stress and lies normal to the MTS $\\sigma_{\\theta}$. The simplified equation taken from the Erdogan an Sih concept are:\n",
    "\\begin{align}\n",
    "\\sigma_{\\theta} = \\frac{cos\\frac{\\theta}{2}}{\\sqrt{2\\pi r}}\\left(K_I\\cos^2\\frac{\\theta}{2} - \\frac{3}{2} K_{II} \\sin \\theta \\right) - \\sigma \\cos^2 \\beta \\sin^2 \\beta   \\\\\n",
    "\\end{align}\n",
    "This equation contains an additional term at the end which is taken from William's analysis and represents the crack tip curvature. Therefore, the direction of crack propagation is given as follows:\n",
    "\\begin{gather*}\n",
    "\\frac{\\partial \\sigma_{\\theta}}{\\partial \\theta} = 0   \\\\\n",
    "\\end{gather*}\n",
    "From Shah's paper, the value for $\\rho = 1 mm$ and $a = 25.4 mm$ which would yield $\\frac{\\rho}{a} = 0.039$.  The mode I SIF in direction of crack propagation angle $\\theta$ in terms of Maximum stress criteria is:\n",
    "\\begin{align}\n",
    "K_I(\\theta) = \\sigma_{\\theta} \\sqrt{2 \\pi r} \n",
    "\\end{align}"
   ]
  },
  {
   "cell_type": "markdown",
   "metadata": {},
   "source": [
    "The enlargement of crack tip in the figure shows that $\\sigma_x$ represents the stress at the crack tip. Assuming that the tip of the crack has a sharp edge than $\\sigma_x$ will be neglected and the SIFs $K_I$ and $K_{II}$ are expressed as given:\n",
    "\\begin{gather*}\n",
    "K_I = - \\sigma \\sqrt{\\pi a}\\sin^2 \\beta  \\\\\n",
    "K_{II} = - \\sigma \\sqrt{\\pi a}\\sin\\beta \\cos\\beta  \n",
    "\\end{gather*}\n",
    "The negative value of $K_I$ represents the closure of the crack whereas the negative value of $K_{II}$ depicts that shear stress lies in the opposite direction."
   ]
  },
  {
   "cell_type": "code",
   "execution_count": 29,
   "metadata": {},
   "outputs": [
    {
     "data": {
      "text/latex": [
       "$\\displaystyle - \\sigma \\sin^{2}{\\left(\\theta \\right)} \\cos^{2}{\\left(\\beta \\right)} + \\frac{\\sqrt{2} \\left(- 1.77245385090552 \\sigma \\sqrt{a} \\sin^{2}{\\left(\\beta \\right)} \\cos^{2}{\\left(\\frac{\\theta}{2} \\right)} + 2.65868077635827 \\sigma \\sqrt{a} \\sin{\\left(\\beta \\right)} \\sin{\\left(\\theta \\right)} \\cos{\\left(\\beta \\right)}\\right) \\cos{\\left(\\frac{\\theta}{2} \\right)}}{2 \\sqrt{\\pi} \\sqrt{r}}$"
      ],
      "text/plain": [
       "-\\sigma*sin(\\theta)**2*cos(\\beta)**2 + sqrt(2)*(-1.77245385090552*\\sigma*sqrt(a)*sin(\\beta)**2*cos(\\theta/2)**2 + 2.65868077635827*\\sigma*sqrt(a)*sin(\\beta)*sin(\\theta)*cos(\\beta))*cos(\\theta/2)/(2*sqrt(pi)*sqrt(r))"
      ]
     },
     "execution_count": 29,
     "metadata": {},
     "output_type": "execute_result"
    }
   ],
   "source": [
    "sig_the = sp.cos(theta/2) / sp.sqrt(2*sp.pi*r) *(K_I *(sp.cos(theta/2))**2 - (3/2) * K_II * sp.sin(theta)) -  \\\n",
    "            (sigma * (sp.cos(beta))**2 * (sp.sin(theta))**2)\n",
    "sig_the"
   ]
  },
  {
   "cell_type": "code",
   "execution_count": 4,
   "metadata": {},
   "outputs": [],
   "source": [
    "K_I = - sigma * sp.sqrt(np.pi * a) * (sp.sin(beta))**2\n",
    "K_II = - sigma * sp.sqrt(np.pi * a) * sp.sin(beta) * sp.cos(beta)\n",
    "K_II;"
   ]
  },
  {
   "cell_type": "markdown",
   "metadata": {},
   "source": [
    "When the crack tip possess a finite curvature $\\rho$, it is observed that $\\sigma_x$ would produce tensile stresses close to the crack tip. Hence, \n",
    "\\begin{align}\n",
    "\\sigma_{max} = {\\lVert}{\\sigma_x}{\\rVert}  \n",
    "\\end{align}\n",
    "For this case, SIF will be written as:\n",
    "\\begin{gather*}\n",
    "K_I = \\sigma \\sqrt{\\pi a}\\left(\\frac{1}{2}\\sqrt{\\frac{\\rho}{a} }\\cos^2 \\beta - \\sin^2 \\beta \\right)  \\\\\n",
    "K_{II} = - \\sigma \\sqrt{\\pi a}\\sin\\beta \\cos\\beta  \n",
    "\\end{gather*}"
   ]
  },
  {
   "cell_type": "code",
   "execution_count": 5,
   "metadata": {},
   "outputs": [],
   "source": [
    "K_I_rho = sigma * sp.sqrt(np.pi * a) * (1/2 * sp.sqrt(rho / a) * (sp.cos(beta))**2 - (sp.sin(beta))**2)  \n",
    "K_I_rho;"
   ]
  },
  {
   "cell_type": "code",
   "execution_count": 6,
   "metadata": {},
   "outputs": [],
   "source": [
    "params = {\n",
    "    a : 25.4,\n",
    "    rho : 1,\n",
    "    sigma : 1.14,\n",
    "    r : 38.1,\n",
    "    nu : 0.21,\n",
    "    E : 20000,\n",
    "    #beta : 36\n",
    "       }"
   ]
  },
  {
   "cell_type": "code",
   "execution_count": 7,
   "metadata": {},
   "outputs": [
    {
     "data": {
      "text/latex": [
       "$\\displaystyle - 1.14 \\sin^{2}{\\left(\\beta \\right)}$"
      ],
      "text/plain": [
       "-1.14*sin(\\beta)**2"
      ]
     },
     "execution_count": 7,
     "metadata": {},
     "output_type": "execute_result"
    }
   ],
   "source": [
    "get_sig_y = sp.lambdify((beta), sig_y.subs(params),'numpy')\n",
    "sig_y.subs(params)"
   ]
  },
  {
   "cell_type": "code",
   "execution_count": 8,
   "metadata": {},
   "outputs": [
    {
     "data": {
      "text/latex": [
       "$\\displaystyle - 1.14 \\cos^{2}{\\left(\\beta \\right)}$"
      ],
      "text/plain": [
       "-1.14*cos(\\beta)**2"
      ]
     },
     "execution_count": 8,
     "metadata": {},
     "output_type": "execute_result"
    }
   ],
   "source": [
    "get_sig_x = sp.lambdify((beta), sig_x.subs(params),'numpy')\n",
    "sig_x.subs(params)"
   ]
  },
  {
   "cell_type": "code",
   "execution_count": 9,
   "metadata": {},
   "outputs": [],
   "source": [
    "get_tau_xy = sp.lambdify((beta), tau_xy.subs(params),'numpy')\n",
    "tau_xy.subs(params);"
   ]
  },
  {
   "cell_type": "code",
   "execution_count": 10,
   "metadata": {},
   "outputs": [
    {
     "data": {
      "text/latex": [
       "$\\displaystyle - 10.1834901109676 \\sin^{2}{\\left(\\beta \\right)}$"
      ],
      "text/plain": [
       "-10.1834901109676*sin(\\beta)**2"
      ]
     },
     "execution_count": 10,
     "metadata": {},
     "output_type": "execute_result"
    }
   ],
   "source": [
    "get_K_I = sp.lambdify((beta), K_I.subs(params),'numpy')\n",
    "K_I.subs(params)"
   ]
  },
  {
   "cell_type": "code",
   "execution_count": 11,
   "metadata": {},
   "outputs": [],
   "source": [
    "get_K_II = sp.lambdify((beta), K_II.subs(params),'numpy')\n",
    "K_II.subs(params);"
   ]
  },
  {
   "cell_type": "code",
   "execution_count": 12,
   "metadata": {},
   "outputs": [
    {
     "data": {
      "text/latex": [
       "$\\displaystyle - 10.1834901109676 \\sin^{2}{\\left(\\beta \\right)} + 1.01029869501614 \\cos^{2}{\\left(\\beta \\right)}$"
      ],
      "text/plain": [
       "-10.1834901109676*sin(\\beta)**2 + 1.01029869501614*cos(\\beta)**2"
      ]
     },
     "execution_count": 12,
     "metadata": {},
     "output_type": "execute_result"
    }
   ],
   "source": [
    "get_K_I_rho = sp.lambdify((beta), K_I_rho.subs(params),'numpy')\n",
    "K_I_rho.subs(params)"
   ]
  },
  {
   "cell_type": "code",
   "execution_count": 30,
   "metadata": {},
   "outputs": [
    {
     "data": {
      "text/latex": [
       "$\\displaystyle \\frac{0.0810041961260418 \\sqrt{2} \\left(- 10.1834901109676 \\sin^{2}{\\left(\\beta \\right)} \\cos^{2}{\\left(\\frac{\\theta}{2} \\right)} + 15.2752351664514 \\sin{\\left(\\beta \\right)} \\sin{\\left(\\theta \\right)} \\cos{\\left(\\beta \\right)}\\right) \\cos{\\left(\\frac{\\theta}{2} \\right)}}{\\sqrt{\\pi}} - 1.14 \\sin^{2}{\\left(\\theta \\right)} \\cos^{2}{\\left(\\beta \\right)}$"
      ],
      "text/plain": [
       "0.0810041961260418*sqrt(2)*(-10.1834901109676*sin(\\beta)**2*cos(\\theta/2)**2 + 15.2752351664514*sin(\\beta)*sin(\\theta)*cos(\\beta))*cos(\\theta/2)/sqrt(pi) - 1.14*sin(\\theta)**2*cos(\\beta)**2"
      ]
     },
     "execution_count": 30,
     "metadata": {},
     "output_type": "execute_result"
    }
   ],
   "source": [
    "get_sig_the = sp.lambdify((beta, theta), sig_the.subs(params), 'numpy')\n",
    "sig_the.subs(params)"
   ]
  },
  {
   "cell_type": "code",
   "execution_count": 36,
   "metadata": {},
   "outputs": [
    {
     "data": {
      "text/latex": [
       "$\\displaystyle \\frac{\\sigma \\left(2 \\sqrt{2} \\sqrt{a} \\left(0.886226925452758 \\sin{\\left(\\beta \\right)} \\sin{\\left(\\theta \\right)} + 2.65868077635827 \\cos{\\left(\\beta \\right)} \\cos{\\left(\\theta \\right)}\\right) \\sin{\\left(\\beta \\right)} \\cos{\\left(\\frac{\\theta}{2} \\right)} + \\sqrt{2} \\sqrt{a} \\left(1.77245385090552 \\sin{\\left(\\beta \\right)} \\cos^{2}{\\left(\\frac{\\theta}{2} \\right)} - 2.65868077635827 \\sin{\\left(\\theta \\right)} \\cos{\\left(\\beta \\right)}\\right) \\sin{\\left(\\beta \\right)} \\sin{\\left(\\frac{\\theta}{2} \\right)} - 8 \\sqrt{\\pi} \\sqrt{r} \\sin{\\left(\\theta \\right)} \\cos^{2}{\\left(\\beta \\right)} \\cos{\\left(\\theta \\right)}\\right)}{4 \\sqrt{\\pi} \\sqrt{r}}$"
      ],
      "text/plain": [
       "\\sigma*(2*sqrt(2)*sqrt(a)*(0.886226925452758*sin(\\beta)*sin(\\theta) + 2.65868077635827*cos(\\beta)*cos(\\theta))*sin(\\beta)*cos(\\theta/2) + sqrt(2)*sqrt(a)*(1.77245385090552*sin(\\beta)*cos(\\theta/2)**2 - 2.65868077635827*sin(\\theta)*cos(\\beta))*sin(\\beta)*sin(\\theta/2) - 8*sqrt(pi)*sqrt(r)*sin(\\theta)*cos(\\beta)**2*cos(\\theta))/(4*sqrt(pi)*sqrt(r))"
      ]
     },
     "execution_count": 36,
     "metadata": {},
     "output_type": "execute_result"
    }
   ],
   "source": [
    "a = sp.simplify(sp.expand_trig(diff_sig_the))\n",
    "a"
   ]
  },
  {
   "cell_type": "code",
   "execution_count": 38,
   "metadata": {},
   "outputs": [
    {
     "data": {
      "text/plain": [
       "[]"
      ]
     },
     "execution_count": 38,
     "metadata": {},
     "output_type": "execute_result"
    }
   ],
   "source": [
    "sol = sp.solve(sp.Eq(a.subs(params),0), theta, implicit = True)\n",
    "sol"
   ]
  },
  {
   "cell_type": "code",
   "execution_count": null,
   "metadata": {},
   "outputs": [],
   "source": [
    "get_diff_sig_the = sp.lambdify((beta, theta), diff_sig_the.subs(params),'numpy')\n",
    "diff_sig_the.subs(params);"
   ]
  },
  {
   "cell_type": "code",
   "execution_count": null,
   "metadata": {},
   "outputs": [],
   "source": [
    "sp.Eq(diff_sig_the,0)"
   ]
  },
  {
   "cell_type": "code",
   "execution_count": null,
   "metadata": {},
   "outputs": [],
   "source": [
    "from sympy.solvers.solveset import nonlinsolve\n",
    "theta_val = nonlinsolve(sp.Eq(diff_sig_the,0), theta)\n",
    "#theta_val =sp.solvers.solve(diff_sig_the, theta, simplify=False, rational=False)\n",
    "#theta_val =sp.solve_linear(diff_sig_the, rhs =0, symbols=[beta,a, sigma,rho,r], exclude=[theta])\n",
    "theta_val"
   ]
  },
  {
   "cell_type": "code",
   "execution_count": null,
   "metadata": {},
   "outputs": [],
   "source": [
    "#from scipy.optimize import fsolve, root\n",
    "#x0 = 90\n",
    "#theta_val = root(get_diff_sig_the, x0)\n",
    "#theta_val.x"
   ]
  },
  {
   "cell_type": "code",
   "execution_count": null,
   "metadata": {},
   "outputs": [],
   "source": [
    "#sigma_the = sig_the.subs(params).subs(theta, theta_val.x)\n",
    "#sigma_the"
   ]
  },
  {
   "cell_type": "code",
   "execution_count": null,
   "metadata": {},
   "outputs": [],
   "source": [
    "get_sig_the = sp.lambdify((beta, theta), sig_the.subs(params), 'numpy')\n",
    "get_sig_the;"
   ]
  },
  {
   "cell_type": "code",
   "execution_count": null,
   "metadata": {},
   "outputs": [],
   "source": [
    "sig_theta = sp.Symbol(r'\\sigma_{theta}', real = True)\n",
    "K_I_theta = sig_theta *sp.sqrt(2 * sp.pi * r)\n",
    "K_I_theta.subs(sig_theta, sig_the).subs(params);\n",
    "#get_K_I_the = sp.lambdify((beta), K_I_theta.subs(sig_theta, sig_the).subs(params), 'numpy')\n",
    "#K_I_theta.subs(sig_theta, sig_the).subs(params)"
   ]
  },
  {
   "cell_type": "markdown",
   "metadata": {},
   "source": [
    "### The Energy Release Rate Theory\n",
    "Hussain et al. used this theroy to find the energ release rate $G$. It calculates $G$ at the crack which moves from the main crack in direction of $\\theta$.\n",
    "1. The direction of the crack propagation is the one in which the maximum energy release rate occurs.\n",
    "2. the propagation of the crack starts when energy release rate reaches a limit value. \n",
    "\n",
    "It is given by:\n",
    "\\begin{align}\n",
    "G(\\theta) = \\frac{4}{E} \\frac{1}{(3 + cos^2\\theta)^2} \\left(\\frac{1 + \\frac{\\theta}{\\pi}}{1 - \\frac{\\theta}{\\pi}}\\right)^\\frac{-\\theta}{\\pi}((1 + 3 cos^2\\theta)K_I^2 - 8 K_I K_{II} sin\\theta cos\\theta + (9 - 5 cos^2\\theta)K_{II}^2) \n",
    "\\end{align}\n",
    "Here, $\\theta$ is obtained by the following condition:\n",
    "\\begin{gather*}\n",
    "\\frac{\\partial G}{\\partial \\theta} = 0  \n",
    "\\end{gather*}"
   ]
  },
  {
   "cell_type": "code",
   "execution_count": null,
   "metadata": {},
   "outputs": [],
   "source": [
    "G_the = (4/E) * (1/(3 + (sp.cos(theta))**2)) * ((1 + (theta/sp.pi))/(1 - (theta/sp.pi)))**(- theta/sp.pi) * \\\n",
    "((1 + 3 * (sp.cos(theta))**2)* K_I**2 - 8*K_I*K_II*sp.sin(theta)*sp.cos(theta) + (9 - 5 * (sp.cos(theta))**2)*K_II**2)\n",
    "G_the;"
   ]
  },
  {
   "cell_type": "code",
   "execution_count": null,
   "metadata": {},
   "outputs": [],
   "source": [
    "get_G_the = sp.lambdify((beta, theta), G_the.subs(params), 'numpy')\n",
    "G_the.subs(params);"
   ]
  },
  {
   "cell_type": "code",
   "execution_count": null,
   "metadata": {},
   "outputs": [],
   "source": [
    "G_d_the = G_the.diff(theta)\n",
    "G_d_the;"
   ]
  },
  {
   "cell_type": "code",
   "execution_count": null,
   "metadata": {},
   "outputs": [],
   "source": [
    "q = sp.Eq(G_d_the,0)\n",
    "q"
   ]
  },
  {
   "cell_type": "code",
   "execution_count": null,
   "metadata": {},
   "outputs": [],
   "source": [
    "get_G_d_the = sp.lambdify((beta, theta), G_d_the.subs(params),'numpy')\n",
    "G_d_the.subs(params);"
   ]
  },
  {
   "cell_type": "code",
   "execution_count": null,
   "metadata": {},
   "outputs": [],
   "source": [
    "#from scipy.optimize import fsolve, root\n",
    "#x0 = 90\n",
    "#theta_val_G = root(get_G_d_the, x0)\n",
    "#theta_val_G.x"
   ]
  },
  {
   "cell_type": "code",
   "execution_count": null,
   "metadata": {},
   "outputs": [],
   "source": [
    "theta_val_G = sp.solve(q, theta)\n",
    "theta_val_G"
   ]
  },
  {
   "cell_type": "markdown",
   "metadata": {},
   "source": [
    "### Strain Energy Density\n",
    "The strain energy density can be written as:\n",
    "\\begin{align}\n",
    "S(\\theta) = a_{11}K_I^2 + 2 a_{12}K_I K_{II} + a_{22}K_{II}^2\n",
    "\\end{align}\n",
    "where:\n",
    "\\begin{gather*}\n",
    "a_{11} = \\frac{(\\kappa - cos\\theta)(1 + cos\\theta)}{16 \\pi \\mu} \\\\\n",
    "a_{12} = \\frac{(2 cos\\theta - \\kappa + 1}{16 \\pi \\mu} \\\\\n",
    "a_{22} = \\frac{(\\kappa + 1)(1 - cos\\theta) + (1 + cos\\theta)(3 cos\\theta -1)}{16 \\pi \\mu}\n",
    "\\end{gather*}\n",
    "and:\n",
    "\\begin{gather*}\n",
    "\\kappa = 3 - 4 \\nu \\\\\n",
    "\\mu = E(2(1+\\nu)) \\\\\n",
    "\\end{gather*}"
   ]
  },
  {
   "cell_type": "code",
   "execution_count": null,
   "metadata": {},
   "outputs": [],
   "source": [
    "mu = E * (2 * (1 + nu))\n",
    "kappa = 3 - 4 * nu\n",
    "a_11 = ((kappa - sp.cos(theta))*(1 + sp.cos(theta))) / (16 * sp.pi * mu)\n",
    "a_12 = ((2 * sp.cos(theta) - kappa + 1) * sp.sin(theta)) / (16 * sp.pi * mu)\n",
    "a_22 = ((kappa + 1) * (1 - sp.cos(theta)) + (1 + sp.cos(theta))*(3 * sp.cos(theta) - 1)) / (16 * sp.pi * mu)\n",
    "S_the = a_11 * K_I**2 + 2 * a_12 * K_I * K_II + a_22 * K_II**2\n",
    "S_the;"
   ]
  },
  {
   "cell_type": "code",
   "execution_count": null,
   "metadata": {},
   "outputs": [],
   "source": [
    "get_S_the = sp.lambdify((beta, theta), S_the.subs(params), 'numpy')\n",
    "S_the.subs(params);"
   ]
  },
  {
   "cell_type": "markdown",
   "metadata": {},
   "source": [
    "The crack initiation angle direction can be obtained as follows:\n",
    "\\begin{gather*}\n",
    "\\frac{\\partial S}{\\partial \\theta} = 0   \n",
    "\\end{gather*}"
   ]
  },
  {
   "cell_type": "code",
   "execution_count": null,
   "metadata": {},
   "outputs": [],
   "source": [
    "diff_S_the = S_the.diff(theta)\n",
    "diff_S_the;"
   ]
  },
  {
   "cell_type": "code",
   "execution_count": null,
   "metadata": {},
   "outputs": [],
   "source": [
    "a = sp.Eq(diff_S_the,0)"
   ]
  },
  {
   "cell_type": "code",
   "execution_count": null,
   "metadata": {},
   "outputs": [],
   "source": [
    "get_diff_S_the = sp.lambdify((beta, theta), diff_S_the.subs(params),'numpy')\n",
    "diff_S_the.subs(params);"
   ]
  },
  {
   "cell_type": "code",
   "execution_count": null,
   "metadata": {},
   "outputs": [],
   "source": [
    "#from scipy.optimize import fsolve, root\n",
    "#x0 = 90\n",
    "#theta_val_S = root(get_diff_S_the, x0)\n",
    "#theta_val_S.x"
   ]
  },
  {
   "cell_type": "code",
   "execution_count": null,
   "metadata": {},
   "outputs": [],
   "source": [
    "theta_val_S = sp.solve(diff_S_the, theta)\n",
    "theta_val_S"
   ]
  },
  {
   "cell_type": "markdown",
   "metadata": {},
   "source": [
    "### Graphical Study"
   ]
  },
  {
   "cell_type": "code",
   "execution_count": null,
   "metadata": {},
   "outputs": [],
   "source": [
    "def get_response(beta_val = 18, x0 = 90 , n_steps=3):\n",
    "    sig_y_r, sig_x_r, tau_xy_r, K_I_rho_r, K_II_r, theta_val_sig_r, theta_val_G_r, theta_val_S_r = [],[],[],[],[],[],[],[]\n",
    "    beta = np.linspace(beta_val,n_steps+1)\n",
    "    \n",
    "    for beta_n in beta: \n",
    "        sig_y = get_sig_y(beta_n)\n",
    "        sig_x = get_sig_x(beta_n)\n",
    "        tau_xy = get_tau_xy(beta_n)\n",
    "        K_I_rho = get_K_I_rho(beta_n)\n",
    "        K_II = get_K_II(beta_n)\n",
    "        theta_val_sig = root(get_diff_sig_the, x0)\n",
    "        print(theta_val_sig)\n",
    "        theta_val_G = root(get_G_d_the, x0)\n",
    "        theta_val_S = root(get_diff_S_the, x0)\n",
    "        sig_the = get_sig_the(beta_n,theta_val_sig)\n",
    "        G_the = get_G_the(beta_n,theta_val_G)\n",
    "        S_the = get_S_the(beta_n,theta_val_S)\n",
    "        #print(R)\n",
    "        #print(Si)\n",
    "        sig_y_r.append(sig_y)\n",
    "        sig_x_r.append(sig_x)\n",
    "        tau_xy_r.append(tau_xy)\n",
    "        K_I_rho_r.append(K_I_rho)\n",
    "        K_II_r.append(K_II)\n",
    "        theta_val_sig_r.append(theta_val_sig)\n",
    "        theta_val_G_r.append(theta_val_G)\n",
    "        theta_val_S_r.append(theta_val_S)\n",
    "    return (\n",
    "        beta,np.array(sig_y_r,dtype=np.float_),\n",
    "        np.array(sig_x_r,dtype=np.float_),\n",
    "        np.array(tau_xy_r,dtype=np.float_),\n",
    "        np.array(K_I_rho_r,dtype=np.float_),\n",
    "        np.array(K_II_r,dtype=np.float_),\n",
    "        np.array(theta_val_sig_r,dtype=np.float_),\n",
    "        np.array(theta_val_G_r,dtype=np.float_),\n",
    "        np.array(theta_val_S_r,dtype=np.float_)\n",
    "    )"
   ]
  },
  {
   "cell_type": "code",
   "execution_count": null,
   "metadata": {},
   "outputs": [],
   "source": [
    "fig, ((ax1,ax2),(ax3,ax4),(ax5,ax6)) = plt.subplots(3,2,figsize=(10,8))\n",
    "ax11 = ax1.twinx()\n",
    "ax22 = ax2.twinx()\n",
    "colors = ['blue','red', 'green', 'black', 'magenta' ]\n",
    "n_step_range = np.arange(1,5)*18\n",
    "beta = 18\n",
    "for n_step, color in zip(n_step_range, colors):\n",
    "    beta, sig_y_arr, sig_x_arr, tau_xy_arr, K_I_rho_arr, K_II_arr, theta_val_sig_arr, theta_val_G_arr, theta_val_S_arr = get_response(beta, n_step)\n",
    "    ax1.plot(beta, theta_val_sig_arr[:], color=color, \n",
    "             label='n_steps = %g' % n_step)\n",
    "    ax1.set_xlabel(r'$\\beta$'); ax1.set_ylabel(r'$\\theta$')\n",
    "    ax1.legend()\n",
    "    ax1.plot(beta, theta_val_G_arr[:], '-.', color=color, \n",
    "             label='n_steps = %g' % n_step)\n",
    "    ax1.plot(beta, theta_val_S_arr[:], '-..', color=color, \n",
    "             label='n_steps = %g' % n_step)\n",
    "    #print(a_t)\n",
    "    #ax2.plot(a_t, R_arr[:], color=color, \n",
    "     #        label='n_steps = %g' % n_step)\n",
    "    #ax2.set_xlabel('$a$'); ax2.set_ylabel(r'$R$')\n",
    "    #ax2.legend()\n",
    "    #ax22.plot(a_t, G_general_arr[:], '-.', color=color )"
   ]
  },
  {
   "cell_type": "markdown",
   "metadata": {},
   "source": [
    "### Kink Initiation Stress\n",
    "The kink initiation stress for the maximum hoop stress theory is given as:\n",
    "\\begin{gather*}\n",
    "\\sigma_i = K_{Ic} \\frac{2}{\\sqrt{\\pi a}}\\left( \\sqrt{\\frac{\\rho}{a}} cos^2\\beta cos^3\\frac{\\theta}{2} -2 sin^2\\beta cos^3\\frac{\\theta}{2} + 3 sin\\beta cos \\beta sin\\theta cos\\frac{\\theta}{2} - 2 \\sqrt{2\\frac{\\rho}{a}}cos^2\\beta sin^2\\theta\\right)^{-1}\n",
    "\\end{gather*}"
   ]
  },
  {
   "cell_type": "code",
   "execution_count": null,
   "metadata": {},
   "outputs": [],
   "source": [
    "K_ic = sp.Symbol(r'K_ic', real = True)\n",
    "sigma_i = K_ic * (2 / sp.sqrt(np.pi * a)) * (sp.sqrt(rho/a)* (sp.cos(beta))**2 * (sp.cos(theta/2))**3 - \\\n",
    "                                             2*(sp.sin(beta))**2 * (sp.cos(theta/2))**3 + 3*sp.sin(beta)*sp.cos(beta) *\\\n",
    "                                              sp.sin(theta)*sp.cos(theta/2) - 2 *sp.sqrt(2* (rho/a)) * (sp.cos(beta))**2 * \\\n",
    "                                             (sp.sin(theta))**2)**(-1)\n",
    "sigma_i;"
   ]
  },
  {
   "cell_type": "code",
   "execution_count": null,
   "metadata": {},
   "outputs": [],
   "source": []
  }
 ],
 "metadata": {
  "kernelspec": {
   "display_name": "Python 3",
   "language": "python",
   "name": "python3"
  },
  "language_info": {
   "codemirror_mode": {
    "name": "ipython",
    "version": 3
   },
   "file_extension": ".py",
   "mimetype": "text/x-python",
   "name": "python",
   "nbconvert_exporter": "python",
   "pygments_lexer": "ipython3",
   "version": "3.7.6"
  }
 },
 "nbformat": 4,
 "nbformat_minor": 2
}
