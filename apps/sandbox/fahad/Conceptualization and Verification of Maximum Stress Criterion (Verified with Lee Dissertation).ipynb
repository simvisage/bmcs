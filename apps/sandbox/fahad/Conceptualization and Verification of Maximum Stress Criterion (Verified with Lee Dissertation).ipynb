{
 "cells": [
  {
   "cell_type": "markdown",
   "metadata": {},
   "source": [
    "# Conceptualization and Verification of Maximum Stress Criterion"
   ]
  },
  {
   "cell_type": "code",
   "execution_count": null,
   "metadata": {},
   "outputs": [],
   "source": [
    "%matplotlib notebook\n",
    "import matplotlib.pyplot as plt\n",
    "import numpy as np\n",
    "import sympy as sp\n",
    "sp.init_printing()\n",
    "import ipywidgets as ipw"
   ]
  },
  {
   "cell_type": "markdown",
   "metadata": {},
   "source": [
    "<img src=\"farfieldstress.png\" width=\"500\"/>"
   ]
  },
  {
   "cell_type": "code",
   "execution_count": null,
   "metadata": {},
   "outputs": [],
   "source": [
    "r = sp.Symbol('r', nonnegative = True)\n",
    "theta = sp.Symbol(r'\\theta', nonnegative = True)\n",
    "K_I = sp.Symbol('K_I', nonnegative = True)\n",
    "K_II = sp.Symbol('K_{II}', nonnegative = True)\n",
    "T = sp.Symbol('T', nonnegative = True)\n",
    "sigma_x =  sp.Symbol(r'\\sigma_x', nonnegative = True)\n",
    "sigma_z =  sp.Symbol(r'\\sigma_z', nonnegative = True)\n",
    "tau_fps = sp.Symbol(r'\\tau_\\mathrm{fps}')\n",
    "a = sp.Symbol('a', nonnegative = True)\n",
    "beta = sp.Symbol(r'\\beta', nonnegative = True)\n",
    "tau_fps"
   ]
  },
  {
   "cell_type": "markdown",
   "metadata": {},
   "source": [
    "## Representation of Far field stress in terms of Stress Intensity factors\n",
    "In this implementation, the far field stress is represented in  terms of Stress Intensity factors (SIFs) where $K_I$ represents mode I and $K_{II}$ depicts mode II. This terminology of measuring stresses in SIFs for external stress acting in uniaxial direction is shown as:\n",
    "\\begin{gather*}\n",
    "K_I = \\sigma_x \\sqrt{\\pi a}\\sin^2 \\beta  \\\\\n",
    "K_{II} = \\sigma_x \\sqrt{\\pi a}\\sin\\beta \\cos\\beta  \n",
    "\\end{gather*}\n",
    "The positive sign of $K_I$ highlights stress as tension where negative sign shows compression. Similarly, negative sign of $K_{II}$ represents stress in opposite direction. $\\beta$ represents the angle of crack orientation with respect to the vertical direction and $a$ represents the length of crack as depicted in figure. In the case of pure mode I failure, $\\beta$ is $90°$ whereas for failure along pure mode II $\\beta = 0°$"
   ]
  },
  {
   "cell_type": "markdown",
   "metadata": {},
   "source": [
    "The figure above shows stresses in the vicinity of crack tip. $\\theta$ depicts crack propagation angle and $r$ represents the radius of fracture propagation segment."
   ]
  },
  {
   "cell_type": "code",
   "execution_count": null,
   "metadata": {},
   "outputs": [],
   "source": [
    "s_b, c_b = sp.symbols('s_b, c_b')\n",
    "s_b"
   ]
  },
  {
   "cell_type": "code",
   "execution_count": null,
   "metadata": {},
   "outputs": [],
   "source": [
    "K_I = sigma_x * sp.sqrt(sp.pi * a) * s_b**2\n",
    "K_II  = sigma_x * sp.sqrt(sp.pi * a) * c_b * s_b\n",
    "K_I, K_II"
   ]
  },
  {
   "cell_type": "code",
   "execution_count": null,
   "metadata": {},
   "outputs": [],
   "source": [
    "params = {beta:45*np.pi/180}"
   ]
  },
  {
   "cell_type": "code",
   "execution_count": null,
   "metadata": {},
   "outputs": [],
   "source": [
    "K_I_ = K_I#.subs(params)\n",
    "K_II_ = K_II#.subs(params)\n",
    "K_I_, K_II_"
   ]
  },
  {
   "cell_type": "code",
   "execution_count": null,
   "metadata": {},
   "outputs": [],
   "source": [
    "## Representation of sin and cos components as s_t and c_t for simplicity.\n",
    "s_t, c_t = sp.symbols('s_t,c_t')\n",
    "#T_t = sp.Matrix([[c_t, -s_t],[s_t, c_t]])\n",
    "#T_t"
   ]
  },
  {
   "cell_type": "code",
   "execution_count": null,
   "metadata": {},
   "outputs": [],
   "source": [
    "cs_theta = sp.Matrix([c_t, s_t])\n",
    "cs_theta"
   ]
  },
  {
   "cell_type": "code",
   "execution_count": null,
   "metadata": {},
   "outputs": [],
   "source": [
    "cs_theta_ = sp.Matrix([sp.cos(theta), sp.sin(theta)])\n",
    "cs_theta_"
   ]
  },
  {
   "cell_type": "markdown",
   "metadata": {},
   "source": [
    "## Stress Equation\n",
    "Dominant term for stresses can be obtained as:\n",
    "\\begin{gather*}\n",
    "\\sigma_{ij} = \\frac{\\left[ K_I S_{ij}^I(\\theta) + K_{II} S_{ij}^{II}(\\theta) \\right]}{\\sqrt{2\\pi r}}\n",
    "\\end{gather*}\n",
    "where $K_I$, $K_{II}$ represents the Stress Intensity Factors for Mode I and Mode II failures and $S^I_{ij}(\\theta)$ , $S_{ij}^{II}(\\theta)$ depicts the Angular functions for Mode I and Mode II which are given as:\n",
    "Angular functions for Mode I:\n",
    "\\begin{align}\n",
    "S^{I} = \n",
    "\\left[\n",
    "\\begin{array}{cc}\n",
    "S^{I}_{11} & S^{I}_{12} \\\\\n",
    "S^{I}_{12} &  S^{I}_{22}\n",
    "\\end{array}\n",
    "\\right] =\n",
    "\\left[\n",
    "\\begin{array}{cc}\n",
    "2 \\cos\\frac{\\theta}{2} -\\cos\\frac{\\theta}{2} \\left[ 1 + \\sin\\frac{\\theta}{2}\\sin\\frac{3\\theta}{2}\\right] & \\cos\\frac{\\theta}{2}\\sin\\frac{\\theta}{2}\\cos\\frac{3\\theta}{2} \\\\\n",
    "\\cos\\frac{\\theta}{2}\\sin\\frac{\\theta}{2}\\cos\\frac{3\\theta}{2} &  \\cos\\frac{\\theta}{2} \\left[ 1 + \\sin\\frac{\\theta}{2}\\sin\\frac{3\\theta}{2}\\right]\n",
    "\\end{array}\n",
    "\\right] \n",
    "\\end{align}\n",
    "Angular functions for Mode II:\n",
    "\\begin{align}\n",
    "S^{II} = \n",
    "\\left[\n",
    "\\begin{array}{cc}\n",
    "S^{II}_{11} & S^{II}_{12} \\\\\n",
    "S^{II}_{12} &  S^{II}_{22}\n",
    "\\end{array}\n",
    "\\right] =\n",
    "\\left[\n",
    "\\begin{array}{cc}\n",
    "-2 \\sin\\frac{\\theta}{2} - \\sin\\frac{\\theta}{2}\\cos\\frac{\\theta}{2}\\cos\\frac{3\\theta}{2} & \\cos\\frac{\\theta}{2}\\left[ 1 - \\sin\\frac{\\theta}{2}\\sin\\frac{3\\theta}{2}\\right] \\\\\n",
    "\\cos\\frac{\\theta}{2}\\left[ 1 - \\sin\\frac{\\theta}{2}\\sin\\frac{3\\theta}{2}\\right] &  \\sin\\frac{\\theta}{2}\\cos\\frac{\\theta}{2}\\cos\\frac{3\\theta}{2}\n",
    "\\end{array}\n",
    "\\right] \n",
    "\\end{align}"
   ]
  },
  {
   "cell_type": "markdown",
   "metadata": {},
   "source": [
    "## Angular Function"
   ]
  },
  {
   "cell_type": "code",
   "execution_count": null,
   "metadata": {},
   "outputs": [],
   "source": [
    "s_3t = 3 * s_t - 4 * s_t**3\n",
    "c_3t = 4 * c_t**3 - 3 * c_t\n",
    "S_I_11 = 2 * c_t - c_t * (1 + s_t * s_3t) \n",
    "S_I_22 = c_t * (1 + s_t * s_3t)\n",
    "S_I_12 = c_t * s_t * c_3t\n",
    "S_I = sp.Matrix([[S_I_11, S_I_12],[S_I_12, S_I_22]])\n",
    "S_I_ = sp.simplify(S_I)\n",
    "S_I_"
   ]
  },
  {
   "cell_type": "code",
   "execution_count": null,
   "metadata": {},
   "outputs": [],
   "source": [
    "S_II_11 = - 2 * s_t - s_t * c_t * c_3t  \n",
    "S_II_22 = s_t * c_t * c_3t\n",
    "S_II_12 = c_t * (1 - s_t * s_3t)\n",
    "S_II = sp.Matrix([[S_II_11, S_II_12],[S_II_12, S_II_22]])\n",
    "S_II_ = sp.simplify(S_II)\n",
    "S_II_"
   ]
  },
  {
   "cell_type": "markdown",
   "metadata": {},
   "source": [
    "## Stress Equation at the Crack tip in Cartesian Coordinates"
   ]
  },
  {
   "cell_type": "code",
   "execution_count": null,
   "metadata": {},
   "outputs": [],
   "source": [
    "c_t_h = sp.sqrt((1 + c_t)/2)\n",
    "s_t_h = sp.sqrt((1 - c_t)/2)\n",
    "s_t_h"
   ]
  },
  {
   "cell_type": "code",
   "execution_count": null,
   "metadata": {},
   "outputs": [],
   "source": [
    "sigma = sp.Matrix([[K_I_ * S_I_[0,0] + K_II_ * S_II_[0,0], K_I_ * S_I_[0,1] + K_II_ * S_II_[0,1]],\n",
    "                   [K_I_ * S_I_[0,1] + K_II_ * S_II_[0,1], K_I_ * S_I_[1,1] + K_II_ * S_II_[1,1]]])\n",
    "sigma_ = sp.simplify(sigma)\n",
    "sigmaa = sigma_.subs(c_t, c_t_h).subs(s_t, s_t_h)\n",
    "sigmaa"
   ]
  },
  {
   "cell_type": "markdown",
   "metadata": {},
   "source": [
    "## Stress Transformation from Cartesian to Polar Coordinates\n",
    "To transform from cartesian to polar coordinates, Transformation Matrix will be taken into account i.e.:\n",
    "\\begin{align}\n",
    "T_t = \n",
    "\\left[\n",
    "\\begin{array}{cc}\n",
    "\\cos \\theta & -\\sin \\theta \\\\\n",
    "\\sin \\theta &  \\cos \\theta\n",
    "\\end{array} \\right]\n",
    "\\end{align}\n",
    "Now, in order to transform from cartesian to polar the following transformation will be done. i.e.:\n",
    "\\begin{align}\n",
    "\\sigma_t = T_t^T \\sigma_{ij} T_t \n",
    "\\end{align}"
   ]
  },
  {
   "cell_type": "code",
   "execution_count": 1,
   "metadata": {},
   "outputs": [
    {
     "ename": "NameError",
     "evalue": "name 'sp' is not defined",
     "output_type": "error",
     "traceback": [
      "\u001b[1;31m---------------------------------------------------------------------------\u001b[0m",
      "\u001b[1;31mNameError\u001b[0m                                 Traceback (most recent call last)",
      "\u001b[1;32m<ipython-input-1-41cb0fa0dc3b>\u001b[0m in \u001b[0;36m<module>\u001b[1;34m\u001b[0m\n\u001b[1;32m----> 1\u001b[1;33m \u001b[0mT_t\u001b[0m \u001b[1;33m=\u001b[0m \u001b[0msp\u001b[0m\u001b[1;33m.\u001b[0m\u001b[0mMatrix\u001b[0m\u001b[1;33m(\u001b[0m\u001b[1;33m[\u001b[0m\u001b[1;33m[\u001b[0m\u001b[0mcs_theta\u001b[0m\u001b[1;33m[\u001b[0m\u001b[1;36m0\u001b[0m\u001b[1;33m]\u001b[0m\u001b[1;33m,\u001b[0m \u001b[1;33m-\u001b[0m\u001b[0mcs_theta\u001b[0m\u001b[1;33m[\u001b[0m\u001b[1;36m1\u001b[0m\u001b[1;33m]\u001b[0m\u001b[1;33m]\u001b[0m\u001b[1;33m,\u001b[0m\u001b[1;33m[\u001b[0m\u001b[0mcs_theta\u001b[0m\u001b[1;33m[\u001b[0m\u001b[1;36m1\u001b[0m\u001b[1;33m]\u001b[0m\u001b[1;33m,\u001b[0m \u001b[0mcs_theta\u001b[0m\u001b[1;33m[\u001b[0m\u001b[1;36m0\u001b[0m\u001b[1;33m]\u001b[0m\u001b[1;33m]\u001b[0m\u001b[1;33m]\u001b[0m\u001b[1;33m)\u001b[0m\u001b[1;33m\u001b[0m\u001b[1;33m\u001b[0m\u001b[0m\n\u001b[0m\u001b[0;32m      2\u001b[0m \u001b[0mT_t\u001b[0m\u001b[1;33m\u001b[0m\u001b[1;33m\u001b[0m\u001b[0m\n",
      "\u001b[1;31mNameError\u001b[0m: name 'sp' is not defined"
     ]
    }
   ],
   "source": [
    "T_t = sp.Matrix([[cs_theta[0], -cs_theta[1]],[cs_theta[1], cs_theta[0]]])\n",
    "T_t"
   ]
  },
  {
   "cell_type": "code",
   "execution_count": null,
   "metadata": {},
   "outputs": [],
   "source": [
    "sig_p = T_t.T * sigmaa * T_t\n",
    "sig_sim = sp.simplify(sig_p)\n",
    "sig_sim"
   ]
  },
  {
   "cell_type": "markdown",
   "metadata": {},
   "source": [
    "Replacing sine component with cosine for transforming the equation into a single trignometric ratio for simpicity."
   ]
  },
  {
   "cell_type": "code",
   "execution_count": null,
   "metadata": {},
   "outputs": [],
   "source": [
    "s_t_ = sp.sqrt(1 - c_t**2)\n",
    "sig = sig_sim.subs(s_t, s_t_)\n",
    "sig"
   ]
  },
  {
   "cell_type": "code",
   "execution_count": null,
   "metadata": {},
   "outputs": [],
   "source": [
    "sig_ = sp.simplify(sig)\n",
    "sig_"
   ]
  },
  {
   "cell_type": "markdown",
   "metadata": {},
   "source": [
    "Solving the stress field to calculate angle $\\theta$ following the Maximum Tangential Stress Theory. According to the Maximum Tangental Stress Theory, when the stress $\\sigma_{\\theta \\theta}$ is maximum depicting principal stress than $\\sigma_{r \\theta}$ becomes:  \n",
    "\\begin{gather*}\n",
    "\\sigma_{r \\theta} = 0\n",
    "\\end{gather*}"
   ]
  },
  {
   "cell_type": "code",
   "execution_count": null,
   "metadata": {},
   "outputs": [],
   "source": [
    "theta_sol = sp.solve(sig_[1,0], c_t)\n",
    "theta_val = theta_sol[2].subs(c_b, sp.cos(beta)).subs(s_b, sp.sin(beta))\n",
    "theta_ = sp.acos(theta_val)\n",
    "theta_"
   ]
  },
  {
   "cell_type": "code",
   "execution_count": null,
   "metadata": {},
   "outputs": [],
   "source": [
    "get_theta = sp.lambdify((beta), theta_, 'numpy')\n",
    "get_theta"
   ]
  },
  {
   "cell_type": "code",
   "execution_count": null,
   "metadata": {
    "scrolled": true
   },
   "outputs": [],
   "source": [
    "_, (ax1) = plt.subplots(1, 1, figsize=(7,3))\n",
    "beta = np.linspace(0, 90 * np.pi/180, 100)\n",
    "theta = get_theta(beta) \n",
    "ax1.plot(beta * 180/np.pi, theta * 180/ np.pi, color='blue', lw=2)\n",
    "ax1.set_xlabel(r'$\\beta$'); ax1.set_ylabel(r'$\\theta$')\n",
    "ax1.legend()"
   ]
  },
  {
   "cell_type": "code",
   "execution_count": null,
   "metadata": {
    "scrolled": true
   },
   "outputs": [],
   "source": [
    "theta * 180/ np.pi "
   ]
  },
  {
   "cell_type": "code",
   "execution_count": null,
   "metadata": {
    "scrolled": true
   },
   "outputs": [],
   "source": [
    "beta * 180/np.pi"
   ]
  }
 ],
 "metadata": {
  "kernelspec": {
   "display_name": "Python 3",
   "language": "python",
   "name": "python3"
  },
  "language_info": {
   "codemirror_mode": {
    "name": "ipython",
    "version": 3
   },
   "file_extension": ".py",
   "mimetype": "text/x-python",
   "name": "python",
   "nbconvert_exporter": "python",
   "pygments_lexer": "ipython3",
   "version": "3.7.6"
  },
  "toc": {
   "base_numbering": 1,
   "nav_menu": {},
   "number_sections": true,
   "sideBar": true,
   "skip_h1_title": false,
   "title_cell": "Table of Contents",
   "title_sidebar": "Contents",
   "toc_cell": false,
   "toc_position": {
    "height": "calc(100% - 180px)",
    "left": "10px",
    "top": "150px",
    "width": "165px"
   },
   "toc_section_display": true,
   "toc_window_display": true
  }
 },
 "nbformat": 4,
 "nbformat_minor": 2
}
