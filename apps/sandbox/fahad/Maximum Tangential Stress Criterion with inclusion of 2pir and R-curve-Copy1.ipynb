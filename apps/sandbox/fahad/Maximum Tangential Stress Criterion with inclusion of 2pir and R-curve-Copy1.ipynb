{
 "cells": [
  {
   "cell_type": "markdown",
   "metadata": {},
   "source": [
    "# Conceptualization and Verification of Maximum Stress Criterion"
   ]
  },
  {
   "cell_type": "code",
   "execution_count": 1,
   "metadata": {},
   "outputs": [],
   "source": [
    "%matplotlib notebook\n",
    "import matplotlib.pyplot as plt\n",
    "import numpy as np\n",
    "import sympy as sp\n",
    "sp.init_printing()\n",
    "import ipywidgets as ipw"
   ]
  },
  {
   "cell_type": "markdown",
   "metadata": {},
   "source": [
    "<img src=\"farfieldstress.png\" width=\"500\"/>"
   ]
  },
  {
   "cell_type": "code",
   "execution_count": 2,
   "metadata": {},
   "outputs": [
    {
     "data": {
      "image/png": "[encoded data removed]",
      "text/latex": [
       "$\\displaystyle \\tau_\\mathrm{fps}$"
      ],
      "text/plain": [
       "\\tau_\\mathrm{fps}"
      ]
     },
     "execution_count": 2,
     "metadata": {},
     "output_type": "execute_result"
    }
   ],
   "source": [
    "r = sp.Symbol('r', nonnegative = True)\n",
    "theta = sp.Symbol(r'\\theta', nonnegative = True)\n",
    "K_I = sp.Symbol('K_I', nonnegative = True)\n",
    "K_II = sp.Symbol('K_{II}', nonnegative = True)\n",
    "T = sp.Symbol('T', nonnegative = True)\n",
    "sigma_x =  sp.Symbol(r'\\sigma_x', nonnegative = True)\n",
    "sigma_z =  sp.Symbol(r'\\sigma_z', nonnegative = True)\n",
    "tau_fps = sp.Symbol(r'\\tau_\\mathrm{fps}')\n",
    "a = sp.Symbol('a', nonnegative = True)\n",
    "beta = sp.Symbol(r'\\beta', nonnegative = True)\n",
    "f = sp.Symbol(r'f', nonnegative = True)\n",
    "tau_fps"
   ]
  },
  {
   "cell_type": "markdown",
   "metadata": {},
   "source": [
    "## Representation of Far field stress in terms of Stress Intensity factors\n",
    "In this section, the far field stresses will be represented in terms of Stress Intensity factors. The schematics assume that we have a far field stress in the horizontal direction represented as $\\sigma_x$ with respect to an angled crack represent by angle $\\beta$ with respect to this horizontal boundary condition.The stress field in this case will be given as:\n",
    "\\begin{align}\n",
    "\\sigma_{xz} = \n",
    "\\left[\n",
    "\\begin{array}{cc}\n",
    "\\sigma_{x} & 0 \\\\\n",
    "0 & 0\n",
    "\\end{array}\n",
    "\\right]\n",
    "\\end{align}\n",
    "and the rotated stress field depicted in figure below is shown as:\n",
    "\\begin{align}\n",
    "\\sigma_{t} = \n",
    "\\left[\n",
    "\\begin{array}{cc}\n",
    "\\sigma_{nn} & \\sigma_{nt} \\\\\n",
    "\\sigma_{nt} & \\sigma_{np}\n",
    "\\end{array}\n",
    "\\right]\n",
    "\\end{align}\n",
    "However, to transform the global stress field into local with respect to the angle $\\beta$ can be done with the help of rotation matrix. Hence,\n",
    "\\begin{align}\n",
    "R = \n",
    "\\left[\n",
    "\\begin{array}{cc}\n",
    "c_b & -s_b \\\\\n",
    "s_b & c_b\n",
    "\\end{array}\n",
    "\\right]\n",
    "\\end{align}\n",
    "\\begin{align}\n",
    "\\sigma_{t} = \n",
    "\\left[\n",
    "\\begin{array}{cc}\n",
    "\\sigma_{nn} & \\sigma_{nt} \\\\\n",
    "\\sigma_{nt} & \\sigma_{np}\n",
    "\\end{array}\n",
    "\\right] = \n",
    "R^T \\sigma_{xz} R\n",
    "\\end{align}\n",
    "In order to convert the local stress field into SIF's to take into account crack length: \n",
    "\\begin{gather*}\n",
    "K_I = \\sqrt{\\pi a} \\sigma_{nn}\\\\\n",
    "K_{II} = \\sqrt{\\pi a} \\sigma_{nt}\n",
    "\\end{gather*}\n",
    "Here, $K_I$ represents the mode I opening failure whereas, $K_{II}$ depicts the sliding failure. The positive sign of $K_I$ highlights stress as tension where negative sign shows compression. Similarly, negative sign of $K_{II}$ represents stress in opposite direction. In the case of pure mode I failure, $\\beta$ is $90°$ whereas for failure along pure mode II $\\beta = 0°$"
   ]
  },
  {
   "cell_type": "markdown",
   "metadata": {},
   "source": [
    "<img src=\"transformationofstressfield.png\" width=\"500\"/>"
   ]
  },
  {
   "cell_type": "code",
   "execution_count": 3,
   "metadata": {},
   "outputs": [
    {
     "data": {
      "image/png": "[encoded data removed]",
      "text/latex": [
       "$\\displaystyle s_{b}$"
      ],
      "text/plain": [
       "s_b"
      ]
     },
     "execution_count": 3,
     "metadata": {},
     "output_type": "execute_result"
    }
   ],
   "source": [
    "s_b, c_b = sp.symbols('s_b, c_b')\n",
    "s_b"
   ]
  },
  {
   "cell_type": "code",
   "execution_count": 4,
   "metadata": {},
   "outputs": [
    {
     "data": {
      "image/png": "[encoded data removed]",
      "text/latex": [
       "$\\displaystyle \\left[\\begin{matrix}\\sigma_x & 0\\\\0 & 0\\end{matrix}\\right]$"
      ],
      "text/plain": [
       "⎡\\sigmaₓ  0⎤\n",
       "⎢          ⎥\n",
       "⎣   0     0⎦"
      ]
     },
     "execution_count": 4,
     "metadata": {},
     "output_type": "execute_result"
    }
   ],
   "source": [
    "sigma_ff = sp.Matrix([[sigma_x, 0],\n",
    "                    [0, 0]])\n",
    "sigma_ff"
   ]
  },
  {
   "cell_type": "markdown",
   "metadata": {},
   "source": [
    "The figure above shows stresses in the vicinity of crack tip. $\\theta$ depicts crack propagation angle and $r$ represents the radius of fracture propagation segment."
   ]
  },
  {
   "cell_type": "code",
   "execution_count": 5,
   "metadata": {},
   "outputs": [
    {
     "data": {
      "image/png": "[encoded data removed]",
      "text/latex": [
       "$\\displaystyle \\left[\\begin{matrix}c_{b} & - s_{b}\\\\s_{b} & c_{b}\\end{matrix}\\right]$"
      ],
      "text/plain": [
       "⎡c_b  -s_b⎤\n",
       "⎢         ⎥\n",
       "⎣s_b  c_b ⎦"
      ]
     },
     "execution_count": 5,
     "metadata": {},
     "output_type": "execute_result"
    }
   ],
   "source": [
    "Rot = sp.Matrix([[c_b, -s_b],\n",
    "                    [s_b, c_b]])\n",
    "Rot"
   ]
  },
  {
   "cell_type": "code",
   "execution_count": 6,
   "metadata": {},
   "outputs": [
    {
     "data": {
      "image/png": "[encoded data removed]",
      "text/latex": [
       "$\\displaystyle \\left[\\begin{matrix}\\sigma_x c_{b}^{2} & - \\sigma_x c_{b} s_{b}\\\\- \\sigma_x c_{b} s_{b} & \\sigma_x s_{b}^{2}\\end{matrix}\\right]$"
      ],
      "text/plain": [
       "⎡             2                    ⎤\n",
       "⎢  \\sigmaₓ⋅c_b     -\\sigmaₓ⋅c_b⋅s_b⎥\n",
       "⎢                                  ⎥\n",
       "⎢                               2  ⎥\n",
       "⎣-\\sigmaₓ⋅c_b⋅s_b    \\sigmaₓ⋅s_b   ⎦"
      ]
     },
     "execution_count": 6,
     "metadata": {},
     "output_type": "execute_result"
    }
   ],
   "source": [
    "SIF_field = Rot.T * sigma_ff * Rot\n",
    "SIF_field"
   ]
  },
  {
   "cell_type": "code",
   "execution_count": 7,
   "metadata": {},
   "outputs": [
    {
     "data": {
      "image/png": "[encoded data removed]",
      "text/latex": [
       "$\\displaystyle \\left[\\begin{matrix}\\sigma_x c_{b}^{2} & - \\sigma_x c_{b} s_{b}\\\\- \\sigma_x c_{b} s_{b} & \\sigma_x s_{b}^{2}\\end{matrix}\\right]$"
      ],
      "text/plain": [
       "⎡             2                    ⎤\n",
       "⎢  \\sigmaₓ⋅c_b     -\\sigmaₓ⋅c_b⋅s_b⎥\n",
       "⎢                                  ⎥\n",
       "⎢                               2  ⎥\n",
       "⎣-\\sigmaₓ⋅c_b⋅s_b    \\sigmaₓ⋅s_b   ⎦"
      ]
     },
     "execution_count": 7,
     "metadata": {},
     "output_type": "execute_result"
    }
   ],
   "source": [
    "sp.simplify(SIF_field)"
   ]
  },
  {
   "cell_type": "code",
   "execution_count": 8,
   "metadata": {},
   "outputs": [
    {
     "data": {
      "image/png": "[encoded data removed]",
      "text/latex": [
       "$\\displaystyle \\left( \\sigma_x c_{b}^{2}, \\  - \\sigma_x c_{b} s_{b}\\right)$"
      ],
      "text/plain": [
       "⎛           2                  ⎞\n",
       "⎝\\sigmaₓ⋅c_b , -\\sigmaₓ⋅c_b⋅s_b⎠"
      ]
     },
     "execution_count": 8,
     "metadata": {},
     "output_type": "execute_result"
    }
   ],
   "source": [
    "K_I = sp.simplify(SIF_field[0,0])\n",
    "K_II  = sp.simplify(SIF_field[1,0])\n",
    "K_I, K_II"
   ]
  },
  {
   "cell_type": "code",
   "execution_count": 9,
   "metadata": {},
   "outputs": [],
   "source": [
    "params1 = {beta:45*np.pi/180}"
   ]
  },
  {
   "cell_type": "code",
   "execution_count": 10,
   "metadata": {},
   "outputs": [
    {
     "data": {
      "image/png": "[encoded data removed]",
      "text/latex": [
       "$\\displaystyle \\left( \\sigma_x c_{b}^{2}, \\  - \\sigma_x c_{b} s_{b}\\right)$"
      ],
      "text/plain": [
       "⎛           2                  ⎞\n",
       "⎝\\sigmaₓ⋅c_b , -\\sigmaₓ⋅c_b⋅s_b⎠"
      ]
     },
     "execution_count": 10,
     "metadata": {},
     "output_type": "execute_result"
    }
   ],
   "source": [
    "K_I_ = K_I#.subs(params)\n",
    "K_II_ = K_II#.subs(params)\n",
    "K_I_, K_II_"
   ]
  },
  {
   "cell_type": "code",
   "execution_count": 11,
   "metadata": {},
   "outputs": [],
   "source": [
    "## Representation of sin and cos components as s_t and c_t for simplicity.\n",
    "s_t, c_t = sp.symbols('s_t,c_t')\n",
    "#T_t = sp.Matrix([[c_t, -s_t],[s_t, c_t]])\n",
    "#T_t"
   ]
  },
  {
   "cell_type": "code",
   "execution_count": 12,
   "metadata": {},
   "outputs": [
    {
     "data": {
      "image/png": "[encoded data removed]",
      "text/latex": [
       "$\\displaystyle \\left[\\begin{matrix}c_{t}\\\\s_{t}\\end{matrix}\\right]$"
      ],
      "text/plain": [
       "⎡cₜ⎤\n",
       "⎢  ⎥\n",
       "⎣sₜ⎦"
      ]
     },
     "execution_count": 12,
     "metadata": {},
     "output_type": "execute_result"
    }
   ],
   "source": [
    "cs_theta = sp.Matrix([c_t, s_t])\n",
    "cs_theta"
   ]
  },
  {
   "cell_type": "code",
   "execution_count": 13,
   "metadata": {},
   "outputs": [
    {
     "data": {
      "image/png": "[encoded data removed]",
      "text/latex": [
       "$\\displaystyle \\left[\\begin{matrix}\\cos{\\left(\\theta \\right)}\\\\\\sin{\\left(\\theta \\right)}\\end{matrix}\\right]$"
      ],
      "text/plain": [
       "⎡cos(\\theta)⎤\n",
       "⎢           ⎥\n",
       "⎣sin(\\theta)⎦"
      ]
     },
     "execution_count": 13,
     "metadata": {},
     "output_type": "execute_result"
    }
   ],
   "source": [
    "cs_theta_ = sp.Matrix([sp.cos(theta), sp.sin(theta)])\n",
    "cs_theta_"
   ]
  },
  {
   "cell_type": "markdown",
   "metadata": {},
   "source": [
    "## Stress Equation\n",
    "Dominant term for stresses can be obtained as:\n",
    "\\begin{gather*}\n",
    "\\sigma_{ij} = \\frac{\\left[ K_I S_{ij}^I(\\theta) + K_{II} S_{ij}^{II}(\\theta) \\right]}{\\sqrt{2\\pi r}}\n",
    "\\end{gather*}\n",
    "where $K_I$, $K_{II}$ represents the Stress Intensity Factors for Mode I and Mode II failures and $S^I_{ij}(\\theta)$ , $S_{ij}^{II}(\\theta)$ depicts the Angular functions for Mode I and Mode II which are given as:\n",
    "Angular functions for Mode I:\n",
    "\\begin{align}\n",
    "S^{I} = \n",
    "\\left[\n",
    "\\begin{array}{cc}\n",
    "S^{I}_{11} & S^{I}_{12} \\\\\n",
    "S^{I}_{12} &  S^{I}_{22}\n",
    "\\end{array}\n",
    "\\right] =\n",
    "\\left[\n",
    "\\begin{array}{cc}\n",
    "2 \\cos\\frac{\\theta}{2} -\\cos\\frac{\\theta}{2} \\left[ 1 + \\sin\\frac{\\theta}{2}\\sin\\frac{3\\theta}{2}\\right] & \\cos\\frac{\\theta}{2}\\sin\\frac{\\theta}{2}\\cos\\frac{3\\theta}{2} \\\\\n",
    "\\cos\\frac{\\theta}{2}\\sin\\frac{\\theta}{2}\\cos\\frac{3\\theta}{2} &  \\cos\\frac{\\theta}{2} \\left[ 1 + \\sin\\frac{\\theta}{2}\\sin\\frac{3\\theta}{2}\\right]\n",
    "\\end{array}\n",
    "\\right] \n",
    "\\end{align}\n",
    "Angular functions for Mode II:\n",
    "\\begin{align}\n",
    "S^{II} = \n",
    "\\left[\n",
    "\\begin{array}{cc}\n",
    "S^{II}_{11} & S^{II}_{12} \\\\\n",
    "S^{II}_{12} &  S^{II}_{22}\n",
    "\\end{array}\n",
    "\\right] =\n",
    "\\left[\n",
    "\\begin{array}{cc}\n",
    "-2 \\sin\\frac{\\theta}{2} - \\sin\\frac{\\theta}{2}\\cos\\frac{\\theta}{2}\\cos\\frac{3\\theta}{2} & \\cos\\frac{\\theta}{2}\\left[ 1 - \\sin\\frac{\\theta}{2}\\sin\\frac{3\\theta}{2}\\right] \\\\\n",
    "\\cos\\frac{\\theta}{2}\\left[ 1 - \\sin\\frac{\\theta}{2}\\sin\\frac{3\\theta}{2}\\right] &  \\sin\\frac{\\theta}{2}\\cos\\frac{\\theta}{2}\\cos\\frac{3\\theta}{2}\n",
    "\\end{array}\n",
    "\\right] \n",
    "\\end{align}"
   ]
  },
  {
   "cell_type": "markdown",
   "metadata": {},
   "source": [
    "## Angular Function"
   ]
  },
  {
   "cell_type": "code",
   "execution_count": 14,
   "metadata": {},
   "outputs": [
    {
     "data": {
      "image/png": "[encoded data removed]",
      "text/latex": [
       "$\\displaystyle \\left[\\begin{matrix}c_{t} \\left(s_{t}^{2} \\left(4 s_{t}^{2} - 3\\right) + 1\\right) & c_{t}^{2} s_{t} \\left(4 c_{t}^{2} - 3\\right)\\\\c_{t}^{2} s_{t} \\left(4 c_{t}^{2} - 3\\right) & c_{t} \\left(- 4 s_{t}^{4} + 3 s_{t}^{2} + 1\\right)\\end{matrix}\\right]$"
      ],
      "text/plain": [
       "⎡   ⎛  2 ⎛    2    ⎞    ⎞       2    ⎛    2    ⎞   ⎤\n",
       "⎢cₜ⋅⎝sₜ ⋅⎝4⋅sₜ  - 3⎠ + 1⎠     cₜ ⋅sₜ⋅⎝4⋅cₜ  - 3⎠   ⎥\n",
       "⎢                                                  ⎥\n",
       "⎢     2    ⎛    2    ⎞        ⎛      4       2    ⎞⎥\n",
       "⎣   cₜ ⋅sₜ⋅⎝4⋅cₜ  - 3⎠     cₜ⋅⎝- 4⋅sₜ  + 3⋅sₜ  + 1⎠⎦"
      ]
     },
     "execution_count": 14,
     "metadata": {},
     "output_type": "execute_result"
    }
   ],
   "source": [
    "s_3t = 3 * s_t - 4 * s_t**3\n",
    "c_3t = 4 * c_t**3 - 3 * c_t\n",
    "S_I_11 = 2 * c_t - c_t * (1 + s_t * s_3t) \n",
    "S_I_22 = c_t * (1 + s_t * s_3t)\n",
    "S_I_12 = c_t * s_t * c_3t\n",
    "S_I = sp.Matrix([[S_I_11, S_I_12],[S_I_12, S_I_22]])\n",
    "S_I_ = sp.simplify(S_I)\n",
    "S_I_"
   ]
  },
  {
   "cell_type": "code",
   "execution_count": 15,
   "metadata": {},
   "outputs": [
    {
     "data": {
      "image/png": "[encoded data removed]",
      "text/latex": [
       "$\\displaystyle \\left[\\begin{matrix}s_{t} \\left(- 4 c_{t}^{4} + 3 c_{t}^{2} - 2\\right) & c_{t} \\left(4 s_{t}^{4} - 3 s_{t}^{2} + 1\\right)\\\\c_{t} \\left(4 s_{t}^{4} - 3 s_{t}^{2} + 1\\right) & c_{t}^{2} s_{t} \\left(4 c_{t}^{2} - 3\\right)\\end{matrix}\\right]$"
      ],
      "text/plain": [
       "⎡   ⎛      4       2    ⎞     ⎛    4       2    ⎞⎤\n",
       "⎢sₜ⋅⎝- 4⋅cₜ  + 3⋅cₜ  - 2⎠  cₜ⋅⎝4⋅sₜ  - 3⋅sₜ  + 1⎠⎥\n",
       "⎢                                                ⎥\n",
       "⎢    ⎛    4       2    ⎞       2    ⎛    2    ⎞  ⎥\n",
       "⎣ cₜ⋅⎝4⋅sₜ  - 3⋅sₜ  + 1⎠     cₜ ⋅sₜ⋅⎝4⋅cₜ  - 3⎠  ⎦"
      ]
     },
     "execution_count": 15,
     "metadata": {},
     "output_type": "execute_result"
    }
   ],
   "source": [
    "S_II_11 = - 2 * s_t - s_t * c_t * c_3t  \n",
    "S_II_22 = s_t * c_t * c_3t\n",
    "S_II_12 = c_t * (1 - s_t * s_3t)\n",
    "S_II = sp.Matrix([[S_II_11, S_II_12],[S_II_12, S_II_22]])\n",
    "S_II_ = sp.simplify(S_II)\n",
    "S_II_"
   ]
  },
  {
   "cell_type": "markdown",
   "metadata": {},
   "source": [
    "## Stress Equation at the Crack tip in Cartesian Coordinates"
   ]
  },
  {
   "cell_type": "code",
   "execution_count": 16,
   "metadata": {},
   "outputs": [
    {
     "data": {
      "image/png": "[encoded data removed]",
      "text/latex": [
       "$\\displaystyle \\sqrt{\\frac{1}{2} - \\frac{c_{t}}{2}}$"
      ],
      "text/plain": [
       "    ________\n",
       "   ╱ 1   cₜ \n",
       "  ╱  ─ - ── \n",
       "╲╱   2   2  "
      ]
     },
     "execution_count": 16,
     "metadata": {},
     "output_type": "execute_result"
    }
   ],
   "source": [
    "c_t_h = sp.sqrt((1 + c_t)/2)\n",
    "s_t_h = sp.sqrt((1 - c_t)/2)\n",
    "s_t_h"
   ]
  },
  {
   "cell_type": "code",
   "execution_count": 17,
   "metadata": {},
   "outputs": [
    {
     "data": {
      "image/png": "[encoded data removed]",
      "text/latex": [
       "$\\displaystyle \\left[\\begin{matrix}\\sigma_x c_{b} \\left(c_{b} \\sqrt{\\frac{c_{t}}{2} + \\frac{1}{2}} \\left(\\left(\\frac{1}{2} - \\frac{c_{t}}{2}\\right) \\left(- 2 c_{t} - 1\\right) + 1\\right) + s_{b} \\sqrt{\\frac{1}{2} - \\frac{c_{t}}{2}} \\left(- \\frac{3 c_{t}}{2} + 4 \\left(\\frac{c_{t}}{2} + \\frac{1}{2}\\right)^{2} + \\frac{1}{2}\\right)\\right) & \\sigma_x c_{b} \\sqrt{\\frac{c_{t}}{2} + \\frac{1}{2}} \\left(c_{b} \\sqrt{\\frac{1}{2} - \\frac{c_{t}}{2}} \\sqrt{\\frac{c_{t}}{2} + \\frac{1}{2}} \\left(2 c_{t} - 1\\right) - s_{b} \\left(\\frac{3 c_{t}}{2} + 4 \\left(\\frac{1}{2} - \\frac{c_{t}}{2}\\right)^{2} - \\frac{1}{2}\\right)\\right)\\\\\\sigma_x c_{b} \\sqrt{\\frac{c_{t}}{2} + \\frac{1}{2}} \\left(c_{b} \\sqrt{\\frac{1}{2} - \\frac{c_{t}}{2}} \\sqrt{\\frac{c_{t}}{2} + \\frac{1}{2}} \\left(2 c_{t} - 1\\right) - s_{b} \\left(\\frac{3 c_{t}}{2} + 4 \\left(\\frac{1}{2} - \\frac{c_{t}}{2}\\right)^{2} - \\frac{1}{2}\\right)\\right) & \\sigma_x c_{b} \\sqrt{\\frac{c_{t}}{2} + \\frac{1}{2}} \\left(c_{b} \\left(- \\frac{3 c_{t}}{2} - 4 \\left(\\frac{1}{2} - \\frac{c_{t}}{2}\\right)^{2} + \\frac{5}{2}\\right) - s_{b} \\sqrt{\\frac{1}{2} - \\frac{c_{t}}{2}} \\sqrt{\\frac{c_{t}}{2} + \\frac{1}{2}} \\left(2 c_{t} - 1\\right)\\right)\\end{matrix}\\right]$"
      ],
      "text/plain": [
       "⎡            ⎛        ________                                      ________ ⎛\n",
       "⎢            ⎜       ╱ cₜ   1  ⎛⎛1   cₜ⎞                ⎞          ╱ 1   cₜ  ⎜\n",
       "⎢\\sigmaₓ⋅c_b⋅⎜c_b⋅  ╱  ── + ─ ⋅⎜⎜─ - ──⎟⋅(-2⋅cₜ - 1) + 1⎟ + s_b⋅  ╱  ─ - ── ⋅⎜\n",
       "⎢            ⎝    ╲╱   2    2  ⎝⎝2   2 ⎠                ⎠       ╲╱   2   2   ⎝\n",
       "⎢                                                                             \n",
       "⎢                  ________ ⎛        ________     ________                  ⎛ \n",
       "⎢                 ╱ cₜ   1  ⎜       ╱ 1   cₜ     ╱ cₜ   1                   ⎜3\n",
       "⎢  \\sigmaₓ⋅c_b⋅  ╱  ── + ─ ⋅⎜c_b⋅  ╱  ─ - ── ⋅  ╱  ── + ─ ⋅(2⋅cₜ - 1) - s_b⋅⎜─\n",
       "⎣              ╲╱   2    2  ⎝    ╲╱   2   2   ╲╱   2    2                   ⎝ \n",
       "\n",
       "                   2    ⎞⎞                   ________ ⎛        ________     __\n",
       "  3⋅cₜ     ⎛cₜ   1⎞    1⎟⎟                  ╱ cₜ   1  ⎜       ╱ 1   cₜ     ╱ c\n",
       "- ──── + 4⋅⎜── + ─⎟  + ─⎟⎟   \\sigmaₓ⋅c_b⋅  ╱  ── + ─ ⋅⎜c_b⋅  ╱  ─ - ── ⋅  ╱  ─\n",
       "   2       ⎝2    2⎠    2⎠⎠               ╲╱   2    2  ⎝    ╲╱   2   2   ╲╱   2\n",
       "                                                                              \n",
       "                2    ⎞⎞                     ________ ⎛    ⎛                   \n",
       "⋅cₜ     ⎛1   cₜ⎞    1⎟⎟                    ╱ cₜ   1  ⎜    ⎜  3⋅cₜ     ⎛1   cₜ⎞\n",
       "─── + 4⋅⎜─ - ──⎟  - ─⎟⎟     \\sigmaₓ⋅c_b⋅  ╱  ── + ─ ⋅⎜c_b⋅⎜- ──── - 4⋅⎜─ - ──⎟\n",
       "2       ⎝2   2 ⎠    2⎠⎠                 ╲╱   2    2  ⎝    ⎝   2       ⎝2   2 ⎠\n",
       "\n",
       "______                  ⎛                 2    ⎞⎞ ⎤\n",
       "ₜ   1                   ⎜3⋅cₜ     ⎛1   cₜ⎞    1⎟⎟ ⎥\n",
       "─ + ─ ⋅(2⋅cₜ - 1) - s_b⋅⎜──── + 4⋅⎜─ - ──⎟  - ─⎟⎟ ⎥\n",
       "    2                   ⎝ 2       ⎝2   2 ⎠    2⎠⎠ ⎥\n",
       "                                                  ⎥\n",
       "2    ⎞           ________     ________           ⎞⎥\n",
       "    5⎟          ╱ 1   cₜ     ╱ cₜ   1            ⎟⎥\n",
       "  + ─⎟ - s_b⋅  ╱  ─ - ── ⋅  ╱  ── + ─ ⋅(2⋅cₜ - 1)⎟⎥\n",
       "    2⎠       ╲╱   2   2   ╲╱   2    2            ⎠⎦"
      ]
     },
     "execution_count": 17,
     "metadata": {},
     "output_type": "execute_result"
    }
   ],
   "source": [
    "sigma = sp.Matrix([[K_I * S_I_[0,0] + K_II * S_II_[0,0], K_I * S_I_[0,1] + K_II * S_II_[0,1]],\n",
    "                   [K_I * S_I_[0,1] + K_II * S_II_[0,1], K_I * S_I_[1,1] + K_II * S_II_[1,1]]])\n",
    "sigma_ = sp.simplify(sigma)\n",
    "sigmaa = sigma_.subs(c_t, c_t_h).subs(s_t, s_t_h)\n",
    "sigmaa"
   ]
  },
  {
   "cell_type": "markdown",
   "metadata": {},
   "source": [
    "## Stress Transformation from Cartesian to Polar Coordinates\n",
    "To transform from cartesian to polar coordinates, Transformation Matrix will be taken into account i.e.:\n",
    "\\begin{align}\n",
    "T_t = \n",
    "\\left[\n",
    "\\begin{array}{cc}\n",
    "\\cos \\theta & -\\sin \\theta \\\\\n",
    "\\sin \\theta &  \\cos \\theta\n",
    "\\end{array} \\right]\n",
    "\\end{align}\n",
    "Now, in order to transform from cartesian to polar the following transformation will be done. i.e.:\n",
    "\\begin{align}\n",
    "\\sigma_t = T_t^T \\sigma_{ij} T_t \n",
    "\\end{align}"
   ]
  },
  {
   "cell_type": "code",
   "execution_count": 18,
   "metadata": {},
   "outputs": [
    {
     "data": {
      "image/png": "[encoded data removed]",
      "text/latex": [
       "$\\displaystyle \\left[\\begin{matrix}c_{t} & - s_{t}\\\\s_{t} & c_{t}\\end{matrix}\\right]$"
      ],
      "text/plain": [
       "⎡cₜ  -sₜ⎤\n",
       "⎢       ⎥\n",
       "⎣sₜ  cₜ ⎦"
      ]
     },
     "execution_count": 18,
     "metadata": {},
     "output_type": "execute_result"
    }
   ],
   "source": [
    "T_t = sp.Matrix([[cs_theta[0], -cs_theta[1]],[cs_theta[1], cs_theta[0]]])\n",
    "T_t"
   ]
  },
  {
   "cell_type": "code",
   "execution_count": 19,
   "metadata": {},
   "outputs": [
    {
     "data": {
      "image/png": "[encoded data removed]",
      "text/latex": [
       "$\\displaystyle \\left[\\begin{matrix}\\frac{\\sqrt{2} \\sigma_x c_{b} \\left(c_{t} \\left(c_{t} \\left(c_{b} \\sqrt{c_{t} + 1} \\left(\\left(c_{t} - 1\\right) \\left(2 c_{t} + 1\\right) + 2\\right) + s_{b} \\sqrt{1 - c_{t}} \\left(- 3 c_{t} + 2 \\left(c_{t} + 1\\right)^{2} + 1\\right)\\right) + s_{t} \\sqrt{c_{t} + 1} \\left(c_{b} \\sqrt{1 - c_{t}} \\sqrt{c_{t} + 1} \\left(2 c_{t} - 1\\right) - s_{b} \\left(3 c_{t} + 2 \\left(c_{t} - 1\\right)^{2} - 1\\right)\\right)\\right) + s_{t} \\sqrt{c_{t} + 1} \\left(c_{t} \\left(c_{b} \\sqrt{1 - c_{t}} \\sqrt{c_{t} + 1} \\left(2 c_{t} - 1\\right) - s_{b} \\left(3 c_{t} + 2 \\left(c_{t} - 1\\right)^{2} - 1\\right)\\right) - s_{t} \\left(c_{b} \\left(3 c_{t} + 2 \\left(c_{t} - 1\\right)^{2} - 5\\right) + s_{b} \\sqrt{1 - c_{t}} \\sqrt{c_{t} + 1} \\left(2 c_{t} - 1\\right)\\right)\\right)\\right)}{4} & \\frac{\\sqrt{2} \\sigma_x c_{b} \\left(c_{t} \\sqrt{c_{t} + 1} \\left(c_{t} \\left(c_{b} \\sqrt{1 - c_{t}} \\sqrt{c_{t} + 1} \\left(2 c_{t} - 1\\right) - s_{b} \\left(3 c_{t} + 2 \\left(c_{t} - 1\\right)^{2} - 1\\right)\\right) - s_{t} \\left(c_{b} \\left(3 c_{t} + 2 \\left(c_{t} - 1\\right)^{2} - 5\\right) + s_{b} \\sqrt{1 - c_{t}} \\sqrt{c_{t} + 1} \\left(2 c_{t} - 1\\right)\\right)\\right) - s_{t} \\left(c_{t} \\left(c_{b} \\sqrt{c_{t} + 1} \\left(\\left(c_{t} - 1\\right) \\left(2 c_{t} + 1\\right) + 2\\right) + s_{b} \\sqrt{1 - c_{t}} \\left(- 3 c_{t} + 2 \\left(c_{t} + 1\\right)^{2} + 1\\right)\\right) + s_{t} \\sqrt{c_{t} + 1} \\left(c_{b} \\sqrt{1 - c_{t}} \\sqrt{c_{t} + 1} \\left(2 c_{t} - 1\\right) - s_{b} \\left(3 c_{t} + 2 \\left(c_{t} - 1\\right)^{2} - 1\\right)\\right)\\right)\\right)}{4}\\\\\\frac{\\sqrt{2} \\sigma_x c_{b} \\left(c_{t} \\left(c_{t} \\sqrt{c_{t} + 1} \\left(c_{b} \\sqrt{1 - c_{t}} \\sqrt{c_{t} + 1} \\left(2 c_{t} - 1\\right) - s_{b} \\left(3 c_{t} + 2 \\left(c_{t} - 1\\right)^{2} - 1\\right)\\right) - s_{t} \\left(c_{b} \\sqrt{c_{t} + 1} \\left(\\left(c_{t} - 1\\right) \\left(2 c_{t} + 1\\right) + 2\\right) + s_{b} \\sqrt{1 - c_{t}} \\left(- 3 c_{t} + 2 \\left(c_{t} + 1\\right)^{2} + 1\\right)\\right)\\right) - s_{t} \\sqrt{c_{t} + 1} \\left(c_{t} \\left(c_{b} \\left(3 c_{t} + 2 \\left(c_{t} - 1\\right)^{2} - 5\\right) + s_{b} \\sqrt{1 - c_{t}} \\sqrt{c_{t} + 1} \\left(2 c_{t} - 1\\right)\\right) + s_{t} \\left(c_{b} \\sqrt{1 - c_{t}} \\sqrt{c_{t} + 1} \\left(2 c_{t} - 1\\right) - s_{b} \\left(3 c_{t} + 2 \\left(c_{t} - 1\\right)^{2} - 1\\right)\\right)\\right)\\right)}{4} & - \\frac{\\sqrt{2} \\sigma_x c_{b} \\left(c_{t} \\sqrt{c_{t} + 1} \\left(c_{t} \\left(c_{b} \\left(3 c_{t} + 2 \\left(c_{t} - 1\\right)^{2} - 5\\right) + s_{b} \\sqrt{1 - c_{t}} \\sqrt{c_{t} + 1} \\left(2 c_{t} - 1\\right)\\right) + s_{t} \\left(c_{b} \\sqrt{1 - c_{t}} \\sqrt{c_{t} + 1} \\left(2 c_{t} - 1\\right) - s_{b} \\left(3 c_{t} + 2 \\left(c_{t} - 1\\right)^{2} - 1\\right)\\right)\\right) + s_{t} \\left(c_{t} \\sqrt{c_{t} + 1} \\left(c_{b} \\sqrt{1 - c_{t}} \\sqrt{c_{t} + 1} \\left(2 c_{t} - 1\\right) - s_{b} \\left(3 c_{t} + 2 \\left(c_{t} - 1\\right)^{2} - 1\\right)\\right) - s_{t} \\left(c_{b} \\sqrt{c_{t} + 1} \\left(\\left(c_{t} - 1\\right) \\left(2 c_{t} + 1\\right) + 2\\right) + s_{b} \\sqrt{1 - c_{t}} \\left(- 3 c_{t} + 2 \\left(c_{t} + 1\\right)^{2} + 1\\right)\\right)\\right)\\right)}{4}\\end{matrix}\\right]$"
      ],
      "text/plain": [
       "⎡               ⎛   ⎛   ⎛      ________                                   ____\n",
       "⎢√2⋅\\sigmaₓ⋅c_b⋅⎝cₜ⋅⎝cₜ⋅⎝c_b⋅╲╱ cₜ + 1 ⋅((cₜ - 1)⋅(2⋅cₜ + 1) + 2) + s_b⋅╲╱ 1 -\n",
       "⎢─────────────────────────────────────────────────────────────────────────────\n",
       "⎢                                                                             \n",
       "⎢                                                                             \n",
       "⎢               ⎛   ⎛     ________ ⎛      ________   ________                 \n",
       "⎢√2⋅\\sigmaₓ⋅c_b⋅⎝cₜ⋅⎝cₜ⋅╲╱ cₜ + 1 ⋅⎝c_b⋅╲╱ 1 - cₜ ⋅╲╱ cₜ + 1 ⋅(2⋅cₜ - 1) - s_b\n",
       "⎢─────────────────────────────────────────────────────────────────────────────\n",
       "⎣                                                                             \n",
       "\n",
       "____ ⎛                  2    ⎞⎞        ________ ⎛      ________   ________    \n",
       " cₜ ⋅⎝-3⋅cₜ + 2⋅(cₜ + 1)  + 1⎠⎠ + sₜ⋅╲╱ cₜ + 1 ⋅⎝c_b⋅╲╱ 1 - cₜ ⋅╲╱ cₜ + 1 ⋅(2⋅\n",
       "──────────────────────────────────────────────────────────────────────────────\n",
       "                                                                              \n",
       "                                                                              \n",
       " ⎛                 2    ⎞⎞      ⎛      ________                               \n",
       "⋅⎝3⋅cₜ + 2⋅(cₜ - 1)  - 1⎠⎠ - sₜ⋅⎝c_b⋅╲╱ cₜ + 1 ⋅((cₜ - 1)⋅(2⋅cₜ + 1) + 2) + s_\n",
       "──────────────────────────────────────────────────────────────────────────────\n",
       "                                                                              \n",
       "\n",
       "              ⎛                 2    ⎞⎞⎞        ________ ⎛   ⎛      ________  \n",
       "cₜ - 1) - s_b⋅⎝3⋅cₜ + 2⋅(cₜ - 1)  - 1⎠⎠⎠ + sₜ⋅╲╱ cₜ + 1 ⋅⎝cₜ⋅⎝c_b⋅╲╱ 1 - cₜ ⋅╲\n",
       "──────────────────────────────────────────────────────────────────────────────\n",
       "                         4                                                    \n",
       "                                                                              \n",
       "    ________ ⎛                  2    ⎞⎞⎞        ________ ⎛   ⎛    ⎛           \n",
       "b⋅╲╱ 1 - cₜ ⋅⎝-3⋅cₜ + 2⋅(cₜ + 1)  + 1⎠⎠⎠ - sₜ⋅╲╱ cₜ + 1 ⋅⎝cₜ⋅⎝c_b⋅⎝3⋅cₜ + 2⋅(c\n",
       "──────────────────────────────────────────────────────────────────────────────\n",
       "                         4                                                    \n",
       "\n",
       " ________                  ⎛                 2    ⎞⎞      ⎛    ⎛              \n",
       "╱ cₜ + 1 ⋅(2⋅cₜ - 1) - s_b⋅⎝3⋅cₜ + 2⋅(cₜ - 1)  - 1⎠⎠ - sₜ⋅⎝c_b⋅⎝3⋅cₜ + 2⋅(cₜ -\n",
       "──────────────────────────────────────────────────────────────────────────────\n",
       "                                                                              \n",
       "                                                                              \n",
       "      2    ⎞         ________   ________           ⎞      ⎛      ________   __\n",
       "ₜ - 1)  - 5⎠ + s_b⋅╲╱ 1 - cₜ ⋅╲╱ cₜ + 1 ⋅(2⋅cₜ - 1)⎠ + sₜ⋅⎝c_b⋅╲╱ 1 - cₜ ⋅╲╱ c\n",
       "──────────────────────────────────────────────────────────────────────────────\n",
       "                                                                              \n",
       "\n",
       "   2    ⎞         ________   ________           ⎞⎞⎞                  ⎛     ___\n",
       " 1)  - 5⎠ + s_b⋅╲╱ 1 - cₜ ⋅╲╱ cₜ + 1 ⋅(2⋅cₜ - 1)⎠⎠⎠   √2⋅\\sigmaₓ⋅c_b⋅⎝cₜ⋅╲╱ cₜ\n",
       "───────────────────────────────────────────────────   ────────────────────────\n",
       "                                                                              \n",
       "                                                                              \n",
       "______                  ⎛                 2    ⎞⎞⎞⎞                  ⎛     ___\n",
       "ₜ + 1 ⋅(2⋅cₜ - 1) - s_b⋅⎝3⋅cₜ + 2⋅(cₜ - 1)  - 1⎠⎠⎠⎠  -√2⋅\\sigmaₓ⋅c_b⋅⎝cₜ⋅╲╱ cₜ\n",
       "───────────────────────────────────────────────────  ─────────────────────────\n",
       "                                                                              \n",
       "\n",
       "_____ ⎛   ⎛      ________   ________                  ⎛                 2    ⎞\n",
       " + 1 ⋅⎝cₜ⋅⎝c_b⋅╲╱ 1 - cₜ ⋅╲╱ cₜ + 1 ⋅(2⋅cₜ - 1) - s_b⋅⎝3⋅cₜ + 2⋅(cₜ - 1)  - 1⎠\n",
       "──────────────────────────────────────────────────────────────────────────────\n",
       "                                                                              \n",
       "                                                                              \n",
       "_____ ⎛   ⎛    ⎛                 2    ⎞         ________   ________           \n",
       " + 1 ⋅⎝cₜ⋅⎝c_b⋅⎝3⋅cₜ + 2⋅(cₜ - 1)  - 5⎠ + s_b⋅╲╱ 1 - cₜ ⋅╲╱ cₜ + 1 ⋅(2⋅cₜ - 1)\n",
       "──────────────────────────────────────────────────────────────────────────────\n",
       "                                                                              \n",
       "\n",
       "⎞      ⎛    ⎛                 2    ⎞         ________   ________           ⎞⎞ \n",
       "⎠ - sₜ⋅⎝c_b⋅⎝3⋅cₜ + 2⋅(cₜ - 1)  - 5⎠ + s_b⋅╲╱ 1 - cₜ ⋅╲╱ cₜ + 1 ⋅(2⋅cₜ - 1)⎠⎠ \n",
       "──────────────────────────────────────────────────────────────────────────────\n",
       "                                                                              \n",
       "                                                                              \n",
       "⎞      ⎛      ________   ________                  ⎛                 2    ⎞⎞⎞ \n",
       "⎠ + sₜ⋅⎝c_b⋅╲╱ 1 - cₜ ⋅╲╱ cₜ + 1 ⋅(2⋅cₜ - 1) - s_b⋅⎝3⋅cₜ + 2⋅(cₜ - 1)  - 1⎠⎠⎠ \n",
       "──────────────────────────────────────────────────────────────────────────────\n",
       "                                                                              \n",
       "\n",
       "     ⎛   ⎛      ________                                   ________ ⎛         \n",
       "- sₜ⋅⎝cₜ⋅⎝c_b⋅╲╱ cₜ + 1 ⋅((cₜ - 1)⋅(2⋅cₜ + 1) + 2) + s_b⋅╲╱ 1 - cₜ ⋅⎝-3⋅cₜ + 2\n",
       "──────────────────────────────────────────────────────────────────────────────\n",
       "4                                                                             \n",
       "                                                                              \n",
       "     ⎛     ________ ⎛      ________   ________                  ⎛             \n",
       "+ sₜ⋅⎝cₜ⋅╲╱ cₜ + 1 ⋅⎝c_b⋅╲╱ 1 - cₜ ⋅╲╱ cₜ + 1 ⋅(2⋅cₜ - 1) - s_b⋅⎝3⋅cₜ + 2⋅(cₜ \n",
       "──────────────────────────────────────────────────────────────────────────────\n",
       "4                                                                             \n",
       "\n",
       "         2    ⎞⎞        ________ ⎛      ________   ________                  ⎛\n",
       "⋅(cₜ + 1)  + 1⎠⎠ + sₜ⋅╲╱ cₜ + 1 ⋅⎝c_b⋅╲╱ 1 - cₜ ⋅╲╱ cₜ + 1 ⋅(2⋅cₜ - 1) - s_b⋅⎝\n",
       "──────────────────────────────────────────────────────────────────────────────\n",
       "                                                                              \n",
       "                                                                              \n",
       "    2    ⎞⎞      ⎛      ________                                   ________ ⎛ \n",
       "- 1)  - 1⎠⎠ - sₜ⋅⎝c_b⋅╲╱ cₜ + 1 ⋅((cₜ - 1)⋅(2⋅cₜ + 1) + 2) + s_b⋅╲╱ 1 - cₜ ⋅⎝-\n",
       "──────────────────────────────────────────────────────────────────────────────\n",
       "                                                                              \n",
       "\n",
       "                 2    ⎞⎞⎞⎞ ⎤\n",
       "3⋅cₜ + 2⋅(cₜ - 1)  - 1⎠⎠⎠⎠ ⎥\n",
       "────────────────────────── ⎥\n",
       "                           ⎥\n",
       "                           ⎥\n",
       "                 2    ⎞⎞⎞⎞ ⎥\n",
       "3⋅cₜ + 2⋅(cₜ + 1)  + 1⎠⎠⎠⎠ ⎥\n",
       "───────────────────────────⎥\n",
       "                           ⎦"
      ]
     },
     "execution_count": 19,
     "metadata": {},
     "output_type": "execute_result"
    }
   ],
   "source": [
    "sig_p = T_t.T * sigmaa * T_t\n",
    "sig_sim = sp.simplify(sig_p)\n",
    "sig_sim"
   ]
  },
  {
   "cell_type": "markdown",
   "metadata": {},
   "source": [
    "Replacing sine component with cosine for transforming the equation into a single trignometric ratio for simpicity."
   ]
  },
  {
   "cell_type": "code",
   "execution_count": 20,
   "metadata": {},
   "outputs": [
    {
     "data": {
      "image/png": "[encoded data removed]",
      "text/latex": [
       "$\\displaystyle \\left[\\begin{matrix}\\frac{\\sqrt{2} \\sigma_x c_{b} \\left(c_{t} \\left(c_{t} \\left(c_{b} \\sqrt{c_{t} + 1} \\left(\\left(c_{t} - 1\\right) \\left(2 c_{t} + 1\\right) + 2\\right) + s_{b} \\sqrt{1 - c_{t}} \\left(- 3 c_{t} + 2 \\left(c_{t} + 1\\right)^{2} + 1\\right)\\right) + \\sqrt{1 - c_{t}^{2}} \\sqrt{c_{t} + 1} \\left(c_{b} \\sqrt{1 - c_{t}} \\sqrt{c_{t} + 1} \\left(2 c_{t} - 1\\right) - s_{b} \\left(3 c_{t} + 2 \\left(c_{t} - 1\\right)^{2} - 1\\right)\\right)\\right) + \\sqrt{1 - c_{t}^{2}} \\sqrt{c_{t} + 1} \\left(c_{t} \\left(c_{b} \\sqrt{1 - c_{t}} \\sqrt{c_{t} + 1} \\left(2 c_{t} - 1\\right) - s_{b} \\left(3 c_{t} + 2 \\left(c_{t} - 1\\right)^{2} - 1\\right)\\right) - \\sqrt{1 - c_{t}^{2}} \\left(c_{b} \\left(3 c_{t} + 2 \\left(c_{t} - 1\\right)^{2} - 5\\right) + s_{b} \\sqrt{1 - c_{t}} \\sqrt{c_{t} + 1} \\left(2 c_{t} - 1\\right)\\right)\\right)\\right)}{4} & \\frac{\\sqrt{2} \\sigma_x c_{b} \\left(c_{t} \\sqrt{c_{t} + 1} \\left(c_{t} \\left(c_{b} \\sqrt{1 - c_{t}} \\sqrt{c_{t} + 1} \\left(2 c_{t} - 1\\right) - s_{b} \\left(3 c_{t} + 2 \\left(c_{t} - 1\\right)^{2} - 1\\right)\\right) - \\sqrt{1 - c_{t}^{2}} \\left(c_{b} \\left(3 c_{t} + 2 \\left(c_{t} - 1\\right)^{2} - 5\\right) + s_{b} \\sqrt{1 - c_{t}} \\sqrt{c_{t} + 1} \\left(2 c_{t} - 1\\right)\\right)\\right) - \\sqrt{1 - c_{t}^{2}} \\left(c_{t} \\left(c_{b} \\sqrt{c_{t} + 1} \\left(\\left(c_{t} - 1\\right) \\left(2 c_{t} + 1\\right) + 2\\right) + s_{b} \\sqrt{1 - c_{t}} \\left(- 3 c_{t} + 2 \\left(c_{t} + 1\\right)^{2} + 1\\right)\\right) + \\sqrt{1 - c_{t}^{2}} \\sqrt{c_{t} + 1} \\left(c_{b} \\sqrt{1 - c_{t}} \\sqrt{c_{t} + 1} \\left(2 c_{t} - 1\\right) - s_{b} \\left(3 c_{t} + 2 \\left(c_{t} - 1\\right)^{2} - 1\\right)\\right)\\right)\\right)}{4}\\\\\\frac{\\sqrt{2} \\sigma_x c_{b} \\left(c_{t} \\left(c_{t} \\sqrt{c_{t} + 1} \\left(c_{b} \\sqrt{1 - c_{t}} \\sqrt{c_{t} + 1} \\left(2 c_{t} - 1\\right) - s_{b} \\left(3 c_{t} + 2 \\left(c_{t} - 1\\right)^{2} - 1\\right)\\right) - \\sqrt{1 - c_{t}^{2}} \\left(c_{b} \\sqrt{c_{t} + 1} \\left(\\left(c_{t} - 1\\right) \\left(2 c_{t} + 1\\right) + 2\\right) + s_{b} \\sqrt{1 - c_{t}} \\left(- 3 c_{t} + 2 \\left(c_{t} + 1\\right)^{2} + 1\\right)\\right)\\right) - \\sqrt{1 - c_{t}^{2}} \\sqrt{c_{t} + 1} \\left(c_{t} \\left(c_{b} \\left(3 c_{t} + 2 \\left(c_{t} - 1\\right)^{2} - 5\\right) + s_{b} \\sqrt{1 - c_{t}} \\sqrt{c_{t} + 1} \\left(2 c_{t} - 1\\right)\\right) + \\sqrt{1 - c_{t}^{2}} \\left(c_{b} \\sqrt{1 - c_{t}} \\sqrt{c_{t} + 1} \\left(2 c_{t} - 1\\right) - s_{b} \\left(3 c_{t} + 2 \\left(c_{t} - 1\\right)^{2} - 1\\right)\\right)\\right)\\right)}{4} & - \\frac{\\sqrt{2} \\sigma_x c_{b} \\left(c_{t} \\sqrt{c_{t} + 1} \\left(c_{t} \\left(c_{b} \\left(3 c_{t} + 2 \\left(c_{t} - 1\\right)^{2} - 5\\right) + s_{b} \\sqrt{1 - c_{t}} \\sqrt{c_{t} + 1} \\left(2 c_{t} - 1\\right)\\right) + \\sqrt{1 - c_{t}^{2}} \\left(c_{b} \\sqrt{1 - c_{t}} \\sqrt{c_{t} + 1} \\left(2 c_{t} - 1\\right) - s_{b} \\left(3 c_{t} + 2 \\left(c_{t} - 1\\right)^{2} - 1\\right)\\right)\\right) + \\sqrt{1 - c_{t}^{2}} \\left(c_{t} \\sqrt{c_{t} + 1} \\left(c_{b} \\sqrt{1 - c_{t}} \\sqrt{c_{t} + 1} \\left(2 c_{t} - 1\\right) - s_{b} \\left(3 c_{t} + 2 \\left(c_{t} - 1\\right)^{2} - 1\\right)\\right) - \\sqrt{1 - c_{t}^{2}} \\left(c_{b} \\sqrt{c_{t} + 1} \\left(\\left(c_{t} - 1\\right) \\left(2 c_{t} + 1\\right) + 2\\right) + s_{b} \\sqrt{1 - c_{t}} \\left(- 3 c_{t} + 2 \\left(c_{t} + 1\\right)^{2} + 1\\right)\\right)\\right)\\right)}{4}\\end{matrix}\\right]$"
      ],
      "text/plain": [
       "⎡               ⎛   ⎛                                                         \n",
       "⎢               ⎜   ⎜   ⎛      ________                                   ____\n",
       "⎢√2⋅\\sigmaₓ⋅c_b⋅⎝cₜ⋅⎝cₜ⋅⎝c_b⋅╲╱ cₜ + 1 ⋅((cₜ - 1)⋅(2⋅cₜ + 1) + 2) + s_b⋅╲╱ 1 -\n",
       "⎢─────────────────────────────────────────────────────────────────────────────\n",
       "⎢                                                                             \n",
       "⎢                                                                             \n",
       "⎢               ⎛   ⎛                                                         \n",
       "⎢               ⎜   ⎜     ________ ⎛      ________   ________                 \n",
       "⎢√2⋅\\sigmaₓ⋅c_b⋅⎝cₜ⋅⎝cₜ⋅╲╱ cₜ + 1 ⋅⎝c_b⋅╲╱ 1 - cₜ ⋅╲╱ cₜ + 1 ⋅(2⋅cₜ - 1) - s_b\n",
       "⎢─────────────────────────────────────────────────────────────────────────────\n",
       "⎣                                                                             \n",
       "\n",
       "                                     _________                                \n",
       "____ ⎛                  2    ⎞⎞     ╱       2    ________ ⎛      ________   __\n",
       " cₜ ⋅⎝-3⋅cₜ + 2⋅(cₜ + 1)  + 1⎠⎠ + ╲╱  1 - cₜ  ⋅╲╱ cₜ + 1 ⋅⎝c_b⋅╲╱ 1 - cₜ ⋅╲╱ c\n",
       "──────────────────────────────────────────────────────────────────────────────\n",
       "                                                                              \n",
       "                                                                              \n",
       "                                _________                                     \n",
       " ⎛                 2    ⎞⎞     ╱       2  ⎛      ________                     \n",
       "⋅⎝3⋅cₜ + 2⋅(cₜ - 1)  - 1⎠⎠ - ╲╱  1 - cₜ  ⋅⎝c_b⋅╲╱ cₜ + 1 ⋅((cₜ - 1)⋅(2⋅cₜ + 1)\n",
       "──────────────────────────────────────────────────────────────────────────────\n",
       "                                                                              \n",
       "\n",
       "                                                 ⎞      _________            ⎛\n",
       "______                  ⎛                 2    ⎞⎞⎟     ╱       2    ________ ⎜\n",
       "ₜ + 1 ⋅(2⋅cₜ - 1) - s_b⋅⎝3⋅cₜ + 2⋅(cₜ - 1)  - 1⎠⎠⎠ + ╲╱  1 - cₜ  ⋅╲╱ cₜ + 1 ⋅⎝\n",
       "──────────────────────────────────────────────────────────────────────────────\n",
       "                                        4                                     \n",
       "                                                                              \n",
       "                                                 ⎞      _________            ⎛\n",
       "              ________ ⎛                  2    ⎞⎞⎟     ╱       2    ________ ⎜\n",
       " + 2) + s_b⋅╲╱ 1 - cₜ ⋅⎝-3⋅cₜ + 2⋅(cₜ + 1)  + 1⎠⎠⎠ - ╲╱  1 - cₜ  ⋅╲╱ cₜ + 1 ⋅⎝\n",
       "──────────────────────────────────────────────────────────────────────────────\n",
       "                                        4                                     \n",
       "\n",
       "                                                                              \n",
       "   ⎛      ________   ________                  ⎛                 2    ⎞⎞     ╱\n",
       "cₜ⋅⎝c_b⋅╲╱ 1 - cₜ ⋅╲╱ cₜ + 1 ⋅(2⋅cₜ - 1) - s_b⋅⎝3⋅cₜ + 2⋅(cₜ - 1)  - 1⎠⎠ - ╲╱ \n",
       "──────────────────────────────────────────────────────────────────────────────\n",
       "                                                                              \n",
       "                                                                              \n",
       "                                                                              \n",
       "   ⎛    ⎛                 2    ⎞         ________   ________           ⎞     ╱\n",
       "cₜ⋅⎝c_b⋅⎝3⋅cₜ + 2⋅(cₜ - 1)  - 5⎠ + s_b⋅╲╱ 1 - cₜ ⋅╲╱ cₜ + 1 ⋅(2⋅cₜ - 1)⎠ + ╲╱ \n",
       "──────────────────────────────────────────────────────────────────────────────\n",
       "                                                                              \n",
       "\n",
       "_________                                                                     \n",
       "       2  ⎛    ⎛                 2    ⎞         ________   ________           \n",
       " 1 - cₜ  ⋅⎝c_b⋅⎝3⋅cₜ + 2⋅(cₜ - 1)  - 5⎠ + s_b⋅╲╱ 1 - cₜ ⋅╲╱ cₜ + 1 ⋅(2⋅cₜ - 1)\n",
       "──────────────────────────────────────────────────────────────────────────────\n",
       "                                                                              \n",
       "                                                                              \n",
       "_________                                                                     \n",
       "       2  ⎛      ________   ________                  ⎛                 2    ⎞\n",
       " 1 - cₜ  ⋅⎝c_b⋅╲╱ 1 - cₜ ⋅╲╱ cₜ + 1 ⋅(2⋅cₜ - 1) - s_b⋅⎝3⋅cₜ + 2⋅(cₜ - 1)  - 1⎠\n",
       "──────────────────────────────────────────────────────────────────────────────\n",
       "                                                                              \n",
       "\n",
       " ⎞⎞                  ⎛              ⎛                                         \n",
       "⎞⎟⎟                  ⎜     ________ ⎜   ⎛      ________   ________            \n",
       "⎠⎠⎠   √2⋅\\sigmaₓ⋅c_b⋅⎝cₜ⋅╲╱ cₜ + 1 ⋅⎝cₜ⋅⎝c_b⋅╲╱ 1 - cₜ ⋅╲╱ cₜ + 1 ⋅(2⋅cₜ - 1) \n",
       "───   ────────────────────────────────────────────────────────────────────────\n",
       "                                                                              \n",
       "                                                                              \n",
       " ⎞⎞                  ⎛              ⎛                                         \n",
       "⎞⎟⎟                  ⎜     ________ ⎜   ⎛    ⎛                 2    ⎞         \n",
       "⎠⎠⎠  -√2⋅\\sigmaₓ⋅c_b⋅⎝cₜ⋅╲╱ cₜ + 1 ⋅⎝cₜ⋅⎝c_b⋅⎝3⋅cₜ + 2⋅(cₜ - 1)  - 5⎠ + s_b⋅╲╱\n",
       "───  ─────────────────────────────────────────────────────────────────────────\n",
       "                                                                              \n",
       "\n",
       "                                     _________                                \n",
       "      ⎛                 2    ⎞⎞     ╱       2  ⎛    ⎛                 2    ⎞  \n",
       "- s_b⋅⎝3⋅cₜ + 2⋅(cₜ - 1)  - 1⎠⎠ - ╲╱  1 - cₜ  ⋅⎝c_b⋅⎝3⋅cₜ + 2⋅(cₜ - 1)  - 5⎠ +\n",
       "──────────────────────────────────────────────────────────────────────────────\n",
       "                                                                              \n",
       "                                                                              \n",
       "                                     _________                                \n",
       "________   ________           ⎞     ╱       2  ⎛      ________   ________     \n",
       " 1 - cₜ ⋅╲╱ cₜ + 1 ⋅(2⋅cₜ - 1)⎠ + ╲╱  1 - cₜ  ⋅⎝c_b⋅╲╱ 1 - cₜ ⋅╲╱ cₜ + 1 ⋅(2⋅c\n",
       "──────────────────────────────────────────────────────────────────────────────\n",
       "                                                                              \n",
       "\n",
       "                                      ⎞      _________ ⎛                      \n",
       "       ________   ________           ⎞⎟     ╱       2  ⎜   ⎛      ________    \n",
       " s_b⋅╲╱ 1 - cₜ ⋅╲╱ cₜ + 1 ⋅(2⋅cₜ - 1)⎠⎠ - ╲╱  1 - cₜ  ⋅⎝cₜ⋅⎝c_b⋅╲╱ cₜ + 1 ⋅((c\n",
       "──────────────────────────────────────────────────────────────────────────────\n",
       "                                             4                                \n",
       "                                                                              \n",
       "                                      ⎞      _________ ⎛                      \n",
       "             ⎛                 2    ⎞⎞⎟     ╱       2  ⎜     ________ ⎛      _\n",
       "ₜ - 1) - s_b⋅⎝3⋅cₜ + 2⋅(cₜ - 1)  - 1⎠⎠⎠ + ╲╱  1 - cₜ  ⋅⎝cₜ⋅╲╱ cₜ + 1 ⋅⎝c_b⋅╲╱ \n",
       "──────────────────────────────────────────────────────────────────────────────\n",
       "                                             4                                \n",
       "\n",
       "                                                                        ______\n",
       "                               ________ ⎛                  2    ⎞⎞     ╱      \n",
       "ₜ - 1)⋅(2⋅cₜ + 1) + 2) + s_b⋅╲╱ 1 - cₜ ⋅⎝-3⋅cₜ + 2⋅(cₜ + 1)  + 1⎠⎠ + ╲╱  1 - c\n",
       "──────────────────────────────────────────────────────────────────────────────\n",
       "                                                                              \n",
       "                                                                              \n",
       "                                                                   _________  \n",
       "_______   ________                  ⎛                 2    ⎞⎞     ╱       2  ⎛\n",
       "1 - cₜ ⋅╲╱ cₜ + 1 ⋅(2⋅cₜ - 1) - s_b⋅⎝3⋅cₜ + 2⋅(cₜ - 1)  - 1⎠⎠ - ╲╱  1 - cₜ  ⋅⎝\n",
       "──────────────────────────────────────────────────────────────────────────────\n",
       "                                                                              \n",
       "\n",
       "___                                                                           \n",
       " 2    ________ ⎛      ________   ________                  ⎛                 2\n",
       "ₜ  ⋅╲╱ cₜ + 1 ⋅⎝c_b⋅╲╱ 1 - cₜ ⋅╲╱ cₜ + 1 ⋅(2⋅cₜ - 1) - s_b⋅⎝3⋅cₜ + 2⋅(cₜ - 1) \n",
       "──────────────────────────────────────────────────────────────────────────────\n",
       "                                                                              \n",
       "                                                                              \n",
       "                                                                              \n",
       "      ________                                   ________ ⎛                  2\n",
       "c_b⋅╲╱ cₜ + 1 ⋅((cₜ - 1)⋅(2⋅cₜ + 1) + 2) + s_b⋅╲╱ 1 - cₜ ⋅⎝-3⋅cₜ + 2⋅(cₜ + 1) \n",
       "──────────────────────────────────────────────────────────────────────────────\n",
       "                                                                              \n",
       "\n",
       "      ⎞⎞ ⎤\n",
       "    ⎞⎞⎟⎟ ⎥\n",
       " - 1⎠⎠⎠⎠ ⎥\n",
       "──────── ⎥\n",
       "         ⎥\n",
       "         ⎥\n",
       "      ⎞⎞ ⎥\n",
       "    ⎞⎞⎟⎟ ⎥\n",
       " + 1⎠⎠⎠⎠ ⎥\n",
       "─────────⎥\n",
       "         ⎦"
      ]
     },
     "execution_count": 20,
     "metadata": {},
     "output_type": "execute_result"
    }
   ],
   "source": [
    "s_t_ = sp.sqrt(1 - c_t**2)\n",
    "sig = sig_sim.subs(s_t, s_t_)\n",
    "sig"
   ]
  },
  {
   "cell_type": "code",
   "execution_count": 21,
   "metadata": {
    "scrolled": true
   },
   "outputs": [
    {
     "data": {
      "image/png": "[encoded data removed]",
      "text/latex": [
       "$\\displaystyle \\left[\\begin{matrix}\\frac{\\sqrt{2} \\sigma_x c_{b} \\left(c_{t} \\left(c_{t} \\left(c_{b} \\sqrt{c_{t} + 1} \\left(\\left(c_{t} - 1\\right) \\left(2 c_{t} + 1\\right) + 2\\right) + s_{b} \\sqrt{1 - c_{t}} \\left(- 3 c_{t} + 2 \\left(c_{t} + 1\\right)^{2} + 1\\right)\\right) + \\sqrt{1 - c_{t}^{2}} \\sqrt{c_{t} + 1} \\left(c_{b} \\sqrt{1 - c_{t}} \\sqrt{c_{t} + 1} \\left(2 c_{t} - 1\\right) - s_{b} \\left(3 c_{t} + 2 \\left(c_{t} - 1\\right)^{2} - 1\\right)\\right)\\right) + \\sqrt{1 - c_{t}^{2}} \\sqrt{c_{t} + 1} \\left(c_{t} \\left(c_{b} \\sqrt{1 - c_{t}} \\sqrt{c_{t} + 1} \\left(2 c_{t} - 1\\right) - s_{b} \\left(3 c_{t} + 2 \\left(c_{t} - 1\\right)^{2} - 1\\right)\\right) - \\sqrt{1 - c_{t}^{2}} \\left(c_{b} \\left(3 c_{t} + 2 \\left(c_{t} - 1\\right)^{2} - 5\\right) + s_{b} \\sqrt{1 - c_{t}} \\sqrt{c_{t} + 1} \\left(2 c_{t} - 1\\right)\\right)\\right)\\right)}{4} & \\frac{\\sqrt{2} \\sigma_x c_{b} \\left(c_{t} \\sqrt{c_{t} + 1} \\left(c_{t} \\left(c_{b} \\sqrt{1 - c_{t}} \\sqrt{c_{t} + 1} \\left(2 c_{t} - 1\\right) - s_{b} \\left(3 c_{t} + 2 \\left(c_{t} - 1\\right)^{2} - 1\\right)\\right) - \\sqrt{1 - c_{t}^{2}} \\left(c_{b} \\left(3 c_{t} + 2 \\left(c_{t} - 1\\right)^{2} - 5\\right) + s_{b} \\sqrt{1 - c_{t}} \\sqrt{c_{t} + 1} \\left(2 c_{t} - 1\\right)\\right)\\right) + \\sqrt{1 - c_{t}^{2}} \\left(- c_{t} \\left(c_{b} \\sqrt{c_{t} + 1} \\left(\\left(c_{t} - 1\\right) \\left(2 c_{t} + 1\\right) + 2\\right) + s_{b} \\sqrt{1 - c_{t}} \\left(- 3 c_{t} + 2 \\left(c_{t} + 1\\right)^{2} + 1\\right)\\right) + \\sqrt{1 - c_{t}^{2}} \\sqrt{c_{t} + 1} \\left(- c_{b} \\sqrt{1 - c_{t}} \\sqrt{c_{t} + 1} \\left(2 c_{t} - 1\\right) + s_{b} \\left(3 c_{t} + 2 \\left(c_{t} - 1\\right)^{2} - 1\\right)\\right)\\right)\\right)}{4}\\\\\\frac{\\sqrt{2} \\sigma_x c_{b} \\left(c_{t} \\left(c_{t} \\sqrt{c_{t} + 1} \\left(c_{b} \\sqrt{1 - c_{t}} \\sqrt{c_{t} + 1} \\left(2 c_{t} - 1\\right) - s_{b} \\left(3 c_{t} + 2 \\left(c_{t} - 1\\right)^{2} - 1\\right)\\right) - \\sqrt{1 - c_{t}^{2}} \\left(c_{b} \\sqrt{c_{t} + 1} \\left(\\left(c_{t} - 1\\right) \\left(2 c_{t} + 1\\right) + 2\\right) + s_{b} \\sqrt{1 - c_{t}} \\left(- 3 c_{t} + 2 \\left(c_{t} + 1\\right)^{2} + 1\\right)\\right)\\right) + \\sqrt{1 - c_{t}^{2}} \\sqrt{c_{t} + 1} \\left(- c_{t} \\left(c_{b} \\left(3 c_{t} + 2 \\left(c_{t} - 1\\right)^{2} - 5\\right) + s_{b} \\sqrt{1 - c_{t}} \\sqrt{c_{t} + 1} \\left(2 c_{t} - 1\\right)\\right) + \\sqrt{1 - c_{t}^{2}} \\left(- c_{b} \\sqrt{1 - c_{t}} \\sqrt{c_{t} + 1} \\left(2 c_{t} - 1\\right) + s_{b} \\left(3 c_{t} + 2 \\left(c_{t} - 1\\right)^{2} - 1\\right)\\right)\\right)\\right)}{4} & - \\frac{\\sqrt{2} \\sigma_x c_{b} \\left(c_{t} \\sqrt{c_{t} + 1} \\left(c_{t} \\left(c_{b} \\left(3 c_{t} + 2 \\left(c_{t} - 1\\right)^{2} - 5\\right) + s_{b} \\sqrt{1 - c_{t}} \\sqrt{c_{t} + 1} \\left(2 c_{t} - 1\\right)\\right) + \\sqrt{1 - c_{t}^{2}} \\left(c_{b} \\sqrt{1 - c_{t}} \\sqrt{c_{t} + 1} \\left(2 c_{t} - 1\\right) - s_{b} \\left(3 c_{t} + 2 \\left(c_{t} - 1\\right)^{2} - 1\\right)\\right)\\right) + \\sqrt{1 - c_{t}^{2}} \\left(c_{t} \\sqrt{c_{t} + 1} \\left(c_{b} \\sqrt{1 - c_{t}} \\sqrt{c_{t} + 1} \\left(2 c_{t} - 1\\right) - s_{b} \\left(3 c_{t} + 2 \\left(c_{t} - 1\\right)^{2} - 1\\right)\\right) - \\sqrt{1 - c_{t}^{2}} \\left(c_{b} \\sqrt{c_{t} + 1} \\left(\\left(c_{t} - 1\\right) \\left(2 c_{t} + 1\\right) + 2\\right) + s_{b} \\sqrt{1 - c_{t}} \\left(- 3 c_{t} + 2 \\left(c_{t} + 1\\right)^{2} + 1\\right)\\right)\\right)\\right)}{4}\\end{matrix}\\right]$"
      ],
      "text/plain": [
       "⎡                 ⎛   ⎛                                                       \n",
       "⎢                 ⎜   ⎜   ⎛      ________                                   __\n",
       "⎢  √2⋅\\sigmaₓ⋅c_b⋅⎝cₜ⋅⎝cₜ⋅⎝c_b⋅╲╱ cₜ + 1 ⋅((cₜ - 1)⋅(2⋅cₜ + 1) + 2) + s_b⋅╲╱ 1\n",
       "⎢  ───────────────────────────────────────────────────────────────────────────\n",
       "⎢                                                                             \n",
       "⎢                                                                             \n",
       "⎢               ⎛   ⎛                                                         \n",
       "⎢               ⎜   ⎜     ________ ⎛      ________   ________                 \n",
       "⎢√2⋅\\sigmaₓ⋅c_b⋅⎝cₜ⋅⎝cₜ⋅╲╱ cₜ + 1 ⋅⎝c_b⋅╲╱ 1 - cₜ ⋅╲╱ cₜ + 1 ⋅(2⋅cₜ - 1) - s_b\n",
       "⎢─────────────────────────────────────────────────────────────────────────────\n",
       "⎣                                                                             \n",
       "\n",
       "                                       _________                              \n",
       "______ ⎛                  2    ⎞⎞     ╱       2    ________ ⎛      ________   \n",
       " - cₜ ⋅⎝-3⋅cₜ + 2⋅(cₜ + 1)  + 1⎠⎠ + ╲╱  1 - cₜ  ⋅╲╱ cₜ + 1 ⋅⎝c_b⋅╲╱ 1 - cₜ ⋅╲╱\n",
       "──────────────────────────────────────────────────────────────────────────────\n",
       "                                                                              \n",
       "                                                                              \n",
       "                                _________                                     \n",
       " ⎛                 2    ⎞⎞     ╱       2  ⎛      ________                     \n",
       "⋅⎝3⋅cₜ + 2⋅(cₜ - 1)  - 1⎠⎠ - ╲╱  1 - cₜ  ⋅⎝c_b⋅╲╱ cₜ + 1 ⋅((cₜ - 1)⋅(2⋅cₜ + 1)\n",
       "──────────────────────────────────────────────────────────────────────────────\n",
       "                                                                              \n",
       "\n",
       "                                                   ⎞      _________           \n",
       "________                  ⎛                 2    ⎞⎞⎟     ╱       2    ________\n",
       " cₜ + 1 ⋅(2⋅cₜ - 1) - s_b⋅⎝3⋅cₜ + 2⋅(cₜ - 1)  - 1⎠⎠⎠ + ╲╱  1 - cₜ  ⋅╲╱ cₜ + 1 \n",
       "──────────────────────────────────────────────────────────────────────────────\n",
       "                                          4                                   \n",
       "                                                                              \n",
       "                                                 ⎞      _________            ⎛\n",
       "              ________ ⎛                  2    ⎞⎞⎟     ╱       2    ________ ⎜\n",
       " + 2) + s_b⋅╲╱ 1 - cₜ ⋅⎝-3⋅cₜ + 2⋅(cₜ + 1)  + 1⎠⎠⎠ + ╲╱  1 - cₜ  ⋅╲╱ cₜ + 1 ⋅⎝\n",
       "──────────────────────────────────────────────────────────────────────────────\n",
       "                                          4                                   \n",
       "\n",
       " ⎛                                                                            \n",
       " ⎜   ⎛      ________   ________                  ⎛                 2    ⎞⎞    \n",
       "⋅⎝cₜ⋅⎝c_b⋅╲╱ 1 - cₜ ⋅╲╱ cₜ + 1 ⋅(2⋅cₜ - 1) - s_b⋅⎝3⋅cₜ + 2⋅(cₜ - 1)  - 1⎠⎠ - ╲\n",
       "──────────────────────────────────────────────────────────────────────────────\n",
       "                                                                              \n",
       "                                                                              \n",
       "                                                                              \n",
       "     ⎛    ⎛                 2    ⎞         ________   ________           ⎞    \n",
       "- cₜ⋅⎝c_b⋅⎝3⋅cₜ + 2⋅(cₜ - 1)  - 5⎠ + s_b⋅╲╱ 1 - cₜ ⋅╲╱ cₜ + 1 ⋅(2⋅cₜ - 1)⎠ + ╲\n",
       "──────────────────────────────────────────────────────────────────────────────\n",
       "                                                                              \n",
       "\n",
       "  _________                                                                   \n",
       " ╱       2  ⎛    ⎛                 2    ⎞         ________   ________         \n",
       "╱  1 - cₜ  ⋅⎝c_b⋅⎝3⋅cₜ + 2⋅(cₜ - 1)  - 5⎠ + s_b⋅╲╱ 1 - cₜ ⋅╲╱ cₜ + 1 ⋅(2⋅cₜ - \n",
       "──────────────────────────────────────────────────────────────────────────────\n",
       "                                                                              \n",
       "                                                                              \n",
       "  _________                                                                   \n",
       " ╱       2  ⎛        ________   ________                  ⎛                 2 \n",
       "╱  1 - cₜ  ⋅⎝- c_b⋅╲╱ 1 - cₜ ⋅╲╱ cₜ + 1 ⋅(2⋅cₜ - 1) + s_b⋅⎝3⋅cₜ + 2⋅(cₜ - 1)  \n",
       "──────────────────────────────────────────────────────────────────────────────\n",
       "                                                                              \n",
       "\n",
       "   ⎞⎞                   ⎛              ⎛                                      \n",
       "  ⎞⎟⎟                   ⎜     ________ ⎜   ⎛      ________   ________         \n",
       "1)⎠⎠⎠    √2⋅\\sigmaₓ⋅c_b⋅⎝cₜ⋅╲╱ cₜ + 1 ⋅⎝cₜ⋅⎝c_b⋅╲╱ 1 - cₜ ⋅╲╱ cₜ + 1 ⋅(2⋅cₜ - \n",
       "─────    ─────────────────────────────────────────────────────────────────────\n",
       "                                                                              \n",
       "                                                                              \n",
       "     ⎞⎞                   ⎛              ⎛                                    \n",
       "   ⎞⎞⎟⎟                   ⎜     ________ ⎜   ⎛    ⎛                 2    ⎞    \n",
       "- 1⎠⎠⎠⎠   -√2⋅\\sigmaₓ⋅c_b⋅⎝cₜ⋅╲╱ cₜ + 1 ⋅⎝cₜ⋅⎝c_b⋅⎝3⋅cₜ + 2⋅(cₜ - 1)  - 5⎠ + s\n",
       "───────   ────────────────────────────────────────────────────────────────────\n",
       "                                                                              \n",
       "\n",
       "                                        _________                             \n",
       "         ⎛                 2    ⎞⎞     ╱       2  ⎛    ⎛                 2    \n",
       "1) - s_b⋅⎝3⋅cₜ + 2⋅(cₜ - 1)  - 1⎠⎠ - ╲╱  1 - cₜ  ⋅⎝c_b⋅⎝3⋅cₜ + 2⋅(cₜ - 1)  - 5\n",
       "──────────────────────────────────────────────────────────────────────────────\n",
       "                                                                              \n",
       "                                                                              \n",
       "                                          _________                           \n",
       "     ________   ________           ⎞     ╱       2  ⎛      ________   ________\n",
       "_b⋅╲╱ 1 - cₜ ⋅╲╱ cₜ + 1 ⋅(2⋅cₜ - 1)⎠ + ╲╱  1 - cₜ  ⋅⎝c_b⋅╲╱ 1 - cₜ ⋅╲╱ cₜ + 1 \n",
       "──────────────────────────────────────────────────────────────────────────────\n",
       "                                                                              \n",
       "\n",
       "                                         ⎞      _________ ⎛                   \n",
       "⎞         ________   ________           ⎞⎟     ╱       2  ⎜     ⎛      _______\n",
       "⎠ + s_b⋅╲╱ 1 - cₜ ⋅╲╱ cₜ + 1 ⋅(2⋅cₜ - 1)⎠⎠ + ╲╱  1 - cₜ  ⋅⎝- cₜ⋅⎝c_b⋅╲╱ cₜ + 1\n",
       "──────────────────────────────────────────────────────────────────────────────\n",
       "                                                  4                           \n",
       "                                                                              \n",
       "                                           ⎞      _________ ⎛                 \n",
       "                  ⎛                 2    ⎞⎞⎟     ╱       2  ⎜     ________ ⎛  \n",
       "⋅(2⋅cₜ - 1) - s_b⋅⎝3⋅cₜ + 2⋅(cₜ - 1)  - 1⎠⎠⎠ + ╲╱  1 - cₜ  ⋅⎝cₜ⋅╲╱ cₜ + 1 ⋅⎝c_\n",
       "──────────────────────────────────────────────────────────────────────────────\n",
       "                                                  4                           \n",
       "\n",
       "                                                                             _\n",
       "_                                   ________ ⎛                  2    ⎞⎞     ╱ \n",
       " ⋅((cₜ - 1)⋅(2⋅cₜ + 1) + 2) + s_b⋅╲╱ 1 - cₜ ⋅⎝-3⋅cₜ + 2⋅(cₜ + 1)  + 1⎠⎠ + ╲╱  \n",
       "──────────────────────────────────────────────────────────────────────────────\n",
       "                                                                              \n",
       "                                                                              \n",
       "                                                                        ______\n",
       "    ________   ________                  ⎛                 2    ⎞⎞     ╱      \n",
       "b⋅╲╱ 1 - cₜ ⋅╲╱ cₜ + 1 ⋅(2⋅cₜ - 1) - s_b⋅⎝3⋅cₜ + 2⋅(cₜ - 1)  - 1⎠⎠ - ╲╱  1 - c\n",
       "──────────────────────────────────────────────────────────────────────────────\n",
       "                                                                              \n",
       "\n",
       "________                                                                      \n",
       "      2    ________ ⎛        ________   ________                  ⎛           \n",
       "1 - cₜ  ⋅╲╱ cₜ + 1 ⋅⎝- c_b⋅╲╱ 1 - cₜ ⋅╲╱ cₜ + 1 ⋅(2⋅cₜ - 1) + s_b⋅⎝3⋅cₜ + 2⋅(c\n",
       "──────────────────────────────────────────────────────────────────────────────\n",
       "                                                                              \n",
       "                                                                              \n",
       "___                                                                           \n",
       " 2  ⎛      ________                                   ________ ⎛              \n",
       "ₜ  ⋅⎝c_b⋅╲╱ cₜ + 1 ⋅((cₜ - 1)⋅(2⋅cₜ + 1) + 2) + s_b⋅╲╱ 1 - cₜ ⋅⎝-3⋅cₜ + 2⋅(cₜ \n",
       "──────────────────────────────────────────────────────────────────────────────\n",
       "                                                                              \n",
       "\n",
       "             ⎞⎞⎤\n",
       "      2    ⎞⎞⎟⎟⎥\n",
       "ₜ - 1)  - 1⎠⎠⎠⎠⎥\n",
       "───────────────⎥\n",
       "               ⎥\n",
       "               ⎥\n",
       "           ⎞⎞  ⎥\n",
       "    2    ⎞⎞⎟⎟  ⎥\n",
       "+ 1)  + 1⎠⎠⎠⎠  ⎥\n",
       "────────────── ⎥\n",
       "               ⎦"
      ]
     },
     "execution_count": 21,
     "metadata": {},
     "output_type": "execute_result"
    }
   ],
   "source": [
    "sig_ = sp.simplify(sig)\n",
    "sig_"
   ]
  },
  {
   "cell_type": "markdown",
   "metadata": {},
   "source": [
    "Solving the stress field to calculate angle $\\theta$ following the Maximum Tangential Stress Theory. According to the Maximum Tangental Stress Theory, when the stress $\\sigma_{\\theta \\theta}$ is maximum depicting principal stress than $\\sigma_{r \\theta}$ becomes:  \n",
    "\\begin{gather*}\n",
    "\\sigma_{r \\theta} = 0\n",
    "\\end{gather*}"
   ]
  },
  {
   "cell_type": "code",
   "execution_count": 22,
   "metadata": {},
   "outputs": [],
   "source": [
    "#s = sig_[1,0].subs(f, f_val)\n",
    "#s"
   ]
  },
  {
   "cell_type": "code",
   "execution_count": 24,
   "metadata": {},
   "outputs": [
    {
     "data": {
      "image/png": "[encoded data removed]",
      "text/latex": [
       "$\\displaystyle \\left[ -1, \\  - \\frac{c_{b} \\sqrt{c_{b}^{2} + 8 s_{b}^{2}} - 3 s_{b}^{2}}{c_{b}^{2} + 9 s_{b}^{2}}, \\  \\frac{c_{b} \\sqrt{c_{b}^{2} + 8 s_{b}^{2}} + 3 s_{b}^{2}}{c_{b}^{2} + 9 s_{b}^{2}}\\right]$"
      ],
      "text/plain": [
       "⎡     ⎛       _______________         ⎞          _______________         ⎤\n",
       "⎢     ⎜      ╱    2        2         2⎟         ╱    2        2         2⎥\n",
       "⎢    -⎝c_b⋅╲╱  c_b  + 8⋅s_b   - 3⋅s_b ⎠   c_b⋅╲╱  c_b  + 8⋅s_b   + 3⋅s_b ⎥\n",
       "⎢-1, ───────────────────────────────────, ───────────────────────────────⎥\n",
       "⎢                  2        2                         2        2         ⎥\n",
       "⎣               c_b  + 9⋅s_b                       c_b  + 9⋅s_b          ⎦"
      ]
     },
     "execution_count": 24,
     "metadata": {},
     "output_type": "execute_result"
    }
   ],
   "source": [
    "#f_val = 0.6\n",
    "theta_sol = sp.solve(sig_[1,0], c_t)\n",
    "#theta_sol = sp.solve(s, c_t)\n",
    "theta_sol"
   ]
  },
  {
   "cell_type": "code",
   "execution_count": 25,
   "metadata": {},
   "outputs": [
    {
     "data": {
      "image/png": "[encoded data removed]",
      "text/latex": [
       "$\\displaystyle \\operatorname{acos}{\\left(\\frac{\\sqrt{8 \\sin^{2}{\\left(\\beta - 1.5707963267949 \\right)} + \\cos^{2}{\\left(\\beta - 1.5707963267949 \\right)}} \\cos{\\left(\\beta - 1.5707963267949 \\right)} + 3 \\sin^{2}{\\left(\\beta - 1.5707963267949 \\right)}}{9 \\sin^{2}{\\left(\\beta - 1.5707963267949 \\right)} + \\cos^{2}{\\left(\\beta - 1.5707963267949 \\right)}} \\right)}$"
      ],
      "text/plain": [
       "    ⎛   _________________________________________________________________     \n",
       "    ⎜  ╱      2                               2                               \n",
       "    ⎜╲╱  8⋅sin (\\beta - 1.5707963267949) + cos (\\beta - 1.5707963267949) ⋅cos(\n",
       "acos⎜─────────────────────────────────────────────────────────────────────────\n",
       "    ⎜                                       2                               2 \n",
       "    ⎝                                  9⋅sin (\\beta - 1.5707963267949) + cos (\n",
       "\n",
       "                                                          ⎞\n",
       "                                2                         ⎟\n",
       "\\beta - 1.5707963267949) + 3⋅sin (\\beta - 1.5707963267949)⎟\n",
       "──────────────────────────────────────────────────────────⎟\n",
       "                                                          ⎟\n",
       "\\beta - 1.5707963267949)                                  ⎠"
      ]
     },
     "execution_count": 25,
     "metadata": {},
     "output_type": "execute_result"
    }
   ],
   "source": [
    "theta_val = theta_sol[2].subs(c_b, sp.cos(90 * np.pi/180 - beta)).subs(s_b, sp.sin(90 * np.pi/180 - beta))\n",
    "theta_ = sp.acos(theta_val)\n",
    "theta_"
   ]
  },
  {
   "cell_type": "code",
   "execution_count": 26,
   "metadata": {},
   "outputs": [
    {
     "data": {
      "text/plain": [
       "<function _lambdifygenerated(Dummy_178)>"
      ]
     },
     "execution_count": 26,
     "metadata": {},
     "output_type": "execute_result"
    }
   ],
   "source": [
    "get_theta = sp.lambdify((beta), theta_, 'numpy')\n",
    "get_theta"
   ]
  },
  {
   "cell_type": "code",
   "execution_count": 27,
   "metadata": {
    "scrolled": true
   },
   "outputs": [
    {
     "data": {
      "application/javascript": [
       "/* Put everything inside the global mpl namespace */\n",
       "window.mpl = {};\n",
       "\n",
       "\n",
       "mpl.get_websocket_type = function() {\n",
       "    if (typeof(WebSocket) !== 'undefined') {\n",
       "        return WebSocket;\n",
       "    } else if (typeof(MozWebSocket) !== 'undefined') {\n",
       "        return MozWebSocket;\n",
       "    } else {\n",
       "        alert('Your browser does not have WebSocket support. ' +\n",
       "              'Please try Chrome, Safari or Firefox ≥ 6. ' +\n",
       "              'Firefox 4 and 5 are also supported but you ' +\n",
       "              'have to enable WebSockets in about:config.');\n",
       "    };\n",
       "}\n",
       "\n",
       "mpl.figure = function(figure_id, websocket, ondownload, parent_element) {\n",
       "    this.id = figure_id;\n",
       "\n",
       "    this.ws = websocket;\n",
       "\n",
       "    this.supports_binary = (this.ws.binaryType != undefined);\n",
       "\n",
       "    if (!this.supports_binary) {\n",
       "        var warnings = document.getElementById(\"mpl-warnings\");\n",
       "        if (warnings) {\n",
       "            warnings.style.display = 'block';\n",
       "            warnings.textContent = (\n",
       "                \"This browser does not support binary websocket messages. \" +\n",
       "                    \"Performance may be slow.\");\n",
       "        }\n",
       "    }\n",
       "\n",
       "    this.imageObj = new Image();\n",
       "\n",
       "    this.context = undefined;\n",
       "    this.message = undefined;\n",
       "    this.canvas = undefined;\n",
       "    this.rubberband_canvas = undefined;\n",
       "    this.rubberband_context = undefined;\n",
       "    this.format_dropdown = undefined;\n",
       "\n",
       "    this.image_mode = 'full';\n",
       "\n",
       "    this.root = $('<div/>');\n",
       "    this._root_extra_style(this.root)\n",
       "    this.root.attr('style', 'display: inline-block');\n",
       "\n",
       "    $(parent_element).append(this.root);\n",
       "\n",
       "    this._init_header(this);\n",
       "    this._init_canvas(this);\n",
       "    this._init_toolbar(this);\n",
       "\n",
       "    var fig = this;\n",
       "\n",
       "    this.waiting = false;\n",
       "\n",
       "    this.ws.onopen =  function () {\n",
       "            fig.send_message(\"supports_binary\", {value: fig.supports_binary});\n",
       "            fig.send_message(\"send_image_mode\", {});\n",
       "            if (mpl.ratio != 1) {\n",
       "                fig.send_message(\"set_dpi_ratio\", {'dpi_ratio': mpl.ratio});\n",
       "            }\n",
       "            fig.send_message(\"refresh\", {});\n",
       "        }\n",
       "\n",
       "    this.imageObj.onload = function() {\n",
       "            if (fig.image_mode == 'full') {\n",
       "                // Full images could contain transparency (where diff images\n",
       "                // almost always do), so we need to clear the canvas so that\n",
       "                // there is no ghosting.\n",
       "                fig.context.clearRect(0, 0, fig.canvas.width, fig.canvas.height);\n",
       "            }\n",
       "            fig.context.drawImage(fig.imageObj, 0, 0);\n",
       "        };\n",
       "\n",
       "    this.imageObj.onunload = function() {\n",
       "        fig.ws.close();\n",
       "    }\n",
       "\n",
       "    this.ws.onmessage = this._make_on_message_function(this);\n",
       "\n",
       "    this.ondownload = ondownload;\n",
       "}\n",
       "\n",
       "mpl.figure.prototype._init_header = function() {\n",
       "    var titlebar = $(\n",
       "        '<div class=\"ui-dialog-titlebar ui-widget-header ui-corner-all ' +\n",
       "        'ui-helper-clearfix\"/>');\n",
       "    var titletext = $(\n",
       "        '<div class=\"ui-dialog-title\" style=\"width: 100%; ' +\n",
       "        'text-align: center; padding: 3px;\"/>');\n",
       "    titlebar.append(titletext)\n",
       "    this.root.append(titlebar);\n",
       "    this.header = titletext[0];\n",
       "}\n",
       "\n",
       "\n",
       "\n",
       "mpl.figure.prototype._canvas_extra_style = function(canvas_div) {\n",
       "\n",
       "}\n",
       "\n",
       "\n",
       "mpl.figure.prototype._root_extra_style = function(canvas_div) {\n",
       "\n",
       "}\n",
       "\n",
       "mpl.figure.prototype._init_canvas = function() {\n",
       "    var fig = this;\n",
       "\n",
       "    var canvas_div = $('<div/>');\n",
       "\n",
       "    canvas_div.attr('style', 'position: relative; clear: both; outline: 0');\n",
       "\n",
       "    function canvas_keyboard_event(event) {\n",
       "        return fig.key_event(event, event['data']);\n",
       "    }\n",
       "\n",
       "    canvas_div.keydown('key_press', canvas_keyboard_event);\n",
       "    canvas_div.keyup('key_release', canvas_keyboard_event);\n",
       "    this.canvas_div = canvas_div\n",
       "    this._canvas_extra_style(canvas_div)\n",
       "    this.root.append(canvas_div);\n",
       "\n",
       "    var canvas = $('<canvas/>');\n",
       "    canvas.addClass('mpl-canvas');\n",
       "    canvas.attr('style', \"left: 0; top: 0; z-index: 0; outline: 0\")\n",
       "\n",
       "    this.canvas = canvas[0];\n",
       "    this.context = canvas[0].getContext(\"2d\");\n",
       "\n",
       "    var backingStore = this.context.backingStorePixelRatio ||\n",
       "\tthis.context.webkitBackingStorePixelRatio ||\n",
       "\tthis.context.mozBackingStorePixelRatio ||\n",
       "\tthis.context.msBackingStorePixelRatio ||\n",
       "\tthis.context.oBackingStorePixelRatio ||\n",
       "\tthis.context.backingStorePixelRatio || 1;\n",
       "\n",
       "    mpl.ratio = (window.devicePixelRatio || 1) / backingStore;\n",
       "\n",
       "    var rubberband = $('<canvas/>');\n",
       "    rubberband.attr('style', \"position: absolute; left: 0; top: 0; z-index: 1;\")\n",
       "\n",
       "    var pass_mouse_events = true;\n",
       "\n",
       "    canvas_div.resizable({\n",
       "        start: function(event, ui) {\n",
       "            pass_mouse_events = false;\n",
       "        },\n",
       "        resize: function(event, ui) {\n",
       "            fig.request_resize(ui.size.width, ui.size.height);\n",
       "        },\n",
       "        stop: function(event, ui) {\n",
       "            pass_mouse_events = true;\n",
       "            fig.request_resize(ui.size.width, ui.size.height);\n",
       "        },\n",
       "    });\n",
       "\n",
       "    function mouse_event_fn(event) {\n",
       "        if (pass_mouse_events)\n",
       "            return fig.mouse_event(event, event['data']);\n",
       "    }\n",
       "\n",
       "    rubberband.mousedown('button_press', mouse_event_fn);\n",
       "    rubberband.mouseup('button_release', mouse_event_fn);\n",
       "    // Throttle sequential mouse events to 1 every 20ms.\n",
       "    rubberband.mousemove('motion_notify', mouse_event_fn);\n",
       "\n",
       "    rubberband.mouseenter('figure_enter', mouse_event_fn);\n",
       "    rubberband.mouseleave('figure_leave', mouse_event_fn);\n",
       "\n",
       "    canvas_div.on(\"wheel\", function (event) {\n",
       "        event = event.originalEvent;\n",
       "        event['data'] = 'scroll'\n",
       "        if (event.deltaY < 0) {\n",
       "            event.step = 1;\n",
       "        } else {\n",
       "            event.step = -1;\n",
       "        }\n",
       "        mouse_event_fn(event);\n",
       "    });\n",
       "\n",
       "    canvas_div.append(canvas);\n",
       "    canvas_div.append(rubberband);\n",
       "\n",
       "    this.rubberband = rubberband;\n",
       "    this.rubberband_canvas = rubberband[0];\n",
       "    this.rubberband_context = rubberband[0].getContext(\"2d\");\n",
       "    this.rubberband_context.strokeStyle = \"#000000\";\n",
       "\n",
       "    this._resize_canvas = function(width, height) {\n",
       "        // Keep the size of the canvas, canvas container, and rubber band\n",
       "        // canvas in synch.\n",
       "        canvas_div.css('width', width)\n",
       "        canvas_div.css('height', height)\n",
       "\n",
       "        canvas.attr('width', width * mpl.ratio);\n",
       "        canvas.attr('height', height * mpl.ratio);\n",
       "        canvas.attr('style', 'width: ' + width + 'px; height: ' + height + 'px;');\n",
       "\n",
       "        rubberband.attr('width', width);\n",
       "        rubberband.attr('height', height);\n",
       "    }\n",
       "\n",
       "    // Set the figure to an initial 600x600px, this will subsequently be updated\n",
       "    // upon first draw.\n",
       "    this._resize_canvas(600, 600);\n",
       "\n",
       "    // Disable right mouse context menu.\n",
       "    $(this.rubberband_canvas).bind(\"contextmenu\",function(e){\n",
       "        return false;\n",
       "    });\n",
       "\n",
       "    function set_focus () {\n",
       "        canvas.focus();\n",
       "        canvas_div.focus();\n",
       "    }\n",
       "\n",
       "    window.setTimeout(set_focus, 100);\n",
       "}\n",
       "\n",
       "mpl.figure.prototype._init_toolbar = function() {\n",
       "    var fig = this;\n",
       "\n",
       "    var nav_element = $('<div/>');\n",
       "    nav_element.attr('style', 'width: 100%');\n",
       "    this.root.append(nav_element);\n",
       "\n",
       "    // Define a callback function for later on.\n",
       "    function toolbar_event(event) {\n",
       "        return fig.toolbar_button_onclick(event['data']);\n",
       "    }\n",
       "    function toolbar_mouse_event(event) {\n",
       "        return fig.toolbar_button_onmouseover(event['data']);\n",
       "    }\n",
       "\n",
       "    for(var toolbar_ind in mpl.toolbar_items) {\n",
       "        var name = mpl.toolbar_items[toolbar_ind][0];\n",
       "        var tooltip = mpl.toolbar_items[toolbar_ind][1];\n",
       "        var image = mpl.toolbar_items[toolbar_ind][2];\n",
       "        var method_name = mpl.toolbar_items[toolbar_ind][3];\n",
       "\n",
       "        if (!name) {\n",
       "            // put a spacer in here.\n",
       "            continue;\n",
       "        }\n",
       "        var button = $('<button/>');\n",
       "        button.addClass('ui-button ui-widget ui-state-default ui-corner-all ' +\n",
       "                        'ui-button-icon-only');\n",
       "        button.attr('role', 'button');\n",
       "        button.attr('aria-disabled', 'false');\n",
       "        button.click(method_name, toolbar_event);\n",
       "        button.mouseover(tooltip, toolbar_mouse_event);\n",
       "\n",
       "        var icon_img = $('<span/>');\n",
       "        icon_img.addClass('ui-button-icon-primary ui-icon');\n",
       "        icon_img.addClass(image);\n",
       "        icon_img.addClass('ui-corner-all');\n",
       "\n",
       "        var tooltip_span = $('<span/>');\n",
       "        tooltip_span.addClass('ui-button-text');\n",
       "        tooltip_span.html(tooltip);\n",
       "\n",
       "        button.append(icon_img);\n",
       "        button.append(tooltip_span);\n",
       "\n",
       "        nav_element.append(button);\n",
       "    }\n",
       "\n",
       "    var fmt_picker_span = $('<span/>');\n",
       "\n",
       "    var fmt_picker = $('<select/>');\n",
       "    fmt_picker.addClass('mpl-toolbar-option ui-widget ui-widget-content');\n",
       "    fmt_picker_span.append(fmt_picker);\n",
       "    nav_element.append(fmt_picker_span);\n",
       "    this.format_dropdown = fmt_picker[0];\n",
       "\n",
       "    for (var ind in mpl.extensions) {\n",
       "        var fmt = mpl.extensions[ind];\n",
       "        var option = $(\n",
       "            '<option/>', {selected: fmt === mpl.default_extension}).html(fmt);\n",
       "        fmt_picker.append(option);\n",
       "    }\n",
       "\n",
       "    // Add hover states to the ui-buttons\n",
       "    $( \".ui-button\" ).hover(\n",
       "        function() { $(this).addClass(\"ui-state-hover\");},\n",
       "        function() { $(this).removeClass(\"ui-state-hover\");}\n",
       "    );\n",
       "\n",
       "    var status_bar = $('<span class=\"mpl-message\"/>');\n",
       "    nav_element.append(status_bar);\n",
       "    this.message = status_bar[0];\n",
       "}\n",
       "\n",
       "mpl.figure.prototype.request_resize = function(x_pixels, y_pixels) {\n",
       "    // Request matplotlib to resize the figure. Matplotlib will then trigger a resize in the client,\n",
       "    // which will in turn request a refresh of the image.\n",
       "    this.send_message('resize', {'width': x_pixels, 'height': y_pixels});\n",
       "}\n",
       "\n",
       "mpl.figure.prototype.send_message = function(type, properties) {\n",
       "    properties['type'] = type;\n",
       "    properties['figure_id'] = this.id;\n",
       "    this.ws.send(JSON.stringify(properties));\n",
       "}\n",
       "\n",
       "mpl.figure.prototype.send_draw_message = function() {\n",
       "    if (!this.waiting) {\n",
       "        this.waiting = true;\n",
       "        this.ws.send(JSON.stringify({type: \"draw\", figure_id: this.id}));\n",
       "    }\n",
       "}\n",
       "\n",
       "\n",
       "mpl.figure.prototype.handle_save = function(fig, msg) {\n",
       "    var format_dropdown = fig.format_dropdown;\n",
       "    var format = format_dropdown.options[format_dropdown.selectedIndex].value;\n",
       "    fig.ondownload(fig, format);\n",
       "}\n",
       "\n",
       "\n",
       "mpl.figure.prototype.handle_resize = function(fig, msg) {\n",
       "    var size = msg['size'];\n",
       "    if (size[0] != fig.canvas.width || size[1] != fig.canvas.height) {\n",
       "        fig._resize_canvas(size[0], size[1]);\n",
       "        fig.send_message(\"refresh\", {});\n",
       "    };\n",
       "}\n",
       "\n",
       "mpl.figure.prototype.handle_rubberband = function(fig, msg) {\n",
       "    var x0 = msg['x0'] / mpl.ratio;\n",
       "    var y0 = (fig.canvas.height - msg['y0']) / mpl.ratio;\n",
       "    var x1 = msg['x1'] / mpl.ratio;\n",
       "    var y1 = (fig.canvas.height - msg['y1']) / mpl.ratio;\n",
       "    x0 = Math.floor(x0) + 0.5;\n",
       "    y0 = Math.floor(y0) + 0.5;\n",
       "    x1 = Math.floor(x1) + 0.5;\n",
       "    y1 = Math.floor(y1) + 0.5;\n",
       "    var min_x = Math.min(x0, x1);\n",
       "    var min_y = Math.min(y0, y1);\n",
       "    var width = Math.abs(x1 - x0);\n",
       "    var height = Math.abs(y1 - y0);\n",
       "\n",
       "    fig.rubberband_context.clearRect(\n",
       "        0, 0, fig.canvas.width / mpl.ratio, fig.canvas.height / mpl.ratio);\n",
       "\n",
       "    fig.rubberband_context.strokeRect(min_x, min_y, width, height);\n",
       "}\n",
       "\n",
       "mpl.figure.prototype.handle_figure_label = function(fig, msg) {\n",
       "    // Updates the figure title.\n",
       "    fig.header.textContent = msg['label'];\n",
       "}\n",
       "\n",
       "mpl.figure.prototype.handle_cursor = function(fig, msg) {\n",
       "    var cursor = msg['cursor'];\n",
       "    switch(cursor)\n",
       "    {\n",
       "    case 0:\n",
       "        cursor = 'pointer';\n",
       "        break;\n",
       "    case 1:\n",
       "        cursor = 'default';\n",
       "        break;\n",
       "    case 2:\n",
       "        cursor = 'crosshair';\n",
       "        break;\n",
       "    case 3:\n",
       "        cursor = 'move';\n",
       "        break;\n",
       "    }\n",
       "    fig.rubberband_canvas.style.cursor = cursor;\n",
       "}\n",
       "\n",
       "mpl.figure.prototype.handle_message = function(fig, msg) {\n",
       "    fig.message.textContent = msg['message'];\n",
       "}\n",
       "\n",
       "mpl.figure.prototype.handle_draw = function(fig, msg) {\n",
       "    // Request the server to send over a new figure.\n",
       "    fig.send_draw_message();\n",
       "}\n",
       "\n",
       "mpl.figure.prototype.handle_image_mode = function(fig, msg) {\n",
       "    fig.image_mode = msg['mode'];\n",
       "}\n",
       "\n",
       "mpl.figure.prototype.updated_canvas_event = function() {\n",
       "    // Called whenever the canvas gets updated.\n",
       "    this.send_message(\"ack\", {});\n",
       "}\n",
       "\n",
       "// A function to construct a web socket function for onmessage handling.\n",
       "// Called in the figure constructor.\n",
       "mpl.figure.prototype._make_on_message_function = function(fig) {\n",
       "    return function socket_on_message(evt) {\n",
       "        if (evt.data instanceof Blob) {\n",
       "            /* FIXME: We get \"Resource interpreted as Image but\n",
       "             * transferred with MIME type text/plain:\" errors on\n",
       "             * Chrome.  But how to set the MIME type?  It doesn't seem\n",
       "             * to be part of the websocket stream */\n",
       "            evt.data.type = \"image/png\";\n",
       "\n",
       "            /* Free the memory for the previous frames */\n",
       "            if (fig.imageObj.src) {\n",
       "                (window.URL || window.webkitURL).revokeObjectURL(\n",
       "                    fig.imageObj.src);\n",
       "            }\n",
       "\n",
       "            fig.imageObj.src = (window.URL || window.webkitURL).createObjectURL(\n",
       "                evt.data);\n",
       "            fig.updated_canvas_event();\n",
       "            fig.waiting = false;\n",
       "            return;\n",
       "        }\n",
       "        else if (typeof evt.data === 'string' && evt.data.slice(0, 21) == \"data:image/png;base64\") {\n",
       "            fig.imageObj.src = evt.data;\n",
       "            fig.updated_canvas_event();\n",
       "            fig.waiting = false;\n",
       "            return;\n",
       "        }\n",
       "\n",
       "        var msg = JSON.parse(evt.data);\n",
       "        var msg_type = msg['type'];\n",
       "\n",
       "        // Call the  \"handle_{type}\" callback, which takes\n",
       "        // the figure and JSON message as its only arguments.\n",
       "        try {\n",
       "            var callback = fig[\"handle_\" + msg_type];\n",
       "        } catch (e) {\n",
       "            console.log(\"No handler for the '\" + msg_type + \"' message type: \", msg);\n",
       "            return;\n",
       "        }\n",
       "\n",
       "        if (callback) {\n",
       "            try {\n",
       "                // console.log(\"Handling '\" + msg_type + \"' message: \", msg);\n",
       "                callback(fig, msg);\n",
       "            } catch (e) {\n",
       "                console.log(\"Exception inside the 'handler_\" + msg_type + \"' callback:\", e, e.stack, msg);\n",
       "            }\n",
       "        }\n",
       "    };\n",
       "}\n",
       "\n",
       "// from http://stackoverflow.com/questions/1114465/getting-mouse-location-in-canvas\n",
       "mpl.findpos = function(e) {\n",
       "    //this section is from http://www.quirksmode.org/js/events_properties.html\n",
       "    var targ;\n",
       "    if (!e)\n",
       "        e = window.event;\n",
       "    if (e.target)\n",
       "        targ = e.target;\n",
       "    else if (e.srcElement)\n",
       "        targ = e.srcElement;\n",
       "    if (targ.nodeType == 3) // defeat Safari bug\n",
       "        targ = targ.parentNode;\n",
       "\n",
       "    // jQuery normalizes the pageX and pageY\n",
       "    // pageX,Y are the mouse positions relative to the document\n",
       "    // offset() returns the position of the element relative to the document\n",
       "    var x = e.pageX - $(targ).offset().left;\n",
       "    var y = e.pageY - $(targ).offset().top;\n",
       "\n",
       "    return {\"x\": x, \"y\": y};\n",
       "};\n",
       "\n",
       "/*\n",
       " * return a copy of an object with only non-object keys\n",
       " * we need this to avoid circular references\n",
       " * http://stackoverflow.com/a/24161582/3208463\n",
       " */\n",
       "function simpleKeys (original) {\n",
       "  return Object.keys(original).reduce(function (obj, key) {\n",
       "    if (typeof original[key] !== 'object')\n",
       "        obj[key] = original[key]\n",
       "    return obj;\n",
       "  }, {});\n",
       "}\n",
       "\n",
       "mpl.figure.prototype.mouse_event = function(event, name) {\n",
       "    var canvas_pos = mpl.findpos(event)\n",
       "\n",
       "    if (name === 'button_press')\n",
       "    {\n",
       "        this.canvas.focus();\n",
       "        this.canvas_div.focus();\n",
       "    }\n",
       "\n",
       "    var x = canvas_pos.x * mpl.ratio;\n",
       "    var y = canvas_pos.y * mpl.ratio;\n",
       "\n",
       "    this.send_message(name, {x: x, y: y, button: event.button,\n",
       "                             step: event.step,\n",
       "                             guiEvent: simpleKeys(event)});\n",
       "\n",
       "    /* This prevents the web browser from automatically changing to\n",
       "     * the text insertion cursor when the button is pressed.  We want\n",
       "     * to control all of the cursor setting manually through the\n",
       "     * 'cursor' event from matplotlib */\n",
       "    event.preventDefault();\n",
       "    return false;\n",
       "}\n",
       "\n",
       "mpl.figure.prototype._key_event_extra = function(event, name) {\n",
       "    // Handle any extra behaviour associated with a key event\n",
       "}\n",
       "\n",
       "mpl.figure.prototype.key_event = function(event, name) {\n",
       "\n",
       "    // Prevent repeat events\n",
       "    if (name == 'key_press')\n",
       "    {\n",
       "        if (event.which === this._key)\n",
       "            return;\n",
       "        else\n",
       "            this._key = event.which;\n",
       "    }\n",
       "    if (name == 'key_release')\n",
       "        this._key = null;\n",
       "\n",
       "    var value = '';\n",
       "    if (event.ctrlKey && event.which != 17)\n",
       "        value += \"ctrl+\";\n",
       "    if (event.altKey && event.which != 18)\n",
       "        value += \"alt+\";\n",
       "    if (event.shiftKey && event.which != 16)\n",
       "        value += \"shift+\";\n",
       "\n",
       "    value += 'k';\n",
       "    value += event.which.toString();\n",
       "\n",
       "    this._key_event_extra(event, name);\n",
       "\n",
       "    this.send_message(name, {key: value,\n",
       "                             guiEvent: simpleKeys(event)});\n",
       "    return false;\n",
       "}\n",
       "\n",
       "mpl.figure.prototype.toolbar_button_onclick = function(name) {\n",
       "    if (name == 'download') {\n",
       "        this.handle_save(this, null);\n",
       "    } else {\n",
       "        this.send_message(\"toolbar_button\", {name: name});\n",
       "    }\n",
       "};\n",
       "\n",
       "mpl.figure.prototype.toolbar_button_onmouseover = function(tooltip) {\n",
       "    this.message.textContent = tooltip;\n",
       "};\n",
       "mpl.toolbar_items = [[\"Home\", \"Reset original view\", \"fa fa-home icon-home\", \"home\"], [\"Back\", \"Back to previous view\", \"fa fa-arrow-left icon-arrow-left\", \"back\"], [\"Forward\", \"Forward to next view\", \"fa fa-arrow-right icon-arrow-right\", \"forward\"], [\"\", \"\", \"\", \"\"], [\"Pan\", \"Pan axes with left mouse, zoom with right\", \"fa fa-arrows icon-move\", \"pan\"], [\"Zoom\", \"Zoom to rectangle\", \"fa fa-square-o icon-check-empty\", \"zoom\"], [\"\", \"\", \"\", \"\"], [\"Download\", \"Download plot\", \"fa fa-floppy-o icon-save\", \"download\"]];\n",
       "\n",
       "mpl.extensions = [\"eps\", \"jpeg\", \"pdf\", \"png\", \"ps\", \"raw\", \"svg\", \"tif\"];\n",
       "\n",
       "mpl.default_extension = \"png\";var comm_websocket_adapter = function(comm) {\n",
       "    // Create a \"websocket\"-like object which calls the given IPython comm\n",
       "    // object with the appropriate methods. Currently this is a non binary\n",
       "    // socket, so there is still some room for performance tuning.\n",
       "    var ws = {};\n",
       "\n",
       "    ws.close = function() {\n",
       "        comm.close()\n",
       "    };\n",
       "    ws.send = function(m) {\n",
       "        //console.log('sending', m);\n",
       "        comm.send(m);\n",
       "    };\n",
       "    // Register the callback with on_msg.\n",
       "    comm.on_msg(function(msg) {\n",
       "        //console.log('receiving', msg['content']['data'], msg);\n",
       "        // Pass the mpl event to the overridden (by mpl) onmessage function.\n",
       "        ws.onmessage(msg['content']['data'])\n",
       "    });\n",
       "    return ws;\n",
       "}\n",
       "\n",
       "mpl.mpl_figure_comm = function(comm, msg) {\n",
       "    // This is the function which gets called when the mpl process\n",
       "    // starts-up an IPython Comm through the \"matplotlib\" channel.\n",
       "\n",
       "    var id = msg.content.data.id;\n",
       "    // Get hold of the div created by the display call when the Comm\n",
       "    // socket was opened in Python.\n",
       "    var element = $(\"#\" + id);\n",
       "    var ws_proxy = comm_websocket_adapter(comm)\n",
       "\n",
       "    function ondownload(figure, format) {\n",
       "        window.open(figure.imageObj.src);\n",
       "    }\n",
       "\n",
       "    var fig = new mpl.figure(id, ws_proxy,\n",
       "                           ondownload,\n",
       "                           element.get(0));\n",
       "\n",
       "    // Call onopen now - mpl needs it, as it is assuming we've passed it a real\n",
       "    // web socket which is closed, not our websocket->open comm proxy.\n",
       "    ws_proxy.onopen();\n",
       "\n",
       "    fig.parent_element = element.get(0);\n",
       "    fig.cell_info = mpl.find_output_cell(\"<div id='\" + id + \"'></div>\");\n",
       "    if (!fig.cell_info) {\n",
       "        console.error(\"Failed to find cell for figure\", id, fig);\n",
       "        return;\n",
       "    }\n",
       "\n",
       "    var output_index = fig.cell_info[2]\n",
       "    var cell = fig.cell_info[0];\n",
       "\n",
       "};\n",
       "\n",
       "mpl.figure.prototype.handle_close = function(fig, msg) {\n",
       "    var width = fig.canvas.width/mpl.ratio\n",
       "    fig.root.unbind('remove')\n",
       "\n",
       "    // Update the output cell to use the data from the current canvas.\n",
       "    fig.push_to_output();\n",
       "    var dataURL = fig.canvas.toDataURL();\n",
       "    // Re-enable the keyboard manager in IPython - without this line, in FF,\n",
       "    // the notebook keyboard shortcuts fail.\n",
       "    IPython.keyboard_manager.enable()\n",
       "    $(fig.parent_element).html('<img src=\"' + dataURL + '\" width=\"' + width + '\">');\n",
       "    fig.close_ws(fig, msg);\n",
       "}\n",
       "\n",
       "mpl.figure.prototype.close_ws = function(fig, msg){\n",
       "    fig.send_message('closing', msg);\n",
       "    // fig.ws.close()\n",
       "}\n",
       "\n",
       "mpl.figure.prototype.push_to_output = function(remove_interactive) {\n",
       "    // Turn the data on the canvas into data in the output cell.\n",
       "    var width = this.canvas.width/mpl.ratio\n",
       "    var dataURL = this.canvas.toDataURL();\n",
       "    this.cell_info[1]['text/html'] = '<img src=\"' + dataURL + '\" width=\"' + width + '\">';\n",
       "}\n",
       "\n",
       "mpl.figure.prototype.updated_canvas_event = function() {\n",
       "    // Tell IPython that the notebook contents must change.\n",
       "    IPython.notebook.set_dirty(true);\n",
       "    this.send_message(\"ack\", {});\n",
       "    var fig = this;\n",
       "    // Wait a second, then push the new image to the DOM so\n",
       "    // that it is saved nicely (might be nice to debounce this).\n",
       "    setTimeout(function () { fig.push_to_output() }, 1000);\n",
       "}\n",
       "\n",
       "mpl.figure.prototype._init_toolbar = function() {\n",
       "    var fig = this;\n",
       "\n",
       "    var nav_element = $('<div/>');\n",
       "    nav_element.attr('style', 'width: 100%');\n",
       "    this.root.append(nav_element);\n",
       "\n",
       "    // Define a callback function for later on.\n",
       "    function toolbar_event(event) {\n",
       "        return fig.toolbar_button_onclick(event['data']);\n",
       "    }\n",
       "    function toolbar_mouse_event(event) {\n",
       "        return fig.toolbar_button_onmouseover(event['data']);\n",
       "    }\n",
       "\n",
       "    for(var toolbar_ind in mpl.toolbar_items){\n",
       "        var name = mpl.toolbar_items[toolbar_ind][0];\n",
       "        var tooltip = mpl.toolbar_items[toolbar_ind][1];\n",
       "        var image = mpl.toolbar_items[toolbar_ind][2];\n",
       "        var method_name = mpl.toolbar_items[toolbar_ind][3];\n",
       "\n",
       "        if (!name) { continue; };\n",
       "\n",
       "        var button = $('<button class=\"btn btn-default\" href=\"#\" title=\"' + name + '\"><i class=\"fa ' + image + ' fa-lg\"></i></button>');\n",
       "        button.click(method_name, toolbar_event);\n",
       "        button.mouseover(tooltip, toolbar_mouse_event);\n",
       "        nav_element.append(button);\n",
       "    }\n",
       "\n",
       "    // Add the status bar.\n",
       "    var status_bar = $('<span class=\"mpl-message\" style=\"text-align:right; float: right;\"/>');\n",
       "    nav_element.append(status_bar);\n",
       "    this.message = status_bar[0];\n",
       "\n",
       "    // Add the close button to the window.\n",
       "    var buttongrp = $('<div class=\"btn-group inline pull-right\"></div>');\n",
       "    var button = $('<button class=\"btn btn-mini btn-primary\" href=\"#\" title=\"Stop Interaction\"><i class=\"fa fa-power-off icon-remove icon-large\"></i></button>');\n",
       "    button.click(function (evt) { fig.handle_close(fig, {}); } );\n",
       "    button.mouseover('Stop Interaction', toolbar_mouse_event);\n",
       "    buttongrp.append(button);\n",
       "    var titlebar = this.root.find($('.ui-dialog-titlebar'));\n",
       "    titlebar.prepend(buttongrp);\n",
       "}\n",
       "\n",
       "mpl.figure.prototype._root_extra_style = function(el){\n",
       "    var fig = this\n",
       "    el.on(\"remove\", function(){\n",
       "\tfig.close_ws(fig, {});\n",
       "    });\n",
       "}\n",
       "\n",
       "mpl.figure.prototype._canvas_extra_style = function(el){\n",
       "    // this is important to make the div 'focusable\n",
       "    el.attr('tabindex', 0)\n",
       "    // reach out to IPython and tell the keyboard manager to turn it's self\n",
       "    // off when our div gets focus\n",
       "\n",
       "    // location in version 3\n",
       "    if (IPython.notebook.keyboard_manager) {\n",
       "        IPython.notebook.keyboard_manager.register_events(el);\n",
       "    }\n",
       "    else {\n",
       "        // location in version 2\n",
       "        IPython.keyboard_manager.register_events(el);\n",
       "    }\n",
       "\n",
       "}\n",
       "\n",
       "mpl.figure.prototype._key_event_extra = function(event, name) {\n",
       "    var manager = IPython.notebook.keyboard_manager;\n",
       "    if (!manager)\n",
       "        manager = IPython.keyboard_manager;\n",
       "\n",
       "    // Check for shift+enter\n",
       "    if (event.shiftKey && event.which == 13) {\n",
       "        this.canvas_div.blur();\n",
       "        // select the cell after this one\n",
       "        var index = IPython.notebook.find_cell_index(this.cell_info[0]);\n",
       "        IPython.notebook.select(index + 1);\n",
       "    }\n",
       "}\n",
       "\n",
       "mpl.figure.prototype.handle_save = function(fig, msg) {\n",
       "    fig.ondownload(fig, null);\n",
       "}\n",
       "\n",
       "\n",
       "mpl.find_output_cell = function(html_output) {\n",
       "    // Return the cell and output element which can be found *uniquely* in the notebook.\n",
       "    // Note - this is a bit hacky, but it is done because the \"notebook_saving.Notebook\"\n",
       "    // IPython event is triggered only after the cells have been serialised, which for\n",
       "    // our purposes (turning an active figure into a static one), is too late.\n",
       "    var cells = IPython.notebook.get_cells();\n",
       "    var ncells = cells.length;\n",
       "    for (var i=0; i<ncells; i++) {\n",
       "        var cell = cells[i];\n",
       "        if (cell.cell_type === 'code'){\n",
       "            for (var j=0; j<cell.output_area.outputs.length; j++) {\n",
       "                var data = cell.output_area.outputs[j];\n",
       "                if (data.data) {\n",
       "                    // IPython >= 3 moved mimebundle to data attribute of output\n",
       "                    data = data.data;\n",
       "                }\n",
       "                if (data['text/html'] == html_output) {\n",
       "                    return [cell, data, j];\n",
       "                }\n",
       "            }\n",
       "        }\n",
       "    }\n",
       "}\n",
       "\n",
       "// Register the function which deals with the matplotlib target/channel.\n",
       "// The kernel may be null if the page has been refreshed.\n",
       "if (IPython.notebook.kernel != null) {\n",
       "    IPython.notebook.kernel.comm_manager.register_target('matplotlib', mpl.mpl_figure_comm);\n",
       "}\n"
      ],
      "text/plain": [
       "<IPython.core.display.Javascript object>"
      ]
     },
     "metadata": {},
     "output_type": "display_data"
    },
    {
     "data": {
      "text/html": [
       "<img src=\"data:image/png;base64,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\" width=\"699.6363636363636\">"
      ],
      "text/plain": [
       "<IPython.core.display.HTML object>"
      ]
     },
     "metadata": {},
     "output_type": "display_data"
    },
    {
     "name": "stderr",
     "output_type": "stream",
     "text": [
      "No handles with labels found to put in legend.\n"
     ]
    },
    {
     "data": {
      "text/plain": [
       "<matplotlib.legend.Legend at 0x294a493f2c8>"
      ]
     },
     "execution_count": 27,
     "metadata": {},
     "output_type": "execute_result"
    }
   ],
   "source": [
    "_, (ax1) = plt.subplots(1, 1, figsize=(7,3))\n",
    "beta_ = np.linspace(0, 90 * np.pi/180, 100)\n",
    "theta_ = get_theta(beta_) \n",
    "ax1.plot(beta_ * 180/np.pi, theta_ * 180/ np.pi, color='blue', lw=2)\n",
    "ax1.set_xlabel(r'$\\beta$'); ax1.set_ylabel(r'$\\theta$')\n",
    "ax1.legend()\n",
    "#_.savefig(\"plotMTSwithsigma_x.pdf\", bbox_inches='tight')"
   ]
  },
  {
   "cell_type": "code",
   "execution_count": null,
   "metadata": {
    "scrolled": true
   },
   "outputs": [],
   "source": [
    "theta_ * 180/ np.pi "
   ]
  },
  {
   "cell_type": "code",
   "execution_count": null,
   "metadata": {
    "scrolled": true
   },
   "outputs": [],
   "source": [
    "beta_ * 180/np.pi"
   ]
  },
  {
   "cell_type": "markdown",
   "metadata": {},
   "source": [
    "## Mixity Parameter"
   ]
  },
  {
   "cell_type": "code",
   "execution_count": null,
   "metadata": {},
   "outputs": [],
   "source": [
    "M_e = (2 / sp.pi) * sp.atan(K_I_/K_II_)\n",
    "theta_0 = 90 - beta\n",
    "get_theta_0 = sp.lambdify((beta), theta_0, 'numpy')\n",
    "M_e_ = M_e.subs(s_b, sp.sin(beta)).subs(c_b, sp.cos(beta))\n",
    "M_e_"
   ]
  },
  {
   "cell_type": "code",
   "execution_count": null,
   "metadata": {},
   "outputs": [],
   "source": [
    "get_M_e = sp.lambdify((beta), M_e_, 'numpy')\n",
    "get_M_e"
   ]
  },
  {
   "cell_type": "code",
   "execution_count": null,
   "metadata": {},
   "outputs": [],
   "source": [
    "_, (ax1) = plt.subplots(1, 1, figsize=(6,4))\n",
    "beta_ = np.linspace(90 * np.pi/180, 0, 100)\n",
    "theta_0_ = get_theta_0(beta_)\n",
    "theta_ = get_theta(beta_)\n",
    "M_e_val = get_M_e(beta_)\n",
    "ax1.plot(M_e_val, theta_ * 180/ np.pi, color='blue', lw=2)\n",
    "ax1.set_xlabel(r'$M^e$'); ax1.set_ylabel(r'$\\theta$')\n",
    "ax1.legend()\n",
    "theta_0_"
   ]
  },
  {
   "cell_type": "code",
   "execution_count": null,
   "metadata": {},
   "outputs": [],
   "source": [
    "M_e_val"
   ]
  },
  {
   "cell_type": "markdown",
   "metadata": {},
   "source": [
    "## Critical Stress Intensity factor as a function of Crack Length"
   ]
  },
  {
   "cell_type": "code",
   "execution_count": null,
   "metadata": {},
   "outputs": [],
   "source": [
    "sigma_x =  sp.Symbol(r'\\sigma_x', nonnegative = True)\n",
    "a = sp.Symbol(r'a', nonnegative = True)\n",
    "K_Ic = sigma_x * sp.sqrt( sp.pi * a)\n",
    "K_Ic"
   ]
  },
  {
   "cell_type": "code",
   "execution_count": null,
   "metadata": {},
   "outputs": [],
   "source": [
    "params_ = {sigma_x : 5}"
   ]
  },
  {
   "cell_type": "code",
   "execution_count": null,
   "metadata": {},
   "outputs": [],
   "source": [
    "get_K_Ic = sp.lambdify((a), K_Ic.subs(params_), 'numpy')\n",
    "get_K_Ic\n",
    "#K_Ic.subs(params_)"
   ]
  },
  {
   "cell_type": "code",
   "execution_count": null,
   "metadata": {},
   "outputs": [],
   "source": [
    "_, (ax1) = plt.subplots(1, 1, figsize=(7,3))\n",
    "a_ = np.linspace(0, 200, 100)\n",
    "K_Ic_ = get_K_Ic(a_)\n",
    "ax1.plot(a_, K_Ic_, color='blue', lw=2)\n",
    "ax1.set_xlabel(r'$a$'); ax1.set_ylabel(r'$K_{Ic}$')\n",
    "ax1.legend()"
   ]
  },
  {
   "cell_type": "markdown",
   "metadata": {},
   "source": [
    "## $\\sigma_{\\theta \\theta}$ against Crack Length $a$"
   ]
  },
  {
   "cell_type": "code",
   "execution_count": null,
   "metadata": {},
   "outputs": [],
   "source": [
    "cs_beta = sp.Matrix([sp.cos(beta), sp.sin(beta)])\n",
    "sig_theta = sig_[1,1].subs(c_t, cs_theta_[0]).subs(s_b, cs_beta[1]).subs(c_b, cs_beta[0])\n",
    "sig_theta"
   ]
  },
  {
   "cell_type": "code",
   "execution_count": null,
   "metadata": {},
   "outputs": [],
   "source": [
    "param = {sigma_x : 500, r : 0.1}\n",
    "ss = sp.simplify(sig_theta.subs(param))\n",
    "get_sig_theta = sp.lambdify((a, beta, theta), ss, 'numpy')\n",
    "get_sig_theta"
   ]
  },
  {
   "cell_type": "code",
   "execution_count": null,
   "metadata": {},
   "outputs": [],
   "source": [
    "_, (ax1) = plt.subplots(1, 1, figsize=(7,3))\n",
    "a_ = np.linspace(0, 100, 100)\n",
    "beta_ = 53 * np.pi/180\n",
    "theta_ = get_theta(beta_) \n",
    "sig_theta_ = get_sig_theta(a_, beta_, theta_)\n",
    "ax1.plot(a_, sig_theta_, color='blue', lw=2)\n",
    "ax1.set_xlabel(r'$a$'); ax1.set_ylabel(r'$\\sigma_{\\theta}$')\n",
    "ax1.legend()"
   ]
  },
  {
   "cell_type": "code",
   "execution_count": null,
   "metadata": {},
   "outputs": [],
   "source": [
    "params = {beta : 90 * np.pi / 180}\n",
    "K_Ic =  sig_[1,1].subs(c_b, sp.cos(beta)).subs(s_b, sp.sin(beta))\n",
    "K_Ic_ = K_Ic.subs(params)\n",
    "K_Ic_"
   ]
  },
  {
   "cell_type": "markdown",
   "metadata": {},
   "source": [
    "## Normalized Parameters"
   ]
  },
  {
   "cell_type": "code",
   "execution_count": null,
   "metadata": {},
   "outputs": [],
   "source": [
    "K_Ic = sigma_x * sp.sqrt( sp.pi * a)\n",
    "K_Ic"
   ]
  },
  {
   "cell_type": "code",
   "execution_count": null,
   "metadata": {},
   "outputs": [],
   "source": [
    "Norm_K_I = K_I / K_Ic\n",
    "Norm_K_I_ = Norm_K_I.subs(s_b, sp.sin(beta))\n",
    "Norm_K_I_"
   ]
  },
  {
   "cell_type": "code",
   "execution_count": null,
   "metadata": {},
   "outputs": [],
   "source": [
    "get_Norm_K_I = sp.lambdify((beta), Norm_K_I_, 'numpy')\n",
    "get_Norm_K_I"
   ]
  },
  {
   "cell_type": "code",
   "execution_count": null,
   "metadata": {},
   "outputs": [],
   "source": [
    "Norm_K_II = K_II / K_Ic\n",
    "Norm_K_II_ = Norm_K_II.subs(s_b, sp.sin(beta)).subs(c_b, sp.cos(beta))\n",
    "Norm_K_II_"
   ]
  },
  {
   "cell_type": "code",
   "execution_count": null,
   "metadata": {},
   "outputs": [],
   "source": [
    "get_Norm_K_II = sp.lambdify((beta), Norm_K_II_, 'numpy')\n",
    "get_Norm_K_II"
   ]
  },
  {
   "cell_type": "code",
   "execution_count": null,
   "metadata": {},
   "outputs": [],
   "source": [
    "_, (ax1) = plt.subplots(1, 1, figsize=(6,4))\n",
    "beta_ = np.linspace(0, 90 * np.pi/180, 100)\n",
    "K_I_K_Ic = get_Norm_K_I(beta_)\n",
    "K_II_K_Ic = get_Norm_K_II(beta_)\n",
    "ax1.plot(K_I_K_Ic, K_II_K_Ic, color='blue', lw=2)\n",
    "ax1.set_xlabel(r'$K_{If}/K_{Ic}$'); ax1.set_ylabel(r'$K_{IIf}/K_{Ic}$')\n",
    "ax1.legend()"
   ]
  },
  {
   "cell_type": "markdown",
   "metadata": {},
   "source": [
    "## R-Curve\n",
    "The fracture of quasi-brittle materials can be depicted by an R-curve which is also termed as fracture resistance. R-Curve is an envelope of energy release rate. For quasi-brittle materials, R is an increasing and convex function. This curve may be dependent on specimen geometry and material. \n",
    "A figure shown below highlights that the convex envelope of R-curve serves as the limit for crack gorwth, beyond which the unstable crack grows.\n"
   ]
  },
  {
   "cell_type": "markdown",
   "metadata": {},
   "source": [
    "<img src=\"Rcurve.png\" width=\"500\"/>"
   ]
  },
  {
   "cell_type": "markdown",
   "metadata": {},
   "source": [
    "For an infinite size specimen, the energy release rate is given by:\n",
    "\\begin{gather*}\n",
    "G = \\frac{\\sigma^2 \\pi a f_1^2}{E}\n",
    "\\end{gather*}\n",
    "where, $\\sigma = \\frac{Ps}{b^2}$ for three point bending beam, $a$, $E$ represent the crack length and the modulus of elasticity respectively. The term $f_1$ in $\\alpha$ equation is a geometry factor for the stress intensity factor and its value is equal to 1.123 for three point beam."
   ]
  },
  {
   "cell_type": "code",
   "execution_count": null,
   "metadata": {},
   "outputs": [],
   "source": [
    "f_1 = sp.Symbol('f_1', nonnegative = True)\n",
    "f_2 = sp.Symbol('f_2', nonnegative = True)\n",
    "E = sp.Symbol('E', nonnegative = True)\n",
    "alpha = sp.Symbol('alpha', nonnegative = True)\n",
    "a_0 = sp.Symbol('a_0', nonnegative = True)\n",
    "a_c = sp.Symbol('a_c', nonnegative = True)\n",
    "pi = sp.Symbol(r'\\pi', nonnegative = True)\n",
    "D = sp.Symbol('D', nonnegative = True)\n",
    "H_0 = sp.Symbol('H_0', nonnegative = True)\n",
    "B = sp.Symbol('B', nonnegative = True)\n",
    "P_max = sp.Symbol('P_max', nonnegative = True)\n",
    "P = sp.Symbol('P', nonnegative = True)\n",
    "S = sp.Symbol('S', nonnegative = True)\n",
    "B = sp.Symbol('B', nonnegative = True)\n",
    "a = sp.Symbol('a', nonnegative = True)\n",
    "COD = sp.Symbol('COD', nonnegative = True)\n",
    "K_Ic = sp.Symbol('K_{Ic}', nonnegative = True)"
   ]
  },
  {
   "cell_type": "code",
   "execution_count": null,
   "metadata": {},
   "outputs": [],
   "source": [
    "params = {f_2 : 1.42, \n",
    "          E: 28900, #N/mm2\n",
    "          P_max : 10, #N \n",
    "          D : 19, #mm\n",
    "          H_0 : 3, #mm\n",
    "          B : 76.2, #mm\n",
    "          S : 304.8, #mm\n",
    "          P : 120, #N\n",
    "          pi : 3.14, \n",
    "          a_0: 16, #mm\n",
    "          f_1: 1.123,\n",
    "          COD : 0.0094, ##mm\n",
    "          K_Ic : 26.3 #N/mm2\n",
    "         }"
   ]
  },
  {
   "cell_type": "code",
   "execution_count": null,
   "metadata": {},
   "outputs": [],
   "source": [
    "sigma_x = (P * S) / B**2\n",
    "sigma_x_ = sigma_x.subs(params)\n",
    "sigma_x_"
   ]
  },
  {
   "cell_type": "code",
   "execution_count": null,
   "metadata": {},
   "outputs": [],
   "source": [
    "G = (sigma_x_ * pi * a * f_1**2)/E\n",
    "G"
   ]
  },
  {
   "cell_type": "code",
   "execution_count": null,
   "metadata": {},
   "outputs": [],
   "source": [
    "G_ = G.subs(params)\n",
    "G_"
   ]
  },
  {
   "cell_type": "code",
   "execution_count": null,
   "metadata": {},
   "outputs": [],
   "source": [
    "get_G = sp.lambdify((a), G_, 'numpy')\n",
    "get_G"
   ]
  },
  {
   "cell_type": "markdown",
   "metadata": {},
   "source": [
    "With reference to Shah, the Crack Mouth Opening Displacement can be calculated as follows:\n",
    "\\begin{gather*}\n",
    "CMOD = \\frac{4 \\sigma f_2}{E}\n",
    "\\end{gather*}"
   ]
  },
  {
   "cell_type": "code",
   "execution_count": null,
   "metadata": {},
   "outputs": [],
   "source": [
    "CMOD = (4 * sigma_x.subs(params) * f_2.subs(params)) / E.subs(params)\n",
    "CMOD"
   ]
  },
  {
   "cell_type": "markdown",
   "metadata": {},
   "source": [
    "For the case, when critical crack mouth opening displacement $CMOD_c$ is known from experiment, the crack opening displacement $COD$ can be obtained from the equation given by Jenq and Shah:\n",
    "\\begin{gather*}\n",
    "COD = CMOD_c\\left[\\left(1 - \\frac{a_0}{a}\\right)^2 + \\left(1.081 - 1.149 \\left(\\frac{a}{D}\\right)\\right)\\left[\\frac{a_0}{a} - \\left(\\frac{a_0}{a}\\right)^2\\right]\\right]^{1/2} \n",
    "\\end{gather*}\n",
    "In order to obtain the $COD_c$ at the tip of the crack we will replace $x$ with $a_0$. "
   ]
  },
  {
   "cell_type": "code",
   "execution_count": null,
   "metadata": {},
   "outputs": [],
   "source": [
    "#COD = CMOD * sp.sqrt((1 - a_0/a)**2 + (1.081 - 1.149*(a/D))*(a_0/a - (a_0/a)**2))\n",
    "#COD_ = COD.subs(params)\n",
    "#a_ = alpha * a_0\n",
    "#COD_a = COD_.subs(a, a_)\n",
    "#COD_a"
   ]
  },
  {
   "cell_type": "markdown",
   "metadata": {},
   "source": [
    "In order to obtain R-Curve the following equation is to be evaluated:\n",
    "\\begin{gather*}\n",
    "R = \\beta_2 \\psi (a - a_0)^{d_{2}}\n",
    "\\end{gather*}\n",
    "The value of $\\psi$ is normally close to one, hence it can be ignored whereas to calculate factor $\\beta_2$ two critical conditions have to be considered i.e. $K_I = K_{IC}$ and $COD = CTOD_c$. Therefore, with reference to Maximum Tangential Stress Criterion $K_{IC}$ will be calculated as:\n",
    "\\begin{gather*}\n",
    "K_{Ic} = \\sigma_x \\sqrt{\\pi a}\n",
    "\\end{gather*}"
   ]
  },
  {
   "cell_type": "code",
   "execution_count": null,
   "metadata": {},
   "outputs": [],
   "source": [
    "#K_Ic = sigma_x_ * sp.sqrt( sp.pi * a)\n",
    "#K_Ic_ = K_Ic.subs(a, a_)\n",
    "#K_Ic_"
   ]
  },
  {
   "cell_type": "markdown",
   "metadata": {},
   "source": [
    "With reference to Shah, the value of $\\beta_2$ can be calculated as:\n",
    "\\begin{gather*}\n",
    "\\beta_2 = \\frac {K_{Ic}^2 (\\alpha a_0 - a_0)^{-d_2}}{E \\left(1 - \\frac{d_2 - \\frac{\\alpha - 1}{\\alpha}}{d_1 - \\frac{\\alpha - 1}{\\alpha}} \\right)}\n",
    "\\end{gather*}\n",
    "and the unknown terms $\\alpha$, $d_{1,2}$ in the above equation can be obtained from:\n",
    "\\begin{gather*}\n",
    "\\alpha = \\frac {\\pi E^2 f_1^2 CTOD_c^2}{32 a_0 K_{Ic}^2 f_2^2} + \\sqrt {\\frac {\\pi E^2 f_1^2 CTOD_c^2}{32 a_0 K_{Ic}^2 f_2^2} + 1} \\\\\n",
    "d_{1,2} = \\frac{1}{2} + \\frac{\\alpha - 1} {\\alpha} \\pm \\sqrt{\\left(\\frac{1}{4} + \\frac{\\alpha - 1} {\\alpha} - \\left(\\frac{\\alpha - 1} {\\alpha}\\right)^2\\right)}\n",
    "\\end{gather*}\n",
    "where, $f_2$ is a geometry parameter ad is equal to 1.42 for three point bend beam. $\\alpha$ is the precritical stable crack growth ($\\alpha \\geq 1$). It is equal to 1 for a pure brittle material whereas it is greater than 1 for quasi-brittle materials. "
   ]
  },
  {
   "cell_type": "code",
   "execution_count": null,
   "metadata": {},
   "outputs": [],
   "source": [
    "alpha = (pi * E**2 * f_1**2 * COD**2) / (32 * a_0 * K_Ic**2 * f_2**2) \\\n",
    "        + sp.sqrt((pi * E**2 * f_1**2 * COD**2) / (32 * a_0 * K_Ic**2 * f_2**2) + 1)\n",
    "alpha_ = sp.simplify(alpha.subs(params))\n",
    "alpha_"
   ]
  },
  {
   "cell_type": "code",
   "execution_count": null,
   "metadata": {},
   "outputs": [],
   "source": [
    "d_1 = (1/2) + ((alpha_ - 1) / alpha_) + sp.sqrt(1/4 + (alpha_ - 1) / alpha_ - ((alpha_ - 1) / alpha_)**2)\n",
    "d_2 = (1/2) + ((alpha_ - 1) / alpha_) - sp.sqrt(1/4 + (alpha_ - 1) / alpha_ - ((alpha_ - 1) / alpha_)**2)\n",
    "d_1_ = d_1.subs(params)\n",
    "d_2_ = d_2.subs(params)\n",
    "d_2_, d_1_"
   ]
  },
  {
   "cell_type": "code",
   "execution_count": null,
   "metadata": {},
   "outputs": [],
   "source": [
    "#get_d_1 = sp.lambdify((a), d_1_, 'numpy')\n",
    "#get_d_1"
   ]
  },
  {
   "cell_type": "code",
   "execution_count": null,
   "metadata": {},
   "outputs": [],
   "source": [
    "#get_d_2 = sp.lambdify((a), d_2_, 'numpy')\n",
    "#get_d_2"
   ]
  },
  {
   "cell_type": "code",
   "execution_count": null,
   "metadata": {
    "slideshow": {
     "slide_type": "subslide"
    }
   },
   "outputs": [],
   "source": [
    "beta_2 = (K_Ic**2 * (alpha_ * a_0 - a_0)**-d_2) / (E * (1 - (d_2 - ((alpha_-1)/alpha_))/(d_1 - ((alpha_-1)/alpha_))))\n",
    "beta_2_ = beta_2.subs(params)\n",
    "beta_2_"
   ]
  },
  {
   "cell_type": "code",
   "execution_count": null,
   "metadata": {},
   "outputs": [],
   "source": [
    "#get_beta_2 = sp.lambdify((a), beta_2_, 'numpy')\n",
    "#get_beta_2"
   ]
  },
  {
   "cell_type": "code",
   "execution_count": null,
   "metadata": {},
   "outputs": [],
   "source": [
    "R = beta_2_ * (a - a_0)**d_2\n",
    "R_ = R.subs(params)\n",
    "#sp.simplify(R_)\n",
    "R_"
   ]
  },
  {
   "cell_type": "code",
   "execution_count": null,
   "metadata": {},
   "outputs": [],
   "source": [
    "get_R = sp.lambdify((a), R_, 'numpy')\n",
    "get_R"
   ]
  },
  {
   "cell_type": "markdown",
   "metadata": {},
   "source": [
    "The value of R must not exceed its maximum value which is:\n",
    "\\begin{gather*}\n",
    "R_{Ic} = \\frac{K_{Ic}^2}{E}\n",
    "\\end{gather*}"
   ]
  },
  {
   "cell_type": "code",
   "execution_count": null,
   "metadata": {},
   "outputs": [],
   "source": [
    "R_Ic = (K_Ic)**2 / E\n",
    "#R_Ic_ =R_Ic.subs(a, a_c_).subs(params)\n",
    "R_Ic_ = R_Ic.subs(params)\n",
    "R_Ic_"
   ]
  },
  {
   "cell_type": "code",
   "execution_count": null,
   "metadata": {},
   "outputs": [],
   "source": [
    "#get_R_Ic = sp.lambdify((s_b), R_Ic_, 'numpy')\n",
    "#get_R_Ic"
   ]
  },
  {
   "cell_type": "code",
   "execution_count": null,
   "metadata": {},
   "outputs": [],
   "source": [
    "_, (ax1) = plt.subplots(1, 1, figsize=(7,3))\n",
    "a = np.linspace(16, 100, 100)\n",
    "a_g = np.linspace(0, 100, 100)\n",
    "R = get_R(a) \n",
    "#R_I_c = R_Ic_\n",
    "G = get_G(a_g)\n",
    "ax1.plot(a , R, color='orange', lw=2, label= 'R-curve')\n",
    "ax1.plot(a_g , G, color='blue', lw=2, label= 'G')\n",
    "#ax1.plot(a , R_I_c, color='yellow', lw=2)\n",
    "ax1.set_xlabel(r'$a$'); ax1.set_ylabel(r'$G$')\n",
    "ax1.legend()"
   ]
  },
  {
   "cell_type": "code",
   "execution_count": null,
   "metadata": {},
   "outputs": [],
   "source": [
    "R"
   ]
  },
  {
   "cell_type": "code",
   "execution_count": null,
   "metadata": {},
   "outputs": [],
   "source": [
    "G"
   ]
  },
  {
   "cell_type": "code",
   "execution_count": null,
   "metadata": {},
   "outputs": [],
   "source": []
  }
 ],
 "metadata": {
  "kernelspec": {
   "display_name": "Python 3",
   "language": "python",
   "name": "python3"
  },
  "language_info": {
   "codemirror_mode": {
    "name": "ipython",
    "version": 3
   },
   "file_extension": ".py",
   "mimetype": "text/x-python",
   "name": "python",
   "nbconvert_exporter": "python",
   "pygments_lexer": "ipython3",
   "version": "3.7.6"
  },
  "toc": {
   "base_numbering": 1,
   "nav_menu": {},
   "number_sections": true,
   "sideBar": true,
   "skip_h1_title": false,
   "title_cell": "Table of Contents",
   "title_sidebar": "Contents",
   "toc_cell": false,
   "toc_position": {
    "height": "calc(100% - 180px)",
    "left": "10px",
    "top": "150px",
    "width": "165px"
   },
   "toc_section_display": true,
   "toc_window_display": true
  }
 },
 "nbformat": 4,
 "nbformat_minor": 2
}
