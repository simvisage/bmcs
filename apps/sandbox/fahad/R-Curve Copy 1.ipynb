{
 "cells": [
  {
   "cell_type": "code",
   "execution_count": 1,
   "metadata": {},
   "outputs": [],
   "source": [
    "import numpy as np\n",
    "import sympy as sp\n",
    "import matplotlib.pyplot as plt\n",
    "from scipy.optimize import root\n",
    "import math"
   ]
  },
  {
   "cell_type": "markdown",
   "metadata": {},
   "source": [
    "# R-CURVE\n",
    "The fracture of quasi-brittle materials can be depicted by an R-curve which is also termed as fracture resistance. R-Curve is an envelope of energy release rate. For quasi-brittle materials, R is an increasing and convex function. This curve may be dependent on specimen geometry and material. \n",
    "R-Curves can be constructed using two basic approaches for quasi-brittle materials:\n",
    "\n",
    "1. Equivalent Elastic Crack Approach\n",
    "2. Cohesive Crack Approach\n",
    "\n",
    "A figure shown below highlights that the convex envelope of R-curve serves as the limit for crack gorwth, beyond which the unstable crack grows."
   ]
  },
  {
   "cell_type": "markdown",
   "metadata": {},
   "source": [
    "<img src=\"R-Curve.png\" width=\"300\"/>"
   ]
  },
  {
   "cell_type": "markdown",
   "metadata": {},
   "source": [
    "## Equivalent Elastic Crack Approach\n",
    "In order to model R-Curve, an effective traction free crack is assumed in this technique."
   ]
  },
  {
   "cell_type": "markdown",
   "metadata": {},
   "source": [
    "### R-Curve as an envelope of G-Curve:\n",
    "At critical crack propagation:\n",
    "\\begin{gather*}\n",
    "G_c = R_c    \\\\\n",
    "\\left(\\frac{\\partial G}{\\partial a}\\right)_c = \\left(\\frac{\\partial R}{\\partial a}\\right)_c\n",
    "\\end{gather*}\n",
    "Here, $a$ represents the crack length. $G_c$ represents the critical strain energy release rate and $R_c$ represents the critical point of R--Curve.\n",
    "In case of a known geometry, the value of G depends on three independent variable i.e.:\n",
    "1. specimen width (b)\n",
    "2. crack length (a)\n",
    "3. normalized applied load ($\\sigma$) (for three point bending $\\sigma = 1.5Ps/b^2$)\n",
    "\n",
    "The total sum of stable crack extension and initial critical crack dimension gives ciritical crack length. R-Curve depends on two factors which are $b$ and $a_0$. The figure below shows the link up of an R-Curve with a G envelope which is the focus of this sheet to re-plot the results for comparison with theory."
   ]
  },
  {
   "cell_type": "markdown",
   "metadata": {},
   "source": [
    "<img src=\"R-Curve explanation.png\" width=\"300\"/>"
   ]
  },
  {
   "cell_type": "markdown",
   "metadata": {},
   "source": [
    "### Energy Release Rate:\n",
    "The basic equation to calculate Energy Strain rate is obtained from Taylor series and is given as follows where $a_c$ represents critical crack length, $a$ denotes the crack length during elongation and $n$ depends on the function of $G$ in reference to crack length and is 1 if $G$ is a linear function of the crack dimension and 2 if its a quadratic function. \n",
    "\\begin{gather*}\n",
    "G = G_c + \\sum_{n=1}^{\\infty} \\frac{1}{n!}\\left(\\frac{d^nG}{da^n}\\right)_c(a - a_c)^n \\\\\n",
    "\\Delta a_c = a_c - a_o\n",
    "\\end{gather*}\n",
    "$a_o$ initial crack length"
   ]
  },
  {
   "cell_type": "markdown",
   "metadata": {},
   "source": [
    "<img src=\"Three Point Bend Beam.png\" width=\"300\"/>"
   ]
  },
  {
   "cell_type": "markdown",
   "metadata": {},
   "source": [
    "The figure above shows a simple three point bending beam that clearifies the dimensions taken into account in the study to correctly simulate the crack behavior."
   ]
  },
  {
   "cell_type": "code",
   "execution_count": 2,
   "metadata": {},
   "outputs": [
    {
     "data": {
      "text/plain": [
       "(G_c, a_0, a_c, a)"
      ]
     },
     "execution_count": 2,
     "metadata": {},
     "output_type": "execute_result"
    }
   ],
   "source": [
    "G_c, a_0, a_c, a = sp.symbols('G_c, a_0, a_c, a', real=True)\n",
    "G = sp.Symbol('G')\n",
    "n = sp.Symbol('n', real = True)\n",
    "delta_a_c = sp.Function('\\Delta{a_c}')(a_c, a_0)\n",
    "delta_a = sp.Function('\\Delta{a}')(a, a_0)\n",
    "sigma = sp.Symbol (r'\\sigma', real = True)\n",
    "alpha = sp.Symbol(r'\\alpha', real = True)\n",
    "d = sp.Symbol('d', real = True)\n",
    "P = sp.Symbol('P', real = True)\n",
    "b = sp.Symbol('b', real = True)\n",
    "x = sp.Symbol('x', real = True)\n",
    "K_I = sp.Symbol('K_I', real = True)\n",
    "E = sp.Symbol('E', real = True)\n",
    "G_c, a_0, a_c, a"
   ]
  },
  {
   "cell_type": "code",
   "execution_count": 3,
   "metadata": {},
   "outputs": [],
   "source": [
    "## Geometry Factor\n",
    "f_1 = sp.Symbol('f_1', real = True) #1.123 (Three Point bend Beam)\n",
    "f_2 = sp.Symbol('f_2', real = True) #1.42 (Three Point bend Beam)\n",
    "\n",
    "K_ic = K_I\n",
    "#CTOD = COD\n",
    "CTOD = sp.Symbol('CTOD', real = True)"
   ]
  },
  {
   "cell_type": "code",
   "execution_count": 4,
   "metadata": {},
   "outputs": [],
   "source": [
    "b = 76.2\n",
    "P = 100\n",
    "E = 20000\n",
    "a_0 = 10\n",
    "f_1 = 1.123\n",
    "f_2 = 1.42\n",
    "x = 10\n",
    "K_ic = 31.4\n",
    "CTOD = 0.02"
   ]
  },
  {
   "cell_type": "code",
   "execution_count": 5,
   "metadata": {},
   "outputs": [
    {
     "data": {
      "text/plain": [
       "7.874015748031495"
      ]
     },
     "execution_count": 5,
     "metadata": {},
     "output_type": "execute_result"
    }
   ],
   "source": [
    "#for three point bending beam as shown in figure\n",
    "s = 4*b \n",
    "sigma = 1.5 * P * s / b**2\n",
    "sigma "
   ]
  },
  {
   "cell_type": "markdown",
   "metadata": {},
   "source": [
    "With reference to Linear Elastic Fracture Mechanics the Strain Energy Release Rate for an infinite size specimen can be written as:\n",
    "\\begin{align}\n",
    "G = \\frac{\\sigma^2 \\pi a {f_1}^2}{E}\n",
    "\\end{align}\n",
    "\n",
    "$f_1$ is a geometry factor and its value is equal to 1.123 for the three point bend beam and $E$ represents the modulus of Elasticity."
   ]
  },
  {
   "cell_type": "code",
   "execution_count": 6,
   "metadata": {},
   "outputs": [
    {
     "data": {
      "text/latex": [
       "$\\displaystyle 0.0122820807292115 a$"
      ],
      "text/plain": [
       "0.0122820807292115*a"
      ]
     },
     "execution_count": 6,
     "metadata": {},
     "output_type": "execute_result"
    }
   ],
   "source": [
    "G = sigma**2 * np.pi * a * f_1**2 / E\n",
    "G"
   ]
  },
  {
   "cell_type": "markdown",
   "metadata": {},
   "source": [
    "When $n = 2$ the expression for R-curve with reference to the theory can be written as:\n",
    "\\begin{gather*}\n",
    "R = \\beta_1(a - a_0)^{d_1} + \\beta_2(a - a_0)^{d_2} \\\\\n",
    "d_1 = \\frac{1}{2} + \\frac{\\alpha - 1} {\\alpha} + \\left(\\frac{1}{4} + \\frac{\\alpha - 1} {\\alpha} - \\left(\\frac{\\alpha - 1} {\\alpha}\\right)^2\\right)^{\\frac{1}{2}} \\\\\n",
    "d_2 = \\frac{1}{2} + \\frac{\\alpha - 1} {\\alpha} - \\left(\\frac{1}{4} + \\frac{\\alpha - 1} {\\alpha} - \\left(\\frac{\\alpha - 1} {\\alpha}\\right)^2\\right)^{\\frac{1}{2}}\n",
    "\\end{gather*}\n",
    "Now by using the boundary condition $\\frac{d R}{d a}_{a = ac} = 0$, a relation between $\\beta_1, \\beta_2$ is obtained and the equation for R can be written as: \n",
    "\\begin{gather*}\n",
    "R = \\beta_2 \\psi (a - a_0)^{d_2}\n",
    "\\end{gather*}\n",
    "where,\n",
    "\\begin{gather*}\n",
    "\\psi =1 - \\left(\\frac{d_2 - \\frac{\\alpha - 1}{\\alpha}}{d_1 - \\frac{\\alpha - 1}{\\alpha}}\\right)\\left( \\frac{\\alpha a_0 - a_0}{\\alpha}\\right) ^{d_2 - d_1}\n",
    "\\end{gather*}\n",
    "As $\\psi$ is approximately equal to 1. Hence, the R equation will be further simplified.\n",
    "\\begin{gather*}\n",
    "R = \\beta_2 (a - a_0)^{d_2}\n",
    "\\end{gather*}\n",
    "As the terms $\\beta_2$ and $\\alpha$ are not known therefore, both the terms can be obtained by the following set of equations.\n",
    "\\begin{gather*}\n",
    "\\beta = \\frac {K_{Ic}^2 (\\alpha a_0 - a_0)^{-d_2}}{E \\left(1 - \\frac{d_2 - \\frac{\\alpha - 1}{\\alpha}}{d_1 - \\frac{\\alpha - 1}{\\alpha}} \\right)} \\\\\n",
    "\\alpha = \\frac {\\pi E^2 f_1^2 CTOD_c^2}{32 a_0 K_{Ic}^2 f_2^2} + \\sqrt {\\frac {\\pi E^2 f_1^2 CTOD_c^2}{32 a_0 K_{Ic}^2 f_2^2} + 1}\n",
    "\\end{gather*}\n",
    "\n",
    "where, $f_2$ is a geometry parameter ad is equal to 1.42 for three point bend beam. $\\alpha$ is the precritical stable crack growth ($\\alpha \\geq 1$). It is equal to 1 for a pure brittle material whereas it is greater than 1 for quasi-brittle materials. Moreover, it can be obtained by knowing the critical conditions which are $K_I = K_{Ic}$ and $COD = CTOD_c$. Here, $COD$ stands for crack opening displacement and $CTOD$ represents crack tip opening displacement. Crack tip opening displacement occurs at the tip of the crack that plays a vital role in crack propagation whereas Stress Intenisty factor ($K_I$) is a factor at the end of the process zone. The figure depicted below throws light on the definition of these two parameters."
   ]
  },
  {
   "cell_type": "markdown",
   "metadata": {},
   "source": [
    "<img src=\"COD and KI.png\" width=\"500\"/>"
   ]
  },
  {
   "cell_type": "code",
   "execution_count": 7,
   "metadata": {},
   "outputs": [
    {
     "data": {
      "text/latex": [
       "$\\displaystyle 0.996422222283$"
      ],
      "text/plain": [
       "0.996422222283000"
      ]
     },
     "execution_count": 7,
     "metadata": {},
     "output_type": "execute_result"
    }
   ],
   "source": [
    "term = sp.Function('term')(E, f_1, CTOD, a_0, K_ic, f_2)\n",
    "term_1 = sp.simplify(term.subs(term, (np.pi * E**2 * f_1**2 * CTOD**2) /(32 * a_0 * K_ic**2 * f_2 **2)))\n",
    "term_1\n"
   ]
  },
  {
   "cell_type": "code",
   "execution_count": 8,
   "metadata": {},
   "outputs": [
    {
     "data": {
      "text/latex": [
       "$\\displaystyle 2.40937028299967$"
      ],
      "text/plain": [
       "2.40937028299967"
      ]
     },
     "execution_count": 8,
     "metadata": {},
     "output_type": "execute_result"
    }
   ],
   "source": [
    "alpha = (term_1) + sp.sqrt((term_1) + 1)\n",
    "alpha"
   ]
  },
  {
   "cell_type": "code",
   "execution_count": 9,
   "metadata": {},
   "outputs": [
    {
     "data": {
      "text/plain": [
       "(1.78693872989662, 0.382968853793673)"
      ]
     },
     "execution_count": 9,
     "metadata": {},
     "output_type": "execute_result"
    }
   ],
   "source": [
    "d_1 = 1/2 + ((alpha - 1) / alpha) + sp.sqrt(1/4 + ((alpha - 1) / alpha) - ((alpha - 1) / alpha)**2)\n",
    "d_2 = 1/2 + ((alpha - 1) / alpha) - sp.sqrt(1/4 + ((alpha - 1) / alpha) - ((alpha - 1) / alpha)**2)\n",
    "d_1,d_2"
   ]
  },
  {
   "cell_type": "code",
   "execution_count": 10,
   "metadata": {},
   "outputs": [
    {
     "data": {
      "text/latex": [
       "$\\displaystyle \\frac{0.00409471159704433}{\\left(\\frac{1}{a - 10}\\right)^{1.40396987610295}} + 1$"
      ],
      "text/plain": [
       "0.00409471159704433*(1/(a - 10))**(-1.40396987610295) + 1"
      ]
     },
     "execution_count": 10,
     "metadata": {},
     "output_type": "execute_result"
    }
   ],
   "source": [
    "si = 1 - ((d_2 - (alpha - 1)/alpha)/(d_1 - ((alpha - 1)/alpha)) * ((alpha*a_0 - a_0)/(a - a_0))**(d_2-d_1))\n",
    "si"
   ]
  },
  {
   "cell_type": "code",
   "execution_count": 11,
   "metadata": {},
   "outputs": [
    {
     "data": {
      "text/latex": [
       "$\\displaystyle 0.0153225027209121$"
      ],
      "text/plain": [
       "0.0153225027209121"
      ]
     },
     "execution_count": 11,
     "metadata": {},
     "output_type": "execute_result"
    }
   ],
   "source": [
    "beta_2 = (K_ic**2 * (alpha * a_0 - a_0)**(-d_2))/ (E * (1 - ((d_2 - (alpha - 1)/alpha)/(d_1 - ((alpha - 1)/alpha)))))\n",
    "beta_2"
   ]
  },
  {
   "cell_type": "code",
   "execution_count": 12,
   "metadata": {},
   "outputs": [
    {
     "data": {
      "text/latex": [
       "$\\displaystyle 0.0153225027209121 \\left(a - 10\\right)^{0.382968853793673}$"
      ],
      "text/plain": [
       "0.0153225027209121*(a - 10)**0.382968853793673"
      ]
     },
     "execution_count": 12,
     "metadata": {},
     "output_type": "execute_result"
    }
   ],
   "source": [
    "R = beta_2 * (a - a_0)**d_2 # *si\n",
    "R"
   ]
  },
  {
   "cell_type": "code",
   "execution_count": 13,
   "metadata": {},
   "outputs": [
    {
     "data": {
      "text/plain": [
       "<function _lambdifygenerated(a)>"
      ]
     },
     "execution_count": 13,
     "metadata": {},
     "output_type": "execute_result"
    }
   ],
   "source": [
    "get_R = sp.lambdify(a, R, 'numpy')\n",
    "get_R"
   ]
  },
  {
   "cell_type": "markdown",
   "metadata": {},
   "source": [
    "Here, it is to be noted that the value of R cannot exceed the maximum value of $R_{Ic}$ when a > a_c i.e.\n",
    "\\begin{gather*}\n",
    "R_{Ic} = \\frac{K_{Ic}^2}{E}\n",
    "\\end{gather*}"
   ]
  },
  {
   "cell_type": "code",
   "execution_count": 14,
   "metadata": {},
   "outputs": [
    {
     "data": {
      "text/plain": [
       "0.049297999999999995"
      ]
     },
     "execution_count": 14,
     "metadata": {},
     "output_type": "execute_result"
    }
   ],
   "source": [
    "R_ic = (K_ic)**2 / E\n",
    "R_ic"
   ]
  },
  {
   "cell_type": "code",
   "execution_count": 15,
   "metadata": {},
   "outputs": [
    {
     "data": {
      "text/latex": [
       "$\\displaystyle 0.0122820807292115 a$"
      ],
      "text/plain": [
       "0.0122820807292115*a"
      ]
     },
     "execution_count": 15,
     "metadata": {},
     "output_type": "execute_result"
    }
   ],
   "source": [
    "get_G = sp.lambdify(\n",
    "    (a), G, 'numpy'\n",
    ")\n",
    "G"
   ]
  },
  {
   "cell_type": "code",
   "execution_count": 16,
   "metadata": {},
   "outputs": [
    {
     "data": {
      "text/latex": [
       "$\\displaystyle 1.67726812023232 \\cdot 10^{-6} a^{3}$"
      ],
      "text/plain": [
       "1.67726812023232e-6*a**3"
      ]
     },
     "execution_count": 16,
     "metadata": {},
     "output_type": "execute_result"
    }
   ],
   "source": [
    "G_general =sigma**2 * np.pi * a * (a/b)**2 / E\n",
    "G_general\n",
    "get_general_G = sp.lambdify((a), G_general, 'numpy')\n",
    "get_general_G\n",
    "G_general"
   ]
  },
  {
   "cell_type": "code",
   "execution_count": 19,
   "metadata": {},
   "outputs": [],
   "source": [
    "def get_response(a_min = 11, a_max=30,n_steps=10):\n",
    "    G_record, R_record, G_general_record = [], [], []\n",
    "    a_t = np.linspace(a_max,a_min,n_steps+1)\n",
    "    a = 0\n",
    "    a_g = np.linspace(a, a_max, n_steps+1)\n",
    "    for a_n, a in zip(a_t, a_g): \n",
    "        G = get_G(a)\n",
    "        G_general = get_general_G(a)\n",
    "        R = get_R(a_n)\n",
    "        #print(R)\n",
    "        #print(G)\n",
    "        G_record.append(G)\n",
    "        R_record.append(R)\n",
    "        G_general_record.append(G_general)\n",
    "    return (\n",
    "        a_t, a_g, np.array(G_record,dtype=np.float_),\n",
    "        np.array(R_record,dtype=np.float_),\n",
    "        np.array(G_general_record,dtype=np.float_)\n",
    "    )"
   ]
  },
  {
   "cell_type": "code",
   "execution_count": 27,
   "metadata": {},
   "outputs": [
    {
     "data": {
      "image/png": "[encoded data removed]",
      "text/plain": [
       "<Figure size 720x576 with 1 Axes>"
      ]
     },
     "metadata": {
      "needs_background": "light"
     },
     "output_type": "display_data"
    }
   ],
   "source": [
    "fig, ((ax1)) = plt.subplots(1,1,figsize=(10,8)) #((ax1,ax2),(ax3,ax4))\n",
    "#ax11 = ax1.twinx()\n",
    "#ax22 = ax2.twinx()\n",
    "colors = ['blue','red', 'green', 'black', 'magenta' ]\n",
    "n_step_range = np.arange(1,4)*15\n",
    "a_min = 10\n",
    "a_max = 25\n",
    "for n_step, color in zip(n_step_range, colors):\n",
    "    a_t, a_g, G_arr, R_arr, G_general_arr = get_response(a_min, a_max,n_step)\n",
    "    ax1.plot(a_t, R_arr[:], color=color, \n",
    "             label='n_steps = %g' % n_step)\n",
    "    ax1.set_xlabel('$a$'); ax1.set_ylabel(r'$R$')\n",
    "    ax1.legend()\n",
    "    ax11.plot(a_g, G_arr[:], '-.', color=color )\n",
    "    plt.savefig('R-Curve.pdf')\n",
    "    #print(a_t)\n",
    "    #print(a_g)\n",
    "    #ax2.plot(a_t, R_arr[:], color=color, \n",
    "   #          label='n_steps = %g' % n_step)\n",
    "    #ax2.set_xlabel('$a$'); ax2.set_ylabel(r'$R$')\n",
    "   # ax2.legend()\n",
    "    #ax22.plot(a_g, G_general_arr[:], '-.', color=color )"
   ]
  },
  {
   "cell_type": "code",
   "execution_count": null,
   "metadata": {},
   "outputs": [],
   "source": []
  },
  {
   "cell_type": "code",
   "execution_count": null,
   "metadata": {},
   "outputs": [],
   "source": []
  },
  {
   "cell_type": "code",
   "execution_count": null,
   "metadata": {},
   "outputs": [],
   "source": []
  }
 ],
 "metadata": {
  "kernelspec": {
   "display_name": "Python 3",
   "language": "python",
   "name": "python3"
  },
  "language_info": {
   "codemirror_mode": {
    "name": "ipython",
    "version": 3
   },
   "file_extension": ".py",
   "mimetype": "text/x-python",
   "name": "python",
   "nbconvert_exporter": "python",
   "pygments_lexer": "ipython3",
   "version": "3.7.6"
  },
  "toc": {
   "base_numbering": 1,
   "nav_menu": {},
   "number_sections": true,
   "sideBar": true,
   "skip_h1_title": false,
   "title_cell": "Table of Contents",
   "title_sidebar": "Contents",
   "toc_cell": false,
   "toc_position": {},
   "toc_section_display": true,
   "toc_window_display": true
  }
 },
 "nbformat": 4,
 "nbformat_minor": 2
}
