{
 "cells": [
  {
   "cell_type": "markdown",
   "metadata": {},
   "source": [
    "# Conceptualization and Verification of Maximum Stress Criterion"
   ]
  },
  {
   "cell_type": "code",
   "execution_count": 1,
   "metadata": {},
   "outputs": [],
   "source": [
    "%matplotlib notebook\n",
    "import matplotlib.pyplot as plt\n",
    "import numpy as np\n",
    "import sympy as sp\n",
    "sp.init_printing()\n",
    "import ipywidgets as ipw"
   ]
  },
  {
   "cell_type": "markdown",
   "metadata": {},
   "source": [
    "<img src=\"farfieldstress.png\" width=\"500\"/>"
   ]
  },
  {
   "cell_type": "code",
   "execution_count": 2,
   "metadata": {},
   "outputs": [
    {
     "data": {
      "image/png": "[encoded data removed]",
      "text/latex": [
       "$\\displaystyle \\tau_\\mathrm{fps}$"
      ],
      "text/plain": [
       "\\tau_\\mathrm{fps}"
      ]
     },
     "execution_count": 2,
     "metadata": {},
     "output_type": "execute_result"
    }
   ],
   "source": [
    "r = sp.Symbol('r', nonnegative = True)\n",
    "theta = sp.Symbol(r'\\theta', nonnegative = True)\n",
    "K_I = sp.Symbol('K_I', nonnegative = True)\n",
    "K_II = sp.Symbol('K_{II}', nonnegative = True)\n",
    "T = sp.Symbol('T', nonnegative = True)\n",
    "sigma_x =  sp.Symbol(r'\\sigma_x', nonnegative = True)\n",
    "sigma_z =  sp.Symbol(r'\\sigma_z', nonnegative = True)\n",
    "tau_fps = sp.Symbol(r'\\tau_\\mathrm{fps}')\n",
    "a = sp.Symbol('a', nonnegative = True)\n",
    "beta = sp.Symbol(r'\\beta', nonnegative = True)\n",
    "tau_fps"
   ]
  },
  {
   "cell_type": "markdown",
   "metadata": {},
   "source": [
    "## Representation of Far field stress in terms of Stress Intensity factors\n",
    "In this implementation, the far field stress is represented in  terms of Stress Intensity factors (SIFs) where $K_I$ represents mode I and $K_{II}$ depicts mode II. This terminology of measuring stresses in SIFs for external stress acting in uniaxial direction is shown as:\n",
    "\\begin{gather*}\n",
    "K_I = \\sigma_x \\sqrt{\\pi a}\\sin^2 \\beta  \\\\\n",
    "K_{II} = \\sigma_x \\sqrt{\\pi a}\\sin\\beta \\cos\\beta  \n",
    "\\end{gather*}\n",
    "The positive sign of $K_I$ highlights stress as tension where negative sign shows compression. Similarly, negative sign of $K_{II}$ represents stress in opposite direction. $\\beta$ represents the angle of crack orientation with respect to the vertical direction and $a$ represents the length of crack as depicted in figure. In the case of pure mode I failure, $\\beta$ is $90°$ whereas for failure along pure mode II $\\beta = 0°$"
   ]
  },
  {
   "cell_type": "markdown",
   "metadata": {},
   "source": [
    "The figure above shows stresses in the vicinity of crack tip. $\\theta$ depicts crack propagation angle and $r$ represents the radius of fracture propagation segment."
   ]
  },
  {
   "cell_type": "code",
   "execution_count": 3,
   "metadata": {},
   "outputs": [
    {
     "data": {
      "image/png": "[encoded data removed]",
      "text/latex": [
       "$\\displaystyle s_{b}$"
      ],
      "text/plain": [
       "s_b"
      ]
     },
     "execution_count": 3,
     "metadata": {},
     "output_type": "execute_result"
    }
   ],
   "source": [
    "s_b, c_b = sp.symbols('s_b, c_b')\n",
    "s_b"
   ]
  },
  {
   "cell_type": "code",
   "execution_count": 4,
   "metadata": {},
   "outputs": [
    {
     "data": {
      "image/png": "[encoded data removed]",
      "text/latex": [
       "$\\displaystyle \\left( \\sqrt{\\pi} \\sigma_x \\sqrt{a} s_{b}^{2}, \\  \\sqrt{\\pi} \\sigma_x \\sqrt{a} c_{b} s_{b}\\right)$"
      ],
      "text/plain": [
       "⎛                 2                       ⎞\n",
       "⎝√π⋅\\sigmaₓ⋅√a⋅s_b , √π⋅\\sigmaₓ⋅√a⋅c_b⋅s_b⎠"
      ]
     },
     "execution_count": 4,
     "metadata": {},
     "output_type": "execute_result"
    }
   ],
   "source": [
    "K_I = sigma_x * sp.sqrt(sp.pi * a) * s_b**2\n",
    "K_II  = sigma_x * sp.sqrt(sp.pi * a) * c_b * s_b\n",
    "K_I, K_II"
   ]
  },
  {
   "cell_type": "code",
   "execution_count": 5,
   "metadata": {},
   "outputs": [],
   "source": [
    "params = {beta:45*np.pi/180}"
   ]
  },
  {
   "cell_type": "code",
   "execution_count": 6,
   "metadata": {},
   "outputs": [
    {
     "data": {
      "image/png": "[encoded data removed]",
      "text/latex": [
       "$\\displaystyle \\left( \\sqrt{\\pi} \\sigma_x \\sqrt{a} s_{b}^{2}, \\  \\sqrt{\\pi} \\sigma_x \\sqrt{a} c_{b} s_{b}\\right)$"
      ],
      "text/plain": [
       "⎛                 2                       ⎞\n",
       "⎝√π⋅\\sigmaₓ⋅√a⋅s_b , √π⋅\\sigmaₓ⋅√a⋅c_b⋅s_b⎠"
      ]
     },
     "execution_count": 6,
     "metadata": {},
     "output_type": "execute_result"
    }
   ],
   "source": [
    "K_I_ = K_I#.subs(params)\n",
    "K_II_ = K_II#.subs(params)\n",
    "K_I_, K_II_"
   ]
  },
  {
   "cell_type": "code",
   "execution_count": 7,
   "metadata": {},
   "outputs": [],
   "source": [
    "## Representation of sin and cos components as s_t and c_t for simplicity.\n",
    "s_t, c_t = sp.symbols('s_t,c_t')\n",
    "#T_t = sp.Matrix([[c_t, -s_t],[s_t, c_t]])\n",
    "#T_t"
   ]
  },
  {
   "cell_type": "code",
   "execution_count": 8,
   "metadata": {},
   "outputs": [
    {
     "data": {
      "image/png": "[encoded data removed]",
      "text/latex": [
       "$\\displaystyle \\left[\\begin{matrix}c_{t}\\\\s_{t}\\end{matrix}\\right]$"
      ],
      "text/plain": [
       "⎡cₜ⎤\n",
       "⎢  ⎥\n",
       "⎣sₜ⎦"
      ]
     },
     "execution_count": 8,
     "metadata": {},
     "output_type": "execute_result"
    }
   ],
   "source": [
    "cs_theta = sp.Matrix([c_t, s_t])\n",
    "cs_theta"
   ]
  },
  {
   "cell_type": "code",
   "execution_count": 9,
   "metadata": {},
   "outputs": [
    {
     "data": {
      "image/png": "[encoded data removed]",
      "text/latex": [
       "$\\displaystyle \\left[\\begin{matrix}\\cos{\\left(\\theta \\right)}\\\\\\sin{\\left(\\theta \\right)}\\end{matrix}\\right]$"
      ],
      "text/plain": [
       "⎡cos(\\theta)⎤\n",
       "⎢           ⎥\n",
       "⎣sin(\\theta)⎦"
      ]
     },
     "execution_count": 9,
     "metadata": {},
     "output_type": "execute_result"
    }
   ],
   "source": [
    "cs_theta_ = sp.Matrix([sp.cos(theta), sp.sin(theta)])\n",
    "cs_theta_"
   ]
  },
  {
   "cell_type": "markdown",
   "metadata": {},
   "source": [
    "## Stress Equation\n",
    "Dominant term for stresses can be obtained as:\n",
    "\\begin{gather*}\n",
    "\\sigma_{ij} = \\frac{\\left[ K_I S_{ij}^I(\\theta) + K_{II} S_{ij}^{II}(\\theta) \\right]}{\\sqrt{2\\pi r}}\n",
    "\\end{gather*}\n",
    "where $K_I$, $K_{II}$ represents the Stress Intensity Factors for Mode I and Mode II failures and $S^I_{ij}(\\theta)$ , $S_{ij}^{II}(\\theta)$ depicts the Angular functions for Mode I and Mode II which are given as:\n",
    "Angular functions for Mode I:\n",
    "\\begin{align}\n",
    "S^{I} = \n",
    "\\left[\n",
    "\\begin{array}{cc}\n",
    "S^{I}_{11} & S^{I}_{12} \\\\\n",
    "S^{I}_{12} &  S^{I}_{22}\n",
    "\\end{array}\n",
    "\\right] =\n",
    "\\left[\n",
    "\\begin{array}{cc}\n",
    "2 \\cos\\frac{\\theta}{2} -\\cos\\frac{\\theta}{2} \\left[ 1 + \\sin\\frac{\\theta}{2}\\sin\\frac{3\\theta}{2}\\right] & \\cos\\frac{\\theta}{2}\\sin\\frac{\\theta}{2}\\cos\\frac{3\\theta}{2} \\\\\n",
    "\\cos\\frac{\\theta}{2}\\sin\\frac{\\theta}{2}\\cos\\frac{3\\theta}{2} &  \\cos\\frac{\\theta}{2} \\left[ 1 + \\sin\\frac{\\theta}{2}\\sin\\frac{3\\theta}{2}\\right]\n",
    "\\end{array}\n",
    "\\right] \n",
    "\\end{align}\n",
    "Angular functions for Mode II:\n",
    "\\begin{align}\n",
    "S^{II} = \n",
    "\\left[\n",
    "\\begin{array}{cc}\n",
    "S^{II}_{11} & S^{II}_{12} \\\\\n",
    "S^{II}_{12} &  S^{II}_{22}\n",
    "\\end{array}\n",
    "\\right] =\n",
    "\\left[\n",
    "\\begin{array}{cc}\n",
    "-2 \\sin\\frac{\\theta}{2} - \\sin\\frac{\\theta}{2}\\cos\\frac{\\theta}{2}\\cos\\frac{3\\theta}{2} & \\cos\\frac{\\theta}{2}\\left[ 1 - \\sin\\frac{\\theta}{2}\\sin\\frac{3\\theta}{2}\\right] \\\\\n",
    "\\cos\\frac{\\theta}{2}\\left[ 1 - \\sin\\frac{\\theta}{2}\\sin\\frac{3\\theta}{2}\\right] &  \\sin\\frac{\\theta}{2}\\cos\\frac{\\theta}{2}\\cos\\frac{3\\theta}{2}\n",
    "\\end{array}\n",
    "\\right] \n",
    "\\end{align}"
   ]
  },
  {
   "cell_type": "markdown",
   "metadata": {},
   "source": [
    "## Angular Function"
   ]
  },
  {
   "cell_type": "code",
   "execution_count": 10,
   "metadata": {},
   "outputs": [
    {
     "data": {
      "image/png": "[encoded data removed]",
      "text/latex": [
       "$\\displaystyle \\left[\\begin{matrix}c_{t} \\left(s_{t}^{2} \\left(4 s_{t}^{2} - 3\\right) + 1\\right) & c_{t}^{2} s_{t} \\left(4 c_{t}^{2} - 3\\right)\\\\c_{t}^{2} s_{t} \\left(4 c_{t}^{2} - 3\\right) & c_{t} \\left(- 4 s_{t}^{4} + 3 s_{t}^{2} + 1\\right)\\end{matrix}\\right]$"
      ],
      "text/plain": [
       "⎡   ⎛  2 ⎛    2    ⎞    ⎞       2    ⎛    2    ⎞   ⎤\n",
       "⎢cₜ⋅⎝sₜ ⋅⎝4⋅sₜ  - 3⎠ + 1⎠     cₜ ⋅sₜ⋅⎝4⋅cₜ  - 3⎠   ⎥\n",
       "⎢                                                  ⎥\n",
       "⎢     2    ⎛    2    ⎞        ⎛      4       2    ⎞⎥\n",
       "⎣   cₜ ⋅sₜ⋅⎝4⋅cₜ  - 3⎠     cₜ⋅⎝- 4⋅sₜ  + 3⋅sₜ  + 1⎠⎦"
      ]
     },
     "execution_count": 10,
     "metadata": {},
     "output_type": "execute_result"
    }
   ],
   "source": [
    "s_3t = 3 * s_t - 4 * s_t**3\n",
    "c_3t = 4 * c_t**3 - 3 * c_t\n",
    "S_I_11 = 2 * c_t - c_t * (1 + s_t * s_3t) \n",
    "S_I_22 = c_t * (1 + s_t * s_3t)\n",
    "S_I_12 = c_t * s_t * c_3t\n",
    "S_I = sp.Matrix([[S_I_11, S_I_12],[S_I_12, S_I_22]])\n",
    "S_I_ = sp.simplify(S_I)\n",
    "S_I_"
   ]
  },
  {
   "cell_type": "code",
   "execution_count": 11,
   "metadata": {},
   "outputs": [
    {
     "data": {
      "image/png": "[encoded data removed]",
      "text/latex": [
       "$\\displaystyle \\left[\\begin{matrix}s_{t} \\left(- 4 c_{t}^{4} + 3 c_{t}^{2} - 2\\right) & c_{t} \\left(4 s_{t}^{4} - 3 s_{t}^{2} + 1\\right)\\\\c_{t} \\left(4 s_{t}^{4} - 3 s_{t}^{2} + 1\\right) & c_{t}^{2} s_{t} \\left(4 c_{t}^{2} - 3\\right)\\end{matrix}\\right]$"
      ],
      "text/plain": [
       "⎡   ⎛      4       2    ⎞     ⎛    4       2    ⎞⎤\n",
       "⎢sₜ⋅⎝- 4⋅cₜ  + 3⋅cₜ  - 2⎠  cₜ⋅⎝4⋅sₜ  - 3⋅sₜ  + 1⎠⎥\n",
       "⎢                                                ⎥\n",
       "⎢    ⎛    4       2    ⎞       2    ⎛    2    ⎞  ⎥\n",
       "⎣ cₜ⋅⎝4⋅sₜ  - 3⋅sₜ  + 1⎠     cₜ ⋅sₜ⋅⎝4⋅cₜ  - 3⎠  ⎦"
      ]
     },
     "execution_count": 11,
     "metadata": {},
     "output_type": "execute_result"
    }
   ],
   "source": [
    "S_II_11 = - 2 * s_t - s_t * c_t * c_3t  \n",
    "S_II_22 = s_t * c_t * c_3t\n",
    "S_II_12 = c_t * (1 - s_t * s_3t)\n",
    "S_II = sp.Matrix([[S_II_11, S_II_12],[S_II_12, S_II_22]])\n",
    "S_II_ = sp.simplify(S_II)\n",
    "S_II_"
   ]
  },
  {
   "cell_type": "markdown",
   "metadata": {},
   "source": [
    "## Stress Equation at the Crack tip in Cartesian Coordinates"
   ]
  },
  {
   "cell_type": "code",
   "execution_count": 12,
   "metadata": {},
   "outputs": [
    {
     "data": {
      "image/png": "[encoded data removed]",
      "text/latex": [
       "$\\displaystyle \\left[\\begin{matrix}\\sqrt{\\pi} \\sigma_x \\sqrt{a} s_{b} \\left(- c_{b} s_{t} \\left(4 c_{t}^{4} - 3 c_{t}^{2} + 2\\right) + c_{t} s_{b} \\left(s_{t}^{2} \\left(4 s_{t}^{2} - 3\\right) + 1\\right)\\right) & \\sqrt{\\pi} \\sigma_x \\sqrt{a} c_{t} s_{b} \\left(c_{b} \\left(4 s_{t}^{4} - 3 s_{t}^{2} + 1\\right) + c_{t} s_{b} s_{t} \\left(4 c_{t}^{2} - 3\\right)\\right)\\\\\\sqrt{\\pi} \\sigma_x \\sqrt{a} c_{t} s_{b} \\left(c_{b} \\left(4 s_{t}^{4} - 3 s_{t}^{2} + 1\\right) + c_{t} s_{b} s_{t} \\left(4 c_{t}^{2} - 3\\right)\\right) & \\sqrt{\\pi} \\sigma_x \\sqrt{a} c_{t} s_{b} \\left(c_{b} c_{t} s_{t} \\left(4 c_{t}^{2} - 3\\right) + s_{b} \\left(- 4 s_{t}^{4} + 3 s_{t}^{2} + 1\\right)\\right)\\end{matrix}\\right]$"
      ],
      "text/plain": [
       "⎡                  ⎛         ⎛    4       2    ⎞          ⎛  2 ⎛    2    ⎞    \n",
       "⎢√π⋅\\sigmaₓ⋅√a⋅s_b⋅⎝- c_b⋅sₜ⋅⎝4⋅cₜ  - 3⋅cₜ  + 2⎠ + cₜ⋅s_b⋅⎝sₜ ⋅⎝4⋅sₜ  - 3⎠ + 1\n",
       "⎢                                                                             \n",
       "⎢                         ⎛    ⎛    4       2    ⎞             ⎛    2    ⎞⎞   \n",
       "⎣    √π⋅\\sigmaₓ⋅√a⋅cₜ⋅s_b⋅⎝c_b⋅⎝4⋅sₜ  - 3⋅sₜ  + 1⎠ + cₜ⋅s_b⋅sₜ⋅⎝4⋅cₜ  - 3⎠⎠   \n",
       "\n",
       "⎞⎞                        ⎛    ⎛    4       2    ⎞             ⎛    2    ⎞⎞ ⎤\n",
       "⎠⎠   √π⋅\\sigmaₓ⋅√a⋅cₜ⋅s_b⋅⎝c_b⋅⎝4⋅sₜ  - 3⋅sₜ  + 1⎠ + cₜ⋅s_b⋅sₜ⋅⎝4⋅cₜ  - 3⎠⎠ ⎥\n",
       "                                                                            ⎥\n",
       "                         ⎛          ⎛    2    ⎞       ⎛      4       2    ⎞⎞⎥\n",
       "    √π⋅\\sigmaₓ⋅√a⋅cₜ⋅s_b⋅⎝c_b⋅cₜ⋅sₜ⋅⎝4⋅cₜ  - 3⎠ + s_b⋅⎝- 4⋅sₜ  + 3⋅sₜ  + 1⎠⎠⎦"
      ]
     },
     "execution_count": 12,
     "metadata": {},
     "output_type": "execute_result"
    }
   ],
   "source": [
    "sigma = sp.Matrix([[K_I_ * S_I_[0,0] + K_II_ * S_II_[0,0], K_I_ * S_I_[0,1] + K_II_ * S_II_[0,1]],\n",
    "                   [K_I_ * S_I_[0,1] + K_II_ * S_II_[0,1], K_I_ * S_I_[1,1] + K_II_ * S_II_[1,1]]])\n",
    "sigma_ = sp.simplify(sigma)\n",
    "sigma_"
   ]
  },
  {
   "cell_type": "markdown",
   "metadata": {},
   "source": [
    "## Stress Transformation from Cartesian to Polar Coordinates\n",
    "To transform from cartesian to polar coordinates, Transformation Matrix will be taken into account i.e.:\n",
    "\\begin{align}\n",
    "T_t = \n",
    "\\left[\n",
    "\\begin{array}{cc}\n",
    "\\cos \\theta & -\\sin \\theta \\\\\n",
    "\\sin \\theta &  \\cos \\theta\n",
    "\\end{array} \\right]\n",
    "\\end{align}\n",
    "Now, in order to transform from cartesian to polar the following transformation will be done. i.e.:\n",
    "\\begin{align}\n",
    "\\sigma_t = T_t^T \\sigma_{ij} T_t \n",
    "\\end{align}"
   ]
  },
  {
   "cell_type": "code",
   "execution_count": 13,
   "metadata": {},
   "outputs": [
    {
     "data": {
      "image/png": "[encoded data removed]",
      "text/latex": [
       "$\\displaystyle \\left[\\begin{matrix}c_{t} & - s_{t}\\\\s_{t} & c_{t}\\end{matrix}\\right]$"
      ],
      "text/plain": [
       "⎡cₜ  -sₜ⎤\n",
       "⎢       ⎥\n",
       "⎣sₜ  cₜ ⎦"
      ]
     },
     "execution_count": 13,
     "metadata": {},
     "output_type": "execute_result"
    }
   ],
   "source": [
    "T_t = sp.Matrix([[cs_theta[0], -cs_theta[1]],[cs_theta[1], cs_theta[0]]])\n",
    "T_t"
   ]
  },
  {
   "cell_type": "code",
   "execution_count": 14,
   "metadata": {},
   "outputs": [
    {
     "data": {
      "image/png": "[encoded data removed]",
      "text/latex": [
       "$\\displaystyle \\left[\\begin{matrix}\\sqrt{\\pi} \\sigma_x \\sqrt{a} c_{t} s_{b} \\left(- 4 c_{b} c_{t}^{5} s_{t} + 4 c_{b} c_{t}^{3} s_{t}^{3} + 3 c_{b} c_{t}^{3} s_{t} + 8 c_{b} c_{t} s_{t}^{5} - 9 c_{b} c_{t} s_{t}^{3} + 8 c_{t}^{4} s_{b} s_{t}^{2} + 4 c_{t}^{2} s_{b} s_{t}^{4} - 9 c_{t}^{2} s_{b} s_{t}^{2} + c_{t}^{2} s_{b} - 4 s_{b} s_{t}^{6} + 3 s_{b} s_{t}^{4} + s_{b} s_{t}^{2}\\right) & \\sqrt{\\pi} \\sigma_x \\sqrt{a} c_{t} s_{b} \\left(8 c_{b} c_{t}^{4} s_{t}^{2} + 4 c_{b} c_{t}^{2} s_{t}^{4} - 9 c_{b} c_{t}^{2} s_{t}^{2} + c_{b} c_{t}^{2} - 4 c_{b} s_{t}^{6} + 3 c_{b} s_{t}^{4} + c_{b} s_{t}^{2} + 4 c_{t}^{5} s_{b} s_{t} - 4 c_{t}^{3} s_{b} s_{t}^{3} - 3 c_{t}^{3} s_{b} s_{t} - 8 c_{t} s_{b} s_{t}^{5} + 9 c_{t} s_{b} s_{t}^{3}\\right)\\\\\\sqrt{\\pi} \\sigma_x \\sqrt{a} c_{t} s_{b} \\left(8 c_{b} c_{t}^{4} s_{t}^{2} + 4 c_{b} c_{t}^{2} s_{t}^{4} - 9 c_{b} c_{t}^{2} s_{t}^{2} + c_{b} c_{t}^{2} - 4 c_{b} s_{t}^{6} + 3 c_{b} s_{t}^{4} + c_{b} s_{t}^{2} + 4 c_{t}^{5} s_{b} s_{t} - 4 c_{t}^{3} s_{b} s_{t}^{3} - 3 c_{t}^{3} s_{b} s_{t} - 8 c_{t} s_{b} s_{t}^{5} + 9 c_{t} s_{b} s_{t}^{3}\\right) & \\sqrt{\\pi} \\sigma_x \\sqrt{a} s_{b} \\left(c_{t}^{2} \\left(c_{t} \\left(c_{b} c_{t} s_{t} \\left(4 c_{t}^{2} - 3\\right) + s_{b} \\left(- 4 s_{t}^{4} + 3 s_{t}^{2} + 1\\right)\\right) - s_{t} \\left(c_{b} \\left(4 s_{t}^{4} - 3 s_{t}^{2} + 1\\right) + c_{t} s_{b} s_{t} \\left(4 c_{t}^{2} - 3\\right)\\right)\\right) - s_{t} \\left(c_{t}^{2} \\left(c_{b} \\left(4 s_{t}^{4} - 3 s_{t}^{2} + 1\\right) + c_{t} s_{b} s_{t} \\left(4 c_{t}^{2} - 3\\right)\\right) + s_{t} \\left(c_{b} s_{t} \\left(4 c_{t}^{4} - 3 c_{t}^{2} + 2\\right) - c_{t} s_{b} \\left(s_{t}^{2} \\left(4 s_{t}^{2} - 3\\right) + 1\\right)\\right)\\right)\\right)\\end{matrix}\\right]$"
      ],
      "text/plain": [
       "⎡                     ⎛          5              3   3           3             \n",
       "⎢√π⋅\\sigmaₓ⋅√a⋅cₜ⋅s_b⋅⎝- 4⋅c_b⋅cₜ ⋅sₜ + 4⋅c_b⋅cₜ ⋅sₜ  + 3⋅c_b⋅cₜ ⋅sₜ + 8⋅c_b⋅c\n",
       "⎢                                                                             \n",
       "⎢                      ⎛        4   2           2   4           2   2         \n",
       "⎣ √π⋅\\sigmaₓ⋅√a⋅cₜ⋅s_b⋅⎝8⋅c_b⋅cₜ ⋅sₜ  + 4⋅c_b⋅cₜ ⋅sₜ  - 9⋅c_b⋅cₜ ⋅sₜ  + c_b⋅cₜ\n",
       "\n",
       "    5              3       4       2       2       4       2       2     2    \n",
       "ₜ⋅sₜ  - 9⋅c_b⋅cₜ⋅sₜ  + 8⋅cₜ ⋅s_b⋅sₜ  + 4⋅cₜ ⋅s_b⋅sₜ  - 9⋅cₜ ⋅s_b⋅sₜ  + cₜ ⋅s_b\n",
       "                                                                              \n",
       "2           6           4         2       5              3       3       3    \n",
       "  - 4⋅c_b⋅sₜ  + 3⋅c_b⋅sₜ  + c_b⋅sₜ  + 4⋅cₜ ⋅s_b⋅sₜ - 4⋅cₜ ⋅s_b⋅sₜ  - 3⋅cₜ ⋅s_b\n",
       "\n",
       "           6           4         2⎞                                           \n",
       " - 4⋅s_b⋅sₜ  + 3⋅s_b⋅sₜ  + s_b⋅sₜ ⎠                                      √π⋅\\s\n",
       "                                                                              \n",
       "                 5              3⎞                     ⎛  2 ⎛   ⎛          ⎛  \n",
       "⋅sₜ - 8⋅cₜ⋅s_b⋅sₜ  + 9⋅cₜ⋅s_b⋅sₜ ⎠   √π⋅\\sigmaₓ⋅√a⋅s_b⋅⎝cₜ ⋅⎝cₜ⋅⎝c_b⋅cₜ⋅sₜ⋅⎝4⋅\n",
       "\n",
       "                ⎛        4   2           2   4           2   2         2      \n",
       "igmaₓ⋅√a⋅cₜ⋅s_b⋅⎝8⋅c_b⋅cₜ ⋅sₜ  + 4⋅c_b⋅cₜ ⋅sₜ  - 9⋅c_b⋅cₜ ⋅sₜ  + c_b⋅cₜ  - 4⋅c\n",
       "                                                                              \n",
       "  2    ⎞       ⎛      4       2    ⎞⎞      ⎛    ⎛    4       2    ⎞           \n",
       "cₜ  - 3⎠ + s_b⋅⎝- 4⋅sₜ  + 3⋅sₜ  + 1⎠⎠ - sₜ⋅⎝c_b⋅⎝4⋅sₜ  - 3⋅sₜ  + 1⎠ + cₜ⋅s_b⋅s\n",
       "\n",
       "     6           4         2       5              3       3       3           \n",
       "_b⋅sₜ  + 3⋅c_b⋅sₜ  + c_b⋅sₜ  + 4⋅cₜ ⋅s_b⋅sₜ - 4⋅cₜ ⋅s_b⋅sₜ  - 3⋅cₜ ⋅s_b⋅sₜ - 8\n",
       "                                                                              \n",
       "  ⎛    2    ⎞⎞⎞      ⎛  2 ⎛    ⎛    4       2    ⎞             ⎛    2    ⎞⎞   \n",
       "ₜ⋅⎝4⋅cₜ  - 3⎠⎠⎠ - sₜ⋅⎝cₜ ⋅⎝c_b⋅⎝4⋅sₜ  - 3⋅sₜ  + 1⎠ + cₜ⋅s_b⋅sₜ⋅⎝4⋅cₜ  - 3⎠⎠ + \n",
       "\n",
       "          5              3⎞                                     ⎤\n",
       "⋅cₜ⋅s_b⋅sₜ  + 9⋅cₜ⋅s_b⋅sₜ ⎠                                     ⎥\n",
       "                                                                ⎥\n",
       "   ⎛       ⎛    4       2    ⎞          ⎛  2 ⎛    2    ⎞    ⎞⎞⎞⎞⎥\n",
       "sₜ⋅⎝c_b⋅sₜ⋅⎝4⋅cₜ  - 3⋅cₜ  + 2⎠ - cₜ⋅s_b⋅⎝sₜ ⋅⎝4⋅sₜ  - 3⎠ + 1⎠⎠⎠⎠⎦"
      ]
     },
     "execution_count": 14,
     "metadata": {},
     "output_type": "execute_result"
    }
   ],
   "source": [
    "sig_p = T_t.T * sigma_ * T_t\n",
    "sig_sim = sp.simplify(sig_p)\n",
    "sig_sim"
   ]
  },
  {
   "cell_type": "markdown",
   "metadata": {},
   "source": [
    "Replacing sine component with cosine for transforming the equation into a single trignometric ratio for simpicity."
   ]
  },
  {
   "cell_type": "code",
   "execution_count": 15,
   "metadata": {},
   "outputs": [
    {
     "data": {
      "image/png": "[encoded data removed]",
      "text/latex": [
       "$\\displaystyle \\left[\\begin{matrix}\\sqrt{\\pi} \\sigma_x \\sqrt{a} c_{t} s_{b} \\left(- 4 c_{b} c_{t}^{5} \\sqrt{1 - c_{t}^{2}} + 4 c_{b} c_{t}^{3} \\left(1 - c_{t}^{2}\\right)^{\\frac{3}{2}} + 3 c_{b} c_{t}^{3} \\sqrt{1 - c_{t}^{2}} + 8 c_{b} c_{t} \\left(1 - c_{t}^{2}\\right)^{\\frac{5}{2}} - 9 c_{b} c_{t} \\left(1 - c_{t}^{2}\\right)^{\\frac{3}{2}} + 8 c_{t}^{4} s_{b} \\left(1 - c_{t}^{2}\\right) + 4 c_{t}^{2} s_{b} \\left(1 - c_{t}^{2}\\right)^{2} - 9 c_{t}^{2} s_{b} \\left(1 - c_{t}^{2}\\right) + c_{t}^{2} s_{b} - 4 s_{b} \\left(1 - c_{t}^{2}\\right)^{3} + 3 s_{b} \\left(1 - c_{t}^{2}\\right)^{2} + s_{b} \\left(1 - c_{t}^{2}\\right)\\right) & \\sqrt{\\pi} \\sigma_x \\sqrt{a} c_{t} s_{b} \\left(8 c_{b} c_{t}^{4} \\left(1 - c_{t}^{2}\\right) + 4 c_{b} c_{t}^{2} \\left(1 - c_{t}^{2}\\right)^{2} - 9 c_{b} c_{t}^{2} \\left(1 - c_{t}^{2}\\right) + c_{b} c_{t}^{2} - 4 c_{b} \\left(1 - c_{t}^{2}\\right)^{3} + 3 c_{b} \\left(1 - c_{t}^{2}\\right)^{2} + c_{b} \\left(1 - c_{t}^{2}\\right) + 4 c_{t}^{5} s_{b} \\sqrt{1 - c_{t}^{2}} - 4 c_{t}^{3} s_{b} \\left(1 - c_{t}^{2}\\right)^{\\frac{3}{2}} - 3 c_{t}^{3} s_{b} \\sqrt{1 - c_{t}^{2}} - 8 c_{t} s_{b} \\left(1 - c_{t}^{2}\\right)^{\\frac{5}{2}} + 9 c_{t} s_{b} \\left(1 - c_{t}^{2}\\right)^{\\frac{3}{2}}\\right)\\\\\\sqrt{\\pi} \\sigma_x \\sqrt{a} c_{t} s_{b} \\left(8 c_{b} c_{t}^{4} \\left(1 - c_{t}^{2}\\right) + 4 c_{b} c_{t}^{2} \\left(1 - c_{t}^{2}\\right)^{2} - 9 c_{b} c_{t}^{2} \\left(1 - c_{t}^{2}\\right) + c_{b} c_{t}^{2} - 4 c_{b} \\left(1 - c_{t}^{2}\\right)^{3} + 3 c_{b} \\left(1 - c_{t}^{2}\\right)^{2} + c_{b} \\left(1 - c_{t}^{2}\\right) + 4 c_{t}^{5} s_{b} \\sqrt{1 - c_{t}^{2}} - 4 c_{t}^{3} s_{b} \\left(1 - c_{t}^{2}\\right)^{\\frac{3}{2}} - 3 c_{t}^{3} s_{b} \\sqrt{1 - c_{t}^{2}} - 8 c_{t} s_{b} \\left(1 - c_{t}^{2}\\right)^{\\frac{5}{2}} + 9 c_{t} s_{b} \\left(1 - c_{t}^{2}\\right)^{\\frac{3}{2}}\\right) & \\sqrt{\\pi} \\sigma_x \\sqrt{a} s_{b} \\left(c_{t}^{2} \\left(c_{t} \\left(c_{b} c_{t} \\sqrt{1 - c_{t}^{2}} \\left(4 c_{t}^{2} - 3\\right) + s_{b} \\left(- 3 c_{t}^{2} - 4 \\left(1 - c_{t}^{2}\\right)^{2} + 4\\right)\\right) - \\sqrt{1 - c_{t}^{2}} \\left(c_{b} \\left(3 c_{t}^{2} + 4 \\left(1 - c_{t}^{2}\\right)^{2} - 2\\right) + c_{t} s_{b} \\sqrt{1 - c_{t}^{2}} \\left(4 c_{t}^{2} - 3\\right)\\right)\\right) - \\sqrt{1 - c_{t}^{2}} \\left(c_{t}^{2} \\left(c_{b} \\left(3 c_{t}^{2} + 4 \\left(1 - c_{t}^{2}\\right)^{2} - 2\\right) + c_{t} s_{b} \\sqrt{1 - c_{t}^{2}} \\left(4 c_{t}^{2} - 3\\right)\\right) + \\sqrt{1 - c_{t}^{2}} \\left(c_{b} \\sqrt{1 - c_{t}^{2}} \\left(4 c_{t}^{4} - 3 c_{t}^{2} + 2\\right) - c_{t} s_{b} \\left(\\left(1 - 4 c_{t}^{2}\\right) \\left(1 - c_{t}^{2}\\right) + 1\\right)\\right)\\right)\\right)\\end{matrix}\\right]$"
      ],
      "text/plain": [
       "⎡                     ⎛               _________                      3/2      \n",
       "⎢                     ⎜          5   ╱       2            3 ⎛      2⎞         \n",
       "⎢√π⋅\\sigmaₓ⋅√a⋅cₜ⋅s_b⋅⎝- 4⋅c_b⋅cₜ ⋅╲╱  1 - cₜ   + 4⋅c_b⋅cₜ ⋅⎝1 - cₜ ⎠    + 3⋅c\n",
       "⎢                                                                             \n",
       "⎢                      ⎛                                         2            \n",
       "⎢                      ⎜        4 ⎛      2⎞           2 ⎛      2⎞            2\n",
       "⎣ √π⋅\\sigmaₓ⋅√a⋅cₜ⋅s_b⋅⎝8⋅c_b⋅cₜ ⋅⎝1 - cₜ ⎠ + 4⋅c_b⋅cₜ ⋅⎝1 - cₜ ⎠  - 9⋅c_b⋅cₜ \n",
       "\n",
       "          _________                     5/2                     3/2           \n",
       "     3   ╱       2             ⎛      2⎞               ⎛      2⎞          4   \n",
       "_b⋅cₜ ⋅╲╱  1 - cₜ   + 8⋅c_b⋅cₜ⋅⎝1 - cₜ ⎠    - 9⋅c_b⋅cₜ⋅⎝1 - cₜ ⎠    + 8⋅cₜ ⋅s_\n",
       "                                                                              \n",
       "                                      3                  2                    \n",
       " ⎛      2⎞         2         ⎛      2⎞          ⎛      2⎞        ⎛      2⎞    \n",
       "⋅⎝1 - cₜ ⎠ + c_b⋅cₜ  - 4⋅c_b⋅⎝1 - cₜ ⎠  + 3⋅c_b⋅⎝1 - cₜ ⎠  + c_b⋅⎝1 - cₜ ⎠ + 4\n",
       "\n",
       "                                 2                                            \n",
       "  ⎛      2⎞       2     ⎛      2⎞        2     ⎛      2⎞     2             ⎛  \n",
       "b⋅⎝1 - cₜ ⎠ + 4⋅cₜ ⋅s_b⋅⎝1 - cₜ ⎠  - 9⋅cₜ ⋅s_b⋅⎝1 - cₜ ⎠ + cₜ ⋅s_b - 4⋅s_b⋅⎝1 \n",
       "                                                                              \n",
       "            _________                      3/2                _________       \n",
       "   5       ╱       2        3     ⎛      2⎞          3       ╱       2        \n",
       "⋅cₜ ⋅s_b⋅╲╱  1 - cₜ   - 4⋅cₜ ⋅s_b⋅⎝1 - cₜ ⎠    - 3⋅cₜ ⋅s_b⋅╲╱  1 - cₜ   - 8⋅cₜ\n",
       "\n",
       "      3                  2                ⎞                                   \n",
       "    2⎞          ⎛      2⎞        ⎛      2⎞⎟                                   \n",
       "- cₜ ⎠  + 3⋅s_b⋅⎝1 - cₜ ⎠  + s_b⋅⎝1 - cₜ ⎠⎠                                   \n",
       "                                                                              \n",
       "              5/2                     3/2⎞                     ⎛    ⎛   ⎛     \n",
       "     ⎛      2⎞               ⎛      2⎞   ⎟                     ⎜  2 ⎜   ⎜     \n",
       "⋅s_b⋅⎝1 - cₜ ⎠    + 9⋅cₜ⋅s_b⋅⎝1 - cₜ ⎠   ⎠   √π⋅\\sigmaₓ⋅√a⋅s_b⋅⎝cₜ ⋅⎝cₜ⋅⎝c_b⋅c\n",
       "\n",
       "                              ⎛                                         2     \n",
       "                              ⎜        4 ⎛      2⎞           2 ⎛      2⎞      \n",
       "         √π⋅\\sigmaₓ⋅√a⋅cₜ⋅s_b⋅⎝8⋅c_b⋅cₜ ⋅⎝1 - cₜ ⎠ + 4⋅c_b⋅cₜ ⋅⎝1 - cₜ ⎠  - 9⋅\n",
       "                                                                              \n",
       "     _________                   ⎛                     2    ⎞⎞      _________ \n",
       "    ╱       2  ⎛    2    ⎞       ⎜      2     ⎛      2⎞     ⎟⎟     ╱       2  \n",
       "ₜ⋅╲╱  1 - cₜ  ⋅⎝4⋅cₜ  - 3⎠ + s_b⋅⎝- 3⋅cₜ  - 4⋅⎝1 - cₜ ⎠  + 4⎠⎠ - ╲╱  1 - cₜ  ⋅\n",
       "\n",
       "                                             3                  2             \n",
       "      2 ⎛      2⎞         2         ⎛      2⎞          ⎛      2⎞        ⎛     \n",
       "c_b⋅cₜ ⋅⎝1 - cₜ ⎠ + c_b⋅cₜ  - 4⋅c_b⋅⎝1 - cₜ ⎠  + 3⋅c_b⋅⎝1 - cₜ ⎠  + c_b⋅⎝1 - c\n",
       "                                                                              \n",
       "⎛    ⎛                   2    ⎞             _________            ⎞⎞      _____\n",
       "⎜    ⎜    2     ⎛      2⎞     ⎟            ╱       2  ⎛    2    ⎞⎟⎟     ╱     \n",
       "⎝c_b⋅⎝3⋅cₜ  + 4⋅⎝1 - cₜ ⎠  - 2⎠ + cₜ⋅s_b⋅╲╱  1 - cₜ  ⋅⎝4⋅cₜ  - 3⎠⎠⎠ - ╲╱  1 - \n",
       "\n",
       "                   _________                      3/2                _________\n",
       " 2⎞       5       ╱       2        3     ⎛      2⎞          3       ╱       2 \n",
       "ₜ ⎠ + 4⋅cₜ ⋅s_b⋅╲╱  1 - cₜ   - 4⋅cₜ ⋅s_b⋅⎝1 - cₜ ⎠    - 3⋅cₜ ⋅s_b⋅╲╱  1 - cₜ  \n",
       "                                                                              \n",
       "____ ⎛    ⎛    ⎛                   2    ⎞             _________            ⎞  \n",
       "  2  ⎜  2 ⎜    ⎜    2     ⎛      2⎞     ⎟            ╱       2  ⎛    2    ⎞⎟  \n",
       "cₜ  ⋅⎝cₜ ⋅⎝c_b⋅⎝3⋅cₜ  + 4⋅⎝1 - cₜ ⎠  - 2⎠ + cₜ⋅s_b⋅╲╱  1 - cₜ  ⋅⎝4⋅cₜ  - 3⎠⎠ +\n",
       "\n",
       "                     5/2                     3/2⎞                             \n",
       "            ⎛      2⎞               ⎛      2⎞   ⎟                             \n",
       " - 8⋅cₜ⋅s_b⋅⎝1 - cₜ ⎠    + 9⋅cₜ⋅s_b⋅⎝1 - cₜ ⎠   ⎠                             \n",
       "                                                                              \n",
       "    _________ ⎛       _________                                               \n",
       "   ╱       2  ⎜      ╱       2  ⎛    4       2    ⎞          ⎛⎛        2⎞ ⎛   \n",
       " ╲╱  1 - cₜ  ⋅⎝c_b⋅╲╱  1 - cₜ  ⋅⎝4⋅cₜ  - 3⋅cₜ  + 2⎠ - cₜ⋅s_b⋅⎝⎝1 - 4⋅cₜ ⎠⋅⎝1 -\n",
       "\n",
       "             ⎤\n",
       "             ⎥\n",
       "             ⎥\n",
       "             ⎥\n",
       "          ⎞⎞⎞⎥\n",
       "   2⎞    ⎞⎟⎟⎟⎥\n",
       " cₜ ⎠ + 1⎠⎠⎠⎠⎦"
      ]
     },
     "execution_count": 15,
     "metadata": {},
     "output_type": "execute_result"
    }
   ],
   "source": [
    "s_t_ = sp.sqrt(1 - c_t**2)\n",
    "sig = sig_sim.subs(s_t, s_t_)\n",
    "sig"
   ]
  },
  {
   "cell_type": "code",
   "execution_count": 16,
   "metadata": {},
   "outputs": [
    {
     "data": {
      "image/png": "[encoded data removed]",
      "text/latex": [
       "$\\displaystyle \\left[\\begin{matrix}\\sqrt{\\pi} \\sigma_x \\sqrt{a} c_{t}^{2} s_{b} \\left(- c_{b} \\sqrt{1 - c_{t}^{2}} + c_{t} s_{b}\\right) & \\sqrt{\\pi} \\sigma_x \\sqrt{a} c_{t}^{2} s_{b} \\left(c_{b} c_{t} + s_{b} \\sqrt{1 - c_{t}^{2}}\\right)\\\\\\sqrt{\\pi} \\sigma_x \\sqrt{a} c_{t}^{2} s_{b} \\left(c_{b} c_{t} + s_{b} \\sqrt{1 - c_{t}^{2}}\\right) & \\sqrt{\\pi} \\sigma_x \\sqrt{a} s_{b} \\left(c_{b} c_{t}^{2} \\sqrt{1 - c_{t}^{2}} - 2 c_{b} \\sqrt{1 - c_{t}^{2}} - c_{t}^{3} s_{b} + 2 c_{t} s_{b}\\right)\\end{matrix}\\right]$"
      ],
      "text/plain": [
       "⎡                      ⎛         _________         ⎞                          \n",
       "⎢                2     ⎜        ╱       2          ⎟                          \n",
       "⎢√π⋅\\sigmaₓ⋅√a⋅cₜ ⋅s_b⋅⎝- c_b⋅╲╱  1 - cₜ   + cₜ⋅s_b⎠                  √π⋅\\sigm\n",
       "⎢                                                                             \n",
       "⎢                       ⎛                _________⎞                     ⎛     \n",
       "⎢                 2     ⎜               ╱       2 ⎟                     ⎜     \n",
       "⎣ √π⋅\\sigmaₓ⋅√a⋅cₜ ⋅s_b⋅⎝c_b⋅cₜ + s_b⋅╲╱  1 - cₜ  ⎠   √π⋅\\sigmaₓ⋅√a⋅s_b⋅⎝c_b⋅c\n",
       "\n",
       "              ⎛                _________⎞                 ⎤\n",
       "        2     ⎜               ╱       2 ⎟                 ⎥\n",
       "aₓ⋅√a⋅cₜ ⋅s_b⋅⎝c_b⋅cₜ + s_b⋅╲╱  1 - cₜ  ⎠                 ⎥\n",
       "                                                          ⎥\n",
       "      _________            _________                     ⎞⎥\n",
       " 2   ╱       2            ╱       2      3               ⎟⎥\n",
       "ₜ ⋅╲╱  1 - cₜ   - 2⋅c_b⋅╲╱  1 - cₜ   - cₜ ⋅s_b + 2⋅cₜ⋅s_b⎠⎦"
      ]
     },
     "execution_count": 16,
     "metadata": {},
     "output_type": "execute_result"
    }
   ],
   "source": [
    "sig_ = sp.simplify(sig)\n",
    "sig_"
   ]
  },
  {
   "cell_type": "markdown",
   "metadata": {},
   "source": [
    "Solving the stress field to calculate angle $\\theta$ following the Maximum Tangential Stress Theory. According to the Maximum Tangental Stress Theory, when the stress $\\sigma_{\\theta \\theta}$ is maximum depicting principal stress than $\\sigma_{r \\theta}$ becomes:  \n",
    "\\begin{gather*}\n",
    "\\sigma_{r \\theta} = 0\n",
    "\\end{gather*}"
   ]
  },
  {
   "cell_type": "code",
   "execution_count": 28,
   "metadata": {},
   "outputs": [
    {
     "data": {
      "image/png": "[encoded data removed]",
      "text/latex": [
       "$\\displaystyle \\operatorname{acos}{\\left(\\frac{\\sin{\\left(\\beta \\right)}}{\\sqrt{\\sin^{2}{\\left(\\beta \\right)} + \\cos^{2}{\\left(\\beta \\right)}}} \\right)}$"
      ],
      "text/plain": [
       "    ⎛          sin(\\beta)          ⎞\n",
       "acos⎜──────────────────────────────⎟\n",
       "    ⎜   ___________________________⎟\n",
       "    ⎜  ╱    2             2        ⎟\n",
       "    ⎝╲╱  sin (\\beta) + cos (\\beta) ⎠"
      ]
     },
     "execution_count": 28,
     "metadata": {},
     "output_type": "execute_result"
    }
   ],
   "source": [
    "theta_sol = sp.solve(sig_[1,0], c_t)\n",
    "theta_val = theta_sol[2].subs(c_b, sp.cos(beta)).subs(s_b, sp.sin(beta))\n",
    "theta_ = sp.acos(theta_val)\n",
    "theta_"
   ]
  },
  {
   "cell_type": "code",
   "execution_count": 29,
   "metadata": {},
   "outputs": [],
   "source": [
    "#sig_[1,1]"
   ]
  },
  {
   "cell_type": "code",
   "execution_count": 30,
   "metadata": {},
   "outputs": [],
   "source": [
    "#d_sig_dct = sig_[1,1].diff(c_t)\n",
    "#d_cs_theta = cs_theta_[1].diff(theta)\n",
    "#d_sig_tt_dtheta = d_sig_dct * d_cs_theta\n",
    "#d_sig_tt_dtheta"
   ]
  },
  {
   "cell_type": "code",
   "execution_count": 31,
   "metadata": {},
   "outputs": [],
   "source": [
    "#d_sigtt_dtheta = sp.simplify(d_sig_tt_dtheta)\n",
    "#d_sigtt_dtheta"
   ]
  },
  {
   "cell_type": "code",
   "execution_count": 32,
   "metadata": {},
   "outputs": [],
   "source": [
    "#d =d_sigtt_dtheta.subs(cs_theta_[0], c_t)\n",
    "#d"
   ]
  },
  {
   "cell_type": "code",
   "execution_count": 33,
   "metadata": {},
   "outputs": [],
   "source": [
    "#theta_val = sp.solve(d, c_t)\n",
    "#theta_val"
   ]
  },
  {
   "cell_type": "code",
   "execution_count": 34,
   "metadata": {},
   "outputs": [],
   "source": [
    "#d_sig_theta_sol = theta[2].subs(c_b, sp.cos(beta)).subs(s_b, sp.sin(beta))\n",
    "#d_sig_theta_sol"
   ]
  },
  {
   "cell_type": "code",
   "execution_count": 35,
   "metadata": {},
   "outputs": [
    {
     "data": {
      "text/plain": [
       "<function _lambdifygenerated(Dummy_231)>"
      ]
     },
     "execution_count": 35,
     "metadata": {},
     "output_type": "execute_result"
    }
   ],
   "source": [
    "get_theta = sp.lambdify((beta), theta_, 'numpy')\n",
    "get_theta"
   ]
  },
  {
   "cell_type": "code",
   "execution_count": 36,
   "metadata": {
    "scrolled": true
   },
   "outputs": [
    {
     "data": {
      "application/javascript": [
       "/* Put everything inside the global mpl namespace */\n",
       "window.mpl = {};\n",
       "\n",
       "\n",
       "mpl.get_websocket_type = function() {\n",
       "    if (typeof(WebSocket) !== 'undefined') {\n",
       "        return WebSocket;\n",
       "    } else if (typeof(MozWebSocket) !== 'undefined') {\n",
       "        return MozWebSocket;\n",
       "    } else {\n",
       "        alert('Your browser does not have WebSocket support. ' +\n",
       "              'Please try Chrome, Safari or Firefox ≥ 6. ' +\n",
       "              'Firefox 4 and 5 are also supported but you ' +\n",
       "              'have to enable WebSockets in about:config.');\n",
       "    };\n",
       "}\n",
       "\n",
       "mpl.figure = function(figure_id, websocket, ondownload, parent_element) {\n",
       "    this.id = figure_id;\n",
       "\n",
       "    this.ws = websocket;\n",
       "\n",
       "    this.supports_binary = (this.ws.binaryType != undefined);\n",
       "\n",
       "    if (!this.supports_binary) {\n",
       "        var warnings = document.getElementById(\"mpl-warnings\");\n",
       "        if (warnings) {\n",
       "            warnings.style.display = 'block';\n",
       "            warnings.textContent = (\n",
       "                \"This browser does not support binary websocket messages. \" +\n",
       "                    \"Performance may be slow.\");\n",
       "        }\n",
       "    }\n",
       "\n",
       "    this.imageObj = new Image();\n",
       "\n",
       "    this.context = undefined;\n",
       "    this.message = undefined;\n",
       "    this.canvas = undefined;\n",
       "    this.rubberband_canvas = undefined;\n",
       "    this.rubberband_context = undefined;\n",
       "    this.format_dropdown = undefined;\n",
       "\n",
       "    this.image_mode = 'full';\n",
       "\n",
       "    this.root = $('<div/>');\n",
       "    this._root_extra_style(this.root)\n",
       "    this.root.attr('style', 'display: inline-block');\n",
       "\n",
       "    $(parent_element).append(this.root);\n",
       "\n",
       "    this._init_header(this);\n",
       "    this._init_canvas(this);\n",
       "    this._init_toolbar(this);\n",
       "\n",
       "    var fig = this;\n",
       "\n",
       "    this.waiting = false;\n",
       "\n",
       "    this.ws.onopen =  function () {\n",
       "            fig.send_message(\"supports_binary\", {value: fig.supports_binary});\n",
       "            fig.send_message(\"send_image_mode\", {});\n",
       "            if (mpl.ratio != 1) {\n",
       "                fig.send_message(\"set_dpi_ratio\", {'dpi_ratio': mpl.ratio});\n",
       "            }\n",
       "            fig.send_message(\"refresh\", {});\n",
       "        }\n",
       "\n",
       "    this.imageObj.onload = function() {\n",
       "            if (fig.image_mode == 'full') {\n",
       "                // Full images could contain transparency (where diff images\n",
       "                // almost always do), so we need to clear the canvas so that\n",
       "                // there is no ghosting.\n",
       "                fig.context.clearRect(0, 0, fig.canvas.width, fig.canvas.height);\n",
       "            }\n",
       "            fig.context.drawImage(fig.imageObj, 0, 0);\n",
       "        };\n",
       "\n",
       "    this.imageObj.onunload = function() {\n",
       "        fig.ws.close();\n",
       "    }\n",
       "\n",
       "    this.ws.onmessage = this._make_on_message_function(this);\n",
       "\n",
       "    this.ondownload = ondownload;\n",
       "}\n",
       "\n",
       "mpl.figure.prototype._init_header = function() {\n",
       "    var titlebar = $(\n",
       "        '<div class=\"ui-dialog-titlebar ui-widget-header ui-corner-all ' +\n",
       "        'ui-helper-clearfix\"/>');\n",
       "    var titletext = $(\n",
       "        '<div class=\"ui-dialog-title\" style=\"width: 100%; ' +\n",
       "        'text-align: center; padding: 3px;\"/>');\n",
       "    titlebar.append(titletext)\n",
       "    this.root.append(titlebar);\n",
       "    this.header = titletext[0];\n",
       "}\n",
       "\n",
       "\n",
       "\n",
       "mpl.figure.prototype._canvas_extra_style = function(canvas_div) {\n",
       "\n",
       "}\n",
       "\n",
       "\n",
       "mpl.figure.prototype._root_extra_style = function(canvas_div) {\n",
       "\n",
       "}\n",
       "\n",
       "mpl.figure.prototype._init_canvas = function() {\n",
       "    var fig = this;\n",
       "\n",
       "    var canvas_div = $('<div/>');\n",
       "\n",
       "    canvas_div.attr('style', 'position: relative; clear: both; outline: 0');\n",
       "\n",
       "    function canvas_keyboard_event(event) {\n",
       "        return fig.key_event(event, event['data']);\n",
       "    }\n",
       "\n",
       "    canvas_div.keydown('key_press', canvas_keyboard_event);\n",
       "    canvas_div.keyup('key_release', canvas_keyboard_event);\n",
       "    this.canvas_div = canvas_div\n",
       "    this._canvas_extra_style(canvas_div)\n",
       "    this.root.append(canvas_div);\n",
       "\n",
       "    var canvas = $('<canvas/>');\n",
       "    canvas.addClass('mpl-canvas');\n",
       "    canvas.attr('style', \"left: 0; top: 0; z-index: 0; outline: 0\")\n",
       "\n",
       "    this.canvas = canvas[0];\n",
       "    this.context = canvas[0].getContext(\"2d\");\n",
       "\n",
       "    var backingStore = this.context.backingStorePixelRatio ||\n",
       "\tthis.context.webkitBackingStorePixelRatio ||\n",
       "\tthis.context.mozBackingStorePixelRatio ||\n",
       "\tthis.context.msBackingStorePixelRatio ||\n",
       "\tthis.context.oBackingStorePixelRatio ||\n",
       "\tthis.context.backingStorePixelRatio || 1;\n",
       "\n",
       "    mpl.ratio = (window.devicePixelRatio || 1) / backingStore;\n",
       "\n",
       "    var rubberband = $('<canvas/>');\n",
       "    rubberband.attr('style', \"position: absolute; left: 0; top: 0; z-index: 1;\")\n",
       "\n",
       "    var pass_mouse_events = true;\n",
       "\n",
       "    canvas_div.resizable({\n",
       "        start: function(event, ui) {\n",
       "            pass_mouse_events = false;\n",
       "        },\n",
       "        resize: function(event, ui) {\n",
       "            fig.request_resize(ui.size.width, ui.size.height);\n",
       "        },\n",
       "        stop: function(event, ui) {\n",
       "            pass_mouse_events = true;\n",
       "            fig.request_resize(ui.size.width, ui.size.height);\n",
       "        },\n",
       "    });\n",
       "\n",
       "    function mouse_event_fn(event) {\n",
       "        if (pass_mouse_events)\n",
       "            return fig.mouse_event(event, event['data']);\n",
       "    }\n",
       "\n",
       "    rubberband.mousedown('button_press', mouse_event_fn);\n",
       "    rubberband.mouseup('button_release', mouse_event_fn);\n",
       "    // Throttle sequential mouse events to 1 every 20ms.\n",
       "    rubberband.mousemove('motion_notify', mouse_event_fn);\n",
       "\n",
       "    rubberband.mouseenter('figure_enter', mouse_event_fn);\n",
       "    rubberband.mouseleave('figure_leave', mouse_event_fn);\n",
       "\n",
       "    canvas_div.on(\"wheel\", function (event) {\n",
       "        event = event.originalEvent;\n",
       "        event['data'] = 'scroll'\n",
       "        if (event.deltaY < 0) {\n",
       "            event.step = 1;\n",
       "        } else {\n",
       "            event.step = -1;\n",
       "        }\n",
       "        mouse_event_fn(event);\n",
       "    });\n",
       "\n",
       "    canvas_div.append(canvas);\n",
       "    canvas_div.append(rubberband);\n",
       "\n",
       "    this.rubberband = rubberband;\n",
       "    this.rubberband_canvas = rubberband[0];\n",
       "    this.rubberband_context = rubberband[0].getContext(\"2d\");\n",
       "    this.rubberband_context.strokeStyle = \"#000000\";\n",
       "\n",
       "    this._resize_canvas = function(width, height) {\n",
       "        // Keep the size of the canvas, canvas container, and rubber band\n",
       "        // canvas in synch.\n",
       "        canvas_div.css('width', width)\n",
       "        canvas_div.css('height', height)\n",
       "\n",
       "        canvas.attr('width', width * mpl.ratio);\n",
       "        canvas.attr('height', height * mpl.ratio);\n",
       "        canvas.attr('style', 'width: ' + width + 'px; height: ' + height + 'px;');\n",
       "\n",
       "        rubberband.attr('width', width);\n",
       "        rubberband.attr('height', height);\n",
       "    }\n",
       "\n",
       "    // Set the figure to an initial 600x600px, this will subsequently be updated\n",
       "    // upon first draw.\n",
       "    this._resize_canvas(600, 600);\n",
       "\n",
       "    // Disable right mouse context menu.\n",
       "    $(this.rubberband_canvas).bind(\"contextmenu\",function(e){\n",
       "        return false;\n",
       "    });\n",
       "\n",
       "    function set_focus () {\n",
       "        canvas.focus();\n",
       "        canvas_div.focus();\n",
       "    }\n",
       "\n",
       "    window.setTimeout(set_focus, 100);\n",
       "}\n",
       "\n",
       "mpl.figure.prototype._init_toolbar = function() {\n",
       "    var fig = this;\n",
       "\n",
       "    var nav_element = $('<div/>');\n",
       "    nav_element.attr('style', 'width: 100%');\n",
       "    this.root.append(nav_element);\n",
       "\n",
       "    // Define a callback function for later on.\n",
       "    function toolbar_event(event) {\n",
       "        return fig.toolbar_button_onclick(event['data']);\n",
       "    }\n",
       "    function toolbar_mouse_event(event) {\n",
       "        return fig.toolbar_button_onmouseover(event['data']);\n",
       "    }\n",
       "\n",
       "    for(var toolbar_ind in mpl.toolbar_items) {\n",
       "        var name = mpl.toolbar_items[toolbar_ind][0];\n",
       "        var tooltip = mpl.toolbar_items[toolbar_ind][1];\n",
       "        var image = mpl.toolbar_items[toolbar_ind][2];\n",
       "        var method_name = mpl.toolbar_items[toolbar_ind][3];\n",
       "\n",
       "        if (!name) {\n",
       "            // put a spacer in here.\n",
       "            continue;\n",
       "        }\n",
       "        var button = $('<button/>');\n",
       "        button.addClass('ui-button ui-widget ui-state-default ui-corner-all ' +\n",
       "                        'ui-button-icon-only');\n",
       "        button.attr('role', 'button');\n",
       "        button.attr('aria-disabled', 'false');\n",
       "        button.click(method_name, toolbar_event);\n",
       "        button.mouseover(tooltip, toolbar_mouse_event);\n",
       "\n",
       "        var icon_img = $('<span/>');\n",
       "        icon_img.addClass('ui-button-icon-primary ui-icon');\n",
       "        icon_img.addClass(image);\n",
       "        icon_img.addClass('ui-corner-all');\n",
       "\n",
       "        var tooltip_span = $('<span/>');\n",
       "        tooltip_span.addClass('ui-button-text');\n",
       "        tooltip_span.html(tooltip);\n",
       "\n",
       "        button.append(icon_img);\n",
       "        button.append(tooltip_span);\n",
       "\n",
       "        nav_element.append(button);\n",
       "    }\n",
       "\n",
       "    var fmt_picker_span = $('<span/>');\n",
       "\n",
       "    var fmt_picker = $('<select/>');\n",
       "    fmt_picker.addClass('mpl-toolbar-option ui-widget ui-widget-content');\n",
       "    fmt_picker_span.append(fmt_picker);\n",
       "    nav_element.append(fmt_picker_span);\n",
       "    this.format_dropdown = fmt_picker[0];\n",
       "\n",
       "    for (var ind in mpl.extensions) {\n",
       "        var fmt = mpl.extensions[ind];\n",
       "        var option = $(\n",
       "            '<option/>', {selected: fmt === mpl.default_extension}).html(fmt);\n",
       "        fmt_picker.append(option);\n",
       "    }\n",
       "\n",
       "    // Add hover states to the ui-buttons\n",
       "    $( \".ui-button\" ).hover(\n",
       "        function() { $(this).addClass(\"ui-state-hover\");},\n",
       "        function() { $(this).removeClass(\"ui-state-hover\");}\n",
       "    );\n",
       "\n",
       "    var status_bar = $('<span class=\"mpl-message\"/>');\n",
       "    nav_element.append(status_bar);\n",
       "    this.message = status_bar[0];\n",
       "}\n",
       "\n",
       "mpl.figure.prototype.request_resize = function(x_pixels, y_pixels) {\n",
       "    // Request matplotlib to resize the figure. Matplotlib will then trigger a resize in the client,\n",
       "    // which will in turn request a refresh of the image.\n",
       "    this.send_message('resize', {'width': x_pixels, 'height': y_pixels});\n",
       "}\n",
       "\n",
       "mpl.figure.prototype.send_message = function(type, properties) {\n",
       "    properties['type'] = type;\n",
       "    properties['figure_id'] = this.id;\n",
       "    this.ws.send(JSON.stringify(properties));\n",
       "}\n",
       "\n",
       "mpl.figure.prototype.send_draw_message = function() {\n",
       "    if (!this.waiting) {\n",
       "        this.waiting = true;\n",
       "        this.ws.send(JSON.stringify({type: \"draw\", figure_id: this.id}));\n",
       "    }\n",
       "}\n",
       "\n",
       "\n",
       "mpl.figure.prototype.handle_save = function(fig, msg) {\n",
       "    var format_dropdown = fig.format_dropdown;\n",
       "    var format = format_dropdown.options[format_dropdown.selectedIndex].value;\n",
       "    fig.ondownload(fig, format);\n",
       "}\n",
       "\n",
       "\n",
       "mpl.figure.prototype.handle_resize = function(fig, msg) {\n",
       "    var size = msg['size'];\n",
       "    if (size[0] != fig.canvas.width || size[1] != fig.canvas.height) {\n",
       "        fig._resize_canvas(size[0], size[1]);\n",
       "        fig.send_message(\"refresh\", {});\n",
       "    };\n",
       "}\n",
       "\n",
       "mpl.figure.prototype.handle_rubberband = function(fig, msg) {\n",
       "    var x0 = msg['x0'] / mpl.ratio;\n",
       "    var y0 = (fig.canvas.height - msg['y0']) / mpl.ratio;\n",
       "    var x1 = msg['x1'] / mpl.ratio;\n",
       "    var y1 = (fig.canvas.height - msg['y1']) / mpl.ratio;\n",
       "    x0 = Math.floor(x0) + 0.5;\n",
       "    y0 = Math.floor(y0) + 0.5;\n",
       "    x1 = Math.floor(x1) + 0.5;\n",
       "    y1 = Math.floor(y1) + 0.5;\n",
       "    var min_x = Math.min(x0, x1);\n",
       "    var min_y = Math.min(y0, y1);\n",
       "    var width = Math.abs(x1 - x0);\n",
       "    var height = Math.abs(y1 - y0);\n",
       "\n",
       "    fig.rubberband_context.clearRect(\n",
       "        0, 0, fig.canvas.width / mpl.ratio, fig.canvas.height / mpl.ratio);\n",
       "\n",
       "    fig.rubberband_context.strokeRect(min_x, min_y, width, height);\n",
       "}\n",
       "\n",
       "mpl.figure.prototype.handle_figure_label = function(fig, msg) {\n",
       "    // Updates the figure title.\n",
       "    fig.header.textContent = msg['label'];\n",
       "}\n",
       "\n",
       "mpl.figure.prototype.handle_cursor = function(fig, msg) {\n",
       "    var cursor = msg['cursor'];\n",
       "    switch(cursor)\n",
       "    {\n",
       "    case 0:\n",
       "        cursor = 'pointer';\n",
       "        break;\n",
       "    case 1:\n",
       "        cursor = 'default';\n",
       "        break;\n",
       "    case 2:\n",
       "        cursor = 'crosshair';\n",
       "        break;\n",
       "    case 3:\n",
       "        cursor = 'move';\n",
       "        break;\n",
       "    }\n",
       "    fig.rubberband_canvas.style.cursor = cursor;\n",
       "}\n",
       "\n",
       "mpl.figure.prototype.handle_message = function(fig, msg) {\n",
       "    fig.message.textContent = msg['message'];\n",
       "}\n",
       "\n",
       "mpl.figure.prototype.handle_draw = function(fig, msg) {\n",
       "    // Request the server to send over a new figure.\n",
       "    fig.send_draw_message();\n",
       "}\n",
       "\n",
       "mpl.figure.prototype.handle_image_mode = function(fig, msg) {\n",
       "    fig.image_mode = msg['mode'];\n",
       "}\n",
       "\n",
       "mpl.figure.prototype.updated_canvas_event = function() {\n",
       "    // Called whenever the canvas gets updated.\n",
       "    this.send_message(\"ack\", {});\n",
       "}\n",
       "\n",
       "// A function to construct a web socket function for onmessage handling.\n",
       "// Called in the figure constructor.\n",
       "mpl.figure.prototype._make_on_message_function = function(fig) {\n",
       "    return function socket_on_message(evt) {\n",
       "        if (evt.data instanceof Blob) {\n",
       "            /* FIXME: We get \"Resource interpreted as Image but\n",
       "             * transferred with MIME type text/plain:\" errors on\n",
       "             * Chrome.  But how to set the MIME type?  It doesn't seem\n",
       "             * to be part of the websocket stream */\n",
       "            evt.data.type = \"image/png\";\n",
       "\n",
       "            /* Free the memory for the previous frames */\n",
       "            if (fig.imageObj.src) {\n",
       "                (window.URL || window.webkitURL).revokeObjectURL(\n",
       "                    fig.imageObj.src);\n",
       "            }\n",
       "\n",
       "            fig.imageObj.src = (window.URL || window.webkitURL).createObjectURL(\n",
       "                evt.data);\n",
       "            fig.updated_canvas_event();\n",
       "            fig.waiting = false;\n",
       "            return;\n",
       "        }\n",
       "        else if (typeof evt.data === 'string' && evt.data.slice(0, 21) == \"data:image/png;base64\") {\n",
       "            fig.imageObj.src = evt.data;\n",
       "            fig.updated_canvas_event();\n",
       "            fig.waiting = false;\n",
       "            return;\n",
       "        }\n",
       "\n",
       "        var msg = JSON.parse(evt.data);\n",
       "        var msg_type = msg['type'];\n",
       "\n",
       "        // Call the  \"handle_{type}\" callback, which takes\n",
       "        // the figure and JSON message as its only arguments.\n",
       "        try {\n",
       "            var callback = fig[\"handle_\" + msg_type];\n",
       "        } catch (e) {\n",
       "            console.log(\"No handler for the '\" + msg_type + \"' message type: \", msg);\n",
       "            return;\n",
       "        }\n",
       "\n",
       "        if (callback) {\n",
       "            try {\n",
       "                // console.log(\"Handling '\" + msg_type + \"' message: \", msg);\n",
       "                callback(fig, msg);\n",
       "            } catch (e) {\n",
       "                console.log(\"Exception inside the 'handler_\" + msg_type + \"' callback:\", e, e.stack, msg);\n",
       "            }\n",
       "        }\n",
       "    };\n",
       "}\n",
       "\n",
       "// from http://stackoverflow.com/questions/1114465/getting-mouse-location-in-canvas\n",
       "mpl.findpos = function(e) {\n",
       "    //this section is from http://www.quirksmode.org/js/events_properties.html\n",
       "    var targ;\n",
       "    if (!e)\n",
       "        e = window.event;\n",
       "    if (e.target)\n",
       "        targ = e.target;\n",
       "    else if (e.srcElement)\n",
       "        targ = e.srcElement;\n",
       "    if (targ.nodeType == 3) // defeat Safari bug\n",
       "        targ = targ.parentNode;\n",
       "\n",
       "    // jQuery normalizes the pageX and pageY\n",
       "    // pageX,Y are the mouse positions relative to the document\n",
       "    // offset() returns the position of the element relative to the document\n",
       "    var x = e.pageX - $(targ).offset().left;\n",
       "    var y = e.pageY - $(targ).offset().top;\n",
       "\n",
       "    return {\"x\": x, \"y\": y};\n",
       "};\n",
       "\n",
       "/*\n",
       " * return a copy of an object with only non-object keys\n",
       " * we need this to avoid circular references\n",
       " * http://stackoverflow.com/a/24161582/3208463\n",
       " */\n",
       "function simpleKeys (original) {\n",
       "  return Object.keys(original).reduce(function (obj, key) {\n",
       "    if (typeof original[key] !== 'object')\n",
       "        obj[key] = original[key]\n",
       "    return obj;\n",
       "  }, {});\n",
       "}\n",
       "\n",
       "mpl.figure.prototype.mouse_event = function(event, name) {\n",
       "    var canvas_pos = mpl.findpos(event)\n",
       "\n",
       "    if (name === 'button_press')\n",
       "    {\n",
       "        this.canvas.focus();\n",
       "        this.canvas_div.focus();\n",
       "    }\n",
       "\n",
       "    var x = canvas_pos.x * mpl.ratio;\n",
       "    var y = canvas_pos.y * mpl.ratio;\n",
       "\n",
       "    this.send_message(name, {x: x, y: y, button: event.button,\n",
       "                             step: event.step,\n",
       "                             guiEvent: simpleKeys(event)});\n",
       "\n",
       "    /* This prevents the web browser from automatically changing to\n",
       "     * the text insertion cursor when the button is pressed.  We want\n",
       "     * to control all of the cursor setting manually through the\n",
       "     * 'cursor' event from matplotlib */\n",
       "    event.preventDefault();\n",
       "    return false;\n",
       "}\n",
       "\n",
       "mpl.figure.prototype._key_event_extra = function(event, name) {\n",
       "    // Handle any extra behaviour associated with a key event\n",
       "}\n",
       "\n",
       "mpl.figure.prototype.key_event = function(event, name) {\n",
       "\n",
       "    // Prevent repeat events\n",
       "    if (name == 'key_press')\n",
       "    {\n",
       "        if (event.which === this._key)\n",
       "            return;\n",
       "        else\n",
       "            this._key = event.which;\n",
       "    }\n",
       "    if (name == 'key_release')\n",
       "        this._key = null;\n",
       "\n",
       "    var value = '';\n",
       "    if (event.ctrlKey && event.which != 17)\n",
       "        value += \"ctrl+\";\n",
       "    if (event.altKey && event.which != 18)\n",
       "        value += \"alt+\";\n",
       "    if (event.shiftKey && event.which != 16)\n",
       "        value += \"shift+\";\n",
       "\n",
       "    value += 'k';\n",
       "    value += event.which.toString();\n",
       "\n",
       "    this._key_event_extra(event, name);\n",
       "\n",
       "    this.send_message(name, {key: value,\n",
       "                             guiEvent: simpleKeys(event)});\n",
       "    return false;\n",
       "}\n",
       "\n",
       "mpl.figure.prototype.toolbar_button_onclick = function(name) {\n",
       "    if (name == 'download') {\n",
       "        this.handle_save(this, null);\n",
       "    } else {\n",
       "        this.send_message(\"toolbar_button\", {name: name});\n",
       "    }\n",
       "};\n",
       "\n",
       "mpl.figure.prototype.toolbar_button_onmouseover = function(tooltip) {\n",
       "    this.message.textContent = tooltip;\n",
       "};\n",
       "mpl.toolbar_items = [[\"Home\", \"Reset original view\", \"fa fa-home icon-home\", \"home\"], [\"Back\", \"Back to previous view\", \"fa fa-arrow-left icon-arrow-left\", \"back\"], [\"Forward\", \"Forward to next view\", \"fa fa-arrow-right icon-arrow-right\", \"forward\"], [\"\", \"\", \"\", \"\"], [\"Pan\", \"Pan axes with left mouse, zoom with right\", \"fa fa-arrows icon-move\", \"pan\"], [\"Zoom\", \"Zoom to rectangle\", \"fa fa-square-o icon-check-empty\", \"zoom\"], [\"\", \"\", \"\", \"\"], [\"Download\", \"Download plot\", \"fa fa-floppy-o icon-save\", \"download\"]];\n",
       "\n",
       "mpl.extensions = [\"eps\", \"jpeg\", \"pdf\", \"png\", \"ps\", \"raw\", \"svg\", \"tif\"];\n",
       "\n",
       "mpl.default_extension = \"png\";var comm_websocket_adapter = function(comm) {\n",
       "    // Create a \"websocket\"-like object which calls the given IPython comm\n",
       "    // object with the appropriate methods. Currently this is a non binary\n",
       "    // socket, so there is still some room for performance tuning.\n",
       "    var ws = {};\n",
       "\n",
       "    ws.close = function() {\n",
       "        comm.close()\n",
       "    };\n",
       "    ws.send = function(m) {\n",
       "        //console.log('sending', m);\n",
       "        comm.send(m);\n",
       "    };\n",
       "    // Register the callback with on_msg.\n",
       "    comm.on_msg(function(msg) {\n",
       "        //console.log('receiving', msg['content']['data'], msg);\n",
       "        // Pass the mpl event to the overridden (by mpl) onmessage function.\n",
       "        ws.onmessage(msg['content']['data'])\n",
       "    });\n",
       "    return ws;\n",
       "}\n",
       "\n",
       "mpl.mpl_figure_comm = function(comm, msg) {\n",
       "    // This is the function which gets called when the mpl process\n",
       "    // starts-up an IPython Comm through the \"matplotlib\" channel.\n",
       "\n",
       "    var id = msg.content.data.id;\n",
       "    // Get hold of the div created by the display call when the Comm\n",
       "    // socket was opened in Python.\n",
       "    var element = $(\"#\" + id);\n",
       "    var ws_proxy = comm_websocket_adapter(comm)\n",
       "\n",
       "    function ondownload(figure, format) {\n",
       "        window.open(figure.imageObj.src);\n",
       "    }\n",
       "\n",
       "    var fig = new mpl.figure(id, ws_proxy,\n",
       "                           ondownload,\n",
       "                           element.get(0));\n",
       "\n",
       "    // Call onopen now - mpl needs it, as it is assuming we've passed it a real\n",
       "    // web socket which is closed, not our websocket->open comm proxy.\n",
       "    ws_proxy.onopen();\n",
       "\n",
       "    fig.parent_element = element.get(0);\n",
       "    fig.cell_info = mpl.find_output_cell(\"<div id='\" + id + \"'></div>\");\n",
       "    if (!fig.cell_info) {\n",
       "        console.error(\"Failed to find cell for figure\", id, fig);\n",
       "        return;\n",
       "    }\n",
       "\n",
       "    var output_index = fig.cell_info[2]\n",
       "    var cell = fig.cell_info[0];\n",
       "\n",
       "};\n",
       "\n",
       "mpl.figure.prototype.handle_close = function(fig, msg) {\n",
       "    var width = fig.canvas.width/mpl.ratio\n",
       "    fig.root.unbind('remove')\n",
       "\n",
       "    // Update the output cell to use the data from the current canvas.\n",
       "    fig.push_to_output();\n",
       "    var dataURL = fig.canvas.toDataURL();\n",
       "    // Re-enable the keyboard manager in IPython - without this line, in FF,\n",
       "    // the notebook keyboard shortcuts fail.\n",
       "    IPython.keyboard_manager.enable()\n",
       "    $(fig.parent_element).html('<img src=\"' + dataURL + '\" width=\"' + width + '\">');\n",
       "    fig.close_ws(fig, msg);\n",
       "}\n",
       "\n",
       "mpl.figure.prototype.close_ws = function(fig, msg){\n",
       "    fig.send_message('closing', msg);\n",
       "    // fig.ws.close()\n",
       "}\n",
       "\n",
       "mpl.figure.prototype.push_to_output = function(remove_interactive) {\n",
       "    // Turn the data on the canvas into data in the output cell.\n",
       "    var width = this.canvas.width/mpl.ratio\n",
       "    var dataURL = this.canvas.toDataURL();\n",
       "    this.cell_info[1]['text/html'] = '<img src=\"' + dataURL + '\" width=\"' + width + '\">';\n",
       "}\n",
       "\n",
       "mpl.figure.prototype.updated_canvas_event = function() {\n",
       "    // Tell IPython that the notebook contents must change.\n",
       "    IPython.notebook.set_dirty(true);\n",
       "    this.send_message(\"ack\", {});\n",
       "    var fig = this;\n",
       "    // Wait a second, then push the new image to the DOM so\n",
       "    // that it is saved nicely (might be nice to debounce this).\n",
       "    setTimeout(function () { fig.push_to_output() }, 1000);\n",
       "}\n",
       "\n",
       "mpl.figure.prototype._init_toolbar = function() {\n",
       "    var fig = this;\n",
       "\n",
       "    var nav_element = $('<div/>');\n",
       "    nav_element.attr('style', 'width: 100%');\n",
       "    this.root.append(nav_element);\n",
       "\n",
       "    // Define a callback function for later on.\n",
       "    function toolbar_event(event) {\n",
       "        return fig.toolbar_button_onclick(event['data']);\n",
       "    }\n",
       "    function toolbar_mouse_event(event) {\n",
       "        return fig.toolbar_button_onmouseover(event['data']);\n",
       "    }\n",
       "\n",
       "    for(var toolbar_ind in mpl.toolbar_items){\n",
       "        var name = mpl.toolbar_items[toolbar_ind][0];\n",
       "        var tooltip = mpl.toolbar_items[toolbar_ind][1];\n",
       "        var image = mpl.toolbar_items[toolbar_ind][2];\n",
       "        var method_name = mpl.toolbar_items[toolbar_ind][3];\n",
       "\n",
       "        if (!name) { continue; };\n",
       "\n",
       "        var button = $('<button class=\"btn btn-default\" href=\"#\" title=\"' + name + '\"><i class=\"fa ' + image + ' fa-lg\"></i></button>');\n",
       "        button.click(method_name, toolbar_event);\n",
       "        button.mouseover(tooltip, toolbar_mouse_event);\n",
       "        nav_element.append(button);\n",
       "    }\n",
       "\n",
       "    // Add the status bar.\n",
       "    var status_bar = $('<span class=\"mpl-message\" style=\"text-align:right; float: right;\"/>');\n",
       "    nav_element.append(status_bar);\n",
       "    this.message = status_bar[0];\n",
       "\n",
       "    // Add the close button to the window.\n",
       "    var buttongrp = $('<div class=\"btn-group inline pull-right\"></div>');\n",
       "    var button = $('<button class=\"btn btn-mini btn-primary\" href=\"#\" title=\"Stop Interaction\"><i class=\"fa fa-power-off icon-remove icon-large\"></i></button>');\n",
       "    button.click(function (evt) { fig.handle_close(fig, {}); } );\n",
       "    button.mouseover('Stop Interaction', toolbar_mouse_event);\n",
       "    buttongrp.append(button);\n",
       "    var titlebar = this.root.find($('.ui-dialog-titlebar'));\n",
       "    titlebar.prepend(buttongrp);\n",
       "}\n",
       "\n",
       "mpl.figure.prototype._root_extra_style = function(el){\n",
       "    var fig = this\n",
       "    el.on(\"remove\", function(){\n",
       "\tfig.close_ws(fig, {});\n",
       "    });\n",
       "}\n",
       "\n",
       "mpl.figure.prototype._canvas_extra_style = function(el){\n",
       "    // this is important to make the div 'focusable\n",
       "    el.attr('tabindex', 0)\n",
       "    // reach out to IPython and tell the keyboard manager to turn it's self\n",
       "    // off when our div gets focus\n",
       "\n",
       "    // location in version 3\n",
       "    if (IPython.notebook.keyboard_manager) {\n",
       "        IPython.notebook.keyboard_manager.register_events(el);\n",
       "    }\n",
       "    else {\n",
       "        // location in version 2\n",
       "        IPython.keyboard_manager.register_events(el);\n",
       "    }\n",
       "\n",
       "}\n",
       "\n",
       "mpl.figure.prototype._key_event_extra = function(event, name) {\n",
       "    var manager = IPython.notebook.keyboard_manager;\n",
       "    if (!manager)\n",
       "        manager = IPython.keyboard_manager;\n",
       "\n",
       "    // Check for shift+enter\n",
       "    if (event.shiftKey && event.which == 13) {\n",
       "        this.canvas_div.blur();\n",
       "        // select the cell after this one\n",
       "        var index = IPython.notebook.find_cell_index(this.cell_info[0]);\n",
       "        IPython.notebook.select(index + 1);\n",
       "    }\n",
       "}\n",
       "\n",
       "mpl.figure.prototype.handle_save = function(fig, msg) {\n",
       "    fig.ondownload(fig, null);\n",
       "}\n",
       "\n",
       "\n",
       "mpl.find_output_cell = function(html_output) {\n",
       "    // Return the cell and output element which can be found *uniquely* in the notebook.\n",
       "    // Note - this is a bit hacky, but it is done because the \"notebook_saving.Notebook\"\n",
       "    // IPython event is triggered only after the cells have been serialised, which for\n",
       "    // our purposes (turning an active figure into a static one), is too late.\n",
       "    var cells = IPython.notebook.get_cells();\n",
       "    var ncells = cells.length;\n",
       "    for (var i=0; i<ncells; i++) {\n",
       "        var cell = cells[i];\n",
       "        if (cell.cell_type === 'code'){\n",
       "            for (var j=0; j<cell.output_area.outputs.length; j++) {\n",
       "                var data = cell.output_area.outputs[j];\n",
       "                if (data.data) {\n",
       "                    // IPython >= 3 moved mimebundle to data attribute of output\n",
       "                    data = data.data;\n",
       "                }\n",
       "                if (data['text/html'] == html_output) {\n",
       "                    return [cell, data, j];\n",
       "                }\n",
       "            }\n",
       "        }\n",
       "    }\n",
       "}\n",
       "\n",
       "// Register the function which deals with the matplotlib target/channel.\n",
       "// The kernel may be null if the page has been refreshed.\n",
       "if (IPython.notebook.kernel != null) {\n",
       "    IPython.notebook.kernel.comm_manager.register_target('matplotlib', mpl.mpl_figure_comm);\n",
       "}\n"
      ],
      "text/plain": [
       "<IPython.core.display.Javascript object>"
      ]
     },
     "metadata": {},
     "output_type": "display_data"
    },
    {
     "data": {
      "text/html": [
       "<img src=\"data:image/png;base64,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\" width=\"1000\">"
      ],
      "text/plain": [
       "<IPython.core.display.HTML object>"
      ]
     },
     "metadata": {},
     "output_type": "display_data"
    },
    {
     "name": "stderr",
     "output_type": "stream",
     "text": [
      "No handles with labels found to put in legend.\n"
     ]
    },
    {
     "data": {
      "text/plain": [
       "<matplotlib.legend.Legend at 0x2471ebd7108>"
      ]
     },
     "execution_count": 36,
     "metadata": {},
     "output_type": "execute_result"
    }
   ],
   "source": [
    "_, (ax1) = plt.subplots(1, 1, figsize=(10,5))\n",
    "beta = np.linspace(0, 90 * np.pi/180, 100)\n",
    "theta = get_theta(beta) \n",
    "ax1.plot(beta * 180/np.pi, theta * 180/ np.pi, color='blue', lw=2)\n",
    "ax1.set_xlabel(r'$\\beta$'); ax1.set_ylabel(r'$\\theta$')\n",
    "ax1.legend()"
   ]
  },
  {
   "cell_type": "code",
   "execution_count": 61,
   "metadata": {
    "scrolled": true
   },
   "outputs": [
    {
     "data": {
      "text/plain": [
       "array([90.        , 89.09090909, 88.18181818, 87.27272727, 86.36363636,\n",
       "       85.45454545, 84.54545455, 83.63636364, 82.72727273, 81.81818182,\n",
       "       80.90909091, 80.        , 79.09090909, 78.18181818, 77.27272727,\n",
       "       76.36363636, 75.45454545, 74.54545455, 73.63636364, 72.72727273,\n",
       "       71.81818182, 70.90909091, 70.        , 69.09090909, 68.18181818,\n",
       "       67.27272727, 66.36363636, 65.45454545, 64.54545455, 63.63636364,\n",
       "       62.72727273, 61.81818182, 60.90909091, 60.        , 59.09090909,\n",
       "       58.18181818, 57.27272727, 56.36363636, 55.45454545, 54.54545455,\n",
       "       53.63636364, 52.72727273, 51.81818182, 50.90909091, 50.        ,\n",
       "       49.09090909, 48.18181818, 47.27272727, 46.36363636, 45.45454545,\n",
       "       44.54545455, 43.63636364, 42.72727273, 41.81818182, 40.90909091,\n",
       "       40.        , 39.09090909, 38.18181818, 37.27272727, 36.36363636,\n",
       "       35.45454545, 34.54545455, 33.63636364, 32.72727273, 31.81818182,\n",
       "       30.90909091, 30.        , 29.09090909, 28.18181818, 27.27272727,\n",
       "       26.36363636, 25.45454545, 24.54545455, 23.63636364, 22.72727273,\n",
       "       21.81818182, 20.90909091, 20.        , 19.09090909, 18.18181818,\n",
       "       17.27272727, 16.36363636, 15.45454545, 14.54545455, 13.63636364,\n",
       "       12.72727273, 11.81818182, 10.90909091, 10.        ,  9.09090909,\n",
       "        8.18181818,  7.27272727,  6.36363636,  5.45454545,  4.54545455,\n",
       "        3.63636364,  2.72727273,  1.81818182,  0.90909091,  0.        ])"
      ]
     },
     "execution_count": 61,
     "metadata": {},
     "output_type": "execute_result"
    }
   ],
   "source": [
    "theta * 180/ np.pi "
   ]
  },
  {
   "cell_type": "code",
   "execution_count": 39,
   "metadata": {},
   "outputs": [
    {
     "data": {
      "text/plain": [
       "array([ 0.        ,  0.90909091,  1.81818182,  2.72727273,  3.63636364,\n",
       "        4.54545455,  5.45454545,  6.36363636,  7.27272727,  8.18181818,\n",
       "        9.09090909, 10.        , 10.90909091, 11.81818182, 12.72727273,\n",
       "       13.63636364, 14.54545455, 15.45454545, 16.36363636, 17.27272727,\n",
       "       18.18181818, 19.09090909, 20.        , 20.90909091, 21.81818182,\n",
       "       22.72727273, 23.63636364, 24.54545455, 25.45454545, 26.36363636,\n",
       "       27.27272727, 28.18181818, 29.09090909, 30.        , 30.90909091,\n",
       "       31.81818182, 32.72727273, 33.63636364, 34.54545455, 35.45454545,\n",
       "       36.36363636, 37.27272727, 38.18181818, 39.09090909, 40.        ,\n",
       "       40.90909091, 41.81818182, 42.72727273, 43.63636364, 44.54545455,\n",
       "       45.45454545, 46.36363636, 47.27272727, 48.18181818, 49.09090909,\n",
       "       50.        , 50.90909091, 51.81818182, 52.72727273, 53.63636364,\n",
       "       54.54545455, 55.45454545, 56.36363636, 57.27272727, 58.18181818,\n",
       "       59.09090909, 60.        , 60.90909091, 61.81818182, 62.72727273,\n",
       "       63.63636364, 64.54545455, 65.45454545, 66.36363636, 67.27272727,\n",
       "       68.18181818, 69.09090909, 70.        , 70.90909091, 71.81818182,\n",
       "       72.72727273, 73.63636364, 74.54545455, 75.45454545, 76.36363636,\n",
       "       77.27272727, 78.18181818, 79.09090909, 80.        , 80.90909091,\n",
       "       81.81818182, 82.72727273, 83.63636364, 84.54545455, 85.45454545,\n",
       "       86.36363636, 87.27272727, 88.18181818, 89.09090909, 90.        ])"
      ]
     },
     "execution_count": 39,
     "metadata": {},
     "output_type": "execute_result"
    }
   ],
   "source": [
    "beta * 180/np.pi"
   ]
  },
  {
   "cell_type": "markdown",
   "metadata": {},
   "source": [
    "## Verification with Eigen Value Analysis\n",
    "In order to verify the above results, some eigen value analysis will be carried out as shown below to compare the plausibility of the above results."
   ]
  },
  {
   "cell_type": "code",
   "execution_count": 40,
   "metadata": {},
   "outputs": [],
   "source": [
    "P_rt, D_rt = sig_.diagonalize()"
   ]
  },
  {
   "cell_type": "code",
   "execution_count": 41,
   "metadata": {},
   "outputs": [
    {
     "data": {
      "image/png": "[encoded data removed]",
      "text/latex": [
       "$\\displaystyle \\left( \\left[\\begin{matrix}\\frac{c_{t}^{2} \\left(c_{b} c_{t} + s_{b} \\sqrt{1 - c_{t}^{2}}\\right)}{- c_{b} \\sqrt{1 - c_{t}^{2}} + c_{t}^{2} \\left(c_{b} \\sqrt{1 - c_{t}^{2}} - c_{t} s_{b}\\right) + c_{t} s_{b} - \\sqrt{c_{t}^{2} \\left(3 c_{b}^{2} c_{t}^{2} - 2 c_{b}^{2} + 4 c_{b} c_{t} s_{b} \\sqrt{1 - c_{t}^{2}} - c_{t}^{2} s_{b}^{2}\\right) + \\left(c_{b} \\sqrt{1 - c_{t}^{2}} - c_{t} s_{b}\\right)^{2}}} & \\frac{c_{t}^{2} \\left(c_{b} c_{t} + s_{b} \\sqrt{1 - c_{t}^{2}}\\right)}{- c_{b} \\sqrt{1 - c_{t}^{2}} + c_{t}^{2} \\left(c_{b} \\sqrt{1 - c_{t}^{2}} - c_{t} s_{b}\\right) + c_{t} s_{b} + \\sqrt{c_{t}^{2} \\left(3 c_{b}^{2} c_{t}^{2} - 2 c_{b}^{2} + 4 c_{b} c_{t} s_{b} \\sqrt{1 - c_{t}^{2}} - c_{t}^{2} s_{b}^{2}\\right) + \\left(c_{b} \\sqrt{1 - c_{t}^{2}} - c_{t} s_{b}\\right)^{2}}}\\\\1 & 1\\end{matrix}\\right], \\  \\left[\\begin{matrix}\\sqrt{\\pi} \\sigma_x \\sqrt{a} s_{b} \\left(- c_{b} \\sqrt{1 - c_{t}^{2}} + c_{t} s_{b} - \\sqrt{c_{t}^{2} \\left(3 c_{b}^{2} c_{t}^{2} - 2 c_{b}^{2} + 4 c_{b} c_{t} s_{b} \\sqrt{1 - c_{t}^{2}} - c_{t}^{2} s_{b}^{2}\\right) + \\left(c_{b} \\sqrt{1 - c_{t}^{2}} - c_{t} s_{b}\\right)^{2}}\\right) & 0\\\\0 & \\sqrt{\\pi} \\sigma_x \\sqrt{a} s_{b} \\left(- c_{b} \\sqrt{1 - c_{t}^{2}} + c_{t} s_{b} + \\sqrt{c_{t}^{2} \\left(3 c_{b}^{2} c_{t}^{2} - 2 c_{b}^{2} + 4 c_{b} c_{t} s_{b} \\sqrt{1 - c_{t}^{2}} - c_{t}^{2} s_{b}^{2}\\right) + \\left(c_{b} \\sqrt{1 - c_{t}^{2}} - c_{t} s_{b}\\right)^{2}}\\right)\\end{matrix}\\right]\\right)$"
      ],
      "text/plain": [
       "⎛⎡                                                                       ⎛    \n",
       "⎜⎢                                                                     2 ⎜    \n",
       "⎜⎢                                                                   cₜ ⋅⎝c_b⋅\n",
       "⎜⎢────────────────────────────────────────────────────────────────────────────\n",
       "⎜⎢                                                                     _______\n",
       "⎜⎢                                                                    ╱       \n",
       "⎜⎢         _________       ⎛       _________         ⎞               ╱      ⎛ \n",
       "⎜⎢        ╱       2      2 ⎜      ╱       2          ⎟              ╱     2 ⎜ \n",
       "⎜⎢- c_b⋅╲╱  1 - cₜ   + cₜ ⋅⎝c_b⋅╲╱  1 - cₜ   - cₜ⋅s_b⎠ + cₜ⋅s_b - ╲╱    cₜ ⋅⎝3\n",
       "⎜⎢                                                                            \n",
       "⎝⎣                                                                            \n",
       "\n",
       "            _________⎞                                                        \n",
       "           ╱       2 ⎟                                                        \n",
       "cₜ + s_b⋅╲╱  1 - cₜ  ⎠                                                        \n",
       "──────────────────────────────────────────────────────────────────────────────\n",
       "______________________________________________________________________________\n",
       "                                                                              \n",
       "                                     _________           ⎞   ⎛       _________\n",
       "    2   2        2                  ╱       2      2    2⎟   ⎜      ╱       2 \n",
       "⋅c_b ⋅cₜ  - 2⋅c_b  + 4⋅c_b⋅cₜ⋅s_b⋅╲╱  1 - cₜ   - cₜ ⋅s_b ⎠ + ⎝c_b⋅╲╱  1 - cₜ  \n",
       "                                                                              \n",
       "      1                                                                       \n",
       "\n",
       "                                                                              \n",
       "                                                                              \n",
       "                                                                              \n",
       "────────────  ────────────────────────────────────────────────────────────────\n",
       "____________                                                                  \n",
       "          2                                                                   \n",
       "         ⎞             _________       ⎛       _________         ⎞            \n",
       "         ⎟            ╱       2      2 ⎜      ╱       2          ⎟            \n",
       " - cₜ⋅s_b⎠    - c_b⋅╲╱  1 - cₜ   + cₜ ⋅⎝c_b⋅╲╱  1 - cₜ   - cₜ⋅s_b⎠ + cₜ⋅s_b + \n",
       "                                                                              \n",
       "                                                                              \n",
       "\n",
       "       ⎛                _________⎞                                            \n",
       "     2 ⎜               ╱       2 ⎟                                            \n",
       "   cₜ ⋅⎝c_b⋅cₜ + s_b⋅╲╱  1 - cₜ  ⎠                                            \n",
       "──────────────────────────────────────────────────────────────────────────────\n",
       "     _________________________________________________________________________\n",
       "    ╱                                                                         \n",
       "   ╱      ⎛                                      _________           ⎞   ⎛    \n",
       "  ╱     2 ⎜     2   2        2                  ╱       2      2    2⎟   ⎜    \n",
       "╲╱    cₜ ⋅⎝3⋅c_b ⋅cₜ  - 2⋅c_b  + 4⋅c_b⋅cₜ⋅s_b⋅╲╱  1 - cₜ   - cₜ ⋅s_b ⎠ + ⎝c_b⋅\n",
       "                                                                              \n",
       "                  1                                                           \n",
       "\n",
       "                        ⎤  ⎡                  ⎛                               \n",
       "                        ⎥  ⎢                  ⎜                               \n",
       "                        ⎥  ⎢                  ⎜         _________             \n",
       "────────────────────────⎥  ⎢                  ⎜        ╱       2              \n",
       "________________________⎥  ⎢√π⋅\\sigmaₓ⋅√a⋅s_b⋅⎝- c_b⋅╲╱  1 - cₜ   + cₜ⋅s_b - ╲\n",
       "                      2 ⎥, ⎢                                                  \n",
       "   _________         ⎞  ⎥  ⎢                                                  \n",
       "  ╱       2          ⎟  ⎥  ⎢                                                  \n",
       "╲╱  1 - cₜ   - cₜ⋅s_b⎠  ⎥  ⎢                                                  \n",
       "                        ⎥  ⎢                                                  \n",
       "                        ⎦  ⎣                                                  \n",
       "\n",
       "    __________________________________________________________________________\n",
       "   ╱                                                                          \n",
       "  ╱      ⎛                                      _________           ⎞   ⎛     \n",
       " ╱     2 ⎜     2   2        2                  ╱       2      2    2⎟   ⎜     \n",
       "╱    cₜ ⋅⎝3⋅c_b ⋅cₜ  - 2⋅c_b  + 4⋅c_b⋅cₜ⋅s_b⋅╲╱  1 - cₜ   - cₜ ⋅s_b ⎠ + ⎝c_b⋅╲\n",
       "                                                                              \n",
       "                                                                              \n",
       "                                                                              \n",
       "                                                                              \n",
       "                                                                              \n",
       "                         0                                                    \n",
       "\n",
       "_______________________⎞                                                      \n",
       "                     2 ⎟                                                      \n",
       "  _________         ⎞  ⎟                                                      \n",
       " ╱       2          ⎟  ⎟                                                      \n",
       "╱  1 - cₜ   - cₜ⋅s_b⎠  ⎠                                                      \n",
       "                                                                              \n",
       "                                            ⎛                                 \n",
       "                                            ⎜                                 \n",
       "                                            ⎜         _________               \n",
       "                                            ⎜        ╱       2               ╱\n",
       "                          √π⋅\\sigmaₓ⋅√a⋅s_b⋅⎝- c_b⋅╲╱  1 - cₜ   + cₜ⋅s_b + ╲╱ \n",
       "\n",
       "                                                                              \n",
       "                                                                              \n",
       "                                                                              \n",
       "                                                                              \n",
       "                       0                                                      \n",
       "                                                                              \n",
       "  ____________________________________________________________________________\n",
       " ╱                                                                            \n",
       "╱      ⎛                                      _________           ⎞   ⎛       \n",
       "     2 ⎜     2   2        2                  ╱       2      2    2⎟   ⎜      ╱\n",
       "   cₜ ⋅⎝3⋅c_b ⋅cₜ  - 2⋅c_b  + 4⋅c_b⋅cₜ⋅s_b⋅╲╱  1 - cₜ   - cₜ ⋅s_b ⎠ + ⎝c_b⋅╲╱ \n",
       "\n",
       "                      ⎤⎞\n",
       "                      ⎥⎟\n",
       "                      ⎥⎟\n",
       "                      ⎥⎟\n",
       "                      ⎥⎟\n",
       "                      ⎥⎟\n",
       "_____________________⎞⎥⎟\n",
       "                   2 ⎟⎥⎟\n",
       "_________         ⎞  ⎟⎥⎟\n",
       "       2          ⎟  ⎟⎥⎟\n",
       " 1 - cₜ   - cₜ⋅s_b⎠  ⎠⎦⎠"
      ]
     },
     "execution_count": 41,
     "metadata": {},
     "output_type": "execute_result"
    }
   ],
   "source": [
    "P_rt, D_rt"
   ]
  },
  {
   "cell_type": "code",
   "execution_count": 42,
   "metadata": {},
   "outputs": [
    {
     "data": {
      "image/png": "[encoded data removed]",
      "text/latex": [
       "$\\displaystyle \\left[\\begin{matrix}\\sqrt{\\pi} \\sigma_x \\sqrt{a} c_{t}^{2} s_{b} \\left(- c_{b} \\sqrt{1 - c_{t}^{2}} + c_{t} s_{b}\\right) & \\sqrt{\\pi} \\sigma_x \\sqrt{a} c_{t}^{2} s_{b} \\left(c_{b} c_{t} + s_{b} \\sqrt{1 - c_{t}^{2}}\\right)\\\\\\frac{\\sqrt{\\pi} \\sigma_x \\sqrt{a} c_{t}^{2} s_{b} \\left(c_{b}^{2} c_{t}^{2} + 2 c_{b} c_{t} s_{b} \\sqrt{1 - c_{t}^{2}} - c_{t}^{2} s_{b}^{2} + s_{b}^{2}\\right)}{c_{b} c_{t} + s_{b} \\sqrt{1 - c_{t}^{2}}} & \\sqrt{\\pi} \\sigma_x \\sqrt{a} s_{b} \\left(c_{b} c_{t}^{2} \\sqrt{1 - c_{t}^{2}} - 2 c_{b} \\sqrt{1 - c_{t}^{2}} - c_{t}^{3} s_{b} + 2 c_{t} s_{b}\\right)\\end{matrix}\\right]$"
      ],
      "text/plain": [
       "⎡                                   ⎛         _________         ⎞             \n",
       "⎢                             2     ⎜        ╱       2          ⎟             \n",
       "⎢             √π⋅\\sigmaₓ⋅√a⋅cₜ ⋅s_b⋅⎝- c_b⋅╲╱  1 - cₜ   + cₜ⋅s_b⎠             \n",
       "⎢                                                                             \n",
       "⎢                      ⎛                           _________                  \n",
       "⎢                2     ⎜   2   2                  ╱       2      2    2      2\n",
       "⎢√π⋅\\sigmaₓ⋅√a⋅cₜ ⋅s_b⋅⎝c_b ⋅cₜ  + 2⋅c_b⋅cₜ⋅s_b⋅╲╱  1 - cₜ   - cₜ ⋅s_b  + s_b \n",
       "⎢─────────────────────────────────────────────────────────────────────────────\n",
       "⎢                                          _________                          \n",
       "⎢                                         ╱       2                           \n",
       "⎣                          c_b⋅cₜ + s_b⋅╲╱  1 - cₜ                            \n",
       "\n",
       "                                         ⎛                _________⎞          \n",
       "                                   2     ⎜               ╱       2 ⎟          \n",
       "                   √π⋅\\sigmaₓ⋅√a⋅cₜ ⋅s_b⋅⎝c_b⋅cₜ + s_b⋅╲╱  1 - cₜ  ⎠          \n",
       "                                                                              \n",
       "⎞                                                                             \n",
       "⎟                    ⎛           _________            _________               \n",
       "⎠                    ⎜      2   ╱       2            ╱       2      3         \n",
       "─  √π⋅\\sigmaₓ⋅√a⋅s_b⋅⎝c_b⋅cₜ ⋅╲╱  1 - cₜ   - 2⋅c_b⋅╲╱  1 - cₜ   - cₜ ⋅s_b + 2⋅\n",
       "                                                                              \n",
       "                                                                              \n",
       "                                                                              \n",
       "\n",
       "       ⎤\n",
       "       ⎥\n",
       "       ⎥\n",
       "       ⎥\n",
       "       ⎥\n",
       "      ⎞⎥\n",
       "      ⎟⎥\n",
       "cₜ⋅s_b⎠⎥\n",
       "       ⎥\n",
       "       ⎥\n",
       "       ⎦"
      ]
     },
     "execution_count": 42,
     "metadata": {},
     "output_type": "execute_result"
    }
   ],
   "source": [
    "sp.simplify(P_rt* D_rt * P_rt**(-1))"
   ]
  },
  {
   "cell_type": "code",
   "execution_count": 48,
   "metadata": {},
   "outputs": [
    {
     "data": {
      "image/png": "[encoded data removed]",
      "text/latex": [
       "$\\displaystyle \\operatorname{atan}{\\left(\\frac{c_{t}^{2} \\left(c_{b} c_{t} + s_{b} \\sqrt{1 - c_{t}^{2}}\\right)}{c_{b} \\sqrt{1 - c_{t}^{2}} - c_{t}^{2} \\left(c_{b} \\sqrt{1 - c_{t}^{2}} - c_{t} s_{b}\\right) - c_{t} s_{b} + \\sqrt{c_{t}^{2} \\left(3 c_{b}^{2} c_{t}^{2} - 2 c_{b}^{2} + 4 c_{b} c_{t} s_{b} \\sqrt{1 - c_{t}^{2}} - c_{t}^{2} s_{b}^{2}\\right) + \\left(c_{b} \\sqrt{1 - c_{t}^{2}} - c_{t} s_{b}\\right)^{2}}} \\right)}$"
      ],
      "text/plain": [
       "    ⎛                                                                      ⎛  \n",
       "    ⎜                                                                    2 ⎜  \n",
       "    ⎜                                                                  cₜ ⋅⎝c_\n",
       "atan⎜─────────────────────────────────────────────────────────────────────────\n",
       "    ⎜                                                                   ______\n",
       "    ⎜                                                                  ╱      \n",
       "    ⎜       _________       ⎛       _________         ⎞               ╱      ⎛\n",
       "    ⎜      ╱       2      2 ⎜      ╱       2          ⎟              ╱     2 ⎜\n",
       "    ⎝c_b⋅╲╱  1 - cₜ   - cₜ ⋅⎝c_b⋅╲╱  1 - cₜ   - cₜ⋅s_b⎠ - cₜ⋅s_b + ╲╱    cₜ ⋅⎝\n",
       "\n",
       "              _________⎞                                                      \n",
       "             ╱       2 ⎟                                                      \n",
       "b⋅cₜ + s_b⋅╲╱  1 - cₜ  ⎠                                                      \n",
       "──────────────────────────────────────────────────────────────────────────────\n",
       "______________________________________________________________________________\n",
       "                                                                              \n",
       "                                      _________           ⎞   ⎛       ________\n",
       "     2   2        2                  ╱       2      2    2⎟   ⎜      ╱       2\n",
       "3⋅c_b ⋅cₜ  - 2⋅c_b  + 4⋅c_b⋅cₜ⋅s_b⋅╲╱  1 - cₜ   - cₜ ⋅s_b ⎠ + ⎝c_b⋅╲╱  1 - cₜ \n",
       "\n",
       "             ⎞\n",
       "             ⎟\n",
       "             ⎟\n",
       "─────────────⎟\n",
       "_____________⎟\n",
       "           2 ⎟\n",
       "_         ⎞  ⎟\n",
       "          ⎟  ⎟\n",
       "  - cₜ⋅s_b⎠  ⎠"
      ]
     },
     "execution_count": 48,
     "metadata": {},
     "output_type": "execute_result"
    }
   ],
   "source": [
    "theta_f = sp.atan( sp.simplify(-P_rt[0,0] / P_rt[1,0]))\n",
    "theta_f"
   ]
  },
  {
   "cell_type": "code",
   "execution_count": null,
   "metadata": {},
   "outputs": [],
   "source": []
  }
 ],
 "metadata": {
  "kernelspec": {
   "display_name": "Python 3",
   "language": "python",
   "name": "python3"
  },
  "language_info": {
   "codemirror_mode": {
    "name": "ipython",
    "version": 3
   },
   "file_extension": ".py",
   "mimetype": "text/x-python",
   "name": "python",
   "nbconvert_exporter": "python",
   "pygments_lexer": "ipython3",
   "version": "3.7.6"
  },
  "toc": {
   "base_numbering": 1,
   "nav_menu": {},
   "number_sections": true,
   "sideBar": true,
   "skip_h1_title": false,
   "title_cell": "Table of Contents",
   "title_sidebar": "Contents",
   "toc_cell": false,
   "toc_position": {
    "height": "calc(100% - 180px)",
    "left": "10px",
    "top": "150px",
    "width": "165px"
   },
   "toc_section_display": true,
   "toc_window_display": true
  }
 },
 "nbformat": 4,
 "nbformat_minor": 2
}
