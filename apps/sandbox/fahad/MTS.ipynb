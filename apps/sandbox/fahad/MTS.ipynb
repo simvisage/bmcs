{
 "cells": [
  {
   "cell_type": "code",
   "execution_count": 1,
   "metadata": {},
   "outputs": [],
   "source": [
    "import sympy as sp\n",
    "import numpy as np\n",
    "import matplotlib.pyplot as plt"
   ]
  },
  {
   "cell_type": "markdown",
   "metadata": {},
   "source": [
    "# Maximum Tangential Stress Theory"
   ]
  },
  {
   "cell_type": "markdown",
   "metadata": {},
   "source": [
    "\\begin{align*} \n",
    "\\sigma_{\\theta\\theta} \n",
    "& = \\frac{1}{\\sqrt{2 \\pi r}}\\left( K_I \\left( \\cos^3 \\frac{\\theta}{2} \\right) - K_{II}\\left(3 \\sin \\frac{\\theta}{2} \\cos^2 \\frac{\\theta}{2} \\right) \\right) + T \\sin^2 \\theta + O(r^\\frac{1}{2}) + \\ldots \\label{eq:sigtt} \\tag{1}\n",
    "\\end{align*}\n",
    "\\begin{align*}\n",
    "\\frac{\\partial \\sigma_{\\theta\\theta}}{\\partial \\theta}=0 \\label{eq:Con2} \\tag{2}\n",
    "\\end{align*}"
   ]
  },
  {
   "cell_type": "markdown",
   "metadata": {},
   "source": [
    "The maximum tangential theory states that crack propagates in the direction of maximum tangent stress which is calculated as shown in \\ref{eq:sigtt} whereas the direction of initiation can be found from the condition depicted in equation \\ref{eq:Con2}. However, the latter one yields following result:\n",
    "\n",
    "\\begin{equation*}\n",
    "[K_I \\sin \\theta + K_{II}(3 \\cos \\theta -1)]-\\gamma \\sin \\frac{\\theta}{2} \\cos \\theta = 0\n",
    "\\label{eq:conditionresult} \\tag{3}\n",
    "\\end{equation*}\n",
    "\n",
    "where,\n",
    "\n",
    "\\begin{equation*}\n",
    "\\gamma = \\frac{16 \\left(T \\sqrt{2 \\pi r_c}\\right)}{3}\n",
    "\\label{eq:thetao} \\tag{4}\n",
    "\\end{equation*}\n",
    "\n",
    "If critical radius ($r_c$) from the tip of the crack is represented in the dimensionless form $\\alpha$ as:\n",
    "\n",
    "\\begin{equation*}\n",
    "\\alpha =  \\sqrt{\\frac{2  r_c}{a}}\n",
    "\\label{eq:alpha} \\tag{5}\n",
    "\\end{equation*}\n",
    "\n",
    "then $\\gamma$ can be written in terms of B as:\n",
    "\n",
    "\\begin{equation*}\n",
    "\\gamma=   \\frac{16 (B \\alpha K_{eff})}{3}\n",
    "\\label{eq:gamma} \\tag{6}\n",
    "\\end{equation*}\n",
    "\n",
    "$K_{eff}$ is given as:\n",
    "\\begin{equation*}\n",
    "K_{eff} = \\sqrt{K_I^2 + K_{II}^2}\n",
    "\\label{eq:Keff} \\tag{7}\n",
    "\\end{equation*}"
   ]
  },
  {
   "cell_type": "markdown",
   "metadata": {},
   "source": [
    "The term $B$ in equation 6 denotes the biaxiality ratio which normalizes the effect of T stress in relation to the stress intensity factors and is given as follows for mixed mode case:\n",
    "\\begin{equation*}\n",
    "B = \\frac{T \\sqrt{ \\pi a}}{K_{eff}}\n",
    "\\label{eq:B} \\tag{8}\n",
    "\\end{equation*}\n",
    "\n",
    "Here, $a$ represents the crack length. The crack initiation angle is denoted by $\\theta$ and $K_I$ and $K_{II}$ denotes the mode I and mode II stress intensity factors."
   ]
  },
  {
   "cell_type": "code",
   "execution_count": 2,
   "metadata": {},
   "outputs": [
    {
     "data": {
      "text/latex": [
       "$\\displaystyle B\\alpha$"
      ],
      "text/plain": [
       "B\\alpha"
      ]
     },
     "execution_count": 2,
     "metadata": {},
     "output_type": "execute_result"
    }
   ],
   "source": [
    "K_I = sp.Symbol(r'K_I', real = True )\n",
    "K_II = sp.Symbol(r'K_II', real = True )\n",
    "K_eff = sp.Symbol(r'K_eff', real = True )\n",
    "T = sp.Symbol('T', real = True )\n",
    "a = sp.Symbol('a', real = True )\n",
    "#gamma = sp.Symbol(r'\\gamma', real = True)\n",
    "B = sp.Symbol(r'B', real = True)\n",
    "r_c = sp.Symbol(r'r_c', real = True)\n",
    "alpha = sp.Symbol(r'\\alpha', real = True)\n",
    "theta = sp.Symbol(r'\\theta', real = True)\n",
    "a = sp.Symbol('a', real = True)\n",
    "Balpha = sp.Symbol(r'B\\alpha', nonnegative=True)\n",
    "Balpha"
   ]
  },
  {
   "cell_type": "code",
   "execution_count": 3,
   "metadata": {},
   "outputs": [
    {
     "data": {
      "text/latex": [
       "$\\displaystyle \\frac{2.66666666666667 B\\alpha \\cos{\\left(\\theta \\right)}}{\\cos{\\left(\\frac{\\theta}{2} \\right)}}$"
      ],
      "text/plain": [
       "2.66666666666667*B\\alpha*cos(\\theta)/cos(\\theta/2)"
      ]
     },
     "execution_count": 3,
     "metadata": {},
     "output_type": "execute_result"
    }
   ],
   "source": [
    "x = (3 * sp.cos(theta) - 1)/sp.sin(theta)\n",
    "y = (8/3) * Balpha * sp.cos(theta)/sp.cos(theta/2)\n",
    "y"
   ]
  },
  {
   "cell_type": "code",
   "execution_count": 4,
   "metadata": {},
   "outputs": [
    {
     "data": {
      "text/latex": [
       "$\\displaystyle \\frac{K_{II}}{K_{I}}$"
      ],
      "text/plain": [
       "K_II/K_I"
      ]
     },
     "execution_count": 4,
     "metadata": {},
     "output_type": "execute_result"
    }
   ],
   "source": [
    "z = K_II / K_I\n",
    "z"
   ]
  },
  {
   "cell_type": "code",
   "execution_count": 5,
   "metadata": {},
   "outputs": [
    {
     "data": {
      "text/latex": [
       "$\\displaystyle \\frac{- \\frac{7.11111111111111 B\\alpha \\sqrt{- \\frac{B\\alpha^{2} \\cos^{2}{\\left(\\theta \\right)}}{\\cos^{2}{\\left(\\frac{\\theta}{2} \\right)}} + \\frac{0.140625 \\left(3 \\cos{\\left(\\theta \\right)} - 1\\right)^{2}}{\\sin^{2}{\\left(\\theta \\right)}} + 0.140625} \\cos{\\left(\\theta \\right)}}{\\cos{\\left(\\frac{\\theta}{2} \\right)}} - \\frac{3 \\cos{\\left(\\theta \\right)} - 1}{\\sin{\\left(\\theta \\right)}}}{- \\frac{7.11111111111111 B\\alpha^{2} \\cos^{2}{\\left(\\theta \\right)}}{\\cos^{2}{\\left(\\frac{\\theta}{2} \\right)}} + \\frac{\\left(3 \\cos{\\left(\\theta \\right)} - 1\\right)^{2}}{\\sin^{2}{\\left(\\theta \\right)}}}$"
      ],
      "text/plain": [
       "(-7.11111111111111*B\\alpha*sqrt(-B\\alpha**2*cos(\\theta)**2/cos(\\theta/2)**2 + 0.140625*(3*cos(\\theta) - 1)**2/sin(\\theta)**2 + 0.140625)*cos(\\theta)/cos(\\theta/2) - (3*cos(\\theta) - 1)/sin(\\theta))/(-7.11111111111111*B\\alpha**2*cos(\\theta)**2/cos(\\theta/2)**2 + (3*cos(\\theta) - 1)**2/sin(\\theta)**2)"
      ]
     },
     "execution_count": 5,
     "metadata": {},
     "output_type": "execute_result"
    }
   ],
   "source": [
    "#x = sp.Symbol('x', real = True)\n",
    "#y = sp.Symbol('y', real = True)\n",
    "z = (-x-(y*sp.sqrt(x**2-y**2+1)))/(x**2-y**2)\n",
    "z"
   ]
  },
  {
   "cell_type": "code",
   "execution_count": 6,
   "metadata": {},
   "outputs": [
    {
     "data": {
      "text/latex": [
       "$\\displaystyle \\frac{2 \\operatorname{atan}{\\left(\\frac{- \\frac{7.11111111111111 B\\alpha^{2} \\cos^{2}{\\left(\\theta \\right)}}{\\cos^{2}{\\left(\\frac{\\theta}{2} \\right)}} + \\frac{\\left(3 \\cos{\\left(\\theta \\right)} - 1\\right)^{2}}{\\sin^{2}{\\left(\\theta \\right)}}}{- \\frac{7.11111111111111 B\\alpha \\sqrt{- \\frac{B\\alpha^{2} \\cos^{2}{\\left(\\theta \\right)}}{\\cos^{2}{\\left(\\frac{\\theta}{2} \\right)}} + \\frac{0.140625 \\left(3 \\cos{\\left(\\theta \\right)} - 1\\right)^{2}}{\\sin^{2}{\\left(\\theta \\right)}} + 0.140625} \\cos{\\left(\\theta \\right)}}{\\cos{\\left(\\frac{\\theta}{2} \\right)}} - \\frac{3 \\cos{\\left(\\theta \\right)} - 1}{\\sin{\\left(\\theta \\right)}}} \\right)}}{\\pi}$"
      ],
      "text/plain": [
       "2*atan((-7.11111111111111*B\\alpha**2*cos(\\theta)**2/cos(\\theta/2)**2 + (3*cos(\\theta) - 1)**2/sin(\\theta)**2)/(-7.11111111111111*B\\alpha*sqrt(-B\\alpha**2*cos(\\theta)**2/cos(\\theta/2)**2 + 0.140625*(3*cos(\\theta) - 1)**2/sin(\\theta)**2 + 0.140625)*cos(\\theta)/cos(\\theta/2) - (3*cos(\\theta) - 1)/sin(\\theta)))/pi"
      ]
     },
     "execution_count": 6,
     "metadata": {},
     "output_type": "execute_result"
    }
   ],
   "source": [
    "#Mixity Parameter\n",
    "l = 1/z\n",
    "M_e = (2/sp.pi) * sp.atan(1/z)\n",
    "M_e"
   ]
  },
  {
   "cell_type": "code",
   "execution_count": 7,
   "metadata": {},
   "outputs": [],
   "source": [
    "material_params = {\n",
    " Balpha: 0.375,\n",
    "    K_Ic : 31.4\n",
    "}"
   ]
  },
  {
   "cell_type": "code",
   "execution_count": 8,
   "metadata": {},
   "outputs": [
    {
     "data": {
      "text/latex": [
       "$\\displaystyle \\frac{- \\frac{3 \\cos{\\left(\\theta \\right)} - 1}{\\sin{\\left(\\theta \\right)}} - \\frac{1.0 \\sqrt{\\frac{\\left(3 \\cos{\\left(\\theta \\right)} - 1\\right)^{2}}{\\sin^{2}{\\left(\\theta \\right)}} + 1 - \\frac{\\cos^{2}{\\left(\\theta \\right)}}{\\cos^{2}{\\left(\\frac{\\theta}{2} \\right)}}} \\cos{\\left(\\theta \\right)}}{\\cos{\\left(\\frac{\\theta}{2} \\right)}}}{\\frac{\\left(3 \\cos{\\left(\\theta \\right)} - 1\\right)^{2}}{\\sin^{2}{\\left(\\theta \\right)}} - \\frac{1.0 \\cos^{2}{\\left(\\theta \\right)}}{\\cos^{2}{\\left(\\frac{\\theta}{2} \\right)}}}$"
      ],
      "text/plain": [
       "(-(3*cos(\\theta) - 1)/sin(\\theta) - 1.0*sqrt((3*cos(\\theta) - 1)**2/sin(\\theta)**2 + 1 - cos(\\theta)**2/cos(\\theta/2)**2)*cos(\\theta)/cos(\\theta/2))/((3*cos(\\theta) - 1)**2/sin(\\theta)**2 - 1.0*cos(\\theta)**2/cos(\\theta/2)**2)"
      ]
     },
     "execution_count": 8,
     "metadata": {},
     "output_type": "execute_result"
    }
   ],
   "source": [
    "get_z = sp.lambdify(theta, z.subs(material_params), 'numpy')\n",
    "z.subs(material_params)"
   ]
  },
  {
   "cell_type": "code",
   "execution_count": 9,
   "metadata": {},
   "outputs": [
    {
     "data": {
      "text/latex": [
       "$\\displaystyle \\frac{3 \\cos{\\left(\\theta \\right)} - 1}{\\sin{\\left(\\theta \\right)}}$"
      ],
      "text/plain": [
       "(3*cos(\\theta) - 1)/sin(\\theta)"
      ]
     },
     "execution_count": 9,
     "metadata": {},
     "output_type": "execute_result"
    }
   ],
   "source": [
    "get_x = sp.lambdify(theta, x.subs(material_params), 'numpy')\n",
    "x.subs(material_params)"
   ]
  },
  {
   "cell_type": "code",
   "execution_count": 10,
   "metadata": {},
   "outputs": [
    {
     "data": {
      "text/latex": [
       "$\\displaystyle \\frac{1.0 \\cos{\\left(\\theta \\right)}}{\\cos{\\left(\\frac{\\theta}{2} \\right)}}$"
      ],
      "text/plain": [
       "1.0*cos(\\theta)/cos(\\theta/2)"
      ]
     },
     "execution_count": 10,
     "metadata": {},
     "output_type": "execute_result"
    }
   ],
   "source": [
    "get_y = sp.lambdify(theta, y.subs(material_params), 'numpy')\n",
    "y.subs(material_params)"
   ]
  },
  {
   "cell_type": "code",
   "execution_count": 11,
   "metadata": {},
   "outputs": [
    {
     "data": {
      "text/latex": [
       "$\\displaystyle \\frac{2 \\operatorname{atan}{\\left(\\frac{\\frac{\\left(3 \\cos{\\left(\\theta \\right)} - 1\\right)^{2}}{\\sin^{2}{\\left(\\theta \\right)}} - \\frac{1.0 \\cos^{2}{\\left(\\theta \\right)}}{\\cos^{2}{\\left(\\frac{\\theta}{2} \\right)}}}{- \\frac{3 \\cos{\\left(\\theta \\right)} - 1}{\\sin{\\left(\\theta \\right)}} - \\frac{1.0 \\sqrt{\\frac{\\left(3 \\cos{\\left(\\theta \\right)} - 1\\right)^{2}}{\\sin^{2}{\\left(\\theta \\right)}} + 1 - \\frac{\\cos^{2}{\\left(\\theta \\right)}}{\\cos^{2}{\\left(\\frac{\\theta}{2} \\right)}}} \\cos{\\left(\\theta \\right)}}{\\cos{\\left(\\frac{\\theta}{2} \\right)}}} \\right)}}{\\pi}$"
      ],
      "text/plain": [
       "2*atan(((3*cos(\\theta) - 1)**2/sin(\\theta)**2 - 1.0*cos(\\theta)**2/cos(\\theta/2)**2)/(-(3*cos(\\theta) - 1)/sin(\\theta) - 1.0*sqrt((3*cos(\\theta) - 1)**2/sin(\\theta)**2 + 1 - cos(\\theta)**2/cos(\\theta/2)**2)*cos(\\theta)/cos(\\theta/2)))/pi"
      ]
     },
     "execution_count": 11,
     "metadata": {},
     "output_type": "execute_result"
    }
   ],
   "source": [
    "get_M_e = sp.lambdify(theta, M_e.subs(material_params), 'numpy')\n",
    "M_e.subs(material_params)"
   ]
  },
  {
   "cell_type": "code",
   "execution_count": 12,
   "metadata": {},
   "outputs": [],
   "source": [
    "def get_response(theta_m=-15*np.pi/180, n_steps=4): #,n_steps=4\n",
    "    x_record, y_record, z_record, M_e_record = [], [], [], []\n",
    "    theta_o = np.linspace(-90*np.pi/180,theta_m,n_steps+1)\n",
    "    for the in theta_o:\n",
    "        x = get_x(the)\n",
    "        y = get_y(the)\n",
    "        z = get_z(the)\n",
    "        Me = get_M_e(the)\n",
    "        #print(Me)\n",
    "        x_record.append(x)\n",
    "        y_record.append(y)\n",
    "        z_record.append(z)\n",
    "        M_e_record.append(Me)\n",
    "        #print(theta_o*180/np.pi)\n",
    "        #print('x',x)\n",
    "        #print('y',y)\n",
    "        #print('z',z)\n",
    "    #plt.plot(Me, theta_o*180/np.pi)\n",
    "    return (\n",
    "        theta_o, np.array(x_record,dtype=np.float_),\n",
    "        np.array(y_record,dtype=np.float_),\n",
    "        np.array(z_record, dtype=np.float_),\n",
    "        np.array(M_e_record,dtype=np.float_)\n",
    "    )"
   ]
  },
  {
   "cell_type": "code",
   "execution_count": 13,
   "metadata": {},
   "outputs": [
    {
     "data": {
      "image/png": "[encoded data removed]",
      "text/plain": [
       "<Figure size 720x576 with 1 Axes>"
      ]
     },
     "metadata": {
      "needs_background": "light"
     },
     "output_type": "display_data"
    }
   ],
   "source": [
    "fig, ((ax1)) = plt.subplots(1,1,figsize=(10,8))\n",
    "colors = ['blue','red', 'green', 'black', 'magenta', 'pink']\n",
    "n_step_range = np.arange(1,2)*100\n",
    "theta_m = -15*np.pi/180\n",
    "#print(theta * 180/np.pi)\n",
    "for n_step, color in zip(n_step_range, colors):\n",
    "    theta_o, x_arr, y_arr, z_arr, M_e_arr = get_response(theta_m,n_step) \n",
    "    ax1.plot(M_e_arr[:], theta_o*180/np.pi, color=color, \n",
    "         label='n_steps = %g' % n_step)\n",
    "    ax1.set_xlabel('$M_e$'); ax1.set_ylabel(r'$\\theta$')\n",
    "    ax1.invert_yaxis()\n",
    "    ax1.legend()\n",
    "    #print(M_e_arr)\n",
    "    #print(theta_o*180/np.pi)"
   ]
  },
  {
   "cell_type": "code",
   "execution_count": 14,
   "metadata": {},
   "outputs": [
    {
     "data": {
      "text/latex": [
       "$\\displaystyle \\sqrt{\\pi} \\sigma \\sqrt{a} \\sin^{2}{\\left(\\beta \\right)}$"
      ],
      "text/plain": [
       "sqrt(pi)*\\sigma*sqrt(a)*sin(\\beta)**2"
      ]
     },
     "execution_count": 14,
     "metadata": {},
     "output_type": "execute_result"
    }
   ],
   "source": [
    "sigma = sp.Symbol(r'\\sigma', real = True)\n",
    "beta = sp.Symbol(r'\\beta', real = True)\n",
    "K_I = sigma*sp.sqrt(sp.pi*a)*(sp.sin(beta))**2\n",
    "K_II = sigma*sp.sqrt(sp.pi*a)*sp.sin(beta)*sp.cos(beta)\n",
    "T = sigma*sp.cos(2*beta)\n",
    "B = sp.cos(2*beta)/sp.sin(beta)\n",
    "K_I_n = K_I/ (sigma * sp.sqrt( sp.pi * a))\n",
    "K_II_n = K_II / (sigma*sp.sqrt(sp.pi*a))\n",
    "K_I"
   ]
  },
  {
   "cell_type": "code",
   "execution_count": 15,
   "metadata": {},
   "outputs": [],
   "source": [
    "params = {sigma:1, a:1}"
   ]
  },
  {
   "cell_type": "code",
   "execution_count": 16,
   "metadata": {},
   "outputs": [
    {
     "data": {
      "text/latex": [
       "$\\displaystyle \\sin^{2}{\\left(\\beta \\right)}$"
      ],
      "text/plain": [
       "sin(\\beta)**2"
      ]
     },
     "execution_count": 16,
     "metadata": {},
     "output_type": "execute_result"
    }
   ],
   "source": [
    "get_K_I_n= sp.lambdify(beta, K_I_n, 'numpy')\n",
    "K_I_n"
   ]
  },
  {
   "cell_type": "code",
   "execution_count": 17,
   "metadata": {},
   "outputs": [
    {
     "data": {
      "text/latex": [
       "$\\displaystyle \\sin{\\left(\\beta \\right)} \\cos{\\left(\\beta \\right)}$"
      ],
      "text/plain": [
       "sin(\\beta)*cos(\\beta)"
      ]
     },
     "execution_count": 17,
     "metadata": {},
     "output_type": "execute_result"
    }
   ],
   "source": [
    "get_K_II_n= sp.lambdify(beta, K_II_n, 'numpy')\n",
    "K_II_n"
   ]
  },
  {
   "cell_type": "code",
   "execution_count": 18,
   "metadata": {},
   "outputs": [
    {
     "data": {
      "text/latex": [
       "$\\displaystyle \\sqrt{\\pi} \\sin^{2}{\\left(\\beta \\right)}$"
      ],
      "text/plain": [
       "sqrt(pi)*sin(\\beta)**2"
      ]
     },
     "execution_count": 18,
     "metadata": {},
     "output_type": "execute_result"
    }
   ],
   "source": [
    "get_K_I = sp.lambdify(beta, K_I.subs(params), 'numpy')\n",
    "K_I.subs(params)"
   ]
  },
  {
   "cell_type": "code",
   "execution_count": 19,
   "metadata": {},
   "outputs": [
    {
     "data": {
      "text/latex": [
       "$\\displaystyle \\sqrt{\\pi} \\sin{\\left(\\beta \\right)} \\cos{\\left(\\beta \\right)}$"
      ],
      "text/plain": [
       "sqrt(pi)*sin(\\beta)*cos(\\beta)"
      ]
     },
     "execution_count": 19,
     "metadata": {},
     "output_type": "execute_result"
    }
   ],
   "source": [
    "get_K_II = sp.lambdify(beta, K_II.subs(params), 'numpy')\n",
    "K_II.subs(params)"
   ]
  },
  {
   "cell_type": "code",
   "execution_count": 20,
   "metadata": {},
   "outputs": [
    {
     "data": {
      "text/latex": [
       "$\\displaystyle \\cos{\\left(2 \\beta \\right)}$"
      ],
      "text/plain": [
       "cos(2*\\beta)"
      ]
     },
     "execution_count": 20,
     "metadata": {},
     "output_type": "execute_result"
    }
   ],
   "source": [
    "get_T = sp.lambdify(beta, T.subs(params), 'numpy')\n",
    "T.subs(params)"
   ]
  },
  {
   "cell_type": "code",
   "execution_count": 21,
   "metadata": {},
   "outputs": [
    {
     "data": {
      "text/latex": [
       "$\\displaystyle \\cos{\\left(2 \\beta \\right)}$"
      ],
      "text/plain": [
       "cos(2*\\beta)"
      ]
     },
     "execution_count": 21,
     "metadata": {},
     "output_type": "execute_result"
    }
   ],
   "source": [
    "T_n = sigma*sp.cos(2*beta)/sigma\n",
    "get_T_n = sp.lambdify(beta, T_n, 'numpy')\n",
    "T_n"
   ]
  },
  {
   "cell_type": "code",
   "execution_count": 22,
   "metadata": {},
   "outputs": [
    {
     "data": {
      "text/latex": [
       "$\\displaystyle \\frac{\\cos{\\left(2 \\beta \\right)}}{\\sin{\\left(\\beta \\right)}}$"
      ],
      "text/plain": [
       "cos(2*\\beta)/sin(\\beta)"
      ]
     },
     "execution_count": 22,
     "metadata": {},
     "output_type": "execute_result"
    }
   ],
   "source": [
    "get_B = sp.lambdify(beta, B, 'numpy')\n",
    "B"
   ]
  },
  {
   "cell_type": "code",
   "execution_count": 23,
   "metadata": {},
   "outputs": [
    {
     "data": {
      "text/latex": [
       "$\\displaystyle \\sqrt{\\pi \\sin^{4}{\\left(\\beta \\right)} + \\pi \\sin^{2}{\\left(\\beta \\right)} \\cos^{2}{\\left(\\beta \\right)}}$"
      ],
      "text/plain": [
       "sqrt(pi*sin(\\beta)**4 + pi*sin(\\beta)**2*cos(\\beta)**2)"
      ]
     },
     "execution_count": 23,
     "metadata": {},
     "output_type": "execute_result"
    }
   ],
   "source": [
    "K_eff = sp.sqrt(K_I**2 + K_II**2)\n",
    "get_K_eff = sp.lambdify(beta, K_eff.subs(params),'numpy')\n",
    "K_eff.subs(params)"
   ]
  },
  {
   "cell_type": "code",
   "execution_count": 24,
   "metadata": {},
   "outputs": [
    {
     "data": {
      "text/latex": [
       "$\\displaystyle \\sqrt{\\sin^{4}{\\left(\\beta \\right)} + \\sin^{2}{\\left(\\beta \\right)} \\cos^{2}{\\left(\\beta \\right)}}$"
      ],
      "text/plain": [
       "sqrt(sin(\\beta)**4 + sin(\\beta)**2*cos(\\beta)**2)"
      ]
     },
     "execution_count": 24,
     "metadata": {},
     "output_type": "execute_result"
    }
   ],
   "source": [
    "K_eff_n = sp.sqrt(K_I_n**2 + K_II_n**2)\n",
    "get_K_eff_n = sp.lambdify(beta, K_eff_n,'numpy')\n",
    "K_eff_n"
   ]
  },
  {
   "cell_type": "code",
   "execution_count": 25,
   "metadata": {},
   "outputs": [],
   "source": [
    "def get_response(beta=90*np.pi/180, n_steps=8): #,n_steps=4\n",
    "    K_I_rec, K_II_rec, T_rec, K_eff_rec = [], [], [], []\n",
    "    beta_o = np.linspace(0,beta,n_steps+1)\n",
    "    for be in beta_o:\n",
    "        K_I_n = get_K_I_n(be)\n",
    "        K_II_n = get_K_II_n(be)\n",
    "        T_n = get_T_n(be)\n",
    "        K_eff_n = get_K_eff_n(be)\n",
    "        K_I_rec.append(K_I_n)\n",
    "        K_II_rec.append(K_II_n)\n",
    "        T_rec.append(T_n)\n",
    "        K_eff_rec.append(K_eff_n)\n",
    "        #print(K_I_n)\n",
    "        #print(be)\n",
    "    return (\n",
    "        beta_o, np.array(K_I_rec,dtype=np.float_),\n",
    "        np.array(K_II_rec,dtype=np.float_),\n",
    "        np.array(T_rec, dtype=np.float_),\n",
    "        np.array(K_eff_rec, dtype=np.float_)\n",
    "    )"
   ]
  },
  {
   "cell_type": "code",
   "execution_count": 26,
   "metadata": {
    "scrolled": true
   },
   "outputs": [
    {
     "data": {
      "image/png": "[encoded data removed]",
      "text/plain": [
       "<Figure size 504x288 with 1 Axes>"
      ]
     },
     "metadata": {
      "needs_background": "light"
     },
     "output_type": "display_data"
    }
   ],
   "source": [
    "fig, ((ax1)) = plt.subplots(1,1,figsize=(7,4))\n",
    "colors = ['blue','red', 'green', 'black', 'magenta', 'pink']\n",
    "n_step_range = np.arange(1,2)*20\n",
    "beta = 90*np.pi/180\n",
    "#print(theta * 180/np.pi)\n",
    "for n_step, color in zip(n_step_range, colors):\n",
    "    beta_o, K_I_arr, K_II_arr, T_arr, K_eff_arr = get_response(beta,n_step) \n",
    "    ax1.plot(beta_o, K_I_arr[:], color=color, \n",
    "         label='K I')\n",
    "    ax1.plot(beta_o, K_II_arr[:], 'm-v', \n",
    "         label='K II')\n",
    "    ax1.plot(beta_o, T_arr[:], 'r-o', \n",
    "         label='T')\n",
    "    ax1.plot(beta_o, K_eff_arr[:], 'g--', \n",
    "         label='K eff')\n",
    "    ax1.set_xlabel(r'$\\beta$'); ax1.set_ylabel('Normalized factors $K_I, K_{II}, T, K_{eff}$')\n",
    "    ax1.legend()\n",
    "    #print(K_I_arr)\n",
    "    #print(theta_o*180/np.pi)"
   ]
  },
  {
   "cell_type": "code",
   "execution_count": 43,
   "metadata": {},
   "outputs": [
    {
     "data": {
      "text/latex": [
       "$\\displaystyle \\frac{- \\frac{7.11111111111111 B\\alpha \\sqrt{- \\frac{B\\alpha^{2} \\cos^{2}{\\left(\\theta \\right)}}{\\cos^{2}{\\left(\\frac{\\theta}{2} \\right)}} + \\frac{0.140625 \\left(3 \\cos{\\left(\\theta \\right)} - 1\\right)^{2}}{\\sin^{2}{\\left(\\theta \\right)}} + 0.140625} \\cos{\\left(\\theta \\right)}}{\\cos{\\left(\\frac{\\theta}{2} \\right)}} - \\frac{3 \\cos{\\left(\\theta \\right)} - 1}{\\sin{\\left(\\theta \\right)}}}{\\left(- \\frac{7.11111111111111 B\\alpha^{2} \\cos^{2}{\\left(\\theta \\right)}}{\\cos^{2}{\\left(\\frac{\\theta}{2} \\right)}} + \\frac{\\left(3 \\cos{\\left(\\theta \\right)} - 1\\right)^{2}}{\\sin^{2}{\\left(\\theta \\right)}}\\right) \\left(4.0 B\\alpha \\sqrt{1.0 + \\frac{\\left(- \\frac{B\\alpha \\sqrt{- \\frac{B\\alpha^{2} \\cos^{2}{\\left(\\theta \\right)}}{\\cos^{2}{\\left(\\frac{\\theta}{2} \\right)}} + \\frac{0.140625 \\left(3 \\cos{\\left(\\theta \\right)} - 1\\right)^{2}}{\\sin^{2}{\\left(\\theta \\right)}} + 0.140625} \\cos{\\left(\\theta \\right)}}{\\cos{\\left(\\frac{\\theta}{2} \\right)}} - \\frac{0.140625 \\left(3 \\cos{\\left(\\theta \\right)} - 1\\right)}{\\sin{\\left(\\theta \\right)}}\\right)^{2}}{\\left(- \\frac{B\\alpha^{2} \\cos^{2}{\\left(\\theta \\right)}}{\\cos^{2}{\\left(\\frac{\\theta}{2} \\right)}} + \\frac{0.140625 \\left(3 \\cos{\\left(\\theta \\right)} - 1\\right)^{2}}{\\sin^{2}{\\left(\\theta \\right)}}\\right)^{2}}} \\sin{\\left(\\frac{\\theta}{2} \\right)} \\tan{\\left(\\frac{\\theta}{2} \\right)} + 1 - \\frac{3 \\left(- \\frac{7.11111111111111 B\\alpha \\sqrt{- \\frac{B\\alpha^{2} \\cos^{2}{\\left(\\theta \\right)}}{\\cos^{2}{\\left(\\frac{\\theta}{2} \\right)}} + \\frac{0.140625 \\left(3 \\cos{\\left(\\theta \\right)} - 1\\right)^{2}}{\\sin^{2}{\\left(\\theta \\right)}} + 0.140625} \\cos{\\left(\\theta \\right)}}{\\cos{\\left(\\frac{\\theta}{2} \\right)}} - \\frac{3 \\cos{\\left(\\theta \\right)} - 1}{\\sin{\\left(\\theta \\right)}}\\right) \\tan{\\left(\\frac{\\theta}{2} \\right)}}{- \\frac{7.11111111111111 B\\alpha^{2} \\cos^{2}{\\left(\\theta \\right)}}{\\cos^{2}{\\left(\\frac{\\theta}{2} \\right)}} + \\frac{\\left(3 \\cos{\\left(\\theta \\right)} - 1\\right)^{2}}{\\sin^{2}{\\left(\\theta \\right)}}}\\right) \\cos^{3}{\\left(\\frac{\\theta}{2} \\right)}}$"
      ],
      "text/plain": [
       "(-7.11111111111111*B\\alpha*sqrt(-B\\alpha**2*cos(\\theta)**2/cos(\\theta/2)**2 + 0.140625*(3*cos(\\theta) - 1)**2/sin(\\theta)**2 + 0.140625)*cos(\\theta)/cos(\\theta/2) - (3*cos(\\theta) - 1)/sin(\\theta))/((-7.11111111111111*B\\alpha**2*cos(\\theta)**2/cos(\\theta/2)**2 + (3*cos(\\theta) - 1)**2/sin(\\theta)**2)*(4.0*B\\alpha*sqrt(1.0 + (-B\\alpha*sqrt(-B\\alpha**2*cos(\\theta)**2/cos(\\theta/2)**2 + 0.140625*(3*cos(\\theta) - 1)**2/sin(\\theta)**2 + 0.140625)*cos(\\theta)/cos(\\theta/2) - 0.140625*(3*cos(\\theta) - 1)/sin(\\theta))**2/(-B\\alpha**2*cos(\\theta)**2/cos(\\theta/2)**2 + 0.140625*(3*cos(\\theta) - 1)**2/sin(\\theta)**2)**2)*sin(\\theta/2)*tan(\\theta/2) + 1 - 3*(-7.11111111111111*B\\alpha*sqrt(-B\\alpha**2*cos(\\theta)**2/cos(\\theta/2)**2 + 0.140625*(3*cos(\\theta) - 1)**2/sin(\\theta)**2 + 0.140625)*cos(\\theta)/cos(\\theta/2) - (3*cos(\\theta) - 1)/sin(\\theta))*tan(\\theta/2)/(-7.11111111111111*B\\alpha**2*cos(\\theta)**2/cos(\\theta/2)**2 + (3*cos(\\theta) - 1)**2/sin(\\theta)**2))*cos(\\theta/2)**3)"
      ]
     },
     "execution_count": 43,
     "metadata": {},
     "output_type": "execute_result"
    }
   ],
   "source": [
    "c = -3 *sp.tan(theta/2)\n",
    "e = -4 * Balpha * sp.tan(theta/2) * sp.sin(theta/2)\n",
    "z = (-x-(y*sp.sqrt(x**2-y**2+1)))/(x**2-y**2)\n",
    "#z = sp.Symbol('z', real = True)\n",
    "#c = sp.Symbol('c', real = True)\n",
    "#e = sp.Symbol('e', real = True)\n",
    "K_I_f = 1/((sp.cos(theta/2))**3* (1 + c*z -e* sp.sqrt(1+z**2)))\n",
    "K_II_f = z/((sp.cos(theta/2))**3* (1 + c*z -e* sp.sqrt(1+z**2)))\n",
    "K_II_f"
   ]
  },
  {
   "cell_type": "code",
   "execution_count": 49,
   "metadata": {},
   "outputs": [
    {
     "data": {
      "text/latex": [
       "$\\displaystyle \\frac{\\sqrt{\\pi} \\sigma \\sqrt{a} \\sin^{2}{\\left(\\beta \\right)}}{K_{Ic}}$"
      ],
      "text/plain": [
       "sqrt(pi)*\\sigma*sqrt(a)*sin(\\beta)**2/K_{Ic}"
      ]
     },
     "execution_count": 49,
     "metadata": {},
     "output_type": "execute_result"
    }
   ],
   "source": [
    "K_Ic = sp.Symbol(r'K_{Ic}', real = True)\n",
    "Norm_K_I_ = K_I/ K_Ic\n",
    "Norm_K_I_"
   ]
  },
  {
   "cell_type": "code",
   "execution_count": 50,
   "metadata": {},
   "outputs": [
    {
     "data": {
      "text/latex": [
       "$\\displaystyle \\frac{\\sqrt{\\pi} \\sigma \\sqrt{a} \\sin{\\left(\\beta \\right)} \\cos{\\left(\\beta \\right)}}{K_{Ic}}$"
      ],
      "text/plain": [
       "sqrt(pi)*\\sigma*sqrt(a)*sin(\\beta)*cos(\\beta)/K_{Ic}"
      ]
     },
     "execution_count": 50,
     "metadata": {},
     "output_type": "execute_result"
    }
   ],
   "source": [
    "Norm_K_II_ = K_II/K_Ic\n",
    "Norm_K_II_"
   ]
  },
  {
   "cell_type": "code",
   "execution_count": 44,
   "metadata": {},
   "outputs": [
    {
     "data": {
      "text/latex": [
       "$\\displaystyle \\frac{1}{\\left(1.5 \\sqrt{\\frac{1.0 \\left(- \\frac{3 \\cos{\\left(\\theta \\right)} - 1}{\\sin{\\left(\\theta \\right)}} - \\frac{\\sqrt{\\frac{\\left(3 \\cos{\\left(\\theta \\right)} - 1\\right)^{2}}{\\sin^{2}{\\left(\\theta \\right)}} + 1 - \\frac{\\cos^{2}{\\left(\\theta \\right)}}{\\cos^{2}{\\left(\\frac{\\theta}{2} \\right)}}} \\cos{\\left(\\theta \\right)}}{\\cos{\\left(\\frac{\\theta}{2} \\right)}}\\right)^{2}}{\\left(\\frac{\\left(3 \\cos{\\left(\\theta \\right)} - 1\\right)^{2}}{\\sin^{2}{\\left(\\theta \\right)}} - \\frac{\\cos^{2}{\\left(\\theta \\right)}}{\\cos^{2}{\\left(\\frac{\\theta}{2} \\right)}}\\right)^{2}} + 1.0} \\sin{\\left(\\frac{\\theta}{2} \\right)} \\tan{\\left(\\frac{\\theta}{2} \\right)} - \\frac{3 \\left(- \\frac{3 \\cos{\\left(\\theta \\right)} - 1}{\\sin{\\left(\\theta \\right)}} - \\frac{1.0 \\sqrt{\\frac{\\left(3 \\cos{\\left(\\theta \\right)} - 1\\right)^{2}}{\\sin^{2}{\\left(\\theta \\right)}} + 1 - \\frac{\\cos^{2}{\\left(\\theta \\right)}}{\\cos^{2}{\\left(\\frac{\\theta}{2} \\right)}}} \\cos{\\left(\\theta \\right)}}{\\cos{\\left(\\frac{\\theta}{2} \\right)}}\\right) \\tan{\\left(\\frac{\\theta}{2} \\right)}}{\\frac{\\left(3 \\cos{\\left(\\theta \\right)} - 1\\right)^{2}}{\\sin^{2}{\\left(\\theta \\right)}} - \\frac{1.0 \\cos^{2}{\\left(\\theta \\right)}}{\\cos^{2}{\\left(\\frac{\\theta}{2} \\right)}}} + 1\\right) \\cos^{3}{\\left(\\frac{\\theta}{2} \\right)}}$"
      ],
      "text/plain": [
       "1/((1.5*sqrt(1.0*(-(3*cos(\\theta) - 1)/sin(\\theta) - sqrt((3*cos(\\theta) - 1)**2/sin(\\theta)**2 + 1 - cos(\\theta)**2/cos(\\theta/2)**2)*cos(\\theta)/cos(\\theta/2))**2/((3*cos(\\theta) - 1)**2/sin(\\theta)**2 - cos(\\theta)**2/cos(\\theta/2)**2)**2 + 1.0)*sin(\\theta/2)*tan(\\theta/2) - 3*(-(3*cos(\\theta) - 1)/sin(\\theta) - 1.0*sqrt((3*cos(\\theta) - 1)**2/sin(\\theta)**2 + 1 - cos(\\theta)**2/cos(\\theta/2)**2)*cos(\\theta)/cos(\\theta/2))*tan(\\theta/2)/((3*cos(\\theta) - 1)**2/sin(\\theta)**2 - 1.0*cos(\\theta)**2/cos(\\theta/2)**2) + 1)*cos(\\theta/2)**3)"
      ]
     },
     "execution_count": 44,
     "metadata": {},
     "output_type": "execute_result"
    }
   ],
   "source": [
    "get_K_I_f = sp.lambdify(theta, K_I_f.subs(material_params), 'numpy')\n",
    "K_I_f.subs(material_params)"
   ]
  },
  {
   "cell_type": "code",
   "execution_count": 45,
   "metadata": {},
   "outputs": [
    {
     "data": {
      "text/latex": [
       "$\\displaystyle \\frac{- \\frac{3 \\cos{\\left(\\theta \\right)} - 1}{\\sin{\\left(\\theta \\right)}} - \\frac{1.0 \\sqrt{\\frac{\\left(3 \\cos{\\left(\\theta \\right)} - 1\\right)^{2}}{\\sin^{2}{\\left(\\theta \\right)}} + 1 - \\frac{\\cos^{2}{\\left(\\theta \\right)}}{\\cos^{2}{\\left(\\frac{\\theta}{2} \\right)}}} \\cos{\\left(\\theta \\right)}}{\\cos{\\left(\\frac{\\theta}{2} \\right)}}}{\\left(\\frac{\\left(3 \\cos{\\left(\\theta \\right)} - 1\\right)^{2}}{\\sin^{2}{\\left(\\theta \\right)}} - \\frac{1.0 \\cos^{2}{\\left(\\theta \\right)}}{\\cos^{2}{\\left(\\frac{\\theta}{2} \\right)}}\\right) \\left(1.5 \\sqrt{\\frac{1.0 \\left(- \\frac{3 \\cos{\\left(\\theta \\right)} - 1}{\\sin{\\left(\\theta \\right)}} - \\frac{\\sqrt{\\frac{\\left(3 \\cos{\\left(\\theta \\right)} - 1\\right)^{2}}{\\sin^{2}{\\left(\\theta \\right)}} + 1 - \\frac{\\cos^{2}{\\left(\\theta \\right)}}{\\cos^{2}{\\left(\\frac{\\theta}{2} \\right)}}} \\cos{\\left(\\theta \\right)}}{\\cos{\\left(\\frac{\\theta}{2} \\right)}}\\right)^{2}}{\\left(\\frac{\\left(3 \\cos{\\left(\\theta \\right)} - 1\\right)^{2}}{\\sin^{2}{\\left(\\theta \\right)}} - \\frac{\\cos^{2}{\\left(\\theta \\right)}}{\\cos^{2}{\\left(\\frac{\\theta}{2} \\right)}}\\right)^{2}} + 1.0} \\sin{\\left(\\frac{\\theta}{2} \\right)} \\tan{\\left(\\frac{\\theta}{2} \\right)} - \\frac{3 \\left(- \\frac{3 \\cos{\\left(\\theta \\right)} - 1}{\\sin{\\left(\\theta \\right)}} - \\frac{1.0 \\sqrt{\\frac{\\left(3 \\cos{\\left(\\theta \\right)} - 1\\right)^{2}}{\\sin^{2}{\\left(\\theta \\right)}} + 1 - \\frac{\\cos^{2}{\\left(\\theta \\right)}}{\\cos^{2}{\\left(\\frac{\\theta}{2} \\right)}}} \\cos{\\left(\\theta \\right)}}{\\cos{\\left(\\frac{\\theta}{2} \\right)}}\\right) \\tan{\\left(\\frac{\\theta}{2} \\right)}}{\\frac{\\left(3 \\cos{\\left(\\theta \\right)} - 1\\right)^{2}}{\\sin^{2}{\\left(\\theta \\right)}} - \\frac{1.0 \\cos^{2}{\\left(\\theta \\right)}}{\\cos^{2}{\\left(\\frac{\\theta}{2} \\right)}}} + 1\\right) \\cos^{3}{\\left(\\frac{\\theta}{2} \\right)}}$"
      ],
      "text/plain": [
       "(-(3*cos(\\theta) - 1)/sin(\\theta) - 1.0*sqrt((3*cos(\\theta) - 1)**2/sin(\\theta)**2 + 1 - cos(\\theta)**2/cos(\\theta/2)**2)*cos(\\theta)/cos(\\theta/2))/(((3*cos(\\theta) - 1)**2/sin(\\theta)**2 - 1.0*cos(\\theta)**2/cos(\\theta/2)**2)*(1.5*sqrt(1.0*(-(3*cos(\\theta) - 1)/sin(\\theta) - sqrt((3*cos(\\theta) - 1)**2/sin(\\theta)**2 + 1 - cos(\\theta)**2/cos(\\theta/2)**2)*cos(\\theta)/cos(\\theta/2))**2/((3*cos(\\theta) - 1)**2/sin(\\theta)**2 - cos(\\theta)**2/cos(\\theta/2)**2)**2 + 1.0)*sin(\\theta/2)*tan(\\theta/2) - 3*(-(3*cos(\\theta) - 1)/sin(\\theta) - 1.0*sqrt((3*cos(\\theta) - 1)**2/sin(\\theta)**2 + 1 - cos(\\theta)**2/cos(\\theta/2)**2)*cos(\\theta)/cos(\\theta/2))*tan(\\theta/2)/((3*cos(\\theta) - 1)**2/sin(\\theta)**2 - 1.0*cos(\\theta)**2/cos(\\theta/2)**2) + 1)*cos(\\theta/2)**3)"
      ]
     },
     "execution_count": 45,
     "metadata": {},
     "output_type": "execute_result"
    }
   ],
   "source": [
    "get_K_II_f = sp.lambdify(theta, K_II_f.subs(material_params), 'numpy')\n",
    "K_II_f.subs(material_params)"
   ]
  },
  {
   "cell_type": "code",
   "execution_count": 46,
   "metadata": {},
   "outputs": [],
   "source": [
    "def get_response(theta_m=-15*np.pi/180, n_steps=8): #,n_steps=4\n",
    "    K_I_f_rec, K_II_f_rec = [], []\n",
    "    theta_o = np.linspace(-90*np.pi/180,theta_m,n_steps+1)\n",
    "    for the in theta_o:\n",
    "        K_I_f = get_K_I_f(the)\n",
    "        K_II_f = get_K_II_f(the)\n",
    "        K_I_f_rec.append(K_I_f)\n",
    "        K_II_f_rec.append(K_II_f)\n",
    "    return (\n",
    "        beta_o, np.array(K_I_f_rec,dtype=np.float_),\n",
    "        np.array(K_II_f_rec,dtype=np.float_)\n",
    "    )"
   ]
  },
  {
   "cell_type": "code",
   "execution_count": 47,
   "metadata": {},
   "outputs": [
    {
     "data": {
      "image/png": "[encoded data removed]",
      "text/plain": [
       "<Figure size 504x288 with 1 Axes>"
      ]
     },
     "metadata": {
      "needs_background": "light"
     },
     "output_type": "display_data"
    }
   ],
   "source": [
    "fig, ((ax1)) = plt.subplots(1,1,figsize=(7,4))\n",
    "colors = ['blue','red', 'green', 'black', 'magenta', 'pink']\n",
    "n_step_range = np.arange(1,2)*20\n",
    "theta_m = -15*np.pi/180\n",
    "#print(theta * 180/np.pi)\n",
    "for n_step, color in zip(n_step_range, colors):\n",
    "    theta_o, K_I_f_arr, K_II_f_arr = get_response(theta_m,n_step) \n",
    "    ax1.plot(K_I_f_arr, K_II_f_arr, color=color, \n",
    "         label='K I')\n",
    "    ax1.set_xlabel(r'$K_I/K_f$'); ax1.set_ylabel(r'$K_{II}/K_f$')\n",
    "    ax1.legend()\n",
    "    #print(K_I_arr)\n",
    "    #print(theta_o*180/np.pi)"
   ]
  },
  {
   "cell_type": "code",
   "execution_count": 53,
   "metadata": {},
   "outputs": [
    {
     "data": {
      "text/latex": [
       "$\\displaystyle - \\frac{7.11111111111111 B\\alpha^{2} \\cos^{2}{\\left(\\theta \\right)}}{\\cos^{2}{\\left(\\frac{\\theta}{2} \\right)}} + \\frac{1.0 \\left(- \\frac{7.11111111111111 B\\alpha^{2} \\cos^{2}{\\left(\\theta \\right)}}{\\cos^{2}{\\left(\\frac{\\theta}{2} \\right)}} + \\frac{\\left(3 \\cos{\\left(\\theta \\right)} - 1\\right)^{2}}{\\sin^{2}{\\left(\\theta \\right)}}\\right) \\left(- \\frac{B\\alpha \\sqrt{- \\frac{B\\alpha^{2} \\cos^{2}{\\left(\\theta \\right)}}{\\cos^{2}{\\left(\\frac{\\theta}{2} \\right)}} + \\frac{0.140625 \\left(3 \\cos{\\left(\\theta \\right)} - 1\\right)^{2}}{\\sin^{2}{\\left(\\theta \\right)}} + 0.140625} \\cos{\\left(\\theta \\right)}}{\\cos{\\left(\\frac{\\theta}{2} \\right)}} - \\frac{0.140625 \\left(3 \\cos{\\left(\\theta \\right)} - 1\\right)}{\\sin{\\left(\\theta \\right)}}\\right)^{2}}{\\left(- \\frac{B\\alpha^{2} \\cos^{2}{\\left(\\theta \\right)}}{\\cos^{2}{\\left(\\frac{\\theta}{2} \\right)}} + \\frac{0.140625 \\left(3 \\cos{\\left(\\theta \\right)} - 1\\right)^{2}}{\\sin^{2}{\\left(\\theta \\right)}}\\right)^{2}} + 1 + \\frac{2 \\left(- \\frac{7.11111111111111 B\\alpha \\sqrt{- \\frac{B\\alpha^{2} \\cos^{2}{\\left(\\theta \\right)}}{\\cos^{2}{\\left(\\frac{\\theta}{2} \\right)}} + \\frac{0.140625 \\left(3 \\cos{\\left(\\theta \\right)} - 1\\right)^{2}}{\\sin^{2}{\\left(\\theta \\right)}} + 0.140625} \\cos{\\left(\\theta \\right)}}{\\cos{\\left(\\frac{\\theta}{2} \\right)}} - \\frac{3 \\cos{\\left(\\theta \\right)} - 1}{\\sin{\\left(\\theta \\right)}}\\right) \\left(3 \\cos{\\left(\\theta \\right)} - 1\\right)}{\\left(- \\frac{7.11111111111111 B\\alpha^{2} \\cos^{2}{\\left(\\theta \\right)}}{\\cos^{2}{\\left(\\frac{\\theta}{2} \\right)}} + \\frac{\\left(3 \\cos{\\left(\\theta \\right)} - 1\\right)^{2}}{\\sin^{2}{\\left(\\theta \\right)}}\\right) \\sin{\\left(\\theta \\right)}} = 0$"
      ],
      "text/plain": [
       "Eq(-7.11111111111111*B\\alpha**2*cos(\\theta)**2/cos(\\theta/2)**2 + 1.0*(-7.11111111111111*B\\alpha**2*cos(\\theta)**2/cos(\\theta/2)**2 + (3*cos(\\theta) - 1)**2/sin(\\theta)**2)*(-B\\alpha*sqrt(-B\\alpha**2*cos(\\theta)**2/cos(\\theta/2)**2 + 0.140625*(3*cos(\\theta) - 1)**2/sin(\\theta)**2 + 0.140625)*cos(\\theta)/cos(\\theta/2) - 0.140625*(3*cos(\\theta) - 1)/sin(\\theta))**2/(-B\\alpha**2*cos(\\theta)**2/cos(\\theta/2)**2 + 0.140625*(3*cos(\\theta) - 1)**2/sin(\\theta)**2)**2 + 1 + 2*(-7.11111111111111*B\\alpha*sqrt(-B\\alpha**2*cos(\\theta)**2/cos(\\theta/2)**2 + 0.140625*(3*cos(\\theta) - 1)**2/sin(\\theta)**2 + 0.140625)*cos(\\theta)/cos(\\theta/2) - (3*cos(\\theta) - 1)/sin(\\theta))*(3*cos(\\theta) - 1)/((-7.11111111111111*B\\alpha**2*cos(\\theta)**2/cos(\\theta/2)**2 + (3*cos(\\theta) - 1)**2/sin(\\theta)**2)*sin(\\theta)), 0)"
      ]
     },
     "execution_count": 53,
     "metadata": {},
     "output_type": "execute_result"
    }
   ],
   "source": [
    "z = (-x-(y*sp.sqrt(x**2-y**2+1)))/(x**2-y**2)\n",
    "eq1 = (x**2-y**2)*z**2 + 2*x*z + (1 - y**2)\n",
    "nle = sp.Eq(eq1,0)\n",
    "nle"
   ]
  },
  {
   "cell_type": "code",
   "execution_count": 54,
   "metadata": {},
   "outputs": [
    {
     "data": {
      "text/plain": [
       "[]"
      ]
     },
     "execution_count": 54,
     "metadata": {},
     "output_type": "execute_result"
    }
   ],
   "source": [
    "sol = sp.solve(eq1, theta) #, exclude = [Balpha]\n",
    "sol"
   ]
  },
  {
   "cell_type": "code",
   "execution_count": null,
   "metadata": {},
   "outputs": [],
   "source": []
  },
  {
   "cell_type": "code",
   "execution_count": null,
   "metadata": {},
   "outputs": [],
   "source": []
  }
 ],
 "metadata": {
  "kernelspec": {
   "display_name": "Python 3",
   "language": "python",
   "name": "python3"
  },
  "language_info": {
   "codemirror_mode": {
    "name": "ipython",
    "version": 3
   },
   "file_extension": ".py",
   "mimetype": "text/x-python",
   "name": "python",
   "nbconvert_exporter": "python",
   "pygments_lexer": "ipython3",
   "version": "3.7.7"
  },
  "toc": {
   "base_numbering": 1,
   "nav_menu": {},
   "number_sections": true,
   "sideBar": true,
   "skip_h1_title": false,
   "title_cell": "Table of Contents",
   "title_sidebar": "Contents",
   "toc_cell": false,
   "toc_position": {},
   "toc_section_display": true,
   "toc_window_display": true
  }
 },
 "nbformat": 4,
 "nbformat_minor": 4
}
