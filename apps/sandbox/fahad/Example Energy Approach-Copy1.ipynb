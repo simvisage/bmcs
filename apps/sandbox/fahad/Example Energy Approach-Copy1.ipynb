{
 "cells": [
  {
   "cell_type": "code",
   "execution_count": null,
   "metadata": {},
   "outputs": [],
   "source": [
    "%matplotlib notebook\n",
    "import sympy as sp\n",
    "import numpy as np\n",
    "sp.init_printing()\n",
    "import matplotlib.pyplot as plt\n",
    "import ipywidgets as ipw"
   ]
  },
  {
   "cell_type": "markdown",
   "metadata": {},
   "source": [
    "## Problem\n",
    "This sheet is regarded as an example to evaluate damage function and its values using the BMCS course as a reference. The trilinear stress-opening law is given as:\n",
    "\\begin{gather*}\n",
    "\\sigma = E w; \\: \\mathrm{for}\\; 0 \\leq w \\leq w_0\n",
    "\\end{gather*}\n",
    "\\begin{gather*}\n",
    "\\sigma = f_\\mathrm{t} - (f_\\mathrm{t} - \\sigma_s(w_1)) \\frac{w}{w_1} ; \\: \\mathrm{for}\\; w_0 \\leq w \\leq w_1\n",
    "\\end{gather*}\n",
    "\\begin{gather*}\n",
    "\\sigma = \\sigma_s \\frac{w_2 - w}{w_2 - w_1} ; \\: \\mathrm{for}\\; w_1 \\leq w \\leq w_2\n",
    "\\end{gather*}"
   ]
  },
  {
   "cell_type": "markdown",
   "metadata": {},
   "source": [
    "<img src=\"stressopeningrelation.png\" width=\"500\"/> "
   ]
  },
  {
   "cell_type": "markdown",
   "metadata": {},
   "source": [
    "- Derive a damage function which will reproduce the given stress opening relation\n",
    "- Calculate damage and stiffness values at opening $w_{1}$ for the given values:\n",
    "$w_0 = 0.1 \\mathrm{mm}$, $w_1 = 0.2 \\mathrm{mm}$, $w_2 = 1 \\mathrm{mm}$, $\\sigma_s = 5 \\mathrm{MPa}$, and $\\mathrm{E} = 100 \\mathrm{MPa/mm}$\n",
    "- Sketch graphically the derived damage function in a damage opening diagram"
   ]
  },
  {
   "cell_type": "markdown",
   "metadata": {},
   "source": [
    "## Solution\n"
   ]
  },
  {
   "cell_type": "markdown",
   "metadata": {},
   "source": [
    "From BMCS we know that:\n",
    "\\begin{gather*}\n",
    "\\sigma = (1 - \\omega)E w\n",
    "\\end{gather*}"
   ]
  },
  {
   "cell_type": "code",
   "execution_count": null,
   "metadata": {},
   "outputs": [],
   "source": [
    "omega = sp.Symbol(r'\\omega', nonnegative = True)\n",
    "E = sp.Symbol(r'E', nonnegative = True)\n",
    "w = sp.Symbol(r'w', real = True)\n",
    "w_0 = sp.Symbol(r'w_0', nonnegative = True)\n",
    "sigma = sp.Symbol(r'\\sigma', nonnegative = True)\n",
    "f_t = sp.Symbol('f_t', nonnegative = True)\n",
    "sigma_s = sp.Symbol(r'\\sigma_s', nonnegative = True)\n",
    "w_1 = sp.Symbol('w_1', nonnegative = True)\n",
    "w_2 = sp.Symbol('w_2', nonnegative = True)\n",
    "pi = sp.Symbol('\\pi', nonnegative = True)"
   ]
  },
  {
   "cell_type": "code",
   "execution_count": null,
   "metadata": {},
   "outputs": [],
   "source": [
    "sigma_ = (1 - omega) * E * w\n",
    "sigma_"
   ]
  },
  {
   "cell_type": "markdown",
   "metadata": {},
   "source": [
    "### Part 1\n",
    "- Deriving damage function for each case depicted in the figure above:"
   ]
  },
  {
   "cell_type": "code",
   "execution_count": null,
   "metadata": {},
   "outputs": [],
   "source": [
    "params = {w_0 : 0.1, w_1 : 0.2, w_2 : 1, sigma_s : 5, E: 100, f_t: 10}"
   ]
  },
  {
   "cell_type": "code",
   "execution_count": null,
   "metadata": {},
   "outputs": [],
   "source": [
    "omega_val = sp.solve(sp.Eq(sigma, sigma_), omega)\n",
    "omega_val[0]"
   ]
  },
  {
   "cell_type": "code",
   "execution_count": null,
   "metadata": {},
   "outputs": [],
   "source": [
    "sigma_1 = E * w\n",
    "omega_val_1 = omega_val[0].subs(sigma, sigma_1)\n",
    "omega_val_1"
   ]
  },
  {
   "cell_type": "code",
   "execution_count": null,
   "metadata": {},
   "outputs": [],
   "source": [
    "sigma_2 = f_t - (f_t - sigma_s) * (w / w_1) \n",
    "sigma_2"
   ]
  },
  {
   "cell_type": "code",
   "execution_count": null,
   "metadata": {},
   "outputs": [],
   "source": [
    "omega_val_2 = omega_val[0].subs(sigma, sigma_2)\n",
    "omega_val_2"
   ]
  },
  {
   "cell_type": "code",
   "execution_count": null,
   "metadata": {},
   "outputs": [],
   "source": [
    "sigma_3 = sigma_s * (w_2 - w) / (w_2 - w_1)\n",
    "sigma_3"
   ]
  },
  {
   "cell_type": "code",
   "execution_count": null,
   "metadata": {},
   "outputs": [],
   "source": [
    "omega_val_3 = omega_val[0].subs(sigma, sigma_3)\n",
    "omega_val_3"
   ]
  },
  {
   "cell_type": "code",
   "execution_count": null,
   "metadata": {},
   "outputs": [],
   "source": [
    "omega_val = sp.Piecewise(\n",
    "    (omega_val_1, w < w_0),\n",
    "    (omega_val_2, w < w_1),\n",
    "    (omega_val_3, True)\n",
    ")\n",
    "omega_val"
   ]
  },
  {
   "cell_type": "code",
   "execution_count": null,
   "metadata": {},
   "outputs": [],
   "source": [
    "get_omega = sp.lambdify((w, E,w_0,w_1, w_2, f_t, sigma_s), omega_val, 'numpy')"
   ]
  },
  {
   "cell_type": "code",
   "execution_count": null,
   "metadata": {},
   "outputs": [],
   "source": [
    "fig, ((ax1)) = plt.subplots(1,1,figsize=(7,4))\n",
    "w_range = np.linspace(0, 1, 100)\n",
    "omega_rec = get_omega(w_range,100,0.1,0.2,1,10,5 ) \n",
    "ax1.plot(w_range, omega_rec, color='b', label = '$\\omega$')\n",
    "ax1.set_xlabel('$w$'); ax1.set_ylabel('$\\omega$')\n",
    "ax1.legend()"
   ]
  },
  {
   "cell_type": "markdown",
   "metadata": {},
   "source": [
    "## Calculating local cohesive breaking energy\n",
    "\\begin{gather*}\n",
    "w_x = CMOD_c\\left[\\left(1 - \\frac{x}{a_c}\\right)^2 + \\left(1.081 - 1.149 \\left(\\frac{a_c}{D}\\right)\\right)\\left[\\frac{x}{a_c} - \\left(\\frac{a_0}{a_c}\\right)^2\\right]\\right]^{1/2} \n",
    "\\end{gather*}\n",
    "\\begin{gather*}\n",
    "a_i = \\frac{2}{\\pi}(D + H_0) \\arctan{\\sqrt{\\frac{B E C_{si}}{32.6} - 0.1135}} - H_0\n",
    "\\end{gather*}"
   ]
  },
  {
   "cell_type": "code",
   "execution_count": null,
   "metadata": {},
   "outputs": [],
   "source": [
    "w_x = sp.Symbol('w_x', nonnegative = True)\n",
    "f_c = sp.Symbol('f_c', nonnegative = True)\n",
    "sigma_s = sp.Symbol(r'\\sigma_s', nonnegative = True)\n",
    "P_max = sp.Symbol('P_max', nonnegative = True)\n",
    "D = sp.Symbol('D', nonnegative = True)\n",
    "H_0 = sp.Symbol('H_0', nonnegative = True)\n",
    "B = sp.Symbol('B', nonnegative = True)\n",
    "a_0 = sp.Symbol('a_0', nonnegative = True)\n",
    "f_t = sp.Symbol('f_t', nonnegative = True)\n",
    "CMOD_c = sp.Symbol('CMOD_c', nonnegative = True)\n",
    "a  = sp.Symbol('a', nonnegative = True)\n"
   ]
  },
  {
   "cell_type": "code",
   "execution_count": null,
   "metadata": {},
   "outputs": [],
   "source": [
    "params = {P_max : 10, \n",
    "          D : 2, \n",
    "          H_0 : 1, \n",
    "          B : 1.5, \n",
    "          E : 1000, \n",
    "          a_0 : 0.1, \n",
    "          a : 0.3, \n",
    "          CMOD_c : 0.15,\n",
    "          sigma_s : 5,\n",
    "          f_t : 10,\n",
    "          pi : 3.14,\n",
    "          w_0 : 0.1,\n",
    "          w_1 : 0.2,\n",
    "          w_2 : 1\n",
    "         }"
   ]
  },
  {
   "cell_type": "code",
   "execution_count": null,
   "metadata": {},
   "outputs": [],
   "source": [
    "C_si = CMOD_c / P_max\n",
    "a_i = (2/pi) * (D + H_0) * sp.atan(sp.sqrt((B*E*C_si)/(32.6)-0.1135)) - H_0\n",
    "a_c_ = a_i.subs(params)\n",
    "a_c_"
   ]
  },
  {
   "cell_type": "code",
   "execution_count": null,
   "metadata": {},
   "outputs": [],
   "source": []
  },
  {
   "cell_type": "markdown",
   "metadata": {},
   "source": [
    "\\begin{gather*}\n",
    "g_f(x) =\\int_{0}^{w_x} \\sigma(w)dw\n",
    "\\end{gather*}"
   ]
  },
  {
   "cell_type": "code",
   "execution_count": null,
   "metadata": {},
   "outputs": [],
   "source": [
    "a_c  = sp.Symbol('a_c', nonnegative = True)\n",
    "x = sp.Symbol('x', nonnegative = True)\n",
    "#w_x = CMOD_c * sp.sqrt(((1 - x/a_c)**2 + (1.081 - 1.149*(a_c/D)))*(x/a_c - (a_0/a_c)**2))\n",
    "#w_x_ = w_x.subs(a_c,a_c_)\n",
    "#wx_ = sp.simplify(w_x_)\n",
    "#wx_"
   ]
  },
  {
   "cell_type": "code",
   "execution_count": null,
   "metadata": {},
   "outputs": [],
   "source": [
    "#get_w_x = sp.lambdify((x), wx_.subs(params), 'numpy')\n",
    "#wx_.subs(params)"
   ]
  },
  {
   "cell_type": "code",
   "execution_count": null,
   "metadata": {},
   "outputs": [],
   "source": [
    "#fig, ((ax1)) = plt.subplots(1,1,figsize=(7,4))\n",
    "#x_range = np.linspace(0, 1, 100)\n",
    "#w_x_rec = get_w_x(x_range) \n",
    "#ax1.plot(x_range, w_x_rec, color='r', label = '$w$')\n",
    "#ax1.set_xlabel('$x$'); ax1.set_ylabel('$w$')\n",
    "#ax1.legend()"
   ]
  },
  {
   "cell_type": "code",
   "execution_count": null,
   "metadata": {},
   "outputs": [],
   "source": [
    "sigma_1 = E * w\n",
    "sigma_2 = f_t - (f_t - sigma_s) * (w / w_1) \n",
    "sigma_3 = sigma_s * (w_2 - w) / (w_2 - w_1)"
   ]
  },
  {
   "cell_type": "code",
   "execution_count": null,
   "metadata": {},
   "outputs": [],
   "source": [
    "sigma = sp.Piecewise(\n",
    "    (sigma_1, w < w_0),\n",
    "    (sigma_2, w < w_1),\n",
    "    (sigma_3, True)\n",
    ")\n",
    "sigma "
   ]
  },
  {
   "cell_type": "code",
   "execution_count": null,
   "metadata": {},
   "outputs": [],
   "source": [
    "get_sigma = sp.lambdify((w), sigma.subs(params), 'numpy')\n",
    "get_sigma;"
   ]
  },
  {
   "cell_type": "code",
   "execution_count": null,
   "metadata": {},
   "outputs": [],
   "source": [
    "w_ = -CMOD_c / a * (x - a)\n",
    "w_\n",
    "get_w = sp.lambdify(x, w_.subs(params), 'numpy')"
   ]
  },
  {
   "cell_type": "code",
   "execution_count": null,
   "metadata": {},
   "outputs": [],
   "source": [
    "sigma_x_ = sigma.subs(w, w - w_0).subs(w, w_)\n",
    "sigma_x_"
   ]
  },
  {
   "cell_type": "code",
   "execution_count": null,
   "metadata": {},
   "outputs": [],
   "source": [
    "get_sigma_x = sp.lambdify(x, sigma_x_.subs(params), 'numpy')"
   ]
  },
  {
   "cell_type": "markdown",
   "metadata": {},
   "source": [
    "<img src=\"cracktipzoom.png\" width=\"600\"/> "
   ]
  },
  {
   "cell_type": "code",
   "execution_count": null,
   "metadata": {},
   "outputs": [],
   "source": [
    "fig, ((ax0, ax1)) = plt.subplots(1,2,figsize=(8,4))\n",
    "x_range = np.linspace(0.1, 0.3, 100)\n",
    "#ax0.plot(x_range, get_w(x_range))\n",
    "ax0.plot(x_range, get_sigma_x(x_range), color='blue')\n",
    "w_range = np.linspace(0, 1, 100)\n",
    "sigma_rec = get_sigma(w_range) \n",
    "ax1.plot(w_range, sigma_rec, color='r', label = '$\\sigma$')\n",
    "ax1.fill_between(w_range, sigma_rec, 0, color='r', alpha=0.2)\n",
    "ax1.set_xlabel('$w$'); ax1.set_ylabel('$\\sigma$')\n",
    "ax1.legend();"
   ]
  },
  {
   "cell_type": "code",
   "execution_count": null,
   "metadata": {
    "scrolled": true
   },
   "outputs": [],
   "source": [
    "g = sp.integrate(sigma, (w))\n",
    "g"
   ]
  },
  {
   "cell_type": "code",
   "execution_count": null,
   "metadata": {},
   "outputs": [],
   "source": [
    "get_g = sp.lambdify((w), g.subs(params), 'numpy')"
   ]
  },
  {
   "cell_type": "code",
   "execution_count": null,
   "metadata": {},
   "outputs": [],
   "source": [
    "g.subs(w, w_).subs(params)"
   ]
  },
  {
   "cell_type": "code",
   "execution_count": null,
   "metadata": {},
   "outputs": [],
   "source": [
    "get_g_a = sp.lambdify((x,), g.subs(w, w_).subs(params), 'numpy' )"
   ]
  },
  {
   "cell_type": "markdown",
   "metadata": {},
   "source": [
    "<img src=\"gfdistribution.png\" width=\"600\"/> "
   ]
  },
  {
   "cell_type": "code",
   "execution_count": null,
   "metadata": {},
   "outputs": [],
   "source": [
    "fig, ((ax1)) = plt.subplots(1,1,figsize=(7,4))\n",
    "x_range = np.linspace(0,0.3, 100)\n",
    "g_rec = get_g_a(x_range) \n",
    "ax1.plot(w_range, g_rec, color='r', label = '$g$')\n",
    "ax1.set_xlabel('$w$'); ax1.set_ylabel('$g$')\n",
    "ax1.legend();"
   ]
  },
  {
   "cell_type": "markdown",
   "metadata": {},
   "source": [
    "### Determining Cohesive Breaking Energy\n",
    "$G_{I-cohesive}$ is defined as the average energy dissipation per unit length due to bridging cohesive action:\n",
    "\\begin{gather*}\n",
    "G_{I-cohesive} = \\frac{1}{a - a_0} \\int_{a_0}^{a} \\int_{0}^{w} \\sigma(w_x) dw dx\n",
    "\\end{gather*} \n",
    "especially when crack length $a$ reaches critical effective crack propagation length $a_c$, $G_{I-cohesive}$ becomes critical cohesive crack breaking energy $G^c_{Ic}$ and is given as:\n",
    "\\begin{gather*}\n",
    "G_{Ic} = \\frac{1}{a_c - a_0} \\int_{a_0}^{a_c} \\int_{0}^{w} \\sigma(w_x) dw dx\n",
    "\\end{gather*} "
   ]
  },
  {
   "cell_type": "code",
   "execution_count": null,
   "metadata": {
    "scrolled": true
   },
   "outputs": [],
   "source": [
    "G_I_c = 1/(0.24 - 0.1) * sp.integrate(g, (a))\n",
    "#G_Ic = sp.simplify(G_I_c)\n",
    "#G_Ic\n",
    "G_I_c"
   ]
  },
  {
   "cell_type": "code",
   "execution_count": null,
   "metadata": {},
   "outputs": [],
   "source": [
    "get_G_I_c = sp.lambdify((a,w), G_I_c, 'numpy')\n",
    "get_G_I_c"
   ]
  },
  {
   "cell_type": "code",
   "execution_count": null,
   "metadata": {},
   "outputs": [],
   "source": [
    "fig, ((ax1)) = plt.subplots(1,1,figsize=(7,4))\n",
    "w_range = np.linspace(0, 1, 100)\n",
    "a_range = np.linspace(0.1, 0.24, 100)\n",
    "G_I_c_ = get_G_I_c(w_range, a_range) \n",
    "ax1.plot(a_range, G_I_c_, color='r', label = '$G_{Ic}$')\n",
    "ax1.set_xlabel('$a$'); ax1.set_ylabel('$G_{Ic}$')\n",
    "ax1.legend()"
   ]
  },
  {
   "cell_type": "markdown",
   "metadata": {},
   "source": [
    "### Unstable Fracture Energy\n",
    "The unstable fracture energy can be obtained as:\n",
    "\\begin{gather*}\n",
    "G^{un}_{Ic} = \\frac{3 P^2_{max}}{4 B^2 D^3 E} V'(\\alpha)\n",
    "\\end{gather*}\n",
    "\\begin{gather*}\n",
    "V(\\alpha) = \\left( \\frac{\\alpha}{1 - \\alpha} \\right)^2 [5.58 - 19.57 \\alpha + 36.82 \\alpha^2 - 34.94 \\alpha^3 + 12.77 \\alpha^4]\n",
    "\\end{gather*}\n",
    "\\begin{gather*}\n",
    "\\alpha = \\frac{(a + H_0)}{(D + H_0)}\n",
    "\\end{gather*}"
   ]
  },
  {
   "cell_type": "code",
   "execution_count": null,
   "metadata": {},
   "outputs": [],
   "source": [
    "alpha = sp.Symbol(r'\\alpha', nonnegative = True)\n",
    "P = sp.Symbol('P', nonnegative = True)\n",
    "a = sp.Symbol('a', nonnegative = True)\n",
    "V_alpha = (alpha / (1 - alpha))**2 * (5.58 - 19.57* alpha + 36.82 * alpha**2 - 34.94 * alpha**3 + 12.77 * alpha**4)\n",
    "G_un = sp.simplify((3*P_max**2)/(4*B**2*D**3*E) * V_alpha.diff(alpha))\n",
    "alpha_ = (a + H_0) / (D + H_0)\n",
    "alpha_\n",
    "G_un_f = G_un.subs(alpha,alpha_).subs(params)\n",
    "G_un_f"
   ]
  },
  {
   "cell_type": "code",
   "execution_count": null,
   "metadata": {},
   "outputs": [],
   "source": [
    "get_G_un = sp.lambdify((a), G_un_f, 'numpy')\n",
    "get_G_un"
   ]
  },
  {
   "cell_type": "code",
   "execution_count": null,
   "metadata": {},
   "outputs": [],
   "source": [
    "fig, ((ax1)) = plt.subplots(1,1,figsize=(7,4))\n",
    "a_range = np.linspace(0.1, 0.24, 100)\n",
    "G_un_ = get_G_un(a_range) \n",
    "ax1.plot(a_range, G_un_, color='b', label = '$G_{un}$')\n",
    "ax1.set_xlabel('$a$'); ax1.set_ylabel('$G_{un}$')\n",
    "ax1.legend()"
   ]
  },
  {
   "cell_type": "markdown",
   "metadata": {},
   "source": [
    "### Initial Fracture Energy\n",
    "\\begin{gather*}\n",
    "G^{ini}_{Ic} = \\frac{3 P^2_{ini}}{4 B^2 D^3 E} V'(\\alpha)\n",
    "\\end{gather*}\n",
    "or, \n",
    "\\begin{gather*}\n",
    "G^{ini}_{Ic} = G^{un}_{Ic}  - G^{c}_{Ic}\n",
    "\\end{gather*}"
   ]
  },
  {
   "cell_type": "code",
   "execution_count": null,
   "metadata": {},
   "outputs": [],
   "source": [
    "G_ini = G_un_f - G_Ic\n",
    "G_ini"
   ]
  },
  {
   "cell_type": "code",
   "execution_count": null,
   "metadata": {},
   "outputs": [],
   "source": [
    "get_G_ini = sp.lambdify((a,w), G_ini, 'numpy')\n",
    "get_G_ini"
   ]
  },
  {
   "cell_type": "code",
   "execution_count": null,
   "metadata": {},
   "outputs": [],
   "source": [
    "fig, ((ax1)) = plt.subplots(1,1,figsize=(7,4))\n",
    "w_range = np.linspace(0, 1, 100)\n",
    "a_range = np.linspace(0.1, 0.24, 100)\n",
    "G_ini_ = get_G_ini(a_range, w_range) \n",
    "ax1.plot(a_range, G_ini_, color='b', label = '$G_{ini}$')\n",
    "ax1.set_xlabel('$a$'); ax1.set_ylabel('$G_{ini}$')\n",
    "ax1.legend()"
   ]
  },
  {
   "cell_type": "code",
   "execution_count": null,
   "metadata": {},
   "outputs": [],
   "source": [
    "fig, ((ax1)) = plt.subplots(1,1,figsize=(7,4))\n",
    "a_range = np.linspace(0.1, 0.24, 100)\n",
    "G_ini_ = get_G_ini(a_range, w_range) \n",
    "G_un_ = get_G_un(a_range)\n",
    "G_I_c_ = get_G_I_c(a_range, w_range)  \n",
    "ax1.plot(a_range, G_ini_, color='b', label = '$G_{ini}$')\n",
    "ax1.plot(a_range, G_un_, color='r', label = '$G_{un}$')\n",
    "ax1.plot(a_range, G_I_c_, color='y', label = '$G_{Ic}$')\n",
    "ax1.set_xlabel('$w$'); ax1.set_ylabel('$G$')\n",
    "ax1.legend()"
   ]
  },
  {
   "cell_type": "code",
   "execution_count": null,
   "metadata": {},
   "outputs": [],
   "source": []
  }
 ],
 "metadata": {
  "kernelspec": {
   "display_name": "Python 3",
   "language": "python",
   "name": "python3"
  },
  "language_info": {
   "codemirror_mode": {
    "name": "ipython",
    "version": 3
   },
   "file_extension": ".py",
   "mimetype": "text/x-python",
   "name": "python",
   "nbconvert_exporter": "python",
   "pygments_lexer": "ipython3",
   "version": "3.7.6"
  },
  "toc": {
   "base_numbering": 1,
   "nav_menu": {},
   "number_sections": true,
   "sideBar": true,
   "skip_h1_title": false,
   "title_cell": "Table of Contents",
   "title_sidebar": "Contents",
   "toc_cell": false,
   "toc_position": {},
   "toc_section_display": true,
   "toc_window_display": false
  }
 },
 "nbformat": 4,
 "nbformat_minor": 4
}
