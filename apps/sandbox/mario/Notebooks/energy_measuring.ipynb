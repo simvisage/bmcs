{
 "cells": [
  {
   "cell_type": "markdown",
   "metadata": {
    "collapsed": true,
    "pycharm": {
     "name": "#%% md\n"
    }
   },
   "source": [
    "# Energy measuring procedure"
   ]
  },
  {
   "cell_type": "code",
   "execution_count": 2,
   "outputs": [],
   "source": [
    "%matplotlib inline\n",
    "\n",
    "import numpy as np\n",
    "import matplotlib.pyplot as plt\n",
    "import scipy.integrate\n",
    "from IPython.display import Image\n",
    "from IPython.core.display import HTML\n"
   ],
   "metadata": {
    "collapsed": false,
    "pycharm": {
     "name": "#%%\n"
    }
   }
  },
  {
   "cell_type": "markdown",
   "source": [
    "## Mathematical condition:\n",
    "\n",
    "- 2 segments p-p+r, q-q+s are intersecting if the cross product of ( p,p+r,q+s) is different than (p,p+r,q),\n",
    "and the cross product of (q,q+s,p) and (q,q+s,p+r) is also different. We see that we need to generate 6 different vectors\n",
    "for checking if two segments are intersecting"
   ],
   "metadata": {
    "collapsed": false,
    "pycharm": {
     "name": "#%% md\n"
    }
   }
  },
  {
   "cell_type": "code",
   "execution_count": 4,
   "outputs": [
    {
     "data": {
      "text/html": "<img src=\"https://i.stack.imgur.com/vD4g5.png\"/>",
      "text/plain": "<IPython.core.display.Image object>"
     },
     "execution_count": 4,
     "metadata": {},
     "output_type": "execute_result"
    }
   ],
   "source": [
    "Image(url=\"https://i.stack.imgur.com/vD4g5.png\")"
   ],
   "metadata": {
    "collapsed": false,
    "pycharm": {
     "name": "#%%\n"
    }
   }
  },
  {
   "cell_type": "markdown",
   "source": [
    "## Recreation of a fictitious loop:"
   ],
   "metadata": {
    "collapsed": false
   }
  },
  {
   "cell_type": "code",
   "execution_count": 5,
   "outputs": [
    {
     "data": {
      "text/plain": "[<matplotlib.lines.Line2D at 0x277156e0700>]"
     },
     "execution_count": 5,
     "metadata": {},
     "output_type": "execute_result"
    },
    {
     "data": {
      "text/plain": "<Figure size 432x288 with 1 Axes>",
      "image/png": "[encoded data removed]"
     },
     "metadata": {
      "needs_background": "light"
     },
     "output_type": "display_data"
    }
   ],
   "source": [
    "# Simulating hysteretic loop\n",
    "\n",
    "x1=np.linspace(0.00,2.,10)\n",
    "x2=np.linspace(2.,2.,20)\n",
    "x3=np.linspace(2.,0.,15)\n",
    "x4=np.linspace(0.00,0.00,30)\n",
    "x5=np.linspace(0.00,2.,20)\n",
    "x_descending=np.concatenate((x1,x2,x3)) # associated to x coordinates of descending branch\n",
    "x_ascending=np.concatenate((x4,x5)) # associated to x coordinates of ascending branch\n",
    "\n",
    "y1=np.linspace(12.,10.,10)\n",
    "y2=np.linspace(10.,0.,20)\n",
    "y3=np.linspace(0.,0.,15)\n",
    "y4=np.linspace(0.,10.,30)\n",
    "y5=np.linspace(10.,12.,20)\n",
    "y_descending=np.concatenate((y1,y2,y3))\n",
    "y_ascending=np.concatenate((y4,y5))\n",
    "\n",
    "plt.plot(np.concatenate((x_descending,x_ascending)),np.concatenate((y_descending,y_ascending)))"
   ],
   "metadata": {
    "collapsed": false,
    "pycharm": {
     "name": "#%%\n"
    }
   }
  },
  {
   "cell_type": "markdown",
   "source": [
    "We select each individual segment of the descending branch, starting from the left side, and apply the described mathematical\n",
    "condition with each of the segments of the ascending branch. Once that the intersection is found, break the loop.\n",
    "Inefficient."
   ],
   "metadata": {
    "collapsed": false
   }
  },
  {
   "cell_type": "code",
   "execution_count": 7,
   "outputs": [
    {
     "data": {
      "text/plain": "<Figure size 432x288 with 1 Axes>",
      "image/png": "[encoded data removed]"
     },
     "metadata": {
      "needs_background": "light"
     },
     "output_type": "display_data"
    },
    {
     "name": "stdout",
     "output_type": "stream",
     "text": [
      "20.504018330426454\n"
     ]
    }
   ],
   "source": [
    "intersect=0\n",
    "for i in range(len(x_descending)-1): #index i for i-th segment of descending branch\n",
    "    vector1 = np.array([x_descending[i+1] - x_descending[i], y_descending[i+1] - y_descending[i]])\n",
    "    #1st of the 6 needed vectors for mathematical condition, p-p+r from example\n",
    "    for j in range(1,len(x_ascending)):\n",
    "        vector2 = np.array([x_ascending[len(x_ascending)-j] - x_descending[i+1], y_ascending[len(y_ascending)-j] - y_descending[i+1]])\n",
    "        vector3 = np.array([x_ascending[len(x_ascending)-j-1] - x_descending[i+1], y_ascending[len(y_ascending)-j-1] - y_descending[i+1]])\n",
    "        vector4 = np.array([x_ascending[len(x_ascending)-j-1] - x_ascending[len(x_ascending)-j], y_ascending[len(y_ascending)-j-1] - y_ascending[len(y_ascending)-j]])\n",
    "        # q-q+s vector from example\n",
    "        vector5 = np.array([x_descending[i] - x_ascending[len(x_ascending)-j-1] , y_descending[i] - y_ascending[len(y_ascending)-j-1]])\n",
    "        vector6 = np.array([x_descending[i+1] - x_ascending[len(x_ascending)-j-1], y_descending[i+1] - y_ascending[len(y_ascending)-j-1]])\n",
    "        d1 = np.cross(vector1,vector2)\n",
    "        d2 = np.cross(vector1,vector3)\n",
    "        d3 = np.cross(vector4,vector5)\n",
    "        d4 = np.cross(vector4,vector6)\n",
    "        # Mathematical condition\n",
    "        if (np.sign(d1) != np.sign(d2)) & (np.sign(d3) != np.sign(d4)):\n",
    "            intersect=1\n",
    "            break\n",
    "    if intersect == 1:\n",
    "        break\n",
    "# Plotting loop\n",
    "plt.plot(np.concatenate((x_descending,x_ascending)),np.concatenate((y_descending,y_ascending)))\n",
    "# Plotting intersection segment from descending branch\n",
    "plt.plot(x_descending[i],y_descending[i],'ro')\n",
    "plt.plot(x_descending[i+1],y_descending[i+1],'ro')\n",
    "# Plotting intersection segment from ascending branch\n",
    "plt.plot(x_ascending[len(x_ascending)-j],y_ascending[len(x_ascending)-j],'go')\n",
    "plt.plot(x_ascending[len(x_ascending)-j-1],y_ascending[len(x_ascending)-j-1],'go')\n",
    "plt.show()"
   ],
   "metadata": {
    "collapsed": false,
    "pycharm": {
     "name": "#%%\n"
    }
   }
  },
  {
   "cell_type": "markdown",
   "source": [
    "In general, the actual intersection point does not exist, so we have to calculate it"
   ],
   "metadata": {
    "collapsed": false,
    "pycharm": {
     "name": "#%% md\n"
    }
   }
  },
  {
   "cell_type": "code",
   "execution_count": 8,
   "outputs": [
    {
     "name": "stdout",
     "output_type": "stream",
     "text": [
      "20.504018330426454\n"
     ]
    },
    {
     "data": {
      "text/plain": "<Figure size 432x288 with 1 Axes>",
      "image/png": "[encoded data removed]"
     },
     "metadata": {
      "needs_background": "light"
     },
     "output_type": "display_data"
    }
   ],
   "source": [
    "def line_intersection(line1, line2):\n",
    "    xdiff = (line1[0][0] - line1[1][0], line2[0][0] - line2[1][0])\n",
    "    ydiff = (line1[0][1] - line1[1][1], line2[0][1] - line2[1][1])\n",
    "\n",
    "    def det(a, b):\n",
    "        return a[0] * b[1] - a[1] * b[0]\n",
    "\n",
    "    div = det(xdiff, ydiff)\n",
    "    if div == 0:\n",
    "       raise Exception('lines do not intersect')\n",
    "\n",
    "    d = (det(*line1), det(*line2))\n",
    "    x = det(d, xdiff) / div\n",
    "    y = det(d, ydiff) / div\n",
    "    return x, y\n",
    "\n",
    "A = (x_descending[i],y_descending[i])\n",
    "B = (x_descending[i+1],y_descending[i+1])\n",
    "C = (x_ascending[len(x_ascending)-j],y_ascending[len(x_ascending)-j])\n",
    "D = (x_ascending[len(x_ascending)-j-1],y_ascending[len(x_ascending)-j-1])\n",
    "\n",
    "inter_x, inter_y = line_intersection((A, B), (C, D))\n",
    "\n",
    "# Plotting loop\n",
    "plt.plot(np.concatenate((x_descending,x_ascending)),np.concatenate((y_descending,y_ascending)))\n",
    "\n",
    "# Plotting intersection\n",
    "\n",
    "plt.plot(inter_x, inter_y, 'ro')"
   ],
   "metadata": {
    "collapsed": false,
    "pycharm": {
     "name": "#%%\n"
    }
   }
  },
  {
   "cell_type": "code",
   "execution_count": 15,
   "outputs": [
    {
     "name": "stdout",
     "output_type": "stream",
     "text": [
      "(1,)\n",
      "21.0\n"
     ]
    }
   ],
   "source": [
    "#Creating array containing just the loop\n",
    "x=np.concatenate((np.array([inter_x]), x_descending[i+1:],x_ascending[:len(x_ascending)-j-1], np.array([inter_x])))\n",
    "y=np.concatenate((np.array([inter_y]), y_descending[i+1:],y_ascending[:len(x_ascending)-j-1], np.array([inter_y])))\n",
    "\n",
    "int=scipy.integrate.cumtrapz(y, x)\n",
    "print(int[-1])\n"
   ],
   "metadata": {
    "collapsed": false,
    "pycharm": {
     "name": "#%%\n"
    }
   }
  },
  {
   "cell_type": "markdown",
   "source": [
    "## Implementation in real example"
   ],
   "metadata": {
    "collapsed": false,
    "pycharm": {
     "name": "#%% md\n"
    }
   }
  },
  {
   "cell_type": "code",
   "execution_count": 8,
   "outputs": [],
   "source": [
    "force_array = np.load('C:\\\\Users\\\\marag\\\\Desktop\\\\energy_test\\\\NPY\\\\BE_C80_24_16_2DS_23033_Kraft.npy')*-1\n",
    "force_max_indices = np.load('C:\\\\Users\\\\marag\\\\Desktop\\\\energy_test\\\\NPY\\\\force_max_indices.npy')\n",
    "force_min_indices = np.load('C:\\\\Users\\\\marag\\\\Desktop\\\\energy_test\\\\NPY\\\\force_min_indices.npy')\n",
    "\n",
    "disp_array = np.abs(np.load('C:\\\\Users\\\\marag\\\\Desktop\\\\energy_test\\\\NPY\\\\BE_C80_24_16_2DS_23033_Weg.npy'))\n",
    "# array_rest_maxima = np.load('C:\\\\Users\\\\maguilar\\\\Energy_dissipation\\\\array_rest_maxima.npy')\n",
    "# array_rest_minima = np.load('C:\\\\Users\\\\maguilar\\\\Energy_dissipation\\\\array_rest_minima.npy')"
   ],
   "metadata": {
    "collapsed": false,
    "pycharm": {
     "name": "#%%\n"
    }
   }
  },
  {
   "cell_type": "code",
   "execution_count": 17,
   "outputs": [
    {
     "data": {
      "text/plain": "<Figure size 1080x864 with 1 Axes>",
      "image/png": "[encoded data removed]"
     },
     "metadata": {
      "needs_background": "light"
     },
     "output_type": "display_data"
    }
   ],
   "source": [
    "f, (ax) = plt.subplots(1, 1, figsize=(15, 12))\n",
    "ax.plot(disp_array[7936:7960],force_array[7936:7960])\n",
    "# plt.plot(disp_array[force_max_indices],force_array[force_max_indices],'bo')\n",
    "# plt.plot(disp_array[force_min_indices],force_array[force_min_indices],'go')\n",
    "\n",
    "\n",
    "# for i in range(len(force_min_indices) - 1):\n",
    "#     x_descending = disp_array[force_max_indices[i]:force_min_indices[i]]\n",
    "#     x_ascending = disp_array[force_min_indices[i]:force_max_indices[i + 1]]\n",
    "#     y_descending = force_array[force_max_indices[i]:force_min_indices[i]]\n",
    "#     y_ascending = force_array[force_min_indices[i]:force_max_indices[i + 1]]\n",
    "#     intersect=0\n",
    "#     for i in range(len(x_descending)-1):\n",
    "#         vector1 = np.array([x_descending[i+1] - x_descending[i], y_descending[i+1] - y_descending[i]])\n",
    "#         for j in range(1,len(x_ascending)):\n",
    "#             vector2 = np.array([x_ascending[len(x_ascending)-j] - x_descending[i+1], y_ascending[len(y_ascending)-j] - y_descending[i+1]])\n",
    "#             vector3 = np.array([x_ascending[len(x_ascending)-j-1] - x_descending[i+1], y_ascending[len(y_ascending)-j-1] - y_descending[i+1]])\n",
    "#             vector4 = np.array([x_ascending[len(x_ascending)-j-1] - x_ascending[len(x_ascending)-j], y_ascending[len(y_ascending)-j-1] - y_ascending[len(y_ascending)-j]])\n",
    "#             vector5 = np.array([x_descending[i] - x_ascending[len(x_ascending)-j-1] , y_descending[i] - y_ascending[len(y_ascending)-j-1]])\n",
    "#             vector6 = np.array([x_descending[i+1] - x_ascending[len(x_ascending)-j-1], y_descending[i+1] - y_ascending[len(y_ascending)-j-1]])\n",
    "#             d1 = np.cross(vector1,vector2)\n",
    "#             d2 = np.cross(vector1,vector3)\n",
    "#             d3 = np.cross(vector4,vector5)\n",
    "#             d4 = np.cross(vector4,vector6)\n",
    "#             if (np.sign(d1) != np.sign(d2)) & (np.sign(d3) != np.sign(d4)):\n",
    "#                 intersect=1\n",
    "#                 break\n",
    "#         if intersect == 1:\n",
    "#             break\n",
    "#     plt.plot(x_descending[i],y_descending[i],'ro')\n",
    "#     plt.plot(x_descending[i+1],y_descending[i+1],'ro')\n",
    "#     plt.plot(x_ascending[len(x_ascending)-j],y_ascending[len(x_ascending)-j],'go')\n",
    "#     plt.plot(x_ascending[len(x_ascending)-j-1],y_ascending[len(x_ascending)-j-1],'go')\n",
    "plt.show()"
   ],
   "metadata": {
    "collapsed": false,
    "pycharm": {
     "name": "#%%\n"
    }
   }
  },
  {
   "cell_type": "code",
   "execution_count": null,
   "outputs": [],
   "source": [],
   "metadata": {
    "collapsed": false,
    "pycharm": {
     "name": "#%%\n"
    }
   }
  }
 ],
 "metadata": {
  "kernelspec": {
   "display_name": "Python 3",
   "language": "python",
   "name": "python3"
  },
  "language_info": {
   "codemirror_mode": {
    "name": "ipython",
    "version": 2
   },
   "file_extension": ".py",
   "mimetype": "text/x-python",
   "name": "python",
   "nbconvert_exporter": "python",
   "pygments_lexer": "ipython2",
   "version": "2.7.6"
  }
 },
 "nbformat": 4,
 "nbformat_minor": 0
}